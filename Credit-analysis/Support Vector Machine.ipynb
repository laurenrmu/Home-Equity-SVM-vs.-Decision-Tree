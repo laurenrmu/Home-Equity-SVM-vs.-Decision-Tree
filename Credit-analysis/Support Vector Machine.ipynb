{
 "cells": [
  {
   "cell_type": "code",
   "execution_count": null,
   "metadata": {},
   "outputs": [],
   "source": []
  },
  {
   "cell_type": "code",
   "execution_count": 1,
   "metadata": {},
   "outputs": [
    {
     "data": {
      "text/plain": [
       "[<matplotlib.lines.Line2D at 0x20417357b38>]"
      ]
     },
     "execution_count": 1,
     "metadata": {},
     "output_type": "execute_result"
    },
    {
     "data": {
      "image/png": "[encoded data removed]",
      "text/plain": [
       "<Figure size 432x288 with 1 Axes>"
      ]
     },
     "metadata": {
      "needs_background": "light"
     },
     "output_type": "display_data"
    }
   ],
   "source": [
    "import numpy as np\n",
    "import pandas as pd\n",
    "\n",
    "from sklearn import svm\n",
    "import matplotlib.pyplot as plt\n",
    "from sklearn.metrics import classification_report, confusion_matrix\n",
    "from sklearn.model_selection import GridSearchCV\n",
    "from sklearn.svm import SVC\n",
    "from sklearn.decomposition import PCA\n",
    "\n",
    " \n",
    "\n",
    "train = pd.read_csv('C:/Users/laure/Credit-analysis/train_x.csv')\n",
    "test=  pd.read_csv('C:/Users/laure/Credit-analysis/test_x.csv')\n",
    "validation=  pd.read_csv('C:/Users/laure/Credit-analysis/validation_x.csv')\n",
    "\n",
    "train_y =  pd.read_csv('C:/Users/laure/Credit-analysis/train_y.csv')\n",
    "test_y = pd.read_csv('C:/Users/laure/Credit-analysis/test_y.csv')\n",
    "validation_y =  pd.read_csv('C:/Users/laure/Credit-analysis/validation_y.csv')\n",
    "col_names = train.columns.values.tolist()\n",
    "\n",
    "\n",
    "\n",
    "\n",
    "\n",
    "\n",
    "#plot explained variance ratio to decide number of PCA components\n",
    "\n",
    "pca =PCA(n_components  =19)\n",
    "pca.fit(train.astype(float))\n",
    "evr = pca.explained_variance_ratio_\n",
    "plt.xticks(range(0,19,2))\n",
    "plt.plot( range(1,20,1),evr)\n",
    "\n",
    "\n",
    "\n"
   ]
  },
  {
   "cell_type": "code",
   "execution_count": 2,
   "metadata": {},
   "outputs": [],
   "source": [
    "#PCA transform data using 6 components\n",
    "pca = PCA(n_components = 6)\n",
    "\n",
    "train_pca =pca.fit_transform(train)\n",
    "val_pca = pca.fit_transform(validation)\n",
    "test_pca = pca.fit_transform(test)\n"
   ]
  },
  {
   "cell_type": "code",
   "execution_count": 3,
   "metadata": {},
   "outputs": [
    {
     "name": "stdout",
     "output_type": "stream",
     "text": [
      "Fitting 5 folds for each of 320 candidates, totalling 1600 fits\n",
      "[CV] C=0.5, degree=2, gamma=1, kernel=linear .........................\n",
      "[CV] .......... C=0.5, degree=2, gamma=1, kernel=linear, total=   0.0s\n",
      "[CV] C=0.5, degree=2, gamma=1, kernel=linear .........................\n",
      "[CV] .......... C=0.5, degree=2, gamma=1, kernel=linear, total=   0.0s\n",
      "[CV] C=0.5, degree=2, gamma=1, kernel=linear .........................\n",
      "[CV] .......... C=0.5, degree=2, gamma=1, kernel=linear, total=   0.0s\n",
      "[CV] C=0.5, degree=2, gamma=1, kernel=linear .........................\n",
      "[CV] .......... C=0.5, degree=2, gamma=1, kernel=linear, total=   0.0s\n",
      "[CV] C=0.5, degree=2, gamma=1, kernel=linear .........................\n",
      "[CV] .......... C=0.5, degree=2, gamma=1, kernel=linear, total=   0.0s\n",
      "[CV] C=0.5, degree=2, gamma=1, kernel=rbf ............................\n",
      "[CV] ............. C=0.5, degree=2, gamma=1, kernel=rbf, total=   0.0s\n",
      "[CV] C=0.5, degree=2, gamma=1, kernel=rbf ............................\n",
      "[CV] ............. C=0.5, degree=2, gamma=1, kernel=rbf, total=   0.0s\n",
      "[CV] C=0.5, degree=2, gamma=1, kernel=rbf ............................\n",
      "[CV] ............. C=0.5, degree=2, gamma=1, kernel=rbf, total=   0.0s\n",
      "[CV] C=0.5, degree=2, gamma=1, kernel=rbf ............................\n",
      "[CV] ............. C=0.5, degree=2, gamma=1, kernel=rbf, total=   0.0s\n",
      "[CV] C=0.5, degree=2, gamma=1, kernel=rbf ............................\n",
      "[CV] ............. C=0.5, degree=2, gamma=1, kernel=rbf, total=   0.0s\n",
      "[CV] C=0.5, degree=2, gamma=1, kernel=poly ...........................\n",
      "[CV] ............ C=0.5, degree=2, gamma=1, kernel=poly, total=   0.0s\n",
      "[CV] C=0.5, degree=2, gamma=1, kernel=poly ...........................\n",
      "[CV] ............ C=0.5, degree=2, gamma=1, kernel=poly, total=   0.0s\n",
      "[CV] C=0.5, degree=2, gamma=1, kernel=poly ...........................\n",
      "[CV] ............ C=0.5, degree=2, gamma=1, kernel=poly, total=   0.0s\n",
      "[CV] C=0.5, degree=2, gamma=1, kernel=poly ...........................\n",
      "[CV] ............ C=0.5, degree=2, gamma=1, kernel=poly, total=   0.0s\n",
      "[CV] C=0.5, degree=2, gamma=1, kernel=poly ...........................\n"
     ]
    },
    {
     "name": "stderr",
     "output_type": "stream",
     "text": [
      "[Parallel(n_jobs=1)]: Using backend SequentialBackend with 1 concurrent workers.\n",
      "C:\\Users\\laure\\Anaconda3\\envs\\myenv\\lib\\site-packages\\sklearn\\utils\\validation.py:760: DataConversionWarning: A column-vector y was passed when a 1d array was expected. Please change the shape of y to (n_samples, ), for example using ravel().\n",
      "  y = column_or_1d(y, warn=True)\n",
      "[Parallel(n_jobs=1)]: Done   1 out of   1 | elapsed:    0.0s remaining:    0.0s\n",
      "C:\\Users\\laure\\Anaconda3\\envs\\myenv\\lib\\site-packages\\sklearn\\utils\\validation.py:760: DataConversionWarning: A column-vector y was passed when a 1d array was expected. Please change the shape of y to (n_samples, ), for example using ravel().\n",
      "  y = column_or_1d(y, warn=True)\n",
      "C:\\Users\\laure\\Anaconda3\\envs\\myenv\\lib\\site-packages\\sklearn\\utils\\validation.py:760: DataConversionWarning: A column-vector y was passed when a 1d array was expected. Please change the shape of y to (n_samples, ), for example using ravel().\n",
      "  y = column_or_1d(y, warn=True)\n",
      "C:\\Users\\laure\\Anaconda3\\envs\\myenv\\lib\\site-packages\\sklearn\\utils\\validation.py:760: DataConversionWarning: A column-vector y was passed when a 1d array was expected. Please change the shape of y to (n_samples, ), for example using ravel().\n",
      "  y = column_or_1d(y, warn=True)\n",
      "C:\\Users\\laure\\Anaconda3\\envs\\myenv\\lib\\site-packages\\sklearn\\utils\\validation.py:760: DataConversionWarning: A column-vector y was passed when a 1d array was expected. Please change the shape of y to (n_samples, ), for example using ravel().\n",
      "  y = column_or_1d(y, warn=True)\n",
      "C:\\Users\\laure\\Anaconda3\\envs\\myenv\\lib\\site-packages\\sklearn\\utils\\validation.py:760: DataConversionWarning: A column-vector y was passed when a 1d array was expected. Please change the shape of y to (n_samples, ), for example using ravel().\n",
      "  y = column_or_1d(y, warn=True)\n",
      "C:\\Users\\laure\\Anaconda3\\envs\\myenv\\lib\\site-packages\\sklearn\\utils\\validation.py:760: DataConversionWarning: A column-vector y was passed when a 1d array was expected. Please change the shape of y to (n_samples, ), for example using ravel().\n",
      "  y = column_or_1d(y, warn=True)\n",
      "C:\\Users\\laure\\Anaconda3\\envs\\myenv\\lib\\site-packages\\sklearn\\utils\\validation.py:760: DataConversionWarning: A column-vector y was passed when a 1d array was expected. Please change the shape of y to (n_samples, ), for example using ravel().\n",
      "  y = column_or_1d(y, warn=True)\n",
      "C:\\Users\\laure\\Anaconda3\\envs\\myenv\\lib\\site-packages\\sklearn\\utils\\validation.py:760: DataConversionWarning: A column-vector y was passed when a 1d array was expected. Please change the shape of y to (n_samples, ), for example using ravel().\n",
      "  y = column_or_1d(y, warn=True)\n",
      "C:\\Users\\laure\\Anaconda3\\envs\\myenv\\lib\\site-packages\\sklearn\\utils\\validation.py:760: DataConversionWarning: A column-vector y was passed when a 1d array was expected. Please change the shape of y to (n_samples, ), for example using ravel().\n",
      "  y = column_or_1d(y, warn=True)\n",
      "C:\\Users\\laure\\Anaconda3\\envs\\myenv\\lib\\site-packages\\sklearn\\utils\\validation.py:760: DataConversionWarning: A column-vector y was passed when a 1d array was expected. Please change the shape of y to (n_samples, ), for example using ravel().\n",
      "  y = column_or_1d(y, warn=True)\n",
      "C:\\Users\\laure\\Anaconda3\\envs\\myenv\\lib\\site-packages\\sklearn\\utils\\validation.py:760: DataConversionWarning: A column-vector y was passed when a 1d array was expected. Please change the shape of y to (n_samples, ), for example using ravel().\n",
      "  y = column_or_1d(y, warn=True)\n",
      "C:\\Users\\laure\\Anaconda3\\envs\\myenv\\lib\\site-packages\\sklearn\\utils\\validation.py:760: DataConversionWarning: A column-vector y was passed when a 1d array was expected. Please change the shape of y to (n_samples, ), for example using ravel().\n",
      "  y = column_or_1d(y, warn=True)\n",
      "C:\\Users\\laure\\Anaconda3\\envs\\myenv\\lib\\site-packages\\sklearn\\utils\\validation.py:760: DataConversionWarning: A column-vector y was passed when a 1d array was expected. Please change the shape of y to (n_samples, ), for example using ravel().\n",
      "  y = column_or_1d(y, warn=True)\n",
      "C:\\Users\\laure\\Anaconda3\\envs\\myenv\\lib\\site-packages\\sklearn\\utils\\validation.py:760: DataConversionWarning: A column-vector y was passed when a 1d array was expected. Please change the shape of y to (n_samples, ), for example using ravel().\n",
      "  y = column_or_1d(y, warn=True)\n",
      "C:\\Users\\laure\\Anaconda3\\envs\\myenv\\lib\\site-packages\\sklearn\\utils\\validation.py:760: DataConversionWarning: A column-vector y was passed when a 1d array was expected. Please change the shape of y to (n_samples, ), for example using ravel().\n",
      "  y = column_or_1d(y, warn=True)\n",
      "C:\\Users\\laure\\Anaconda3\\envs\\myenv\\lib\\site-packages\\sklearn\\utils\\validation.py:760: DataConversionWarning: A column-vector y was passed when a 1d array was expected. Please change the shape of y to (n_samples, ), for example using ravel().\n",
      "  y = column_or_1d(y, warn=True)\n",
      "C:\\Users\\laure\\Anaconda3\\envs\\myenv\\lib\\site-packages\\sklearn\\utils\\validation.py:760: DataConversionWarning: A column-vector y was passed when a 1d array was expected. Please change the shape of y to (n_samples, ), for example using ravel().\n",
      "  y = column_or_1d(y, warn=True)\n",
      "C:\\Users\\laure\\Anaconda3\\envs\\myenv\\lib\\site-packages\\sklearn\\utils\\validation.py:760: DataConversionWarning: A column-vector y was passed when a 1d array was expected. Please change the shape of y to (n_samples, ), for example using ravel().\n",
      "  y = column_or_1d(y, warn=True)\n",
      "C:\\Users\\laure\\Anaconda3\\envs\\myenv\\lib\\site-packages\\sklearn\\utils\\validation.py:760: DataConversionWarning: A column-vector y was passed when a 1d array was expected. Please change the shape of y to (n_samples, ), for example using ravel().\n",
      "  y = column_or_1d(y, warn=True)\n",
      "C:\\Users\\laure\\Anaconda3\\envs\\myenv\\lib\\site-packages\\sklearn\\utils\\validation.py:760: DataConversionWarning: A column-vector y was passed when a 1d array was expected. Please change the shape of y to (n_samples, ), for example using ravel().\n",
      "  y = column_or_1d(y, warn=True)\n",
      "C:\\Users\\laure\\Anaconda3\\envs\\myenv\\lib\\site-packages\\sklearn\\utils\\validation.py:760: DataConversionWarning: A column-vector y was passed when a 1d array was expected. Please change the shape of y to (n_samples, ), for example using ravel().\n",
      "  y = column_or_1d(y, warn=True)\n",
      "C:\\Users\\laure\\Anaconda3\\envs\\myenv\\lib\\site-packages\\sklearn\\utils\\validation.py:760: DataConversionWarning: A column-vector y was passed when a 1d array was expected. Please change the shape of y to (n_samples, ), for example using ravel().\n",
      "  y = column_or_1d(y, warn=True)\n",
      "C:\\Users\\laure\\Anaconda3\\envs\\myenv\\lib\\site-packages\\sklearn\\utils\\validation.py:760: DataConversionWarning: A column-vector y was passed when a 1d array was expected. Please change the shape of y to (n_samples, ), for example using ravel().\n",
      "  y = column_or_1d(y, warn=True)\n",
      "C:\\Users\\laure\\Anaconda3\\envs\\myenv\\lib\\site-packages\\sklearn\\utils\\validation.py:760: DataConversionWarning: A column-vector y was passed when a 1d array was expected. Please change the shape of y to (n_samples, ), for example using ravel().\n",
      "  y = column_or_1d(y, warn=True)\n",
      "C:\\Users\\laure\\Anaconda3\\envs\\myenv\\lib\\site-packages\\sklearn\\utils\\validation.py:760: DataConversionWarning: A column-vector y was passed when a 1d array was expected. Please change the shape of y to (n_samples, ), for example using ravel().\n",
      "  y = column_or_1d(y, warn=True)\n",
      "C:\\Users\\laure\\Anaconda3\\envs\\myenv\\lib\\site-packages\\sklearn\\utils\\validation.py:760: DataConversionWarning: A column-vector y was passed when a 1d array was expected. Please change the shape of y to (n_samples, ), for example using ravel().\n",
      "  y = column_or_1d(y, warn=True)\n",
      "C:\\Users\\laure\\Anaconda3\\envs\\myenv\\lib\\site-packages\\sklearn\\utils\\validation.py:760: DataConversionWarning: A column-vector y was passed when a 1d array was expected. Please change the shape of y to (n_samples, ), for example using ravel().\n",
      "  y = column_or_1d(y, warn=True)\n",
      "C:\\Users\\laure\\Anaconda3\\envs\\myenv\\lib\\site-packages\\sklearn\\utils\\validation.py:760: DataConversionWarning: A column-vector y was passed when a 1d array was expected. Please change the shape of y to (n_samples, ), for example using ravel().\n",
      "  y = column_or_1d(y, warn=True)\n"
     ]
    },
    {
     "name": "stdout",
     "output_type": "stream",
     "text": [
      "[CV] ............ C=0.5, degree=2, gamma=1, kernel=poly, total=   0.0s\n",
      "[CV] C=0.5, degree=2, gamma=1, kernel=sigmoid ........................\n",
      "[CV] ......... C=0.5, degree=2, gamma=1, kernel=sigmoid, total=   0.0s\n",
      "[CV] C=0.5, degree=2, gamma=1, kernel=sigmoid ........................\n",
      "[CV] ......... C=0.5, degree=2, gamma=1, kernel=sigmoid, total=   0.0s\n",
      "[CV] C=0.5, degree=2, gamma=1, kernel=sigmoid ........................\n",
      "[CV] ......... C=0.5, degree=2, gamma=1, kernel=sigmoid, total=   0.0s\n",
      "[CV] C=0.5, degree=2, gamma=1, kernel=sigmoid ........................\n",
      "[CV] ......... C=0.5, degree=2, gamma=1, kernel=sigmoid, total=   0.0s\n",
      "[CV] C=0.5, degree=2, gamma=1, kernel=sigmoid ........................\n",
      "[CV] ......... C=0.5, degree=2, gamma=1, kernel=sigmoid, total=   0.0s\n",
      "[CV] C=0.5, degree=2, gamma=0.1, kernel=linear .......................\n",
      "[CV] ........ C=0.5, degree=2, gamma=0.1, kernel=linear, total=   0.0s\n",
      "[CV] C=0.5, degree=2, gamma=0.1, kernel=linear .......................\n",
      "[CV] ........ C=0.5, degree=2, gamma=0.1, kernel=linear, total=   0.0s\n",
      "[CV] C=0.5, degree=2, gamma=0.1, kernel=linear .......................\n",
      "[CV] ........ C=0.5, degree=2, gamma=0.1, kernel=linear, total=   0.0s\n",
      "[CV] C=0.5, degree=2, gamma=0.1, kernel=linear .......................\n",
      "[CV] ........ C=0.5, degree=2, gamma=0.1, kernel=linear, total=   0.0s\n",
      "[CV] C=0.5, degree=2, gamma=0.1, kernel=linear .......................\n",
      "[CV] ........ C=0.5, degree=2, gamma=0.1, kernel=linear, total=   0.0s\n",
      "[CV] C=0.5, degree=2, gamma=0.1, kernel=rbf ..........................\n",
      "[CV] ........... C=0.5, degree=2, gamma=0.1, kernel=rbf, total=   0.0s\n",
      "[CV] C=0.5, degree=2, gamma=0.1, kernel=rbf ..........................\n",
      "[CV] ........... C=0.5, degree=2, gamma=0.1, kernel=rbf, total=   0.0s\n",
      "[CV] C=0.5, degree=2, gamma=0.1, kernel=rbf ..........................\n",
      "[CV] ........... C=0.5, degree=2, gamma=0.1, kernel=rbf, total=   0.0s\n",
      "[CV] C=0.5, degree=2, gamma=0.1, kernel=rbf ..........................\n",
      "[CV] ........... C=0.5, degree=2, gamma=0.1, kernel=rbf, total=   0.0s\n",
      "[CV] C=0.5, degree=2, gamma=0.1, kernel=rbf ..........................\n"
     ]
    },
    {
     "name": "stderr",
     "output_type": "stream",
     "text": [
      "C:\\Users\\laure\\Anaconda3\\envs\\myenv\\lib\\site-packages\\sklearn\\utils\\validation.py:760: DataConversionWarning: A column-vector y was passed when a 1d array was expected. Please change the shape of y to (n_samples, ), for example using ravel().\n",
      "  y = column_or_1d(y, warn=True)\n",
      "C:\\Users\\laure\\Anaconda3\\envs\\myenv\\lib\\site-packages\\sklearn\\utils\\validation.py:760: DataConversionWarning: A column-vector y was passed when a 1d array was expected. Please change the shape of y to (n_samples, ), for example using ravel().\n",
      "  y = column_or_1d(y, warn=True)\n",
      "C:\\Users\\laure\\Anaconda3\\envs\\myenv\\lib\\site-packages\\sklearn\\utils\\validation.py:760: DataConversionWarning: A column-vector y was passed when a 1d array was expected. Please change the shape of y to (n_samples, ), for example using ravel().\n",
      "  y = column_or_1d(y, warn=True)\n"
     ]
    },
    {
     "name": "stdout",
     "output_type": "stream",
     "text": [
      "[CV] ........... C=0.5, degree=2, gamma=0.1, kernel=rbf, total=   0.0s\n",
      "[CV] C=0.5, degree=2, gamma=0.1, kernel=poly .........................\n",
      "[CV] .......... C=0.5, degree=2, gamma=0.1, kernel=poly, total=   0.1s\n",
      "[CV] C=0.5, degree=2, gamma=0.1, kernel=poly .........................\n",
      "[CV] .......... C=0.5, degree=2, gamma=0.1, kernel=poly, total=   0.2s\n",
      "[CV] C=0.5, degree=2, gamma=0.1, kernel=poly .........................\n",
      "[CV] .......... C=0.5, degree=2, gamma=0.1, kernel=poly, total=   0.2s\n",
      "[CV] C=0.5, degree=2, gamma=0.1, kernel=poly .........................\n"
     ]
    },
    {
     "name": "stderr",
     "output_type": "stream",
     "text": [
      "C:\\Users\\laure\\Anaconda3\\envs\\myenv\\lib\\site-packages\\sklearn\\utils\\validation.py:760: DataConversionWarning: A column-vector y was passed when a 1d array was expected. Please change the shape of y to (n_samples, ), for example using ravel().\n",
      "  y = column_or_1d(y, warn=True)\n",
      "C:\\Users\\laure\\Anaconda3\\envs\\myenv\\lib\\site-packages\\sklearn\\utils\\validation.py:760: DataConversionWarning: A column-vector y was passed when a 1d array was expected. Please change the shape of y to (n_samples, ), for example using ravel().\n",
      "  y = column_or_1d(y, warn=True)\n"
     ]
    },
    {
     "name": "stdout",
     "output_type": "stream",
     "text": [
      "[CV] .......... C=0.5, degree=2, gamma=0.1, kernel=poly, total=   0.2s\n",
      "[CV] C=0.5, degree=2, gamma=0.1, kernel=poly .........................\n",
      "[CV] .......... C=0.5, degree=2, gamma=0.1, kernel=poly, total=   0.2s\n",
      "[CV] C=0.5, degree=2, gamma=0.1, kernel=sigmoid ......................\n"
     ]
    },
    {
     "name": "stderr",
     "output_type": "stream",
     "text": [
      "C:\\Users\\laure\\Anaconda3\\envs\\myenv\\lib\\site-packages\\sklearn\\utils\\validation.py:760: DataConversionWarning: A column-vector y was passed when a 1d array was expected. Please change the shape of y to (n_samples, ), for example using ravel().\n",
      "  y = column_or_1d(y, warn=True)\n",
      "C:\\Users\\laure\\Anaconda3\\envs\\myenv\\lib\\site-packages\\sklearn\\utils\\validation.py:760: DataConversionWarning: A column-vector y was passed when a 1d array was expected. Please change the shape of y to (n_samples, ), for example using ravel().\n",
      "  y = column_or_1d(y, warn=True)\n"
     ]
    },
    {
     "name": "stdout",
     "output_type": "stream",
     "text": [
      "[CV] ....... C=0.5, degree=2, gamma=0.1, kernel=sigmoid, total=   0.0s\n",
      "[CV] C=0.5, degree=2, gamma=0.1, kernel=sigmoid ......................\n",
      "[CV] ....... C=0.5, degree=2, gamma=0.1, kernel=sigmoid, total=   0.0s\n",
      "[CV] C=0.5, degree=2, gamma=0.1, kernel=sigmoid ......................\n",
      "[CV] ....... C=0.5, degree=2, gamma=0.1, kernel=sigmoid, total=   0.0s\n",
      "[CV] C=0.5, degree=2, gamma=0.1, kernel=sigmoid ......................\n",
      "[CV] ....... C=0.5, degree=2, gamma=0.1, kernel=sigmoid, total=   0.1s\n",
      "[CV] C=0.5, degree=2, gamma=0.1, kernel=sigmoid ......................\n",
      "[CV] ....... C=0.5, degree=2, gamma=0.1, kernel=sigmoid, total=   0.0s\n",
      "[CV] C=0.5, degree=2, gamma=0.01, kernel=linear ......................\n",
      "[CV] ....... C=0.5, degree=2, gamma=0.01, kernel=linear, total=   0.0s\n",
      "[CV] C=0.5, degree=2, gamma=0.01, kernel=linear ......................\n",
      "[CV] ....... C=0.5, degree=2, gamma=0.01, kernel=linear, total=   0.0s\n",
      "[CV] C=0.5, degree=2, gamma=0.01, kernel=linear ......................\n"
     ]
    },
    {
     "name": "stderr",
     "output_type": "stream",
     "text": [
      "C:\\Users\\laure\\Anaconda3\\envs\\myenv\\lib\\site-packages\\sklearn\\utils\\validation.py:760: DataConversionWarning: A column-vector y was passed when a 1d array was expected. Please change the shape of y to (n_samples, ), for example using ravel().\n",
      "  y = column_or_1d(y, warn=True)\n",
      "C:\\Users\\laure\\Anaconda3\\envs\\myenv\\lib\\site-packages\\sklearn\\utils\\validation.py:760: DataConversionWarning: A column-vector y was passed when a 1d array was expected. Please change the shape of y to (n_samples, ), for example using ravel().\n",
      "  y = column_or_1d(y, warn=True)\n",
      "C:\\Users\\laure\\Anaconda3\\envs\\myenv\\lib\\site-packages\\sklearn\\utils\\validation.py:760: DataConversionWarning: A column-vector y was passed when a 1d array was expected. Please change the shape of y to (n_samples, ), for example using ravel().\n",
      "  y = column_or_1d(y, warn=True)\n",
      "C:\\Users\\laure\\Anaconda3\\envs\\myenv\\lib\\site-packages\\sklearn\\utils\\validation.py:760: DataConversionWarning: A column-vector y was passed when a 1d array was expected. Please change the shape of y to (n_samples, ), for example using ravel().\n",
      "  y = column_or_1d(y, warn=True)\n",
      "C:\\Users\\laure\\Anaconda3\\envs\\myenv\\lib\\site-packages\\sklearn\\utils\\validation.py:760: DataConversionWarning: A column-vector y was passed when a 1d array was expected. Please change the shape of y to (n_samples, ), for example using ravel().\n",
      "  y = column_or_1d(y, warn=True)\n",
      "C:\\Users\\laure\\Anaconda3\\envs\\myenv\\lib\\site-packages\\sklearn\\utils\\validation.py:760: DataConversionWarning: A column-vector y was passed when a 1d array was expected. Please change the shape of y to (n_samples, ), for example using ravel().\n",
      "  y = column_or_1d(y, warn=True)\n",
      "C:\\Users\\laure\\Anaconda3\\envs\\myenv\\lib\\site-packages\\sklearn\\utils\\validation.py:760: DataConversionWarning: A column-vector y was passed when a 1d array was expected. Please change the shape of y to (n_samples, ), for example using ravel().\n",
      "  y = column_or_1d(y, warn=True)\n",
      "C:\\Users\\laure\\Anaconda3\\envs\\myenv\\lib\\site-packages\\sklearn\\utils\\validation.py:760: DataConversionWarning: A column-vector y was passed when a 1d array was expected. Please change the shape of y to (n_samples, ), for example using ravel().\n",
      "  y = column_or_1d(y, warn=True)\n",
      "C:\\Users\\laure\\Anaconda3\\envs\\myenv\\lib\\site-packages\\sklearn\\utils\\validation.py:760: DataConversionWarning: A column-vector y was passed when a 1d array was expected. Please change the shape of y to (n_samples, ), for example using ravel().\n",
      "  y = column_or_1d(y, warn=True)\n",
      "C:\\Users\\laure\\Anaconda3\\envs\\myenv\\lib\\site-packages\\sklearn\\utils\\validation.py:760: DataConversionWarning: A column-vector y was passed when a 1d array was expected. Please change the shape of y to (n_samples, ), for example using ravel().\n",
      "  y = column_or_1d(y, warn=True)\n",
      "C:\\Users\\laure\\Anaconda3\\envs\\myenv\\lib\\site-packages\\sklearn\\utils\\validation.py:760: DataConversionWarning: A column-vector y was passed when a 1d array was expected. Please change the shape of y to (n_samples, ), for example using ravel().\n",
      "  y = column_or_1d(y, warn=True)\n"
     ]
    },
    {
     "name": "stdout",
     "output_type": "stream",
     "text": [
      "[CV] ....... C=0.5, degree=2, gamma=0.01, kernel=linear, total=   0.0s\n",
      "[CV] C=0.5, degree=2, gamma=0.01, kernel=linear ......................\n",
      "[CV] ....... C=0.5, degree=2, gamma=0.01, kernel=linear, total=   0.0s\n",
      "[CV] C=0.5, degree=2, gamma=0.01, kernel=linear ......................\n",
      "[CV] ....... C=0.5, degree=2, gamma=0.01, kernel=linear, total=   0.0s\n",
      "[CV] C=0.5, degree=2, gamma=0.01, kernel=rbf .........................\n",
      "[CV] .......... C=0.5, degree=2, gamma=0.01, kernel=rbf, total=   0.1s\n",
      "[CV] C=0.5, degree=2, gamma=0.01, kernel=rbf .........................\n",
      "[CV] .......... C=0.5, degree=2, gamma=0.01, kernel=rbf, total=   0.1s\n",
      "[CV] C=0.5, degree=2, gamma=0.01, kernel=rbf .........................\n",
      "[CV] .......... C=0.5, degree=2, gamma=0.01, kernel=rbf, total=   0.1s\n",
      "[CV] C=0.5, degree=2, gamma=0.01, kernel=rbf .........................\n"
     ]
    },
    {
     "name": "stderr",
     "output_type": "stream",
     "text": [
      "C:\\Users\\laure\\Anaconda3\\envs\\myenv\\lib\\site-packages\\sklearn\\utils\\validation.py:760: DataConversionWarning: A column-vector y was passed when a 1d array was expected. Please change the shape of y to (n_samples, ), for example using ravel().\n",
      "  y = column_or_1d(y, warn=True)\n",
      "C:\\Users\\laure\\Anaconda3\\envs\\myenv\\lib\\site-packages\\sklearn\\utils\\validation.py:760: DataConversionWarning: A column-vector y was passed when a 1d array was expected. Please change the shape of y to (n_samples, ), for example using ravel().\n",
      "  y = column_or_1d(y, warn=True)\n"
     ]
    },
    {
     "name": "stdout",
     "output_type": "stream",
     "text": [
      "[CV] .......... C=0.5, degree=2, gamma=0.01, kernel=rbf, total=   0.1s\n",
      "[CV] C=0.5, degree=2, gamma=0.01, kernel=rbf .........................\n",
      "[CV] .......... C=0.5, degree=2, gamma=0.01, kernel=rbf, total=   0.1s\n",
      "[CV] C=0.5, degree=2, gamma=0.01, kernel=poly ........................\n"
     ]
    },
    {
     "name": "stderr",
     "output_type": "stream",
     "text": [
      "C:\\Users\\laure\\Anaconda3\\envs\\myenv\\lib\\site-packages\\sklearn\\utils\\validation.py:760: DataConversionWarning: A column-vector y was passed when a 1d array was expected. Please change the shape of y to (n_samples, ), for example using ravel().\n",
      "  y = column_or_1d(y, warn=True)\n",
      "C:\\Users\\laure\\Anaconda3\\envs\\myenv\\lib\\site-packages\\sklearn\\utils\\validation.py:760: DataConversionWarning: A column-vector y was passed when a 1d array was expected. Please change the shape of y to (n_samples, ), for example using ravel().\n",
      "  y = column_or_1d(y, warn=True)\n"
     ]
    },
    {
     "name": "stdout",
     "output_type": "stream",
     "text": [
      "[CV] ......... C=0.5, degree=2, gamma=0.01, kernel=poly, total=   0.2s\n",
      "[CV] C=0.5, degree=2, gamma=0.01, kernel=poly ........................\n",
      "[CV] ......... C=0.5, degree=2, gamma=0.01, kernel=poly, total=   0.2s\n",
      "[CV] C=0.5, degree=2, gamma=0.01, kernel=poly ........................\n"
     ]
    },
    {
     "name": "stderr",
     "output_type": "stream",
     "text": [
      "C:\\Users\\laure\\Anaconda3\\envs\\myenv\\lib\\site-packages\\sklearn\\utils\\validation.py:760: DataConversionWarning: A column-vector y was passed when a 1d array was expected. Please change the shape of y to (n_samples, ), for example using ravel().\n",
      "  y = column_or_1d(y, warn=True)\n",
      "C:\\Users\\laure\\Anaconda3\\envs\\myenv\\lib\\site-packages\\sklearn\\utils\\validation.py:760: DataConversionWarning: A column-vector y was passed when a 1d array was expected. Please change the shape of y to (n_samples, ), for example using ravel().\n",
      "  y = column_or_1d(y, warn=True)\n"
     ]
    },
    {
     "name": "stdout",
     "output_type": "stream",
     "text": [
      "[CV] ......... C=0.5, degree=2, gamma=0.01, kernel=poly, total=   0.1s\n",
      "[CV] C=0.5, degree=2, gamma=0.01, kernel=poly ........................\n",
      "[CV] ......... C=0.5, degree=2, gamma=0.01, kernel=poly, total=   0.2s\n",
      "[CV] C=0.5, degree=2, gamma=0.01, kernel=poly ........................\n"
     ]
    },
    {
     "name": "stderr",
     "output_type": "stream",
     "text": [
      "C:\\Users\\laure\\Anaconda3\\envs\\myenv\\lib\\site-packages\\sklearn\\utils\\validation.py:760: DataConversionWarning: A column-vector y was passed when a 1d array was expected. Please change the shape of y to (n_samples, ), for example using ravel().\n",
      "  y = column_or_1d(y, warn=True)\n",
      "C:\\Users\\laure\\Anaconda3\\envs\\myenv\\lib\\site-packages\\sklearn\\utils\\validation.py:760: DataConversionWarning: A column-vector y was passed when a 1d array was expected. Please change the shape of y to (n_samples, ), for example using ravel().\n",
      "  y = column_or_1d(y, warn=True)\n"
     ]
    },
    {
     "name": "stdout",
     "output_type": "stream",
     "text": [
      "[CV] ......... C=0.5, degree=2, gamma=0.01, kernel=poly, total=   0.2s\n",
      "[CV] C=0.5, degree=2, gamma=0.01, kernel=sigmoid .....................\n",
      "[CV] ...... C=0.5, degree=2, gamma=0.01, kernel=sigmoid, total=   0.2s"
     ]
    },
    {
     "name": "stderr",
     "output_type": "stream",
     "text": [
      "C:\\Users\\laure\\Anaconda3\\envs\\myenv\\lib\\site-packages\\sklearn\\utils\\validation.py:760: DataConversionWarning: A column-vector y was passed when a 1d array was expected. Please change the shape of y to (n_samples, ), for example using ravel().\n",
      "  y = column_or_1d(y, warn=True)\n"
     ]
    },
    {
     "name": "stdout",
     "output_type": "stream",
     "text": [
      "\n",
      "[CV] C=0.5, degree=2, gamma=0.01, kernel=sigmoid .....................\n",
      "[CV] ...... C=0.5, degree=2, gamma=0.01, kernel=sigmoid, total=   0.2s\n",
      "[CV] C=0.5, degree=2, gamma=0.01, kernel=sigmoid .....................\n"
     ]
    },
    {
     "name": "stderr",
     "output_type": "stream",
     "text": [
      "C:\\Users\\laure\\Anaconda3\\envs\\myenv\\lib\\site-packages\\sklearn\\utils\\validation.py:760: DataConversionWarning: A column-vector y was passed when a 1d array was expected. Please change the shape of y to (n_samples, ), for example using ravel().\n",
      "  y = column_or_1d(y, warn=True)\n",
      "C:\\Users\\laure\\Anaconda3\\envs\\myenv\\lib\\site-packages\\sklearn\\utils\\validation.py:760: DataConversionWarning: A column-vector y was passed when a 1d array was expected. Please change the shape of y to (n_samples, ), for example using ravel().\n",
      "  y = column_or_1d(y, warn=True)\n"
     ]
    },
    {
     "name": "stdout",
     "output_type": "stream",
     "text": [
      "[CV] ...... C=0.5, degree=2, gamma=0.01, kernel=sigmoid, total=   0.2s\n",
      "[CV] C=0.5, degree=2, gamma=0.01, kernel=sigmoid .....................\n"
     ]
    },
    {
     "name": "stderr",
     "output_type": "stream",
     "text": [
      "C:\\Users\\laure\\Anaconda3\\envs\\myenv\\lib\\site-packages\\sklearn\\utils\\validation.py:760: DataConversionWarning: A column-vector y was passed when a 1d array was expected. Please change the shape of y to (n_samples, ), for example using ravel().\n",
      "  y = column_or_1d(y, warn=True)\n"
     ]
    },
    {
     "name": "stdout",
     "output_type": "stream",
     "text": [
      "[CV] ...... C=0.5, degree=2, gamma=0.01, kernel=sigmoid, total=   0.2s\n",
      "[CV] C=0.5, degree=2, gamma=0.01, kernel=sigmoid .....................\n"
     ]
    },
    {
     "name": "stderr",
     "output_type": "stream",
     "text": [
      "C:\\Users\\laure\\Anaconda3\\envs\\myenv\\lib\\site-packages\\sklearn\\utils\\validation.py:760: DataConversionWarning: A column-vector y was passed when a 1d array was expected. Please change the shape of y to (n_samples, ), for example using ravel().\n",
      "  y = column_or_1d(y, warn=True)\n"
     ]
    },
    {
     "name": "stdout",
     "output_type": "stream",
     "text": [
      "[CV] ...... C=0.5, degree=2, gamma=0.01, kernel=sigmoid, total=   0.2s\n",
      "[CV] C=0.5, degree=2, gamma=0.001, kernel=linear .....................\n",
      "[CV] ...... C=0.5, degree=2, gamma=0.001, kernel=linear, total=   0.0s\n",
      "[CV] C=0.5, degree=2, gamma=0.001, kernel=linear .....................\n",
      "[CV] ...... C=0.5, degree=2, gamma=0.001, kernel=linear, total=   0.0s\n",
      "[CV] C=0.5, degree=2, gamma=0.001, kernel=linear .....................\n",
      "[CV] ...... C=0.5, degree=2, gamma=0.001, kernel=linear, total=   0.0s\n",
      "[CV] C=0.5, degree=2, gamma=0.001, kernel=linear .....................\n",
      "[CV] ...... C=0.5, degree=2, gamma=0.001, kernel=linear, total=   0.0s\n",
      "[CV] C=0.5, degree=2, gamma=0.001, kernel=linear .....................\n",
      "[CV] ...... C=0.5, degree=2, gamma=0.001, kernel=linear, total=   0.0s\n",
      "[CV] C=0.5, degree=2, gamma=0.001, kernel=rbf ........................\n"
     ]
    },
    {
     "name": "stderr",
     "output_type": "stream",
     "text": [
      "C:\\Users\\laure\\Anaconda3\\envs\\myenv\\lib\\site-packages\\sklearn\\utils\\validation.py:760: DataConversionWarning: A column-vector y was passed when a 1d array was expected. Please change the shape of y to (n_samples, ), for example using ravel().\n",
      "  y = column_or_1d(y, warn=True)\n",
      "C:\\Users\\laure\\Anaconda3\\envs\\myenv\\lib\\site-packages\\sklearn\\utils\\validation.py:760: DataConversionWarning: A column-vector y was passed when a 1d array was expected. Please change the shape of y to (n_samples, ), for example using ravel().\n",
      "  y = column_or_1d(y, warn=True)\n",
      "C:\\Users\\laure\\Anaconda3\\envs\\myenv\\lib\\site-packages\\sklearn\\utils\\validation.py:760: DataConversionWarning: A column-vector y was passed when a 1d array was expected. Please change the shape of y to (n_samples, ), for example using ravel().\n",
      "  y = column_or_1d(y, warn=True)\n",
      "C:\\Users\\laure\\Anaconda3\\envs\\myenv\\lib\\site-packages\\sklearn\\utils\\validation.py:760: DataConversionWarning: A column-vector y was passed when a 1d array was expected. Please change the shape of y to (n_samples, ), for example using ravel().\n",
      "  y = column_or_1d(y, warn=True)\n",
      "C:\\Users\\laure\\Anaconda3\\envs\\myenv\\lib\\site-packages\\sklearn\\utils\\validation.py:760: DataConversionWarning: A column-vector y was passed when a 1d array was expected. Please change the shape of y to (n_samples, ), for example using ravel().\n",
      "  y = column_or_1d(y, warn=True)\n",
      "C:\\Users\\laure\\Anaconda3\\envs\\myenv\\lib\\site-packages\\sklearn\\utils\\validation.py:760: DataConversionWarning: A column-vector y was passed when a 1d array was expected. Please change the shape of y to (n_samples, ), for example using ravel().\n",
      "  y = column_or_1d(y, warn=True)\n"
     ]
    },
    {
     "name": "stdout",
     "output_type": "stream",
     "text": [
      "[CV] ......... C=0.5, degree=2, gamma=0.001, kernel=rbf, total=   0.3s\n",
      "[CV] C=0.5, degree=2, gamma=0.001, kernel=rbf ........................\n"
     ]
    },
    {
     "name": "stderr",
     "output_type": "stream",
     "text": [
      "C:\\Users\\laure\\Anaconda3\\envs\\myenv\\lib\\site-packages\\sklearn\\utils\\validation.py:760: DataConversionWarning: A column-vector y was passed when a 1d array was expected. Please change the shape of y to (n_samples, ), for example using ravel().\n",
      "  y = column_or_1d(y, warn=True)\n"
     ]
    },
    {
     "name": "stdout",
     "output_type": "stream",
     "text": [
      "[CV] ......... C=0.5, degree=2, gamma=0.001, kernel=rbf, total=   0.3s\n",
      "[CV] C=0.5, degree=2, gamma=0.001, kernel=rbf ........................\n"
     ]
    },
    {
     "name": "stderr",
     "output_type": "stream",
     "text": [
      "C:\\Users\\laure\\Anaconda3\\envs\\myenv\\lib\\site-packages\\sklearn\\utils\\validation.py:760: DataConversionWarning: A column-vector y was passed when a 1d array was expected. Please change the shape of y to (n_samples, ), for example using ravel().\n",
      "  y = column_or_1d(y, warn=True)\n"
     ]
    },
    {
     "name": "stdout",
     "output_type": "stream",
     "text": [
      "[CV] ......... C=0.5, degree=2, gamma=0.001, kernel=rbf, total=   0.3s\n",
      "[CV] C=0.5, degree=2, gamma=0.001, kernel=rbf ........................\n"
     ]
    },
    {
     "name": "stderr",
     "output_type": "stream",
     "text": [
      "C:\\Users\\laure\\Anaconda3\\envs\\myenv\\lib\\site-packages\\sklearn\\utils\\validation.py:760: DataConversionWarning: A column-vector y was passed when a 1d array was expected. Please change the shape of y to (n_samples, ), for example using ravel().\n",
      "  y = column_or_1d(y, warn=True)\n"
     ]
    },
    {
     "name": "stdout",
     "output_type": "stream",
     "text": [
      "[CV] ......... C=0.5, degree=2, gamma=0.001, kernel=rbf, total=   0.3s\n",
      "[CV] C=0.5, degree=2, gamma=0.001, kernel=rbf ........................\n"
     ]
    },
    {
     "name": "stderr",
     "output_type": "stream",
     "text": [
      "C:\\Users\\laure\\Anaconda3\\envs\\myenv\\lib\\site-packages\\sklearn\\utils\\validation.py:760: DataConversionWarning: A column-vector y was passed when a 1d array was expected. Please change the shape of y to (n_samples, ), for example using ravel().\n",
      "  y = column_or_1d(y, warn=True)\n"
     ]
    },
    {
     "name": "stdout",
     "output_type": "stream",
     "text": [
      "[CV] ......... C=0.5, degree=2, gamma=0.001, kernel=rbf, total=   0.3s\n",
      "[CV] C=0.5, degree=2, gamma=0.001, kernel=poly .......................\n",
      "[CV] ........ C=0.5, degree=2, gamma=0.001, kernel=poly, total=   0.2s\n",
      "[CV] C=0.5, degree=2, gamma=0.001, kernel=poly .......................\n"
     ]
    },
    {
     "name": "stderr",
     "output_type": "stream",
     "text": [
      "C:\\Users\\laure\\Anaconda3\\envs\\myenv\\lib\\site-packages\\sklearn\\utils\\validation.py:760: DataConversionWarning: A column-vector y was passed when a 1d array was expected. Please change the shape of y to (n_samples, ), for example using ravel().\n",
      "  y = column_or_1d(y, warn=True)\n",
      "C:\\Users\\laure\\Anaconda3\\envs\\myenv\\lib\\site-packages\\sklearn\\utils\\validation.py:760: DataConversionWarning: A column-vector y was passed when a 1d array was expected. Please change the shape of y to (n_samples, ), for example using ravel().\n",
      "  y = column_or_1d(y, warn=True)\n"
     ]
    },
    {
     "name": "stdout",
     "output_type": "stream",
     "text": [
      "[CV] ........ C=0.5, degree=2, gamma=0.001, kernel=poly, total=   0.1s\n",
      "[CV] C=0.5, degree=2, gamma=0.001, kernel=poly .......................\n",
      "[CV] ........ C=0.5, degree=2, gamma=0.001, kernel=poly, total=   0.2s\n",
      "[CV] C=0.5, degree=2, gamma=0.001, kernel=poly .......................\n"
     ]
    },
    {
     "name": "stderr",
     "output_type": "stream",
     "text": [
      "C:\\Users\\laure\\Anaconda3\\envs\\myenv\\lib\\site-packages\\sklearn\\utils\\validation.py:760: DataConversionWarning: A column-vector y was passed when a 1d array was expected. Please change the shape of y to (n_samples, ), for example using ravel().\n",
      "  y = column_or_1d(y, warn=True)\n",
      "C:\\Users\\laure\\Anaconda3\\envs\\myenv\\lib\\site-packages\\sklearn\\utils\\validation.py:760: DataConversionWarning: A column-vector y was passed when a 1d array was expected. Please change the shape of y to (n_samples, ), for example using ravel().\n",
      "  y = column_or_1d(y, warn=True)\n"
     ]
    },
    {
     "name": "stdout",
     "output_type": "stream",
     "text": [
      "[CV] ........ C=0.5, degree=2, gamma=0.001, kernel=poly, total=   0.1s\n",
      "[CV] C=0.5, degree=2, gamma=0.001, kernel=poly .......................\n",
      "[CV] ........ C=0.5, degree=2, gamma=0.001, kernel=poly, total=   0.2s\n",
      "[CV] C=0.5, degree=2, gamma=0.001, kernel=sigmoid ....................\n"
     ]
    },
    {
     "name": "stderr",
     "output_type": "stream",
     "text": [
      "C:\\Users\\laure\\Anaconda3\\envs\\myenv\\lib\\site-packages\\sklearn\\utils\\validation.py:760: DataConversionWarning: A column-vector y was passed when a 1d array was expected. Please change the shape of y to (n_samples, ), for example using ravel().\n",
      "  y = column_or_1d(y, warn=True)\n",
      "C:\\Users\\laure\\Anaconda3\\envs\\myenv\\lib\\site-packages\\sklearn\\utils\\validation.py:760: DataConversionWarning: A column-vector y was passed when a 1d array was expected. Please change the shape of y to (n_samples, ), for example using ravel().\n",
      "  y = column_or_1d(y, warn=True)\n"
     ]
    },
    {
     "name": "stdout",
     "output_type": "stream",
     "text": [
      "[CV] ..... C=0.5, degree=2, gamma=0.001, kernel=sigmoid, total=   0.3s\n",
      "[CV] C=0.5, degree=2, gamma=0.001, kernel=sigmoid ....................\n"
     ]
    },
    {
     "name": "stderr",
     "output_type": "stream",
     "text": [
      "C:\\Users\\laure\\Anaconda3\\envs\\myenv\\lib\\site-packages\\sklearn\\utils\\validation.py:760: DataConversionWarning: A column-vector y was passed when a 1d array was expected. Please change the shape of y to (n_samples, ), for example using ravel().\n",
      "  y = column_or_1d(y, warn=True)\n"
     ]
    },
    {
     "name": "stdout",
     "output_type": "stream",
     "text": [
      "[CV] ..... C=0.5, degree=2, gamma=0.001, kernel=sigmoid, total=   0.3s\n",
      "[CV] C=0.5, degree=2, gamma=0.001, kernel=sigmoid ....................\n"
     ]
    },
    {
     "name": "stderr",
     "output_type": "stream",
     "text": [
      "C:\\Users\\laure\\Anaconda3\\envs\\myenv\\lib\\site-packages\\sklearn\\utils\\validation.py:760: DataConversionWarning: A column-vector y was passed when a 1d array was expected. Please change the shape of y to (n_samples, ), for example using ravel().\n",
      "  y = column_or_1d(y, warn=True)\n"
     ]
    },
    {
     "name": "stdout",
     "output_type": "stream",
     "text": [
      "[CV] ..... C=0.5, degree=2, gamma=0.001, kernel=sigmoid, total=   0.3s\n",
      "[CV] C=0.5, degree=2, gamma=0.001, kernel=sigmoid ....................\n"
     ]
    },
    {
     "name": "stderr",
     "output_type": "stream",
     "text": [
      "C:\\Users\\laure\\Anaconda3\\envs\\myenv\\lib\\site-packages\\sklearn\\utils\\validation.py:760: DataConversionWarning: A column-vector y was passed when a 1d array was expected. Please change the shape of y to (n_samples, ), for example using ravel().\n",
      "  y = column_or_1d(y, warn=True)\n"
     ]
    },
    {
     "name": "stdout",
     "output_type": "stream",
     "text": [
      "[CV] ..... C=0.5, degree=2, gamma=0.001, kernel=sigmoid, total=   0.3s\n",
      "[CV] C=0.5, degree=2, gamma=0.001, kernel=sigmoid ....................\n"
     ]
    },
    {
     "name": "stderr",
     "output_type": "stream",
     "text": [
      "C:\\Users\\laure\\Anaconda3\\envs\\myenv\\lib\\site-packages\\sklearn\\utils\\validation.py:760: DataConversionWarning: A column-vector y was passed when a 1d array was expected. Please change the shape of y to (n_samples, ), for example using ravel().\n",
      "  y = column_or_1d(y, warn=True)\n"
     ]
    },
    {
     "name": "stdout",
     "output_type": "stream",
     "text": [
      "[CV] ..... C=0.5, degree=2, gamma=0.001, kernel=sigmoid, total=   0.3s\n",
      "[CV] C=0.5, degree=3, gamma=1, kernel=linear .........................\n",
      "[CV] .......... C=0.5, degree=3, gamma=1, kernel=linear, total=   0.0s\n",
      "[CV] C=0.5, degree=3, gamma=1, kernel=linear .........................\n",
      "[CV] .......... C=0.5, degree=3, gamma=1, kernel=linear, total=   0.0s\n",
      "[CV] C=0.5, degree=3, gamma=1, kernel=linear .........................\n",
      "[CV] .......... C=0.5, degree=3, gamma=1, kernel=linear, total=   0.0s\n",
      "[CV] C=0.5, degree=3, gamma=1, kernel=linear .........................\n",
      "[CV] .......... C=0.5, degree=3, gamma=1, kernel=linear, total=   0.0s\n",
      "[CV] C=0.5, degree=3, gamma=1, kernel=linear .........................\n",
      "[CV] .......... C=0.5, degree=3, gamma=1, kernel=linear, total=   0.0s\n",
      "[CV] C=0.5, degree=3, gamma=1, kernel=rbf ............................\n",
      "[CV] ............. C=0.5, degree=3, gamma=1, kernel=rbf, total=   0.0s\n",
      "[CV] C=0.5, degree=3, gamma=1, kernel=rbf ............................\n",
      "[CV] ............. C=0.5, degree=3, gamma=1, kernel=rbf, total=   0.0s\n",
      "[CV] C=0.5, degree=3, gamma=1, kernel=rbf ............................\n",
      "[CV] ............. C=0.5, degree=3, gamma=1, kernel=rbf, total=   0.0s\n",
      "[CV] C=0.5, degree=3, gamma=1, kernel=rbf ............................\n",
      "[CV] ............. C=0.5, degree=3, gamma=1, kernel=rbf, total=   0.0s\n",
      "[CV] C=0.5, degree=3, gamma=1, kernel=rbf ............................\n",
      "[CV] ............. C=0.5, degree=3, gamma=1, kernel=rbf, total=   0.0s\n",
      "[CV] C=0.5, degree=3, gamma=1, kernel=poly ...........................\n",
      "[CV] ............ C=0.5, degree=3, gamma=1, kernel=poly, total=   0.0s\n",
      "[CV] C=0.5, degree=3, gamma=1, kernel=poly ...........................\n",
      "[CV] ............ C=0.5, degree=3, gamma=1, kernel=poly, total=   0.0s\n",
      "[CV] C=0.5, degree=3, gamma=1, kernel=poly ...........................\n"
     ]
    },
    {
     "name": "stderr",
     "output_type": "stream",
     "text": [
      "C:\\Users\\laure\\Anaconda3\\envs\\myenv\\lib\\site-packages\\sklearn\\utils\\validation.py:760: DataConversionWarning: A column-vector y was passed when a 1d array was expected. Please change the shape of y to (n_samples, ), for example using ravel().\n",
      "  y = column_or_1d(y, warn=True)\n",
      "C:\\Users\\laure\\Anaconda3\\envs\\myenv\\lib\\site-packages\\sklearn\\utils\\validation.py:760: DataConversionWarning: A column-vector y was passed when a 1d array was expected. Please change the shape of y to (n_samples, ), for example using ravel().\n",
      "  y = column_or_1d(y, warn=True)\n",
      "C:\\Users\\laure\\Anaconda3\\envs\\myenv\\lib\\site-packages\\sklearn\\utils\\validation.py:760: DataConversionWarning: A column-vector y was passed when a 1d array was expected. Please change the shape of y to (n_samples, ), for example using ravel().\n",
      "  y = column_or_1d(y, warn=True)\n",
      "C:\\Users\\laure\\Anaconda3\\envs\\myenv\\lib\\site-packages\\sklearn\\utils\\validation.py:760: DataConversionWarning: A column-vector y was passed when a 1d array was expected. Please change the shape of y to (n_samples, ), for example using ravel().\n",
      "  y = column_or_1d(y, warn=True)\n",
      "C:\\Users\\laure\\Anaconda3\\envs\\myenv\\lib\\site-packages\\sklearn\\utils\\validation.py:760: DataConversionWarning: A column-vector y was passed when a 1d array was expected. Please change the shape of y to (n_samples, ), for example using ravel().\n",
      "  y = column_or_1d(y, warn=True)\n",
      "C:\\Users\\laure\\Anaconda3\\envs\\myenv\\lib\\site-packages\\sklearn\\utils\\validation.py:760: DataConversionWarning: A column-vector y was passed when a 1d array was expected. Please change the shape of y to (n_samples, ), for example using ravel().\n",
      "  y = column_or_1d(y, warn=True)\n",
      "C:\\Users\\laure\\Anaconda3\\envs\\myenv\\lib\\site-packages\\sklearn\\utils\\validation.py:760: DataConversionWarning: A column-vector y was passed when a 1d array was expected. Please change the shape of y to (n_samples, ), for example using ravel().\n",
      "  y = column_or_1d(y, warn=True)\n",
      "C:\\Users\\laure\\Anaconda3\\envs\\myenv\\lib\\site-packages\\sklearn\\utils\\validation.py:760: DataConversionWarning: A column-vector y was passed when a 1d array was expected. Please change the shape of y to (n_samples, ), for example using ravel().\n",
      "  y = column_or_1d(y, warn=True)\n",
      "C:\\Users\\laure\\Anaconda3\\envs\\myenv\\lib\\site-packages\\sklearn\\utils\\validation.py:760: DataConversionWarning: A column-vector y was passed when a 1d array was expected. Please change the shape of y to (n_samples, ), for example using ravel().\n",
      "  y = column_or_1d(y, warn=True)\n",
      "C:\\Users\\laure\\Anaconda3\\envs\\myenv\\lib\\site-packages\\sklearn\\utils\\validation.py:760: DataConversionWarning: A column-vector y was passed when a 1d array was expected. Please change the shape of y to (n_samples, ), for example using ravel().\n",
      "  y = column_or_1d(y, warn=True)\n",
      "C:\\Users\\laure\\Anaconda3\\envs\\myenv\\lib\\site-packages\\sklearn\\utils\\validation.py:760: DataConversionWarning: A column-vector y was passed when a 1d array was expected. Please change the shape of y to (n_samples, ), for example using ravel().\n",
      "  y = column_or_1d(y, warn=True)\n",
      "C:\\Users\\laure\\Anaconda3\\envs\\myenv\\lib\\site-packages\\sklearn\\utils\\validation.py:760: DataConversionWarning: A column-vector y was passed when a 1d array was expected. Please change the shape of y to (n_samples, ), for example using ravel().\n",
      "  y = column_or_1d(y, warn=True)\n",
      "C:\\Users\\laure\\Anaconda3\\envs\\myenv\\lib\\site-packages\\sklearn\\utils\\validation.py:760: DataConversionWarning: A column-vector y was passed when a 1d array was expected. Please change the shape of y to (n_samples, ), for example using ravel().\n",
      "  y = column_or_1d(y, warn=True)\n",
      "C:\\Users\\laure\\Anaconda3\\envs\\myenv\\lib\\site-packages\\sklearn\\utils\\validation.py:760: DataConversionWarning: A column-vector y was passed when a 1d array was expected. Please change the shape of y to (n_samples, ), for example using ravel().\n",
      "  y = column_or_1d(y, warn=True)\n",
      "C:\\Users\\laure\\Anaconda3\\envs\\myenv\\lib\\site-packages\\sklearn\\utils\\validation.py:760: DataConversionWarning: A column-vector y was passed when a 1d array was expected. Please change the shape of y to (n_samples, ), for example using ravel().\n",
      "  y = column_or_1d(y, warn=True)\n",
      "C:\\Users\\laure\\Anaconda3\\envs\\myenv\\lib\\site-packages\\sklearn\\utils\\validation.py:760: DataConversionWarning: A column-vector y was passed when a 1d array was expected. Please change the shape of y to (n_samples, ), for example using ravel().\n",
      "  y = column_or_1d(y, warn=True)\n",
      "C:\\Users\\laure\\Anaconda3\\envs\\myenv\\lib\\site-packages\\sklearn\\utils\\validation.py:760: DataConversionWarning: A column-vector y was passed when a 1d array was expected. Please change the shape of y to (n_samples, ), for example using ravel().\n",
      "  y = column_or_1d(y, warn=True)\n",
      "C:\\Users\\laure\\Anaconda3\\envs\\myenv\\lib\\site-packages\\sklearn\\utils\\validation.py:760: DataConversionWarning: A column-vector y was passed when a 1d array was expected. Please change the shape of y to (n_samples, ), for example using ravel().\n",
      "  y = column_or_1d(y, warn=True)\n",
      "C:\\Users\\laure\\Anaconda3\\envs\\myenv\\lib\\site-packages\\sklearn\\utils\\validation.py:760: DataConversionWarning: A column-vector y was passed when a 1d array was expected. Please change the shape of y to (n_samples, ), for example using ravel().\n",
      "  y = column_or_1d(y, warn=True)\n",
      "C:\\Users\\laure\\Anaconda3\\envs\\myenv\\lib\\site-packages\\sklearn\\utils\\validation.py:760: DataConversionWarning: A column-vector y was passed when a 1d array was expected. Please change the shape of y to (n_samples, ), for example using ravel().\n",
      "  y = column_or_1d(y, warn=True)\n",
      "C:\\Users\\laure\\Anaconda3\\envs\\myenv\\lib\\site-packages\\sklearn\\utils\\validation.py:760: DataConversionWarning: A column-vector y was passed when a 1d array was expected. Please change the shape of y to (n_samples, ), for example using ravel().\n",
      "  y = column_or_1d(y, warn=True)\n",
      "C:\\Users\\laure\\Anaconda3\\envs\\myenv\\lib\\site-packages\\sklearn\\utils\\validation.py:760: DataConversionWarning: A column-vector y was passed when a 1d array was expected. Please change the shape of y to (n_samples, ), for example using ravel().\n",
      "  y = column_or_1d(y, warn=True)\n",
      "C:\\Users\\laure\\Anaconda3\\envs\\myenv\\lib\\site-packages\\sklearn\\utils\\validation.py:760: DataConversionWarning: A column-vector y was passed when a 1d array was expected. Please change the shape of y to (n_samples, ), for example using ravel().\n",
      "  y = column_or_1d(y, warn=True)\n",
      "C:\\Users\\laure\\Anaconda3\\envs\\myenv\\lib\\site-packages\\sklearn\\utils\\validation.py:760: DataConversionWarning: A column-vector y was passed when a 1d array was expected. Please change the shape of y to (n_samples, ), for example using ravel().\n",
      "  y = column_or_1d(y, warn=True)\n",
      "C:\\Users\\laure\\Anaconda3\\envs\\myenv\\lib\\site-packages\\sklearn\\utils\\validation.py:760: DataConversionWarning: A column-vector y was passed when a 1d array was expected. Please change the shape of y to (n_samples, ), for example using ravel().\n",
      "  y = column_or_1d(y, warn=True)\n"
     ]
    },
    {
     "name": "stdout",
     "output_type": "stream",
     "text": [
      "[CV] ............ C=0.5, degree=3, gamma=1, kernel=poly, total=   0.0s\n",
      "[CV] C=0.5, degree=3, gamma=1, kernel=poly ...........................\n",
      "[CV] ............ C=0.5, degree=3, gamma=1, kernel=poly, total=   0.0s\n",
      "[CV] C=0.5, degree=3, gamma=1, kernel=poly ...........................\n",
      "[CV] ............ C=0.5, degree=3, gamma=1, kernel=poly, total=   0.0s\n",
      "[CV] C=0.5, degree=3, gamma=1, kernel=sigmoid ........................\n",
      "[CV] ......... C=0.5, degree=3, gamma=1, kernel=sigmoid, total=   0.0s\n",
      "[CV] C=0.5, degree=3, gamma=1, kernel=sigmoid ........................\n",
      "[CV] ......... C=0.5, degree=3, gamma=1, kernel=sigmoid, total=   0.0s\n",
      "[CV] C=0.5, degree=3, gamma=1, kernel=sigmoid ........................\n",
      "[CV] ......... C=0.5, degree=3, gamma=1, kernel=sigmoid, total=   0.0s\n",
      "[CV] C=0.5, degree=3, gamma=1, kernel=sigmoid ........................\n",
      "[CV] ......... C=0.5, degree=3, gamma=1, kernel=sigmoid, total=   0.0s\n",
      "[CV] C=0.5, degree=3, gamma=1, kernel=sigmoid ........................\n",
      "[CV] ......... C=0.5, degree=3, gamma=1, kernel=sigmoid, total=   0.0s\n",
      "[CV] C=0.5, degree=3, gamma=0.1, kernel=linear .......................\n",
      "[CV] ........ C=0.5, degree=3, gamma=0.1, kernel=linear, total=   0.0s\n",
      "[CV] C=0.5, degree=3, gamma=0.1, kernel=linear .......................\n",
      "[CV] ........ C=0.5, degree=3, gamma=0.1, kernel=linear, total=   0.0s\n",
      "[CV] C=0.5, degree=3, gamma=0.1, kernel=linear .......................\n",
      "[CV] ........ C=0.5, degree=3, gamma=0.1, kernel=linear, total=   0.0s\n",
      "[CV] C=0.5, degree=3, gamma=0.1, kernel=linear .......................\n",
      "[CV] ........ C=0.5, degree=3, gamma=0.1, kernel=linear, total=   0.0s\n",
      "[CV] C=0.5, degree=3, gamma=0.1, kernel=linear .......................\n",
      "[CV] ........ C=0.5, degree=3, gamma=0.1, kernel=linear, total=   0.0s\n",
      "[CV] C=0.5, degree=3, gamma=0.1, kernel=rbf ..........................\n"
     ]
    },
    {
     "name": "stderr",
     "output_type": "stream",
     "text": [
      "C:\\Users\\laure\\Anaconda3\\envs\\myenv\\lib\\site-packages\\sklearn\\utils\\validation.py:760: DataConversionWarning: A column-vector y was passed when a 1d array was expected. Please change the shape of y to (n_samples, ), for example using ravel().\n",
      "  y = column_or_1d(y, warn=True)\n",
      "C:\\Users\\laure\\Anaconda3\\envs\\myenv\\lib\\site-packages\\sklearn\\utils\\validation.py:760: DataConversionWarning: A column-vector y was passed when a 1d array was expected. Please change the shape of y to (n_samples, ), for example using ravel().\n",
      "  y = column_or_1d(y, warn=True)\n",
      "C:\\Users\\laure\\Anaconda3\\envs\\myenv\\lib\\site-packages\\sklearn\\utils\\validation.py:760: DataConversionWarning: A column-vector y was passed when a 1d array was expected. Please change the shape of y to (n_samples, ), for example using ravel().\n",
      "  y = column_or_1d(y, warn=True)\n",
      "C:\\Users\\laure\\Anaconda3\\envs\\myenv\\lib\\site-packages\\sklearn\\utils\\validation.py:760: DataConversionWarning: A column-vector y was passed when a 1d array was expected. Please change the shape of y to (n_samples, ), for example using ravel().\n",
      "  y = column_or_1d(y, warn=True)\n",
      "C:\\Users\\laure\\Anaconda3\\envs\\myenv\\lib\\site-packages\\sklearn\\utils\\validation.py:760: DataConversionWarning: A column-vector y was passed when a 1d array was expected. Please change the shape of y to (n_samples, ), for example using ravel().\n",
      "  y = column_or_1d(y, warn=True)\n",
      "C:\\Users\\laure\\Anaconda3\\envs\\myenv\\lib\\site-packages\\sklearn\\utils\\validation.py:760: DataConversionWarning: A column-vector y was passed when a 1d array was expected. Please change the shape of y to (n_samples, ), for example using ravel().\n",
      "  y = column_or_1d(y, warn=True)\n"
     ]
    },
    {
     "name": "stdout",
     "output_type": "stream",
     "text": [
      "[CV] ........... C=0.5, degree=3, gamma=0.1, kernel=rbf, total=   0.0s\n",
      "[CV] C=0.5, degree=3, gamma=0.1, kernel=rbf ..........................\n",
      "[CV] ........... C=0.5, degree=3, gamma=0.1, kernel=rbf, total=   0.0s\n",
      "[CV] C=0.5, degree=3, gamma=0.1, kernel=rbf ..........................\n",
      "[CV] ........... C=0.5, degree=3, gamma=0.1, kernel=rbf, total=   0.0s\n",
      "[CV] C=0.5, degree=3, gamma=0.1, kernel=rbf ..........................\n",
      "[CV] ........... C=0.5, degree=3, gamma=0.1, kernel=rbf, total=   0.0s\n",
      "[CV] C=0.5, degree=3, gamma=0.1, kernel=rbf ..........................\n",
      "[CV] ........... C=0.5, degree=3, gamma=0.1, kernel=rbf, total=   0.0s\n",
      "[CV] C=0.5, degree=3, gamma=0.1, kernel=poly .........................\n",
      "[CV] .......... C=0.5, degree=3, gamma=0.1, kernel=poly, total=   0.2s\n",
      "[CV] C=0.5, degree=3, gamma=0.1, kernel=poly .........................\n",
      "[CV] .......... C=0.5, degree=3, gamma=0.1, kernel=poly, total=   0.2s\n",
      "[CV] C=0.5, degree=3, gamma=0.1, kernel=poly .........................\n"
     ]
    },
    {
     "name": "stderr",
     "output_type": "stream",
     "text": [
      "C:\\Users\\laure\\Anaconda3\\envs\\myenv\\lib\\site-packages\\sklearn\\utils\\validation.py:760: DataConversionWarning: A column-vector y was passed when a 1d array was expected. Please change the shape of y to (n_samples, ), for example using ravel().\n",
      "  y = column_or_1d(y, warn=True)\n",
      "C:\\Users\\laure\\Anaconda3\\envs\\myenv\\lib\\site-packages\\sklearn\\utils\\validation.py:760: DataConversionWarning: A column-vector y was passed when a 1d array was expected. Please change the shape of y to (n_samples, ), for example using ravel().\n",
      "  y = column_or_1d(y, warn=True)\n"
     ]
    },
    {
     "name": "stdout",
     "output_type": "stream",
     "text": [
      "[CV] .......... C=0.5, degree=3, gamma=0.1, kernel=poly, total=   0.2s\n",
      "[CV] C=0.5, degree=3, gamma=0.1, kernel=poly .........................\n",
      "[CV] .......... C=0.5, degree=3, gamma=0.1, kernel=poly, total=   0.2s\n",
      "[CV] C=0.5, degree=3, gamma=0.1, kernel=poly .........................\n"
     ]
    },
    {
     "name": "stderr",
     "output_type": "stream",
     "text": [
      "C:\\Users\\laure\\Anaconda3\\envs\\myenv\\lib\\site-packages\\sklearn\\utils\\validation.py:760: DataConversionWarning: A column-vector y was passed when a 1d array was expected. Please change the shape of y to (n_samples, ), for example using ravel().\n",
      "  y = column_or_1d(y, warn=True)\n",
      "C:\\Users\\laure\\Anaconda3\\envs\\myenv\\lib\\site-packages\\sklearn\\utils\\validation.py:760: DataConversionWarning: A column-vector y was passed when a 1d array was expected. Please change the shape of y to (n_samples, ), for example using ravel().\n",
      "  y = column_or_1d(y, warn=True)\n"
     ]
    },
    {
     "name": "stdout",
     "output_type": "stream",
     "text": [
      "[CV] .......... C=0.5, degree=3, gamma=0.1, kernel=poly, total=   0.2s\n",
      "[CV] C=0.5, degree=3, gamma=0.1, kernel=sigmoid ......................\n",
      "[CV] ....... C=0.5, degree=3, gamma=0.1, kernel=sigmoid, total=   0.0s\n",
      "[CV] C=0.5, degree=3, gamma=0.1, kernel=sigmoid ......................\n",
      "[CV] ....... C=0.5, degree=3, gamma=0.1, kernel=sigmoid, total=   0.0s\n",
      "[CV] C=0.5, degree=3, gamma=0.1, kernel=sigmoid ......................\n",
      "[CV] ....... C=0.5, degree=3, gamma=0.1, kernel=sigmoid, total=   0.1s\n",
      "[CV] C=0.5, degree=3, gamma=0.1, kernel=sigmoid ......................\n",
      "[CV] ....... C=0.5, degree=3, gamma=0.1, kernel=sigmoid, total=   0.1s\n",
      "[CV] C=0.5, degree=3, gamma=0.1, kernel=sigmoid ......................\n"
     ]
    },
    {
     "name": "stderr",
     "output_type": "stream",
     "text": [
      "C:\\Users\\laure\\Anaconda3\\envs\\myenv\\lib\\site-packages\\sklearn\\utils\\validation.py:760: DataConversionWarning: A column-vector y was passed when a 1d array was expected. Please change the shape of y to (n_samples, ), for example using ravel().\n",
      "  y = column_or_1d(y, warn=True)\n",
      "C:\\Users\\laure\\Anaconda3\\envs\\myenv\\lib\\site-packages\\sklearn\\utils\\validation.py:760: DataConversionWarning: A column-vector y was passed when a 1d array was expected. Please change the shape of y to (n_samples, ), for example using ravel().\n",
      "  y = column_or_1d(y, warn=True)\n",
      "C:\\Users\\laure\\Anaconda3\\envs\\myenv\\lib\\site-packages\\sklearn\\utils\\validation.py:760: DataConversionWarning: A column-vector y was passed when a 1d array was expected. Please change the shape of y to (n_samples, ), for example using ravel().\n",
      "  y = column_or_1d(y, warn=True)\n",
      "C:\\Users\\laure\\Anaconda3\\envs\\myenv\\lib\\site-packages\\sklearn\\utils\\validation.py:760: DataConversionWarning: A column-vector y was passed when a 1d array was expected. Please change the shape of y to (n_samples, ), for example using ravel().\n",
      "  y = column_or_1d(y, warn=True)\n",
      "C:\\Users\\laure\\Anaconda3\\envs\\myenv\\lib\\site-packages\\sklearn\\utils\\validation.py:760: DataConversionWarning: A column-vector y was passed when a 1d array was expected. Please change the shape of y to (n_samples, ), for example using ravel().\n",
      "  y = column_or_1d(y, warn=True)\n",
      "C:\\Users\\laure\\Anaconda3\\envs\\myenv\\lib\\site-packages\\sklearn\\utils\\validation.py:760: DataConversionWarning: A column-vector y was passed when a 1d array was expected. Please change the shape of y to (n_samples, ), for example using ravel().\n",
      "  y = column_or_1d(y, warn=True)\n",
      "C:\\Users\\laure\\Anaconda3\\envs\\myenv\\lib\\site-packages\\sklearn\\utils\\validation.py:760: DataConversionWarning: A column-vector y was passed when a 1d array was expected. Please change the shape of y to (n_samples, ), for example using ravel().\n",
      "  y = column_or_1d(y, warn=True)\n",
      "C:\\Users\\laure\\Anaconda3\\envs\\myenv\\lib\\site-packages\\sklearn\\utils\\validation.py:760: DataConversionWarning: A column-vector y was passed when a 1d array was expected. Please change the shape of y to (n_samples, ), for example using ravel().\n",
      "  y = column_or_1d(y, warn=True)\n",
      "C:\\Users\\laure\\Anaconda3\\envs\\myenv\\lib\\site-packages\\sklearn\\utils\\validation.py:760: DataConversionWarning: A column-vector y was passed when a 1d array was expected. Please change the shape of y to (n_samples, ), for example using ravel().\n",
      "  y = column_or_1d(y, warn=True)\n",
      "C:\\Users\\laure\\Anaconda3\\envs\\myenv\\lib\\site-packages\\sklearn\\utils\\validation.py:760: DataConversionWarning: A column-vector y was passed when a 1d array was expected. Please change the shape of y to (n_samples, ), for example using ravel().\n",
      "  y = column_or_1d(y, warn=True)\n",
      "C:\\Users\\laure\\Anaconda3\\envs\\myenv\\lib\\site-packages\\sklearn\\utils\\validation.py:760: DataConversionWarning: A column-vector y was passed when a 1d array was expected. Please change the shape of y to (n_samples, ), for example using ravel().\n",
      "  y = column_or_1d(y, warn=True)\n"
     ]
    },
    {
     "name": "stdout",
     "output_type": "stream",
     "text": [
      "[CV] ....... C=0.5, degree=3, gamma=0.1, kernel=sigmoid, total=   0.0s\n",
      "[CV] C=0.5, degree=3, gamma=0.01, kernel=linear ......................\n",
      "[CV] ....... C=0.5, degree=3, gamma=0.01, kernel=linear, total=   0.0s\n",
      "[CV] C=0.5, degree=3, gamma=0.01, kernel=linear ......................\n",
      "[CV] ....... C=0.5, degree=3, gamma=0.01, kernel=linear, total=   0.0s\n",
      "[CV] C=0.5, degree=3, gamma=0.01, kernel=linear ......................\n",
      "[CV] ....... C=0.5, degree=3, gamma=0.01, kernel=linear, total=   0.0s\n",
      "[CV] C=0.5, degree=3, gamma=0.01, kernel=linear ......................\n",
      "[CV] ....... C=0.5, degree=3, gamma=0.01, kernel=linear, total=   0.0s\n",
      "[CV] C=0.5, degree=3, gamma=0.01, kernel=linear ......................\n",
      "[CV] ....... C=0.5, degree=3, gamma=0.01, kernel=linear, total=   0.0s\n",
      "[CV] C=0.5, degree=3, gamma=0.01, kernel=rbf .........................\n",
      "[CV] .......... C=0.5, degree=3, gamma=0.01, kernel=rbf, total=   0.1s\n",
      "[CV] C=0.5, degree=3, gamma=0.01, kernel=rbf .........................\n"
     ]
    },
    {
     "name": "stderr",
     "output_type": "stream",
     "text": [
      "C:\\Users\\laure\\Anaconda3\\envs\\myenv\\lib\\site-packages\\sklearn\\utils\\validation.py:760: DataConversionWarning: A column-vector y was passed when a 1d array was expected. Please change the shape of y to (n_samples, ), for example using ravel().\n",
      "  y = column_or_1d(y, warn=True)\n",
      "C:\\Users\\laure\\Anaconda3\\envs\\myenv\\lib\\site-packages\\sklearn\\utils\\validation.py:760: DataConversionWarning: A column-vector y was passed when a 1d array was expected. Please change the shape of y to (n_samples, ), for example using ravel().\n",
      "  y = column_or_1d(y, warn=True)\n"
     ]
    },
    {
     "name": "stdout",
     "output_type": "stream",
     "text": [
      "[CV] .......... C=0.5, degree=3, gamma=0.01, kernel=rbf, total=   0.1s\n",
      "[CV] C=0.5, degree=3, gamma=0.01, kernel=rbf .........................\n",
      "[CV] .......... C=0.5, degree=3, gamma=0.01, kernel=rbf, total=   0.1s\n",
      "[CV] C=0.5, degree=3, gamma=0.01, kernel=rbf .........................\n"
     ]
    },
    {
     "name": "stderr",
     "output_type": "stream",
     "text": [
      "C:\\Users\\laure\\Anaconda3\\envs\\myenv\\lib\\site-packages\\sklearn\\utils\\validation.py:760: DataConversionWarning: A column-vector y was passed when a 1d array was expected. Please change the shape of y to (n_samples, ), for example using ravel().\n",
      "  y = column_or_1d(y, warn=True)\n",
      "C:\\Users\\laure\\Anaconda3\\envs\\myenv\\lib\\site-packages\\sklearn\\utils\\validation.py:760: DataConversionWarning: A column-vector y was passed when a 1d array was expected. Please change the shape of y to (n_samples, ), for example using ravel().\n",
      "  y = column_or_1d(y, warn=True)\n"
     ]
    },
    {
     "name": "stdout",
     "output_type": "stream",
     "text": [
      "[CV] .......... C=0.5, degree=3, gamma=0.01, kernel=rbf, total=   0.1s\n",
      "[CV] C=0.5, degree=3, gamma=0.01, kernel=rbf .........................\n",
      "[CV] .......... C=0.5, degree=3, gamma=0.01, kernel=rbf, total=   0.1s\n",
      "[CV] C=0.5, degree=3, gamma=0.01, kernel=poly ........................\n"
     ]
    },
    {
     "name": "stderr",
     "output_type": "stream",
     "text": [
      "C:\\Users\\laure\\Anaconda3\\envs\\myenv\\lib\\site-packages\\sklearn\\utils\\validation.py:760: DataConversionWarning: A column-vector y was passed when a 1d array was expected. Please change the shape of y to (n_samples, ), for example using ravel().\n",
      "  y = column_or_1d(y, warn=True)\n"
     ]
    },
    {
     "name": "stdout",
     "output_type": "stream",
     "text": [
      "[CV] ......... C=0.5, degree=3, gamma=0.01, kernel=poly, total=   0.2s\n",
      "[CV] C=0.5, degree=3, gamma=0.01, kernel=poly ........................\n",
      "[CV] ......... C=0.5, degree=3, gamma=0.01, kernel=poly, total=   0.2s\n",
      "[CV] C=0.5, degree=3, gamma=0.01, kernel=poly ........................\n"
     ]
    },
    {
     "name": "stderr",
     "output_type": "stream",
     "text": [
      "C:\\Users\\laure\\Anaconda3\\envs\\myenv\\lib\\site-packages\\sklearn\\utils\\validation.py:760: DataConversionWarning: A column-vector y was passed when a 1d array was expected. Please change the shape of y to (n_samples, ), for example using ravel().\n",
      "  y = column_or_1d(y, warn=True)\n",
      "C:\\Users\\laure\\Anaconda3\\envs\\myenv\\lib\\site-packages\\sklearn\\utils\\validation.py:760: DataConversionWarning: A column-vector y was passed when a 1d array was expected. Please change the shape of y to (n_samples, ), for example using ravel().\n",
      "  y = column_or_1d(y, warn=True)\n"
     ]
    },
    {
     "name": "stdout",
     "output_type": "stream",
     "text": [
      "[CV] ......... C=0.5, degree=3, gamma=0.01, kernel=poly, total=   0.2s\n",
      "[CV] C=0.5, degree=3, gamma=0.01, kernel=poly ........................\n",
      "[CV] ......... C=0.5, degree=3, gamma=0.01, kernel=poly, total=   0.2s\n",
      "[CV] C=0.5, degree=3, gamma=0.01, kernel=poly ........................\n"
     ]
    },
    {
     "name": "stderr",
     "output_type": "stream",
     "text": [
      "C:\\Users\\laure\\Anaconda3\\envs\\myenv\\lib\\site-packages\\sklearn\\utils\\validation.py:760: DataConversionWarning: A column-vector y was passed when a 1d array was expected. Please change the shape of y to (n_samples, ), for example using ravel().\n",
      "  y = column_or_1d(y, warn=True)\n",
      "C:\\Users\\laure\\Anaconda3\\envs\\myenv\\lib\\site-packages\\sklearn\\utils\\validation.py:760: DataConversionWarning: A column-vector y was passed when a 1d array was expected. Please change the shape of y to (n_samples, ), for example using ravel().\n",
      "  y = column_or_1d(y, warn=True)\n"
     ]
    },
    {
     "name": "stdout",
     "output_type": "stream",
     "text": [
      "[CV] ......... C=0.5, degree=3, gamma=0.01, kernel=poly, total=   0.2s\n",
      "[CV] C=0.5, degree=3, gamma=0.01, kernel=sigmoid .....................\n"
     ]
    },
    {
     "name": "stderr",
     "output_type": "stream",
     "text": [
      "C:\\Users\\laure\\Anaconda3\\envs\\myenv\\lib\\site-packages\\sklearn\\utils\\validation.py:760: DataConversionWarning: A column-vector y was passed when a 1d array was expected. Please change the shape of y to (n_samples, ), for example using ravel().\n",
      "  y = column_or_1d(y, warn=True)\n"
     ]
    },
    {
     "name": "stdout",
     "output_type": "stream",
     "text": [
      "[CV] ...... C=0.5, degree=3, gamma=0.01, kernel=sigmoid, total=   0.2s\n",
      "[CV] C=0.5, degree=3, gamma=0.01, kernel=sigmoid .....................\n",
      "[CV] ...... C=0.5, degree=3, gamma=0.01, kernel=sigmoid, total=   0.2s\n",
      "[CV] C=0.5, degree=3, gamma=0.01, kernel=sigmoid .....................\n"
     ]
    },
    {
     "name": "stderr",
     "output_type": "stream",
     "text": [
      "C:\\Users\\laure\\Anaconda3\\envs\\myenv\\lib\\site-packages\\sklearn\\utils\\validation.py:760: DataConversionWarning: A column-vector y was passed when a 1d array was expected. Please change the shape of y to (n_samples, ), for example using ravel().\n",
      "  y = column_or_1d(y, warn=True)\n",
      "C:\\Users\\laure\\Anaconda3\\envs\\myenv\\lib\\site-packages\\sklearn\\utils\\validation.py:760: DataConversionWarning: A column-vector y was passed when a 1d array was expected. Please change the shape of y to (n_samples, ), for example using ravel().\n",
      "  y = column_or_1d(y, warn=True)\n"
     ]
    },
    {
     "name": "stdout",
     "output_type": "stream",
     "text": [
      "[CV] ...... C=0.5, degree=3, gamma=0.01, kernel=sigmoid, total=   0.2s\n",
      "[CV] C=0.5, degree=3, gamma=0.01, kernel=sigmoid .....................\n"
     ]
    },
    {
     "name": "stderr",
     "output_type": "stream",
     "text": [
      "C:\\Users\\laure\\Anaconda3\\envs\\myenv\\lib\\site-packages\\sklearn\\utils\\validation.py:760: DataConversionWarning: A column-vector y was passed when a 1d array was expected. Please change the shape of y to (n_samples, ), for example using ravel().\n",
      "  y = column_or_1d(y, warn=True)\n"
     ]
    },
    {
     "name": "stdout",
     "output_type": "stream",
     "text": [
      "[CV] ...... C=0.5, degree=3, gamma=0.01, kernel=sigmoid, total=   0.2s\n",
      "[CV] C=0.5, degree=3, gamma=0.01, kernel=sigmoid .....................\n"
     ]
    },
    {
     "name": "stderr",
     "output_type": "stream",
     "text": [
      "C:\\Users\\laure\\Anaconda3\\envs\\myenv\\lib\\site-packages\\sklearn\\utils\\validation.py:760: DataConversionWarning: A column-vector y was passed when a 1d array was expected. Please change the shape of y to (n_samples, ), for example using ravel().\n",
      "  y = column_or_1d(y, warn=True)\n"
     ]
    },
    {
     "name": "stdout",
     "output_type": "stream",
     "text": [
      "[CV] ...... C=0.5, degree=3, gamma=0.01, kernel=sigmoid, total=   0.2s\n",
      "[CV] C=0.5, degree=3, gamma=0.001, kernel=linear .....................\n",
      "[CV] ...... C=0.5, degree=3, gamma=0.001, kernel=linear, total=   0.0s\n",
      "[CV] C=0.5, degree=3, gamma=0.001, kernel=linear .....................\n",
      "[CV] ...... C=0.5, degree=3, gamma=0.001, kernel=linear, total=   0.0s\n",
      "[CV] C=0.5, degree=3, gamma=0.001, kernel=linear .....................\n",
      "[CV] ...... C=0.5, degree=3, gamma=0.001, kernel=linear, total=   0.0s\n",
      "[CV] C=0.5, degree=3, gamma=0.001, kernel=linear .....................\n",
      "[CV] ...... C=0.5, degree=3, gamma=0.001, kernel=linear, total=   0.0s\n",
      "[CV] C=0.5, degree=3, gamma=0.001, kernel=linear .....................\n",
      "[CV] ...... C=0.5, degree=3, gamma=0.001, kernel=linear, total=   0.0s\n",
      "[CV] C=0.5, degree=3, gamma=0.001, kernel=rbf ........................\n"
     ]
    },
    {
     "name": "stderr",
     "output_type": "stream",
     "text": [
      "C:\\Users\\laure\\Anaconda3\\envs\\myenv\\lib\\site-packages\\sklearn\\utils\\validation.py:760: DataConversionWarning: A column-vector y was passed when a 1d array was expected. Please change the shape of y to (n_samples, ), for example using ravel().\n",
      "  y = column_or_1d(y, warn=True)\n",
      "C:\\Users\\laure\\Anaconda3\\envs\\myenv\\lib\\site-packages\\sklearn\\utils\\validation.py:760: DataConversionWarning: A column-vector y was passed when a 1d array was expected. Please change the shape of y to (n_samples, ), for example using ravel().\n",
      "  y = column_or_1d(y, warn=True)\n",
      "C:\\Users\\laure\\Anaconda3\\envs\\myenv\\lib\\site-packages\\sklearn\\utils\\validation.py:760: DataConversionWarning: A column-vector y was passed when a 1d array was expected. Please change the shape of y to (n_samples, ), for example using ravel().\n",
      "  y = column_or_1d(y, warn=True)\n",
      "C:\\Users\\laure\\Anaconda3\\envs\\myenv\\lib\\site-packages\\sklearn\\utils\\validation.py:760: DataConversionWarning: A column-vector y was passed when a 1d array was expected. Please change the shape of y to (n_samples, ), for example using ravel().\n",
      "  y = column_or_1d(y, warn=True)\n",
      "C:\\Users\\laure\\Anaconda3\\envs\\myenv\\lib\\site-packages\\sklearn\\utils\\validation.py:760: DataConversionWarning: A column-vector y was passed when a 1d array was expected. Please change the shape of y to (n_samples, ), for example using ravel().\n",
      "  y = column_or_1d(y, warn=True)\n",
      "C:\\Users\\laure\\Anaconda3\\envs\\myenv\\lib\\site-packages\\sklearn\\utils\\validation.py:760: DataConversionWarning: A column-vector y was passed when a 1d array was expected. Please change the shape of y to (n_samples, ), for example using ravel().\n",
      "  y = column_or_1d(y, warn=True)\n"
     ]
    },
    {
     "name": "stdout",
     "output_type": "stream",
     "text": [
      "[CV] ......... C=0.5, degree=3, gamma=0.001, kernel=rbf, total=   0.3s\n",
      "[CV] C=0.5, degree=3, gamma=0.001, kernel=rbf ........................\n"
     ]
    },
    {
     "name": "stderr",
     "output_type": "stream",
     "text": [
      "C:\\Users\\laure\\Anaconda3\\envs\\myenv\\lib\\site-packages\\sklearn\\utils\\validation.py:760: DataConversionWarning: A column-vector y was passed when a 1d array was expected. Please change the shape of y to (n_samples, ), for example using ravel().\n",
      "  y = column_or_1d(y, warn=True)\n"
     ]
    },
    {
     "name": "stdout",
     "output_type": "stream",
     "text": [
      "[CV] ......... C=0.5, degree=3, gamma=0.001, kernel=rbf, total=   0.3s\n",
      "[CV] C=0.5, degree=3, gamma=0.001, kernel=rbf ........................\n"
     ]
    },
    {
     "name": "stderr",
     "output_type": "stream",
     "text": [
      "C:\\Users\\laure\\Anaconda3\\envs\\myenv\\lib\\site-packages\\sklearn\\utils\\validation.py:760: DataConversionWarning: A column-vector y was passed when a 1d array was expected. Please change the shape of y to (n_samples, ), for example using ravel().\n",
      "  y = column_or_1d(y, warn=True)\n"
     ]
    },
    {
     "name": "stdout",
     "output_type": "stream",
     "text": [
      "[CV] ......... C=0.5, degree=3, gamma=0.001, kernel=rbf, total=   0.3s\n",
      "[CV] C=0.5, degree=3, gamma=0.001, kernel=rbf ........................\n"
     ]
    },
    {
     "name": "stderr",
     "output_type": "stream",
     "text": [
      "C:\\Users\\laure\\Anaconda3\\envs\\myenv\\lib\\site-packages\\sklearn\\utils\\validation.py:760: DataConversionWarning: A column-vector y was passed when a 1d array was expected. Please change the shape of y to (n_samples, ), for example using ravel().\n",
      "  y = column_or_1d(y, warn=True)\n"
     ]
    },
    {
     "name": "stdout",
     "output_type": "stream",
     "text": [
      "[CV] ......... C=0.5, degree=3, gamma=0.001, kernel=rbf, total=   0.3s\n",
      "[CV] C=0.5, degree=3, gamma=0.001, kernel=rbf ........................\n"
     ]
    },
    {
     "name": "stderr",
     "output_type": "stream",
     "text": [
      "C:\\Users\\laure\\Anaconda3\\envs\\myenv\\lib\\site-packages\\sklearn\\utils\\validation.py:760: DataConversionWarning: A column-vector y was passed when a 1d array was expected. Please change the shape of y to (n_samples, ), for example using ravel().\n",
      "  y = column_or_1d(y, warn=True)\n"
     ]
    },
    {
     "name": "stdout",
     "output_type": "stream",
     "text": [
      "[CV] ......... C=0.5, degree=3, gamma=0.001, kernel=rbf, total=   0.3s\n",
      "[CV] C=0.5, degree=3, gamma=0.001, kernel=poly .......................\n",
      "[CV] ........ C=0.5, degree=3, gamma=0.001, kernel=poly, total=   0.2s\n",
      "[CV] C=0.5, degree=3, gamma=0.001, kernel=poly .......................\n"
     ]
    },
    {
     "name": "stderr",
     "output_type": "stream",
     "text": [
      "C:\\Users\\laure\\Anaconda3\\envs\\myenv\\lib\\site-packages\\sklearn\\utils\\validation.py:760: DataConversionWarning: A column-vector y was passed when a 1d array was expected. Please change the shape of y to (n_samples, ), for example using ravel().\n",
      "  y = column_or_1d(y, warn=True)\n",
      "C:\\Users\\laure\\Anaconda3\\envs\\myenv\\lib\\site-packages\\sklearn\\utils\\validation.py:760: DataConversionWarning: A column-vector y was passed when a 1d array was expected. Please change the shape of y to (n_samples, ), for example using ravel().\n",
      "  y = column_or_1d(y, warn=True)\n"
     ]
    },
    {
     "name": "stdout",
     "output_type": "stream",
     "text": [
      "[CV] ........ C=0.5, degree=3, gamma=0.001, kernel=poly, total=   0.2s\n",
      "[CV] C=0.5, degree=3, gamma=0.001, kernel=poly .......................\n",
      "[CV] ........ C=0.5, degree=3, gamma=0.001, kernel=poly, total=   0.2s\n",
      "[CV] C=0.5, degree=3, gamma=0.001, kernel=poly .......................\n"
     ]
    },
    {
     "name": "stderr",
     "output_type": "stream",
     "text": [
      "C:\\Users\\laure\\Anaconda3\\envs\\myenv\\lib\\site-packages\\sklearn\\utils\\validation.py:760: DataConversionWarning: A column-vector y was passed when a 1d array was expected. Please change the shape of y to (n_samples, ), for example using ravel().\n",
      "  y = column_or_1d(y, warn=True)\n",
      "C:\\Users\\laure\\Anaconda3\\envs\\myenv\\lib\\site-packages\\sklearn\\utils\\validation.py:760: DataConversionWarning: A column-vector y was passed when a 1d array was expected. Please change the shape of y to (n_samples, ), for example using ravel().\n",
      "  y = column_or_1d(y, warn=True)\n"
     ]
    },
    {
     "name": "stdout",
     "output_type": "stream",
     "text": [
      "[CV] ........ C=0.5, degree=3, gamma=0.001, kernel=poly, total=   0.2s\n",
      "[CV] C=0.5, degree=3, gamma=0.001, kernel=poly .......................\n",
      "[CV] ........ C=0.5, degree=3, gamma=0.001, kernel=poly, total=   0.2s\n",
      "[CV] C=0.5, degree=3, gamma=0.001, kernel=sigmoid ....................\n"
     ]
    },
    {
     "name": "stderr",
     "output_type": "stream",
     "text": [
      "C:\\Users\\laure\\Anaconda3\\envs\\myenv\\lib\\site-packages\\sklearn\\utils\\validation.py:760: DataConversionWarning: A column-vector y was passed when a 1d array was expected. Please change the shape of y to (n_samples, ), for example using ravel().\n",
      "  y = column_or_1d(y, warn=True)\n",
      "C:\\Users\\laure\\Anaconda3\\envs\\myenv\\lib\\site-packages\\sklearn\\utils\\validation.py:760: DataConversionWarning: A column-vector y was passed when a 1d array was expected. Please change the shape of y to (n_samples, ), for example using ravel().\n",
      "  y = column_or_1d(y, warn=True)\n"
     ]
    },
    {
     "name": "stdout",
     "output_type": "stream",
     "text": [
      "[CV] ..... C=0.5, degree=3, gamma=0.001, kernel=sigmoid, total=   0.3s\n",
      "[CV] C=0.5, degree=3, gamma=0.001, kernel=sigmoid ....................\n"
     ]
    },
    {
     "name": "stderr",
     "output_type": "stream",
     "text": [
      "C:\\Users\\laure\\Anaconda3\\envs\\myenv\\lib\\site-packages\\sklearn\\utils\\validation.py:760: DataConversionWarning: A column-vector y was passed when a 1d array was expected. Please change the shape of y to (n_samples, ), for example using ravel().\n",
      "  y = column_or_1d(y, warn=True)\n"
     ]
    },
    {
     "name": "stdout",
     "output_type": "stream",
     "text": [
      "[CV] ..... C=0.5, degree=3, gamma=0.001, kernel=sigmoid, total=   0.3s\n",
      "[CV] C=0.5, degree=3, gamma=0.001, kernel=sigmoid ....................\n"
     ]
    },
    {
     "name": "stderr",
     "output_type": "stream",
     "text": [
      "C:\\Users\\laure\\Anaconda3\\envs\\myenv\\lib\\site-packages\\sklearn\\utils\\validation.py:760: DataConversionWarning: A column-vector y was passed when a 1d array was expected. Please change the shape of y to (n_samples, ), for example using ravel().\n",
      "  y = column_or_1d(y, warn=True)\n"
     ]
    },
    {
     "name": "stdout",
     "output_type": "stream",
     "text": [
      "[CV] ..... C=0.5, degree=3, gamma=0.001, kernel=sigmoid, total=   0.3s\n",
      "[CV] C=0.5, degree=3, gamma=0.001, kernel=sigmoid ....................\n"
     ]
    },
    {
     "name": "stderr",
     "output_type": "stream",
     "text": [
      "C:\\Users\\laure\\Anaconda3\\envs\\myenv\\lib\\site-packages\\sklearn\\utils\\validation.py:760: DataConversionWarning: A column-vector y was passed when a 1d array was expected. Please change the shape of y to (n_samples, ), for example using ravel().\n",
      "  y = column_or_1d(y, warn=True)\n"
     ]
    },
    {
     "name": "stdout",
     "output_type": "stream",
     "text": [
      "[CV] ..... C=0.5, degree=3, gamma=0.001, kernel=sigmoid, total=   0.3s\n",
      "[CV] C=0.5, degree=3, gamma=0.001, kernel=sigmoid ....................\n"
     ]
    },
    {
     "name": "stderr",
     "output_type": "stream",
     "text": [
      "C:\\Users\\laure\\Anaconda3\\envs\\myenv\\lib\\site-packages\\sklearn\\utils\\validation.py:760: DataConversionWarning: A column-vector y was passed when a 1d array was expected. Please change the shape of y to (n_samples, ), for example using ravel().\n",
      "  y = column_or_1d(y, warn=True)\n"
     ]
    },
    {
     "name": "stdout",
     "output_type": "stream",
     "text": [
      "[CV] ..... C=0.5, degree=3, gamma=0.001, kernel=sigmoid, total=   0.3s\n",
      "[CV] C=0.5, degree=4, gamma=1, kernel=linear .........................\n",
      "[CV] .......... C=0.5, degree=4, gamma=1, kernel=linear, total=   0.0s\n",
      "[CV] C=0.5, degree=4, gamma=1, kernel=linear .........................\n",
      "[CV] .......... C=0.5, degree=4, gamma=1, kernel=linear, total=   0.0s\n",
      "[CV] C=0.5, degree=4, gamma=1, kernel=linear .........................\n",
      "[CV] .......... C=0.5, degree=4, gamma=1, kernel=linear, total=   0.0s\n",
      "[CV] C=0.5, degree=4, gamma=1, kernel=linear .........................\n",
      "[CV] .......... C=0.5, degree=4, gamma=1, kernel=linear, total=   0.0s\n",
      "[CV] C=0.5, degree=4, gamma=1, kernel=linear .........................\n",
      "[CV] .......... C=0.5, degree=4, gamma=1, kernel=linear, total=   0.0s\n",
      "[CV] C=0.5, degree=4, gamma=1, kernel=rbf ............................\n",
      "[CV] ............. C=0.5, degree=4, gamma=1, kernel=rbf, total=   0.0s\n",
      "[CV] C=0.5, degree=4, gamma=1, kernel=rbf ............................\n",
      "[CV] ............. C=0.5, degree=4, gamma=1, kernel=rbf, total=   0.0s\n",
      "[CV] C=0.5, degree=4, gamma=1, kernel=rbf ............................\n",
      "[CV] ............. C=0.5, degree=4, gamma=1, kernel=rbf, total=   0.0s\n",
      "[CV] C=0.5, degree=4, gamma=1, kernel=rbf ............................\n",
      "[CV] ............. C=0.5, degree=4, gamma=1, kernel=rbf, total=   0.0s\n",
      "[CV] C=0.5, degree=4, gamma=1, kernel=rbf ............................\n",
      "[CV] ............. C=0.5, degree=4, gamma=1, kernel=rbf, total=   0.0s\n",
      "[CV] C=0.5, degree=4, gamma=1, kernel=poly ...........................\n",
      "[CV] ............ C=0.5, degree=4, gamma=1, kernel=poly, total=   0.0s\n",
      "[CV] C=0.5, degree=4, gamma=1, kernel=poly ...........................\n",
      "[CV] ............ C=0.5, degree=4, gamma=1, kernel=poly, total=   0.0s\n",
      "[CV] C=0.5, degree=4, gamma=1, kernel=poly ...........................\n"
     ]
    },
    {
     "name": "stderr",
     "output_type": "stream",
     "text": [
      "C:\\Users\\laure\\Anaconda3\\envs\\myenv\\lib\\site-packages\\sklearn\\utils\\validation.py:760: DataConversionWarning: A column-vector y was passed when a 1d array was expected. Please change the shape of y to (n_samples, ), for example using ravel().\n",
      "  y = column_or_1d(y, warn=True)\n",
      "C:\\Users\\laure\\Anaconda3\\envs\\myenv\\lib\\site-packages\\sklearn\\utils\\validation.py:760: DataConversionWarning: A column-vector y was passed when a 1d array was expected. Please change the shape of y to (n_samples, ), for example using ravel().\n",
      "  y = column_or_1d(y, warn=True)\n",
      "C:\\Users\\laure\\Anaconda3\\envs\\myenv\\lib\\site-packages\\sklearn\\utils\\validation.py:760: DataConversionWarning: A column-vector y was passed when a 1d array was expected. Please change the shape of y to (n_samples, ), for example using ravel().\n",
      "  y = column_or_1d(y, warn=True)\n",
      "C:\\Users\\laure\\Anaconda3\\envs\\myenv\\lib\\site-packages\\sklearn\\utils\\validation.py:760: DataConversionWarning: A column-vector y was passed when a 1d array was expected. Please change the shape of y to (n_samples, ), for example using ravel().\n",
      "  y = column_or_1d(y, warn=True)\n",
      "C:\\Users\\laure\\Anaconda3\\envs\\myenv\\lib\\site-packages\\sklearn\\utils\\validation.py:760: DataConversionWarning: A column-vector y was passed when a 1d array was expected. Please change the shape of y to (n_samples, ), for example using ravel().\n",
      "  y = column_or_1d(y, warn=True)\n",
      "C:\\Users\\laure\\Anaconda3\\envs\\myenv\\lib\\site-packages\\sklearn\\utils\\validation.py:760: DataConversionWarning: A column-vector y was passed when a 1d array was expected. Please change the shape of y to (n_samples, ), for example using ravel().\n",
      "  y = column_or_1d(y, warn=True)\n",
      "C:\\Users\\laure\\Anaconda3\\envs\\myenv\\lib\\site-packages\\sklearn\\utils\\validation.py:760: DataConversionWarning: A column-vector y was passed when a 1d array was expected. Please change the shape of y to (n_samples, ), for example using ravel().\n",
      "  y = column_or_1d(y, warn=True)\n",
      "C:\\Users\\laure\\Anaconda3\\envs\\myenv\\lib\\site-packages\\sklearn\\utils\\validation.py:760: DataConversionWarning: A column-vector y was passed when a 1d array was expected. Please change the shape of y to (n_samples, ), for example using ravel().\n",
      "  y = column_or_1d(y, warn=True)\n",
      "C:\\Users\\laure\\Anaconda3\\envs\\myenv\\lib\\site-packages\\sklearn\\utils\\validation.py:760: DataConversionWarning: A column-vector y was passed when a 1d array was expected. Please change the shape of y to (n_samples, ), for example using ravel().\n",
      "  y = column_or_1d(y, warn=True)\n",
      "C:\\Users\\laure\\Anaconda3\\envs\\myenv\\lib\\site-packages\\sklearn\\utils\\validation.py:760: DataConversionWarning: A column-vector y was passed when a 1d array was expected. Please change the shape of y to (n_samples, ), for example using ravel().\n",
      "  y = column_or_1d(y, warn=True)\n",
      "C:\\Users\\laure\\Anaconda3\\envs\\myenv\\lib\\site-packages\\sklearn\\utils\\validation.py:760: DataConversionWarning: A column-vector y was passed when a 1d array was expected. Please change the shape of y to (n_samples, ), for example using ravel().\n",
      "  y = column_or_1d(y, warn=True)\n",
      "C:\\Users\\laure\\Anaconda3\\envs\\myenv\\lib\\site-packages\\sklearn\\utils\\validation.py:760: DataConversionWarning: A column-vector y was passed when a 1d array was expected. Please change the shape of y to (n_samples, ), for example using ravel().\n",
      "  y = column_or_1d(y, warn=True)\n"
     ]
    },
    {
     "name": "stdout",
     "output_type": "stream",
     "text": [
      "[CV] ............ C=0.5, degree=4, gamma=1, kernel=poly, total=   0.0s\n",
      "[CV] C=0.5, degree=4, gamma=1, kernel=poly ...........................\n",
      "[CV] ............ C=0.5, degree=4, gamma=1, kernel=poly, total=   0.0s\n",
      "[CV] C=0.5, degree=4, gamma=1, kernel=poly ...........................\n",
      "[CV] ............ C=0.5, degree=4, gamma=1, kernel=poly, total=   0.0s\n",
      "[CV] C=0.5, degree=4, gamma=1, kernel=sigmoid ........................\n",
      "[CV] ......... C=0.5, degree=4, gamma=1, kernel=sigmoid, total=   0.0s\n",
      "[CV] C=0.5, degree=4, gamma=1, kernel=sigmoid ........................\n",
      "[CV] ......... C=0.5, degree=4, gamma=1, kernel=sigmoid, total=   0.0s\n",
      "[CV] C=0.5, degree=4, gamma=1, kernel=sigmoid ........................\n",
      "[CV] ......... C=0.5, degree=4, gamma=1, kernel=sigmoid, total=   0.0s\n",
      "[CV] C=0.5, degree=4, gamma=1, kernel=sigmoid ........................\n",
      "[CV] ......... C=0.5, degree=4, gamma=1, kernel=sigmoid, total=   0.0s\n",
      "[CV] C=0.5, degree=4, gamma=1, kernel=sigmoid ........................\n",
      "[CV] ......... C=0.5, degree=4, gamma=1, kernel=sigmoid, total=   0.0s\n",
      "[CV] C=0.5, degree=4, gamma=0.1, kernel=linear .......................\n",
      "[CV] ........ C=0.5, degree=4, gamma=0.1, kernel=linear, total=   0.0s\n",
      "[CV] C=0.5, degree=4, gamma=0.1, kernel=linear .......................\n",
      "[CV] ........ C=0.5, degree=4, gamma=0.1, kernel=linear, total=   0.0s\n",
      "[CV] C=0.5, degree=4, gamma=0.1, kernel=linear .......................\n",
      "[CV] ........ C=0.5, degree=4, gamma=0.1, kernel=linear, total=   0.0s\n",
      "[CV] C=0.5, degree=4, gamma=0.1, kernel=linear .......................\n",
      "[CV] ........ C=0.5, degree=4, gamma=0.1, kernel=linear, total=   0.0s\n",
      "[CV] C=0.5, degree=4, gamma=0.1, kernel=linear .......................\n",
      "[CV] ........ C=0.5, degree=4, gamma=0.1, kernel=linear, total=   0.0s\n",
      "[CV] C=0.5, degree=4, gamma=0.1, kernel=rbf ..........................\n",
      "[CV] ........... C=0.5, degree=4, gamma=0.1, kernel=rbf, total=   0.0s\n",
      "[CV] C=0.5, degree=4, gamma=0.1, kernel=rbf ..........................\n"
     ]
    },
    {
     "name": "stderr",
     "output_type": "stream",
     "text": [
      "C:\\Users\\laure\\Anaconda3\\envs\\myenv\\lib\\site-packages\\sklearn\\utils\\validation.py:760: DataConversionWarning: A column-vector y was passed when a 1d array was expected. Please change the shape of y to (n_samples, ), for example using ravel().\n",
      "  y = column_or_1d(y, warn=True)\n",
      "C:\\Users\\laure\\Anaconda3\\envs\\myenv\\lib\\site-packages\\sklearn\\utils\\validation.py:760: DataConversionWarning: A column-vector y was passed when a 1d array was expected. Please change the shape of y to (n_samples, ), for example using ravel().\n",
      "  y = column_or_1d(y, warn=True)\n",
      "C:\\Users\\laure\\Anaconda3\\envs\\myenv\\lib\\site-packages\\sklearn\\utils\\validation.py:760: DataConversionWarning: A column-vector y was passed when a 1d array was expected. Please change the shape of y to (n_samples, ), for example using ravel().\n",
      "  y = column_or_1d(y, warn=True)\n",
      "C:\\Users\\laure\\Anaconda3\\envs\\myenv\\lib\\site-packages\\sklearn\\utils\\validation.py:760: DataConversionWarning: A column-vector y was passed when a 1d array was expected. Please change the shape of y to (n_samples, ), for example using ravel().\n",
      "  y = column_or_1d(y, warn=True)\n",
      "C:\\Users\\laure\\Anaconda3\\envs\\myenv\\lib\\site-packages\\sklearn\\utils\\validation.py:760: DataConversionWarning: A column-vector y was passed when a 1d array was expected. Please change the shape of y to (n_samples, ), for example using ravel().\n",
      "  y = column_or_1d(y, warn=True)\n",
      "C:\\Users\\laure\\Anaconda3\\envs\\myenv\\lib\\site-packages\\sklearn\\utils\\validation.py:760: DataConversionWarning: A column-vector y was passed when a 1d array was expected. Please change the shape of y to (n_samples, ), for example using ravel().\n",
      "  y = column_or_1d(y, warn=True)\n",
      "C:\\Users\\laure\\Anaconda3\\envs\\myenv\\lib\\site-packages\\sklearn\\utils\\validation.py:760: DataConversionWarning: A column-vector y was passed when a 1d array was expected. Please change the shape of y to (n_samples, ), for example using ravel().\n",
      "  y = column_or_1d(y, warn=True)\n",
      "C:\\Users\\laure\\Anaconda3\\envs\\myenv\\lib\\site-packages\\sklearn\\utils\\validation.py:760: DataConversionWarning: A column-vector y was passed when a 1d array was expected. Please change the shape of y to (n_samples, ), for example using ravel().\n",
      "  y = column_or_1d(y, warn=True)\n",
      "C:\\Users\\laure\\Anaconda3\\envs\\myenv\\lib\\site-packages\\sklearn\\utils\\validation.py:760: DataConversionWarning: A column-vector y was passed when a 1d array was expected. Please change the shape of y to (n_samples, ), for example using ravel().\n",
      "  y = column_or_1d(y, warn=True)\n",
      "C:\\Users\\laure\\Anaconda3\\envs\\myenv\\lib\\site-packages\\sklearn\\utils\\validation.py:760: DataConversionWarning: A column-vector y was passed when a 1d array was expected. Please change the shape of y to (n_samples, ), for example using ravel().\n",
      "  y = column_or_1d(y, warn=True)\n",
      "C:\\Users\\laure\\Anaconda3\\envs\\myenv\\lib\\site-packages\\sklearn\\utils\\validation.py:760: DataConversionWarning: A column-vector y was passed when a 1d array was expected. Please change the shape of y to (n_samples, ), for example using ravel().\n",
      "  y = column_or_1d(y, warn=True)\n",
      "C:\\Users\\laure\\Anaconda3\\envs\\myenv\\lib\\site-packages\\sklearn\\utils\\validation.py:760: DataConversionWarning: A column-vector y was passed when a 1d array was expected. Please change the shape of y to (n_samples, ), for example using ravel().\n",
      "  y = column_or_1d(y, warn=True)\n",
      "C:\\Users\\laure\\Anaconda3\\envs\\myenv\\lib\\site-packages\\sklearn\\utils\\validation.py:760: DataConversionWarning: A column-vector y was passed when a 1d array was expected. Please change the shape of y to (n_samples, ), for example using ravel().\n",
      "  y = column_or_1d(y, warn=True)\n",
      "C:\\Users\\laure\\Anaconda3\\envs\\myenv\\lib\\site-packages\\sklearn\\utils\\validation.py:760: DataConversionWarning: A column-vector y was passed when a 1d array was expected. Please change the shape of y to (n_samples, ), for example using ravel().\n",
      "  y = column_or_1d(y, warn=True)\n",
      "C:\\Users\\laure\\Anaconda3\\envs\\myenv\\lib\\site-packages\\sklearn\\utils\\validation.py:760: DataConversionWarning: A column-vector y was passed when a 1d array was expected. Please change the shape of y to (n_samples, ), for example using ravel().\n",
      "  y = column_or_1d(y, warn=True)\n",
      "C:\\Users\\laure\\Anaconda3\\envs\\myenv\\lib\\site-packages\\sklearn\\utils\\validation.py:760: DataConversionWarning: A column-vector y was passed when a 1d array was expected. Please change the shape of y to (n_samples, ), for example using ravel().\n",
      "  y = column_or_1d(y, warn=True)\n",
      "C:\\Users\\laure\\Anaconda3\\envs\\myenv\\lib\\site-packages\\sklearn\\utils\\validation.py:760: DataConversionWarning: A column-vector y was passed when a 1d array was expected. Please change the shape of y to (n_samples, ), for example using ravel().\n",
      "  y = column_or_1d(y, warn=True)\n",
      "C:\\Users\\laure\\Anaconda3\\envs\\myenv\\lib\\site-packages\\sklearn\\utils\\validation.py:760: DataConversionWarning: A column-vector y was passed when a 1d array was expected. Please change the shape of y to (n_samples, ), for example using ravel().\n",
      "  y = column_or_1d(y, warn=True)\n",
      "C:\\Users\\laure\\Anaconda3\\envs\\myenv\\lib\\site-packages\\sklearn\\utils\\validation.py:760: DataConversionWarning: A column-vector y was passed when a 1d array was expected. Please change the shape of y to (n_samples, ), for example using ravel().\n",
      "  y = column_or_1d(y, warn=True)\n"
     ]
    },
    {
     "name": "stdout",
     "output_type": "stream",
     "text": [
      "[CV] ........... C=0.5, degree=4, gamma=0.1, kernel=rbf, total=   0.0s\n",
      "[CV] C=0.5, degree=4, gamma=0.1, kernel=rbf ..........................\n",
      "[CV] ........... C=0.5, degree=4, gamma=0.1, kernel=rbf, total=   0.0s\n",
      "[CV] C=0.5, degree=4, gamma=0.1, kernel=rbf ..........................\n",
      "[CV] ........... C=0.5, degree=4, gamma=0.1, kernel=rbf, total=   0.0s\n",
      "[CV] C=0.5, degree=4, gamma=0.1, kernel=rbf ..........................\n",
      "[CV] ........... C=0.5, degree=4, gamma=0.1, kernel=rbf, total=   0.0s\n",
      "[CV] C=0.5, degree=4, gamma=0.1, kernel=poly .........................\n",
      "[CV] .......... C=0.5, degree=4, gamma=0.1, kernel=poly, total=   0.2s\n",
      "[CV] C=0.5, degree=4, gamma=0.1, kernel=poly .........................\n",
      "[CV] .......... C=0.5, degree=4, gamma=0.1, kernel=poly, total=   0.2s\n",
      "[CV] C=0.5, degree=4, gamma=0.1, kernel=poly .........................\n"
     ]
    },
    {
     "name": "stderr",
     "output_type": "stream",
     "text": [
      "C:\\Users\\laure\\Anaconda3\\envs\\myenv\\lib\\site-packages\\sklearn\\utils\\validation.py:760: DataConversionWarning: A column-vector y was passed when a 1d array was expected. Please change the shape of y to (n_samples, ), for example using ravel().\n",
      "  y = column_or_1d(y, warn=True)\n",
      "C:\\Users\\laure\\Anaconda3\\envs\\myenv\\lib\\site-packages\\sklearn\\utils\\validation.py:760: DataConversionWarning: A column-vector y was passed when a 1d array was expected. Please change the shape of y to (n_samples, ), for example using ravel().\n",
      "  y = column_or_1d(y, warn=True)\n"
     ]
    },
    {
     "name": "stdout",
     "output_type": "stream",
     "text": [
      "[CV] .......... C=0.5, degree=4, gamma=0.1, kernel=poly, total=   0.2s\n",
      "[CV] C=0.5, degree=4, gamma=0.1, kernel=poly .........................\n",
      "[CV] .......... C=0.5, degree=4, gamma=0.1, kernel=poly, total=   0.2s\n",
      "[CV] C=0.5, degree=4, gamma=0.1, kernel=poly .........................\n"
     ]
    },
    {
     "name": "stderr",
     "output_type": "stream",
     "text": [
      "C:\\Users\\laure\\Anaconda3\\envs\\myenv\\lib\\site-packages\\sklearn\\utils\\validation.py:760: DataConversionWarning: A column-vector y was passed when a 1d array was expected. Please change the shape of y to (n_samples, ), for example using ravel().\n",
      "  y = column_or_1d(y, warn=True)\n",
      "C:\\Users\\laure\\Anaconda3\\envs\\myenv\\lib\\site-packages\\sklearn\\utils\\validation.py:760: DataConversionWarning: A column-vector y was passed when a 1d array was expected. Please change the shape of y to (n_samples, ), for example using ravel().\n",
      "  y = column_or_1d(y, warn=True)\n"
     ]
    },
    {
     "name": "stdout",
     "output_type": "stream",
     "text": [
      "[CV] .......... C=0.5, degree=4, gamma=0.1, kernel=poly, total=   0.2s\n",
      "[CV] C=0.5, degree=4, gamma=0.1, kernel=sigmoid ......................\n",
      "[CV] ....... C=0.5, degree=4, gamma=0.1, kernel=sigmoid, total=   0.0s\n",
      "[CV] C=0.5, degree=4, gamma=0.1, kernel=sigmoid ......................\n",
      "[CV] ....... C=0.5, degree=4, gamma=0.1, kernel=sigmoid, total=   0.1s\n",
      "[CV] C=0.5, degree=4, gamma=0.1, kernel=sigmoid ......................\n",
      "[CV] ....... C=0.5, degree=4, gamma=0.1, kernel=sigmoid, total=   0.1s\n",
      "[CV] C=0.5, degree=4, gamma=0.1, kernel=sigmoid ......................\n"
     ]
    },
    {
     "name": "stderr",
     "output_type": "stream",
     "text": [
      "C:\\Users\\laure\\Anaconda3\\envs\\myenv\\lib\\site-packages\\sklearn\\utils\\validation.py:760: DataConversionWarning: A column-vector y was passed when a 1d array was expected. Please change the shape of y to (n_samples, ), for example using ravel().\n",
      "  y = column_or_1d(y, warn=True)\n",
      "C:\\Users\\laure\\Anaconda3\\envs\\myenv\\lib\\site-packages\\sklearn\\utils\\validation.py:760: DataConversionWarning: A column-vector y was passed when a 1d array was expected. Please change the shape of y to (n_samples, ), for example using ravel().\n",
      "  y = column_or_1d(y, warn=True)\n",
      "C:\\Users\\laure\\Anaconda3\\envs\\myenv\\lib\\site-packages\\sklearn\\utils\\validation.py:760: DataConversionWarning: A column-vector y was passed when a 1d array was expected. Please change the shape of y to (n_samples, ), for example using ravel().\n",
      "  y = column_or_1d(y, warn=True)\n",
      "C:\\Users\\laure\\Anaconda3\\envs\\myenv\\lib\\site-packages\\sklearn\\utils\\validation.py:760: DataConversionWarning: A column-vector y was passed when a 1d array was expected. Please change the shape of y to (n_samples, ), for example using ravel().\n",
      "  y = column_or_1d(y, warn=True)\n"
     ]
    },
    {
     "name": "stdout",
     "output_type": "stream",
     "text": [
      "[CV] ....... C=0.5, degree=4, gamma=0.1, kernel=sigmoid, total=   0.1s\n",
      "[CV] C=0.5, degree=4, gamma=0.1, kernel=sigmoid ......................\n",
      "[CV] ....... C=0.5, degree=4, gamma=0.1, kernel=sigmoid, total=   0.0s\n",
      "[CV] C=0.5, degree=4, gamma=0.01, kernel=linear ......................\n",
      "[CV] ....... C=0.5, degree=4, gamma=0.01, kernel=linear, total=   0.0s\n",
      "[CV] C=0.5, degree=4, gamma=0.01, kernel=linear ......................\n",
      "[CV] ....... C=0.5, degree=4, gamma=0.01, kernel=linear, total=   0.0s\n",
      "[CV] C=0.5, degree=4, gamma=0.01, kernel=linear ......................\n",
      "[CV] ....... C=0.5, degree=4, gamma=0.01, kernel=linear, total=   0.0s\n",
      "[CV] C=0.5, degree=4, gamma=0.01, kernel=linear ......................\n",
      "[CV] ....... C=0.5, degree=4, gamma=0.01, kernel=linear, total=   0.0s\n",
      "[CV] C=0.5, degree=4, gamma=0.01, kernel=linear ......................\n",
      "[CV] ....... C=0.5, degree=4, gamma=0.01, kernel=linear, total=   0.0s\n",
      "[CV] C=0.5, degree=4, gamma=0.01, kernel=rbf .........................\n"
     ]
    },
    {
     "name": "stderr",
     "output_type": "stream",
     "text": [
      "C:\\Users\\laure\\Anaconda3\\envs\\myenv\\lib\\site-packages\\sklearn\\utils\\validation.py:760: DataConversionWarning: A column-vector y was passed when a 1d array was expected. Please change the shape of y to (n_samples, ), for example using ravel().\n",
      "  y = column_or_1d(y, warn=True)\n",
      "C:\\Users\\laure\\Anaconda3\\envs\\myenv\\lib\\site-packages\\sklearn\\utils\\validation.py:760: DataConversionWarning: A column-vector y was passed when a 1d array was expected. Please change the shape of y to (n_samples, ), for example using ravel().\n",
      "  y = column_or_1d(y, warn=True)\n",
      "C:\\Users\\laure\\Anaconda3\\envs\\myenv\\lib\\site-packages\\sklearn\\utils\\validation.py:760: DataConversionWarning: A column-vector y was passed when a 1d array was expected. Please change the shape of y to (n_samples, ), for example using ravel().\n",
      "  y = column_or_1d(y, warn=True)\n",
      "C:\\Users\\laure\\Anaconda3\\envs\\myenv\\lib\\site-packages\\sklearn\\utils\\validation.py:760: DataConversionWarning: A column-vector y was passed when a 1d array was expected. Please change the shape of y to (n_samples, ), for example using ravel().\n",
      "  y = column_or_1d(y, warn=True)\n",
      "C:\\Users\\laure\\Anaconda3\\envs\\myenv\\lib\\site-packages\\sklearn\\utils\\validation.py:760: DataConversionWarning: A column-vector y was passed when a 1d array was expected. Please change the shape of y to (n_samples, ), for example using ravel().\n",
      "  y = column_or_1d(y, warn=True)\n",
      "C:\\Users\\laure\\Anaconda3\\envs\\myenv\\lib\\site-packages\\sklearn\\utils\\validation.py:760: DataConversionWarning: A column-vector y was passed when a 1d array was expected. Please change the shape of y to (n_samples, ), for example using ravel().\n",
      "  y = column_or_1d(y, warn=True)\n",
      "C:\\Users\\laure\\Anaconda3\\envs\\myenv\\lib\\site-packages\\sklearn\\utils\\validation.py:760: DataConversionWarning: A column-vector y was passed when a 1d array was expected. Please change the shape of y to (n_samples, ), for example using ravel().\n",
      "  y = column_or_1d(y, warn=True)\n"
     ]
    },
    {
     "name": "stdout",
     "output_type": "stream",
     "text": [
      "[CV] .......... C=0.5, degree=4, gamma=0.01, kernel=rbf, total=   0.1s\n",
      "[CV] C=0.5, degree=4, gamma=0.01, kernel=rbf .........................\n",
      "[CV] .......... C=0.5, degree=4, gamma=0.01, kernel=rbf, total=   0.1s\n",
      "[CV] C=0.5, degree=4, gamma=0.01, kernel=rbf .........................\n"
     ]
    },
    {
     "name": "stderr",
     "output_type": "stream",
     "text": [
      "C:\\Users\\laure\\Anaconda3\\envs\\myenv\\lib\\site-packages\\sklearn\\utils\\validation.py:760: DataConversionWarning: A column-vector y was passed when a 1d array was expected. Please change the shape of y to (n_samples, ), for example using ravel().\n",
      "  y = column_or_1d(y, warn=True)\n",
      "C:\\Users\\laure\\Anaconda3\\envs\\myenv\\lib\\site-packages\\sklearn\\utils\\validation.py:760: DataConversionWarning: A column-vector y was passed when a 1d array was expected. Please change the shape of y to (n_samples, ), for example using ravel().\n",
      "  y = column_or_1d(y, warn=True)\n"
     ]
    },
    {
     "name": "stdout",
     "output_type": "stream",
     "text": [
      "[CV] .......... C=0.5, degree=4, gamma=0.01, kernel=rbf, total=   0.1s\n",
      "[CV] C=0.5, degree=4, gamma=0.01, kernel=rbf .........................\n",
      "[CV] .......... C=0.5, degree=4, gamma=0.01, kernel=rbf, total=   0.1s\n",
      "[CV] C=0.5, degree=4, gamma=0.01, kernel=rbf .........................\n"
     ]
    },
    {
     "name": "stderr",
     "output_type": "stream",
     "text": [
      "C:\\Users\\laure\\Anaconda3\\envs\\myenv\\lib\\site-packages\\sklearn\\utils\\validation.py:760: DataConversionWarning: A column-vector y was passed when a 1d array was expected. Please change the shape of y to (n_samples, ), for example using ravel().\n",
      "  y = column_or_1d(y, warn=True)\n",
      "C:\\Users\\laure\\Anaconda3\\envs\\myenv\\lib\\site-packages\\sklearn\\utils\\validation.py:760: DataConversionWarning: A column-vector y was passed when a 1d array was expected. Please change the shape of y to (n_samples, ), for example using ravel().\n",
      "  y = column_or_1d(y, warn=True)\n"
     ]
    },
    {
     "name": "stdout",
     "output_type": "stream",
     "text": [
      "[CV] .......... C=0.5, degree=4, gamma=0.01, kernel=rbf, total=   0.1s\n",
      "[CV] C=0.5, degree=4, gamma=0.01, kernel=poly ........................\n",
      "[CV] ......... C=0.5, degree=4, gamma=0.01, kernel=poly, total=   0.2s\n"
     ]
    },
    {
     "name": "stderr",
     "output_type": "stream",
     "text": [
      "C:\\Users\\laure\\Anaconda3\\envs\\myenv\\lib\\site-packages\\sklearn\\utils\\validation.py:760: DataConversionWarning: A column-vector y was passed when a 1d array was expected. Please change the shape of y to (n_samples, ), for example using ravel().\n",
      "  y = column_or_1d(y, warn=True)\n",
      "C:\\Users\\laure\\Anaconda3\\envs\\myenv\\lib\\site-packages\\sklearn\\utils\\validation.py:760: DataConversionWarning: A column-vector y was passed when a 1d array was expected. Please change the shape of y to (n_samples, ), for example using ravel().\n",
      "  y = column_or_1d(y, warn=True)\n"
     ]
    },
    {
     "name": "stdout",
     "output_type": "stream",
     "text": [
      "[CV] C=0.5, degree=4, gamma=0.01, kernel=poly ........................\n",
      "[CV] ......... C=0.5, degree=4, gamma=0.01, kernel=poly, total=   0.2s\n",
      "[CV] C=0.5, degree=4, gamma=0.01, kernel=poly ........................\n"
     ]
    },
    {
     "name": "stderr",
     "output_type": "stream",
     "text": [
      "C:\\Users\\laure\\Anaconda3\\envs\\myenv\\lib\\site-packages\\sklearn\\utils\\validation.py:760: DataConversionWarning: A column-vector y was passed when a 1d array was expected. Please change the shape of y to (n_samples, ), for example using ravel().\n",
      "  y = column_or_1d(y, warn=True)\n",
      "C:\\Users\\laure\\Anaconda3\\envs\\myenv\\lib\\site-packages\\sklearn\\utils\\validation.py:760: DataConversionWarning: A column-vector y was passed when a 1d array was expected. Please change the shape of y to (n_samples, ), for example using ravel().\n",
      "  y = column_or_1d(y, warn=True)\n"
     ]
    },
    {
     "name": "stdout",
     "output_type": "stream",
     "text": [
      "[CV] ......... C=0.5, degree=4, gamma=0.01, kernel=poly, total=   0.2s\n",
      "[CV] C=0.5, degree=4, gamma=0.01, kernel=poly ........................\n",
      "[CV] ......... C=0.5, degree=4, gamma=0.01, kernel=poly, total=   0.2s\n",
      "[CV] C=0.5, degree=4, gamma=0.01, kernel=poly ........................\n",
      "[CV] ......... C=0.5, degree=4, gamma=0.01, kernel=poly, total=   0.1s\n",
      "[CV] C=0.5, degree=4, gamma=0.01, kernel=sigmoid .....................\n"
     ]
    },
    {
     "name": "stderr",
     "output_type": "stream",
     "text": [
      "C:\\Users\\laure\\Anaconda3\\envs\\myenv\\lib\\site-packages\\sklearn\\utils\\validation.py:760: DataConversionWarning: A column-vector y was passed when a 1d array was expected. Please change the shape of y to (n_samples, ), for example using ravel().\n",
      "  y = column_or_1d(y, warn=True)\n",
      "C:\\Users\\laure\\Anaconda3\\envs\\myenv\\lib\\site-packages\\sklearn\\utils\\validation.py:760: DataConversionWarning: A column-vector y was passed when a 1d array was expected. Please change the shape of y to (n_samples, ), for example using ravel().\n",
      "  y = column_or_1d(y, warn=True)\n"
     ]
    },
    {
     "name": "stdout",
     "output_type": "stream",
     "text": [
      "[CV] ...... C=0.5, degree=4, gamma=0.01, kernel=sigmoid, total=   0.1s\n",
      "[CV] C=0.5, degree=4, gamma=0.01, kernel=sigmoid .....................\n"
     ]
    },
    {
     "name": "stderr",
     "output_type": "stream",
     "text": [
      "C:\\Users\\laure\\Anaconda3\\envs\\myenv\\lib\\site-packages\\sklearn\\utils\\validation.py:760: DataConversionWarning: A column-vector y was passed when a 1d array was expected. Please change the shape of y to (n_samples, ), for example using ravel().\n",
      "  y = column_or_1d(y, warn=True)\n"
     ]
    },
    {
     "name": "stdout",
     "output_type": "stream",
     "text": [
      "[CV] ...... C=0.5, degree=4, gamma=0.01, kernel=sigmoid, total=   0.2s\n",
      "[CV] C=0.5, degree=4, gamma=0.01, kernel=sigmoid .....................\n",
      "[CV] ...... C=0.5, degree=4, gamma=0.01, kernel=sigmoid, total=   0.2s\n",
      "[CV] C=0.5, degree=4, gamma=0.01, kernel=sigmoid .....................\n"
     ]
    },
    {
     "name": "stderr",
     "output_type": "stream",
     "text": [
      "C:\\Users\\laure\\Anaconda3\\envs\\myenv\\lib\\site-packages\\sklearn\\utils\\validation.py:760: DataConversionWarning: A column-vector y was passed when a 1d array was expected. Please change the shape of y to (n_samples, ), for example using ravel().\n",
      "  y = column_or_1d(y, warn=True)\n",
      "C:\\Users\\laure\\Anaconda3\\envs\\myenv\\lib\\site-packages\\sklearn\\utils\\validation.py:760: DataConversionWarning: A column-vector y was passed when a 1d array was expected. Please change the shape of y to (n_samples, ), for example using ravel().\n",
      "  y = column_or_1d(y, warn=True)\n"
     ]
    },
    {
     "name": "stdout",
     "output_type": "stream",
     "text": [
      "[CV] ...... C=0.5, degree=4, gamma=0.01, kernel=sigmoid, total=   0.2s\n",
      "[CV] C=0.5, degree=4, gamma=0.01, kernel=sigmoid .....................\n"
     ]
    },
    {
     "name": "stderr",
     "output_type": "stream",
     "text": [
      "C:\\Users\\laure\\Anaconda3\\envs\\myenv\\lib\\site-packages\\sklearn\\utils\\validation.py:760: DataConversionWarning: A column-vector y was passed when a 1d array was expected. Please change the shape of y to (n_samples, ), for example using ravel().\n",
      "  y = column_or_1d(y, warn=True)\n"
     ]
    },
    {
     "name": "stdout",
     "output_type": "stream",
     "text": [
      "[CV] ...... C=0.5, degree=4, gamma=0.01, kernel=sigmoid, total=   0.2s\n",
      "[CV] C=0.5, degree=4, gamma=0.001, kernel=linear .....................\n",
      "[CV] ...... C=0.5, degree=4, gamma=0.001, kernel=linear, total=   0.0s\n",
      "[CV] C=0.5, degree=4, gamma=0.001, kernel=linear .....................\n",
      "[CV] ...... C=0.5, degree=4, gamma=0.001, kernel=linear, total=   0.0s\n",
      "[CV] C=0.5, degree=4, gamma=0.001, kernel=linear .....................\n",
      "[CV] ...... C=0.5, degree=4, gamma=0.001, kernel=linear, total=   0.0s\n",
      "[CV] C=0.5, degree=4, gamma=0.001, kernel=linear .....................\n",
      "[CV] ...... C=0.5, degree=4, gamma=0.001, kernel=linear, total=   0.0s\n",
      "[CV] C=0.5, degree=4, gamma=0.001, kernel=linear .....................\n",
      "[CV] ...... C=0.5, degree=4, gamma=0.001, kernel=linear, total=   0.0s\n",
      "[CV] C=0.5, degree=4, gamma=0.001, kernel=rbf ........................\n"
     ]
    },
    {
     "name": "stderr",
     "output_type": "stream",
     "text": [
      "C:\\Users\\laure\\Anaconda3\\envs\\myenv\\lib\\site-packages\\sklearn\\utils\\validation.py:760: DataConversionWarning: A column-vector y was passed when a 1d array was expected. Please change the shape of y to (n_samples, ), for example using ravel().\n",
      "  y = column_or_1d(y, warn=True)\n",
      "C:\\Users\\laure\\Anaconda3\\envs\\myenv\\lib\\site-packages\\sklearn\\utils\\validation.py:760: DataConversionWarning: A column-vector y was passed when a 1d array was expected. Please change the shape of y to (n_samples, ), for example using ravel().\n",
      "  y = column_or_1d(y, warn=True)\n",
      "C:\\Users\\laure\\Anaconda3\\envs\\myenv\\lib\\site-packages\\sklearn\\utils\\validation.py:760: DataConversionWarning: A column-vector y was passed when a 1d array was expected. Please change the shape of y to (n_samples, ), for example using ravel().\n",
      "  y = column_or_1d(y, warn=True)\n",
      "C:\\Users\\laure\\Anaconda3\\envs\\myenv\\lib\\site-packages\\sklearn\\utils\\validation.py:760: DataConversionWarning: A column-vector y was passed when a 1d array was expected. Please change the shape of y to (n_samples, ), for example using ravel().\n",
      "  y = column_or_1d(y, warn=True)\n",
      "C:\\Users\\laure\\Anaconda3\\envs\\myenv\\lib\\site-packages\\sklearn\\utils\\validation.py:760: DataConversionWarning: A column-vector y was passed when a 1d array was expected. Please change the shape of y to (n_samples, ), for example using ravel().\n",
      "  y = column_or_1d(y, warn=True)\n",
      "C:\\Users\\laure\\Anaconda3\\envs\\myenv\\lib\\site-packages\\sklearn\\utils\\validation.py:760: DataConversionWarning: A column-vector y was passed when a 1d array was expected. Please change the shape of y to (n_samples, ), for example using ravel().\n",
      "  y = column_or_1d(y, warn=True)\n"
     ]
    },
    {
     "name": "stdout",
     "output_type": "stream",
     "text": [
      "[CV] ......... C=0.5, degree=4, gamma=0.001, kernel=rbf, total=   0.3s\n",
      "[CV] C=0.5, degree=4, gamma=0.001, kernel=rbf ........................\n"
     ]
    },
    {
     "name": "stderr",
     "output_type": "stream",
     "text": [
      "C:\\Users\\laure\\Anaconda3\\envs\\myenv\\lib\\site-packages\\sklearn\\utils\\validation.py:760: DataConversionWarning: A column-vector y was passed when a 1d array was expected. Please change the shape of y to (n_samples, ), for example using ravel().\n",
      "  y = column_or_1d(y, warn=True)\n"
     ]
    },
    {
     "name": "stdout",
     "output_type": "stream",
     "text": [
      "[CV] ......... C=0.5, degree=4, gamma=0.001, kernel=rbf, total=   0.3s\n",
      "[CV] C=0.5, degree=4, gamma=0.001, kernel=rbf ........................\n"
     ]
    },
    {
     "name": "stderr",
     "output_type": "stream",
     "text": [
      "C:\\Users\\laure\\Anaconda3\\envs\\myenv\\lib\\site-packages\\sklearn\\utils\\validation.py:760: DataConversionWarning: A column-vector y was passed when a 1d array was expected. Please change the shape of y to (n_samples, ), for example using ravel().\n",
      "  y = column_or_1d(y, warn=True)\n"
     ]
    },
    {
     "name": "stdout",
     "output_type": "stream",
     "text": [
      "[CV] ......... C=0.5, degree=4, gamma=0.001, kernel=rbf, total=   0.3s\n",
      "[CV] C=0.5, degree=4, gamma=0.001, kernel=rbf ........................\n"
     ]
    },
    {
     "name": "stderr",
     "output_type": "stream",
     "text": [
      "C:\\Users\\laure\\Anaconda3\\envs\\myenv\\lib\\site-packages\\sklearn\\utils\\validation.py:760: DataConversionWarning: A column-vector y was passed when a 1d array was expected. Please change the shape of y to (n_samples, ), for example using ravel().\n",
      "  y = column_or_1d(y, warn=True)\n"
     ]
    },
    {
     "name": "stdout",
     "output_type": "stream",
     "text": [
      "[CV] ......... C=0.5, degree=4, gamma=0.001, kernel=rbf, total=   0.3s\n",
      "[CV] C=0.5, degree=4, gamma=0.001, kernel=rbf ........................\n"
     ]
    },
    {
     "name": "stderr",
     "output_type": "stream",
     "text": [
      "C:\\Users\\laure\\Anaconda3\\envs\\myenv\\lib\\site-packages\\sklearn\\utils\\validation.py:760: DataConversionWarning: A column-vector y was passed when a 1d array was expected. Please change the shape of y to (n_samples, ), for example using ravel().\n",
      "  y = column_or_1d(y, warn=True)\n"
     ]
    },
    {
     "name": "stdout",
     "output_type": "stream",
     "text": [
      "[CV] ......... C=0.5, degree=4, gamma=0.001, kernel=rbf, total=   0.3s\n",
      "[CV] C=0.5, degree=4, gamma=0.001, kernel=poly .......................\n",
      "[CV] ........ C=0.5, degree=4, gamma=0.001, kernel=poly, total=   0.2s\n",
      "[CV] C=0.5, degree=4, gamma=0.001, kernel=poly .......................\n"
     ]
    },
    {
     "name": "stderr",
     "output_type": "stream",
     "text": [
      "C:\\Users\\laure\\Anaconda3\\envs\\myenv\\lib\\site-packages\\sklearn\\utils\\validation.py:760: DataConversionWarning: A column-vector y was passed when a 1d array was expected. Please change the shape of y to (n_samples, ), for example using ravel().\n",
      "  y = column_or_1d(y, warn=True)\n",
      "C:\\Users\\laure\\Anaconda3\\envs\\myenv\\lib\\site-packages\\sklearn\\utils\\validation.py:760: DataConversionWarning: A column-vector y was passed when a 1d array was expected. Please change the shape of y to (n_samples, ), for example using ravel().\n",
      "  y = column_or_1d(y, warn=True)\n",
      "C:\\Users\\laure\\Anaconda3\\envs\\myenv\\lib\\site-packages\\sklearn\\utils\\validation.py:760: DataConversionWarning: A column-vector y was passed when a 1d array was expected. Please change the shape of y to (n_samples, ), for example using ravel().\n",
      "  y = column_or_1d(y, warn=True)\n"
     ]
    },
    {
     "name": "stdout",
     "output_type": "stream",
     "text": [
      "[CV] ........ C=0.5, degree=4, gamma=0.001, kernel=poly, total=   0.2s\n",
      "[CV] C=0.5, degree=4, gamma=0.001, kernel=poly .......................\n",
      "[CV] ........ C=0.5, degree=4, gamma=0.001, kernel=poly, total=   0.2s\n",
      "[CV] C=0.5, degree=4, gamma=0.001, kernel=poly .......................\n"
     ]
    },
    {
     "name": "stderr",
     "output_type": "stream",
     "text": [
      "C:\\Users\\laure\\Anaconda3\\envs\\myenv\\lib\\site-packages\\sklearn\\utils\\validation.py:760: DataConversionWarning: A column-vector y was passed when a 1d array was expected. Please change the shape of y to (n_samples, ), for example using ravel().\n",
      "  y = column_or_1d(y, warn=True)\n",
      "C:\\Users\\laure\\Anaconda3\\envs\\myenv\\lib\\site-packages\\sklearn\\utils\\validation.py:760: DataConversionWarning: A column-vector y was passed when a 1d array was expected. Please change the shape of y to (n_samples, ), for example using ravel().\n",
      "  y = column_or_1d(y, warn=True)\n"
     ]
    },
    {
     "name": "stdout",
     "output_type": "stream",
     "text": [
      "[CV] ........ C=0.5, degree=4, gamma=0.001, kernel=poly, total=   0.1s\n",
      "[CV] C=0.5, degree=4, gamma=0.001, kernel=poly .......................\n",
      "[CV] ........ C=0.5, degree=4, gamma=0.001, kernel=poly, total=   0.1s\n",
      "[CV] C=0.5, degree=4, gamma=0.001, kernel=sigmoid ....................\n"
     ]
    },
    {
     "name": "stderr",
     "output_type": "stream",
     "text": [
      "C:\\Users\\laure\\Anaconda3\\envs\\myenv\\lib\\site-packages\\sklearn\\utils\\validation.py:760: DataConversionWarning: A column-vector y was passed when a 1d array was expected. Please change the shape of y to (n_samples, ), for example using ravel().\n",
      "  y = column_or_1d(y, warn=True)\n"
     ]
    },
    {
     "name": "stdout",
     "output_type": "stream",
     "text": [
      "[CV] ..... C=0.5, degree=4, gamma=0.001, kernel=sigmoid, total=   0.3s\n",
      "[CV] C=0.5, degree=4, gamma=0.001, kernel=sigmoid ....................\n"
     ]
    },
    {
     "name": "stderr",
     "output_type": "stream",
     "text": [
      "C:\\Users\\laure\\Anaconda3\\envs\\myenv\\lib\\site-packages\\sklearn\\utils\\validation.py:760: DataConversionWarning: A column-vector y was passed when a 1d array was expected. Please change the shape of y to (n_samples, ), for example using ravel().\n",
      "  y = column_or_1d(y, warn=True)\n"
     ]
    },
    {
     "name": "stdout",
     "output_type": "stream",
     "text": [
      "[CV] ..... C=0.5, degree=4, gamma=0.001, kernel=sigmoid, total=   0.3s\n",
      "[CV] C=0.5, degree=4, gamma=0.001, kernel=sigmoid ....................\n"
     ]
    },
    {
     "name": "stderr",
     "output_type": "stream",
     "text": [
      "C:\\Users\\laure\\Anaconda3\\envs\\myenv\\lib\\site-packages\\sklearn\\utils\\validation.py:760: DataConversionWarning: A column-vector y was passed when a 1d array was expected. Please change the shape of y to (n_samples, ), for example using ravel().\n",
      "  y = column_or_1d(y, warn=True)\n"
     ]
    },
    {
     "name": "stdout",
     "output_type": "stream",
     "text": [
      "[CV] ..... C=0.5, degree=4, gamma=0.001, kernel=sigmoid, total=   0.3s\n",
      "[CV] C=0.5, degree=4, gamma=0.001, kernel=sigmoid ....................\n"
     ]
    },
    {
     "name": "stderr",
     "output_type": "stream",
     "text": [
      "C:\\Users\\laure\\Anaconda3\\envs\\myenv\\lib\\site-packages\\sklearn\\utils\\validation.py:760: DataConversionWarning: A column-vector y was passed when a 1d array was expected. Please change the shape of y to (n_samples, ), for example using ravel().\n",
      "  y = column_or_1d(y, warn=True)\n"
     ]
    },
    {
     "name": "stdout",
     "output_type": "stream",
     "text": [
      "[CV] ..... C=0.5, degree=4, gamma=0.001, kernel=sigmoid, total=   0.3s\n",
      "[CV] C=0.5, degree=4, gamma=0.001, kernel=sigmoid ....................\n"
     ]
    },
    {
     "name": "stderr",
     "output_type": "stream",
     "text": [
      "C:\\Users\\laure\\Anaconda3\\envs\\myenv\\lib\\site-packages\\sklearn\\utils\\validation.py:760: DataConversionWarning: A column-vector y was passed when a 1d array was expected. Please change the shape of y to (n_samples, ), for example using ravel().\n",
      "  y = column_or_1d(y, warn=True)\n"
     ]
    },
    {
     "name": "stdout",
     "output_type": "stream",
     "text": [
      "[CV] ..... C=0.5, degree=4, gamma=0.001, kernel=sigmoid, total=   0.3s\n",
      "[CV] C=0.5, degree=5, gamma=1, kernel=linear .........................\n",
      "[CV] .......... C=0.5, degree=5, gamma=1, kernel=linear, total=   0.0s\n",
      "[CV] C=0.5, degree=5, gamma=1, kernel=linear .........................\n",
      "[CV] .......... C=0.5, degree=5, gamma=1, kernel=linear, total=   0.0s\n",
      "[CV] C=0.5, degree=5, gamma=1, kernel=linear .........................\n",
      "[CV] .......... C=0.5, degree=5, gamma=1, kernel=linear, total=   0.0s\n",
      "[CV] C=0.5, degree=5, gamma=1, kernel=linear .........................\n",
      "[CV] .......... C=0.5, degree=5, gamma=1, kernel=linear, total=   0.0s\n",
      "[CV] C=0.5, degree=5, gamma=1, kernel=linear .........................\n",
      "[CV] .......... C=0.5, degree=5, gamma=1, kernel=linear, total=   0.0s\n",
      "[CV] C=0.5, degree=5, gamma=1, kernel=rbf ............................\n",
      "[CV] ............. C=0.5, degree=5, gamma=1, kernel=rbf, total=   0.0s\n",
      "[CV] C=0.5, degree=5, gamma=1, kernel=rbf ............................\n",
      "[CV] ............. C=0.5, degree=5, gamma=1, kernel=rbf, total=   0.0s\n",
      "[CV] C=0.5, degree=5, gamma=1, kernel=rbf ............................\n",
      "[CV] ............. C=0.5, degree=5, gamma=1, kernel=rbf, total=   0.0s\n",
      "[CV] C=0.5, degree=5, gamma=1, kernel=rbf ............................\n",
      "[CV] ............. C=0.5, degree=5, gamma=1, kernel=rbf, total=   0.0s\n",
      "[CV] C=0.5, degree=5, gamma=1, kernel=rbf ............................\n",
      "[CV] ............. C=0.5, degree=5, gamma=1, kernel=rbf, total=   0.0s\n",
      "[CV] C=0.5, degree=5, gamma=1, kernel=poly ...........................\n",
      "[CV] ............ C=0.5, degree=5, gamma=1, kernel=poly, total=   0.0s\n",
      "[CV] C=0.5, degree=5, gamma=1, kernel=poly ...........................\n"
     ]
    },
    {
     "name": "stderr",
     "output_type": "stream",
     "text": [
      "C:\\Users\\laure\\Anaconda3\\envs\\myenv\\lib\\site-packages\\sklearn\\utils\\validation.py:760: DataConversionWarning: A column-vector y was passed when a 1d array was expected. Please change the shape of y to (n_samples, ), for example using ravel().\n",
      "  y = column_or_1d(y, warn=True)\n",
      "C:\\Users\\laure\\Anaconda3\\envs\\myenv\\lib\\site-packages\\sklearn\\utils\\validation.py:760: DataConversionWarning: A column-vector y was passed when a 1d array was expected. Please change the shape of y to (n_samples, ), for example using ravel().\n",
      "  y = column_or_1d(y, warn=True)\n",
      "C:\\Users\\laure\\Anaconda3\\envs\\myenv\\lib\\site-packages\\sklearn\\utils\\validation.py:760: DataConversionWarning: A column-vector y was passed when a 1d array was expected. Please change the shape of y to (n_samples, ), for example using ravel().\n",
      "  y = column_or_1d(y, warn=True)\n",
      "C:\\Users\\laure\\Anaconda3\\envs\\myenv\\lib\\site-packages\\sklearn\\utils\\validation.py:760: DataConversionWarning: A column-vector y was passed when a 1d array was expected. Please change the shape of y to (n_samples, ), for example using ravel().\n",
      "  y = column_or_1d(y, warn=True)\n",
      "C:\\Users\\laure\\Anaconda3\\envs\\myenv\\lib\\site-packages\\sklearn\\utils\\validation.py:760: DataConversionWarning: A column-vector y was passed when a 1d array was expected. Please change the shape of y to (n_samples, ), for example using ravel().\n",
      "  y = column_or_1d(y, warn=True)\n",
      "C:\\Users\\laure\\Anaconda3\\envs\\myenv\\lib\\site-packages\\sklearn\\utils\\validation.py:760: DataConversionWarning: A column-vector y was passed when a 1d array was expected. Please change the shape of y to (n_samples, ), for example using ravel().\n",
      "  y = column_or_1d(y, warn=True)\n",
      "C:\\Users\\laure\\Anaconda3\\envs\\myenv\\lib\\site-packages\\sklearn\\utils\\validation.py:760: DataConversionWarning: A column-vector y was passed when a 1d array was expected. Please change the shape of y to (n_samples, ), for example using ravel().\n",
      "  y = column_or_1d(y, warn=True)\n",
      "C:\\Users\\laure\\Anaconda3\\envs\\myenv\\lib\\site-packages\\sklearn\\utils\\validation.py:760: DataConversionWarning: A column-vector y was passed when a 1d array was expected. Please change the shape of y to (n_samples, ), for example using ravel().\n",
      "  y = column_or_1d(y, warn=True)\n",
      "C:\\Users\\laure\\Anaconda3\\envs\\myenv\\lib\\site-packages\\sklearn\\utils\\validation.py:760: DataConversionWarning: A column-vector y was passed when a 1d array was expected. Please change the shape of y to (n_samples, ), for example using ravel().\n",
      "  y = column_or_1d(y, warn=True)\n",
      "C:\\Users\\laure\\Anaconda3\\envs\\myenv\\lib\\site-packages\\sklearn\\utils\\validation.py:760: DataConversionWarning: A column-vector y was passed when a 1d array was expected. Please change the shape of y to (n_samples, ), for example using ravel().\n",
      "  y = column_or_1d(y, warn=True)\n",
      "C:\\Users\\laure\\Anaconda3\\envs\\myenv\\lib\\site-packages\\sklearn\\utils\\validation.py:760: DataConversionWarning: A column-vector y was passed when a 1d array was expected. Please change the shape of y to (n_samples, ), for example using ravel().\n",
      "  y = column_or_1d(y, warn=True)\n",
      "C:\\Users\\laure\\Anaconda3\\envs\\myenv\\lib\\site-packages\\sklearn\\utils\\validation.py:760: DataConversionWarning: A column-vector y was passed when a 1d array was expected. Please change the shape of y to (n_samples, ), for example using ravel().\n",
      "  y = column_or_1d(y, warn=True)\n",
      "C:\\Users\\laure\\Anaconda3\\envs\\myenv\\lib\\site-packages\\sklearn\\utils\\validation.py:760: DataConversionWarning: A column-vector y was passed when a 1d array was expected. Please change the shape of y to (n_samples, ), for example using ravel().\n",
      "  y = column_or_1d(y, warn=True)\n",
      "C:\\Users\\laure\\Anaconda3\\envs\\myenv\\lib\\site-packages\\sklearn\\utils\\validation.py:760: DataConversionWarning: A column-vector y was passed when a 1d array was expected. Please change the shape of y to (n_samples, ), for example using ravel().\n",
      "  y = column_or_1d(y, warn=True)\n",
      "C:\\Users\\laure\\Anaconda3\\envs\\myenv\\lib\\site-packages\\sklearn\\utils\\validation.py:760: DataConversionWarning: A column-vector y was passed when a 1d array was expected. Please change the shape of y to (n_samples, ), for example using ravel().\n",
      "  y = column_or_1d(y, warn=True)\n",
      "C:\\Users\\laure\\Anaconda3\\envs\\myenv\\lib\\site-packages\\sklearn\\utils\\validation.py:760: DataConversionWarning: A column-vector y was passed when a 1d array was expected. Please change the shape of y to (n_samples, ), for example using ravel().\n",
      "  y = column_or_1d(y, warn=True)\n",
      "C:\\Users\\laure\\Anaconda3\\envs\\myenv\\lib\\site-packages\\sklearn\\utils\\validation.py:760: DataConversionWarning: A column-vector y was passed when a 1d array was expected. Please change the shape of y to (n_samples, ), for example using ravel().\n",
      "  y = column_or_1d(y, warn=True)\n",
      "C:\\Users\\laure\\Anaconda3\\envs\\myenv\\lib\\site-packages\\sklearn\\utils\\validation.py:760: DataConversionWarning: A column-vector y was passed when a 1d array was expected. Please change the shape of y to (n_samples, ), for example using ravel().\n",
      "  y = column_or_1d(y, warn=True)\n",
      "C:\\Users\\laure\\Anaconda3\\envs\\myenv\\lib\\site-packages\\sklearn\\utils\\validation.py:760: DataConversionWarning: A column-vector y was passed when a 1d array was expected. Please change the shape of y to (n_samples, ), for example using ravel().\n",
      "  y = column_or_1d(y, warn=True)\n",
      "C:\\Users\\laure\\Anaconda3\\envs\\myenv\\lib\\site-packages\\sklearn\\utils\\validation.py:760: DataConversionWarning: A column-vector y was passed when a 1d array was expected. Please change the shape of y to (n_samples, ), for example using ravel().\n",
      "  y = column_or_1d(y, warn=True)\n",
      "C:\\Users\\laure\\Anaconda3\\envs\\myenv\\lib\\site-packages\\sklearn\\utils\\validation.py:760: DataConversionWarning: A column-vector y was passed when a 1d array was expected. Please change the shape of y to (n_samples, ), for example using ravel().\n",
      "  y = column_or_1d(y, warn=True)\n",
      "C:\\Users\\laure\\Anaconda3\\envs\\myenv\\lib\\site-packages\\sklearn\\utils\\validation.py:760: DataConversionWarning: A column-vector y was passed when a 1d array was expected. Please change the shape of y to (n_samples, ), for example using ravel().\n",
      "  y = column_or_1d(y, warn=True)\n",
      "C:\\Users\\laure\\Anaconda3\\envs\\myenv\\lib\\site-packages\\sklearn\\utils\\validation.py:760: DataConversionWarning: A column-vector y was passed when a 1d array was expected. Please change the shape of y to (n_samples, ), for example using ravel().\n",
      "  y = column_or_1d(y, warn=True)\n",
      "C:\\Users\\laure\\Anaconda3\\envs\\myenv\\lib\\site-packages\\sklearn\\utils\\validation.py:760: DataConversionWarning: A column-vector y was passed when a 1d array was expected. Please change the shape of y to (n_samples, ), for example using ravel().\n",
      "  y = column_or_1d(y, warn=True)\n",
      "C:\\Users\\laure\\Anaconda3\\envs\\myenv\\lib\\site-packages\\sklearn\\utils\\validation.py:760: DataConversionWarning: A column-vector y was passed when a 1d array was expected. Please change the shape of y to (n_samples, ), for example using ravel().\n",
      "  y = column_or_1d(y, warn=True)\n"
     ]
    },
    {
     "name": "stdout",
     "output_type": "stream",
     "text": [
      "[CV] ............ C=0.5, degree=5, gamma=1, kernel=poly, total=   0.0s\n",
      "[CV] C=0.5, degree=5, gamma=1, kernel=poly ...........................\n",
      "[CV] ............ C=0.5, degree=5, gamma=1, kernel=poly, total=   0.0s\n",
      "[CV] C=0.5, degree=5, gamma=1, kernel=poly ...........................\n",
      "[CV] ............ C=0.5, degree=5, gamma=1, kernel=poly, total=   0.0s\n",
      "[CV] C=0.5, degree=5, gamma=1, kernel=poly ...........................\n",
      "[CV] ............ C=0.5, degree=5, gamma=1, kernel=poly, total=   0.0s\n",
      "[CV] C=0.5, degree=5, gamma=1, kernel=sigmoid ........................\n",
      "[CV] ......... C=0.5, degree=5, gamma=1, kernel=sigmoid, total=   0.0s\n",
      "[CV] C=0.5, degree=5, gamma=1, kernel=sigmoid ........................\n",
      "[CV] ......... C=0.5, degree=5, gamma=1, kernel=sigmoid, total=   0.0s\n",
      "[CV] C=0.5, degree=5, gamma=1, kernel=sigmoid ........................\n",
      "[CV] ......... C=0.5, degree=5, gamma=1, kernel=sigmoid, total=   0.0s\n",
      "[CV] C=0.5, degree=5, gamma=1, kernel=sigmoid ........................\n",
      "[CV] ......... C=0.5, degree=5, gamma=1, kernel=sigmoid, total=   0.0s\n",
      "[CV] C=0.5, degree=5, gamma=1, kernel=sigmoid ........................\n",
      "[CV] ......... C=0.5, degree=5, gamma=1, kernel=sigmoid, total=   0.0s\n",
      "[CV] C=0.5, degree=5, gamma=0.1, kernel=linear .......................\n",
      "[CV] ........ C=0.5, degree=5, gamma=0.1, kernel=linear, total=   0.0s\n",
      "[CV] C=0.5, degree=5, gamma=0.1, kernel=linear .......................\n",
      "[CV] ........ C=0.5, degree=5, gamma=0.1, kernel=linear, total=   0.0s\n",
      "[CV] C=0.5, degree=5, gamma=0.1, kernel=linear .......................\n",
      "[CV] ........ C=0.5, degree=5, gamma=0.1, kernel=linear, total=   0.0s\n",
      "[CV] C=0.5, degree=5, gamma=0.1, kernel=linear .......................\n",
      "[CV] ........ C=0.5, degree=5, gamma=0.1, kernel=linear, total=   0.0s\n",
      "[CV] C=0.5, degree=5, gamma=0.1, kernel=linear .......................\n",
      "[CV] ........ C=0.5, degree=5, gamma=0.1, kernel=linear, total=   0.0s"
     ]
    },
    {
     "name": "stderr",
     "output_type": "stream",
     "text": [
      "C:\\Users\\laure\\Anaconda3\\envs\\myenv\\lib\\site-packages\\sklearn\\utils\\validation.py:760: DataConversionWarning: A column-vector y was passed when a 1d array was expected. Please change the shape of y to (n_samples, ), for example using ravel().\n",
      "  y = column_or_1d(y, warn=True)\n",
      "C:\\Users\\laure\\Anaconda3\\envs\\myenv\\lib\\site-packages\\sklearn\\utils\\validation.py:760: DataConversionWarning: A column-vector y was passed when a 1d array was expected. Please change the shape of y to (n_samples, ), for example using ravel().\n",
      "  y = column_or_1d(y, warn=True)\n",
      "C:\\Users\\laure\\Anaconda3\\envs\\myenv\\lib\\site-packages\\sklearn\\utils\\validation.py:760: DataConversionWarning: A column-vector y was passed when a 1d array was expected. Please change the shape of y to (n_samples, ), for example using ravel().\n",
      "  y = column_or_1d(y, warn=True)\n",
      "C:\\Users\\laure\\Anaconda3\\envs\\myenv\\lib\\site-packages\\sklearn\\utils\\validation.py:760: DataConversionWarning: A column-vector y was passed when a 1d array was expected. Please change the shape of y to (n_samples, ), for example using ravel().\n",
      "  y = column_or_1d(y, warn=True)\n",
      "C:\\Users\\laure\\Anaconda3\\envs\\myenv\\lib\\site-packages\\sklearn\\utils\\validation.py:760: DataConversionWarning: A column-vector y was passed when a 1d array was expected. Please change the shape of y to (n_samples, ), for example using ravel().\n",
      "  y = column_or_1d(y, warn=True)\n",
      "C:\\Users\\laure\\Anaconda3\\envs\\myenv\\lib\\site-packages\\sklearn\\utils\\validation.py:760: DataConversionWarning: A column-vector y was passed when a 1d array was expected. Please change the shape of y to (n_samples, ), for example using ravel().\n",
      "  y = column_or_1d(y, warn=True)\n"
     ]
    },
    {
     "name": "stdout",
     "output_type": "stream",
     "text": [
      "\n",
      "[CV] C=0.5, degree=5, gamma=0.1, kernel=rbf ..........................\n",
      "[CV] ........... C=0.5, degree=5, gamma=0.1, kernel=rbf, total=   0.0s\n",
      "[CV] C=0.5, degree=5, gamma=0.1, kernel=rbf ..........................\n",
      "[CV] ........... C=0.5, degree=5, gamma=0.1, kernel=rbf, total=   0.0s\n",
      "[CV] C=0.5, degree=5, gamma=0.1, kernel=rbf ..........................\n",
      "[CV] ........... C=0.5, degree=5, gamma=0.1, kernel=rbf, total=   0.0s\n",
      "[CV] C=0.5, degree=5, gamma=0.1, kernel=rbf ..........................\n",
      "[CV] ........... C=0.5, degree=5, gamma=0.1, kernel=rbf, total=   0.0s\n",
      "[CV] C=0.5, degree=5, gamma=0.1, kernel=rbf ..........................\n",
      "[CV] ........... C=0.5, degree=5, gamma=0.1, kernel=rbf, total=   0.0s\n",
      "[CV] C=0.5, degree=5, gamma=0.1, kernel=poly .........................\n",
      "[CV] .......... C=0.5, degree=5, gamma=0.1, kernel=poly, total=   0.2s\n",
      "[CV] C=0.5, degree=5, gamma=0.1, kernel=poly .........................\n",
      "[CV] .......... C=0.5, degree=5, gamma=0.1, kernel=poly, total=   0.2s\n",
      "[CV] C=0.5, degree=5, gamma=0.1, kernel=poly .........................\n"
     ]
    },
    {
     "name": "stderr",
     "output_type": "stream",
     "text": [
      "C:\\Users\\laure\\Anaconda3\\envs\\myenv\\lib\\site-packages\\sklearn\\utils\\validation.py:760: DataConversionWarning: A column-vector y was passed when a 1d array was expected. Please change the shape of y to (n_samples, ), for example using ravel().\n",
      "  y = column_or_1d(y, warn=True)\n",
      "C:\\Users\\laure\\Anaconda3\\envs\\myenv\\lib\\site-packages\\sklearn\\utils\\validation.py:760: DataConversionWarning: A column-vector y was passed when a 1d array was expected. Please change the shape of y to (n_samples, ), for example using ravel().\n",
      "  y = column_or_1d(y, warn=True)\n"
     ]
    },
    {
     "name": "stdout",
     "output_type": "stream",
     "text": [
      "[CV] .......... C=0.5, degree=5, gamma=0.1, kernel=poly, total=   0.2s\n",
      "[CV] C=0.5, degree=5, gamma=0.1, kernel=poly .........................\n",
      "[CV] .......... C=0.5, degree=5, gamma=0.1, kernel=poly, total=   0.2s\n",
      "[CV] C=0.5, degree=5, gamma=0.1, kernel=poly .........................\n"
     ]
    },
    {
     "name": "stderr",
     "output_type": "stream",
     "text": [
      "C:\\Users\\laure\\Anaconda3\\envs\\myenv\\lib\\site-packages\\sklearn\\utils\\validation.py:760: DataConversionWarning: A column-vector y was passed when a 1d array was expected. Please change the shape of y to (n_samples, ), for example using ravel().\n",
      "  y = column_or_1d(y, warn=True)\n",
      "C:\\Users\\laure\\Anaconda3\\envs\\myenv\\lib\\site-packages\\sklearn\\utils\\validation.py:760: DataConversionWarning: A column-vector y was passed when a 1d array was expected. Please change the shape of y to (n_samples, ), for example using ravel().\n",
      "  y = column_or_1d(y, warn=True)\n",
      "C:\\Users\\laure\\Anaconda3\\envs\\myenv\\lib\\site-packages\\sklearn\\utils\\validation.py:760: DataConversionWarning: A column-vector y was passed when a 1d array was expected. Please change the shape of y to (n_samples, ), for example using ravel().\n",
      "  y = column_or_1d(y, warn=True)\n"
     ]
    },
    {
     "name": "stdout",
     "output_type": "stream",
     "text": [
      "[CV] .......... C=0.5, degree=5, gamma=0.1, kernel=poly, total=   0.2s\n",
      "[CV] C=0.5, degree=5, gamma=0.1, kernel=sigmoid ......................\n",
      "[CV] ....... C=0.5, degree=5, gamma=0.1, kernel=sigmoid, total=   0.0s\n",
      "[CV] C=0.5, degree=5, gamma=0.1, kernel=sigmoid ......................\n",
      "[CV] ....... C=0.5, degree=5, gamma=0.1, kernel=sigmoid, total=   0.0s\n",
      "[CV] C=0.5, degree=5, gamma=0.1, kernel=sigmoid ......................\n",
      "[CV] ....... C=0.5, degree=5, gamma=0.1, kernel=sigmoid, total=   0.1s\n",
      "[CV] C=0.5, degree=5, gamma=0.1, kernel=sigmoid ......................\n"
     ]
    },
    {
     "name": "stderr",
     "output_type": "stream",
     "text": [
      "C:\\Users\\laure\\Anaconda3\\envs\\myenv\\lib\\site-packages\\sklearn\\utils\\validation.py:760: DataConversionWarning: A column-vector y was passed when a 1d array was expected. Please change the shape of y to (n_samples, ), for example using ravel().\n",
      "  y = column_or_1d(y, warn=True)\n",
      "C:\\Users\\laure\\Anaconda3\\envs\\myenv\\lib\\site-packages\\sklearn\\utils\\validation.py:760: DataConversionWarning: A column-vector y was passed when a 1d array was expected. Please change the shape of y to (n_samples, ), for example using ravel().\n",
      "  y = column_or_1d(y, warn=True)\n",
      "C:\\Users\\laure\\Anaconda3\\envs\\myenv\\lib\\site-packages\\sklearn\\utils\\validation.py:760: DataConversionWarning: A column-vector y was passed when a 1d array was expected. Please change the shape of y to (n_samples, ), for example using ravel().\n",
      "  y = column_or_1d(y, warn=True)\n",
      "C:\\Users\\laure\\Anaconda3\\envs\\myenv\\lib\\site-packages\\sklearn\\utils\\validation.py:760: DataConversionWarning: A column-vector y was passed when a 1d array was expected. Please change the shape of y to (n_samples, ), for example using ravel().\n",
      "  y = column_or_1d(y, warn=True)\n"
     ]
    },
    {
     "name": "stdout",
     "output_type": "stream",
     "text": [
      "[CV] ....... C=0.5, degree=5, gamma=0.1, kernel=sigmoid, total=   0.0s\n",
      "[CV] C=0.5, degree=5, gamma=0.1, kernel=sigmoid ......................\n",
      "[CV] ....... C=0.5, degree=5, gamma=0.1, kernel=sigmoid, total=   0.0s\n",
      "[CV] C=0.5, degree=5, gamma=0.01, kernel=linear ......................\n",
      "[CV] ....... C=0.5, degree=5, gamma=0.01, kernel=linear, total=   0.0s\n",
      "[CV] C=0.5, degree=5, gamma=0.01, kernel=linear ......................\n",
      "[CV] ....... C=0.5, degree=5, gamma=0.01, kernel=linear, total=   0.0s\n",
      "[CV] C=0.5, degree=5, gamma=0.01, kernel=linear ......................\n",
      "[CV] ....... C=0.5, degree=5, gamma=0.01, kernel=linear, total=   0.0s\n",
      "[CV] C=0.5, degree=5, gamma=0.01, kernel=linear ......................\n",
      "[CV] ....... C=0.5, degree=5, gamma=0.01, kernel=linear, total=   0.0s\n",
      "[CV] C=0.5, degree=5, gamma=0.01, kernel=linear ......................\n",
      "[CV] ....... C=0.5, degree=5, gamma=0.01, kernel=linear, total=   0.0s\n",
      "[CV] C=0.5, degree=5, gamma=0.01, kernel=rbf .........................\n",
      "[CV] .......... C=0.5, degree=5, gamma=0.01, kernel=rbf, total=   0.1s\n",
      "[CV] C=0.5, degree=5, gamma=0.01, kernel=rbf .........................\n"
     ]
    },
    {
     "name": "stderr",
     "output_type": "stream",
     "text": [
      "C:\\Users\\laure\\Anaconda3\\envs\\myenv\\lib\\site-packages\\sklearn\\utils\\validation.py:760: DataConversionWarning: A column-vector y was passed when a 1d array was expected. Please change the shape of y to (n_samples, ), for example using ravel().\n",
      "  y = column_or_1d(y, warn=True)\n",
      "C:\\Users\\laure\\Anaconda3\\envs\\myenv\\lib\\site-packages\\sklearn\\utils\\validation.py:760: DataConversionWarning: A column-vector y was passed when a 1d array was expected. Please change the shape of y to (n_samples, ), for example using ravel().\n",
      "  y = column_or_1d(y, warn=True)\n",
      "C:\\Users\\laure\\Anaconda3\\envs\\myenv\\lib\\site-packages\\sklearn\\utils\\validation.py:760: DataConversionWarning: A column-vector y was passed when a 1d array was expected. Please change the shape of y to (n_samples, ), for example using ravel().\n",
      "  y = column_or_1d(y, warn=True)\n",
      "C:\\Users\\laure\\Anaconda3\\envs\\myenv\\lib\\site-packages\\sklearn\\utils\\validation.py:760: DataConversionWarning: A column-vector y was passed when a 1d array was expected. Please change the shape of y to (n_samples, ), for example using ravel().\n",
      "  y = column_or_1d(y, warn=True)\n",
      "C:\\Users\\laure\\Anaconda3\\envs\\myenv\\lib\\site-packages\\sklearn\\utils\\validation.py:760: DataConversionWarning: A column-vector y was passed when a 1d array was expected. Please change the shape of y to (n_samples, ), for example using ravel().\n",
      "  y = column_or_1d(y, warn=True)\n",
      "C:\\Users\\laure\\Anaconda3\\envs\\myenv\\lib\\site-packages\\sklearn\\utils\\validation.py:760: DataConversionWarning: A column-vector y was passed when a 1d array was expected. Please change the shape of y to (n_samples, ), for example using ravel().\n",
      "  y = column_or_1d(y, warn=True)\n",
      "C:\\Users\\laure\\Anaconda3\\envs\\myenv\\lib\\site-packages\\sklearn\\utils\\validation.py:760: DataConversionWarning: A column-vector y was passed when a 1d array was expected. Please change the shape of y to (n_samples, ), for example using ravel().\n",
      "  y = column_or_1d(y, warn=True)\n"
     ]
    },
    {
     "name": "stdout",
     "output_type": "stream",
     "text": [
      "[CV] .......... C=0.5, degree=5, gamma=0.01, kernel=rbf, total=   0.1s\n",
      "[CV] C=0.5, degree=5, gamma=0.01, kernel=rbf .........................\n",
      "[CV] .......... C=0.5, degree=5, gamma=0.01, kernel=rbf, total=   0.1s\n",
      "[CV] C=0.5, degree=5, gamma=0.01, kernel=rbf .........................\n"
     ]
    },
    {
     "name": "stderr",
     "output_type": "stream",
     "text": [
      "C:\\Users\\laure\\Anaconda3\\envs\\myenv\\lib\\site-packages\\sklearn\\utils\\validation.py:760: DataConversionWarning: A column-vector y was passed when a 1d array was expected. Please change the shape of y to (n_samples, ), for example using ravel().\n",
      "  y = column_or_1d(y, warn=True)\n",
      "C:\\Users\\laure\\Anaconda3\\envs\\myenv\\lib\\site-packages\\sklearn\\utils\\validation.py:760: DataConversionWarning: A column-vector y was passed when a 1d array was expected. Please change the shape of y to (n_samples, ), for example using ravel().\n",
      "  y = column_or_1d(y, warn=True)\n"
     ]
    },
    {
     "name": "stdout",
     "output_type": "stream",
     "text": [
      "[CV] .......... C=0.5, degree=5, gamma=0.01, kernel=rbf, total=   0.1s\n",
      "[CV] C=0.5, degree=5, gamma=0.01, kernel=rbf .........................\n",
      "[CV] .......... C=0.5, degree=5, gamma=0.01, kernel=rbf, total=   0.1s\n",
      "[CV] C=0.5, degree=5, gamma=0.01, kernel=poly ........................\n"
     ]
    },
    {
     "name": "stderr",
     "output_type": "stream",
     "text": [
      "C:\\Users\\laure\\Anaconda3\\envs\\myenv\\lib\\site-packages\\sklearn\\utils\\validation.py:760: DataConversionWarning: A column-vector y was passed when a 1d array was expected. Please change the shape of y to (n_samples, ), for example using ravel().\n",
      "  y = column_or_1d(y, warn=True)\n",
      "C:\\Users\\laure\\Anaconda3\\envs\\myenv\\lib\\site-packages\\sklearn\\utils\\validation.py:760: DataConversionWarning: A column-vector y was passed when a 1d array was expected. Please change the shape of y to (n_samples, ), for example using ravel().\n",
      "  y = column_or_1d(y, warn=True)\n"
     ]
    },
    {
     "name": "stdout",
     "output_type": "stream",
     "text": [
      "[CV] ......... C=0.5, degree=5, gamma=0.01, kernel=poly, total=   0.2s\n",
      "[CV] C=0.5, degree=5, gamma=0.01, kernel=poly ........................\n",
      "[CV] ......... C=0.5, degree=5, gamma=0.01, kernel=poly, total=   0.2s"
     ]
    },
    {
     "name": "stderr",
     "output_type": "stream",
     "text": [
      "C:\\Users\\laure\\Anaconda3\\envs\\myenv\\lib\\site-packages\\sklearn\\utils\\validation.py:760: DataConversionWarning: A column-vector y was passed when a 1d array was expected. Please change the shape of y to (n_samples, ), for example using ravel().\n",
      "  y = column_or_1d(y, warn=True)\n"
     ]
    },
    {
     "name": "stdout",
     "output_type": "stream",
     "text": [
      "\n",
      "[CV] C=0.5, degree=5, gamma=0.01, kernel=poly ........................\n",
      "[CV] ......... C=0.5, degree=5, gamma=0.01, kernel=poly, total=   0.2s\n",
      "[CV] C=0.5, degree=5, gamma=0.01, kernel=poly ........................\n"
     ]
    },
    {
     "name": "stderr",
     "output_type": "stream",
     "text": [
      "C:\\Users\\laure\\Anaconda3\\envs\\myenv\\lib\\site-packages\\sklearn\\utils\\validation.py:760: DataConversionWarning: A column-vector y was passed when a 1d array was expected. Please change the shape of y to (n_samples, ), for example using ravel().\n",
      "  y = column_or_1d(y, warn=True)\n"
     ]
    },
    {
     "name": "stdout",
     "output_type": "stream",
     "text": [
      "[CV] ......... C=0.5, degree=5, gamma=0.01, kernel=poly, total=   0.2s\n",
      "[CV] C=0.5, degree=5, gamma=0.01, kernel=poly ........................\n"
     ]
    },
    {
     "name": "stderr",
     "output_type": "stream",
     "text": [
      "C:\\Users\\laure\\Anaconda3\\envs\\myenv\\lib\\site-packages\\sklearn\\utils\\validation.py:760: DataConversionWarning: A column-vector y was passed when a 1d array was expected. Please change the shape of y to (n_samples, ), for example using ravel().\n",
      "  y = column_or_1d(y, warn=True)\n",
      "C:\\Users\\laure\\Anaconda3\\envs\\myenv\\lib\\site-packages\\sklearn\\utils\\validation.py:760: DataConversionWarning: A column-vector y was passed when a 1d array was expected. Please change the shape of y to (n_samples, ), for example using ravel().\n",
      "  y = column_or_1d(y, warn=True)\n"
     ]
    },
    {
     "name": "stdout",
     "output_type": "stream",
     "text": [
      "[CV] ......... C=0.5, degree=5, gamma=0.01, kernel=poly, total=   0.2s\n",
      "[CV] C=0.5, degree=5, gamma=0.01, kernel=sigmoid .....................\n"
     ]
    },
    {
     "name": "stderr",
     "output_type": "stream",
     "text": [
      "C:\\Users\\laure\\Anaconda3\\envs\\myenv\\lib\\site-packages\\sklearn\\utils\\validation.py:760: DataConversionWarning: A column-vector y was passed when a 1d array was expected. Please change the shape of y to (n_samples, ), for example using ravel().\n",
      "  y = column_or_1d(y, warn=True)\n"
     ]
    },
    {
     "name": "stdout",
     "output_type": "stream",
     "text": [
      "[CV] ...... C=0.5, degree=5, gamma=0.01, kernel=sigmoid, total=   0.2s\n",
      "[CV] C=0.5, degree=5, gamma=0.01, kernel=sigmoid .....................\n"
     ]
    },
    {
     "name": "stderr",
     "output_type": "stream",
     "text": [
      "C:\\Users\\laure\\Anaconda3\\envs\\myenv\\lib\\site-packages\\sklearn\\utils\\validation.py:760: DataConversionWarning: A column-vector y was passed when a 1d array was expected. Please change the shape of y to (n_samples, ), for example using ravel().\n",
      "  y = column_or_1d(y, warn=True)\n"
     ]
    },
    {
     "name": "stdout",
     "output_type": "stream",
     "text": [
      "[CV] ...... C=0.5, degree=5, gamma=0.01, kernel=sigmoid, total=   0.2s\n",
      "[CV] C=0.5, degree=5, gamma=0.01, kernel=sigmoid .....................\n",
      "[CV] ...... C=0.5, degree=5, gamma=0.01, kernel=sigmoid, total=   0.2s\n",
      "[CV] C=0.5, degree=5, gamma=0.01, kernel=sigmoid .....................\n"
     ]
    },
    {
     "name": "stderr",
     "output_type": "stream",
     "text": [
      "C:\\Users\\laure\\Anaconda3\\envs\\myenv\\lib\\site-packages\\sklearn\\utils\\validation.py:760: DataConversionWarning: A column-vector y was passed when a 1d array was expected. Please change the shape of y to (n_samples, ), for example using ravel().\n",
      "  y = column_or_1d(y, warn=True)\n",
      "C:\\Users\\laure\\Anaconda3\\envs\\myenv\\lib\\site-packages\\sklearn\\utils\\validation.py:760: DataConversionWarning: A column-vector y was passed when a 1d array was expected. Please change the shape of y to (n_samples, ), for example using ravel().\n",
      "  y = column_or_1d(y, warn=True)\n"
     ]
    },
    {
     "name": "stdout",
     "output_type": "stream",
     "text": [
      "[CV] ...... C=0.5, degree=5, gamma=0.01, kernel=sigmoid, total=   0.2s\n",
      "[CV] C=0.5, degree=5, gamma=0.01, kernel=sigmoid .....................\n",
      "[CV] ...... C=0.5, degree=5, gamma=0.01, kernel=sigmoid, total=   0.2s"
     ]
    },
    {
     "name": "stderr",
     "output_type": "stream",
     "text": [
      "C:\\Users\\laure\\Anaconda3\\envs\\myenv\\lib\\site-packages\\sklearn\\utils\\validation.py:760: DataConversionWarning: A column-vector y was passed when a 1d array was expected. Please change the shape of y to (n_samples, ), for example using ravel().\n",
      "  y = column_or_1d(y, warn=True)\n"
     ]
    },
    {
     "name": "stdout",
     "output_type": "stream",
     "text": [
      "\n",
      "[CV] C=0.5, degree=5, gamma=0.001, kernel=linear .....................\n",
      "[CV] ...... C=0.5, degree=5, gamma=0.001, kernel=linear, total=   0.0s\n",
      "[CV] C=0.5, degree=5, gamma=0.001, kernel=linear .....................\n",
      "[CV] ...... C=0.5, degree=5, gamma=0.001, kernel=linear, total=   0.0s\n",
      "[CV] C=0.5, degree=5, gamma=0.001, kernel=linear .....................\n",
      "[CV] ...... C=0.5, degree=5, gamma=0.001, kernel=linear, total=   0.0s\n",
      "[CV] C=0.5, degree=5, gamma=0.001, kernel=linear .....................\n",
      "[CV] ...... C=0.5, degree=5, gamma=0.001, kernel=linear, total=   0.0s\n",
      "[CV] C=0.5, degree=5, gamma=0.001, kernel=linear .....................\n",
      "[CV] ...... C=0.5, degree=5, gamma=0.001, kernel=linear, total=   0.0s\n",
      "[CV] C=0.5, degree=5, gamma=0.001, kernel=rbf ........................\n"
     ]
    },
    {
     "name": "stderr",
     "output_type": "stream",
     "text": [
      "C:\\Users\\laure\\Anaconda3\\envs\\myenv\\lib\\site-packages\\sklearn\\utils\\validation.py:760: DataConversionWarning: A column-vector y was passed when a 1d array was expected. Please change the shape of y to (n_samples, ), for example using ravel().\n",
      "  y = column_or_1d(y, warn=True)\n",
      "C:\\Users\\laure\\Anaconda3\\envs\\myenv\\lib\\site-packages\\sklearn\\utils\\validation.py:760: DataConversionWarning: A column-vector y was passed when a 1d array was expected. Please change the shape of y to (n_samples, ), for example using ravel().\n",
      "  y = column_or_1d(y, warn=True)\n",
      "C:\\Users\\laure\\Anaconda3\\envs\\myenv\\lib\\site-packages\\sklearn\\utils\\validation.py:760: DataConversionWarning: A column-vector y was passed when a 1d array was expected. Please change the shape of y to (n_samples, ), for example using ravel().\n",
      "  y = column_or_1d(y, warn=True)\n",
      "C:\\Users\\laure\\Anaconda3\\envs\\myenv\\lib\\site-packages\\sklearn\\utils\\validation.py:760: DataConversionWarning: A column-vector y was passed when a 1d array was expected. Please change the shape of y to (n_samples, ), for example using ravel().\n",
      "  y = column_or_1d(y, warn=True)\n",
      "C:\\Users\\laure\\Anaconda3\\envs\\myenv\\lib\\site-packages\\sklearn\\utils\\validation.py:760: DataConversionWarning: A column-vector y was passed when a 1d array was expected. Please change the shape of y to (n_samples, ), for example using ravel().\n",
      "  y = column_or_1d(y, warn=True)\n",
      "C:\\Users\\laure\\Anaconda3\\envs\\myenv\\lib\\site-packages\\sklearn\\utils\\validation.py:760: DataConversionWarning: A column-vector y was passed when a 1d array was expected. Please change the shape of y to (n_samples, ), for example using ravel().\n",
      "  y = column_or_1d(y, warn=True)\n"
     ]
    },
    {
     "name": "stdout",
     "output_type": "stream",
     "text": [
      "[CV] ......... C=0.5, degree=5, gamma=0.001, kernel=rbf, total=   0.3s\n",
      "[CV] C=0.5, degree=5, gamma=0.001, kernel=rbf ........................\n"
     ]
    },
    {
     "name": "stderr",
     "output_type": "stream",
     "text": [
      "C:\\Users\\laure\\Anaconda3\\envs\\myenv\\lib\\site-packages\\sklearn\\utils\\validation.py:760: DataConversionWarning: A column-vector y was passed when a 1d array was expected. Please change the shape of y to (n_samples, ), for example using ravel().\n",
      "  y = column_or_1d(y, warn=True)\n"
     ]
    },
    {
     "name": "stdout",
     "output_type": "stream",
     "text": [
      "[CV] ......... C=0.5, degree=5, gamma=0.001, kernel=rbf, total=   0.3s\n",
      "[CV] C=0.5, degree=5, gamma=0.001, kernel=rbf ........................\n"
     ]
    },
    {
     "name": "stderr",
     "output_type": "stream",
     "text": [
      "C:\\Users\\laure\\Anaconda3\\envs\\myenv\\lib\\site-packages\\sklearn\\utils\\validation.py:760: DataConversionWarning: A column-vector y was passed when a 1d array was expected. Please change the shape of y to (n_samples, ), for example using ravel().\n",
      "  y = column_or_1d(y, warn=True)\n"
     ]
    },
    {
     "name": "stdout",
     "output_type": "stream",
     "text": [
      "[CV] ......... C=0.5, degree=5, gamma=0.001, kernel=rbf, total=   0.3s\n",
      "[CV] C=0.5, degree=5, gamma=0.001, kernel=rbf ........................\n"
     ]
    },
    {
     "name": "stderr",
     "output_type": "stream",
     "text": [
      "C:\\Users\\laure\\Anaconda3\\envs\\myenv\\lib\\site-packages\\sklearn\\utils\\validation.py:760: DataConversionWarning: A column-vector y was passed when a 1d array was expected. Please change the shape of y to (n_samples, ), for example using ravel().\n",
      "  y = column_or_1d(y, warn=True)\n"
     ]
    },
    {
     "name": "stdout",
     "output_type": "stream",
     "text": [
      "[CV] ......... C=0.5, degree=5, gamma=0.001, kernel=rbf, total=   0.3s\n",
      "[CV] C=0.5, degree=5, gamma=0.001, kernel=rbf ........................\n"
     ]
    },
    {
     "name": "stderr",
     "output_type": "stream",
     "text": [
      "C:\\Users\\laure\\Anaconda3\\envs\\myenv\\lib\\site-packages\\sklearn\\utils\\validation.py:760: DataConversionWarning: A column-vector y was passed when a 1d array was expected. Please change the shape of y to (n_samples, ), for example using ravel().\n",
      "  y = column_or_1d(y, warn=True)\n"
     ]
    },
    {
     "name": "stdout",
     "output_type": "stream",
     "text": [
      "[CV] ......... C=0.5, degree=5, gamma=0.001, kernel=rbf, total=   0.3s\n",
      "[CV] C=0.5, degree=5, gamma=0.001, kernel=poly .......................\n",
      "[CV] ........ C=0.5, degree=5, gamma=0.001, kernel=poly, total=   0.2s\n",
      "[CV] C=0.5, degree=5, gamma=0.001, kernel=poly .......................\n"
     ]
    },
    {
     "name": "stderr",
     "output_type": "stream",
     "text": [
      "C:\\Users\\laure\\Anaconda3\\envs\\myenv\\lib\\site-packages\\sklearn\\utils\\validation.py:760: DataConversionWarning: A column-vector y was passed when a 1d array was expected. Please change the shape of y to (n_samples, ), for example using ravel().\n",
      "  y = column_or_1d(y, warn=True)\n",
      "C:\\Users\\laure\\Anaconda3\\envs\\myenv\\lib\\site-packages\\sklearn\\utils\\validation.py:760: DataConversionWarning: A column-vector y was passed when a 1d array was expected. Please change the shape of y to (n_samples, ), for example using ravel().\n",
      "  y = column_or_1d(y, warn=True)\n",
      "C:\\Users\\laure\\Anaconda3\\envs\\myenv\\lib\\site-packages\\sklearn\\utils\\validation.py:760: DataConversionWarning: A column-vector y was passed when a 1d array was expected. Please change the shape of y to (n_samples, ), for example using ravel().\n",
      "  y = column_or_1d(y, warn=True)\n"
     ]
    },
    {
     "name": "stdout",
     "output_type": "stream",
     "text": [
      "[CV] ........ C=0.5, degree=5, gamma=0.001, kernel=poly, total=   0.2s\n",
      "[CV] C=0.5, degree=5, gamma=0.001, kernel=poly .......................\n",
      "[CV] ........ C=0.5, degree=5, gamma=0.001, kernel=poly, total=   0.2s\n",
      "[CV] C=0.5, degree=5, gamma=0.001, kernel=poly .......................\n"
     ]
    },
    {
     "name": "stderr",
     "output_type": "stream",
     "text": [
      "C:\\Users\\laure\\Anaconda3\\envs\\myenv\\lib\\site-packages\\sklearn\\utils\\validation.py:760: DataConversionWarning: A column-vector y was passed when a 1d array was expected. Please change the shape of y to (n_samples, ), for example using ravel().\n",
      "  y = column_or_1d(y, warn=True)\n",
      "C:\\Users\\laure\\Anaconda3\\envs\\myenv\\lib\\site-packages\\sklearn\\utils\\validation.py:760: DataConversionWarning: A column-vector y was passed when a 1d array was expected. Please change the shape of y to (n_samples, ), for example using ravel().\n",
      "  y = column_or_1d(y, warn=True)\n"
     ]
    },
    {
     "name": "stdout",
     "output_type": "stream",
     "text": [
      "[CV] ........ C=0.5, degree=5, gamma=0.001, kernel=poly, total=   0.1s\n",
      "[CV] C=0.5, degree=5, gamma=0.001, kernel=poly .......................\n",
      "[CV] ........ C=0.5, degree=5, gamma=0.001, kernel=poly, total=   0.2s\n",
      "[CV] C=0.5, degree=5, gamma=0.001, kernel=sigmoid ....................\n"
     ]
    },
    {
     "name": "stderr",
     "output_type": "stream",
     "text": [
      "C:\\Users\\laure\\Anaconda3\\envs\\myenv\\lib\\site-packages\\sklearn\\utils\\validation.py:760: DataConversionWarning: A column-vector y was passed when a 1d array was expected. Please change the shape of y to (n_samples, ), for example using ravel().\n",
      "  y = column_or_1d(y, warn=True)\n"
     ]
    },
    {
     "name": "stdout",
     "output_type": "stream",
     "text": [
      "[CV] ..... C=0.5, degree=5, gamma=0.001, kernel=sigmoid, total=   0.2s\n",
      "[CV] C=0.5, degree=5, gamma=0.001, kernel=sigmoid ....................\n"
     ]
    },
    {
     "name": "stderr",
     "output_type": "stream",
     "text": [
      "C:\\Users\\laure\\Anaconda3\\envs\\myenv\\lib\\site-packages\\sklearn\\utils\\validation.py:760: DataConversionWarning: A column-vector y was passed when a 1d array was expected. Please change the shape of y to (n_samples, ), for example using ravel().\n",
      "  y = column_or_1d(y, warn=True)\n"
     ]
    },
    {
     "name": "stdout",
     "output_type": "stream",
     "text": [
      "[CV] ..... C=0.5, degree=5, gamma=0.001, kernel=sigmoid, total=   0.2s\n",
      "[CV] C=0.5, degree=5, gamma=0.001, kernel=sigmoid ....................\n"
     ]
    },
    {
     "name": "stderr",
     "output_type": "stream",
     "text": [
      "C:\\Users\\laure\\Anaconda3\\envs\\myenv\\lib\\site-packages\\sklearn\\utils\\validation.py:760: DataConversionWarning: A column-vector y was passed when a 1d array was expected. Please change the shape of y to (n_samples, ), for example using ravel().\n",
      "  y = column_or_1d(y, warn=True)\n"
     ]
    },
    {
     "name": "stdout",
     "output_type": "stream",
     "text": [
      "[CV] ..... C=0.5, degree=5, gamma=0.001, kernel=sigmoid, total=   0.3s\n",
      "[CV] C=0.5, degree=5, gamma=0.001, kernel=sigmoid ....................\n"
     ]
    },
    {
     "name": "stderr",
     "output_type": "stream",
     "text": [
      "C:\\Users\\laure\\Anaconda3\\envs\\myenv\\lib\\site-packages\\sklearn\\utils\\validation.py:760: DataConversionWarning: A column-vector y was passed when a 1d array was expected. Please change the shape of y to (n_samples, ), for example using ravel().\n",
      "  y = column_or_1d(y, warn=True)\n"
     ]
    },
    {
     "name": "stdout",
     "output_type": "stream",
     "text": [
      "[CV] ..... C=0.5, degree=5, gamma=0.001, kernel=sigmoid, total=   0.3s\n",
      "[CV] C=0.5, degree=5, gamma=0.001, kernel=sigmoid ....................\n"
     ]
    },
    {
     "name": "stderr",
     "output_type": "stream",
     "text": [
      "C:\\Users\\laure\\Anaconda3\\envs\\myenv\\lib\\site-packages\\sklearn\\utils\\validation.py:760: DataConversionWarning: A column-vector y was passed when a 1d array was expected. Please change the shape of y to (n_samples, ), for example using ravel().\n",
      "  y = column_or_1d(y, warn=True)\n"
     ]
    },
    {
     "name": "stdout",
     "output_type": "stream",
     "text": [
      "[CV] ..... C=0.5, degree=5, gamma=0.001, kernel=sigmoid, total=   0.3s\n",
      "[CV] C=0.5, degree=6, gamma=1, kernel=linear .........................\n",
      "[CV] .......... C=0.5, degree=6, gamma=1, kernel=linear, total=   0.0s\n",
      "[CV] C=0.5, degree=6, gamma=1, kernel=linear .........................\n",
      "[CV] .......... C=0.5, degree=6, gamma=1, kernel=linear, total=   0.0s\n",
      "[CV] C=0.5, degree=6, gamma=1, kernel=linear .........................\n",
      "[CV] .......... C=0.5, degree=6, gamma=1, kernel=linear, total=   0.0s\n",
      "[CV] C=0.5, degree=6, gamma=1, kernel=linear .........................\n",
      "[CV] .......... C=0.5, degree=6, gamma=1, kernel=linear, total=   0.0s\n",
      "[CV] C=0.5, degree=6, gamma=1, kernel=linear .........................\n",
      "[CV] .......... C=0.5, degree=6, gamma=1, kernel=linear, total=   0.0s\n",
      "[CV] C=0.5, degree=6, gamma=1, kernel=rbf ............................\n",
      "[CV] ............. C=0.5, degree=6, gamma=1, kernel=rbf, total=   0.0s\n",
      "[CV] C=0.5, degree=6, gamma=1, kernel=rbf ............................\n",
      "[CV] ............. C=0.5, degree=6, gamma=1, kernel=rbf, total=   0.0s\n",
      "[CV] C=0.5, degree=6, gamma=1, kernel=rbf ............................\n",
      "[CV] ............. C=0.5, degree=6, gamma=1, kernel=rbf, total=   0.0s\n",
      "[CV] C=0.5, degree=6, gamma=1, kernel=rbf ............................\n",
      "[CV] ............. C=0.5, degree=6, gamma=1, kernel=rbf, total=   0.0s\n",
      "[CV] C=0.5, degree=6, gamma=1, kernel=rbf ............................\n",
      "[CV] ............. C=0.5, degree=6, gamma=1, kernel=rbf, total=   0.0s\n",
      "[CV] C=0.5, degree=6, gamma=1, kernel=poly ...........................\n",
      "[CV] ............ C=0.5, degree=6, gamma=1, kernel=poly, total=   0.0s\n",
      "[CV] C=0.5, degree=6, gamma=1, kernel=poly ...........................\n",
      "[CV] ............ C=0.5, degree=6, gamma=1, kernel=poly, total=   0.0s\n",
      "[CV] C=0.5, degree=6, gamma=1, kernel=poly ...........................\n"
     ]
    },
    {
     "name": "stderr",
     "output_type": "stream",
     "text": [
      "C:\\Users\\laure\\Anaconda3\\envs\\myenv\\lib\\site-packages\\sklearn\\utils\\validation.py:760: DataConversionWarning: A column-vector y was passed when a 1d array was expected. Please change the shape of y to (n_samples, ), for example using ravel().\n",
      "  y = column_or_1d(y, warn=True)\n",
      "C:\\Users\\laure\\Anaconda3\\envs\\myenv\\lib\\site-packages\\sklearn\\utils\\validation.py:760: DataConversionWarning: A column-vector y was passed when a 1d array was expected. Please change the shape of y to (n_samples, ), for example using ravel().\n",
      "  y = column_or_1d(y, warn=True)\n",
      "C:\\Users\\laure\\Anaconda3\\envs\\myenv\\lib\\site-packages\\sklearn\\utils\\validation.py:760: DataConversionWarning: A column-vector y was passed when a 1d array was expected. Please change the shape of y to (n_samples, ), for example using ravel().\n",
      "  y = column_or_1d(y, warn=True)\n",
      "C:\\Users\\laure\\Anaconda3\\envs\\myenv\\lib\\site-packages\\sklearn\\utils\\validation.py:760: DataConversionWarning: A column-vector y was passed when a 1d array was expected. Please change the shape of y to (n_samples, ), for example using ravel().\n",
      "  y = column_or_1d(y, warn=True)\n",
      "C:\\Users\\laure\\Anaconda3\\envs\\myenv\\lib\\site-packages\\sklearn\\utils\\validation.py:760: DataConversionWarning: A column-vector y was passed when a 1d array was expected. Please change the shape of y to (n_samples, ), for example using ravel().\n",
      "  y = column_or_1d(y, warn=True)\n",
      "C:\\Users\\laure\\Anaconda3\\envs\\myenv\\lib\\site-packages\\sklearn\\utils\\validation.py:760: DataConversionWarning: A column-vector y was passed when a 1d array was expected. Please change the shape of y to (n_samples, ), for example using ravel().\n",
      "  y = column_or_1d(y, warn=True)\n",
      "C:\\Users\\laure\\Anaconda3\\envs\\myenv\\lib\\site-packages\\sklearn\\utils\\validation.py:760: DataConversionWarning: A column-vector y was passed when a 1d array was expected. Please change the shape of y to (n_samples, ), for example using ravel().\n",
      "  y = column_or_1d(y, warn=True)\n",
      "C:\\Users\\laure\\Anaconda3\\envs\\myenv\\lib\\site-packages\\sklearn\\utils\\validation.py:760: DataConversionWarning: A column-vector y was passed when a 1d array was expected. Please change the shape of y to (n_samples, ), for example using ravel().\n",
      "  y = column_or_1d(y, warn=True)\n",
      "C:\\Users\\laure\\Anaconda3\\envs\\myenv\\lib\\site-packages\\sklearn\\utils\\validation.py:760: DataConversionWarning: A column-vector y was passed when a 1d array was expected. Please change the shape of y to (n_samples, ), for example using ravel().\n",
      "  y = column_or_1d(y, warn=True)\n",
      "C:\\Users\\laure\\Anaconda3\\envs\\myenv\\lib\\site-packages\\sklearn\\utils\\validation.py:760: DataConversionWarning: A column-vector y was passed when a 1d array was expected. Please change the shape of y to (n_samples, ), for example using ravel().\n",
      "  y = column_or_1d(y, warn=True)\n",
      "C:\\Users\\laure\\Anaconda3\\envs\\myenv\\lib\\site-packages\\sklearn\\utils\\validation.py:760: DataConversionWarning: A column-vector y was passed when a 1d array was expected. Please change the shape of y to (n_samples, ), for example using ravel().\n",
      "  y = column_or_1d(y, warn=True)\n",
      "C:\\Users\\laure\\Anaconda3\\envs\\myenv\\lib\\site-packages\\sklearn\\utils\\validation.py:760: DataConversionWarning: A column-vector y was passed when a 1d array was expected. Please change the shape of y to (n_samples, ), for example using ravel().\n",
      "  y = column_or_1d(y, warn=True)\n",
      "C:\\Users\\laure\\Anaconda3\\envs\\myenv\\lib\\site-packages\\sklearn\\utils\\validation.py:760: DataConversionWarning: A column-vector y was passed when a 1d array was expected. Please change the shape of y to (n_samples, ), for example using ravel().\n",
      "  y = column_or_1d(y, warn=True)\n",
      "C:\\Users\\laure\\Anaconda3\\envs\\myenv\\lib\\site-packages\\sklearn\\utils\\validation.py:760: DataConversionWarning: A column-vector y was passed when a 1d array was expected. Please change the shape of y to (n_samples, ), for example using ravel().\n",
      "  y = column_or_1d(y, warn=True)\n",
      "C:\\Users\\laure\\Anaconda3\\envs\\myenv\\lib\\site-packages\\sklearn\\utils\\validation.py:760: DataConversionWarning: A column-vector y was passed when a 1d array was expected. Please change the shape of y to (n_samples, ), for example using ravel().\n",
      "  y = column_or_1d(y, warn=True)\n",
      "C:\\Users\\laure\\Anaconda3\\envs\\myenv\\lib\\site-packages\\sklearn\\utils\\validation.py:760: DataConversionWarning: A column-vector y was passed when a 1d array was expected. Please change the shape of y to (n_samples, ), for example using ravel().\n",
      "  y = column_or_1d(y, warn=True)\n",
      "C:\\Users\\laure\\Anaconda3\\envs\\myenv\\lib\\site-packages\\sklearn\\utils\\validation.py:760: DataConversionWarning: A column-vector y was passed when a 1d array was expected. Please change the shape of y to (n_samples, ), for example using ravel().\n",
      "  y = column_or_1d(y, warn=True)\n",
      "C:\\Users\\laure\\Anaconda3\\envs\\myenv\\lib\\site-packages\\sklearn\\utils\\validation.py:760: DataConversionWarning: A column-vector y was passed when a 1d array was expected. Please change the shape of y to (n_samples, ), for example using ravel().\n",
      "  y = column_or_1d(y, warn=True)\n",
      "C:\\Users\\laure\\Anaconda3\\envs\\myenv\\lib\\site-packages\\sklearn\\utils\\validation.py:760: DataConversionWarning: A column-vector y was passed when a 1d array was expected. Please change the shape of y to (n_samples, ), for example using ravel().\n",
      "  y = column_or_1d(y, warn=True)\n",
      "C:\\Users\\laure\\Anaconda3\\envs\\myenv\\lib\\site-packages\\sklearn\\utils\\validation.py:760: DataConversionWarning: A column-vector y was passed when a 1d array was expected. Please change the shape of y to (n_samples, ), for example using ravel().\n",
      "  y = column_or_1d(y, warn=True)\n",
      "C:\\Users\\laure\\Anaconda3\\envs\\myenv\\lib\\site-packages\\sklearn\\utils\\validation.py:760: DataConversionWarning: A column-vector y was passed when a 1d array was expected. Please change the shape of y to (n_samples, ), for example using ravel().\n",
      "  y = column_or_1d(y, warn=True)\n",
      "C:\\Users\\laure\\Anaconda3\\envs\\myenv\\lib\\site-packages\\sklearn\\utils\\validation.py:760: DataConversionWarning: A column-vector y was passed when a 1d array was expected. Please change the shape of y to (n_samples, ), for example using ravel().\n",
      "  y = column_or_1d(y, warn=True)\n",
      "C:\\Users\\laure\\Anaconda3\\envs\\myenv\\lib\\site-packages\\sklearn\\utils\\validation.py:760: DataConversionWarning: A column-vector y was passed when a 1d array was expected. Please change the shape of y to (n_samples, ), for example using ravel().\n",
      "  y = column_or_1d(y, warn=True)\n",
      "C:\\Users\\laure\\Anaconda3\\envs\\myenv\\lib\\site-packages\\sklearn\\utils\\validation.py:760: DataConversionWarning: A column-vector y was passed when a 1d array was expected. Please change the shape of y to (n_samples, ), for example using ravel().\n",
      "  y = column_or_1d(y, warn=True)\n"
     ]
    },
    {
     "name": "stdout",
     "output_type": "stream",
     "text": [
      "[CV] ............ C=0.5, degree=6, gamma=1, kernel=poly, total=   0.0s\n",
      "[CV] C=0.5, degree=6, gamma=1, kernel=poly ...........................\n",
      "[CV] ............ C=0.5, degree=6, gamma=1, kernel=poly, total=   0.0s\n",
      "[CV] C=0.5, degree=6, gamma=1, kernel=poly ...........................\n",
      "[CV] ............ C=0.5, degree=6, gamma=1, kernel=poly, total=   0.0s\n",
      "[CV] C=0.5, degree=6, gamma=1, kernel=sigmoid ........................\n",
      "[CV] ......... C=0.5, degree=6, gamma=1, kernel=sigmoid, total=   0.0s\n",
      "[CV] C=0.5, degree=6, gamma=1, kernel=sigmoid ........................\n",
      "[CV] ......... C=0.5, degree=6, gamma=1, kernel=sigmoid, total=   0.0s\n",
      "[CV] C=0.5, degree=6, gamma=1, kernel=sigmoid ........................\n",
      "[CV] ......... C=0.5, degree=6, gamma=1, kernel=sigmoid, total=   0.0s\n",
      "[CV] C=0.5, degree=6, gamma=1, kernel=sigmoid ........................\n",
      "[CV] ......... C=0.5, degree=6, gamma=1, kernel=sigmoid, total=   0.0s\n",
      "[CV] C=0.5, degree=6, gamma=1, kernel=sigmoid ........................\n",
      "[CV] ......... C=0.5, degree=6, gamma=1, kernel=sigmoid, total=   0.0s\n",
      "[CV] C=0.5, degree=6, gamma=0.1, kernel=linear .......................\n",
      "[CV] ........ C=0.5, degree=6, gamma=0.1, kernel=linear, total=   0.0s\n",
      "[CV] C=0.5, degree=6, gamma=0.1, kernel=linear .......................\n",
      "[CV] ........ C=0.5, degree=6, gamma=0.1, kernel=linear, total=   0.0s\n",
      "[CV] C=0.5, degree=6, gamma=0.1, kernel=linear .......................\n",
      "[CV] ........ C=0.5, degree=6, gamma=0.1, kernel=linear, total=   0.0s\n",
      "[CV] C=0.5, degree=6, gamma=0.1, kernel=linear .......................\n",
      "[CV] ........ C=0.5, degree=6, gamma=0.1, kernel=linear, total=   0.0s\n",
      "[CV] C=0.5, degree=6, gamma=0.1, kernel=linear .......................\n",
      "[CV] ........ C=0.5, degree=6, gamma=0.1, kernel=linear, total=   0.0s\n"
     ]
    },
    {
     "name": "stderr",
     "output_type": "stream",
     "text": [
      "C:\\Users\\laure\\Anaconda3\\envs\\myenv\\lib\\site-packages\\sklearn\\utils\\validation.py:760: DataConversionWarning: A column-vector y was passed when a 1d array was expected. Please change the shape of y to (n_samples, ), for example using ravel().\n",
      "  y = column_or_1d(y, warn=True)\n",
      "C:\\Users\\laure\\Anaconda3\\envs\\myenv\\lib\\site-packages\\sklearn\\utils\\validation.py:760: DataConversionWarning: A column-vector y was passed when a 1d array was expected. Please change the shape of y to (n_samples, ), for example using ravel().\n",
      "  y = column_or_1d(y, warn=True)\n",
      "C:\\Users\\laure\\Anaconda3\\envs\\myenv\\lib\\site-packages\\sklearn\\utils\\validation.py:760: DataConversionWarning: A column-vector y was passed when a 1d array was expected. Please change the shape of y to (n_samples, ), for example using ravel().\n",
      "  y = column_or_1d(y, warn=True)\n",
      "C:\\Users\\laure\\Anaconda3\\envs\\myenv\\lib\\site-packages\\sklearn\\utils\\validation.py:760: DataConversionWarning: A column-vector y was passed when a 1d array was expected. Please change the shape of y to (n_samples, ), for example using ravel().\n",
      "  y = column_or_1d(y, warn=True)\n",
      "C:\\Users\\laure\\Anaconda3\\envs\\myenv\\lib\\site-packages\\sklearn\\utils\\validation.py:760: DataConversionWarning: A column-vector y was passed when a 1d array was expected. Please change the shape of y to (n_samples, ), for example using ravel().\n",
      "  y = column_or_1d(y, warn=True)\n",
      "C:\\Users\\laure\\Anaconda3\\envs\\myenv\\lib\\site-packages\\sklearn\\utils\\validation.py:760: DataConversionWarning: A column-vector y was passed when a 1d array was expected. Please change the shape of y to (n_samples, ), for example using ravel().\n",
      "  y = column_or_1d(y, warn=True)\n",
      "C:\\Users\\laure\\Anaconda3\\envs\\myenv\\lib\\site-packages\\sklearn\\utils\\validation.py:760: DataConversionWarning: A column-vector y was passed when a 1d array was expected. Please change the shape of y to (n_samples, ), for example using ravel().\n",
      "  y = column_or_1d(y, warn=True)\n"
     ]
    },
    {
     "name": "stdout",
     "output_type": "stream",
     "text": [
      "[CV] C=0.5, degree=6, gamma=0.1, kernel=rbf ..........................\n",
      "[CV] ........... C=0.5, degree=6, gamma=0.1, kernel=rbf, total=   0.0s\n",
      "[CV] C=0.5, degree=6, gamma=0.1, kernel=rbf ..........................\n",
      "[CV] ........... C=0.5, degree=6, gamma=0.1, kernel=rbf, total=   0.0s\n",
      "[CV] C=0.5, degree=6, gamma=0.1, kernel=rbf ..........................\n",
      "[CV] ........... C=0.5, degree=6, gamma=0.1, kernel=rbf, total=   0.0s\n",
      "[CV] C=0.5, degree=6, gamma=0.1, kernel=rbf ..........................\n",
      "[CV] ........... C=0.5, degree=6, gamma=0.1, kernel=rbf, total=   0.0s\n",
      "[CV] C=0.5, degree=6, gamma=0.1, kernel=rbf ..........................\n",
      "[CV] ........... C=0.5, degree=6, gamma=0.1, kernel=rbf, total=   0.0s\n",
      "[CV] C=0.5, degree=6, gamma=0.1, kernel=poly .........................\n",
      "[CV] .......... C=0.5, degree=6, gamma=0.1, kernel=poly, total=   0.2s\n",
      "[CV] C=0.5, degree=6, gamma=0.1, kernel=poly .........................\n",
      "[CV] .......... C=0.5, degree=6, gamma=0.1, kernel=poly, total=   0.2s\n",
      "[CV] C=0.5, degree=6, gamma=0.1, kernel=poly .........................\n"
     ]
    },
    {
     "name": "stderr",
     "output_type": "stream",
     "text": [
      "C:\\Users\\laure\\Anaconda3\\envs\\myenv\\lib\\site-packages\\sklearn\\utils\\validation.py:760: DataConversionWarning: A column-vector y was passed when a 1d array was expected. Please change the shape of y to (n_samples, ), for example using ravel().\n",
      "  y = column_or_1d(y, warn=True)\n",
      "C:\\Users\\laure\\Anaconda3\\envs\\myenv\\lib\\site-packages\\sklearn\\utils\\validation.py:760: DataConversionWarning: A column-vector y was passed when a 1d array was expected. Please change the shape of y to (n_samples, ), for example using ravel().\n",
      "  y = column_or_1d(y, warn=True)\n"
     ]
    },
    {
     "name": "stdout",
     "output_type": "stream",
     "text": [
      "[CV] .......... C=0.5, degree=6, gamma=0.1, kernel=poly, total=   0.2s\n",
      "[CV] C=0.5, degree=6, gamma=0.1, kernel=poly .........................\n",
      "[CV] .......... C=0.5, degree=6, gamma=0.1, kernel=poly, total=   0.2s\n",
      "[CV] C=0.5, degree=6, gamma=0.1, kernel=poly .........................\n"
     ]
    },
    {
     "name": "stderr",
     "output_type": "stream",
     "text": [
      "C:\\Users\\laure\\Anaconda3\\envs\\myenv\\lib\\site-packages\\sklearn\\utils\\validation.py:760: DataConversionWarning: A column-vector y was passed when a 1d array was expected. Please change the shape of y to (n_samples, ), for example using ravel().\n",
      "  y = column_or_1d(y, warn=True)\n"
     ]
    },
    {
     "name": "stdout",
     "output_type": "stream",
     "text": [
      "[CV] .......... C=0.5, degree=6, gamma=0.1, kernel=poly, total=   0.2s\n",
      "[CV] C=0.5, degree=6, gamma=0.1, kernel=sigmoid ......................\n",
      "[CV] ....... C=0.5, degree=6, gamma=0.1, kernel=sigmoid, total=   0.0s\n",
      "[CV] C=0.5, degree=6, gamma=0.1, kernel=sigmoid ......................\n",
      "[CV] ....... C=0.5, degree=6, gamma=0.1, kernel=sigmoid, total=   0.0s\n",
      "[CV] C=0.5, degree=6, gamma=0.1, kernel=sigmoid ......................\n",
      "[CV] ....... C=0.5, degree=6, gamma=0.1, kernel=sigmoid, total=   0.1s\n",
      "[CV] C=0.5, degree=6, gamma=0.1, kernel=sigmoid ......................\n",
      "[CV] ....... C=0.5, degree=6, gamma=0.1, kernel=sigmoid, total=   0.1s\n",
      "[CV] C=0.5, degree=6, gamma=0.1, kernel=sigmoid ......................\n"
     ]
    },
    {
     "name": "stderr",
     "output_type": "stream",
     "text": [
      "C:\\Users\\laure\\Anaconda3\\envs\\myenv\\lib\\site-packages\\sklearn\\utils\\validation.py:760: DataConversionWarning: A column-vector y was passed when a 1d array was expected. Please change the shape of y to (n_samples, ), for example using ravel().\n",
      "  y = column_or_1d(y, warn=True)\n",
      "C:\\Users\\laure\\Anaconda3\\envs\\myenv\\lib\\site-packages\\sklearn\\utils\\validation.py:760: DataConversionWarning: A column-vector y was passed when a 1d array was expected. Please change the shape of y to (n_samples, ), for example using ravel().\n",
      "  y = column_or_1d(y, warn=True)\n",
      "C:\\Users\\laure\\Anaconda3\\envs\\myenv\\lib\\site-packages\\sklearn\\utils\\validation.py:760: DataConversionWarning: A column-vector y was passed when a 1d array was expected. Please change the shape of y to (n_samples, ), for example using ravel().\n",
      "  y = column_or_1d(y, warn=True)\n",
      "C:\\Users\\laure\\Anaconda3\\envs\\myenv\\lib\\site-packages\\sklearn\\utils\\validation.py:760: DataConversionWarning: A column-vector y was passed when a 1d array was expected. Please change the shape of y to (n_samples, ), for example using ravel().\n",
      "  y = column_or_1d(y, warn=True)\n",
      "C:\\Users\\laure\\Anaconda3\\envs\\myenv\\lib\\site-packages\\sklearn\\utils\\validation.py:760: DataConversionWarning: A column-vector y was passed when a 1d array was expected. Please change the shape of y to (n_samples, ), for example using ravel().\n",
      "  y = column_or_1d(y, warn=True)\n",
      "C:\\Users\\laure\\Anaconda3\\envs\\myenv\\lib\\site-packages\\sklearn\\utils\\validation.py:760: DataConversionWarning: A column-vector y was passed when a 1d array was expected. Please change the shape of y to (n_samples, ), for example using ravel().\n",
      "  y = column_or_1d(y, warn=True)\n",
      "C:\\Users\\laure\\Anaconda3\\envs\\myenv\\lib\\site-packages\\sklearn\\utils\\validation.py:760: DataConversionWarning: A column-vector y was passed when a 1d array was expected. Please change the shape of y to (n_samples, ), for example using ravel().\n",
      "  y = column_or_1d(y, warn=True)\n",
      "C:\\Users\\laure\\Anaconda3\\envs\\myenv\\lib\\site-packages\\sklearn\\utils\\validation.py:760: DataConversionWarning: A column-vector y was passed when a 1d array was expected. Please change the shape of y to (n_samples, ), for example using ravel().\n",
      "  y = column_or_1d(y, warn=True)\n",
      "C:\\Users\\laure\\Anaconda3\\envs\\myenv\\lib\\site-packages\\sklearn\\utils\\validation.py:760: DataConversionWarning: A column-vector y was passed when a 1d array was expected. Please change the shape of y to (n_samples, ), for example using ravel().\n",
      "  y = column_or_1d(y, warn=True)\n",
      "C:\\Users\\laure\\Anaconda3\\envs\\myenv\\lib\\site-packages\\sklearn\\utils\\validation.py:760: DataConversionWarning: A column-vector y was passed when a 1d array was expected. Please change the shape of y to (n_samples, ), for example using ravel().\n",
      "  y = column_or_1d(y, warn=True)\n",
      "C:\\Users\\laure\\Anaconda3\\envs\\myenv\\lib\\site-packages\\sklearn\\utils\\validation.py:760: DataConversionWarning: A column-vector y was passed when a 1d array was expected. Please change the shape of y to (n_samples, ), for example using ravel().\n",
      "  y = column_or_1d(y, warn=True)\n",
      "C:\\Users\\laure\\Anaconda3\\envs\\myenv\\lib\\site-packages\\sklearn\\utils\\validation.py:760: DataConversionWarning: A column-vector y was passed when a 1d array was expected. Please change the shape of y to (n_samples, ), for example using ravel().\n",
      "  y = column_or_1d(y, warn=True)\n"
     ]
    },
    {
     "name": "stdout",
     "output_type": "stream",
     "text": [
      "[CV] ....... C=0.5, degree=6, gamma=0.1, kernel=sigmoid, total=   0.0s\n",
      "[CV] C=0.5, degree=6, gamma=0.01, kernel=linear ......................\n",
      "[CV] ....... C=0.5, degree=6, gamma=0.01, kernel=linear, total=   0.0s\n",
      "[CV] C=0.5, degree=6, gamma=0.01, kernel=linear ......................\n",
      "[CV] ....... C=0.5, degree=6, gamma=0.01, kernel=linear, total=   0.0s\n",
      "[CV] C=0.5, degree=6, gamma=0.01, kernel=linear ......................\n",
      "[CV] ....... C=0.5, degree=6, gamma=0.01, kernel=linear, total=   0.0s\n",
      "[CV] C=0.5, degree=6, gamma=0.01, kernel=linear ......................\n",
      "[CV] ....... C=0.5, degree=6, gamma=0.01, kernel=linear, total=   0.0s\n",
      "[CV] C=0.5, degree=6, gamma=0.01, kernel=linear ......................\n",
      "[CV] ....... C=0.5, degree=6, gamma=0.01, kernel=linear, total=   0.0s\n",
      "[CV] C=0.5, degree=6, gamma=0.01, kernel=rbf .........................\n",
      "[CV] .......... C=0.5, degree=6, gamma=0.01, kernel=rbf, total=   0.1s\n",
      "[CV] C=0.5, degree=6, gamma=0.01, kernel=rbf .........................\n"
     ]
    },
    {
     "name": "stderr",
     "output_type": "stream",
     "text": [
      "C:\\Users\\laure\\Anaconda3\\envs\\myenv\\lib\\site-packages\\sklearn\\utils\\validation.py:760: DataConversionWarning: A column-vector y was passed when a 1d array was expected. Please change the shape of y to (n_samples, ), for example using ravel().\n",
      "  y = column_or_1d(y, warn=True)\n",
      "C:\\Users\\laure\\Anaconda3\\envs\\myenv\\lib\\site-packages\\sklearn\\utils\\validation.py:760: DataConversionWarning: A column-vector y was passed when a 1d array was expected. Please change the shape of y to (n_samples, ), for example using ravel().\n",
      "  y = column_or_1d(y, warn=True)\n"
     ]
    },
    {
     "name": "stdout",
     "output_type": "stream",
     "text": [
      "[CV] .......... C=0.5, degree=6, gamma=0.01, kernel=rbf, total=   0.1s\n",
      "[CV] C=0.5, degree=6, gamma=0.01, kernel=rbf .........................\n",
      "[CV] .......... C=0.5, degree=6, gamma=0.01, kernel=rbf, total=   0.1s\n",
      "[CV] C=0.5, degree=6, gamma=0.01, kernel=rbf .........................\n"
     ]
    },
    {
     "name": "stderr",
     "output_type": "stream",
     "text": [
      "C:\\Users\\laure\\Anaconda3\\envs\\myenv\\lib\\site-packages\\sklearn\\utils\\validation.py:760: DataConversionWarning: A column-vector y was passed when a 1d array was expected. Please change the shape of y to (n_samples, ), for example using ravel().\n",
      "  y = column_or_1d(y, warn=True)\n",
      "C:\\Users\\laure\\Anaconda3\\envs\\myenv\\lib\\site-packages\\sklearn\\utils\\validation.py:760: DataConversionWarning: A column-vector y was passed when a 1d array was expected. Please change the shape of y to (n_samples, ), for example using ravel().\n",
      "  y = column_or_1d(y, warn=True)\n"
     ]
    },
    {
     "name": "stdout",
     "output_type": "stream",
     "text": [
      "[CV] .......... C=0.5, degree=6, gamma=0.01, kernel=rbf, total=   0.1s\n",
      "[CV] C=0.5, degree=6, gamma=0.01, kernel=rbf .........................\n",
      "[CV] .......... C=0.5, degree=6, gamma=0.01, kernel=rbf, total=   0.1s\n",
      "[CV] C=0.5, degree=6, gamma=0.01, kernel=poly ........................\n"
     ]
    },
    {
     "name": "stderr",
     "output_type": "stream",
     "text": [
      "C:\\Users\\laure\\Anaconda3\\envs\\myenv\\lib\\site-packages\\sklearn\\utils\\validation.py:760: DataConversionWarning: A column-vector y was passed when a 1d array was expected. Please change the shape of y to (n_samples, ), for example using ravel().\n",
      "  y = column_or_1d(y, warn=True)\n",
      "C:\\Users\\laure\\Anaconda3\\envs\\myenv\\lib\\site-packages\\sklearn\\utils\\validation.py:760: DataConversionWarning: A column-vector y was passed when a 1d array was expected. Please change the shape of y to (n_samples, ), for example using ravel().\n",
      "  y = column_or_1d(y, warn=True)\n"
     ]
    },
    {
     "name": "stdout",
     "output_type": "stream",
     "text": [
      "[CV] ......... C=0.5, degree=6, gamma=0.01, kernel=poly, total=   0.2s\n",
      "[CV] C=0.5, degree=6, gamma=0.01, kernel=poly ........................\n",
      "[CV] ......... C=0.5, degree=6, gamma=0.01, kernel=poly, total=   0.2s\n",
      "[CV] C=0.5, degree=6, gamma=0.01, kernel=poly ........................\n"
     ]
    },
    {
     "name": "stderr",
     "output_type": "stream",
     "text": [
      "C:\\Users\\laure\\Anaconda3\\envs\\myenv\\lib\\site-packages\\sklearn\\utils\\validation.py:760: DataConversionWarning: A column-vector y was passed when a 1d array was expected. Please change the shape of y to (n_samples, ), for example using ravel().\n",
      "  y = column_or_1d(y, warn=True)\n",
      "C:\\Users\\laure\\Anaconda3\\envs\\myenv\\lib\\site-packages\\sklearn\\utils\\validation.py:760: DataConversionWarning: A column-vector y was passed when a 1d array was expected. Please change the shape of y to (n_samples, ), for example using ravel().\n",
      "  y = column_or_1d(y, warn=True)\n"
     ]
    },
    {
     "name": "stdout",
     "output_type": "stream",
     "text": [
      "[CV] ......... C=0.5, degree=6, gamma=0.01, kernel=poly, total=   0.2s\n",
      "[CV] C=0.5, degree=6, gamma=0.01, kernel=poly ........................\n",
      "[CV] ......... C=0.5, degree=6, gamma=0.01, kernel=poly, total=   0.2s\n",
      "[CV] C=0.5, degree=6, gamma=0.01, kernel=poly ........................\n"
     ]
    },
    {
     "name": "stderr",
     "output_type": "stream",
     "text": [
      "C:\\Users\\laure\\Anaconda3\\envs\\myenv\\lib\\site-packages\\sklearn\\utils\\validation.py:760: DataConversionWarning: A column-vector y was passed when a 1d array was expected. Please change the shape of y to (n_samples, ), for example using ravel().\n",
      "  y = column_or_1d(y, warn=True)\n",
      "C:\\Users\\laure\\Anaconda3\\envs\\myenv\\lib\\site-packages\\sklearn\\utils\\validation.py:760: DataConversionWarning: A column-vector y was passed when a 1d array was expected. Please change the shape of y to (n_samples, ), for example using ravel().\n",
      "  y = column_or_1d(y, warn=True)\n"
     ]
    },
    {
     "name": "stdout",
     "output_type": "stream",
     "text": [
      "[CV] ......... C=0.5, degree=6, gamma=0.01, kernel=poly, total=   0.2s\n",
      "[CV] C=0.5, degree=6, gamma=0.01, kernel=sigmoid .....................\n",
      "[CV] ...... C=0.5, degree=6, gamma=0.01, kernel=sigmoid, total=   0.2s\n",
      "[CV] C=0.5, degree=6, gamma=0.01, kernel=sigmoid .....................\n"
     ]
    },
    {
     "name": "stderr",
     "output_type": "stream",
     "text": [
      "C:\\Users\\laure\\Anaconda3\\envs\\myenv\\lib\\site-packages\\sklearn\\utils\\validation.py:760: DataConversionWarning: A column-vector y was passed when a 1d array was expected. Please change the shape of y to (n_samples, ), for example using ravel().\n",
      "  y = column_or_1d(y, warn=True)\n"
     ]
    },
    {
     "name": "stdout",
     "output_type": "stream",
     "text": [
      "[CV] ...... C=0.5, degree=6, gamma=0.01, kernel=sigmoid, total=   0.2s\n",
      "[CV] C=0.5, degree=6, gamma=0.01, kernel=sigmoid .....................\n"
     ]
    },
    {
     "name": "stderr",
     "output_type": "stream",
     "text": [
      "C:\\Users\\laure\\Anaconda3\\envs\\myenv\\lib\\site-packages\\sklearn\\utils\\validation.py:760: DataConversionWarning: A column-vector y was passed when a 1d array was expected. Please change the shape of y to (n_samples, ), for example using ravel().\n",
      "  y = column_or_1d(y, warn=True)\n"
     ]
    },
    {
     "name": "stdout",
     "output_type": "stream",
     "text": [
      "[CV] ...... C=0.5, degree=6, gamma=0.01, kernel=sigmoid, total=   0.2s\n",
      "[CV] C=0.5, degree=6, gamma=0.01, kernel=sigmoid .....................\n",
      "[CV] ...... C=0.5, degree=6, gamma=0.01, kernel=sigmoid, total=   0.2s\n",
      "[CV] C=0.5, degree=6, gamma=0.01, kernel=sigmoid .....................\n"
     ]
    },
    {
     "name": "stderr",
     "output_type": "stream",
     "text": [
      "C:\\Users\\laure\\Anaconda3\\envs\\myenv\\lib\\site-packages\\sklearn\\utils\\validation.py:760: DataConversionWarning: A column-vector y was passed when a 1d array was expected. Please change the shape of y to (n_samples, ), for example using ravel().\n",
      "  y = column_or_1d(y, warn=True)\n",
      "C:\\Users\\laure\\Anaconda3\\envs\\myenv\\lib\\site-packages\\sklearn\\utils\\validation.py:760: DataConversionWarning: A column-vector y was passed when a 1d array was expected. Please change the shape of y to (n_samples, ), for example using ravel().\n",
      "  y = column_or_1d(y, warn=True)\n",
      "C:\\Users\\laure\\Anaconda3\\envs\\myenv\\lib\\site-packages\\sklearn\\utils\\validation.py:760: DataConversionWarning: A column-vector y was passed when a 1d array was expected. Please change the shape of y to (n_samples, ), for example using ravel().\n",
      "  y = column_or_1d(y, warn=True)\n"
     ]
    },
    {
     "name": "stdout",
     "output_type": "stream",
     "text": [
      "[CV] ...... C=0.5, degree=6, gamma=0.01, kernel=sigmoid, total=   0.2s\n",
      "[CV] C=0.5, degree=6, gamma=0.001, kernel=linear .....................\n",
      "[CV] ...... C=0.5, degree=6, gamma=0.001, kernel=linear, total=   0.0s\n",
      "[CV] C=0.5, degree=6, gamma=0.001, kernel=linear .....................\n",
      "[CV] ...... C=0.5, degree=6, gamma=0.001, kernel=linear, total=   0.0s\n",
      "[CV] C=0.5, degree=6, gamma=0.001, kernel=linear .....................\n",
      "[CV] ...... C=0.5, degree=6, gamma=0.001, kernel=linear, total=   0.0s\n",
      "[CV] C=0.5, degree=6, gamma=0.001, kernel=linear .....................\n",
      "[CV] ...... C=0.5, degree=6, gamma=0.001, kernel=linear, total=   0.0s\n",
      "[CV] C=0.5, degree=6, gamma=0.001, kernel=linear .....................\n",
      "[CV] ...... C=0.5, degree=6, gamma=0.001, kernel=linear, total=   0.0s\n",
      "[CV] C=0.5, degree=6, gamma=0.001, kernel=rbf ........................\n"
     ]
    },
    {
     "name": "stderr",
     "output_type": "stream",
     "text": [
      "C:\\Users\\laure\\Anaconda3\\envs\\myenv\\lib\\site-packages\\sklearn\\utils\\validation.py:760: DataConversionWarning: A column-vector y was passed when a 1d array was expected. Please change the shape of y to (n_samples, ), for example using ravel().\n",
      "  y = column_or_1d(y, warn=True)\n",
      "C:\\Users\\laure\\Anaconda3\\envs\\myenv\\lib\\site-packages\\sklearn\\utils\\validation.py:760: DataConversionWarning: A column-vector y was passed when a 1d array was expected. Please change the shape of y to (n_samples, ), for example using ravel().\n",
      "  y = column_or_1d(y, warn=True)\n",
      "C:\\Users\\laure\\Anaconda3\\envs\\myenv\\lib\\site-packages\\sklearn\\utils\\validation.py:760: DataConversionWarning: A column-vector y was passed when a 1d array was expected. Please change the shape of y to (n_samples, ), for example using ravel().\n",
      "  y = column_or_1d(y, warn=True)\n",
      "C:\\Users\\laure\\Anaconda3\\envs\\myenv\\lib\\site-packages\\sklearn\\utils\\validation.py:760: DataConversionWarning: A column-vector y was passed when a 1d array was expected. Please change the shape of y to (n_samples, ), for example using ravel().\n",
      "  y = column_or_1d(y, warn=True)\n",
      "C:\\Users\\laure\\Anaconda3\\envs\\myenv\\lib\\site-packages\\sklearn\\utils\\validation.py:760: DataConversionWarning: A column-vector y was passed when a 1d array was expected. Please change the shape of y to (n_samples, ), for example using ravel().\n",
      "  y = column_or_1d(y, warn=True)\n"
     ]
    },
    {
     "name": "stdout",
     "output_type": "stream",
     "text": [
      "[CV] ......... C=0.5, degree=6, gamma=0.001, kernel=rbf, total=   0.2s\n",
      "[CV] C=0.5, degree=6, gamma=0.001, kernel=rbf ........................\n"
     ]
    },
    {
     "name": "stderr",
     "output_type": "stream",
     "text": [
      "C:\\Users\\laure\\Anaconda3\\envs\\myenv\\lib\\site-packages\\sklearn\\utils\\validation.py:760: DataConversionWarning: A column-vector y was passed when a 1d array was expected. Please change the shape of y to (n_samples, ), for example using ravel().\n",
      "  y = column_or_1d(y, warn=True)\n"
     ]
    },
    {
     "name": "stdout",
     "output_type": "stream",
     "text": [
      "[CV] ......... C=0.5, degree=6, gamma=0.001, kernel=rbf, total=   0.2s\n",
      "[CV] C=0.5, degree=6, gamma=0.001, kernel=rbf ........................\n"
     ]
    },
    {
     "name": "stderr",
     "output_type": "stream",
     "text": [
      "C:\\Users\\laure\\Anaconda3\\envs\\myenv\\lib\\site-packages\\sklearn\\utils\\validation.py:760: DataConversionWarning: A column-vector y was passed when a 1d array was expected. Please change the shape of y to (n_samples, ), for example using ravel().\n",
      "  y = column_or_1d(y, warn=True)\n"
     ]
    },
    {
     "name": "stdout",
     "output_type": "stream",
     "text": [
      "[CV] ......... C=0.5, degree=6, gamma=0.001, kernel=rbf, total=   0.2s\n",
      "[CV] C=0.5, degree=6, gamma=0.001, kernel=rbf ........................\n"
     ]
    },
    {
     "name": "stderr",
     "output_type": "stream",
     "text": [
      "C:\\Users\\laure\\Anaconda3\\envs\\myenv\\lib\\site-packages\\sklearn\\utils\\validation.py:760: DataConversionWarning: A column-vector y was passed when a 1d array was expected. Please change the shape of y to (n_samples, ), for example using ravel().\n",
      "  y = column_or_1d(y, warn=True)\n"
     ]
    },
    {
     "name": "stdout",
     "output_type": "stream",
     "text": [
      "[CV] ......... C=0.5, degree=6, gamma=0.001, kernel=rbf, total=   0.3s\n",
      "[CV] C=0.5, degree=6, gamma=0.001, kernel=rbf ........................\n"
     ]
    },
    {
     "name": "stderr",
     "output_type": "stream",
     "text": [
      "C:\\Users\\laure\\Anaconda3\\envs\\myenv\\lib\\site-packages\\sklearn\\utils\\validation.py:760: DataConversionWarning: A column-vector y was passed when a 1d array was expected. Please change the shape of y to (n_samples, ), for example using ravel().\n",
      "  y = column_or_1d(y, warn=True)\n"
     ]
    },
    {
     "name": "stdout",
     "output_type": "stream",
     "text": [
      "[CV] ......... C=0.5, degree=6, gamma=0.001, kernel=rbf, total=   0.3s\n",
      "[CV] C=0.5, degree=6, gamma=0.001, kernel=poly .......................\n",
      "[CV] ........ C=0.5, degree=6, gamma=0.001, kernel=poly, total=   0.2s\n",
      "[CV] C=0.5, degree=6, gamma=0.001, kernel=poly .......................\n"
     ]
    },
    {
     "name": "stderr",
     "output_type": "stream",
     "text": [
      "C:\\Users\\laure\\Anaconda3\\envs\\myenv\\lib\\site-packages\\sklearn\\utils\\validation.py:760: DataConversionWarning: A column-vector y was passed when a 1d array was expected. Please change the shape of y to (n_samples, ), for example using ravel().\n",
      "  y = column_or_1d(y, warn=True)\n",
      "C:\\Users\\laure\\Anaconda3\\envs\\myenv\\lib\\site-packages\\sklearn\\utils\\validation.py:760: DataConversionWarning: A column-vector y was passed when a 1d array was expected. Please change the shape of y to (n_samples, ), for example using ravel().\n",
      "  y = column_or_1d(y, warn=True)\n"
     ]
    },
    {
     "name": "stdout",
     "output_type": "stream",
     "text": [
      "[CV] ........ C=0.5, degree=6, gamma=0.001, kernel=poly, total=   0.2s\n",
      "[CV] C=0.5, degree=6, gamma=0.001, kernel=poly .......................\n",
      "[CV] ........ C=0.5, degree=6, gamma=0.001, kernel=poly, total=   0.1s\n",
      "[CV] C=0.5, degree=6, gamma=0.001, kernel=poly .......................\n"
     ]
    },
    {
     "name": "stderr",
     "output_type": "stream",
     "text": [
      "C:\\Users\\laure\\Anaconda3\\envs\\myenv\\lib\\site-packages\\sklearn\\utils\\validation.py:760: DataConversionWarning: A column-vector y was passed when a 1d array was expected. Please change the shape of y to (n_samples, ), for example using ravel().\n",
      "  y = column_or_1d(y, warn=True)\n",
      "C:\\Users\\laure\\Anaconda3\\envs\\myenv\\lib\\site-packages\\sklearn\\utils\\validation.py:760: DataConversionWarning: A column-vector y was passed when a 1d array was expected. Please change the shape of y to (n_samples, ), for example using ravel().\n",
      "  y = column_or_1d(y, warn=True)\n"
     ]
    },
    {
     "name": "stdout",
     "output_type": "stream",
     "text": [
      "[CV] ........ C=0.5, degree=6, gamma=0.001, kernel=poly, total=   0.1s\n",
      "[CV] C=0.5, degree=6, gamma=0.001, kernel=poly .......................\n",
      "[CV] ........ C=0.5, degree=6, gamma=0.001, kernel=poly, total=   0.1s\n",
      "[CV] C=0.5, degree=6, gamma=0.001, kernel=sigmoid ....................\n"
     ]
    },
    {
     "name": "stderr",
     "output_type": "stream",
     "text": [
      "C:\\Users\\laure\\Anaconda3\\envs\\myenv\\lib\\site-packages\\sklearn\\utils\\validation.py:760: DataConversionWarning: A column-vector y was passed when a 1d array was expected. Please change the shape of y to (n_samples, ), for example using ravel().\n",
      "  y = column_or_1d(y, warn=True)\n",
      "C:\\Users\\laure\\Anaconda3\\envs\\myenv\\lib\\site-packages\\sklearn\\utils\\validation.py:760: DataConversionWarning: A column-vector y was passed when a 1d array was expected. Please change the shape of y to (n_samples, ), for example using ravel().\n",
      "  y = column_or_1d(y, warn=True)\n"
     ]
    },
    {
     "name": "stdout",
     "output_type": "stream",
     "text": [
      "[CV] ..... C=0.5, degree=6, gamma=0.001, kernel=sigmoid, total=   0.3s\n",
      "[CV] C=0.5, degree=6, gamma=0.001, kernel=sigmoid ....................\n"
     ]
    },
    {
     "name": "stderr",
     "output_type": "stream",
     "text": [
      "C:\\Users\\laure\\Anaconda3\\envs\\myenv\\lib\\site-packages\\sklearn\\utils\\validation.py:760: DataConversionWarning: A column-vector y was passed when a 1d array was expected. Please change the shape of y to (n_samples, ), for example using ravel().\n",
      "  y = column_or_1d(y, warn=True)\n"
     ]
    },
    {
     "name": "stdout",
     "output_type": "stream",
     "text": [
      "[CV] ..... C=0.5, degree=6, gamma=0.001, kernel=sigmoid, total=   0.3s\n",
      "[CV] C=0.5, degree=6, gamma=0.001, kernel=sigmoid ....................\n"
     ]
    },
    {
     "name": "stderr",
     "output_type": "stream",
     "text": [
      "C:\\Users\\laure\\Anaconda3\\envs\\myenv\\lib\\site-packages\\sklearn\\utils\\validation.py:760: DataConversionWarning: A column-vector y was passed when a 1d array was expected. Please change the shape of y to (n_samples, ), for example using ravel().\n",
      "  y = column_or_1d(y, warn=True)\n"
     ]
    },
    {
     "name": "stdout",
     "output_type": "stream",
     "text": [
      "[CV] ..... C=0.5, degree=6, gamma=0.001, kernel=sigmoid, total=   0.2s\n",
      "[CV] C=0.5, degree=6, gamma=0.001, kernel=sigmoid ....................\n"
     ]
    },
    {
     "name": "stderr",
     "output_type": "stream",
     "text": [
      "C:\\Users\\laure\\Anaconda3\\envs\\myenv\\lib\\site-packages\\sklearn\\utils\\validation.py:760: DataConversionWarning: A column-vector y was passed when a 1d array was expected. Please change the shape of y to (n_samples, ), for example using ravel().\n",
      "  y = column_or_1d(y, warn=True)\n"
     ]
    },
    {
     "name": "stdout",
     "output_type": "stream",
     "text": [
      "[CV] ..... C=0.5, degree=6, gamma=0.001, kernel=sigmoid, total=   0.3s\n",
      "[CV] C=0.5, degree=6, gamma=0.001, kernel=sigmoid ....................\n"
     ]
    },
    {
     "name": "stderr",
     "output_type": "stream",
     "text": [
      "C:\\Users\\laure\\Anaconda3\\envs\\myenv\\lib\\site-packages\\sklearn\\utils\\validation.py:760: DataConversionWarning: A column-vector y was passed when a 1d array was expected. Please change the shape of y to (n_samples, ), for example using ravel().\n",
      "  y = column_or_1d(y, warn=True)\n"
     ]
    },
    {
     "name": "stdout",
     "output_type": "stream",
     "text": [
      "[CV] ..... C=0.5, degree=6, gamma=0.001, kernel=sigmoid, total=   0.3s\n",
      "[CV] C=1, degree=2, gamma=1, kernel=linear ...........................\n",
      "[CV] ............ C=1, degree=2, gamma=1, kernel=linear, total=   0.0s\n",
      "[CV] C=1, degree=2, gamma=1, kernel=linear ...........................\n",
      "[CV] ............ C=1, degree=2, gamma=1, kernel=linear, total=   0.0s\n",
      "[CV] C=1, degree=2, gamma=1, kernel=linear ...........................\n",
      "[CV] ............ C=1, degree=2, gamma=1, kernel=linear, total=   0.0s\n",
      "[CV] C=1, degree=2, gamma=1, kernel=linear ...........................\n",
      "[CV] ............ C=1, degree=2, gamma=1, kernel=linear, total=   0.0s\n",
      "[CV] C=1, degree=2, gamma=1, kernel=linear ...........................\n",
      "[CV] ............ C=1, degree=2, gamma=1, kernel=linear, total=   0.0s\n",
      "[CV] C=1, degree=2, gamma=1, kernel=rbf ..............................\n",
      "[CV] ............... C=1, degree=2, gamma=1, kernel=rbf, total=   0.0s\n",
      "[CV] C=1, degree=2, gamma=1, kernel=rbf ..............................\n",
      "[CV] ............... C=1, degree=2, gamma=1, kernel=rbf, total=   0.0s\n",
      "[CV] C=1, degree=2, gamma=1, kernel=rbf ..............................\n",
      "[CV] ............... C=1, degree=2, gamma=1, kernel=rbf, total=   0.0s\n",
      "[CV] C=1, degree=2, gamma=1, kernel=rbf ..............................\n",
      "[CV] ............... C=1, degree=2, gamma=1, kernel=rbf, total=   0.0s\n",
      "[CV] C=1, degree=2, gamma=1, kernel=rbf ..............................\n",
      "[CV] ............... C=1, degree=2, gamma=1, kernel=rbf, total=   0.0s\n",
      "[CV] C=1, degree=2, gamma=1, kernel=poly .............................\n",
      "[CV] .............. C=1, degree=2, gamma=1, kernel=poly, total=   0.0s\n",
      "[CV] C=1, degree=2, gamma=1, kernel=poly .............................\n",
      "[CV] .............. C=1, degree=2, gamma=1, kernel=poly, total=   0.0s\n",
      "[CV] C=1, degree=2, gamma=1, kernel=poly .............................\n"
     ]
    },
    {
     "name": "stderr",
     "output_type": "stream",
     "text": [
      "C:\\Users\\laure\\Anaconda3\\envs\\myenv\\lib\\site-packages\\sklearn\\utils\\validation.py:760: DataConversionWarning: A column-vector y was passed when a 1d array was expected. Please change the shape of y to (n_samples, ), for example using ravel().\n",
      "  y = column_or_1d(y, warn=True)\n",
      "C:\\Users\\laure\\Anaconda3\\envs\\myenv\\lib\\site-packages\\sklearn\\utils\\validation.py:760: DataConversionWarning: A column-vector y was passed when a 1d array was expected. Please change the shape of y to (n_samples, ), for example using ravel().\n",
      "  y = column_or_1d(y, warn=True)\n",
      "C:\\Users\\laure\\Anaconda3\\envs\\myenv\\lib\\site-packages\\sklearn\\utils\\validation.py:760: DataConversionWarning: A column-vector y was passed when a 1d array was expected. Please change the shape of y to (n_samples, ), for example using ravel().\n",
      "  y = column_or_1d(y, warn=True)\n",
      "C:\\Users\\laure\\Anaconda3\\envs\\myenv\\lib\\site-packages\\sklearn\\utils\\validation.py:760: DataConversionWarning: A column-vector y was passed when a 1d array was expected. Please change the shape of y to (n_samples, ), for example using ravel().\n",
      "  y = column_or_1d(y, warn=True)\n",
      "C:\\Users\\laure\\Anaconda3\\envs\\myenv\\lib\\site-packages\\sklearn\\utils\\validation.py:760: DataConversionWarning: A column-vector y was passed when a 1d array was expected. Please change the shape of y to (n_samples, ), for example using ravel().\n",
      "  y = column_or_1d(y, warn=True)\n",
      "C:\\Users\\laure\\Anaconda3\\envs\\myenv\\lib\\site-packages\\sklearn\\utils\\validation.py:760: DataConversionWarning: A column-vector y was passed when a 1d array was expected. Please change the shape of y to (n_samples, ), for example using ravel().\n",
      "  y = column_or_1d(y, warn=True)\n",
      "C:\\Users\\laure\\Anaconda3\\envs\\myenv\\lib\\site-packages\\sklearn\\utils\\validation.py:760: DataConversionWarning: A column-vector y was passed when a 1d array was expected. Please change the shape of y to (n_samples, ), for example using ravel().\n",
      "  y = column_or_1d(y, warn=True)\n",
      "C:\\Users\\laure\\Anaconda3\\envs\\myenv\\lib\\site-packages\\sklearn\\utils\\validation.py:760: DataConversionWarning: A column-vector y was passed when a 1d array was expected. Please change the shape of y to (n_samples, ), for example using ravel().\n",
      "  y = column_or_1d(y, warn=True)\n",
      "C:\\Users\\laure\\Anaconda3\\envs\\myenv\\lib\\site-packages\\sklearn\\utils\\validation.py:760: DataConversionWarning: A column-vector y was passed when a 1d array was expected. Please change the shape of y to (n_samples, ), for example using ravel().\n",
      "  y = column_or_1d(y, warn=True)\n",
      "C:\\Users\\laure\\Anaconda3\\envs\\myenv\\lib\\site-packages\\sklearn\\utils\\validation.py:760: DataConversionWarning: A column-vector y was passed when a 1d array was expected. Please change the shape of y to (n_samples, ), for example using ravel().\n",
      "  y = column_or_1d(y, warn=True)\n",
      "C:\\Users\\laure\\Anaconda3\\envs\\myenv\\lib\\site-packages\\sklearn\\utils\\validation.py:760: DataConversionWarning: A column-vector y was passed when a 1d array was expected. Please change the shape of y to (n_samples, ), for example using ravel().\n",
      "  y = column_or_1d(y, warn=True)\n",
      "C:\\Users\\laure\\Anaconda3\\envs\\myenv\\lib\\site-packages\\sklearn\\utils\\validation.py:760: DataConversionWarning: A column-vector y was passed when a 1d array was expected. Please change the shape of y to (n_samples, ), for example using ravel().\n",
      "  y = column_or_1d(y, warn=True)\n",
      "C:\\Users\\laure\\Anaconda3\\envs\\myenv\\lib\\site-packages\\sklearn\\utils\\validation.py:760: DataConversionWarning: A column-vector y was passed when a 1d array was expected. Please change the shape of y to (n_samples, ), for example using ravel().\n",
      "  y = column_or_1d(y, warn=True)\n"
     ]
    },
    {
     "name": "stdout",
     "output_type": "stream",
     "text": [
      "[CV] .............. C=1, degree=2, gamma=1, kernel=poly, total=   0.0s\n",
      "[CV] C=1, degree=2, gamma=1, kernel=poly .............................\n",
      "[CV] .............. C=1, degree=2, gamma=1, kernel=poly, total=   0.0s\n",
      "[CV] C=1, degree=2, gamma=1, kernel=poly .............................\n",
      "[CV] .............. C=1, degree=2, gamma=1, kernel=poly, total=   0.0s\n",
      "[CV] C=1, degree=2, gamma=1, kernel=sigmoid ..........................\n",
      "[CV] ........... C=1, degree=2, gamma=1, kernel=sigmoid, total=   0.0s\n",
      "[CV] C=1, degree=2, gamma=1, kernel=sigmoid ..........................\n",
      "[CV] ........... C=1, degree=2, gamma=1, kernel=sigmoid, total=   0.0s\n",
      "[CV] C=1, degree=2, gamma=1, kernel=sigmoid ..........................\n",
      "[CV] ........... C=1, degree=2, gamma=1, kernel=sigmoid, total=   0.0s\n",
      "[CV] C=1, degree=2, gamma=1, kernel=sigmoid ..........................\n",
      "[CV] ........... C=1, degree=2, gamma=1, kernel=sigmoid, total=   0.0s\n",
      "[CV] C=1, degree=2, gamma=1, kernel=sigmoid ..........................\n",
      "[CV] ........... C=1, degree=2, gamma=1, kernel=sigmoid, total=   0.0s\n",
      "[CV] C=1, degree=2, gamma=0.1, kernel=linear .........................\n",
      "[CV] .......... C=1, degree=2, gamma=0.1, kernel=linear, total=   0.0s\n",
      "[CV] C=1, degree=2, gamma=0.1, kernel=linear .........................\n",
      "[CV] .......... C=1, degree=2, gamma=0.1, kernel=linear, total=   0.0s\n",
      "[CV] C=1, degree=2, gamma=0.1, kernel=linear .........................\n",
      "[CV] .......... C=1, degree=2, gamma=0.1, kernel=linear, total=   0.0s\n",
      "[CV] C=1, degree=2, gamma=0.1, kernel=linear .........................\n",
      "[CV] .......... C=1, degree=2, gamma=0.1, kernel=linear, total=   0.0s\n",
      "[CV] C=1, degree=2, gamma=0.1, kernel=linear .........................\n",
      "[CV] .......... C=1, degree=2, gamma=0.1, kernel=linear, total=   0.0s\n",
      "[CV] C=1, degree=2, gamma=0.1, kernel=rbf ............................\n",
      "[CV] ............. C=1, degree=2, gamma=0.1, kernel=rbf, total=   0.0s\n",
      "[CV] C=1, degree=2, gamma=0.1, kernel=rbf ............................\n",
      "[CV] ............. C=1, degree=2, gamma=0.1, kernel=rbf, total=   0.0s\n",
      "[CV] C=1, degree=2, gamma=0.1, kernel=rbf ............................\n"
     ]
    },
    {
     "name": "stderr",
     "output_type": "stream",
     "text": [
      "C:\\Users\\laure\\Anaconda3\\envs\\myenv\\lib\\site-packages\\sklearn\\utils\\validation.py:760: DataConversionWarning: A column-vector y was passed when a 1d array was expected. Please change the shape of y to (n_samples, ), for example using ravel().\n",
      "  y = column_or_1d(y, warn=True)\n",
      "C:\\Users\\laure\\Anaconda3\\envs\\myenv\\lib\\site-packages\\sklearn\\utils\\validation.py:760: DataConversionWarning: A column-vector y was passed when a 1d array was expected. Please change the shape of y to (n_samples, ), for example using ravel().\n",
      "  y = column_or_1d(y, warn=True)\n",
      "C:\\Users\\laure\\Anaconda3\\envs\\myenv\\lib\\site-packages\\sklearn\\utils\\validation.py:760: DataConversionWarning: A column-vector y was passed when a 1d array was expected. Please change the shape of y to (n_samples, ), for example using ravel().\n",
      "  y = column_or_1d(y, warn=True)\n",
      "C:\\Users\\laure\\Anaconda3\\envs\\myenv\\lib\\site-packages\\sklearn\\utils\\validation.py:760: DataConversionWarning: A column-vector y was passed when a 1d array was expected. Please change the shape of y to (n_samples, ), for example using ravel().\n",
      "  y = column_or_1d(y, warn=True)\n",
      "C:\\Users\\laure\\Anaconda3\\envs\\myenv\\lib\\site-packages\\sklearn\\utils\\validation.py:760: DataConversionWarning: A column-vector y was passed when a 1d array was expected. Please change the shape of y to (n_samples, ), for example using ravel().\n",
      "  y = column_or_1d(y, warn=True)\n",
      "C:\\Users\\laure\\Anaconda3\\envs\\myenv\\lib\\site-packages\\sklearn\\utils\\validation.py:760: DataConversionWarning: A column-vector y was passed when a 1d array was expected. Please change the shape of y to (n_samples, ), for example using ravel().\n",
      "  y = column_or_1d(y, warn=True)\n",
      "C:\\Users\\laure\\Anaconda3\\envs\\myenv\\lib\\site-packages\\sklearn\\utils\\validation.py:760: DataConversionWarning: A column-vector y was passed when a 1d array was expected. Please change the shape of y to (n_samples, ), for example using ravel().\n",
      "  y = column_or_1d(y, warn=True)\n",
      "C:\\Users\\laure\\Anaconda3\\envs\\myenv\\lib\\site-packages\\sklearn\\utils\\validation.py:760: DataConversionWarning: A column-vector y was passed when a 1d array was expected. Please change the shape of y to (n_samples, ), for example using ravel().\n",
      "  y = column_or_1d(y, warn=True)\n",
      "C:\\Users\\laure\\Anaconda3\\envs\\myenv\\lib\\site-packages\\sklearn\\utils\\validation.py:760: DataConversionWarning: A column-vector y was passed when a 1d array was expected. Please change the shape of y to (n_samples, ), for example using ravel().\n",
      "  y = column_or_1d(y, warn=True)\n",
      "C:\\Users\\laure\\Anaconda3\\envs\\myenv\\lib\\site-packages\\sklearn\\utils\\validation.py:760: DataConversionWarning: A column-vector y was passed when a 1d array was expected. Please change the shape of y to (n_samples, ), for example using ravel().\n",
      "  y = column_or_1d(y, warn=True)\n",
      "C:\\Users\\laure\\Anaconda3\\envs\\myenv\\lib\\site-packages\\sklearn\\utils\\validation.py:760: DataConversionWarning: A column-vector y was passed when a 1d array was expected. Please change the shape of y to (n_samples, ), for example using ravel().\n",
      "  y = column_or_1d(y, warn=True)\n",
      "C:\\Users\\laure\\Anaconda3\\envs\\myenv\\lib\\site-packages\\sklearn\\utils\\validation.py:760: DataConversionWarning: A column-vector y was passed when a 1d array was expected. Please change the shape of y to (n_samples, ), for example using ravel().\n",
      "  y = column_or_1d(y, warn=True)\n",
      "C:\\Users\\laure\\Anaconda3\\envs\\myenv\\lib\\site-packages\\sklearn\\utils\\validation.py:760: DataConversionWarning: A column-vector y was passed when a 1d array was expected. Please change the shape of y to (n_samples, ), for example using ravel().\n",
      "  y = column_or_1d(y, warn=True)\n",
      "C:\\Users\\laure\\Anaconda3\\envs\\myenv\\lib\\site-packages\\sklearn\\utils\\validation.py:760: DataConversionWarning: A column-vector y was passed when a 1d array was expected. Please change the shape of y to (n_samples, ), for example using ravel().\n",
      "  y = column_or_1d(y, warn=True)\n",
      "C:\\Users\\laure\\Anaconda3\\envs\\myenv\\lib\\site-packages\\sklearn\\utils\\validation.py:760: DataConversionWarning: A column-vector y was passed when a 1d array was expected. Please change the shape of y to (n_samples, ), for example using ravel().\n",
      "  y = column_or_1d(y, warn=True)\n",
      "C:\\Users\\laure\\Anaconda3\\envs\\myenv\\lib\\site-packages\\sklearn\\utils\\validation.py:760: DataConversionWarning: A column-vector y was passed when a 1d array was expected. Please change the shape of y to (n_samples, ), for example using ravel().\n",
      "  y = column_or_1d(y, warn=True)\n",
      "C:\\Users\\laure\\Anaconda3\\envs\\myenv\\lib\\site-packages\\sklearn\\utils\\validation.py:760: DataConversionWarning: A column-vector y was passed when a 1d array was expected. Please change the shape of y to (n_samples, ), for example using ravel().\n",
      "  y = column_or_1d(y, warn=True)\n",
      "C:\\Users\\laure\\Anaconda3\\envs\\myenv\\lib\\site-packages\\sklearn\\utils\\validation.py:760: DataConversionWarning: A column-vector y was passed when a 1d array was expected. Please change the shape of y to (n_samples, ), for example using ravel().\n",
      "  y = column_or_1d(y, warn=True)\n"
     ]
    },
    {
     "name": "stdout",
     "output_type": "stream",
     "text": [
      "[CV] ............. C=1, degree=2, gamma=0.1, kernel=rbf, total=   0.0s\n",
      "[CV] C=1, degree=2, gamma=0.1, kernel=rbf ............................\n",
      "[CV] ............. C=1, degree=2, gamma=0.1, kernel=rbf, total=   0.0s\n",
      "[CV] C=1, degree=2, gamma=0.1, kernel=rbf ............................\n",
      "[CV] ............. C=1, degree=2, gamma=0.1, kernel=rbf, total=   0.0s\n",
      "[CV] C=1, degree=2, gamma=0.1, kernel=poly ...........................\n",
      "[CV] ............ C=1, degree=2, gamma=0.1, kernel=poly, total=   0.2s\n",
      "[CV] C=1, degree=2, gamma=0.1, kernel=poly ...........................\n",
      "[CV] ............ C=1, degree=2, gamma=0.1, kernel=poly, total=   0.1s\n",
      "[CV] C=1, degree=2, gamma=0.1, kernel=poly ...........................\n"
     ]
    },
    {
     "name": "stderr",
     "output_type": "stream",
     "text": [
      "C:\\Users\\laure\\Anaconda3\\envs\\myenv\\lib\\site-packages\\sklearn\\utils\\validation.py:760: DataConversionWarning: A column-vector y was passed when a 1d array was expected. Please change the shape of y to (n_samples, ), for example using ravel().\n",
      "  y = column_or_1d(y, warn=True)\n",
      "C:\\Users\\laure\\Anaconda3\\envs\\myenv\\lib\\site-packages\\sklearn\\utils\\validation.py:760: DataConversionWarning: A column-vector y was passed when a 1d array was expected. Please change the shape of y to (n_samples, ), for example using ravel().\n",
      "  y = column_or_1d(y, warn=True)\n"
     ]
    },
    {
     "name": "stdout",
     "output_type": "stream",
     "text": [
      "[CV] ............ C=1, degree=2, gamma=0.1, kernel=poly, total=   0.2s\n",
      "[CV] C=1, degree=2, gamma=0.1, kernel=poly ...........................\n",
      "[CV] ............ C=1, degree=2, gamma=0.1, kernel=poly, total=   0.2s\n",
      "[CV] C=1, degree=2, gamma=0.1, kernel=poly ...........................\n"
     ]
    },
    {
     "name": "stderr",
     "output_type": "stream",
     "text": [
      "C:\\Users\\laure\\Anaconda3\\envs\\myenv\\lib\\site-packages\\sklearn\\utils\\validation.py:760: DataConversionWarning: A column-vector y was passed when a 1d array was expected. Please change the shape of y to (n_samples, ), for example using ravel().\n",
      "  y = column_or_1d(y, warn=True)\n",
      "C:\\Users\\laure\\Anaconda3\\envs\\myenv\\lib\\site-packages\\sklearn\\utils\\validation.py:760: DataConversionWarning: A column-vector y was passed when a 1d array was expected. Please change the shape of y to (n_samples, ), for example using ravel().\n",
      "  y = column_or_1d(y, warn=True)\n"
     ]
    },
    {
     "name": "stdout",
     "output_type": "stream",
     "text": [
      "[CV] ............ C=1, degree=2, gamma=0.1, kernel=poly, total=   0.2s\n",
      "[CV] C=1, degree=2, gamma=0.1, kernel=sigmoid ........................\n",
      "[CV] ......... C=1, degree=2, gamma=0.1, kernel=sigmoid, total=   0.0s\n",
      "[CV] C=1, degree=2, gamma=0.1, kernel=sigmoid ........................\n",
      "[CV] ......... C=1, degree=2, gamma=0.1, kernel=sigmoid, total=   0.0s\n",
      "[CV] C=1, degree=2, gamma=0.1, kernel=sigmoid ........................\n",
      "[CV] ......... C=1, degree=2, gamma=0.1, kernel=sigmoid, total=   0.0s\n",
      "[CV] C=1, degree=2, gamma=0.1, kernel=sigmoid ........................\n",
      "[CV] ......... C=1, degree=2, gamma=0.1, kernel=sigmoid, total=   0.0s\n",
      "[CV] C=1, degree=2, gamma=0.1, kernel=sigmoid ........................\n",
      "[CV] ......... C=1, degree=2, gamma=0.1, kernel=sigmoid, total=   0.0s\n",
      "[CV] C=1, degree=2, gamma=0.01, kernel=linear ........................\n",
      "[CV] ......... C=1, degree=2, gamma=0.01, kernel=linear, total=   0.0s\n",
      "[CV] C=1, degree=2, gamma=0.01, kernel=linear ........................\n"
     ]
    },
    {
     "name": "stderr",
     "output_type": "stream",
     "text": [
      "C:\\Users\\laure\\Anaconda3\\envs\\myenv\\lib\\site-packages\\sklearn\\utils\\validation.py:760: DataConversionWarning: A column-vector y was passed when a 1d array was expected. Please change the shape of y to (n_samples, ), for example using ravel().\n",
      "  y = column_or_1d(y, warn=True)\n",
      "C:\\Users\\laure\\Anaconda3\\envs\\myenv\\lib\\site-packages\\sklearn\\utils\\validation.py:760: DataConversionWarning: A column-vector y was passed when a 1d array was expected. Please change the shape of y to (n_samples, ), for example using ravel().\n",
      "  y = column_or_1d(y, warn=True)\n",
      "C:\\Users\\laure\\Anaconda3\\envs\\myenv\\lib\\site-packages\\sklearn\\utils\\validation.py:760: DataConversionWarning: A column-vector y was passed when a 1d array was expected. Please change the shape of y to (n_samples, ), for example using ravel().\n",
      "  y = column_or_1d(y, warn=True)\n",
      "C:\\Users\\laure\\Anaconda3\\envs\\myenv\\lib\\site-packages\\sklearn\\utils\\validation.py:760: DataConversionWarning: A column-vector y was passed when a 1d array was expected. Please change the shape of y to (n_samples, ), for example using ravel().\n",
      "  y = column_or_1d(y, warn=True)\n",
      "C:\\Users\\laure\\Anaconda3\\envs\\myenv\\lib\\site-packages\\sklearn\\utils\\validation.py:760: DataConversionWarning: A column-vector y was passed when a 1d array was expected. Please change the shape of y to (n_samples, ), for example using ravel().\n",
      "  y = column_or_1d(y, warn=True)\n",
      "C:\\Users\\laure\\Anaconda3\\envs\\myenv\\lib\\site-packages\\sklearn\\utils\\validation.py:760: DataConversionWarning: A column-vector y was passed when a 1d array was expected. Please change the shape of y to (n_samples, ), for example using ravel().\n",
      "  y = column_or_1d(y, warn=True)\n",
      "C:\\Users\\laure\\Anaconda3\\envs\\myenv\\lib\\site-packages\\sklearn\\utils\\validation.py:760: DataConversionWarning: A column-vector y was passed when a 1d array was expected. Please change the shape of y to (n_samples, ), for example using ravel().\n",
      "  y = column_or_1d(y, warn=True)\n",
      "C:\\Users\\laure\\Anaconda3\\envs\\myenv\\lib\\site-packages\\sklearn\\utils\\validation.py:760: DataConversionWarning: A column-vector y was passed when a 1d array was expected. Please change the shape of y to (n_samples, ), for example using ravel().\n",
      "  y = column_or_1d(y, warn=True)\n",
      "C:\\Users\\laure\\Anaconda3\\envs\\myenv\\lib\\site-packages\\sklearn\\utils\\validation.py:760: DataConversionWarning: A column-vector y was passed when a 1d array was expected. Please change the shape of y to (n_samples, ), for example using ravel().\n",
      "  y = column_or_1d(y, warn=True)\n",
      "C:\\Users\\laure\\Anaconda3\\envs\\myenv\\lib\\site-packages\\sklearn\\utils\\validation.py:760: DataConversionWarning: A column-vector y was passed when a 1d array was expected. Please change the shape of y to (n_samples, ), for example using ravel().\n",
      "  y = column_or_1d(y, warn=True)\n",
      "C:\\Users\\laure\\Anaconda3\\envs\\myenv\\lib\\site-packages\\sklearn\\utils\\validation.py:760: DataConversionWarning: A column-vector y was passed when a 1d array was expected. Please change the shape of y to (n_samples, ), for example using ravel().\n",
      "  y = column_or_1d(y, warn=True)\n",
      "C:\\Users\\laure\\Anaconda3\\envs\\myenv\\lib\\site-packages\\sklearn\\utils\\validation.py:760: DataConversionWarning: A column-vector y was passed when a 1d array was expected. Please change the shape of y to (n_samples, ), for example using ravel().\n",
      "  y = column_or_1d(y, warn=True)\n"
     ]
    },
    {
     "name": "stdout",
     "output_type": "stream",
     "text": [
      "[CV] ......... C=1, degree=2, gamma=0.01, kernel=linear, total=   0.0s\n",
      "[CV] C=1, degree=2, gamma=0.01, kernel=linear ........................\n",
      "[CV] ......... C=1, degree=2, gamma=0.01, kernel=linear, total=   0.0s\n",
      "[CV] C=1, degree=2, gamma=0.01, kernel=linear ........................\n",
      "[CV] ......... C=1, degree=2, gamma=0.01, kernel=linear, total=   0.0s\n",
      "[CV] C=1, degree=2, gamma=0.01, kernel=linear ........................\n",
      "[CV] ......... C=1, degree=2, gamma=0.01, kernel=linear, total=   0.0s\n",
      "[CV] C=1, degree=2, gamma=0.01, kernel=rbf ...........................\n",
      "[CV] ............ C=1, degree=2, gamma=0.01, kernel=rbf, total=   0.1s\n",
      "[CV] C=1, degree=2, gamma=0.01, kernel=rbf ...........................\n",
      "[CV] ............ C=1, degree=2, gamma=0.01, kernel=rbf, total=   0.1s\n",
      "[CV] C=1, degree=2, gamma=0.01, kernel=rbf ...........................\n"
     ]
    },
    {
     "name": "stderr",
     "output_type": "stream",
     "text": [
      "C:\\Users\\laure\\Anaconda3\\envs\\myenv\\lib\\site-packages\\sklearn\\utils\\validation.py:760: DataConversionWarning: A column-vector y was passed when a 1d array was expected. Please change the shape of y to (n_samples, ), for example using ravel().\n",
      "  y = column_or_1d(y, warn=True)\n",
      "C:\\Users\\laure\\Anaconda3\\envs\\myenv\\lib\\site-packages\\sklearn\\utils\\validation.py:760: DataConversionWarning: A column-vector y was passed when a 1d array was expected. Please change the shape of y to (n_samples, ), for example using ravel().\n",
      "  y = column_or_1d(y, warn=True)\n",
      "C:\\Users\\laure\\Anaconda3\\envs\\myenv\\lib\\site-packages\\sklearn\\utils\\validation.py:760: DataConversionWarning: A column-vector y was passed when a 1d array was expected. Please change the shape of y to (n_samples, ), for example using ravel().\n",
      "  y = column_or_1d(y, warn=True)\n"
     ]
    },
    {
     "name": "stdout",
     "output_type": "stream",
     "text": [
      "[CV] ............ C=1, degree=2, gamma=0.01, kernel=rbf, total=   0.1s\n",
      "[CV] C=1, degree=2, gamma=0.01, kernel=rbf ...........................\n",
      "[CV] ............ C=1, degree=2, gamma=0.01, kernel=rbf, total=   0.1s\n",
      "[CV] C=1, degree=2, gamma=0.01, kernel=rbf ...........................\n",
      "[CV] ............ C=1, degree=2, gamma=0.01, kernel=rbf, total=   0.1s\n",
      "[CV] C=1, degree=2, gamma=0.01, kernel=poly ..........................\n"
     ]
    },
    {
     "name": "stderr",
     "output_type": "stream",
     "text": [
      "C:\\Users\\laure\\Anaconda3\\envs\\myenv\\lib\\site-packages\\sklearn\\utils\\validation.py:760: DataConversionWarning: A column-vector y was passed when a 1d array was expected. Please change the shape of y to (n_samples, ), for example using ravel().\n",
      "  y = column_or_1d(y, warn=True)\n",
      "C:\\Users\\laure\\Anaconda3\\envs\\myenv\\lib\\site-packages\\sklearn\\utils\\validation.py:760: DataConversionWarning: A column-vector y was passed when a 1d array was expected. Please change the shape of y to (n_samples, ), for example using ravel().\n",
      "  y = column_or_1d(y, warn=True)\n"
     ]
    },
    {
     "name": "stdout",
     "output_type": "stream",
     "text": [
      "[CV] ........... C=1, degree=2, gamma=0.01, kernel=poly, total=   0.1s\n",
      "[CV] C=1, degree=2, gamma=0.01, kernel=poly ..........................\n",
      "[CV] ........... C=1, degree=2, gamma=0.01, kernel=poly, total=   0.2s\n",
      "[CV] C=1, degree=2, gamma=0.01, kernel=poly ..........................\n"
     ]
    },
    {
     "name": "stderr",
     "output_type": "stream",
     "text": [
      "C:\\Users\\laure\\Anaconda3\\envs\\myenv\\lib\\site-packages\\sklearn\\utils\\validation.py:760: DataConversionWarning: A column-vector y was passed when a 1d array was expected. Please change the shape of y to (n_samples, ), for example using ravel().\n",
      "  y = column_or_1d(y, warn=True)\n",
      "C:\\Users\\laure\\Anaconda3\\envs\\myenv\\lib\\site-packages\\sklearn\\utils\\validation.py:760: DataConversionWarning: A column-vector y was passed when a 1d array was expected. Please change the shape of y to (n_samples, ), for example using ravel().\n",
      "  y = column_or_1d(y, warn=True)\n"
     ]
    },
    {
     "name": "stdout",
     "output_type": "stream",
     "text": [
      "[CV] ........... C=1, degree=2, gamma=0.01, kernel=poly, total=   0.2s\n",
      "[CV] C=1, degree=2, gamma=0.01, kernel=poly ..........................\n",
      "[CV] ........... C=1, degree=2, gamma=0.01, kernel=poly, total=   0.2s\n",
      "[CV] C=1, degree=2, gamma=0.01, kernel=poly ..........................\n"
     ]
    },
    {
     "name": "stderr",
     "output_type": "stream",
     "text": [
      "C:\\Users\\laure\\Anaconda3\\envs\\myenv\\lib\\site-packages\\sklearn\\utils\\validation.py:760: DataConversionWarning: A column-vector y was passed when a 1d array was expected. Please change the shape of y to (n_samples, ), for example using ravel().\n",
      "  y = column_or_1d(y, warn=True)\n",
      "C:\\Users\\laure\\Anaconda3\\envs\\myenv\\lib\\site-packages\\sklearn\\utils\\validation.py:760: DataConversionWarning: A column-vector y was passed when a 1d array was expected. Please change the shape of y to (n_samples, ), for example using ravel().\n",
      "  y = column_or_1d(y, warn=True)\n"
     ]
    },
    {
     "name": "stdout",
     "output_type": "stream",
     "text": [
      "[CV] ........... C=1, degree=2, gamma=0.01, kernel=poly, total=   0.2s\n",
      "[CV] C=1, degree=2, gamma=0.01, kernel=sigmoid .......................\n",
      "[CV] ........ C=1, degree=2, gamma=0.01, kernel=sigmoid, total=   0.1s\n",
      "[CV] C=1, degree=2, gamma=0.01, kernel=sigmoid .......................\n"
     ]
    },
    {
     "name": "stderr",
     "output_type": "stream",
     "text": [
      "C:\\Users\\laure\\Anaconda3\\envs\\myenv\\lib\\site-packages\\sklearn\\utils\\validation.py:760: DataConversionWarning: A column-vector y was passed when a 1d array was expected. Please change the shape of y to (n_samples, ), for example using ravel().\n",
      "  y = column_or_1d(y, warn=True)\n",
      "C:\\Users\\laure\\Anaconda3\\envs\\myenv\\lib\\site-packages\\sklearn\\utils\\validation.py:760: DataConversionWarning: A column-vector y was passed when a 1d array was expected. Please change the shape of y to (n_samples, ), for example using ravel().\n",
      "  y = column_or_1d(y, warn=True)\n"
     ]
    },
    {
     "name": "stdout",
     "output_type": "stream",
     "text": [
      "[CV] ........ C=1, degree=2, gamma=0.01, kernel=sigmoid, total=   0.1s\n",
      "[CV] C=1, degree=2, gamma=0.01, kernel=sigmoid .......................\n",
      "[CV] ........ C=1, degree=2, gamma=0.01, kernel=sigmoid, total=   0.1s\n",
      "[CV] C=1, degree=2, gamma=0.01, kernel=sigmoid .......................\n"
     ]
    },
    {
     "name": "stderr",
     "output_type": "stream",
     "text": [
      "C:\\Users\\laure\\Anaconda3\\envs\\myenv\\lib\\site-packages\\sklearn\\utils\\validation.py:760: DataConversionWarning: A column-vector y was passed when a 1d array was expected. Please change the shape of y to (n_samples, ), for example using ravel().\n",
      "  y = column_or_1d(y, warn=True)\n",
      "C:\\Users\\laure\\Anaconda3\\envs\\myenv\\lib\\site-packages\\sklearn\\utils\\validation.py:760: DataConversionWarning: A column-vector y was passed when a 1d array was expected. Please change the shape of y to (n_samples, ), for example using ravel().\n",
      "  y = column_or_1d(y, warn=True)\n"
     ]
    },
    {
     "name": "stdout",
     "output_type": "stream",
     "text": [
      "[CV] ........ C=1, degree=2, gamma=0.01, kernel=sigmoid, total=   0.1s\n",
      "[CV] C=1, degree=2, gamma=0.01, kernel=sigmoid .......................\n",
      "[CV] ........ C=1, degree=2, gamma=0.01, kernel=sigmoid, total=   0.1s\n",
      "[CV] C=1, degree=2, gamma=0.001, kernel=linear .......................\n",
      "[CV] ........ C=1, degree=2, gamma=0.001, kernel=linear, total=   0.0s\n",
      "[CV] C=1, degree=2, gamma=0.001, kernel=linear .......................\n",
      "[CV] ........ C=1, degree=2, gamma=0.001, kernel=linear, total=   0.0s\n",
      "[CV] C=1, degree=2, gamma=0.001, kernel=linear .......................\n",
      "[CV] ........ C=1, degree=2, gamma=0.001, kernel=linear, total=   0.0s\n",
      "[CV] C=1, degree=2, gamma=0.001, kernel=linear .......................\n",
      "[CV] ........ C=1, degree=2, gamma=0.001, kernel=linear, total=   0.0s\n",
      "[CV] C=1, degree=2, gamma=0.001, kernel=linear .......................\n",
      "[CV] ........ C=1, degree=2, gamma=0.001, kernel=linear, total=   0.0s\n",
      "[CV] C=1, degree=2, gamma=0.001, kernel=rbf ..........................\n"
     ]
    },
    {
     "name": "stderr",
     "output_type": "stream",
     "text": [
      "C:\\Users\\laure\\Anaconda3\\envs\\myenv\\lib\\site-packages\\sklearn\\utils\\validation.py:760: DataConversionWarning: A column-vector y was passed when a 1d array was expected. Please change the shape of y to (n_samples, ), for example using ravel().\n",
      "  y = column_or_1d(y, warn=True)\n",
      "C:\\Users\\laure\\Anaconda3\\envs\\myenv\\lib\\site-packages\\sklearn\\utils\\validation.py:760: DataConversionWarning: A column-vector y was passed when a 1d array was expected. Please change the shape of y to (n_samples, ), for example using ravel().\n",
      "  y = column_or_1d(y, warn=True)\n",
      "C:\\Users\\laure\\Anaconda3\\envs\\myenv\\lib\\site-packages\\sklearn\\utils\\validation.py:760: DataConversionWarning: A column-vector y was passed when a 1d array was expected. Please change the shape of y to (n_samples, ), for example using ravel().\n",
      "  y = column_or_1d(y, warn=True)\n",
      "C:\\Users\\laure\\Anaconda3\\envs\\myenv\\lib\\site-packages\\sklearn\\utils\\validation.py:760: DataConversionWarning: A column-vector y was passed when a 1d array was expected. Please change the shape of y to (n_samples, ), for example using ravel().\n",
      "  y = column_or_1d(y, warn=True)\n",
      "C:\\Users\\laure\\Anaconda3\\envs\\myenv\\lib\\site-packages\\sklearn\\utils\\validation.py:760: DataConversionWarning: A column-vector y was passed when a 1d array was expected. Please change the shape of y to (n_samples, ), for example using ravel().\n",
      "  y = column_or_1d(y, warn=True)\n",
      "C:\\Users\\laure\\Anaconda3\\envs\\myenv\\lib\\site-packages\\sklearn\\utils\\validation.py:760: DataConversionWarning: A column-vector y was passed when a 1d array was expected. Please change the shape of y to (n_samples, ), for example using ravel().\n",
      "  y = column_or_1d(y, warn=True)\n"
     ]
    },
    {
     "name": "stdout",
     "output_type": "stream",
     "text": [
      "[CV] ........... C=1, degree=2, gamma=0.001, kernel=rbf, total=   0.3s\n",
      "[CV] C=1, degree=2, gamma=0.001, kernel=rbf ..........................\n"
     ]
    },
    {
     "name": "stderr",
     "output_type": "stream",
     "text": [
      "C:\\Users\\laure\\Anaconda3\\envs\\myenv\\lib\\site-packages\\sklearn\\utils\\validation.py:760: DataConversionWarning: A column-vector y was passed when a 1d array was expected. Please change the shape of y to (n_samples, ), for example using ravel().\n",
      "  y = column_or_1d(y, warn=True)\n"
     ]
    },
    {
     "name": "stdout",
     "output_type": "stream",
     "text": [
      "[CV] ........... C=1, degree=2, gamma=0.001, kernel=rbf, total=   0.3s\n",
      "[CV] C=1, degree=2, gamma=0.001, kernel=rbf ..........................\n"
     ]
    },
    {
     "name": "stderr",
     "output_type": "stream",
     "text": [
      "C:\\Users\\laure\\Anaconda3\\envs\\myenv\\lib\\site-packages\\sklearn\\utils\\validation.py:760: DataConversionWarning: A column-vector y was passed when a 1d array was expected. Please change the shape of y to (n_samples, ), for example using ravel().\n",
      "  y = column_or_1d(y, warn=True)\n"
     ]
    },
    {
     "name": "stdout",
     "output_type": "stream",
     "text": [
      "[CV] ........... C=1, degree=2, gamma=0.001, kernel=rbf, total=   0.2s\n",
      "[CV] C=1, degree=2, gamma=0.001, kernel=rbf ..........................\n"
     ]
    },
    {
     "name": "stderr",
     "output_type": "stream",
     "text": [
      "C:\\Users\\laure\\Anaconda3\\envs\\myenv\\lib\\site-packages\\sklearn\\utils\\validation.py:760: DataConversionWarning: A column-vector y was passed when a 1d array was expected. Please change the shape of y to (n_samples, ), for example using ravel().\n",
      "  y = column_or_1d(y, warn=True)\n"
     ]
    },
    {
     "name": "stdout",
     "output_type": "stream",
     "text": [
      "[CV] ........... C=1, degree=2, gamma=0.001, kernel=rbf, total=   0.2s\n",
      "[CV] C=1, degree=2, gamma=0.001, kernel=rbf ..........................\n"
     ]
    },
    {
     "name": "stderr",
     "output_type": "stream",
     "text": [
      "C:\\Users\\laure\\Anaconda3\\envs\\myenv\\lib\\site-packages\\sklearn\\utils\\validation.py:760: DataConversionWarning: A column-vector y was passed when a 1d array was expected. Please change the shape of y to (n_samples, ), for example using ravel().\n",
      "  y = column_or_1d(y, warn=True)\n"
     ]
    },
    {
     "name": "stdout",
     "output_type": "stream",
     "text": [
      "[CV] ........... C=1, degree=2, gamma=0.001, kernel=rbf, total=   0.3s\n",
      "[CV] C=1, degree=2, gamma=0.001, kernel=poly .........................\n",
      "[CV] .......... C=1, degree=2, gamma=0.001, kernel=poly, total=   0.2s\n",
      "[CV] C=1, degree=2, gamma=0.001, kernel=poly .........................\n"
     ]
    },
    {
     "name": "stderr",
     "output_type": "stream",
     "text": [
      "C:\\Users\\laure\\Anaconda3\\envs\\myenv\\lib\\site-packages\\sklearn\\utils\\validation.py:760: DataConversionWarning: A column-vector y was passed when a 1d array was expected. Please change the shape of y to (n_samples, ), for example using ravel().\n",
      "  y = column_or_1d(y, warn=True)\n",
      "C:\\Users\\laure\\Anaconda3\\envs\\myenv\\lib\\site-packages\\sklearn\\utils\\validation.py:760: DataConversionWarning: A column-vector y was passed when a 1d array was expected. Please change the shape of y to (n_samples, ), for example using ravel().\n",
      "  y = column_or_1d(y, warn=True)\n"
     ]
    },
    {
     "name": "stdout",
     "output_type": "stream",
     "text": [
      "[CV] .......... C=1, degree=2, gamma=0.001, kernel=poly, total=   0.1s\n",
      "[CV] C=1, degree=2, gamma=0.001, kernel=poly .........................\n",
      "[CV] .......... C=1, degree=2, gamma=0.001, kernel=poly, total=   0.2s\n",
      "[CV] C=1, degree=2, gamma=0.001, kernel=poly .........................\n"
     ]
    },
    {
     "name": "stderr",
     "output_type": "stream",
     "text": [
      "C:\\Users\\laure\\Anaconda3\\envs\\myenv\\lib\\site-packages\\sklearn\\utils\\validation.py:760: DataConversionWarning: A column-vector y was passed when a 1d array was expected. Please change the shape of y to (n_samples, ), for example using ravel().\n",
      "  y = column_or_1d(y, warn=True)\n",
      "C:\\Users\\laure\\Anaconda3\\envs\\myenv\\lib\\site-packages\\sklearn\\utils\\validation.py:760: DataConversionWarning: A column-vector y was passed when a 1d array was expected. Please change the shape of y to (n_samples, ), for example using ravel().\n",
      "  y = column_or_1d(y, warn=True)\n"
     ]
    },
    {
     "name": "stdout",
     "output_type": "stream",
     "text": [
      "[CV] .......... C=1, degree=2, gamma=0.001, kernel=poly, total=   0.2s\n",
      "[CV] C=1, degree=2, gamma=0.001, kernel=poly .........................\n",
      "[CV] .......... C=1, degree=2, gamma=0.001, kernel=poly, total=   0.2s\n",
      "[CV] C=1, degree=2, gamma=0.001, kernel=sigmoid ......................\n"
     ]
    },
    {
     "name": "stderr",
     "output_type": "stream",
     "text": [
      "C:\\Users\\laure\\Anaconda3\\envs\\myenv\\lib\\site-packages\\sklearn\\utils\\validation.py:760: DataConversionWarning: A column-vector y was passed when a 1d array was expected. Please change the shape of y to (n_samples, ), for example using ravel().\n",
      "  y = column_or_1d(y, warn=True)\n",
      "C:\\Users\\laure\\Anaconda3\\envs\\myenv\\lib\\site-packages\\sklearn\\utils\\validation.py:760: DataConversionWarning: A column-vector y was passed when a 1d array was expected. Please change the shape of y to (n_samples, ), for example using ravel().\n",
      "  y = column_or_1d(y, warn=True)\n"
     ]
    },
    {
     "name": "stdout",
     "output_type": "stream",
     "text": [
      "[CV] ....... C=1, degree=2, gamma=0.001, kernel=sigmoid, total=   0.2s\n",
      "[CV] C=1, degree=2, gamma=0.001, kernel=sigmoid ......................\n"
     ]
    },
    {
     "name": "stderr",
     "output_type": "stream",
     "text": [
      "C:\\Users\\laure\\Anaconda3\\envs\\myenv\\lib\\site-packages\\sklearn\\utils\\validation.py:760: DataConversionWarning: A column-vector y was passed when a 1d array was expected. Please change the shape of y to (n_samples, ), for example using ravel().\n",
      "  y = column_or_1d(y, warn=True)\n"
     ]
    },
    {
     "name": "stdout",
     "output_type": "stream",
     "text": [
      "[CV] ....... C=1, degree=2, gamma=0.001, kernel=sigmoid, total=   0.3s\n",
      "[CV] C=1, degree=2, gamma=0.001, kernel=sigmoid ......................\n"
     ]
    },
    {
     "name": "stderr",
     "output_type": "stream",
     "text": [
      "C:\\Users\\laure\\Anaconda3\\envs\\myenv\\lib\\site-packages\\sklearn\\utils\\validation.py:760: DataConversionWarning: A column-vector y was passed when a 1d array was expected. Please change the shape of y to (n_samples, ), for example using ravel().\n",
      "  y = column_or_1d(y, warn=True)\n"
     ]
    },
    {
     "name": "stdout",
     "output_type": "stream",
     "text": [
      "[CV] ....... C=1, degree=2, gamma=0.001, kernel=sigmoid, total=   0.3s\n",
      "[CV] C=1, degree=2, gamma=0.001, kernel=sigmoid ......................\n"
     ]
    },
    {
     "name": "stderr",
     "output_type": "stream",
     "text": [
      "C:\\Users\\laure\\Anaconda3\\envs\\myenv\\lib\\site-packages\\sklearn\\utils\\validation.py:760: DataConversionWarning: A column-vector y was passed when a 1d array was expected. Please change the shape of y to (n_samples, ), for example using ravel().\n",
      "  y = column_or_1d(y, warn=True)\n"
     ]
    },
    {
     "name": "stdout",
     "output_type": "stream",
     "text": [
      "[CV] ....... C=1, degree=2, gamma=0.001, kernel=sigmoid, total=   0.3s\n",
      "[CV] C=1, degree=2, gamma=0.001, kernel=sigmoid ......................\n"
     ]
    },
    {
     "name": "stderr",
     "output_type": "stream",
     "text": [
      "C:\\Users\\laure\\Anaconda3\\envs\\myenv\\lib\\site-packages\\sklearn\\utils\\validation.py:760: DataConversionWarning: A column-vector y was passed when a 1d array was expected. Please change the shape of y to (n_samples, ), for example using ravel().\n",
      "  y = column_or_1d(y, warn=True)\n"
     ]
    },
    {
     "name": "stdout",
     "output_type": "stream",
     "text": [
      "[CV] ....... C=1, degree=2, gamma=0.001, kernel=sigmoid, total=   0.3s\n",
      "[CV] C=1, degree=3, gamma=1, kernel=linear ...........................\n",
      "[CV] ............ C=1, degree=3, gamma=1, kernel=linear, total=   0.0s\n",
      "[CV] C=1, degree=3, gamma=1, kernel=linear ...........................\n",
      "[CV] ............ C=1, degree=3, gamma=1, kernel=linear, total=   0.0s\n",
      "[CV] C=1, degree=3, gamma=1, kernel=linear ...........................\n",
      "[CV] ............ C=1, degree=3, gamma=1, kernel=linear, total=   0.0s\n",
      "[CV] C=1, degree=3, gamma=1, kernel=linear ...........................\n",
      "[CV] ............ C=1, degree=3, gamma=1, kernel=linear, total=   0.0s\n",
      "[CV] C=1, degree=3, gamma=1, kernel=linear ...........................\n",
      "[CV] ............ C=1, degree=3, gamma=1, kernel=linear, total=   0.0s\n",
      "[CV] C=1, degree=3, gamma=1, kernel=rbf ..............................\n",
      "[CV] ............... C=1, degree=3, gamma=1, kernel=rbf, total=   0.0s\n",
      "[CV] C=1, degree=3, gamma=1, kernel=rbf ..............................\n",
      "[CV] ............... C=1, degree=3, gamma=1, kernel=rbf, total=   0.0s\n",
      "[CV] C=1, degree=3, gamma=1, kernel=rbf ..............................\n",
      "[CV] ............... C=1, degree=3, gamma=1, kernel=rbf, total=   0.0s\n",
      "[CV] C=1, degree=3, gamma=1, kernel=rbf ..............................\n",
      "[CV] ............... C=1, degree=3, gamma=1, kernel=rbf, total=   0.0s\n",
      "[CV] C=1, degree=3, gamma=1, kernel=rbf ..............................\n",
      "[CV] ............... C=1, degree=3, gamma=1, kernel=rbf, total=   0.0s\n",
      "[CV] C=1, degree=3, gamma=1, kernel=poly .............................\n",
      "[CV] .............. C=1, degree=3, gamma=1, kernel=poly, total=   0.0s\n",
      "[CV] C=1, degree=3, gamma=1, kernel=poly .............................\n",
      "[CV] .............. C=1, degree=3, gamma=1, kernel=poly, total=   0.0s\n",
      "[CV] C=1, degree=3, gamma=1, kernel=poly .............................\n",
      "[CV] .............. C=1, degree=3, gamma=1, kernel=poly, total=   0.0s\n",
      "[CV] C=1, degree=3, gamma=1, kernel=poly .............................\n",
      "[CV] .............. C=1, degree=3, gamma=1, kernel=poly, total=   0.0s\n",
      "[CV] C=1, degree=3, gamma=1, kernel=poly .............................\n"
     ]
    },
    {
     "name": "stderr",
     "output_type": "stream",
     "text": [
      "C:\\Users\\laure\\Anaconda3\\envs\\myenv\\lib\\site-packages\\sklearn\\utils\\validation.py:760: DataConversionWarning: A column-vector y was passed when a 1d array was expected. Please change the shape of y to (n_samples, ), for example using ravel().\n",
      "  y = column_or_1d(y, warn=True)\n",
      "C:\\Users\\laure\\Anaconda3\\envs\\myenv\\lib\\site-packages\\sklearn\\utils\\validation.py:760: DataConversionWarning: A column-vector y was passed when a 1d array was expected. Please change the shape of y to (n_samples, ), for example using ravel().\n",
      "  y = column_or_1d(y, warn=True)\n",
      "C:\\Users\\laure\\Anaconda3\\envs\\myenv\\lib\\site-packages\\sklearn\\utils\\validation.py:760: DataConversionWarning: A column-vector y was passed when a 1d array was expected. Please change the shape of y to (n_samples, ), for example using ravel().\n",
      "  y = column_or_1d(y, warn=True)\n",
      "C:\\Users\\laure\\Anaconda3\\envs\\myenv\\lib\\site-packages\\sklearn\\utils\\validation.py:760: DataConversionWarning: A column-vector y was passed when a 1d array was expected. Please change the shape of y to (n_samples, ), for example using ravel().\n",
      "  y = column_or_1d(y, warn=True)\n",
      "C:\\Users\\laure\\Anaconda3\\envs\\myenv\\lib\\site-packages\\sklearn\\utils\\validation.py:760: DataConversionWarning: A column-vector y was passed when a 1d array was expected. Please change the shape of y to (n_samples, ), for example using ravel().\n",
      "  y = column_or_1d(y, warn=True)\n",
      "C:\\Users\\laure\\Anaconda3\\envs\\myenv\\lib\\site-packages\\sklearn\\utils\\validation.py:760: DataConversionWarning: A column-vector y was passed when a 1d array was expected. Please change the shape of y to (n_samples, ), for example using ravel().\n",
      "  y = column_or_1d(y, warn=True)\n",
      "C:\\Users\\laure\\Anaconda3\\envs\\myenv\\lib\\site-packages\\sklearn\\utils\\validation.py:760: DataConversionWarning: A column-vector y was passed when a 1d array was expected. Please change the shape of y to (n_samples, ), for example using ravel().\n",
      "  y = column_or_1d(y, warn=True)\n",
      "C:\\Users\\laure\\Anaconda3\\envs\\myenv\\lib\\site-packages\\sklearn\\utils\\validation.py:760: DataConversionWarning: A column-vector y was passed when a 1d array was expected. Please change the shape of y to (n_samples, ), for example using ravel().\n",
      "  y = column_or_1d(y, warn=True)\n",
      "C:\\Users\\laure\\Anaconda3\\envs\\myenv\\lib\\site-packages\\sklearn\\utils\\validation.py:760: DataConversionWarning: A column-vector y was passed when a 1d array was expected. Please change the shape of y to (n_samples, ), for example using ravel().\n",
      "  y = column_or_1d(y, warn=True)\n",
      "C:\\Users\\laure\\Anaconda3\\envs\\myenv\\lib\\site-packages\\sklearn\\utils\\validation.py:760: DataConversionWarning: A column-vector y was passed when a 1d array was expected. Please change the shape of y to (n_samples, ), for example using ravel().\n",
      "  y = column_or_1d(y, warn=True)\n",
      "C:\\Users\\laure\\Anaconda3\\envs\\myenv\\lib\\site-packages\\sklearn\\utils\\validation.py:760: DataConversionWarning: A column-vector y was passed when a 1d array was expected. Please change the shape of y to (n_samples, ), for example using ravel().\n",
      "  y = column_or_1d(y, warn=True)\n",
      "C:\\Users\\laure\\Anaconda3\\envs\\myenv\\lib\\site-packages\\sklearn\\utils\\validation.py:760: DataConversionWarning: A column-vector y was passed when a 1d array was expected. Please change the shape of y to (n_samples, ), for example using ravel().\n",
      "  y = column_or_1d(y, warn=True)\n",
      "C:\\Users\\laure\\Anaconda3\\envs\\myenv\\lib\\site-packages\\sklearn\\utils\\validation.py:760: DataConversionWarning: A column-vector y was passed when a 1d array was expected. Please change the shape of y to (n_samples, ), for example using ravel().\n",
      "  y = column_or_1d(y, warn=True)\n",
      "C:\\Users\\laure\\Anaconda3\\envs\\myenv\\lib\\site-packages\\sklearn\\utils\\validation.py:760: DataConversionWarning: A column-vector y was passed when a 1d array was expected. Please change the shape of y to (n_samples, ), for example using ravel().\n",
      "  y = column_or_1d(y, warn=True)\n"
     ]
    },
    {
     "name": "stdout",
     "output_type": "stream",
     "text": [
      "[CV] .............. C=1, degree=3, gamma=1, kernel=poly, total=   0.0s\n",
      "[CV] C=1, degree=3, gamma=1, kernel=sigmoid ..........................\n",
      "[CV] ........... C=1, degree=3, gamma=1, kernel=sigmoid, total=   0.0s\n",
      "[CV] C=1, degree=3, gamma=1, kernel=sigmoid ..........................\n",
      "[CV] ........... C=1, degree=3, gamma=1, kernel=sigmoid, total=   0.0s\n",
      "[CV] C=1, degree=3, gamma=1, kernel=sigmoid ..........................\n",
      "[CV] ........... C=1, degree=3, gamma=1, kernel=sigmoid, total=   0.0s\n",
      "[CV] C=1, degree=3, gamma=1, kernel=sigmoid ..........................\n",
      "[CV] ........... C=1, degree=3, gamma=1, kernel=sigmoid, total=   0.0s\n",
      "[CV] C=1, degree=3, gamma=1, kernel=sigmoid ..........................\n",
      "[CV] ........... C=1, degree=3, gamma=1, kernel=sigmoid, total=   0.0s\n",
      "[CV] C=1, degree=3, gamma=0.1, kernel=linear .........................\n",
      "[CV] .......... C=1, degree=3, gamma=0.1, kernel=linear, total=   0.0s\n",
      "[CV] C=1, degree=3, gamma=0.1, kernel=linear .........................\n",
      "[CV] .......... C=1, degree=3, gamma=0.1, kernel=linear, total=   0.0s\n",
      "[CV] C=1, degree=3, gamma=0.1, kernel=linear .........................\n",
      "[CV] .......... C=1, degree=3, gamma=0.1, kernel=linear, total=   0.0s\n",
      "[CV] C=1, degree=3, gamma=0.1, kernel=linear .........................\n",
      "[CV] .......... C=1, degree=3, gamma=0.1, kernel=linear, total=   0.0s\n",
      "[CV] C=1, degree=3, gamma=0.1, kernel=linear .........................\n",
      "[CV] .......... C=1, degree=3, gamma=0.1, kernel=linear, total=   0.0s\n",
      "[CV] C=1, degree=3, gamma=0.1, kernel=rbf ............................\n",
      "[CV] ............. C=1, degree=3, gamma=0.1, kernel=rbf, total=   0.0s\n",
      "[CV] C=1, degree=3, gamma=0.1, kernel=rbf ............................\n",
      "[CV] ............. C=1, degree=3, gamma=0.1, kernel=rbf, total=   0.0s\n",
      "[CV] C=1, degree=3, gamma=0.1, kernel=rbf ............................\n",
      "[CV] ............. C=1, degree=3, gamma=0.1, kernel=rbf, total=   0.0s\n",
      "[CV] C=1, degree=3, gamma=0.1, kernel=rbf ............................\n"
     ]
    },
    {
     "name": "stderr",
     "output_type": "stream",
     "text": [
      "C:\\Users\\laure\\Anaconda3\\envs\\myenv\\lib\\site-packages\\sklearn\\utils\\validation.py:760: DataConversionWarning: A column-vector y was passed when a 1d array was expected. Please change the shape of y to (n_samples, ), for example using ravel().\n",
      "  y = column_or_1d(y, warn=True)\n",
      "C:\\Users\\laure\\Anaconda3\\envs\\myenv\\lib\\site-packages\\sklearn\\utils\\validation.py:760: DataConversionWarning: A column-vector y was passed when a 1d array was expected. Please change the shape of y to (n_samples, ), for example using ravel().\n",
      "  y = column_or_1d(y, warn=True)\n",
      "C:\\Users\\laure\\Anaconda3\\envs\\myenv\\lib\\site-packages\\sklearn\\utils\\validation.py:760: DataConversionWarning: A column-vector y was passed when a 1d array was expected. Please change the shape of y to (n_samples, ), for example using ravel().\n",
      "  y = column_or_1d(y, warn=True)\n",
      "C:\\Users\\laure\\Anaconda3\\envs\\myenv\\lib\\site-packages\\sklearn\\utils\\validation.py:760: DataConversionWarning: A column-vector y was passed when a 1d array was expected. Please change the shape of y to (n_samples, ), for example using ravel().\n",
      "  y = column_or_1d(y, warn=True)\n",
      "C:\\Users\\laure\\Anaconda3\\envs\\myenv\\lib\\site-packages\\sklearn\\utils\\validation.py:760: DataConversionWarning: A column-vector y was passed when a 1d array was expected. Please change the shape of y to (n_samples, ), for example using ravel().\n",
      "  y = column_or_1d(y, warn=True)\n",
      "C:\\Users\\laure\\Anaconda3\\envs\\myenv\\lib\\site-packages\\sklearn\\utils\\validation.py:760: DataConversionWarning: A column-vector y was passed when a 1d array was expected. Please change the shape of y to (n_samples, ), for example using ravel().\n",
      "  y = column_or_1d(y, warn=True)\n",
      "C:\\Users\\laure\\Anaconda3\\envs\\myenv\\lib\\site-packages\\sklearn\\utils\\validation.py:760: DataConversionWarning: A column-vector y was passed when a 1d array was expected. Please change the shape of y to (n_samples, ), for example using ravel().\n",
      "  y = column_or_1d(y, warn=True)\n",
      "C:\\Users\\laure\\Anaconda3\\envs\\myenv\\lib\\site-packages\\sklearn\\utils\\validation.py:760: DataConversionWarning: A column-vector y was passed when a 1d array was expected. Please change the shape of y to (n_samples, ), for example using ravel().\n",
      "  y = column_or_1d(y, warn=True)\n",
      "C:\\Users\\laure\\Anaconda3\\envs\\myenv\\lib\\site-packages\\sklearn\\utils\\validation.py:760: DataConversionWarning: A column-vector y was passed when a 1d array was expected. Please change the shape of y to (n_samples, ), for example using ravel().\n",
      "  y = column_or_1d(y, warn=True)\n",
      "C:\\Users\\laure\\Anaconda3\\envs\\myenv\\lib\\site-packages\\sklearn\\utils\\validation.py:760: DataConversionWarning: A column-vector y was passed when a 1d array was expected. Please change the shape of y to (n_samples, ), for example using ravel().\n",
      "  y = column_or_1d(y, warn=True)\n",
      "C:\\Users\\laure\\Anaconda3\\envs\\myenv\\lib\\site-packages\\sklearn\\utils\\validation.py:760: DataConversionWarning: A column-vector y was passed when a 1d array was expected. Please change the shape of y to (n_samples, ), for example using ravel().\n",
      "  y = column_or_1d(y, warn=True)\n",
      "C:\\Users\\laure\\Anaconda3\\envs\\myenv\\lib\\site-packages\\sklearn\\utils\\validation.py:760: DataConversionWarning: A column-vector y was passed when a 1d array was expected. Please change the shape of y to (n_samples, ), for example using ravel().\n",
      "  y = column_or_1d(y, warn=True)\n",
      "C:\\Users\\laure\\Anaconda3\\envs\\myenv\\lib\\site-packages\\sklearn\\utils\\validation.py:760: DataConversionWarning: A column-vector y was passed when a 1d array was expected. Please change the shape of y to (n_samples, ), for example using ravel().\n",
      "  y = column_or_1d(y, warn=True)\n",
      "C:\\Users\\laure\\Anaconda3\\envs\\myenv\\lib\\site-packages\\sklearn\\utils\\validation.py:760: DataConversionWarning: A column-vector y was passed when a 1d array was expected. Please change the shape of y to (n_samples, ), for example using ravel().\n",
      "  y = column_or_1d(y, warn=True)\n",
      "C:\\Users\\laure\\Anaconda3\\envs\\myenv\\lib\\site-packages\\sklearn\\utils\\validation.py:760: DataConversionWarning: A column-vector y was passed when a 1d array was expected. Please change the shape of y to (n_samples, ), for example using ravel().\n",
      "  y = column_or_1d(y, warn=True)\n",
      "C:\\Users\\laure\\Anaconda3\\envs\\myenv\\lib\\site-packages\\sklearn\\utils\\validation.py:760: DataConversionWarning: A column-vector y was passed when a 1d array was expected. Please change the shape of y to (n_samples, ), for example using ravel().\n",
      "  y = column_or_1d(y, warn=True)\n",
      "C:\\Users\\laure\\Anaconda3\\envs\\myenv\\lib\\site-packages\\sklearn\\utils\\validation.py:760: DataConversionWarning: A column-vector y was passed when a 1d array was expected. Please change the shape of y to (n_samples, ), for example using ravel().\n",
      "  y = column_or_1d(y, warn=True)\n"
     ]
    },
    {
     "name": "stdout",
     "output_type": "stream",
     "text": [
      "[CV] ............. C=1, degree=3, gamma=0.1, kernel=rbf, total=   0.0s\n",
      "[CV] C=1, degree=3, gamma=0.1, kernel=rbf ............................\n",
      "[CV] ............. C=1, degree=3, gamma=0.1, kernel=rbf, total=   0.0s\n",
      "[CV] C=1, degree=3, gamma=0.1, kernel=poly ...........................\n",
      "[CV] ............ C=1, degree=3, gamma=0.1, kernel=poly, total=   0.2s\n",
      "[CV] C=1, degree=3, gamma=0.1, kernel=poly ...........................\n",
      "[CV] ............ C=1, degree=3, gamma=0.1, kernel=poly, total=   0.2s\n",
      "[CV] C=1, degree=3, gamma=0.1, kernel=poly ...........................\n"
     ]
    },
    {
     "name": "stderr",
     "output_type": "stream",
     "text": [
      "C:\\Users\\laure\\Anaconda3\\envs\\myenv\\lib\\site-packages\\sklearn\\utils\\validation.py:760: DataConversionWarning: A column-vector y was passed when a 1d array was expected. Please change the shape of y to (n_samples, ), for example using ravel().\n",
      "  y = column_or_1d(y, warn=True)\n",
      "C:\\Users\\laure\\Anaconda3\\envs\\myenv\\lib\\site-packages\\sklearn\\utils\\validation.py:760: DataConversionWarning: A column-vector y was passed when a 1d array was expected. Please change the shape of y to (n_samples, ), for example using ravel().\n",
      "  y = column_or_1d(y, warn=True)\n"
     ]
    },
    {
     "name": "stdout",
     "output_type": "stream",
     "text": [
      "[CV] ............ C=1, degree=3, gamma=0.1, kernel=poly, total=   0.1s\n",
      "[CV] C=1, degree=3, gamma=0.1, kernel=poly ...........................\n",
      "[CV] ............ C=1, degree=3, gamma=0.1, kernel=poly, total=   0.2s\n",
      "[CV] C=1, degree=3, gamma=0.1, kernel=poly ...........................\n"
     ]
    },
    {
     "name": "stderr",
     "output_type": "stream",
     "text": [
      "C:\\Users\\laure\\Anaconda3\\envs\\myenv\\lib\\site-packages\\sklearn\\utils\\validation.py:760: DataConversionWarning: A column-vector y was passed when a 1d array was expected. Please change the shape of y to (n_samples, ), for example using ravel().\n",
      "  y = column_or_1d(y, warn=True)\n",
      "C:\\Users\\laure\\Anaconda3\\envs\\myenv\\lib\\site-packages\\sklearn\\utils\\validation.py:760: DataConversionWarning: A column-vector y was passed when a 1d array was expected. Please change the shape of y to (n_samples, ), for example using ravel().\n",
      "  y = column_or_1d(y, warn=True)\n"
     ]
    },
    {
     "name": "stdout",
     "output_type": "stream",
     "text": [
      "[CV] ............ C=1, degree=3, gamma=0.1, kernel=poly, total=   0.1s\n",
      "[CV] C=1, degree=3, gamma=0.1, kernel=sigmoid ........................\n",
      "[CV] ......... C=1, degree=3, gamma=0.1, kernel=sigmoid, total=   0.0s\n",
      "[CV] C=1, degree=3, gamma=0.1, kernel=sigmoid ........................\n",
      "[CV] ......... C=1, degree=3, gamma=0.1, kernel=sigmoid, total=   0.0s\n",
      "[CV] C=1, degree=3, gamma=0.1, kernel=sigmoid ........................\n",
      "[CV] ......... C=1, degree=3, gamma=0.1, kernel=sigmoid, total=   0.0s\n",
      "[CV] C=1, degree=3, gamma=0.1, kernel=sigmoid ........................\n",
      "[CV] ......... C=1, degree=3, gamma=0.1, kernel=sigmoid, total=   0.0s\n",
      "[CV] C=1, degree=3, gamma=0.1, kernel=sigmoid ........................\n",
      "[CV] ......... C=1, degree=3, gamma=0.1, kernel=sigmoid, total=   0.0s\n",
      "[CV] C=1, degree=3, gamma=0.01, kernel=linear ........................\n",
      "[CV] ......... C=1, degree=3, gamma=0.01, kernel=linear, total=   0.0s\n",
      "[CV] C=1, degree=3, gamma=0.01, kernel=linear ........................\n"
     ]
    },
    {
     "name": "stderr",
     "output_type": "stream",
     "text": [
      "C:\\Users\\laure\\Anaconda3\\envs\\myenv\\lib\\site-packages\\sklearn\\utils\\validation.py:760: DataConversionWarning: A column-vector y was passed when a 1d array was expected. Please change the shape of y to (n_samples, ), for example using ravel().\n",
      "  y = column_or_1d(y, warn=True)\n",
      "C:\\Users\\laure\\Anaconda3\\envs\\myenv\\lib\\site-packages\\sklearn\\utils\\validation.py:760: DataConversionWarning: A column-vector y was passed when a 1d array was expected. Please change the shape of y to (n_samples, ), for example using ravel().\n",
      "  y = column_or_1d(y, warn=True)\n",
      "C:\\Users\\laure\\Anaconda3\\envs\\myenv\\lib\\site-packages\\sklearn\\utils\\validation.py:760: DataConversionWarning: A column-vector y was passed when a 1d array was expected. Please change the shape of y to (n_samples, ), for example using ravel().\n",
      "  y = column_or_1d(y, warn=True)\n",
      "C:\\Users\\laure\\Anaconda3\\envs\\myenv\\lib\\site-packages\\sklearn\\utils\\validation.py:760: DataConversionWarning: A column-vector y was passed when a 1d array was expected. Please change the shape of y to (n_samples, ), for example using ravel().\n",
      "  y = column_or_1d(y, warn=True)\n",
      "C:\\Users\\laure\\Anaconda3\\envs\\myenv\\lib\\site-packages\\sklearn\\utils\\validation.py:760: DataConversionWarning: A column-vector y was passed when a 1d array was expected. Please change the shape of y to (n_samples, ), for example using ravel().\n",
      "  y = column_or_1d(y, warn=True)\n",
      "C:\\Users\\laure\\Anaconda3\\envs\\myenv\\lib\\site-packages\\sklearn\\utils\\validation.py:760: DataConversionWarning: A column-vector y was passed when a 1d array was expected. Please change the shape of y to (n_samples, ), for example using ravel().\n",
      "  y = column_or_1d(y, warn=True)\n",
      "C:\\Users\\laure\\Anaconda3\\envs\\myenv\\lib\\site-packages\\sklearn\\utils\\validation.py:760: DataConversionWarning: A column-vector y was passed when a 1d array was expected. Please change the shape of y to (n_samples, ), for example using ravel().\n",
      "  y = column_or_1d(y, warn=True)\n",
      "C:\\Users\\laure\\Anaconda3\\envs\\myenv\\lib\\site-packages\\sklearn\\utils\\validation.py:760: DataConversionWarning: A column-vector y was passed when a 1d array was expected. Please change the shape of y to (n_samples, ), for example using ravel().\n",
      "  y = column_or_1d(y, warn=True)\n",
      "C:\\Users\\laure\\Anaconda3\\envs\\myenv\\lib\\site-packages\\sklearn\\utils\\validation.py:760: DataConversionWarning: A column-vector y was passed when a 1d array was expected. Please change the shape of y to (n_samples, ), for example using ravel().\n",
      "  y = column_or_1d(y, warn=True)\n",
      "C:\\Users\\laure\\Anaconda3\\envs\\myenv\\lib\\site-packages\\sklearn\\utils\\validation.py:760: DataConversionWarning: A column-vector y was passed when a 1d array was expected. Please change the shape of y to (n_samples, ), for example using ravel().\n",
      "  y = column_or_1d(y, warn=True)\n",
      "C:\\Users\\laure\\Anaconda3\\envs\\myenv\\lib\\site-packages\\sklearn\\utils\\validation.py:760: DataConversionWarning: A column-vector y was passed when a 1d array was expected. Please change the shape of y to (n_samples, ), for example using ravel().\n",
      "  y = column_or_1d(y, warn=True)\n",
      "C:\\Users\\laure\\Anaconda3\\envs\\myenv\\lib\\site-packages\\sklearn\\utils\\validation.py:760: DataConversionWarning: A column-vector y was passed when a 1d array was expected. Please change the shape of y to (n_samples, ), for example using ravel().\n",
      "  y = column_or_1d(y, warn=True)\n",
      "C:\\Users\\laure\\Anaconda3\\envs\\myenv\\lib\\site-packages\\sklearn\\utils\\validation.py:760: DataConversionWarning: A column-vector y was passed when a 1d array was expected. Please change the shape of y to (n_samples, ), for example using ravel().\n",
      "  y = column_or_1d(y, warn=True)\n"
     ]
    },
    {
     "name": "stdout",
     "output_type": "stream",
     "text": [
      "[CV] ......... C=1, degree=3, gamma=0.01, kernel=linear, total=   0.0s\n",
      "[CV] C=1, degree=3, gamma=0.01, kernel=linear ........................\n",
      "[CV] ......... C=1, degree=3, gamma=0.01, kernel=linear, total=   0.0s\n",
      "[CV] C=1, degree=3, gamma=0.01, kernel=linear ........................\n",
      "[CV] ......... C=1, degree=3, gamma=0.01, kernel=linear, total=   0.0s\n",
      "[CV] C=1, degree=3, gamma=0.01, kernel=linear ........................\n",
      "[CV] ......... C=1, degree=3, gamma=0.01, kernel=linear, total=   0.0s\n",
      "[CV] C=1, degree=3, gamma=0.01, kernel=rbf ...........................\n",
      "[CV] ............ C=1, degree=3, gamma=0.01, kernel=rbf, total=   0.1s\n",
      "[CV] C=1, degree=3, gamma=0.01, kernel=rbf ...........................\n",
      "[CV] ............ C=1, degree=3, gamma=0.01, kernel=rbf, total=   0.1s\n",
      "[CV] C=1, degree=3, gamma=0.01, kernel=rbf ...........................\n",
      "[CV] ............ C=1, degree=3, gamma=0.01, kernel=rbf, total=   0.1s\n",
      "[CV] C=1, degree=3, gamma=0.01, kernel=rbf ...........................\n",
      "[CV] ............ C=1, degree=3, gamma=0.01, kernel=rbf, total=   0.1s\n",
      "[CV] C=1, degree=3, gamma=0.01, kernel=rbf ...........................\n",
      "[CV] ............ C=1, degree=3, gamma=0.01, kernel=rbf, total=   0.1s\n",
      "[CV] C=1, degree=3, gamma=0.01, kernel=poly ..........................\n"
     ]
    },
    {
     "name": "stderr",
     "output_type": "stream",
     "text": [
      "C:\\Users\\laure\\Anaconda3\\envs\\myenv\\lib\\site-packages\\sklearn\\utils\\validation.py:760: DataConversionWarning: A column-vector y was passed when a 1d array was expected. Please change the shape of y to (n_samples, ), for example using ravel().\n",
      "  y = column_or_1d(y, warn=True)\n",
      "C:\\Users\\laure\\Anaconda3\\envs\\myenv\\lib\\site-packages\\sklearn\\utils\\validation.py:760: DataConversionWarning: A column-vector y was passed when a 1d array was expected. Please change the shape of y to (n_samples, ), for example using ravel().\n",
      "  y = column_or_1d(y, warn=True)\n",
      "C:\\Users\\laure\\Anaconda3\\envs\\myenv\\lib\\site-packages\\sklearn\\utils\\validation.py:760: DataConversionWarning: A column-vector y was passed when a 1d array was expected. Please change the shape of y to (n_samples, ), for example using ravel().\n",
      "  y = column_or_1d(y, warn=True)\n"
     ]
    },
    {
     "name": "stdout",
     "output_type": "stream",
     "text": [
      "[CV] ........... C=1, degree=3, gamma=0.01, kernel=poly, total=   0.2s\n",
      "[CV] C=1, degree=3, gamma=0.01, kernel=poly ..........................\n",
      "[CV] ........... C=1, degree=3, gamma=0.01, kernel=poly, total=   0.2s\n",
      "[CV] C=1, degree=3, gamma=0.01, kernel=poly ..........................\n"
     ]
    },
    {
     "name": "stderr",
     "output_type": "stream",
     "text": [
      "C:\\Users\\laure\\Anaconda3\\envs\\myenv\\lib\\site-packages\\sklearn\\utils\\validation.py:760: DataConversionWarning: A column-vector y was passed when a 1d array was expected. Please change the shape of y to (n_samples, ), for example using ravel().\n",
      "  y = column_or_1d(y, warn=True)\n",
      "C:\\Users\\laure\\Anaconda3\\envs\\myenv\\lib\\site-packages\\sklearn\\utils\\validation.py:760: DataConversionWarning: A column-vector y was passed when a 1d array was expected. Please change the shape of y to (n_samples, ), for example using ravel().\n",
      "  y = column_or_1d(y, warn=True)\n"
     ]
    },
    {
     "name": "stdout",
     "output_type": "stream",
     "text": [
      "[CV] ........... C=1, degree=3, gamma=0.01, kernel=poly, total=   0.2s\n",
      "[CV] C=1, degree=3, gamma=0.01, kernel=poly ..........................\n",
      "[CV] ........... C=1, degree=3, gamma=0.01, kernel=poly, total=   0.2s\n",
      "[CV] C=1, degree=3, gamma=0.01, kernel=poly ..........................\n"
     ]
    },
    {
     "name": "stderr",
     "output_type": "stream",
     "text": [
      "C:\\Users\\laure\\Anaconda3\\envs\\myenv\\lib\\site-packages\\sklearn\\utils\\validation.py:760: DataConversionWarning: A column-vector y was passed when a 1d array was expected. Please change the shape of y to (n_samples, ), for example using ravel().\n",
      "  y = column_or_1d(y, warn=True)\n",
      "C:\\Users\\laure\\Anaconda3\\envs\\myenv\\lib\\site-packages\\sklearn\\utils\\validation.py:760: DataConversionWarning: A column-vector y was passed when a 1d array was expected. Please change the shape of y to (n_samples, ), for example using ravel().\n",
      "  y = column_or_1d(y, warn=True)\n"
     ]
    },
    {
     "name": "stdout",
     "output_type": "stream",
     "text": [
      "[CV] ........... C=1, degree=3, gamma=0.01, kernel=poly, total=   0.2s\n",
      "[CV] C=1, degree=3, gamma=0.01, kernel=sigmoid .......................\n",
      "[CV] ........ C=1, degree=3, gamma=0.01, kernel=sigmoid, total=   0.1s\n",
      "[CV] C=1, degree=3, gamma=0.01, kernel=sigmoid .......................\n"
     ]
    },
    {
     "name": "stderr",
     "output_type": "stream",
     "text": [
      "C:\\Users\\laure\\Anaconda3\\envs\\myenv\\lib\\site-packages\\sklearn\\utils\\validation.py:760: DataConversionWarning: A column-vector y was passed when a 1d array was expected. Please change the shape of y to (n_samples, ), for example using ravel().\n",
      "  y = column_or_1d(y, warn=True)\n",
      "C:\\Users\\laure\\Anaconda3\\envs\\myenv\\lib\\site-packages\\sklearn\\utils\\validation.py:760: DataConversionWarning: A column-vector y was passed when a 1d array was expected. Please change the shape of y to (n_samples, ), for example using ravel().\n",
      "  y = column_or_1d(y, warn=True)\n"
     ]
    },
    {
     "name": "stdout",
     "output_type": "stream",
     "text": [
      "[CV] ........ C=1, degree=3, gamma=0.01, kernel=sigmoid, total=   0.1s\n",
      "[CV] C=1, degree=3, gamma=0.01, kernel=sigmoid .......................\n",
      "[CV] ........ C=1, degree=3, gamma=0.01, kernel=sigmoid, total=   0.1s\n",
      "[CV] C=1, degree=3, gamma=0.01, kernel=sigmoid .......................\n",
      "[CV] ........ C=1, degree=3, gamma=0.01, kernel=sigmoid, total=   0.1s\n",
      "[CV] C=1, degree=3, gamma=0.01, kernel=sigmoid .......................\n"
     ]
    },
    {
     "name": "stderr",
     "output_type": "stream",
     "text": [
      "C:\\Users\\laure\\Anaconda3\\envs\\myenv\\lib\\site-packages\\sklearn\\utils\\validation.py:760: DataConversionWarning: A column-vector y was passed when a 1d array was expected. Please change the shape of y to (n_samples, ), for example using ravel().\n",
      "  y = column_or_1d(y, warn=True)\n",
      "C:\\Users\\laure\\Anaconda3\\envs\\myenv\\lib\\site-packages\\sklearn\\utils\\validation.py:760: DataConversionWarning: A column-vector y was passed when a 1d array was expected. Please change the shape of y to (n_samples, ), for example using ravel().\n",
      "  y = column_or_1d(y, warn=True)\n",
      "C:\\Users\\laure\\Anaconda3\\envs\\myenv\\lib\\site-packages\\sklearn\\utils\\validation.py:760: DataConversionWarning: A column-vector y was passed when a 1d array was expected. Please change the shape of y to (n_samples, ), for example using ravel().\n",
      "  y = column_or_1d(y, warn=True)\n",
      "C:\\Users\\laure\\Anaconda3\\envs\\myenv\\lib\\site-packages\\sklearn\\utils\\validation.py:760: DataConversionWarning: A column-vector y was passed when a 1d array was expected. Please change the shape of y to (n_samples, ), for example using ravel().\n",
      "  y = column_or_1d(y, warn=True)\n",
      "C:\\Users\\laure\\Anaconda3\\envs\\myenv\\lib\\site-packages\\sklearn\\utils\\validation.py:760: DataConversionWarning: A column-vector y was passed when a 1d array was expected. Please change the shape of y to (n_samples, ), for example using ravel().\n",
      "  y = column_or_1d(y, warn=True)\n",
      "C:\\Users\\laure\\Anaconda3\\envs\\myenv\\lib\\site-packages\\sklearn\\utils\\validation.py:760: DataConversionWarning: A column-vector y was passed when a 1d array was expected. Please change the shape of y to (n_samples, ), for example using ravel().\n",
      "  y = column_or_1d(y, warn=True)\n",
      "C:\\Users\\laure\\Anaconda3\\envs\\myenv\\lib\\site-packages\\sklearn\\utils\\validation.py:760: DataConversionWarning: A column-vector y was passed when a 1d array was expected. Please change the shape of y to (n_samples, ), for example using ravel().\n",
      "  y = column_or_1d(y, warn=True)\n",
      "C:\\Users\\laure\\Anaconda3\\envs\\myenv\\lib\\site-packages\\sklearn\\utils\\validation.py:760: DataConversionWarning: A column-vector y was passed when a 1d array was expected. Please change the shape of y to (n_samples, ), for example using ravel().\n",
      "  y = column_or_1d(y, warn=True)\n",
      "C:\\Users\\laure\\Anaconda3\\envs\\myenv\\lib\\site-packages\\sklearn\\utils\\validation.py:760: DataConversionWarning: A column-vector y was passed when a 1d array was expected. Please change the shape of y to (n_samples, ), for example using ravel().\n",
      "  y = column_or_1d(y, warn=True)\n"
     ]
    },
    {
     "name": "stdout",
     "output_type": "stream",
     "text": [
      "[CV] ........ C=1, degree=3, gamma=0.01, kernel=sigmoid, total=   0.1s\n",
      "[CV] C=1, degree=3, gamma=0.001, kernel=linear .......................\n",
      "[CV] ........ C=1, degree=3, gamma=0.001, kernel=linear, total=   0.0s\n",
      "[CV] C=1, degree=3, gamma=0.001, kernel=linear .......................\n",
      "[CV] ........ C=1, degree=3, gamma=0.001, kernel=linear, total=   0.0s\n",
      "[CV] C=1, degree=3, gamma=0.001, kernel=linear .......................\n",
      "[CV] ........ C=1, degree=3, gamma=0.001, kernel=linear, total=   0.0s\n",
      "[CV] C=1, degree=3, gamma=0.001, kernel=linear .......................\n",
      "[CV] ........ C=1, degree=3, gamma=0.001, kernel=linear, total=   0.0s\n",
      "[CV] C=1, degree=3, gamma=0.001, kernel=linear .......................\n",
      "[CV] ........ C=1, degree=3, gamma=0.001, kernel=linear, total=   0.0s\n",
      "[CV] C=1, degree=3, gamma=0.001, kernel=rbf ..........................\n",
      "[CV] ........... C=1, degree=3, gamma=0.001, kernel=rbf, total=   0.3s\n",
      "[CV] C=1, degree=3, gamma=0.001, kernel=rbf ..........................\n"
     ]
    },
    {
     "name": "stderr",
     "output_type": "stream",
     "text": [
      "C:\\Users\\laure\\Anaconda3\\envs\\myenv\\lib\\site-packages\\sklearn\\utils\\validation.py:760: DataConversionWarning: A column-vector y was passed when a 1d array was expected. Please change the shape of y to (n_samples, ), for example using ravel().\n",
      "  y = column_or_1d(y, warn=True)\n"
     ]
    },
    {
     "name": "stdout",
     "output_type": "stream",
     "text": [
      "[CV] ........... C=1, degree=3, gamma=0.001, kernel=rbf, total=   0.3s\n",
      "[CV] C=1, degree=3, gamma=0.001, kernel=rbf ..........................\n"
     ]
    },
    {
     "name": "stderr",
     "output_type": "stream",
     "text": [
      "C:\\Users\\laure\\Anaconda3\\envs\\myenv\\lib\\site-packages\\sklearn\\utils\\validation.py:760: DataConversionWarning: A column-vector y was passed when a 1d array was expected. Please change the shape of y to (n_samples, ), for example using ravel().\n",
      "  y = column_or_1d(y, warn=True)\n"
     ]
    },
    {
     "name": "stdout",
     "output_type": "stream",
     "text": [
      "[CV] ........... C=1, degree=3, gamma=0.001, kernel=rbf, total=   0.3s\n",
      "[CV] C=1, degree=3, gamma=0.001, kernel=rbf ..........................\n"
     ]
    },
    {
     "name": "stderr",
     "output_type": "stream",
     "text": [
      "C:\\Users\\laure\\Anaconda3\\envs\\myenv\\lib\\site-packages\\sklearn\\utils\\validation.py:760: DataConversionWarning: A column-vector y was passed when a 1d array was expected. Please change the shape of y to (n_samples, ), for example using ravel().\n",
      "  y = column_or_1d(y, warn=True)\n"
     ]
    },
    {
     "name": "stdout",
     "output_type": "stream",
     "text": [
      "[CV] ........... C=1, degree=3, gamma=0.001, kernel=rbf, total=   0.3s\n",
      "[CV] C=1, degree=3, gamma=0.001, kernel=rbf ..........................\n"
     ]
    },
    {
     "name": "stderr",
     "output_type": "stream",
     "text": [
      "C:\\Users\\laure\\Anaconda3\\envs\\myenv\\lib\\site-packages\\sklearn\\utils\\validation.py:760: DataConversionWarning: A column-vector y was passed when a 1d array was expected. Please change the shape of y to (n_samples, ), for example using ravel().\n",
      "  y = column_or_1d(y, warn=True)\n"
     ]
    },
    {
     "name": "stdout",
     "output_type": "stream",
     "text": [
      "[CV] ........... C=1, degree=3, gamma=0.001, kernel=rbf, total=   0.3s\n",
      "[CV] C=1, degree=3, gamma=0.001, kernel=poly .........................\n",
      "[CV] .......... C=1, degree=3, gamma=0.001, kernel=poly, total=   0.2s\n",
      "[CV] C=1, degree=3, gamma=0.001, kernel=poly .........................\n"
     ]
    },
    {
     "name": "stderr",
     "output_type": "stream",
     "text": [
      "C:\\Users\\laure\\Anaconda3\\envs\\myenv\\lib\\site-packages\\sklearn\\utils\\validation.py:760: DataConversionWarning: A column-vector y was passed when a 1d array was expected. Please change the shape of y to (n_samples, ), for example using ravel().\n",
      "  y = column_or_1d(y, warn=True)\n",
      "C:\\Users\\laure\\Anaconda3\\envs\\myenv\\lib\\site-packages\\sklearn\\utils\\validation.py:760: DataConversionWarning: A column-vector y was passed when a 1d array was expected. Please change the shape of y to (n_samples, ), for example using ravel().\n",
      "  y = column_or_1d(y, warn=True)\n"
     ]
    },
    {
     "name": "stdout",
     "output_type": "stream",
     "text": [
      "[CV] .......... C=1, degree=3, gamma=0.001, kernel=poly, total=   0.1s\n",
      "[CV] C=1, degree=3, gamma=0.001, kernel=poly .........................\n",
      "[CV] .......... C=1, degree=3, gamma=0.001, kernel=poly, total=   0.2s\n",
      "[CV] C=1, degree=3, gamma=0.001, kernel=poly .........................\n"
     ]
    },
    {
     "name": "stderr",
     "output_type": "stream",
     "text": [
      "C:\\Users\\laure\\Anaconda3\\envs\\myenv\\lib\\site-packages\\sklearn\\utils\\validation.py:760: DataConversionWarning: A column-vector y was passed when a 1d array was expected. Please change the shape of y to (n_samples, ), for example using ravel().\n",
      "  y = column_or_1d(y, warn=True)\n",
      "C:\\Users\\laure\\Anaconda3\\envs\\myenv\\lib\\site-packages\\sklearn\\utils\\validation.py:760: DataConversionWarning: A column-vector y was passed when a 1d array was expected. Please change the shape of y to (n_samples, ), for example using ravel().\n",
      "  y = column_or_1d(y, warn=True)\n"
     ]
    },
    {
     "name": "stdout",
     "output_type": "stream",
     "text": [
      "[CV] .......... C=1, degree=3, gamma=0.001, kernel=poly, total=   0.1s\n",
      "[CV] C=1, degree=3, gamma=0.001, kernel=poly .........................\n",
      "[CV] .......... C=1, degree=3, gamma=0.001, kernel=poly, total=   0.2s\n",
      "[CV] C=1, degree=3, gamma=0.001, kernel=sigmoid ......................\n"
     ]
    },
    {
     "name": "stderr",
     "output_type": "stream",
     "text": [
      "C:\\Users\\laure\\Anaconda3\\envs\\myenv\\lib\\site-packages\\sklearn\\utils\\validation.py:760: DataConversionWarning: A column-vector y was passed when a 1d array was expected. Please change the shape of y to (n_samples, ), for example using ravel().\n",
      "  y = column_or_1d(y, warn=True)\n",
      "C:\\Users\\laure\\Anaconda3\\envs\\myenv\\lib\\site-packages\\sklearn\\utils\\validation.py:760: DataConversionWarning: A column-vector y was passed when a 1d array was expected. Please change the shape of y to (n_samples, ), for example using ravel().\n",
      "  y = column_or_1d(y, warn=True)\n"
     ]
    },
    {
     "name": "stdout",
     "output_type": "stream",
     "text": [
      "[CV] ....... C=1, degree=3, gamma=0.001, kernel=sigmoid, total=   0.2s\n",
      "[CV] C=1, degree=3, gamma=0.001, kernel=sigmoid ......................\n"
     ]
    },
    {
     "name": "stderr",
     "output_type": "stream",
     "text": [
      "C:\\Users\\laure\\Anaconda3\\envs\\myenv\\lib\\site-packages\\sklearn\\utils\\validation.py:760: DataConversionWarning: A column-vector y was passed when a 1d array was expected. Please change the shape of y to (n_samples, ), for example using ravel().\n",
      "  y = column_or_1d(y, warn=True)\n"
     ]
    },
    {
     "name": "stdout",
     "output_type": "stream",
     "text": [
      "[CV] ....... C=1, degree=3, gamma=0.001, kernel=sigmoid, total=   0.3s\n",
      "[CV] C=1, degree=3, gamma=0.001, kernel=sigmoid ......................\n"
     ]
    },
    {
     "name": "stderr",
     "output_type": "stream",
     "text": [
      "C:\\Users\\laure\\Anaconda3\\envs\\myenv\\lib\\site-packages\\sklearn\\utils\\validation.py:760: DataConversionWarning: A column-vector y was passed when a 1d array was expected. Please change the shape of y to (n_samples, ), for example using ravel().\n",
      "  y = column_or_1d(y, warn=True)\n"
     ]
    },
    {
     "name": "stdout",
     "output_type": "stream",
     "text": [
      "[CV] ....... C=1, degree=3, gamma=0.001, kernel=sigmoid, total=   0.2s\n",
      "[CV] C=1, degree=3, gamma=0.001, kernel=sigmoid ......................\n"
     ]
    },
    {
     "name": "stderr",
     "output_type": "stream",
     "text": [
      "C:\\Users\\laure\\Anaconda3\\envs\\myenv\\lib\\site-packages\\sklearn\\utils\\validation.py:760: DataConversionWarning: A column-vector y was passed when a 1d array was expected. Please change the shape of y to (n_samples, ), for example using ravel().\n",
      "  y = column_or_1d(y, warn=True)\n"
     ]
    },
    {
     "name": "stdout",
     "output_type": "stream",
     "text": [
      "[CV] ....... C=1, degree=3, gamma=0.001, kernel=sigmoid, total=   0.3s\n",
      "[CV] C=1, degree=3, gamma=0.001, kernel=sigmoid ......................\n"
     ]
    },
    {
     "name": "stderr",
     "output_type": "stream",
     "text": [
      "C:\\Users\\laure\\Anaconda3\\envs\\myenv\\lib\\site-packages\\sklearn\\utils\\validation.py:760: DataConversionWarning: A column-vector y was passed when a 1d array was expected. Please change the shape of y to (n_samples, ), for example using ravel().\n",
      "  y = column_or_1d(y, warn=True)\n"
     ]
    },
    {
     "name": "stdout",
     "output_type": "stream",
     "text": [
      "[CV] ....... C=1, degree=3, gamma=0.001, kernel=sigmoid, total=   0.3s\n",
      "[CV] C=1, degree=4, gamma=1, kernel=linear ...........................\n",
      "[CV] ............ C=1, degree=4, gamma=1, kernel=linear, total=   0.0s\n",
      "[CV] C=1, degree=4, gamma=1, kernel=linear ...........................\n",
      "[CV] ............ C=1, degree=4, gamma=1, kernel=linear, total=   0.0s\n",
      "[CV] C=1, degree=4, gamma=1, kernel=linear ...........................\n",
      "[CV] ............ C=1, degree=4, gamma=1, kernel=linear, total=   0.0s\n",
      "[CV] C=1, degree=4, gamma=1, kernel=linear ...........................\n",
      "[CV] ............ C=1, degree=4, gamma=1, kernel=linear, total=   0.0s\n",
      "[CV] C=1, degree=4, gamma=1, kernel=linear ...........................\n",
      "[CV] ............ C=1, degree=4, gamma=1, kernel=linear, total=   0.0s\n",
      "[CV] C=1, degree=4, gamma=1, kernel=rbf ..............................\n",
      "[CV] ............... C=1, degree=4, gamma=1, kernel=rbf, total=   0.0s\n",
      "[CV] C=1, degree=4, gamma=1, kernel=rbf ..............................\n",
      "[CV] ............... C=1, degree=4, gamma=1, kernel=rbf, total=   0.0s\n",
      "[CV] C=1, degree=4, gamma=1, kernel=rbf ..............................\n",
      "[CV] ............... C=1, degree=4, gamma=1, kernel=rbf, total=   0.0s\n",
      "[CV] C=1, degree=4, gamma=1, kernel=rbf ..............................\n",
      "[CV] ............... C=1, degree=4, gamma=1, kernel=rbf, total=   0.0s\n",
      "[CV] C=1, degree=4, gamma=1, kernel=rbf ..............................\n",
      "[CV] ............... C=1, degree=4, gamma=1, kernel=rbf, total=   0.0s\n",
      "[CV] C=1, degree=4, gamma=1, kernel=poly .............................\n",
      "[CV] .............. C=1, degree=4, gamma=1, kernel=poly, total=   0.0s\n",
      "[CV] C=1, degree=4, gamma=1, kernel=poly .............................\n",
      "[CV] .............. C=1, degree=4, gamma=1, kernel=poly, total=   0.0s\n",
      "[CV] C=1, degree=4, gamma=1, kernel=poly .............................\n",
      "[CV] .............. C=1, degree=4, gamma=1, kernel=poly, total=   0.0s\n",
      "[CV] C=1, degree=4, gamma=1, kernel=poly .............................\n"
     ]
    },
    {
     "name": "stderr",
     "output_type": "stream",
     "text": [
      "C:\\Users\\laure\\Anaconda3\\envs\\myenv\\lib\\site-packages\\sklearn\\utils\\validation.py:760: DataConversionWarning: A column-vector y was passed when a 1d array was expected. Please change the shape of y to (n_samples, ), for example using ravel().\n",
      "  y = column_or_1d(y, warn=True)\n",
      "C:\\Users\\laure\\Anaconda3\\envs\\myenv\\lib\\site-packages\\sklearn\\utils\\validation.py:760: DataConversionWarning: A column-vector y was passed when a 1d array was expected. Please change the shape of y to (n_samples, ), for example using ravel().\n",
      "  y = column_or_1d(y, warn=True)\n",
      "C:\\Users\\laure\\Anaconda3\\envs\\myenv\\lib\\site-packages\\sklearn\\utils\\validation.py:760: DataConversionWarning: A column-vector y was passed when a 1d array was expected. Please change the shape of y to (n_samples, ), for example using ravel().\n",
      "  y = column_or_1d(y, warn=True)\n",
      "C:\\Users\\laure\\Anaconda3\\envs\\myenv\\lib\\site-packages\\sklearn\\utils\\validation.py:760: DataConversionWarning: A column-vector y was passed when a 1d array was expected. Please change the shape of y to (n_samples, ), for example using ravel().\n",
      "  y = column_or_1d(y, warn=True)\n",
      "C:\\Users\\laure\\Anaconda3\\envs\\myenv\\lib\\site-packages\\sklearn\\utils\\validation.py:760: DataConversionWarning: A column-vector y was passed when a 1d array was expected. Please change the shape of y to (n_samples, ), for example using ravel().\n",
      "  y = column_or_1d(y, warn=True)\n",
      "C:\\Users\\laure\\Anaconda3\\envs\\myenv\\lib\\site-packages\\sklearn\\utils\\validation.py:760: DataConversionWarning: A column-vector y was passed when a 1d array was expected. Please change the shape of y to (n_samples, ), for example using ravel().\n",
      "  y = column_or_1d(y, warn=True)\n",
      "C:\\Users\\laure\\Anaconda3\\envs\\myenv\\lib\\site-packages\\sklearn\\utils\\validation.py:760: DataConversionWarning: A column-vector y was passed when a 1d array was expected. Please change the shape of y to (n_samples, ), for example using ravel().\n",
      "  y = column_or_1d(y, warn=True)\n",
      "C:\\Users\\laure\\Anaconda3\\envs\\myenv\\lib\\site-packages\\sklearn\\utils\\validation.py:760: DataConversionWarning: A column-vector y was passed when a 1d array was expected. Please change the shape of y to (n_samples, ), for example using ravel().\n",
      "  y = column_or_1d(y, warn=True)\n",
      "C:\\Users\\laure\\Anaconda3\\envs\\myenv\\lib\\site-packages\\sklearn\\utils\\validation.py:760: DataConversionWarning: A column-vector y was passed when a 1d array was expected. Please change the shape of y to (n_samples, ), for example using ravel().\n",
      "  y = column_or_1d(y, warn=True)\n",
      "C:\\Users\\laure\\Anaconda3\\envs\\myenv\\lib\\site-packages\\sklearn\\utils\\validation.py:760: DataConversionWarning: A column-vector y was passed when a 1d array was expected. Please change the shape of y to (n_samples, ), for example using ravel().\n",
      "  y = column_or_1d(y, warn=True)\n",
      "C:\\Users\\laure\\Anaconda3\\envs\\myenv\\lib\\site-packages\\sklearn\\utils\\validation.py:760: DataConversionWarning: A column-vector y was passed when a 1d array was expected. Please change the shape of y to (n_samples, ), for example using ravel().\n",
      "  y = column_or_1d(y, warn=True)\n",
      "C:\\Users\\laure\\Anaconda3\\envs\\myenv\\lib\\site-packages\\sklearn\\utils\\validation.py:760: DataConversionWarning: A column-vector y was passed when a 1d array was expected. Please change the shape of y to (n_samples, ), for example using ravel().\n",
      "  y = column_or_1d(y, warn=True)\n",
      "C:\\Users\\laure\\Anaconda3\\envs\\myenv\\lib\\site-packages\\sklearn\\utils\\validation.py:760: DataConversionWarning: A column-vector y was passed when a 1d array was expected. Please change the shape of y to (n_samples, ), for example using ravel().\n",
      "  y = column_or_1d(y, warn=True)\n",
      "C:\\Users\\laure\\Anaconda3\\envs\\myenv\\lib\\site-packages\\sklearn\\utils\\validation.py:760: DataConversionWarning: A column-vector y was passed when a 1d array was expected. Please change the shape of y to (n_samples, ), for example using ravel().\n",
      "  y = column_or_1d(y, warn=True)\n",
      "C:\\Users\\laure\\Anaconda3\\envs\\myenv\\lib\\site-packages\\sklearn\\utils\\validation.py:760: DataConversionWarning: A column-vector y was passed when a 1d array was expected. Please change the shape of y to (n_samples, ), for example using ravel().\n",
      "  y = column_or_1d(y, warn=True)\n",
      "C:\\Users\\laure\\Anaconda3\\envs\\myenv\\lib\\site-packages\\sklearn\\utils\\validation.py:760: DataConversionWarning: A column-vector y was passed when a 1d array was expected. Please change the shape of y to (n_samples, ), for example using ravel().\n",
      "  y = column_or_1d(y, warn=True)\n",
      "C:\\Users\\laure\\Anaconda3\\envs\\myenv\\lib\\site-packages\\sklearn\\utils\\validation.py:760: DataConversionWarning: A column-vector y was passed when a 1d array was expected. Please change the shape of y to (n_samples, ), for example using ravel().\n",
      "  y = column_or_1d(y, warn=True)\n",
      "C:\\Users\\laure\\Anaconda3\\envs\\myenv\\lib\\site-packages\\sklearn\\utils\\validation.py:760: DataConversionWarning: A column-vector y was passed when a 1d array was expected. Please change the shape of y to (n_samples, ), for example using ravel().\n",
      "  y = column_or_1d(y, warn=True)\n",
      "C:\\Users\\laure\\Anaconda3\\envs\\myenv\\lib\\site-packages\\sklearn\\utils\\validation.py:760: DataConversionWarning: A column-vector y was passed when a 1d array was expected. Please change the shape of y to (n_samples, ), for example using ravel().\n",
      "  y = column_or_1d(y, warn=True)\n",
      "C:\\Users\\laure\\Anaconda3\\envs\\myenv\\lib\\site-packages\\sklearn\\utils\\validation.py:760: DataConversionWarning: A column-vector y was passed when a 1d array was expected. Please change the shape of y to (n_samples, ), for example using ravel().\n",
      "  y = column_or_1d(y, warn=True)\n",
      "C:\\Users\\laure\\Anaconda3\\envs\\myenv\\lib\\site-packages\\sklearn\\utils\\validation.py:760: DataConversionWarning: A column-vector y was passed when a 1d array was expected. Please change the shape of y to (n_samples, ), for example using ravel().\n",
      "  y = column_or_1d(y, warn=True)\n",
      "C:\\Users\\laure\\Anaconda3\\envs\\myenv\\lib\\site-packages\\sklearn\\utils\\validation.py:760: DataConversionWarning: A column-vector y was passed when a 1d array was expected. Please change the shape of y to (n_samples, ), for example using ravel().\n",
      "  y = column_or_1d(y, warn=True)\n",
      "C:\\Users\\laure\\Anaconda3\\envs\\myenv\\lib\\site-packages\\sklearn\\utils\\validation.py:760: DataConversionWarning: A column-vector y was passed when a 1d array was expected. Please change the shape of y to (n_samples, ), for example using ravel().\n",
      "  y = column_or_1d(y, warn=True)\n",
      "C:\\Users\\laure\\Anaconda3\\envs\\myenv\\lib\\site-packages\\sklearn\\utils\\validation.py:760: DataConversionWarning: A column-vector y was passed when a 1d array was expected. Please change the shape of y to (n_samples, ), for example using ravel().\n",
      "  y = column_or_1d(y, warn=True)\n",
      "C:\\Users\\laure\\Anaconda3\\envs\\myenv\\lib\\site-packages\\sklearn\\utils\\validation.py:760: DataConversionWarning: A column-vector y was passed when a 1d array was expected. Please change the shape of y to (n_samples, ), for example using ravel().\n",
      "  y = column_or_1d(y, warn=True)\n",
      "C:\\Users\\laure\\Anaconda3\\envs\\myenv\\lib\\site-packages\\sklearn\\utils\\validation.py:760: DataConversionWarning: A column-vector y was passed when a 1d array was expected. Please change the shape of y to (n_samples, ), for example using ravel().\n",
      "  y = column_or_1d(y, warn=True)\n",
      "C:\\Users\\laure\\Anaconda3\\envs\\myenv\\lib\\site-packages\\sklearn\\utils\\validation.py:760: DataConversionWarning: A column-vector y was passed when a 1d array was expected. Please change the shape of y to (n_samples, ), for example using ravel().\n",
      "  y = column_or_1d(y, warn=True)\n"
     ]
    },
    {
     "name": "stdout",
     "output_type": "stream",
     "text": [
      "[CV] .............. C=1, degree=4, gamma=1, kernel=poly, total=   0.0s\n",
      "[CV] C=1, degree=4, gamma=1, kernel=poly .............................\n",
      "[CV] .............. C=1, degree=4, gamma=1, kernel=poly, total=   0.0s\n",
      "[CV] C=1, degree=4, gamma=1, kernel=sigmoid ..........................\n",
      "[CV] ........... C=1, degree=4, gamma=1, kernel=sigmoid, total=   0.0s\n",
      "[CV] C=1, degree=4, gamma=1, kernel=sigmoid ..........................\n",
      "[CV] ........... C=1, degree=4, gamma=1, kernel=sigmoid, total=   0.0s\n",
      "[CV] C=1, degree=4, gamma=1, kernel=sigmoid ..........................\n",
      "[CV] ........... C=1, degree=4, gamma=1, kernel=sigmoid, total=   0.0s\n",
      "[CV] C=1, degree=4, gamma=1, kernel=sigmoid ..........................\n",
      "[CV] ........... C=1, degree=4, gamma=1, kernel=sigmoid, total=   0.0s\n",
      "[CV] C=1, degree=4, gamma=1, kernel=sigmoid ..........................\n",
      "[CV] ........... C=1, degree=4, gamma=1, kernel=sigmoid, total=   0.0s\n",
      "[CV] C=1, degree=4, gamma=0.1, kernel=linear .........................\n",
      "[CV] .......... C=1, degree=4, gamma=0.1, kernel=linear, total=   0.0s\n",
      "[CV] C=1, degree=4, gamma=0.1, kernel=linear .........................\n",
      "[CV] .......... C=1, degree=4, gamma=0.1, kernel=linear, total=   0.0s\n",
      "[CV] C=1, degree=4, gamma=0.1, kernel=linear .........................\n",
      "[CV] .......... C=1, degree=4, gamma=0.1, kernel=linear, total=   0.0s\n",
      "[CV] C=1, degree=4, gamma=0.1, kernel=linear .........................\n",
      "[CV] .......... C=1, degree=4, gamma=0.1, kernel=linear, total=   0.0s\n",
      "[CV] C=1, degree=4, gamma=0.1, kernel=linear .........................\n",
      "[CV] .......... C=1, degree=4, gamma=0.1, kernel=linear, total=   0.0s\n",
      "[CV] C=1, degree=4, gamma=0.1, kernel=rbf ............................\n",
      "[CV] ............. C=1, degree=4, gamma=0.1, kernel=rbf, total=   0.0s\n",
      "[CV] C=1, degree=4, gamma=0.1, kernel=rbf ............................\n",
      "[CV] ............. C=1, degree=4, gamma=0.1, kernel=rbf, total=   0.0s\n",
      "[CV] C=1, degree=4, gamma=0.1, kernel=rbf ............................\n"
     ]
    },
    {
     "name": "stderr",
     "output_type": "stream",
     "text": [
      "C:\\Users\\laure\\Anaconda3\\envs\\myenv\\lib\\site-packages\\sklearn\\utils\\validation.py:760: DataConversionWarning: A column-vector y was passed when a 1d array was expected. Please change the shape of y to (n_samples, ), for example using ravel().\n",
      "  y = column_or_1d(y, warn=True)\n",
      "C:\\Users\\laure\\Anaconda3\\envs\\myenv\\lib\\site-packages\\sklearn\\utils\\validation.py:760: DataConversionWarning: A column-vector y was passed when a 1d array was expected. Please change the shape of y to (n_samples, ), for example using ravel().\n",
      "  y = column_or_1d(y, warn=True)\n",
      "C:\\Users\\laure\\Anaconda3\\envs\\myenv\\lib\\site-packages\\sklearn\\utils\\validation.py:760: DataConversionWarning: A column-vector y was passed when a 1d array was expected. Please change the shape of y to (n_samples, ), for example using ravel().\n",
      "  y = column_or_1d(y, warn=True)\n",
      "C:\\Users\\laure\\Anaconda3\\envs\\myenv\\lib\\site-packages\\sklearn\\utils\\validation.py:760: DataConversionWarning: A column-vector y was passed when a 1d array was expected. Please change the shape of y to (n_samples, ), for example using ravel().\n",
      "  y = column_or_1d(y, warn=True)\n"
     ]
    },
    {
     "name": "stdout",
     "output_type": "stream",
     "text": [
      "[CV] ............. C=1, degree=4, gamma=0.1, kernel=rbf, total=   0.0s\n",
      "[CV] C=1, degree=4, gamma=0.1, kernel=rbf ............................\n",
      "[CV] ............. C=1, degree=4, gamma=0.1, kernel=rbf, total=   0.0s\n",
      "[CV] C=1, degree=4, gamma=0.1, kernel=rbf ............................\n",
      "[CV] ............. C=1, degree=4, gamma=0.1, kernel=rbf, total=   0.0s\n",
      "[CV] C=1, degree=4, gamma=0.1, kernel=poly ...........................\n",
      "[CV] ............ C=1, degree=4, gamma=0.1, kernel=poly, total=   0.2s\n",
      "[CV] C=1, degree=4, gamma=0.1, kernel=poly ...........................\n",
      "[CV] ............ C=1, degree=4, gamma=0.1, kernel=poly, total=   0.2s\n",
      "[CV] C=1, degree=4, gamma=0.1, kernel=poly ...........................\n"
     ]
    },
    {
     "name": "stderr",
     "output_type": "stream",
     "text": [
      "C:\\Users\\laure\\Anaconda3\\envs\\myenv\\lib\\site-packages\\sklearn\\utils\\validation.py:760: DataConversionWarning: A column-vector y was passed when a 1d array was expected. Please change the shape of y to (n_samples, ), for example using ravel().\n",
      "  y = column_or_1d(y, warn=True)\n"
     ]
    },
    {
     "name": "stdout",
     "output_type": "stream",
     "text": [
      "[CV] ............ C=1, degree=4, gamma=0.1, kernel=poly, total=   0.2s\n",
      "[CV] C=1, degree=4, gamma=0.1, kernel=poly ...........................\n",
      "[CV] ............ C=1, degree=4, gamma=0.1, kernel=poly, total=   0.2s\n",
      "[CV] C=1, degree=4, gamma=0.1, kernel=poly ...........................\n"
     ]
    },
    {
     "name": "stderr",
     "output_type": "stream",
     "text": [
      "C:\\Users\\laure\\Anaconda3\\envs\\myenv\\lib\\site-packages\\sklearn\\utils\\validation.py:760: DataConversionWarning: A column-vector y was passed when a 1d array was expected. Please change the shape of y to (n_samples, ), for example using ravel().\n",
      "  y = column_or_1d(y, warn=True)\n",
      "C:\\Users\\laure\\Anaconda3\\envs\\myenv\\lib\\site-packages\\sklearn\\utils\\validation.py:760: DataConversionWarning: A column-vector y was passed when a 1d array was expected. Please change the shape of y to (n_samples, ), for example using ravel().\n",
      "  y = column_or_1d(y, warn=True)\n",
      "C:\\Users\\laure\\Anaconda3\\envs\\myenv\\lib\\site-packages\\sklearn\\utils\\validation.py:760: DataConversionWarning: A column-vector y was passed when a 1d array was expected. Please change the shape of y to (n_samples, ), for example using ravel().\n",
      "  y = column_or_1d(y, warn=True)\n"
     ]
    },
    {
     "name": "stdout",
     "output_type": "stream",
     "text": [
      "[CV] ............ C=1, degree=4, gamma=0.1, kernel=poly, total=   0.2s\n",
      "[CV] C=1, degree=4, gamma=0.1, kernel=sigmoid ........................\n",
      "[CV] ......... C=1, degree=4, gamma=0.1, kernel=sigmoid, total=   0.0s\n",
      "[CV] C=1, degree=4, gamma=0.1, kernel=sigmoid ........................\n",
      "[CV] ......... C=1, degree=4, gamma=0.1, kernel=sigmoid, total=   0.0s\n",
      "[CV] C=1, degree=4, gamma=0.1, kernel=sigmoid ........................\n",
      "[CV] ......... C=1, degree=4, gamma=0.1, kernel=sigmoid, total=   0.0s\n",
      "[CV] C=1, degree=4, gamma=0.1, kernel=sigmoid ........................\n",
      "[CV] ......... C=1, degree=4, gamma=0.1, kernel=sigmoid, total=   0.0s\n",
      "[CV] C=1, degree=4, gamma=0.1, kernel=sigmoid ........................\n",
      "[CV] ......... C=1, degree=4, gamma=0.1, kernel=sigmoid, total=   0.0s\n",
      "[CV] C=1, degree=4, gamma=0.01, kernel=linear ........................\n",
      "[CV] ......... C=1, degree=4, gamma=0.01, kernel=linear, total=   0.0s\n",
      "[CV] C=1, degree=4, gamma=0.01, kernel=linear ........................\n",
      "[CV] ......... C=1, degree=4, gamma=0.01, kernel=linear, total=   0.0s\n",
      "[CV] C=1, degree=4, gamma=0.01, kernel=linear ........................\n",
      "[CV] ......... C=1, degree=4, gamma=0.01, kernel=linear, total=   0.0s\n",
      "[CV] C=1, degree=4, gamma=0.01, kernel=linear ........................\n"
     ]
    },
    {
     "name": "stderr",
     "output_type": "stream",
     "text": [
      "C:\\Users\\laure\\Anaconda3\\envs\\myenv\\lib\\site-packages\\sklearn\\utils\\validation.py:760: DataConversionWarning: A column-vector y was passed when a 1d array was expected. Please change the shape of y to (n_samples, ), for example using ravel().\n",
      "  y = column_or_1d(y, warn=True)\n",
      "C:\\Users\\laure\\Anaconda3\\envs\\myenv\\lib\\site-packages\\sklearn\\utils\\validation.py:760: DataConversionWarning: A column-vector y was passed when a 1d array was expected. Please change the shape of y to (n_samples, ), for example using ravel().\n",
      "  y = column_or_1d(y, warn=True)\n",
      "C:\\Users\\laure\\Anaconda3\\envs\\myenv\\lib\\site-packages\\sklearn\\utils\\validation.py:760: DataConversionWarning: A column-vector y was passed when a 1d array was expected. Please change the shape of y to (n_samples, ), for example using ravel().\n",
      "  y = column_or_1d(y, warn=True)\n",
      "C:\\Users\\laure\\Anaconda3\\envs\\myenv\\lib\\site-packages\\sklearn\\utils\\validation.py:760: DataConversionWarning: A column-vector y was passed when a 1d array was expected. Please change the shape of y to (n_samples, ), for example using ravel().\n",
      "  y = column_or_1d(y, warn=True)\n",
      "C:\\Users\\laure\\Anaconda3\\envs\\myenv\\lib\\site-packages\\sklearn\\utils\\validation.py:760: DataConversionWarning: A column-vector y was passed when a 1d array was expected. Please change the shape of y to (n_samples, ), for example using ravel().\n",
      "  y = column_or_1d(y, warn=True)\n",
      "C:\\Users\\laure\\Anaconda3\\envs\\myenv\\lib\\site-packages\\sklearn\\utils\\validation.py:760: DataConversionWarning: A column-vector y was passed when a 1d array was expected. Please change the shape of y to (n_samples, ), for example using ravel().\n",
      "  y = column_or_1d(y, warn=True)\n",
      "C:\\Users\\laure\\Anaconda3\\envs\\myenv\\lib\\site-packages\\sklearn\\utils\\validation.py:760: DataConversionWarning: A column-vector y was passed when a 1d array was expected. Please change the shape of y to (n_samples, ), for example using ravel().\n",
      "  y = column_or_1d(y, warn=True)\n",
      "C:\\Users\\laure\\Anaconda3\\envs\\myenv\\lib\\site-packages\\sklearn\\utils\\validation.py:760: DataConversionWarning: A column-vector y was passed when a 1d array was expected. Please change the shape of y to (n_samples, ), for example using ravel().\n",
      "  y = column_or_1d(y, warn=True)\n",
      "C:\\Users\\laure\\Anaconda3\\envs\\myenv\\lib\\site-packages\\sklearn\\utils\\validation.py:760: DataConversionWarning: A column-vector y was passed when a 1d array was expected. Please change the shape of y to (n_samples, ), for example using ravel().\n",
      "  y = column_or_1d(y, warn=True)\n"
     ]
    },
    {
     "name": "stdout",
     "output_type": "stream",
     "text": [
      "[CV] ......... C=1, degree=4, gamma=0.01, kernel=linear, total=   0.0s\n",
      "[CV] C=1, degree=4, gamma=0.01, kernel=linear ........................\n",
      "[CV] ......... C=1, degree=4, gamma=0.01, kernel=linear, total=   0.0s\n",
      "[CV] C=1, degree=4, gamma=0.01, kernel=rbf ...........................\n",
      "[CV] ............ C=1, degree=4, gamma=0.01, kernel=rbf, total=   0.1s\n",
      "[CV] C=1, degree=4, gamma=0.01, kernel=rbf ...........................\n",
      "[CV] ............ C=1, degree=4, gamma=0.01, kernel=rbf, total=   0.1s\n",
      "[CV] C=1, degree=4, gamma=0.01, kernel=rbf ...........................\n"
     ]
    },
    {
     "name": "stderr",
     "output_type": "stream",
     "text": [
      "C:\\Users\\laure\\Anaconda3\\envs\\myenv\\lib\\site-packages\\sklearn\\utils\\validation.py:760: DataConversionWarning: A column-vector y was passed when a 1d array was expected. Please change the shape of y to (n_samples, ), for example using ravel().\n",
      "  y = column_or_1d(y, warn=True)\n",
      "C:\\Users\\laure\\Anaconda3\\envs\\myenv\\lib\\site-packages\\sklearn\\utils\\validation.py:760: DataConversionWarning: A column-vector y was passed when a 1d array was expected. Please change the shape of y to (n_samples, ), for example using ravel().\n",
      "  y = column_or_1d(y, warn=True)\n",
      "C:\\Users\\laure\\Anaconda3\\envs\\myenv\\lib\\site-packages\\sklearn\\utils\\validation.py:760: DataConversionWarning: A column-vector y was passed when a 1d array was expected. Please change the shape of y to (n_samples, ), for example using ravel().\n",
      "  y = column_or_1d(y, warn=True)\n",
      "C:\\Users\\laure\\Anaconda3\\envs\\myenv\\lib\\site-packages\\sklearn\\utils\\validation.py:760: DataConversionWarning: A column-vector y was passed when a 1d array was expected. Please change the shape of y to (n_samples, ), for example using ravel().\n",
      "  y = column_or_1d(y, warn=True)\n"
     ]
    },
    {
     "name": "stdout",
     "output_type": "stream",
     "text": [
      "[CV] ............ C=1, degree=4, gamma=0.01, kernel=rbf, total=   0.1s\n",
      "[CV] C=1, degree=4, gamma=0.01, kernel=rbf ...........................\n",
      "[CV] ............ C=1, degree=4, gamma=0.01, kernel=rbf, total=   0.1s\n",
      "[CV] C=1, degree=4, gamma=0.01, kernel=rbf ...........................\n",
      "[CV] ............ C=1, degree=4, gamma=0.01, kernel=rbf, total=   0.1s\n",
      "[CV] C=1, degree=4, gamma=0.01, kernel=poly ..........................\n"
     ]
    },
    {
     "name": "stderr",
     "output_type": "stream",
     "text": [
      "C:\\Users\\laure\\Anaconda3\\envs\\myenv\\lib\\site-packages\\sklearn\\utils\\validation.py:760: DataConversionWarning: A column-vector y was passed when a 1d array was expected. Please change the shape of y to (n_samples, ), for example using ravel().\n",
      "  y = column_or_1d(y, warn=True)\n",
      "C:\\Users\\laure\\Anaconda3\\envs\\myenv\\lib\\site-packages\\sklearn\\utils\\validation.py:760: DataConversionWarning: A column-vector y was passed when a 1d array was expected. Please change the shape of y to (n_samples, ), for example using ravel().\n",
      "  y = column_or_1d(y, warn=True)\n",
      "C:\\Users\\laure\\Anaconda3\\envs\\myenv\\lib\\site-packages\\sklearn\\utils\\validation.py:760: DataConversionWarning: A column-vector y was passed when a 1d array was expected. Please change the shape of y to (n_samples, ), for example using ravel().\n",
      "  y = column_or_1d(y, warn=True)\n"
     ]
    },
    {
     "name": "stdout",
     "output_type": "stream",
     "text": [
      "[CV] ........... C=1, degree=4, gamma=0.01, kernel=poly, total=   0.2s\n",
      "[CV] C=1, degree=4, gamma=0.01, kernel=poly ..........................\n",
      "[CV] ........... C=1, degree=4, gamma=0.01, kernel=poly, total=   0.2s\n",
      "[CV] C=1, degree=4, gamma=0.01, kernel=poly ..........................\n"
     ]
    },
    {
     "name": "stderr",
     "output_type": "stream",
     "text": [
      "C:\\Users\\laure\\Anaconda3\\envs\\myenv\\lib\\site-packages\\sklearn\\utils\\validation.py:760: DataConversionWarning: A column-vector y was passed when a 1d array was expected. Please change the shape of y to (n_samples, ), for example using ravel().\n",
      "  y = column_or_1d(y, warn=True)\n",
      "C:\\Users\\laure\\Anaconda3\\envs\\myenv\\lib\\site-packages\\sklearn\\utils\\validation.py:760: DataConversionWarning: A column-vector y was passed when a 1d array was expected. Please change the shape of y to (n_samples, ), for example using ravel().\n",
      "  y = column_or_1d(y, warn=True)\n"
     ]
    },
    {
     "name": "stdout",
     "output_type": "stream",
     "text": [
      "[CV] ........... C=1, degree=4, gamma=0.01, kernel=poly, total=   0.2s\n",
      "[CV] C=1, degree=4, gamma=0.01, kernel=poly ..........................\n",
      "[CV] ........... C=1, degree=4, gamma=0.01, kernel=poly, total=   0.2s\n",
      "[CV] C=1, degree=4, gamma=0.01, kernel=poly ..........................\n"
     ]
    },
    {
     "name": "stderr",
     "output_type": "stream",
     "text": [
      "C:\\Users\\laure\\Anaconda3\\envs\\myenv\\lib\\site-packages\\sklearn\\utils\\validation.py:760: DataConversionWarning: A column-vector y was passed when a 1d array was expected. Please change the shape of y to (n_samples, ), for example using ravel().\n",
      "  y = column_or_1d(y, warn=True)\n",
      "C:\\Users\\laure\\Anaconda3\\envs\\myenv\\lib\\site-packages\\sklearn\\utils\\validation.py:760: DataConversionWarning: A column-vector y was passed when a 1d array was expected. Please change the shape of y to (n_samples, ), for example using ravel().\n",
      "  y = column_or_1d(y, warn=True)\n"
     ]
    },
    {
     "name": "stdout",
     "output_type": "stream",
     "text": [
      "[CV] ........... C=1, degree=4, gamma=0.01, kernel=poly, total=   0.2s\n",
      "[CV] C=1, degree=4, gamma=0.01, kernel=sigmoid .......................\n",
      "[CV] ........ C=1, degree=4, gamma=0.01, kernel=sigmoid, total=   0.1s\n",
      "[CV] C=1, degree=4, gamma=0.01, kernel=sigmoid .......................\n"
     ]
    },
    {
     "name": "stderr",
     "output_type": "stream",
     "text": [
      "C:\\Users\\laure\\Anaconda3\\envs\\myenv\\lib\\site-packages\\sklearn\\utils\\validation.py:760: DataConversionWarning: A column-vector y was passed when a 1d array was expected. Please change the shape of y to (n_samples, ), for example using ravel().\n",
      "  y = column_or_1d(y, warn=True)\n",
      "C:\\Users\\laure\\Anaconda3\\envs\\myenv\\lib\\site-packages\\sklearn\\utils\\validation.py:760: DataConversionWarning: A column-vector y was passed when a 1d array was expected. Please change the shape of y to (n_samples, ), for example using ravel().\n",
      "  y = column_or_1d(y, warn=True)\n"
     ]
    },
    {
     "name": "stdout",
     "output_type": "stream",
     "text": [
      "[CV] ........ C=1, degree=4, gamma=0.01, kernel=sigmoid, total=   0.1s\n",
      "[CV] C=1, degree=4, gamma=0.01, kernel=sigmoid .......................\n",
      "[CV] ........ C=1, degree=4, gamma=0.01, kernel=sigmoid, total=   0.1s\n",
      "[CV] C=1, degree=4, gamma=0.01, kernel=sigmoid .......................\n"
     ]
    },
    {
     "name": "stderr",
     "output_type": "stream",
     "text": [
      "C:\\Users\\laure\\Anaconda3\\envs\\myenv\\lib\\site-packages\\sklearn\\utils\\validation.py:760: DataConversionWarning: A column-vector y was passed when a 1d array was expected. Please change the shape of y to (n_samples, ), for example using ravel().\n",
      "  y = column_or_1d(y, warn=True)\n",
      "C:\\Users\\laure\\Anaconda3\\envs\\myenv\\lib\\site-packages\\sklearn\\utils\\validation.py:760: DataConversionWarning: A column-vector y was passed when a 1d array was expected. Please change the shape of y to (n_samples, ), for example using ravel().\n",
      "  y = column_or_1d(y, warn=True)\n"
     ]
    },
    {
     "name": "stdout",
     "output_type": "stream",
     "text": [
      "[CV] ........ C=1, degree=4, gamma=0.01, kernel=sigmoid, total=   0.1s\n",
      "[CV] C=1, degree=4, gamma=0.01, kernel=sigmoid .......................\n",
      "[CV] ........ C=1, degree=4, gamma=0.01, kernel=sigmoid, total=   0.1s\n",
      "[CV] C=1, degree=4, gamma=0.001, kernel=linear .......................\n",
      "[CV] ........ C=1, degree=4, gamma=0.001, kernel=linear, total=   0.0s\n",
      "[CV] C=1, degree=4, gamma=0.001, kernel=linear .......................\n",
      "[CV] ........ C=1, degree=4, gamma=0.001, kernel=linear, total=   0.0s\n",
      "[CV] C=1, degree=4, gamma=0.001, kernel=linear .......................\n",
      "[CV] ........ C=1, degree=4, gamma=0.001, kernel=linear, total=   0.0s\n",
      "[CV] C=1, degree=4, gamma=0.001, kernel=linear .......................\n",
      "[CV] ........ C=1, degree=4, gamma=0.001, kernel=linear, total=   0.0s\n",
      "[CV] C=1, degree=4, gamma=0.001, kernel=linear .......................\n",
      "[CV] ........ C=1, degree=4, gamma=0.001, kernel=linear, total=   0.0s\n",
      "[CV] C=1, degree=4, gamma=0.001, kernel=rbf ..........................\n"
     ]
    },
    {
     "name": "stderr",
     "output_type": "stream",
     "text": [
      "C:\\Users\\laure\\Anaconda3\\envs\\myenv\\lib\\site-packages\\sklearn\\utils\\validation.py:760: DataConversionWarning: A column-vector y was passed when a 1d array was expected. Please change the shape of y to (n_samples, ), for example using ravel().\n",
      "  y = column_or_1d(y, warn=True)\n",
      "C:\\Users\\laure\\Anaconda3\\envs\\myenv\\lib\\site-packages\\sklearn\\utils\\validation.py:760: DataConversionWarning: A column-vector y was passed when a 1d array was expected. Please change the shape of y to (n_samples, ), for example using ravel().\n",
      "  y = column_or_1d(y, warn=True)\n",
      "C:\\Users\\laure\\Anaconda3\\envs\\myenv\\lib\\site-packages\\sklearn\\utils\\validation.py:760: DataConversionWarning: A column-vector y was passed when a 1d array was expected. Please change the shape of y to (n_samples, ), for example using ravel().\n",
      "  y = column_or_1d(y, warn=True)\n",
      "C:\\Users\\laure\\Anaconda3\\envs\\myenv\\lib\\site-packages\\sklearn\\utils\\validation.py:760: DataConversionWarning: A column-vector y was passed when a 1d array was expected. Please change the shape of y to (n_samples, ), for example using ravel().\n",
      "  y = column_or_1d(y, warn=True)\n",
      "C:\\Users\\laure\\Anaconda3\\envs\\myenv\\lib\\site-packages\\sklearn\\utils\\validation.py:760: DataConversionWarning: A column-vector y was passed when a 1d array was expected. Please change the shape of y to (n_samples, ), for example using ravel().\n",
      "  y = column_or_1d(y, warn=True)\n",
      "C:\\Users\\laure\\Anaconda3\\envs\\myenv\\lib\\site-packages\\sklearn\\utils\\validation.py:760: DataConversionWarning: A column-vector y was passed when a 1d array was expected. Please change the shape of y to (n_samples, ), for example using ravel().\n",
      "  y = column_or_1d(y, warn=True)\n",
      "C:\\Users\\laure\\Anaconda3\\envs\\myenv\\lib\\site-packages\\sklearn\\utils\\validation.py:760: DataConversionWarning: A column-vector y was passed when a 1d array was expected. Please change the shape of y to (n_samples, ), for example using ravel().\n",
      "  y = column_or_1d(y, warn=True)\n"
     ]
    },
    {
     "name": "stdout",
     "output_type": "stream",
     "text": [
      "[CV] ........... C=1, degree=4, gamma=0.001, kernel=rbf, total=   0.3s\n",
      "[CV] C=1, degree=4, gamma=0.001, kernel=rbf ..........................\n"
     ]
    },
    {
     "name": "stderr",
     "output_type": "stream",
     "text": [
      "C:\\Users\\laure\\Anaconda3\\envs\\myenv\\lib\\site-packages\\sklearn\\utils\\validation.py:760: DataConversionWarning: A column-vector y was passed when a 1d array was expected. Please change the shape of y to (n_samples, ), for example using ravel().\n",
      "  y = column_or_1d(y, warn=True)\n"
     ]
    },
    {
     "name": "stdout",
     "output_type": "stream",
     "text": [
      "[CV] ........... C=1, degree=4, gamma=0.001, kernel=rbf, total=   0.2s\n",
      "[CV] C=1, degree=4, gamma=0.001, kernel=rbf ..........................\n"
     ]
    },
    {
     "name": "stderr",
     "output_type": "stream",
     "text": [
      "C:\\Users\\laure\\Anaconda3\\envs\\myenv\\lib\\site-packages\\sklearn\\utils\\validation.py:760: DataConversionWarning: A column-vector y was passed when a 1d array was expected. Please change the shape of y to (n_samples, ), for example using ravel().\n",
      "  y = column_or_1d(y, warn=True)\n"
     ]
    },
    {
     "name": "stdout",
     "output_type": "stream",
     "text": [
      "[CV] ........... C=1, degree=4, gamma=0.001, kernel=rbf, total=   0.2s\n",
      "[CV] C=1, degree=4, gamma=0.001, kernel=rbf ..........................\n"
     ]
    },
    {
     "name": "stderr",
     "output_type": "stream",
     "text": [
      "C:\\Users\\laure\\Anaconda3\\envs\\myenv\\lib\\site-packages\\sklearn\\utils\\validation.py:760: DataConversionWarning: A column-vector y was passed when a 1d array was expected. Please change the shape of y to (n_samples, ), for example using ravel().\n",
      "  y = column_or_1d(y, warn=True)\n"
     ]
    },
    {
     "name": "stdout",
     "output_type": "stream",
     "text": [
      "[CV] ........... C=1, degree=4, gamma=0.001, kernel=rbf, total=   0.3s\n",
      "[CV] C=1, degree=4, gamma=0.001, kernel=rbf ..........................\n"
     ]
    },
    {
     "name": "stderr",
     "output_type": "stream",
     "text": [
      "C:\\Users\\laure\\Anaconda3\\envs\\myenv\\lib\\site-packages\\sklearn\\utils\\validation.py:760: DataConversionWarning: A column-vector y was passed when a 1d array was expected. Please change the shape of y to (n_samples, ), for example using ravel().\n",
      "  y = column_or_1d(y, warn=True)\n"
     ]
    },
    {
     "name": "stdout",
     "output_type": "stream",
     "text": [
      "[CV] ........... C=1, degree=4, gamma=0.001, kernel=rbf, total=   0.3s\n",
      "[CV] C=1, degree=4, gamma=0.001, kernel=poly .........................\n",
      "[CV] .......... C=1, degree=4, gamma=0.001, kernel=poly, total=   0.2s\n",
      "[CV] C=1, degree=4, gamma=0.001, kernel=poly .........................\n"
     ]
    },
    {
     "name": "stderr",
     "output_type": "stream",
     "text": [
      "C:\\Users\\laure\\Anaconda3\\envs\\myenv\\lib\\site-packages\\sklearn\\utils\\validation.py:760: DataConversionWarning: A column-vector y was passed when a 1d array was expected. Please change the shape of y to (n_samples, ), for example using ravel().\n",
      "  y = column_or_1d(y, warn=True)\n",
      "C:\\Users\\laure\\Anaconda3\\envs\\myenv\\lib\\site-packages\\sklearn\\utils\\validation.py:760: DataConversionWarning: A column-vector y was passed when a 1d array was expected. Please change the shape of y to (n_samples, ), for example using ravel().\n",
      "  y = column_or_1d(y, warn=True)\n"
     ]
    },
    {
     "name": "stdout",
     "output_type": "stream",
     "text": [
      "[CV] .......... C=1, degree=4, gamma=0.001, kernel=poly, total=   0.2s\n",
      "[CV] C=1, degree=4, gamma=0.001, kernel=poly .........................\n",
      "[CV] .......... C=1, degree=4, gamma=0.001, kernel=poly, total=   0.2s\n",
      "[CV] C=1, degree=4, gamma=0.001, kernel=poly .........................\n"
     ]
    },
    {
     "name": "stderr",
     "output_type": "stream",
     "text": [
      "C:\\Users\\laure\\Anaconda3\\envs\\myenv\\lib\\site-packages\\sklearn\\utils\\validation.py:760: DataConversionWarning: A column-vector y was passed when a 1d array was expected. Please change the shape of y to (n_samples, ), for example using ravel().\n",
      "  y = column_or_1d(y, warn=True)\n",
      "C:\\Users\\laure\\Anaconda3\\envs\\myenv\\lib\\site-packages\\sklearn\\utils\\validation.py:760: DataConversionWarning: A column-vector y was passed when a 1d array was expected. Please change the shape of y to (n_samples, ), for example using ravel().\n",
      "  y = column_or_1d(y, warn=True)\n"
     ]
    },
    {
     "name": "stdout",
     "output_type": "stream",
     "text": [
      "[CV] .......... C=1, degree=4, gamma=0.001, kernel=poly, total=   0.2s\n",
      "[CV] C=1, degree=4, gamma=0.001, kernel=poly .........................\n",
      "[CV] .......... C=1, degree=4, gamma=0.001, kernel=poly, total=   0.2s\n",
      "[CV] C=1, degree=4, gamma=0.001, kernel=sigmoid ......................\n"
     ]
    },
    {
     "name": "stderr",
     "output_type": "stream",
     "text": [
      "C:\\Users\\laure\\Anaconda3\\envs\\myenv\\lib\\site-packages\\sklearn\\utils\\validation.py:760: DataConversionWarning: A column-vector y was passed when a 1d array was expected. Please change the shape of y to (n_samples, ), for example using ravel().\n",
      "  y = column_or_1d(y, warn=True)\n",
      "C:\\Users\\laure\\Anaconda3\\envs\\myenv\\lib\\site-packages\\sklearn\\utils\\validation.py:760: DataConversionWarning: A column-vector y was passed when a 1d array was expected. Please change the shape of y to (n_samples, ), for example using ravel().\n",
      "  y = column_or_1d(y, warn=True)\n"
     ]
    },
    {
     "name": "stdout",
     "output_type": "stream",
     "text": [
      "[CV] ....... C=1, degree=4, gamma=0.001, kernel=sigmoid, total=   0.3s\n",
      "[CV] C=1, degree=4, gamma=0.001, kernel=sigmoid ......................\n"
     ]
    },
    {
     "name": "stderr",
     "output_type": "stream",
     "text": [
      "C:\\Users\\laure\\Anaconda3\\envs\\myenv\\lib\\site-packages\\sklearn\\utils\\validation.py:760: DataConversionWarning: A column-vector y was passed when a 1d array was expected. Please change the shape of y to (n_samples, ), for example using ravel().\n",
      "  y = column_or_1d(y, warn=True)\n"
     ]
    },
    {
     "name": "stdout",
     "output_type": "stream",
     "text": [
      "[CV] ....... C=1, degree=4, gamma=0.001, kernel=sigmoid, total=   0.3s\n",
      "[CV] C=1, degree=4, gamma=0.001, kernel=sigmoid ......................\n"
     ]
    },
    {
     "name": "stderr",
     "output_type": "stream",
     "text": [
      "C:\\Users\\laure\\Anaconda3\\envs\\myenv\\lib\\site-packages\\sklearn\\utils\\validation.py:760: DataConversionWarning: A column-vector y was passed when a 1d array was expected. Please change the shape of y to (n_samples, ), for example using ravel().\n",
      "  y = column_or_1d(y, warn=True)\n"
     ]
    },
    {
     "name": "stdout",
     "output_type": "stream",
     "text": [
      "[CV] ....... C=1, degree=4, gamma=0.001, kernel=sigmoid, total=   0.3s\n",
      "[CV] C=1, degree=4, gamma=0.001, kernel=sigmoid ......................\n"
     ]
    },
    {
     "name": "stderr",
     "output_type": "stream",
     "text": [
      "C:\\Users\\laure\\Anaconda3\\envs\\myenv\\lib\\site-packages\\sklearn\\utils\\validation.py:760: DataConversionWarning: A column-vector y was passed when a 1d array was expected. Please change the shape of y to (n_samples, ), for example using ravel().\n",
      "  y = column_or_1d(y, warn=True)\n"
     ]
    },
    {
     "name": "stdout",
     "output_type": "stream",
     "text": [
      "[CV] ....... C=1, degree=4, gamma=0.001, kernel=sigmoid, total=   0.3s\n",
      "[CV] C=1, degree=4, gamma=0.001, kernel=sigmoid ......................\n"
     ]
    },
    {
     "name": "stderr",
     "output_type": "stream",
     "text": [
      "C:\\Users\\laure\\Anaconda3\\envs\\myenv\\lib\\site-packages\\sklearn\\utils\\validation.py:760: DataConversionWarning: A column-vector y was passed when a 1d array was expected. Please change the shape of y to (n_samples, ), for example using ravel().\n",
      "  y = column_or_1d(y, warn=True)\n"
     ]
    },
    {
     "name": "stdout",
     "output_type": "stream",
     "text": [
      "[CV] ....... C=1, degree=4, gamma=0.001, kernel=sigmoid, total=   0.3s\n",
      "[CV] C=1, degree=5, gamma=1, kernel=linear ...........................\n",
      "[CV] ............ C=1, degree=5, gamma=1, kernel=linear, total=   0.0s\n",
      "[CV] C=1, degree=5, gamma=1, kernel=linear ...........................\n",
      "[CV] ............ C=1, degree=5, gamma=1, kernel=linear, total=   0.0s\n",
      "[CV] C=1, degree=5, gamma=1, kernel=linear ...........................\n",
      "[CV] ............ C=1, degree=5, gamma=1, kernel=linear, total=   0.0s\n",
      "[CV] C=1, degree=5, gamma=1, kernel=linear ...........................\n",
      "[CV] ............ C=1, degree=5, gamma=1, kernel=linear, total=   0.0s\n",
      "[CV] C=1, degree=5, gamma=1, kernel=linear ...........................\n",
      "[CV] ............ C=1, degree=5, gamma=1, kernel=linear, total=   0.0s\n",
      "[CV] C=1, degree=5, gamma=1, kernel=rbf ..............................\n",
      "[CV] ............... C=1, degree=5, gamma=1, kernel=rbf, total=   0.0s\n",
      "[CV] C=1, degree=5, gamma=1, kernel=rbf ..............................\n",
      "[CV] ............... C=1, degree=5, gamma=1, kernel=rbf, total=   0.0s\n",
      "[CV] C=1, degree=5, gamma=1, kernel=rbf ..............................\n",
      "[CV] ............... C=1, degree=5, gamma=1, kernel=rbf, total=   0.0s\n",
      "[CV] C=1, degree=5, gamma=1, kernel=rbf ..............................\n",
      "[CV] ............... C=1, degree=5, gamma=1, kernel=rbf, total=   0.0s\n",
      "[CV] C=1, degree=5, gamma=1, kernel=rbf ..............................\n",
      "[CV] ............... C=1, degree=5, gamma=1, kernel=rbf, total=   0.0s\n",
      "[CV] C=1, degree=5, gamma=1, kernel=poly .............................\n",
      "[CV] .............. C=1, degree=5, gamma=1, kernel=poly, total=   0.0s\n",
      "[CV] C=1, degree=5, gamma=1, kernel=poly .............................\n",
      "[CV] .............. C=1, degree=5, gamma=1, kernel=poly, total=   0.0s\n",
      "[CV] C=1, degree=5, gamma=1, kernel=poly .............................\n",
      "[CV] .............. C=1, degree=5, gamma=1, kernel=poly, total=   0.0s\n",
      "[CV] C=1, degree=5, gamma=1, kernel=poly .............................\n",
      "[CV] .............. C=1, degree=5, gamma=1, kernel=poly, total=   0.0s\n",
      "[CV] C=1, degree=5, gamma=1, kernel=poly .............................\n"
     ]
    },
    {
     "name": "stderr",
     "output_type": "stream",
     "text": [
      "C:\\Users\\laure\\Anaconda3\\envs\\myenv\\lib\\site-packages\\sklearn\\utils\\validation.py:760: DataConversionWarning: A column-vector y was passed when a 1d array was expected. Please change the shape of y to (n_samples, ), for example using ravel().\n",
      "  y = column_or_1d(y, warn=True)\n",
      "C:\\Users\\laure\\Anaconda3\\envs\\myenv\\lib\\site-packages\\sklearn\\utils\\validation.py:760: DataConversionWarning: A column-vector y was passed when a 1d array was expected. Please change the shape of y to (n_samples, ), for example using ravel().\n",
      "  y = column_or_1d(y, warn=True)\n",
      "C:\\Users\\laure\\Anaconda3\\envs\\myenv\\lib\\site-packages\\sklearn\\utils\\validation.py:760: DataConversionWarning: A column-vector y was passed when a 1d array was expected. Please change the shape of y to (n_samples, ), for example using ravel().\n",
      "  y = column_or_1d(y, warn=True)\n",
      "C:\\Users\\laure\\Anaconda3\\envs\\myenv\\lib\\site-packages\\sklearn\\utils\\validation.py:760: DataConversionWarning: A column-vector y was passed when a 1d array was expected. Please change the shape of y to (n_samples, ), for example using ravel().\n",
      "  y = column_or_1d(y, warn=True)\n",
      "C:\\Users\\laure\\Anaconda3\\envs\\myenv\\lib\\site-packages\\sklearn\\utils\\validation.py:760: DataConversionWarning: A column-vector y was passed when a 1d array was expected. Please change the shape of y to (n_samples, ), for example using ravel().\n",
      "  y = column_or_1d(y, warn=True)\n",
      "C:\\Users\\laure\\Anaconda3\\envs\\myenv\\lib\\site-packages\\sklearn\\utils\\validation.py:760: DataConversionWarning: A column-vector y was passed when a 1d array was expected. Please change the shape of y to (n_samples, ), for example using ravel().\n",
      "  y = column_or_1d(y, warn=True)\n",
      "C:\\Users\\laure\\Anaconda3\\envs\\myenv\\lib\\site-packages\\sklearn\\utils\\validation.py:760: DataConversionWarning: A column-vector y was passed when a 1d array was expected. Please change the shape of y to (n_samples, ), for example using ravel().\n",
      "  y = column_or_1d(y, warn=True)\n",
      "C:\\Users\\laure\\Anaconda3\\envs\\myenv\\lib\\site-packages\\sklearn\\utils\\validation.py:760: DataConversionWarning: A column-vector y was passed when a 1d array was expected. Please change the shape of y to (n_samples, ), for example using ravel().\n",
      "  y = column_or_1d(y, warn=True)\n",
      "C:\\Users\\laure\\Anaconda3\\envs\\myenv\\lib\\site-packages\\sklearn\\utils\\validation.py:760: DataConversionWarning: A column-vector y was passed when a 1d array was expected. Please change the shape of y to (n_samples, ), for example using ravel().\n",
      "  y = column_or_1d(y, warn=True)\n",
      "C:\\Users\\laure\\Anaconda3\\envs\\myenv\\lib\\site-packages\\sklearn\\utils\\validation.py:760: DataConversionWarning: A column-vector y was passed when a 1d array was expected. Please change the shape of y to (n_samples, ), for example using ravel().\n",
      "  y = column_or_1d(y, warn=True)\n",
      "C:\\Users\\laure\\Anaconda3\\envs\\myenv\\lib\\site-packages\\sklearn\\utils\\validation.py:760: DataConversionWarning: A column-vector y was passed when a 1d array was expected. Please change the shape of y to (n_samples, ), for example using ravel().\n",
      "  y = column_or_1d(y, warn=True)\n",
      "C:\\Users\\laure\\Anaconda3\\envs\\myenv\\lib\\site-packages\\sklearn\\utils\\validation.py:760: DataConversionWarning: A column-vector y was passed when a 1d array was expected. Please change the shape of y to (n_samples, ), for example using ravel().\n",
      "  y = column_or_1d(y, warn=True)\n",
      "C:\\Users\\laure\\Anaconda3\\envs\\myenv\\lib\\site-packages\\sklearn\\utils\\validation.py:760: DataConversionWarning: A column-vector y was passed when a 1d array was expected. Please change the shape of y to (n_samples, ), for example using ravel().\n",
      "  y = column_or_1d(y, warn=True)\n",
      "C:\\Users\\laure\\Anaconda3\\envs\\myenv\\lib\\site-packages\\sklearn\\utils\\validation.py:760: DataConversionWarning: A column-vector y was passed when a 1d array was expected. Please change the shape of y to (n_samples, ), for example using ravel().\n",
      "  y = column_or_1d(y, warn=True)\n",
      "C:\\Users\\laure\\Anaconda3\\envs\\myenv\\lib\\site-packages\\sklearn\\utils\\validation.py:760: DataConversionWarning: A column-vector y was passed when a 1d array was expected. Please change the shape of y to (n_samples, ), for example using ravel().\n",
      "  y = column_or_1d(y, warn=True)\n",
      "C:\\Users\\laure\\Anaconda3\\envs\\myenv\\lib\\site-packages\\sklearn\\utils\\validation.py:760: DataConversionWarning: A column-vector y was passed when a 1d array was expected. Please change the shape of y to (n_samples, ), for example using ravel().\n",
      "  y = column_or_1d(y, warn=True)\n",
      "C:\\Users\\laure\\Anaconda3\\envs\\myenv\\lib\\site-packages\\sklearn\\utils\\validation.py:760: DataConversionWarning: A column-vector y was passed when a 1d array was expected. Please change the shape of y to (n_samples, ), for example using ravel().\n",
      "  y = column_or_1d(y, warn=True)\n",
      "C:\\Users\\laure\\Anaconda3\\envs\\myenv\\lib\\site-packages\\sklearn\\utils\\validation.py:760: DataConversionWarning: A column-vector y was passed when a 1d array was expected. Please change the shape of y to (n_samples, ), for example using ravel().\n",
      "  y = column_or_1d(y, warn=True)\n",
      "C:\\Users\\laure\\Anaconda3\\envs\\myenv\\lib\\site-packages\\sklearn\\utils\\validation.py:760: DataConversionWarning: A column-vector y was passed when a 1d array was expected. Please change the shape of y to (n_samples, ), for example using ravel().\n",
      "  y = column_or_1d(y, warn=True)\n",
      "C:\\Users\\laure\\Anaconda3\\envs\\myenv\\lib\\site-packages\\sklearn\\utils\\validation.py:760: DataConversionWarning: A column-vector y was passed when a 1d array was expected. Please change the shape of y to (n_samples, ), for example using ravel().\n",
      "  y = column_or_1d(y, warn=True)\n",
      "C:\\Users\\laure\\Anaconda3\\envs\\myenv\\lib\\site-packages\\sklearn\\utils\\validation.py:760: DataConversionWarning: A column-vector y was passed when a 1d array was expected. Please change the shape of y to (n_samples, ), for example using ravel().\n",
      "  y = column_or_1d(y, warn=True)\n",
      "C:\\Users\\laure\\Anaconda3\\envs\\myenv\\lib\\site-packages\\sklearn\\utils\\validation.py:760: DataConversionWarning: A column-vector y was passed when a 1d array was expected. Please change the shape of y to (n_samples, ), for example using ravel().\n",
      "  y = column_or_1d(y, warn=True)\n",
      "C:\\Users\\laure\\Anaconda3\\envs\\myenv\\lib\\site-packages\\sklearn\\utils\\validation.py:760: DataConversionWarning: A column-vector y was passed when a 1d array was expected. Please change the shape of y to (n_samples, ), for example using ravel().\n",
      "  y = column_or_1d(y, warn=True)\n",
      "C:\\Users\\laure\\Anaconda3\\envs\\myenv\\lib\\site-packages\\sklearn\\utils\\validation.py:760: DataConversionWarning: A column-vector y was passed when a 1d array was expected. Please change the shape of y to (n_samples, ), for example using ravel().\n",
      "  y = column_or_1d(y, warn=True)\n",
      "C:\\Users\\laure\\Anaconda3\\envs\\myenv\\lib\\site-packages\\sklearn\\utils\\validation.py:760: DataConversionWarning: A column-vector y was passed when a 1d array was expected. Please change the shape of y to (n_samples, ), for example using ravel().\n",
      "  y = column_or_1d(y, warn=True)\n",
      "C:\\Users\\laure\\Anaconda3\\envs\\myenv\\lib\\site-packages\\sklearn\\utils\\validation.py:760: DataConversionWarning: A column-vector y was passed when a 1d array was expected. Please change the shape of y to (n_samples, ), for example using ravel().\n",
      "  y = column_or_1d(y, warn=True)\n",
      "C:\\Users\\laure\\Anaconda3\\envs\\myenv\\lib\\site-packages\\sklearn\\utils\\validation.py:760: DataConversionWarning: A column-vector y was passed when a 1d array was expected. Please change the shape of y to (n_samples, ), for example using ravel().\n",
      "  y = column_or_1d(y, warn=True)\n"
     ]
    },
    {
     "name": "stdout",
     "output_type": "stream",
     "text": [
      "[CV] .............. C=1, degree=5, gamma=1, kernel=poly, total=   0.0s\n",
      "[CV] C=1, degree=5, gamma=1, kernel=sigmoid ..........................\n",
      "[CV] ........... C=1, degree=5, gamma=1, kernel=sigmoid, total=   0.0s\n",
      "[CV] C=1, degree=5, gamma=1, kernel=sigmoid ..........................\n",
      "[CV] ........... C=1, degree=5, gamma=1, kernel=sigmoid, total=   0.0s\n",
      "[CV] C=1, degree=5, gamma=1, kernel=sigmoid ..........................\n",
      "[CV] ........... C=1, degree=5, gamma=1, kernel=sigmoid, total=   0.0s\n",
      "[CV] C=1, degree=5, gamma=1, kernel=sigmoid ..........................\n",
      "[CV] ........... C=1, degree=5, gamma=1, kernel=sigmoid, total=   0.0s\n",
      "[CV] C=1, degree=5, gamma=1, kernel=sigmoid ..........................\n",
      "[CV] ........... C=1, degree=5, gamma=1, kernel=sigmoid, total=   0.0s\n",
      "[CV] C=1, degree=5, gamma=0.1, kernel=linear .........................\n",
      "[CV] .......... C=1, degree=5, gamma=0.1, kernel=linear, total=   0.0s\n",
      "[CV] C=1, degree=5, gamma=0.1, kernel=linear .........................\n",
      "[CV] .......... C=1, degree=5, gamma=0.1, kernel=linear, total=   0.0s\n",
      "[CV] C=1, degree=5, gamma=0.1, kernel=linear .........................\n",
      "[CV] .......... C=1, degree=5, gamma=0.1, kernel=linear, total=   0.0s\n",
      "[CV] C=1, degree=5, gamma=0.1, kernel=linear .........................\n",
      "[CV] .......... C=1, degree=5, gamma=0.1, kernel=linear, total=   0.0s\n",
      "[CV] C=1, degree=5, gamma=0.1, kernel=linear .........................\n",
      "[CV] .......... C=1, degree=5, gamma=0.1, kernel=linear, total=   0.0s\n",
      "[CV] C=1, degree=5, gamma=0.1, kernel=rbf ............................\n",
      "[CV] ............. C=1, degree=5, gamma=0.1, kernel=rbf, total=   0.0s\n",
      "[CV] C=1, degree=5, gamma=0.1, kernel=rbf ............................\n",
      "[CV] ............. C=1, degree=5, gamma=0.1, kernel=rbf, total=   0.0s\n",
      "[CV] C=1, degree=5, gamma=0.1, kernel=rbf ............................\n",
      "[CV] ............. C=1, degree=5, gamma=0.1, kernel=rbf, total=   0.0s\n",
      "[CV] C=1, degree=5, gamma=0.1, kernel=rbf ............................\n"
     ]
    },
    {
     "name": "stderr",
     "output_type": "stream",
     "text": [
      "C:\\Users\\laure\\Anaconda3\\envs\\myenv\\lib\\site-packages\\sklearn\\utils\\validation.py:760: DataConversionWarning: A column-vector y was passed when a 1d array was expected. Please change the shape of y to (n_samples, ), for example using ravel().\n",
      "  y = column_or_1d(y, warn=True)\n",
      "C:\\Users\\laure\\Anaconda3\\envs\\myenv\\lib\\site-packages\\sklearn\\utils\\validation.py:760: DataConversionWarning: A column-vector y was passed when a 1d array was expected. Please change the shape of y to (n_samples, ), for example using ravel().\n",
      "  y = column_or_1d(y, warn=True)\n",
      "C:\\Users\\laure\\Anaconda3\\envs\\myenv\\lib\\site-packages\\sklearn\\utils\\validation.py:760: DataConversionWarning: A column-vector y was passed when a 1d array was expected. Please change the shape of y to (n_samples, ), for example using ravel().\n",
      "  y = column_or_1d(y, warn=True)\n",
      "C:\\Users\\laure\\Anaconda3\\envs\\myenv\\lib\\site-packages\\sklearn\\utils\\validation.py:760: DataConversionWarning: A column-vector y was passed when a 1d array was expected. Please change the shape of y to (n_samples, ), for example using ravel().\n",
      "  y = column_or_1d(y, warn=True)\n"
     ]
    },
    {
     "name": "stdout",
     "output_type": "stream",
     "text": [
      "[CV] ............. C=1, degree=5, gamma=0.1, kernel=rbf, total=   0.0s\n",
      "[CV] C=1, degree=5, gamma=0.1, kernel=rbf ............................\n",
      "[CV] ............. C=1, degree=5, gamma=0.1, kernel=rbf, total=   0.0s\n",
      "[CV] C=1, degree=5, gamma=0.1, kernel=poly ...........................\n",
      "[CV] ............ C=1, degree=5, gamma=0.1, kernel=poly, total=   0.2s\n",
      "[CV] C=1, degree=5, gamma=0.1, kernel=poly ...........................\n"
     ]
    },
    {
     "name": "stderr",
     "output_type": "stream",
     "text": [
      "C:\\Users\\laure\\Anaconda3\\envs\\myenv\\lib\\site-packages\\sklearn\\utils\\validation.py:760: DataConversionWarning: A column-vector y was passed when a 1d array was expected. Please change the shape of y to (n_samples, ), for example using ravel().\n",
      "  y = column_or_1d(y, warn=True)\n",
      "C:\\Users\\laure\\Anaconda3\\envs\\myenv\\lib\\site-packages\\sklearn\\utils\\validation.py:760: DataConversionWarning: A column-vector y was passed when a 1d array was expected. Please change the shape of y to (n_samples, ), for example using ravel().\n",
      "  y = column_or_1d(y, warn=True)\n"
     ]
    },
    {
     "name": "stdout",
     "output_type": "stream",
     "text": [
      "[CV] ............ C=1, degree=5, gamma=0.1, kernel=poly, total=   0.2s\n",
      "[CV] C=1, degree=5, gamma=0.1, kernel=poly ...........................\n",
      "[CV] ............ C=1, degree=5, gamma=0.1, kernel=poly, total=   0.2s\n",
      "[CV] C=1, degree=5, gamma=0.1, kernel=poly ...........................\n"
     ]
    },
    {
     "name": "stderr",
     "output_type": "stream",
     "text": [
      "C:\\Users\\laure\\Anaconda3\\envs\\myenv\\lib\\site-packages\\sklearn\\utils\\validation.py:760: DataConversionWarning: A column-vector y was passed when a 1d array was expected. Please change the shape of y to (n_samples, ), for example using ravel().\n",
      "  y = column_or_1d(y, warn=True)\n",
      "C:\\Users\\laure\\Anaconda3\\envs\\myenv\\lib\\site-packages\\sklearn\\utils\\validation.py:760: DataConversionWarning: A column-vector y was passed when a 1d array was expected. Please change the shape of y to (n_samples, ), for example using ravel().\n",
      "  y = column_or_1d(y, warn=True)\n"
     ]
    },
    {
     "name": "stdout",
     "output_type": "stream",
     "text": [
      "[CV] ............ C=1, degree=5, gamma=0.1, kernel=poly, total=   0.2s\n",
      "[CV] C=1, degree=5, gamma=0.1, kernel=poly ...........................\n",
      "[CV] ............ C=1, degree=5, gamma=0.1, kernel=poly, total=   0.2s\n",
      "[CV] C=1, degree=5, gamma=0.1, kernel=sigmoid ........................\n",
      "[CV] ......... C=1, degree=5, gamma=0.1, kernel=sigmoid, total=   0.0s\n",
      "[CV] C=1, degree=5, gamma=0.1, kernel=sigmoid ........................\n"
     ]
    },
    {
     "name": "stderr",
     "output_type": "stream",
     "text": [
      "C:\\Users\\laure\\Anaconda3\\envs\\myenv\\lib\\site-packages\\sklearn\\utils\\validation.py:760: DataConversionWarning: A column-vector y was passed when a 1d array was expected. Please change the shape of y to (n_samples, ), for example using ravel().\n",
      "  y = column_or_1d(y, warn=True)\n",
      "C:\\Users\\laure\\Anaconda3\\envs\\myenv\\lib\\site-packages\\sklearn\\utils\\validation.py:760: DataConversionWarning: A column-vector y was passed when a 1d array was expected. Please change the shape of y to (n_samples, ), for example using ravel().\n",
      "  y = column_or_1d(y, warn=True)\n",
      "C:\\Users\\laure\\Anaconda3\\envs\\myenv\\lib\\site-packages\\sklearn\\utils\\validation.py:760: DataConversionWarning: A column-vector y was passed when a 1d array was expected. Please change the shape of y to (n_samples, ), for example using ravel().\n",
      "  y = column_or_1d(y, warn=True)\n",
      "C:\\Users\\laure\\Anaconda3\\envs\\myenv\\lib\\site-packages\\sklearn\\utils\\validation.py:760: DataConversionWarning: A column-vector y was passed when a 1d array was expected. Please change the shape of y to (n_samples, ), for example using ravel().\n",
      "  y = column_or_1d(y, warn=True)\n",
      "C:\\Users\\laure\\Anaconda3\\envs\\myenv\\lib\\site-packages\\sklearn\\utils\\validation.py:760: DataConversionWarning: A column-vector y was passed when a 1d array was expected. Please change the shape of y to (n_samples, ), for example using ravel().\n",
      "  y = column_or_1d(y, warn=True)\n",
      "C:\\Users\\laure\\Anaconda3\\envs\\myenv\\lib\\site-packages\\sklearn\\utils\\validation.py:760: DataConversionWarning: A column-vector y was passed when a 1d array was expected. Please change the shape of y to (n_samples, ), for example using ravel().\n",
      "  y = column_or_1d(y, warn=True)\n"
     ]
    },
    {
     "name": "stdout",
     "output_type": "stream",
     "text": [
      "[CV] ......... C=1, degree=5, gamma=0.1, kernel=sigmoid, total=   0.0s\n",
      "[CV] C=1, degree=5, gamma=0.1, kernel=sigmoid ........................\n",
      "[CV] ......... C=1, degree=5, gamma=0.1, kernel=sigmoid, total=   0.0s\n",
      "[CV] C=1, degree=5, gamma=0.1, kernel=sigmoid ........................\n",
      "[CV] ......... C=1, degree=5, gamma=0.1, kernel=sigmoid, total=   0.0s\n",
      "[CV] C=1, degree=5, gamma=0.1, kernel=sigmoid ........................\n",
      "[CV] ......... C=1, degree=5, gamma=0.1, kernel=sigmoid, total=   0.0s\n",
      "[CV] C=1, degree=5, gamma=0.01, kernel=linear ........................\n",
      "[CV] ......... C=1, degree=5, gamma=0.01, kernel=linear, total=   0.0s\n",
      "[CV] C=1, degree=5, gamma=0.01, kernel=linear ........................\n",
      "[CV] ......... C=1, degree=5, gamma=0.01, kernel=linear, total=   0.0s\n",
      "[CV] C=1, degree=5, gamma=0.01, kernel=linear ........................\n",
      "[CV] ......... C=1, degree=5, gamma=0.01, kernel=linear, total=   0.0s\n",
      "[CV] C=1, degree=5, gamma=0.01, kernel=linear ........................\n",
      "[CV] ......... C=1, degree=5, gamma=0.01, kernel=linear, total=   0.0s\n",
      "[CV] C=1, degree=5, gamma=0.01, kernel=linear ........................\n",
      "[CV] ......... C=1, degree=5, gamma=0.01, kernel=linear, total=   0.0s\n",
      "[CV] C=1, degree=5, gamma=0.01, kernel=rbf ...........................\n"
     ]
    },
    {
     "name": "stderr",
     "output_type": "stream",
     "text": [
      "C:\\Users\\laure\\Anaconda3\\envs\\myenv\\lib\\site-packages\\sklearn\\utils\\validation.py:760: DataConversionWarning: A column-vector y was passed when a 1d array was expected. Please change the shape of y to (n_samples, ), for example using ravel().\n",
      "  y = column_or_1d(y, warn=True)\n",
      "C:\\Users\\laure\\Anaconda3\\envs\\myenv\\lib\\site-packages\\sklearn\\utils\\validation.py:760: DataConversionWarning: A column-vector y was passed when a 1d array was expected. Please change the shape of y to (n_samples, ), for example using ravel().\n",
      "  y = column_or_1d(y, warn=True)\n",
      "C:\\Users\\laure\\Anaconda3\\envs\\myenv\\lib\\site-packages\\sklearn\\utils\\validation.py:760: DataConversionWarning: A column-vector y was passed when a 1d array was expected. Please change the shape of y to (n_samples, ), for example using ravel().\n",
      "  y = column_or_1d(y, warn=True)\n",
      "C:\\Users\\laure\\Anaconda3\\envs\\myenv\\lib\\site-packages\\sklearn\\utils\\validation.py:760: DataConversionWarning: A column-vector y was passed when a 1d array was expected. Please change the shape of y to (n_samples, ), for example using ravel().\n",
      "  y = column_or_1d(y, warn=True)\n",
      "C:\\Users\\laure\\Anaconda3\\envs\\myenv\\lib\\site-packages\\sklearn\\utils\\validation.py:760: DataConversionWarning: A column-vector y was passed when a 1d array was expected. Please change the shape of y to (n_samples, ), for example using ravel().\n",
      "  y = column_or_1d(y, warn=True)\n",
      "C:\\Users\\laure\\Anaconda3\\envs\\myenv\\lib\\site-packages\\sklearn\\utils\\validation.py:760: DataConversionWarning: A column-vector y was passed when a 1d array was expected. Please change the shape of y to (n_samples, ), for example using ravel().\n",
      "  y = column_or_1d(y, warn=True)\n",
      "C:\\Users\\laure\\Anaconda3\\envs\\myenv\\lib\\site-packages\\sklearn\\utils\\validation.py:760: DataConversionWarning: A column-vector y was passed when a 1d array was expected. Please change the shape of y to (n_samples, ), for example using ravel().\n",
      "  y = column_or_1d(y, warn=True)\n"
     ]
    },
    {
     "name": "stdout",
     "output_type": "stream",
     "text": [
      "[CV] ............ C=1, degree=5, gamma=0.01, kernel=rbf, total=   0.1s\n",
      "[CV] C=1, degree=5, gamma=0.01, kernel=rbf ...........................\n",
      "[CV] ............ C=1, degree=5, gamma=0.01, kernel=rbf, total=   0.1s\n",
      "[CV] C=1, degree=5, gamma=0.01, kernel=rbf ...........................\n",
      "[CV] ............ C=1, degree=5, gamma=0.01, kernel=rbf, total=   0.1s\n",
      "[CV] C=1, degree=5, gamma=0.01, kernel=rbf ...........................\n"
     ]
    },
    {
     "name": "stderr",
     "output_type": "stream",
     "text": [
      "C:\\Users\\laure\\Anaconda3\\envs\\myenv\\lib\\site-packages\\sklearn\\utils\\validation.py:760: DataConversionWarning: A column-vector y was passed when a 1d array was expected. Please change the shape of y to (n_samples, ), for example using ravel().\n",
      "  y = column_or_1d(y, warn=True)\n",
      "C:\\Users\\laure\\Anaconda3\\envs\\myenv\\lib\\site-packages\\sklearn\\utils\\validation.py:760: DataConversionWarning: A column-vector y was passed when a 1d array was expected. Please change the shape of y to (n_samples, ), for example using ravel().\n",
      "  y = column_or_1d(y, warn=True)\n",
      "C:\\Users\\laure\\Anaconda3\\envs\\myenv\\lib\\site-packages\\sklearn\\utils\\validation.py:760: DataConversionWarning: A column-vector y was passed when a 1d array was expected. Please change the shape of y to (n_samples, ), for example using ravel().\n",
      "  y = column_or_1d(y, warn=True)\n"
     ]
    },
    {
     "name": "stdout",
     "output_type": "stream",
     "text": [
      "[CV] ............ C=1, degree=5, gamma=0.01, kernel=rbf, total=   0.1s\n",
      "[CV] C=1, degree=5, gamma=0.01, kernel=rbf ...........................\n",
      "[CV] ............ C=1, degree=5, gamma=0.01, kernel=rbf, total=   0.1s\n",
      "[CV] C=1, degree=5, gamma=0.01, kernel=poly ..........................\n",
      "[CV] ........... C=1, degree=5, gamma=0.01, kernel=poly, total=   0.2s\n",
      "[CV] C=1, degree=5, gamma=0.01, kernel=poly ..........................\n",
      "[CV] ........... C=1, degree=5, gamma=0.01, kernel=poly, total=   0.2s\n",
      "[CV] C=1, degree=5, gamma=0.01, kernel=poly ..........................\n"
     ]
    },
    {
     "name": "stderr",
     "output_type": "stream",
     "text": [
      "C:\\Users\\laure\\Anaconda3\\envs\\myenv\\lib\\site-packages\\sklearn\\utils\\validation.py:760: DataConversionWarning: A column-vector y was passed when a 1d array was expected. Please change the shape of y to (n_samples, ), for example using ravel().\n",
      "  y = column_or_1d(y, warn=True)\n",
      "C:\\Users\\laure\\Anaconda3\\envs\\myenv\\lib\\site-packages\\sklearn\\utils\\validation.py:760: DataConversionWarning: A column-vector y was passed when a 1d array was expected. Please change the shape of y to (n_samples, ), for example using ravel().\n",
      "  y = column_or_1d(y, warn=True)\n"
     ]
    },
    {
     "name": "stdout",
     "output_type": "stream",
     "text": [
      "[CV] ........... C=1, degree=5, gamma=0.01, kernel=poly, total=   0.2s\n",
      "[CV] C=1, degree=5, gamma=0.01, kernel=poly ..........................\n",
      "[CV] ........... C=1, degree=5, gamma=0.01, kernel=poly, total=   0.2s\n",
      "[CV] C=1, degree=5, gamma=0.01, kernel=poly ..........................\n"
     ]
    },
    {
     "name": "stderr",
     "output_type": "stream",
     "text": [
      "C:\\Users\\laure\\Anaconda3\\envs\\myenv\\lib\\site-packages\\sklearn\\utils\\validation.py:760: DataConversionWarning: A column-vector y was passed when a 1d array was expected. Please change the shape of y to (n_samples, ), for example using ravel().\n",
      "  y = column_or_1d(y, warn=True)\n",
      "C:\\Users\\laure\\Anaconda3\\envs\\myenv\\lib\\site-packages\\sklearn\\utils\\validation.py:760: DataConversionWarning: A column-vector y was passed when a 1d array was expected. Please change the shape of y to (n_samples, ), for example using ravel().\n",
      "  y = column_or_1d(y, warn=True)\n"
     ]
    },
    {
     "name": "stdout",
     "output_type": "stream",
     "text": [
      "[CV] ........... C=1, degree=5, gamma=0.01, kernel=poly, total=   0.2s\n",
      "[CV] C=1, degree=5, gamma=0.01, kernel=sigmoid .......................\n",
      "[CV] ........ C=1, degree=5, gamma=0.01, kernel=sigmoid, total=   0.1s\n",
      "[CV] C=1, degree=5, gamma=0.01, kernel=sigmoid .......................\n"
     ]
    },
    {
     "name": "stderr",
     "output_type": "stream",
     "text": [
      "C:\\Users\\laure\\Anaconda3\\envs\\myenv\\lib\\site-packages\\sklearn\\utils\\validation.py:760: DataConversionWarning: A column-vector y was passed when a 1d array was expected. Please change the shape of y to (n_samples, ), for example using ravel().\n",
      "  y = column_or_1d(y, warn=True)\n",
      "C:\\Users\\laure\\Anaconda3\\envs\\myenv\\lib\\site-packages\\sklearn\\utils\\validation.py:760: DataConversionWarning: A column-vector y was passed when a 1d array was expected. Please change the shape of y to (n_samples, ), for example using ravel().\n",
      "  y = column_or_1d(y, warn=True)\n"
     ]
    },
    {
     "name": "stdout",
     "output_type": "stream",
     "text": [
      "[CV] ........ C=1, degree=5, gamma=0.01, kernel=sigmoid, total=   0.1s\n",
      "[CV] C=1, degree=5, gamma=0.01, kernel=sigmoid .......................\n",
      "[CV] ........ C=1, degree=5, gamma=0.01, kernel=sigmoid, total=   0.1s\n",
      "[CV] C=1, degree=5, gamma=0.01, kernel=sigmoid .......................\n"
     ]
    },
    {
     "name": "stderr",
     "output_type": "stream",
     "text": [
      "C:\\Users\\laure\\Anaconda3\\envs\\myenv\\lib\\site-packages\\sklearn\\utils\\validation.py:760: DataConversionWarning: A column-vector y was passed when a 1d array was expected. Please change the shape of y to (n_samples, ), for example using ravel().\n",
      "  y = column_or_1d(y, warn=True)\n",
      "C:\\Users\\laure\\Anaconda3\\envs\\myenv\\lib\\site-packages\\sklearn\\utils\\validation.py:760: DataConversionWarning: A column-vector y was passed when a 1d array was expected. Please change the shape of y to (n_samples, ), for example using ravel().\n",
      "  y = column_or_1d(y, warn=True)\n"
     ]
    },
    {
     "name": "stdout",
     "output_type": "stream",
     "text": [
      "[CV] ........ C=1, degree=5, gamma=0.01, kernel=sigmoid, total=   0.1s\n",
      "[CV] C=1, degree=5, gamma=0.01, kernel=sigmoid .......................\n",
      "[CV] ........ C=1, degree=5, gamma=0.01, kernel=sigmoid, total=   0.1s\n",
      "[CV] C=1, degree=5, gamma=0.001, kernel=linear .......................\n",
      "[CV] ........ C=1, degree=5, gamma=0.001, kernel=linear, total=   0.0s\n",
      "[CV] C=1, degree=5, gamma=0.001, kernel=linear .......................\n",
      "[CV] ........ C=1, degree=5, gamma=0.001, kernel=linear, total=   0.0s\n",
      "[CV] C=1, degree=5, gamma=0.001, kernel=linear .......................\n",
      "[CV] ........ C=1, degree=5, gamma=0.001, kernel=linear, total=   0.0s\n",
      "[CV] C=1, degree=5, gamma=0.001, kernel=linear .......................\n",
      "[CV] ........ C=1, degree=5, gamma=0.001, kernel=linear, total=   0.0s\n",
      "[CV] C=1, degree=5, gamma=0.001, kernel=linear .......................\n",
      "[CV] ........ C=1, degree=5, gamma=0.001, kernel=linear, total=   0.0s\n",
      "[CV] C=1, degree=5, gamma=0.001, kernel=rbf ..........................\n"
     ]
    },
    {
     "name": "stderr",
     "output_type": "stream",
     "text": [
      "C:\\Users\\laure\\Anaconda3\\envs\\myenv\\lib\\site-packages\\sklearn\\utils\\validation.py:760: DataConversionWarning: A column-vector y was passed when a 1d array was expected. Please change the shape of y to (n_samples, ), for example using ravel().\n",
      "  y = column_or_1d(y, warn=True)\n",
      "C:\\Users\\laure\\Anaconda3\\envs\\myenv\\lib\\site-packages\\sklearn\\utils\\validation.py:760: DataConversionWarning: A column-vector y was passed when a 1d array was expected. Please change the shape of y to (n_samples, ), for example using ravel().\n",
      "  y = column_or_1d(y, warn=True)\n",
      "C:\\Users\\laure\\Anaconda3\\envs\\myenv\\lib\\site-packages\\sklearn\\utils\\validation.py:760: DataConversionWarning: A column-vector y was passed when a 1d array was expected. Please change the shape of y to (n_samples, ), for example using ravel().\n",
      "  y = column_or_1d(y, warn=True)\n",
      "C:\\Users\\laure\\Anaconda3\\envs\\myenv\\lib\\site-packages\\sklearn\\utils\\validation.py:760: DataConversionWarning: A column-vector y was passed when a 1d array was expected. Please change the shape of y to (n_samples, ), for example using ravel().\n",
      "  y = column_or_1d(y, warn=True)\n",
      "C:\\Users\\laure\\Anaconda3\\envs\\myenv\\lib\\site-packages\\sklearn\\utils\\validation.py:760: DataConversionWarning: A column-vector y was passed when a 1d array was expected. Please change the shape of y to (n_samples, ), for example using ravel().\n",
      "  y = column_or_1d(y, warn=True)\n",
      "C:\\Users\\laure\\Anaconda3\\envs\\myenv\\lib\\site-packages\\sklearn\\utils\\validation.py:760: DataConversionWarning: A column-vector y was passed when a 1d array was expected. Please change the shape of y to (n_samples, ), for example using ravel().\n",
      "  y = column_or_1d(y, warn=True)\n",
      "C:\\Users\\laure\\Anaconda3\\envs\\myenv\\lib\\site-packages\\sklearn\\utils\\validation.py:760: DataConversionWarning: A column-vector y was passed when a 1d array was expected. Please change the shape of y to (n_samples, ), for example using ravel().\n",
      "  y = column_or_1d(y, warn=True)\n"
     ]
    },
    {
     "name": "stdout",
     "output_type": "stream",
     "text": [
      "[CV] ........... C=1, degree=5, gamma=0.001, kernel=rbf, total=   0.3s\n",
      "[CV] C=1, degree=5, gamma=0.001, kernel=rbf ..........................\n"
     ]
    },
    {
     "name": "stderr",
     "output_type": "stream",
     "text": [
      "C:\\Users\\laure\\Anaconda3\\envs\\myenv\\lib\\site-packages\\sklearn\\utils\\validation.py:760: DataConversionWarning: A column-vector y was passed when a 1d array was expected. Please change the shape of y to (n_samples, ), for example using ravel().\n",
      "  y = column_or_1d(y, warn=True)\n"
     ]
    },
    {
     "name": "stdout",
     "output_type": "stream",
     "text": [
      "[CV] ........... C=1, degree=5, gamma=0.001, kernel=rbf, total=   0.3s\n",
      "[CV] C=1, degree=5, gamma=0.001, kernel=rbf ..........................\n"
     ]
    },
    {
     "name": "stderr",
     "output_type": "stream",
     "text": [
      "C:\\Users\\laure\\Anaconda3\\envs\\myenv\\lib\\site-packages\\sklearn\\utils\\validation.py:760: DataConversionWarning: A column-vector y was passed when a 1d array was expected. Please change the shape of y to (n_samples, ), for example using ravel().\n",
      "  y = column_or_1d(y, warn=True)\n"
     ]
    },
    {
     "name": "stdout",
     "output_type": "stream",
     "text": [
      "[CV] ........... C=1, degree=5, gamma=0.001, kernel=rbf, total=   0.3s\n",
      "[CV] C=1, degree=5, gamma=0.001, kernel=rbf ..........................\n"
     ]
    },
    {
     "name": "stderr",
     "output_type": "stream",
     "text": [
      "C:\\Users\\laure\\Anaconda3\\envs\\myenv\\lib\\site-packages\\sklearn\\utils\\validation.py:760: DataConversionWarning: A column-vector y was passed when a 1d array was expected. Please change the shape of y to (n_samples, ), for example using ravel().\n",
      "  y = column_or_1d(y, warn=True)\n"
     ]
    },
    {
     "name": "stdout",
     "output_type": "stream",
     "text": [
      "[CV] ........... C=1, degree=5, gamma=0.001, kernel=rbf, total=   0.3s\n",
      "[CV] C=1, degree=5, gamma=0.001, kernel=rbf ..........................\n"
     ]
    },
    {
     "name": "stderr",
     "output_type": "stream",
     "text": [
      "C:\\Users\\laure\\Anaconda3\\envs\\myenv\\lib\\site-packages\\sklearn\\utils\\validation.py:760: DataConversionWarning: A column-vector y was passed when a 1d array was expected. Please change the shape of y to (n_samples, ), for example using ravel().\n",
      "  y = column_or_1d(y, warn=True)\n"
     ]
    },
    {
     "name": "stdout",
     "output_type": "stream",
     "text": [
      "[CV] ........... C=1, degree=5, gamma=0.001, kernel=rbf, total=   0.3s\n",
      "[CV] C=1, degree=5, gamma=0.001, kernel=poly .........................\n",
      "[CV] .......... C=1, degree=5, gamma=0.001, kernel=poly, total=   0.2s\n",
      "[CV] C=1, degree=5, gamma=0.001, kernel=poly .........................\n"
     ]
    },
    {
     "name": "stderr",
     "output_type": "stream",
     "text": [
      "C:\\Users\\laure\\Anaconda3\\envs\\myenv\\lib\\site-packages\\sklearn\\utils\\validation.py:760: DataConversionWarning: A column-vector y was passed when a 1d array was expected. Please change the shape of y to (n_samples, ), for example using ravel().\n",
      "  y = column_or_1d(y, warn=True)\n",
      "C:\\Users\\laure\\Anaconda3\\envs\\myenv\\lib\\site-packages\\sklearn\\utils\\validation.py:760: DataConversionWarning: A column-vector y was passed when a 1d array was expected. Please change the shape of y to (n_samples, ), for example using ravel().\n",
      "  y = column_or_1d(y, warn=True)\n"
     ]
    },
    {
     "name": "stdout",
     "output_type": "stream",
     "text": [
      "[CV] .......... C=1, degree=5, gamma=0.001, kernel=poly, total=   0.2s\n",
      "[CV] C=1, degree=5, gamma=0.001, kernel=poly .........................\n",
      "[CV] .......... C=1, degree=5, gamma=0.001, kernel=poly, total=   0.2s\n",
      "[CV] C=1, degree=5, gamma=0.001, kernel=poly .........................\n"
     ]
    },
    {
     "name": "stderr",
     "output_type": "stream",
     "text": [
      "C:\\Users\\laure\\Anaconda3\\envs\\myenv\\lib\\site-packages\\sklearn\\utils\\validation.py:760: DataConversionWarning: A column-vector y was passed when a 1d array was expected. Please change the shape of y to (n_samples, ), for example using ravel().\n",
      "  y = column_or_1d(y, warn=True)\n",
      "C:\\Users\\laure\\Anaconda3\\envs\\myenv\\lib\\site-packages\\sklearn\\utils\\validation.py:760: DataConversionWarning: A column-vector y was passed when a 1d array was expected. Please change the shape of y to (n_samples, ), for example using ravel().\n",
      "  y = column_or_1d(y, warn=True)\n",
      "C:\\Users\\laure\\Anaconda3\\envs\\myenv\\lib\\site-packages\\sklearn\\utils\\validation.py:760: DataConversionWarning: A column-vector y was passed when a 1d array was expected. Please change the shape of y to (n_samples, ), for example using ravel().\n",
      "  y = column_or_1d(y, warn=True)\n"
     ]
    },
    {
     "name": "stdout",
     "output_type": "stream",
     "text": [
      "[CV] .......... C=1, degree=5, gamma=0.001, kernel=poly, total=   0.2s\n",
      "[CV] C=1, degree=5, gamma=0.001, kernel=poly .........................\n",
      "[CV] .......... C=1, degree=5, gamma=0.001, kernel=poly, total=   0.2s\n",
      "[CV] C=1, degree=5, gamma=0.001, kernel=sigmoid ......................\n"
     ]
    },
    {
     "name": "stderr",
     "output_type": "stream",
     "text": [
      "C:\\Users\\laure\\Anaconda3\\envs\\myenv\\lib\\site-packages\\sklearn\\utils\\validation.py:760: DataConversionWarning: A column-vector y was passed when a 1d array was expected. Please change the shape of y to (n_samples, ), for example using ravel().\n",
      "  y = column_or_1d(y, warn=True)\n"
     ]
    },
    {
     "name": "stdout",
     "output_type": "stream",
     "text": [
      "[CV] ....... C=1, degree=5, gamma=0.001, kernel=sigmoid, total=   0.3s\n",
      "[CV] C=1, degree=5, gamma=0.001, kernel=sigmoid ......................\n"
     ]
    },
    {
     "name": "stderr",
     "output_type": "stream",
     "text": [
      "C:\\Users\\laure\\Anaconda3\\envs\\myenv\\lib\\site-packages\\sklearn\\utils\\validation.py:760: DataConversionWarning: A column-vector y was passed when a 1d array was expected. Please change the shape of y to (n_samples, ), for example using ravel().\n",
      "  y = column_or_1d(y, warn=True)\n"
     ]
    },
    {
     "name": "stdout",
     "output_type": "stream",
     "text": [
      "[CV] ....... C=1, degree=5, gamma=0.001, kernel=sigmoid, total=   0.3s\n",
      "[CV] C=1, degree=5, gamma=0.001, kernel=sigmoid ......................\n"
     ]
    },
    {
     "name": "stderr",
     "output_type": "stream",
     "text": [
      "C:\\Users\\laure\\Anaconda3\\envs\\myenv\\lib\\site-packages\\sklearn\\utils\\validation.py:760: DataConversionWarning: A column-vector y was passed when a 1d array was expected. Please change the shape of y to (n_samples, ), for example using ravel().\n",
      "  y = column_or_1d(y, warn=True)\n"
     ]
    },
    {
     "name": "stdout",
     "output_type": "stream",
     "text": [
      "[CV] ....... C=1, degree=5, gamma=0.001, kernel=sigmoid, total=   0.3s\n",
      "[CV] C=1, degree=5, gamma=0.001, kernel=sigmoid ......................\n"
     ]
    },
    {
     "name": "stderr",
     "output_type": "stream",
     "text": [
      "C:\\Users\\laure\\Anaconda3\\envs\\myenv\\lib\\site-packages\\sklearn\\utils\\validation.py:760: DataConversionWarning: A column-vector y was passed when a 1d array was expected. Please change the shape of y to (n_samples, ), for example using ravel().\n",
      "  y = column_or_1d(y, warn=True)\n"
     ]
    },
    {
     "name": "stdout",
     "output_type": "stream",
     "text": [
      "[CV] ....... C=1, degree=5, gamma=0.001, kernel=sigmoid, total=   0.2s\n",
      "[CV] C=1, degree=5, gamma=0.001, kernel=sigmoid ......................\n"
     ]
    },
    {
     "name": "stderr",
     "output_type": "stream",
     "text": [
      "C:\\Users\\laure\\Anaconda3\\envs\\myenv\\lib\\site-packages\\sklearn\\utils\\validation.py:760: DataConversionWarning: A column-vector y was passed when a 1d array was expected. Please change the shape of y to (n_samples, ), for example using ravel().\n",
      "  y = column_or_1d(y, warn=True)\n"
     ]
    },
    {
     "name": "stdout",
     "output_type": "stream",
     "text": [
      "[CV] ....... C=1, degree=5, gamma=0.001, kernel=sigmoid, total=   0.3s\n",
      "[CV] C=1, degree=6, gamma=1, kernel=linear ...........................\n",
      "[CV] ............ C=1, degree=6, gamma=1, kernel=linear, total=   0.0s\n",
      "[CV] C=1, degree=6, gamma=1, kernel=linear ...........................\n",
      "[CV] ............ C=1, degree=6, gamma=1, kernel=linear, total=   0.0s\n",
      "[CV] C=1, degree=6, gamma=1, kernel=linear ...........................\n",
      "[CV] ............ C=1, degree=6, gamma=1, kernel=linear, total=   0.0s\n",
      "[CV] C=1, degree=6, gamma=1, kernel=linear ...........................\n",
      "[CV] ............ C=1, degree=6, gamma=1, kernel=linear, total=   0.0s\n",
      "[CV] C=1, degree=6, gamma=1, kernel=linear ...........................\n",
      "[CV] ............ C=1, degree=6, gamma=1, kernel=linear, total=   0.0s\n",
      "[CV] C=1, degree=6, gamma=1, kernel=rbf ..............................\n",
      "[CV] ............... C=1, degree=6, gamma=1, kernel=rbf, total=   0.0s\n",
      "[CV] C=1, degree=6, gamma=1, kernel=rbf ..............................\n",
      "[CV] ............... C=1, degree=6, gamma=1, kernel=rbf, total=   0.0s\n",
      "[CV] C=1, degree=6, gamma=1, kernel=rbf ..............................\n",
      "[CV] ............... C=1, degree=6, gamma=1, kernel=rbf, total=   0.0s\n",
      "[CV] C=1, degree=6, gamma=1, kernel=rbf ..............................\n",
      "[CV] ............... C=1, degree=6, gamma=1, kernel=rbf, total=   0.0s\n",
      "[CV] C=1, degree=6, gamma=1, kernel=rbf ..............................\n",
      "[CV] ............... C=1, degree=6, gamma=1, kernel=rbf, total=   0.0s\n",
      "[CV] C=1, degree=6, gamma=1, kernel=poly .............................\n",
      "[CV] .............. C=1, degree=6, gamma=1, kernel=poly, total=   0.0s\n",
      "[CV] C=1, degree=6, gamma=1, kernel=poly .............................\n",
      "[CV] .............. C=1, degree=6, gamma=1, kernel=poly, total=   0.0s\n",
      "[CV] C=1, degree=6, gamma=1, kernel=poly .............................\n",
      "[CV] .............. C=1, degree=6, gamma=1, kernel=poly, total=   0.0s\n",
      "[CV] C=1, degree=6, gamma=1, kernel=poly .............................\n",
      "[CV] .............. C=1, degree=6, gamma=1, kernel=poly, total=   0.0s\n",
      "[CV] C=1, degree=6, gamma=1, kernel=poly .............................\n",
      "[CV] .............. C=1, degree=6, gamma=1, kernel=poly, total=   0.0s\n",
      "[CV] C=1, degree=6, gamma=1, kernel=sigmoid ..........................\n"
     ]
    },
    {
     "name": "stderr",
     "output_type": "stream",
     "text": [
      "C:\\Users\\laure\\Anaconda3\\envs\\myenv\\lib\\site-packages\\sklearn\\utils\\validation.py:760: DataConversionWarning: A column-vector y was passed when a 1d array was expected. Please change the shape of y to (n_samples, ), for example using ravel().\n",
      "  y = column_or_1d(y, warn=True)\n",
      "C:\\Users\\laure\\Anaconda3\\envs\\myenv\\lib\\site-packages\\sklearn\\utils\\validation.py:760: DataConversionWarning: A column-vector y was passed when a 1d array was expected. Please change the shape of y to (n_samples, ), for example using ravel().\n",
      "  y = column_or_1d(y, warn=True)\n",
      "C:\\Users\\laure\\Anaconda3\\envs\\myenv\\lib\\site-packages\\sklearn\\utils\\validation.py:760: DataConversionWarning: A column-vector y was passed when a 1d array was expected. Please change the shape of y to (n_samples, ), for example using ravel().\n",
      "  y = column_or_1d(y, warn=True)\n",
      "C:\\Users\\laure\\Anaconda3\\envs\\myenv\\lib\\site-packages\\sklearn\\utils\\validation.py:760: DataConversionWarning: A column-vector y was passed when a 1d array was expected. Please change the shape of y to (n_samples, ), for example using ravel().\n",
      "  y = column_or_1d(y, warn=True)\n",
      "C:\\Users\\laure\\Anaconda3\\envs\\myenv\\lib\\site-packages\\sklearn\\utils\\validation.py:760: DataConversionWarning: A column-vector y was passed when a 1d array was expected. Please change the shape of y to (n_samples, ), for example using ravel().\n",
      "  y = column_or_1d(y, warn=True)\n",
      "C:\\Users\\laure\\Anaconda3\\envs\\myenv\\lib\\site-packages\\sklearn\\utils\\validation.py:760: DataConversionWarning: A column-vector y was passed when a 1d array was expected. Please change the shape of y to (n_samples, ), for example using ravel().\n",
      "  y = column_or_1d(y, warn=True)\n",
      "C:\\Users\\laure\\Anaconda3\\envs\\myenv\\lib\\site-packages\\sklearn\\utils\\validation.py:760: DataConversionWarning: A column-vector y was passed when a 1d array was expected. Please change the shape of y to (n_samples, ), for example using ravel().\n",
      "  y = column_or_1d(y, warn=True)\n",
      "C:\\Users\\laure\\Anaconda3\\envs\\myenv\\lib\\site-packages\\sklearn\\utils\\validation.py:760: DataConversionWarning: A column-vector y was passed when a 1d array was expected. Please change the shape of y to (n_samples, ), for example using ravel().\n",
      "  y = column_or_1d(y, warn=True)\n",
      "C:\\Users\\laure\\Anaconda3\\envs\\myenv\\lib\\site-packages\\sklearn\\utils\\validation.py:760: DataConversionWarning: A column-vector y was passed when a 1d array was expected. Please change the shape of y to (n_samples, ), for example using ravel().\n",
      "  y = column_or_1d(y, warn=True)\n",
      "C:\\Users\\laure\\Anaconda3\\envs\\myenv\\lib\\site-packages\\sklearn\\utils\\validation.py:760: DataConversionWarning: A column-vector y was passed when a 1d array was expected. Please change the shape of y to (n_samples, ), for example using ravel().\n",
      "  y = column_or_1d(y, warn=True)\n",
      "C:\\Users\\laure\\Anaconda3\\envs\\myenv\\lib\\site-packages\\sklearn\\utils\\validation.py:760: DataConversionWarning: A column-vector y was passed when a 1d array was expected. Please change the shape of y to (n_samples, ), for example using ravel().\n",
      "  y = column_or_1d(y, warn=True)\n",
      "C:\\Users\\laure\\Anaconda3\\envs\\myenv\\lib\\site-packages\\sklearn\\utils\\validation.py:760: DataConversionWarning: A column-vector y was passed when a 1d array was expected. Please change the shape of y to (n_samples, ), for example using ravel().\n",
      "  y = column_or_1d(y, warn=True)\n",
      "C:\\Users\\laure\\Anaconda3\\envs\\myenv\\lib\\site-packages\\sklearn\\utils\\validation.py:760: DataConversionWarning: A column-vector y was passed when a 1d array was expected. Please change the shape of y to (n_samples, ), for example using ravel().\n",
      "  y = column_or_1d(y, warn=True)\n",
      "C:\\Users\\laure\\Anaconda3\\envs\\myenv\\lib\\site-packages\\sklearn\\utils\\validation.py:760: DataConversionWarning: A column-vector y was passed when a 1d array was expected. Please change the shape of y to (n_samples, ), for example using ravel().\n",
      "  y = column_or_1d(y, warn=True)\n",
      "C:\\Users\\laure\\Anaconda3\\envs\\myenv\\lib\\site-packages\\sklearn\\utils\\validation.py:760: DataConversionWarning: A column-vector y was passed when a 1d array was expected. Please change the shape of y to (n_samples, ), for example using ravel().\n",
      "  y = column_or_1d(y, warn=True)\n",
      "C:\\Users\\laure\\Anaconda3\\envs\\myenv\\lib\\site-packages\\sklearn\\utils\\validation.py:760: DataConversionWarning: A column-vector y was passed when a 1d array was expected. Please change the shape of y to (n_samples, ), for example using ravel().\n",
      "  y = column_or_1d(y, warn=True)\n",
      "C:\\Users\\laure\\Anaconda3\\envs\\myenv\\lib\\site-packages\\sklearn\\utils\\validation.py:760: DataConversionWarning: A column-vector y was passed when a 1d array was expected. Please change the shape of y to (n_samples, ), for example using ravel().\n",
      "  y = column_or_1d(y, warn=True)\n",
      "C:\\Users\\laure\\Anaconda3\\envs\\myenv\\lib\\site-packages\\sklearn\\utils\\validation.py:760: DataConversionWarning: A column-vector y was passed when a 1d array was expected. Please change the shape of y to (n_samples, ), for example using ravel().\n",
      "  y = column_or_1d(y, warn=True)\n",
      "C:\\Users\\laure\\Anaconda3\\envs\\myenv\\lib\\site-packages\\sklearn\\utils\\validation.py:760: DataConversionWarning: A column-vector y was passed when a 1d array was expected. Please change the shape of y to (n_samples, ), for example using ravel().\n",
      "  y = column_or_1d(y, warn=True)\n",
      "C:\\Users\\laure\\Anaconda3\\envs\\myenv\\lib\\site-packages\\sklearn\\utils\\validation.py:760: DataConversionWarning: A column-vector y was passed when a 1d array was expected. Please change the shape of y to (n_samples, ), for example using ravel().\n",
      "  y = column_or_1d(y, warn=True)\n",
      "C:\\Users\\laure\\Anaconda3\\envs\\myenv\\lib\\site-packages\\sklearn\\utils\\validation.py:760: DataConversionWarning: A column-vector y was passed when a 1d array was expected. Please change the shape of y to (n_samples, ), for example using ravel().\n",
      "  y = column_or_1d(y, warn=True)\n",
      "C:\\Users\\laure\\Anaconda3\\envs\\myenv\\lib\\site-packages\\sklearn\\utils\\validation.py:760: DataConversionWarning: A column-vector y was passed when a 1d array was expected. Please change the shape of y to (n_samples, ), for example using ravel().\n",
      "  y = column_or_1d(y, warn=True)\n",
      "C:\\Users\\laure\\Anaconda3\\envs\\myenv\\lib\\site-packages\\sklearn\\utils\\validation.py:760: DataConversionWarning: A column-vector y was passed when a 1d array was expected. Please change the shape of y to (n_samples, ), for example using ravel().\n",
      "  y = column_or_1d(y, warn=True)\n",
      "C:\\Users\\laure\\Anaconda3\\envs\\myenv\\lib\\site-packages\\sklearn\\utils\\validation.py:760: DataConversionWarning: A column-vector y was passed when a 1d array was expected. Please change the shape of y to (n_samples, ), for example using ravel().\n",
      "  y = column_or_1d(y, warn=True)\n",
      "C:\\Users\\laure\\Anaconda3\\envs\\myenv\\lib\\site-packages\\sklearn\\utils\\validation.py:760: DataConversionWarning: A column-vector y was passed when a 1d array was expected. Please change the shape of y to (n_samples, ), for example using ravel().\n",
      "  y = column_or_1d(y, warn=True)\n",
      "C:\\Users\\laure\\Anaconda3\\envs\\myenv\\lib\\site-packages\\sklearn\\utils\\validation.py:760: DataConversionWarning: A column-vector y was passed when a 1d array was expected. Please change the shape of y to (n_samples, ), for example using ravel().\n",
      "  y = column_or_1d(y, warn=True)\n",
      "C:\\Users\\laure\\Anaconda3\\envs\\myenv\\lib\\site-packages\\sklearn\\utils\\validation.py:760: DataConversionWarning: A column-vector y was passed when a 1d array was expected. Please change the shape of y to (n_samples, ), for example using ravel().\n",
      "  y = column_or_1d(y, warn=True)\n",
      "C:\\Users\\laure\\Anaconda3\\envs\\myenv\\lib\\site-packages\\sklearn\\utils\\validation.py:760: DataConversionWarning: A column-vector y was passed when a 1d array was expected. Please change the shape of y to (n_samples, ), for example using ravel().\n",
      "  y = column_or_1d(y, warn=True)\n"
     ]
    },
    {
     "name": "stdout",
     "output_type": "stream",
     "text": [
      "[CV] ........... C=1, degree=6, gamma=1, kernel=sigmoid, total=   0.0s\n",
      "[CV] C=1, degree=6, gamma=1, kernel=sigmoid ..........................\n",
      "[CV] ........... C=1, degree=6, gamma=1, kernel=sigmoid, total=   0.0s\n",
      "[CV] C=1, degree=6, gamma=1, kernel=sigmoid ..........................\n",
      "[CV] ........... C=1, degree=6, gamma=1, kernel=sigmoid, total=   0.0s\n",
      "[CV] C=1, degree=6, gamma=1, kernel=sigmoid ..........................\n",
      "[CV] ........... C=1, degree=6, gamma=1, kernel=sigmoid, total=   0.0s\n",
      "[CV] C=1, degree=6, gamma=1, kernel=sigmoid ..........................\n",
      "[CV] ........... C=1, degree=6, gamma=1, kernel=sigmoid, total=   0.0s\n",
      "[CV] C=1, degree=6, gamma=0.1, kernel=linear .........................\n",
      "[CV] .......... C=1, degree=6, gamma=0.1, kernel=linear, total=   0.0s\n",
      "[CV] C=1, degree=6, gamma=0.1, kernel=linear .........................\n",
      "[CV] .......... C=1, degree=6, gamma=0.1, kernel=linear, total=   0.0s\n",
      "[CV] C=1, degree=6, gamma=0.1, kernel=linear .........................\n",
      "[CV] .......... C=1, degree=6, gamma=0.1, kernel=linear, total=   0.0s\n",
      "[CV] C=1, degree=6, gamma=0.1, kernel=linear .........................\n",
      "[CV] .......... C=1, degree=6, gamma=0.1, kernel=linear, total=   0.0s\n",
      "[CV] C=1, degree=6, gamma=0.1, kernel=linear .........................\n",
      "[CV] .......... C=1, degree=6, gamma=0.1, kernel=linear, total=   0.0s\n",
      "[CV] C=1, degree=6, gamma=0.1, kernel=rbf ............................\n",
      "[CV] ............. C=1, degree=6, gamma=0.1, kernel=rbf, total=   0.0s\n",
      "[CV] C=1, degree=6, gamma=0.1, kernel=rbf ............................\n",
      "[CV] ............. C=1, degree=6, gamma=0.1, kernel=rbf, total=   0.0s\n",
      "[CV] C=1, degree=6, gamma=0.1, kernel=rbf ............................\n",
      "[CV] ............. C=1, degree=6, gamma=0.1, kernel=rbf, total=   0.0s\n",
      "[CV] C=1, degree=6, gamma=0.1, kernel=rbf ............................\n",
      "[CV] ............. C=1, degree=6, gamma=0.1, kernel=rbf, total=   0.0s\n",
      "[CV] C=1, degree=6, gamma=0.1, kernel=rbf ............................\n"
     ]
    },
    {
     "name": "stderr",
     "output_type": "stream",
     "text": [
      "C:\\Users\\laure\\Anaconda3\\envs\\myenv\\lib\\site-packages\\sklearn\\utils\\validation.py:760: DataConversionWarning: A column-vector y was passed when a 1d array was expected. Please change the shape of y to (n_samples, ), for example using ravel().\n",
      "  y = column_or_1d(y, warn=True)\n",
      "C:\\Users\\laure\\Anaconda3\\envs\\myenv\\lib\\site-packages\\sklearn\\utils\\validation.py:760: DataConversionWarning: A column-vector y was passed when a 1d array was expected. Please change the shape of y to (n_samples, ), for example using ravel().\n",
      "  y = column_or_1d(y, warn=True)\n",
      "C:\\Users\\laure\\Anaconda3\\envs\\myenv\\lib\\site-packages\\sklearn\\utils\\validation.py:760: DataConversionWarning: A column-vector y was passed when a 1d array was expected. Please change the shape of y to (n_samples, ), for example using ravel().\n",
      "  y = column_or_1d(y, warn=True)\n"
     ]
    },
    {
     "name": "stdout",
     "output_type": "stream",
     "text": [
      "[CV] ............. C=1, degree=6, gamma=0.1, kernel=rbf, total=   0.0s\n",
      "[CV] C=1, degree=6, gamma=0.1, kernel=poly ...........................\n",
      "[CV] ............ C=1, degree=6, gamma=0.1, kernel=poly, total=   0.2s\n",
      "[CV] C=1, degree=6, gamma=0.1, kernel=poly ...........................\n"
     ]
    },
    {
     "name": "stderr",
     "output_type": "stream",
     "text": [
      "C:\\Users\\laure\\Anaconda3\\envs\\myenv\\lib\\site-packages\\sklearn\\utils\\validation.py:760: DataConversionWarning: A column-vector y was passed when a 1d array was expected. Please change the shape of y to (n_samples, ), for example using ravel().\n",
      "  y = column_or_1d(y, warn=True)\n",
      "C:\\Users\\laure\\Anaconda3\\envs\\myenv\\lib\\site-packages\\sklearn\\utils\\validation.py:760: DataConversionWarning: A column-vector y was passed when a 1d array was expected. Please change the shape of y to (n_samples, ), for example using ravel().\n",
      "  y = column_or_1d(y, warn=True)\n"
     ]
    },
    {
     "name": "stdout",
     "output_type": "stream",
     "text": [
      "[CV] ............ C=1, degree=6, gamma=0.1, kernel=poly, total=   0.1s\n",
      "[CV] C=1, degree=6, gamma=0.1, kernel=poly ...........................\n",
      "[CV] ............ C=1, degree=6, gamma=0.1, kernel=poly, total=   0.1s\n",
      "[CV] C=1, degree=6, gamma=0.1, kernel=poly ...........................\n"
     ]
    },
    {
     "name": "stderr",
     "output_type": "stream",
     "text": [
      "C:\\Users\\laure\\Anaconda3\\envs\\myenv\\lib\\site-packages\\sklearn\\utils\\validation.py:760: DataConversionWarning: A column-vector y was passed when a 1d array was expected. Please change the shape of y to (n_samples, ), for example using ravel().\n",
      "  y = column_or_1d(y, warn=True)\n",
      "C:\\Users\\laure\\Anaconda3\\envs\\myenv\\lib\\site-packages\\sklearn\\utils\\validation.py:760: DataConversionWarning: A column-vector y was passed when a 1d array was expected. Please change the shape of y to (n_samples, ), for example using ravel().\n",
      "  y = column_or_1d(y, warn=True)\n"
     ]
    },
    {
     "name": "stdout",
     "output_type": "stream",
     "text": [
      "[CV] ............ C=1, degree=6, gamma=0.1, kernel=poly, total=   0.1s\n",
      "[CV] C=1, degree=6, gamma=0.1, kernel=poly ...........................\n",
      "[CV] ............ C=1, degree=6, gamma=0.1, kernel=poly, total=   0.2s\n",
      "[CV] C=1, degree=6, gamma=0.1, kernel=sigmoid ........................\n",
      "[CV] ......... C=1, degree=6, gamma=0.1, kernel=sigmoid, total=   0.0s\n"
     ]
    },
    {
     "name": "stderr",
     "output_type": "stream",
     "text": [
      "C:\\Users\\laure\\Anaconda3\\envs\\myenv\\lib\\site-packages\\sklearn\\utils\\validation.py:760: DataConversionWarning: A column-vector y was passed when a 1d array was expected. Please change the shape of y to (n_samples, ), for example using ravel().\n",
      "  y = column_or_1d(y, warn=True)\n",
      "C:\\Users\\laure\\Anaconda3\\envs\\myenv\\lib\\site-packages\\sklearn\\utils\\validation.py:760: DataConversionWarning: A column-vector y was passed when a 1d array was expected. Please change the shape of y to (n_samples, ), for example using ravel().\n",
      "  y = column_or_1d(y, warn=True)\n",
      "C:\\Users\\laure\\Anaconda3\\envs\\myenv\\lib\\site-packages\\sklearn\\utils\\validation.py:760: DataConversionWarning: A column-vector y was passed when a 1d array was expected. Please change the shape of y to (n_samples, ), for example using ravel().\n",
      "  y = column_or_1d(y, warn=True)\n",
      "C:\\Users\\laure\\Anaconda3\\envs\\myenv\\lib\\site-packages\\sklearn\\utils\\validation.py:760: DataConversionWarning: A column-vector y was passed when a 1d array was expected. Please change the shape of y to (n_samples, ), for example using ravel().\n",
      "  y = column_or_1d(y, warn=True)\n",
      "C:\\Users\\laure\\Anaconda3\\envs\\myenv\\lib\\site-packages\\sklearn\\utils\\validation.py:760: DataConversionWarning: A column-vector y was passed when a 1d array was expected. Please change the shape of y to (n_samples, ), for example using ravel().\n",
      "  y = column_or_1d(y, warn=True)\n",
      "C:\\Users\\laure\\Anaconda3\\envs\\myenv\\lib\\site-packages\\sklearn\\utils\\validation.py:760: DataConversionWarning: A column-vector y was passed when a 1d array was expected. Please change the shape of y to (n_samples, ), for example using ravel().\n",
      "  y = column_or_1d(y, warn=True)\n",
      "C:\\Users\\laure\\Anaconda3\\envs\\myenv\\lib\\site-packages\\sklearn\\utils\\validation.py:760: DataConversionWarning: A column-vector y was passed when a 1d array was expected. Please change the shape of y to (n_samples, ), for example using ravel().\n",
      "  y = column_or_1d(y, warn=True)\n"
     ]
    },
    {
     "name": "stdout",
     "output_type": "stream",
     "text": [
      "[CV] C=1, degree=6, gamma=0.1, kernel=sigmoid ........................\n",
      "[CV] ......... C=1, degree=6, gamma=0.1, kernel=sigmoid, total=   0.0s\n",
      "[CV] C=1, degree=6, gamma=0.1, kernel=sigmoid ........................\n",
      "[CV] ......... C=1, degree=6, gamma=0.1, kernel=sigmoid, total=   0.0s\n",
      "[CV] C=1, degree=6, gamma=0.1, kernel=sigmoid ........................\n",
      "[CV] ......... C=1, degree=6, gamma=0.1, kernel=sigmoid, total=   0.0s\n",
      "[CV] C=1, degree=6, gamma=0.1, kernel=sigmoid ........................\n",
      "[CV] ......... C=1, degree=6, gamma=0.1, kernel=sigmoid, total=   0.0s\n",
      "[CV] C=1, degree=6, gamma=0.01, kernel=linear ........................\n",
      "[CV] ......... C=1, degree=6, gamma=0.01, kernel=linear, total=   0.0s\n",
      "[CV] C=1, degree=6, gamma=0.01, kernel=linear ........................\n",
      "[CV] ......... C=1, degree=6, gamma=0.01, kernel=linear, total=   0.0s\n",
      "[CV] C=1, degree=6, gamma=0.01, kernel=linear ........................\n",
      "[CV] ......... C=1, degree=6, gamma=0.01, kernel=linear, total=   0.0s\n",
      "[CV] C=1, degree=6, gamma=0.01, kernel=linear ........................\n",
      "[CV] ......... C=1, degree=6, gamma=0.01, kernel=linear, total=   0.0s\n",
      "[CV] C=1, degree=6, gamma=0.01, kernel=linear ........................\n",
      "[CV] ......... C=1, degree=6, gamma=0.01, kernel=linear, total=   0.0s\n",
      "[CV] C=1, degree=6, gamma=0.01, kernel=rbf ...........................\n"
     ]
    },
    {
     "name": "stderr",
     "output_type": "stream",
     "text": [
      "C:\\Users\\laure\\Anaconda3\\envs\\myenv\\lib\\site-packages\\sklearn\\utils\\validation.py:760: DataConversionWarning: A column-vector y was passed when a 1d array was expected. Please change the shape of y to (n_samples, ), for example using ravel().\n",
      "  y = column_or_1d(y, warn=True)\n",
      "C:\\Users\\laure\\Anaconda3\\envs\\myenv\\lib\\site-packages\\sklearn\\utils\\validation.py:760: DataConversionWarning: A column-vector y was passed when a 1d array was expected. Please change the shape of y to (n_samples, ), for example using ravel().\n",
      "  y = column_or_1d(y, warn=True)\n",
      "C:\\Users\\laure\\Anaconda3\\envs\\myenv\\lib\\site-packages\\sklearn\\utils\\validation.py:760: DataConversionWarning: A column-vector y was passed when a 1d array was expected. Please change the shape of y to (n_samples, ), for example using ravel().\n",
      "  y = column_or_1d(y, warn=True)\n",
      "C:\\Users\\laure\\Anaconda3\\envs\\myenv\\lib\\site-packages\\sklearn\\utils\\validation.py:760: DataConversionWarning: A column-vector y was passed when a 1d array was expected. Please change the shape of y to (n_samples, ), for example using ravel().\n",
      "  y = column_or_1d(y, warn=True)\n",
      "C:\\Users\\laure\\Anaconda3\\envs\\myenv\\lib\\site-packages\\sklearn\\utils\\validation.py:760: DataConversionWarning: A column-vector y was passed when a 1d array was expected. Please change the shape of y to (n_samples, ), for example using ravel().\n",
      "  y = column_or_1d(y, warn=True)\n",
      "C:\\Users\\laure\\Anaconda3\\envs\\myenv\\lib\\site-packages\\sklearn\\utils\\validation.py:760: DataConversionWarning: A column-vector y was passed when a 1d array was expected. Please change the shape of y to (n_samples, ), for example using ravel().\n",
      "  y = column_or_1d(y, warn=True)\n"
     ]
    },
    {
     "name": "stdout",
     "output_type": "stream",
     "text": [
      "[CV] ............ C=1, degree=6, gamma=0.01, kernel=rbf, total=   0.0s\n",
      "[CV] C=1, degree=6, gamma=0.01, kernel=rbf ...........................\n",
      "[CV] ............ C=1, degree=6, gamma=0.01, kernel=rbf, total=   0.0s\n",
      "[CV] C=1, degree=6, gamma=0.01, kernel=rbf ...........................\n",
      "[CV] ............ C=1, degree=6, gamma=0.01, kernel=rbf, total=   0.1s\n",
      "[CV] C=1, degree=6, gamma=0.01, kernel=rbf ...........................\n"
     ]
    },
    {
     "name": "stderr",
     "output_type": "stream",
     "text": [
      "C:\\Users\\laure\\Anaconda3\\envs\\myenv\\lib\\site-packages\\sklearn\\utils\\validation.py:760: DataConversionWarning: A column-vector y was passed when a 1d array was expected. Please change the shape of y to (n_samples, ), for example using ravel().\n",
      "  y = column_or_1d(y, warn=True)\n",
      "C:\\Users\\laure\\Anaconda3\\envs\\myenv\\lib\\site-packages\\sklearn\\utils\\validation.py:760: DataConversionWarning: A column-vector y was passed when a 1d array was expected. Please change the shape of y to (n_samples, ), for example using ravel().\n",
      "  y = column_or_1d(y, warn=True)\n",
      "C:\\Users\\laure\\Anaconda3\\envs\\myenv\\lib\\site-packages\\sklearn\\utils\\validation.py:760: DataConversionWarning: A column-vector y was passed when a 1d array was expected. Please change the shape of y to (n_samples, ), for example using ravel().\n",
      "  y = column_or_1d(y, warn=True)\n"
     ]
    },
    {
     "name": "stdout",
     "output_type": "stream",
     "text": [
      "[CV] ............ C=1, degree=6, gamma=0.01, kernel=rbf, total=   0.1s\n",
      "[CV] C=1, degree=6, gamma=0.01, kernel=rbf ...........................\n",
      "[CV] ............ C=1, degree=6, gamma=0.01, kernel=rbf, total=   0.1s\n",
      "[CV] C=1, degree=6, gamma=0.01, kernel=poly ..........................\n",
      "[CV] ........... C=1, degree=6, gamma=0.01, kernel=poly, total=   0.2s\n",
      "[CV] C=1, degree=6, gamma=0.01, kernel=poly ..........................\n",
      "[CV] ........... C=1, degree=6, gamma=0.01, kernel=poly, total=   0.2s\n",
      "[CV] C=1, degree=6, gamma=0.01, kernel=poly ..........................\n"
     ]
    },
    {
     "name": "stderr",
     "output_type": "stream",
     "text": [
      "C:\\Users\\laure\\Anaconda3\\envs\\myenv\\lib\\site-packages\\sklearn\\utils\\validation.py:760: DataConversionWarning: A column-vector y was passed when a 1d array was expected. Please change the shape of y to (n_samples, ), for example using ravel().\n",
      "  y = column_or_1d(y, warn=True)\n",
      "C:\\Users\\laure\\Anaconda3\\envs\\myenv\\lib\\site-packages\\sklearn\\utils\\validation.py:760: DataConversionWarning: A column-vector y was passed when a 1d array was expected. Please change the shape of y to (n_samples, ), for example using ravel().\n",
      "  y = column_or_1d(y, warn=True)\n"
     ]
    },
    {
     "name": "stdout",
     "output_type": "stream",
     "text": [
      "[CV] ........... C=1, degree=6, gamma=0.01, kernel=poly, total=   0.2s\n",
      "[CV] C=1, degree=6, gamma=0.01, kernel=poly ..........................\n",
      "[CV] ........... C=1, degree=6, gamma=0.01, kernel=poly, total=   0.2s\n",
      "[CV] C=1, degree=6, gamma=0.01, kernel=poly ..........................\n"
     ]
    },
    {
     "name": "stderr",
     "output_type": "stream",
     "text": [
      "C:\\Users\\laure\\Anaconda3\\envs\\myenv\\lib\\site-packages\\sklearn\\utils\\validation.py:760: DataConversionWarning: A column-vector y was passed when a 1d array was expected. Please change the shape of y to (n_samples, ), for example using ravel().\n",
      "  y = column_or_1d(y, warn=True)\n",
      "C:\\Users\\laure\\Anaconda3\\envs\\myenv\\lib\\site-packages\\sklearn\\utils\\validation.py:760: DataConversionWarning: A column-vector y was passed when a 1d array was expected. Please change the shape of y to (n_samples, ), for example using ravel().\n",
      "  y = column_or_1d(y, warn=True)\n"
     ]
    },
    {
     "name": "stdout",
     "output_type": "stream",
     "text": [
      "[CV] ........... C=1, degree=6, gamma=0.01, kernel=poly, total=   0.2s\n",
      "[CV] C=1, degree=6, gamma=0.01, kernel=sigmoid .......................\n",
      "[CV] ........ C=1, degree=6, gamma=0.01, kernel=sigmoid, total=   0.1s\n",
      "[CV] C=1, degree=6, gamma=0.01, kernel=sigmoid .......................\n"
     ]
    },
    {
     "name": "stderr",
     "output_type": "stream",
     "text": [
      "C:\\Users\\laure\\Anaconda3\\envs\\myenv\\lib\\site-packages\\sklearn\\utils\\validation.py:760: DataConversionWarning: A column-vector y was passed when a 1d array was expected. Please change the shape of y to (n_samples, ), for example using ravel().\n",
      "  y = column_or_1d(y, warn=True)\n",
      "C:\\Users\\laure\\Anaconda3\\envs\\myenv\\lib\\site-packages\\sklearn\\utils\\validation.py:760: DataConversionWarning: A column-vector y was passed when a 1d array was expected. Please change the shape of y to (n_samples, ), for example using ravel().\n",
      "  y = column_or_1d(y, warn=True)\n"
     ]
    },
    {
     "name": "stdout",
     "output_type": "stream",
     "text": [
      "[CV] ........ C=1, degree=6, gamma=0.01, kernel=sigmoid, total=   0.1s\n",
      "[CV] C=1, degree=6, gamma=0.01, kernel=sigmoid .......................\n",
      "[CV] ........ C=1, degree=6, gamma=0.01, kernel=sigmoid, total=   0.1s\n",
      "[CV] C=1, degree=6, gamma=0.01, kernel=sigmoid .......................\n"
     ]
    },
    {
     "name": "stderr",
     "output_type": "stream",
     "text": [
      "C:\\Users\\laure\\Anaconda3\\envs\\myenv\\lib\\site-packages\\sklearn\\utils\\validation.py:760: DataConversionWarning: A column-vector y was passed when a 1d array was expected. Please change the shape of y to (n_samples, ), for example using ravel().\n",
      "  y = column_or_1d(y, warn=True)\n",
      "C:\\Users\\laure\\Anaconda3\\envs\\myenv\\lib\\site-packages\\sklearn\\utils\\validation.py:760: DataConversionWarning: A column-vector y was passed when a 1d array was expected. Please change the shape of y to (n_samples, ), for example using ravel().\n",
      "  y = column_or_1d(y, warn=True)\n"
     ]
    },
    {
     "name": "stdout",
     "output_type": "stream",
     "text": [
      "[CV] ........ C=1, degree=6, gamma=0.01, kernel=sigmoid, total=   0.1s\n",
      "[CV] C=1, degree=6, gamma=0.01, kernel=sigmoid .......................\n",
      "[CV] ........ C=1, degree=6, gamma=0.01, kernel=sigmoid, total=   0.1s\n",
      "[CV] C=1, degree=6, gamma=0.001, kernel=linear .......................\n",
      "[CV] ........ C=1, degree=6, gamma=0.001, kernel=linear, total=   0.0s\n",
      "[CV] C=1, degree=6, gamma=0.001, kernel=linear .......................\n",
      "[CV] ........ C=1, degree=6, gamma=0.001, kernel=linear, total=   0.0s\n",
      "[CV] C=1, degree=6, gamma=0.001, kernel=linear .......................\n",
      "[CV] ........ C=1, degree=6, gamma=0.001, kernel=linear, total=   0.0s\n",
      "[CV] C=1, degree=6, gamma=0.001, kernel=linear .......................\n",
      "[CV] ........ C=1, degree=6, gamma=0.001, kernel=linear, total=   0.0s\n",
      "[CV] C=1, degree=6, gamma=0.001, kernel=linear .......................\n",
      "[CV] ........ C=1, degree=6, gamma=0.001, kernel=linear, total=   0.0s\n",
      "[CV] C=1, degree=6, gamma=0.001, kernel=rbf ..........................\n"
     ]
    },
    {
     "name": "stderr",
     "output_type": "stream",
     "text": [
      "C:\\Users\\laure\\Anaconda3\\envs\\myenv\\lib\\site-packages\\sklearn\\utils\\validation.py:760: DataConversionWarning: A column-vector y was passed when a 1d array was expected. Please change the shape of y to (n_samples, ), for example using ravel().\n",
      "  y = column_or_1d(y, warn=True)\n",
      "C:\\Users\\laure\\Anaconda3\\envs\\myenv\\lib\\site-packages\\sklearn\\utils\\validation.py:760: DataConversionWarning: A column-vector y was passed when a 1d array was expected. Please change the shape of y to (n_samples, ), for example using ravel().\n",
      "  y = column_or_1d(y, warn=True)\n",
      "C:\\Users\\laure\\Anaconda3\\envs\\myenv\\lib\\site-packages\\sklearn\\utils\\validation.py:760: DataConversionWarning: A column-vector y was passed when a 1d array was expected. Please change the shape of y to (n_samples, ), for example using ravel().\n",
      "  y = column_or_1d(y, warn=True)\n",
      "C:\\Users\\laure\\Anaconda3\\envs\\myenv\\lib\\site-packages\\sklearn\\utils\\validation.py:760: DataConversionWarning: A column-vector y was passed when a 1d array was expected. Please change the shape of y to (n_samples, ), for example using ravel().\n",
      "  y = column_or_1d(y, warn=True)\n",
      "C:\\Users\\laure\\Anaconda3\\envs\\myenv\\lib\\site-packages\\sklearn\\utils\\validation.py:760: DataConversionWarning: A column-vector y was passed when a 1d array was expected. Please change the shape of y to (n_samples, ), for example using ravel().\n",
      "  y = column_or_1d(y, warn=True)\n",
      "C:\\Users\\laure\\Anaconda3\\envs\\myenv\\lib\\site-packages\\sklearn\\utils\\validation.py:760: DataConversionWarning: A column-vector y was passed when a 1d array was expected. Please change the shape of y to (n_samples, ), for example using ravel().\n",
      "  y = column_or_1d(y, warn=True)\n",
      "C:\\Users\\laure\\Anaconda3\\envs\\myenv\\lib\\site-packages\\sklearn\\utils\\validation.py:760: DataConversionWarning: A column-vector y was passed when a 1d array was expected. Please change the shape of y to (n_samples, ), for example using ravel().\n",
      "  y = column_or_1d(y, warn=True)\n"
     ]
    },
    {
     "name": "stdout",
     "output_type": "stream",
     "text": [
      "[CV] ........... C=1, degree=6, gamma=0.001, kernel=rbf, total=   0.3s\n",
      "[CV] C=1, degree=6, gamma=0.001, kernel=rbf ..........................\n"
     ]
    },
    {
     "name": "stderr",
     "output_type": "stream",
     "text": [
      "C:\\Users\\laure\\Anaconda3\\envs\\myenv\\lib\\site-packages\\sklearn\\utils\\validation.py:760: DataConversionWarning: A column-vector y was passed when a 1d array was expected. Please change the shape of y to (n_samples, ), for example using ravel().\n",
      "  y = column_or_1d(y, warn=True)\n"
     ]
    },
    {
     "name": "stdout",
     "output_type": "stream",
     "text": [
      "[CV] ........... C=1, degree=6, gamma=0.001, kernel=rbf, total=   0.3s\n",
      "[CV] C=1, degree=6, gamma=0.001, kernel=rbf ..........................\n"
     ]
    },
    {
     "name": "stderr",
     "output_type": "stream",
     "text": [
      "C:\\Users\\laure\\Anaconda3\\envs\\myenv\\lib\\site-packages\\sklearn\\utils\\validation.py:760: DataConversionWarning: A column-vector y was passed when a 1d array was expected. Please change the shape of y to (n_samples, ), for example using ravel().\n",
      "  y = column_or_1d(y, warn=True)\n"
     ]
    },
    {
     "name": "stdout",
     "output_type": "stream",
     "text": [
      "[CV] ........... C=1, degree=6, gamma=0.001, kernel=rbf, total=   0.3s\n",
      "[CV] C=1, degree=6, gamma=0.001, kernel=rbf ..........................\n"
     ]
    },
    {
     "name": "stderr",
     "output_type": "stream",
     "text": [
      "C:\\Users\\laure\\Anaconda3\\envs\\myenv\\lib\\site-packages\\sklearn\\utils\\validation.py:760: DataConversionWarning: A column-vector y was passed when a 1d array was expected. Please change the shape of y to (n_samples, ), for example using ravel().\n",
      "  y = column_or_1d(y, warn=True)\n"
     ]
    },
    {
     "name": "stdout",
     "output_type": "stream",
     "text": [
      "[CV] ........... C=1, degree=6, gamma=0.001, kernel=rbf, total=   0.3s\n",
      "[CV] C=1, degree=6, gamma=0.001, kernel=rbf ..........................\n"
     ]
    },
    {
     "name": "stderr",
     "output_type": "stream",
     "text": [
      "C:\\Users\\laure\\Anaconda3\\envs\\myenv\\lib\\site-packages\\sklearn\\utils\\validation.py:760: DataConversionWarning: A column-vector y was passed when a 1d array was expected. Please change the shape of y to (n_samples, ), for example using ravel().\n",
      "  y = column_or_1d(y, warn=True)\n"
     ]
    },
    {
     "name": "stdout",
     "output_type": "stream",
     "text": [
      "[CV] ........... C=1, degree=6, gamma=0.001, kernel=rbf, total=   0.3s\n",
      "[CV] C=1, degree=6, gamma=0.001, kernel=poly .........................\n",
      "[CV] .......... C=1, degree=6, gamma=0.001, kernel=poly, total=   0.2s\n",
      "[CV] C=1, degree=6, gamma=0.001, kernel=poly .........................\n"
     ]
    },
    {
     "name": "stderr",
     "output_type": "stream",
     "text": [
      "C:\\Users\\laure\\Anaconda3\\envs\\myenv\\lib\\site-packages\\sklearn\\utils\\validation.py:760: DataConversionWarning: A column-vector y was passed when a 1d array was expected. Please change the shape of y to (n_samples, ), for example using ravel().\n",
      "  y = column_or_1d(y, warn=True)\n",
      "C:\\Users\\laure\\Anaconda3\\envs\\myenv\\lib\\site-packages\\sklearn\\utils\\validation.py:760: DataConversionWarning: A column-vector y was passed when a 1d array was expected. Please change the shape of y to (n_samples, ), for example using ravel().\n",
      "  y = column_or_1d(y, warn=True)\n"
     ]
    },
    {
     "name": "stdout",
     "output_type": "stream",
     "text": [
      "[CV] .......... C=1, degree=6, gamma=0.001, kernel=poly, total=   0.1s\n",
      "[CV] C=1, degree=6, gamma=0.001, kernel=poly .........................\n",
      "[CV] .......... C=1, degree=6, gamma=0.001, kernel=poly, total=   0.2s\n",
      "[CV] C=1, degree=6, gamma=0.001, kernel=poly .........................\n"
     ]
    },
    {
     "name": "stderr",
     "output_type": "stream",
     "text": [
      "C:\\Users\\laure\\Anaconda3\\envs\\myenv\\lib\\site-packages\\sklearn\\utils\\validation.py:760: DataConversionWarning: A column-vector y was passed when a 1d array was expected. Please change the shape of y to (n_samples, ), for example using ravel().\n",
      "  y = column_or_1d(y, warn=True)\n",
      "C:\\Users\\laure\\Anaconda3\\envs\\myenv\\lib\\site-packages\\sklearn\\utils\\validation.py:760: DataConversionWarning: A column-vector y was passed when a 1d array was expected. Please change the shape of y to (n_samples, ), for example using ravel().\n",
      "  y = column_or_1d(y, warn=True)\n"
     ]
    },
    {
     "name": "stdout",
     "output_type": "stream",
     "text": [
      "[CV] .......... C=1, degree=6, gamma=0.001, kernel=poly, total=   0.1s\n",
      "[CV] C=1, degree=6, gamma=0.001, kernel=poly .........................\n",
      "[CV] .......... C=1, degree=6, gamma=0.001, kernel=poly, total=   0.2s\n",
      "[CV] C=1, degree=6, gamma=0.001, kernel=sigmoid ......................\n"
     ]
    },
    {
     "name": "stderr",
     "output_type": "stream",
     "text": [
      "C:\\Users\\laure\\Anaconda3\\envs\\myenv\\lib\\site-packages\\sklearn\\utils\\validation.py:760: DataConversionWarning: A column-vector y was passed when a 1d array was expected. Please change the shape of y to (n_samples, ), for example using ravel().\n",
      "  y = column_or_1d(y, warn=True)\n",
      "C:\\Users\\laure\\Anaconda3\\envs\\myenv\\lib\\site-packages\\sklearn\\utils\\validation.py:760: DataConversionWarning: A column-vector y was passed when a 1d array was expected. Please change the shape of y to (n_samples, ), for example using ravel().\n",
      "  y = column_or_1d(y, warn=True)\n"
     ]
    },
    {
     "name": "stdout",
     "output_type": "stream",
     "text": [
      "[CV] ....... C=1, degree=6, gamma=0.001, kernel=sigmoid, total=   0.3s\n",
      "[CV] C=1, degree=6, gamma=0.001, kernel=sigmoid ......................\n"
     ]
    },
    {
     "name": "stderr",
     "output_type": "stream",
     "text": [
      "C:\\Users\\laure\\Anaconda3\\envs\\myenv\\lib\\site-packages\\sklearn\\utils\\validation.py:760: DataConversionWarning: A column-vector y was passed when a 1d array was expected. Please change the shape of y to (n_samples, ), for example using ravel().\n",
      "  y = column_or_1d(y, warn=True)\n"
     ]
    },
    {
     "name": "stdout",
     "output_type": "stream",
     "text": [
      "[CV] ....... C=1, degree=6, gamma=0.001, kernel=sigmoid, total=   0.3s\n",
      "[CV] C=1, degree=6, gamma=0.001, kernel=sigmoid ......................\n"
     ]
    },
    {
     "name": "stderr",
     "output_type": "stream",
     "text": [
      "C:\\Users\\laure\\Anaconda3\\envs\\myenv\\lib\\site-packages\\sklearn\\utils\\validation.py:760: DataConversionWarning: A column-vector y was passed when a 1d array was expected. Please change the shape of y to (n_samples, ), for example using ravel().\n",
      "  y = column_or_1d(y, warn=True)\n"
     ]
    },
    {
     "name": "stdout",
     "output_type": "stream",
     "text": [
      "[CV] ....... C=1, degree=6, gamma=0.001, kernel=sigmoid, total=   0.3s\n",
      "[CV] C=1, degree=6, gamma=0.001, kernel=sigmoid ......................\n"
     ]
    },
    {
     "name": "stderr",
     "output_type": "stream",
     "text": [
      "C:\\Users\\laure\\Anaconda3\\envs\\myenv\\lib\\site-packages\\sklearn\\utils\\validation.py:760: DataConversionWarning: A column-vector y was passed when a 1d array was expected. Please change the shape of y to (n_samples, ), for example using ravel().\n",
      "  y = column_or_1d(y, warn=True)\n"
     ]
    },
    {
     "name": "stdout",
     "output_type": "stream",
     "text": [
      "[CV] ....... C=1, degree=6, gamma=0.001, kernel=sigmoid, total=   0.3s\n",
      "[CV] C=1, degree=6, gamma=0.001, kernel=sigmoid ......................\n"
     ]
    },
    {
     "name": "stderr",
     "output_type": "stream",
     "text": [
      "C:\\Users\\laure\\Anaconda3\\envs\\myenv\\lib\\site-packages\\sklearn\\utils\\validation.py:760: DataConversionWarning: A column-vector y was passed when a 1d array was expected. Please change the shape of y to (n_samples, ), for example using ravel().\n",
      "  y = column_or_1d(y, warn=True)\n"
     ]
    },
    {
     "name": "stdout",
     "output_type": "stream",
     "text": [
      "[CV] ....... C=1, degree=6, gamma=0.001, kernel=sigmoid, total=   0.3s\n",
      "[CV] C=10, degree=2, gamma=1, kernel=linear ..........................\n",
      "[CV] ........... C=10, degree=2, gamma=1, kernel=linear, total=   0.0s\n",
      "[CV] C=10, degree=2, gamma=1, kernel=linear ..........................\n",
      "[CV] ........... C=10, degree=2, gamma=1, kernel=linear, total=   0.0s\n",
      "[CV] C=10, degree=2, gamma=1, kernel=linear ..........................\n",
      "[CV] ........... C=10, degree=2, gamma=1, kernel=linear, total=   0.0s\n",
      "[CV] C=10, degree=2, gamma=1, kernel=linear ..........................\n",
      "[CV] ........... C=10, degree=2, gamma=1, kernel=linear, total=   0.0s\n",
      "[CV] C=10, degree=2, gamma=1, kernel=linear ..........................\n",
      "[CV] ........... C=10, degree=2, gamma=1, kernel=linear, total=   0.0s\n",
      "[CV] C=10, degree=2, gamma=1, kernel=rbf .............................\n",
      "[CV] .............. C=10, degree=2, gamma=1, kernel=rbf, total=   0.0s\n",
      "[CV] C=10, degree=2, gamma=1, kernel=rbf .............................\n",
      "[CV] .............. C=10, degree=2, gamma=1, kernel=rbf, total=   0.0s\n",
      "[CV] C=10, degree=2, gamma=1, kernel=rbf .............................\n",
      "[CV] .............. C=10, degree=2, gamma=1, kernel=rbf, total=   0.0s\n",
      "[CV] C=10, degree=2, gamma=1, kernel=rbf .............................\n",
      "[CV] .............. C=10, degree=2, gamma=1, kernel=rbf, total=   0.0s\n",
      "[CV] C=10, degree=2, gamma=1, kernel=rbf .............................\n",
      "[CV] .............. C=10, degree=2, gamma=1, kernel=rbf, total=   0.0s\n",
      "[CV] C=10, degree=2, gamma=1, kernel=poly ............................\n",
      "[CV] ............. C=10, degree=2, gamma=1, kernel=poly, total=   0.0s\n",
      "[CV] C=10, degree=2, gamma=1, kernel=poly ............................\n",
      "[CV] ............. C=10, degree=2, gamma=1, kernel=poly, total=   0.0s\n",
      "[CV] C=10, degree=2, gamma=1, kernel=poly ............................\n",
      "[CV] ............. C=10, degree=2, gamma=1, kernel=poly, total=   0.0s\n",
      "[CV] C=10, degree=2, gamma=1, kernel=poly ............................\n"
     ]
    },
    {
     "name": "stderr",
     "output_type": "stream",
     "text": [
      "C:\\Users\\laure\\Anaconda3\\envs\\myenv\\lib\\site-packages\\sklearn\\utils\\validation.py:760: DataConversionWarning: A column-vector y was passed when a 1d array was expected. Please change the shape of y to (n_samples, ), for example using ravel().\n",
      "  y = column_or_1d(y, warn=True)\n",
      "C:\\Users\\laure\\Anaconda3\\envs\\myenv\\lib\\site-packages\\sklearn\\utils\\validation.py:760: DataConversionWarning: A column-vector y was passed when a 1d array was expected. Please change the shape of y to (n_samples, ), for example using ravel().\n",
      "  y = column_or_1d(y, warn=True)\n",
      "C:\\Users\\laure\\Anaconda3\\envs\\myenv\\lib\\site-packages\\sklearn\\utils\\validation.py:760: DataConversionWarning: A column-vector y was passed when a 1d array was expected. Please change the shape of y to (n_samples, ), for example using ravel().\n",
      "  y = column_or_1d(y, warn=True)\n",
      "C:\\Users\\laure\\Anaconda3\\envs\\myenv\\lib\\site-packages\\sklearn\\utils\\validation.py:760: DataConversionWarning: A column-vector y was passed when a 1d array was expected. Please change the shape of y to (n_samples, ), for example using ravel().\n",
      "  y = column_or_1d(y, warn=True)\n",
      "C:\\Users\\laure\\Anaconda3\\envs\\myenv\\lib\\site-packages\\sklearn\\utils\\validation.py:760: DataConversionWarning: A column-vector y was passed when a 1d array was expected. Please change the shape of y to (n_samples, ), for example using ravel().\n",
      "  y = column_or_1d(y, warn=True)\n",
      "C:\\Users\\laure\\Anaconda3\\envs\\myenv\\lib\\site-packages\\sklearn\\utils\\validation.py:760: DataConversionWarning: A column-vector y was passed when a 1d array was expected. Please change the shape of y to (n_samples, ), for example using ravel().\n",
      "  y = column_or_1d(y, warn=True)\n",
      "C:\\Users\\laure\\Anaconda3\\envs\\myenv\\lib\\site-packages\\sklearn\\utils\\validation.py:760: DataConversionWarning: A column-vector y was passed when a 1d array was expected. Please change the shape of y to (n_samples, ), for example using ravel().\n",
      "  y = column_or_1d(y, warn=True)\n",
      "C:\\Users\\laure\\Anaconda3\\envs\\myenv\\lib\\site-packages\\sklearn\\utils\\validation.py:760: DataConversionWarning: A column-vector y was passed when a 1d array was expected. Please change the shape of y to (n_samples, ), for example using ravel().\n",
      "  y = column_or_1d(y, warn=True)\n",
      "C:\\Users\\laure\\Anaconda3\\envs\\myenv\\lib\\site-packages\\sklearn\\utils\\validation.py:760: DataConversionWarning: A column-vector y was passed when a 1d array was expected. Please change the shape of y to (n_samples, ), for example using ravel().\n",
      "  y = column_or_1d(y, warn=True)\n",
      "C:\\Users\\laure\\Anaconda3\\envs\\myenv\\lib\\site-packages\\sklearn\\utils\\validation.py:760: DataConversionWarning: A column-vector y was passed when a 1d array was expected. Please change the shape of y to (n_samples, ), for example using ravel().\n",
      "  y = column_or_1d(y, warn=True)\n",
      "C:\\Users\\laure\\Anaconda3\\envs\\myenv\\lib\\site-packages\\sklearn\\utils\\validation.py:760: DataConversionWarning: A column-vector y was passed when a 1d array was expected. Please change the shape of y to (n_samples, ), for example using ravel().\n",
      "  y = column_or_1d(y, warn=True)\n",
      "C:\\Users\\laure\\Anaconda3\\envs\\myenv\\lib\\site-packages\\sklearn\\utils\\validation.py:760: DataConversionWarning: A column-vector y was passed when a 1d array was expected. Please change the shape of y to (n_samples, ), for example using ravel().\n",
      "  y = column_or_1d(y, warn=True)\n",
      "C:\\Users\\laure\\Anaconda3\\envs\\myenv\\lib\\site-packages\\sklearn\\utils\\validation.py:760: DataConversionWarning: A column-vector y was passed when a 1d array was expected. Please change the shape of y to (n_samples, ), for example using ravel().\n",
      "  y = column_or_1d(y, warn=True)\n",
      "C:\\Users\\laure\\Anaconda3\\envs\\myenv\\lib\\site-packages\\sklearn\\utils\\validation.py:760: DataConversionWarning: A column-vector y was passed when a 1d array was expected. Please change the shape of y to (n_samples, ), for example using ravel().\n",
      "  y = column_or_1d(y, warn=True)\n",
      "C:\\Users\\laure\\Anaconda3\\envs\\myenv\\lib\\site-packages\\sklearn\\utils\\validation.py:760: DataConversionWarning: A column-vector y was passed when a 1d array was expected. Please change the shape of y to (n_samples, ), for example using ravel().\n",
      "  y = column_or_1d(y, warn=True)\n",
      "C:\\Users\\laure\\Anaconda3\\envs\\myenv\\lib\\site-packages\\sklearn\\utils\\validation.py:760: DataConversionWarning: A column-vector y was passed when a 1d array was expected. Please change the shape of y to (n_samples, ), for example using ravel().\n",
      "  y = column_or_1d(y, warn=True)\n",
      "C:\\Users\\laure\\Anaconda3\\envs\\myenv\\lib\\site-packages\\sklearn\\utils\\validation.py:760: DataConversionWarning: A column-vector y was passed when a 1d array was expected. Please change the shape of y to (n_samples, ), for example using ravel().\n",
      "  y = column_or_1d(y, warn=True)\n",
      "C:\\Users\\laure\\Anaconda3\\envs\\myenv\\lib\\site-packages\\sklearn\\utils\\validation.py:760: DataConversionWarning: A column-vector y was passed when a 1d array was expected. Please change the shape of y to (n_samples, ), for example using ravel().\n",
      "  y = column_or_1d(y, warn=True)\n",
      "C:\\Users\\laure\\Anaconda3\\envs\\myenv\\lib\\site-packages\\sklearn\\utils\\validation.py:760: DataConversionWarning: A column-vector y was passed when a 1d array was expected. Please change the shape of y to (n_samples, ), for example using ravel().\n",
      "  y = column_or_1d(y, warn=True)\n",
      "C:\\Users\\laure\\Anaconda3\\envs\\myenv\\lib\\site-packages\\sklearn\\utils\\validation.py:760: DataConversionWarning: A column-vector y was passed when a 1d array was expected. Please change the shape of y to (n_samples, ), for example using ravel().\n",
      "  y = column_or_1d(y, warn=True)\n",
      "C:\\Users\\laure\\Anaconda3\\envs\\myenv\\lib\\site-packages\\sklearn\\utils\\validation.py:760: DataConversionWarning: A column-vector y was passed when a 1d array was expected. Please change the shape of y to (n_samples, ), for example using ravel().\n",
      "  y = column_or_1d(y, warn=True)\n",
      "C:\\Users\\laure\\Anaconda3\\envs\\myenv\\lib\\site-packages\\sklearn\\utils\\validation.py:760: DataConversionWarning: A column-vector y was passed when a 1d array was expected. Please change the shape of y to (n_samples, ), for example using ravel().\n",
      "  y = column_or_1d(y, warn=True)\n",
      "C:\\Users\\laure\\Anaconda3\\envs\\myenv\\lib\\site-packages\\sklearn\\utils\\validation.py:760: DataConversionWarning: A column-vector y was passed when a 1d array was expected. Please change the shape of y to (n_samples, ), for example using ravel().\n",
      "  y = column_or_1d(y, warn=True)\n",
      "C:\\Users\\laure\\Anaconda3\\envs\\myenv\\lib\\site-packages\\sklearn\\utils\\validation.py:760: DataConversionWarning: A column-vector y was passed when a 1d array was expected. Please change the shape of y to (n_samples, ), for example using ravel().\n",
      "  y = column_or_1d(y, warn=True)\n",
      "C:\\Users\\laure\\Anaconda3\\envs\\myenv\\lib\\site-packages\\sklearn\\utils\\validation.py:760: DataConversionWarning: A column-vector y was passed when a 1d array was expected. Please change the shape of y to (n_samples, ), for example using ravel().\n",
      "  y = column_or_1d(y, warn=True)\n",
      "C:\\Users\\laure\\Anaconda3\\envs\\myenv\\lib\\site-packages\\sklearn\\utils\\validation.py:760: DataConversionWarning: A column-vector y was passed when a 1d array was expected. Please change the shape of y to (n_samples, ), for example using ravel().\n",
      "  y = column_or_1d(y, warn=True)\n"
     ]
    },
    {
     "name": "stdout",
     "output_type": "stream",
     "text": [
      "[CV] ............. C=10, degree=2, gamma=1, kernel=poly, total=   0.0s\n",
      "[CV] C=10, degree=2, gamma=1, kernel=poly ............................\n",
      "[CV] ............. C=10, degree=2, gamma=1, kernel=poly, total=   0.0s\n",
      "[CV] C=10, degree=2, gamma=1, kernel=sigmoid .........................\n",
      "[CV] .......... C=10, degree=2, gamma=1, kernel=sigmoid, total=   0.0s\n",
      "[CV] C=10, degree=2, gamma=1, kernel=sigmoid .........................\n",
      "[CV] .......... C=10, degree=2, gamma=1, kernel=sigmoid, total=   0.0s\n",
      "[CV] C=10, degree=2, gamma=1, kernel=sigmoid .........................\n",
      "[CV] .......... C=10, degree=2, gamma=1, kernel=sigmoid, total=   0.0s\n",
      "[CV] C=10, degree=2, gamma=1, kernel=sigmoid .........................\n",
      "[CV] .......... C=10, degree=2, gamma=1, kernel=sigmoid, total=   0.0s\n",
      "[CV] C=10, degree=2, gamma=1, kernel=sigmoid .........................\n",
      "[CV] .......... C=10, degree=2, gamma=1, kernel=sigmoid, total=   0.0s\n",
      "[CV] C=10, degree=2, gamma=0.1, kernel=linear ........................\n",
      "[CV] ......... C=10, degree=2, gamma=0.1, kernel=linear, total=   0.0s\n",
      "[CV] C=10, degree=2, gamma=0.1, kernel=linear ........................\n",
      "[CV] ......... C=10, degree=2, gamma=0.1, kernel=linear, total=   0.0s\n",
      "[CV] C=10, degree=2, gamma=0.1, kernel=linear ........................\n",
      "[CV] ......... C=10, degree=2, gamma=0.1, kernel=linear, total=   0.0s\n",
      "[CV] C=10, degree=2, gamma=0.1, kernel=linear ........................\n",
      "[CV] ......... C=10, degree=2, gamma=0.1, kernel=linear, total=   0.0s\n",
      "[CV] C=10, degree=2, gamma=0.1, kernel=linear ........................\n",
      "[CV] ......... C=10, degree=2, gamma=0.1, kernel=linear, total=   0.0s\n",
      "[CV] C=10, degree=2, gamma=0.1, kernel=rbf ...........................\n",
      "[CV] ............ C=10, degree=2, gamma=0.1, kernel=rbf, total=   0.0s\n",
      "[CV] C=10, degree=2, gamma=0.1, kernel=rbf ...........................\n",
      "[CV] ............ C=10, degree=2, gamma=0.1, kernel=rbf, total=   0.0s\n",
      "[CV] C=10, degree=2, gamma=0.1, kernel=rbf ...........................\n"
     ]
    },
    {
     "name": "stderr",
     "output_type": "stream",
     "text": [
      "C:\\Users\\laure\\Anaconda3\\envs\\myenv\\lib\\site-packages\\sklearn\\utils\\validation.py:760: DataConversionWarning: A column-vector y was passed when a 1d array was expected. Please change the shape of y to (n_samples, ), for example using ravel().\n",
      "  y = column_or_1d(y, warn=True)\n",
      "C:\\Users\\laure\\Anaconda3\\envs\\myenv\\lib\\site-packages\\sklearn\\utils\\validation.py:760: DataConversionWarning: A column-vector y was passed when a 1d array was expected. Please change the shape of y to (n_samples, ), for example using ravel().\n",
      "  y = column_or_1d(y, warn=True)\n",
      "C:\\Users\\laure\\Anaconda3\\envs\\myenv\\lib\\site-packages\\sklearn\\utils\\validation.py:760: DataConversionWarning: A column-vector y was passed when a 1d array was expected. Please change the shape of y to (n_samples, ), for example using ravel().\n",
      "  y = column_or_1d(y, warn=True)\n",
      "C:\\Users\\laure\\Anaconda3\\envs\\myenv\\lib\\site-packages\\sklearn\\utils\\validation.py:760: DataConversionWarning: A column-vector y was passed when a 1d array was expected. Please change the shape of y to (n_samples, ), for example using ravel().\n",
      "  y = column_or_1d(y, warn=True)\n",
      "C:\\Users\\laure\\Anaconda3\\envs\\myenv\\lib\\site-packages\\sklearn\\utils\\validation.py:760: DataConversionWarning: A column-vector y was passed when a 1d array was expected. Please change the shape of y to (n_samples, ), for example using ravel().\n",
      "  y = column_or_1d(y, warn=True)\n",
      "C:\\Users\\laure\\Anaconda3\\envs\\myenv\\lib\\site-packages\\sklearn\\utils\\validation.py:760: DataConversionWarning: A column-vector y was passed when a 1d array was expected. Please change the shape of y to (n_samples, ), for example using ravel().\n",
      "  y = column_or_1d(y, warn=True)\n",
      "C:\\Users\\laure\\Anaconda3\\envs\\myenv\\lib\\site-packages\\sklearn\\utils\\validation.py:760: DataConversionWarning: A column-vector y was passed when a 1d array was expected. Please change the shape of y to (n_samples, ), for example using ravel().\n",
      "  y = column_or_1d(y, warn=True)\n"
     ]
    },
    {
     "name": "stdout",
     "output_type": "stream",
     "text": [
      "[CV] ............ C=10, degree=2, gamma=0.1, kernel=rbf, total=   0.0s\n",
      "[CV] C=10, degree=2, gamma=0.1, kernel=rbf ...........................\n",
      "[CV] ............ C=10, degree=2, gamma=0.1, kernel=rbf, total=   0.0s\n",
      "[CV] C=10, degree=2, gamma=0.1, kernel=rbf ...........................\n",
      "[CV] ............ C=10, degree=2, gamma=0.1, kernel=rbf, total=   0.0s\n",
      "[CV] C=10, degree=2, gamma=0.1, kernel=poly ..........................\n",
      "[CV] ........... C=10, degree=2, gamma=0.1, kernel=poly, total=   0.0s\n",
      "[CV] C=10, degree=2, gamma=0.1, kernel=poly ..........................\n",
      "[CV] ........... C=10, degree=2, gamma=0.1, kernel=poly, total=   0.0s\n",
      "[CV] C=10, degree=2, gamma=0.1, kernel=poly ..........................\n",
      "[CV] ........... C=10, degree=2, gamma=0.1, kernel=poly, total=   0.0s\n",
      "[CV] C=10, degree=2, gamma=0.1, kernel=poly ..........................\n",
      "[CV] ........... C=10, degree=2, gamma=0.1, kernel=poly, total=   0.0s\n",
      "[CV] C=10, degree=2, gamma=0.1, kernel=poly ..........................\n"
     ]
    },
    {
     "name": "stderr",
     "output_type": "stream",
     "text": [
      "C:\\Users\\laure\\Anaconda3\\envs\\myenv\\lib\\site-packages\\sklearn\\utils\\validation.py:760: DataConversionWarning: A column-vector y was passed when a 1d array was expected. Please change the shape of y to (n_samples, ), for example using ravel().\n",
      "  y = column_or_1d(y, warn=True)\n",
      "C:\\Users\\laure\\Anaconda3\\envs\\myenv\\lib\\site-packages\\sklearn\\utils\\validation.py:760: DataConversionWarning: A column-vector y was passed when a 1d array was expected. Please change the shape of y to (n_samples, ), for example using ravel().\n",
      "  y = column_or_1d(y, warn=True)\n",
      "C:\\Users\\laure\\Anaconda3\\envs\\myenv\\lib\\site-packages\\sklearn\\utils\\validation.py:760: DataConversionWarning: A column-vector y was passed when a 1d array was expected. Please change the shape of y to (n_samples, ), for example using ravel().\n",
      "  y = column_or_1d(y, warn=True)\n",
      "C:\\Users\\laure\\Anaconda3\\envs\\myenv\\lib\\site-packages\\sklearn\\utils\\validation.py:760: DataConversionWarning: A column-vector y was passed when a 1d array was expected. Please change the shape of y to (n_samples, ), for example using ravel().\n",
      "  y = column_or_1d(y, warn=True)\n",
      "C:\\Users\\laure\\Anaconda3\\envs\\myenv\\lib\\site-packages\\sklearn\\utils\\validation.py:760: DataConversionWarning: A column-vector y was passed when a 1d array was expected. Please change the shape of y to (n_samples, ), for example using ravel().\n",
      "  y = column_or_1d(y, warn=True)\n",
      "C:\\Users\\laure\\Anaconda3\\envs\\myenv\\lib\\site-packages\\sklearn\\utils\\validation.py:760: DataConversionWarning: A column-vector y was passed when a 1d array was expected. Please change the shape of y to (n_samples, ), for example using ravel().\n",
      "  y = column_or_1d(y, warn=True)\n",
      "C:\\Users\\laure\\Anaconda3\\envs\\myenv\\lib\\site-packages\\sklearn\\utils\\validation.py:760: DataConversionWarning: A column-vector y was passed when a 1d array was expected. Please change the shape of y to (n_samples, ), for example using ravel().\n",
      "  y = column_or_1d(y, warn=True)\n",
      "C:\\Users\\laure\\Anaconda3\\envs\\myenv\\lib\\site-packages\\sklearn\\utils\\validation.py:760: DataConversionWarning: A column-vector y was passed when a 1d array was expected. Please change the shape of y to (n_samples, ), for example using ravel().\n",
      "  y = column_or_1d(y, warn=True)\n",
      "C:\\Users\\laure\\Anaconda3\\envs\\myenv\\lib\\site-packages\\sklearn\\utils\\validation.py:760: DataConversionWarning: A column-vector y was passed when a 1d array was expected. Please change the shape of y to (n_samples, ), for example using ravel().\n",
      "  y = column_or_1d(y, warn=True)\n",
      "C:\\Users\\laure\\Anaconda3\\envs\\myenv\\lib\\site-packages\\sklearn\\utils\\validation.py:760: DataConversionWarning: A column-vector y was passed when a 1d array was expected. Please change the shape of y to (n_samples, ), for example using ravel().\n",
      "  y = column_or_1d(y, warn=True)\n",
      "C:\\Users\\laure\\Anaconda3\\envs\\myenv\\lib\\site-packages\\sklearn\\utils\\validation.py:760: DataConversionWarning: A column-vector y was passed when a 1d array was expected. Please change the shape of y to (n_samples, ), for example using ravel().\n",
      "  y = column_or_1d(y, warn=True)\n"
     ]
    },
    {
     "name": "stdout",
     "output_type": "stream",
     "text": [
      "[CV] ........... C=10, degree=2, gamma=0.1, kernel=poly, total=   0.0s\n",
      "[CV] C=10, degree=2, gamma=0.1, kernel=sigmoid .......................\n",
      "[CV] ........ C=10, degree=2, gamma=0.1, kernel=sigmoid, total=   0.0s\n",
      "[CV] C=10, degree=2, gamma=0.1, kernel=sigmoid .......................\n",
      "[CV] ........ C=10, degree=2, gamma=0.1, kernel=sigmoid, total=   0.0s\n",
      "[CV] C=10, degree=2, gamma=0.1, kernel=sigmoid .......................\n",
      "[CV] ........ C=10, degree=2, gamma=0.1, kernel=sigmoid, total=   0.0s\n",
      "[CV] C=10, degree=2, gamma=0.1, kernel=sigmoid .......................\n",
      "[CV] ........ C=10, degree=2, gamma=0.1, kernel=sigmoid, total=   0.0s\n",
      "[CV] C=10, degree=2, gamma=0.1, kernel=sigmoid .......................\n",
      "[CV] ........ C=10, degree=2, gamma=0.1, kernel=sigmoid, total=   0.0s\n",
      "[CV] C=10, degree=2, gamma=0.01, kernel=linear .......................\n",
      "[CV] ........ C=10, degree=2, gamma=0.01, kernel=linear, total=   0.0s\n",
      "[CV] C=10, degree=2, gamma=0.01, kernel=linear .......................\n",
      "[CV] ........ C=10, degree=2, gamma=0.01, kernel=linear, total=   0.0s\n",
      "[CV] C=10, degree=2, gamma=0.01, kernel=linear .......................\n",
      "[CV] ........ C=10, degree=2, gamma=0.01, kernel=linear, total=   0.0s\n",
      "[CV] C=10, degree=2, gamma=0.01, kernel=linear .......................\n",
      "[CV] ........ C=10, degree=2, gamma=0.01, kernel=linear, total=   0.0s\n",
      "[CV] C=10, degree=2, gamma=0.01, kernel=linear .......................\n",
      "[CV] ........ C=10, degree=2, gamma=0.01, kernel=linear, total=   0.0s\n",
      "[CV] C=10, degree=2, gamma=0.01, kernel=rbf ..........................\n",
      "[CV] ........... C=10, degree=2, gamma=0.01, kernel=rbf, total=   0.0s\n",
      "[CV] C=10, degree=2, gamma=0.01, kernel=rbf ..........................\n",
      "[CV] ........... C=10, degree=2, gamma=0.01, kernel=rbf, total=   0.0s\n",
      "[CV] C=10, degree=2, gamma=0.01, kernel=rbf ..........................\n"
     ]
    },
    {
     "name": "stderr",
     "output_type": "stream",
     "text": [
      "C:\\Users\\laure\\Anaconda3\\envs\\myenv\\lib\\site-packages\\sklearn\\utils\\validation.py:760: DataConversionWarning: A column-vector y was passed when a 1d array was expected. Please change the shape of y to (n_samples, ), for example using ravel().\n",
      "  y = column_or_1d(y, warn=True)\n",
      "C:\\Users\\laure\\Anaconda3\\envs\\myenv\\lib\\site-packages\\sklearn\\utils\\validation.py:760: DataConversionWarning: A column-vector y was passed when a 1d array was expected. Please change the shape of y to (n_samples, ), for example using ravel().\n",
      "  y = column_or_1d(y, warn=True)\n",
      "C:\\Users\\laure\\Anaconda3\\envs\\myenv\\lib\\site-packages\\sklearn\\utils\\validation.py:760: DataConversionWarning: A column-vector y was passed when a 1d array was expected. Please change the shape of y to (n_samples, ), for example using ravel().\n",
      "  y = column_or_1d(y, warn=True)\n",
      "C:\\Users\\laure\\Anaconda3\\envs\\myenv\\lib\\site-packages\\sklearn\\utils\\validation.py:760: DataConversionWarning: A column-vector y was passed when a 1d array was expected. Please change the shape of y to (n_samples, ), for example using ravel().\n",
      "  y = column_or_1d(y, warn=True)\n",
      "C:\\Users\\laure\\Anaconda3\\envs\\myenv\\lib\\site-packages\\sklearn\\utils\\validation.py:760: DataConversionWarning: A column-vector y was passed when a 1d array was expected. Please change the shape of y to (n_samples, ), for example using ravel().\n",
      "  y = column_or_1d(y, warn=True)\n",
      "C:\\Users\\laure\\Anaconda3\\envs\\myenv\\lib\\site-packages\\sklearn\\utils\\validation.py:760: DataConversionWarning: A column-vector y was passed when a 1d array was expected. Please change the shape of y to (n_samples, ), for example using ravel().\n",
      "  y = column_or_1d(y, warn=True)\n",
      "C:\\Users\\laure\\Anaconda3\\envs\\myenv\\lib\\site-packages\\sklearn\\utils\\validation.py:760: DataConversionWarning: A column-vector y was passed when a 1d array was expected. Please change the shape of y to (n_samples, ), for example using ravel().\n",
      "  y = column_or_1d(y, warn=True)\n"
     ]
    },
    {
     "name": "stdout",
     "output_type": "stream",
     "text": [
      "[CV] ........... C=10, degree=2, gamma=0.01, kernel=rbf, total=   0.0s\n",
      "[CV] C=10, degree=2, gamma=0.01, kernel=rbf ..........................\n",
      "[CV] ........... C=10, degree=2, gamma=0.01, kernel=rbf, total=   0.0s\n",
      "[CV] C=10, degree=2, gamma=0.01, kernel=rbf ..........................\n",
      "[CV] ........... C=10, degree=2, gamma=0.01, kernel=rbf, total=   0.0s\n",
      "[CV] C=10, degree=2, gamma=0.01, kernel=poly .........................\n",
      "[CV] .......... C=10, degree=2, gamma=0.01, kernel=poly, total=   0.1s\n",
      "[CV] C=10, degree=2, gamma=0.01, kernel=poly .........................\n"
     ]
    },
    {
     "name": "stderr",
     "output_type": "stream",
     "text": [
      "C:\\Users\\laure\\Anaconda3\\envs\\myenv\\lib\\site-packages\\sklearn\\utils\\validation.py:760: DataConversionWarning: A column-vector y was passed when a 1d array was expected. Please change the shape of y to (n_samples, ), for example using ravel().\n",
      "  y = column_or_1d(y, warn=True)\n",
      "C:\\Users\\laure\\Anaconda3\\envs\\myenv\\lib\\site-packages\\sklearn\\utils\\validation.py:760: DataConversionWarning: A column-vector y was passed when a 1d array was expected. Please change the shape of y to (n_samples, ), for example using ravel().\n",
      "  y = column_or_1d(y, warn=True)\n"
     ]
    },
    {
     "name": "stdout",
     "output_type": "stream",
     "text": [
      "[CV] .......... C=10, degree=2, gamma=0.01, kernel=poly, total=   0.1s\n",
      "[CV] C=10, degree=2, gamma=0.01, kernel=poly .........................\n",
      "[CV] .......... C=10, degree=2, gamma=0.01, kernel=poly, total=   0.2s\n",
      "[CV] C=10, degree=2, gamma=0.01, kernel=poly .........................\n"
     ]
    },
    {
     "name": "stderr",
     "output_type": "stream",
     "text": [
      "C:\\Users\\laure\\Anaconda3\\envs\\myenv\\lib\\site-packages\\sklearn\\utils\\validation.py:760: DataConversionWarning: A column-vector y was passed when a 1d array was expected. Please change the shape of y to (n_samples, ), for example using ravel().\n",
      "  y = column_or_1d(y, warn=True)\n",
      "C:\\Users\\laure\\Anaconda3\\envs\\myenv\\lib\\site-packages\\sklearn\\utils\\validation.py:760: DataConversionWarning: A column-vector y was passed when a 1d array was expected. Please change the shape of y to (n_samples, ), for example using ravel().\n",
      "  y = column_or_1d(y, warn=True)\n"
     ]
    },
    {
     "name": "stdout",
     "output_type": "stream",
     "text": [
      "[CV] .......... C=10, degree=2, gamma=0.01, kernel=poly, total=   0.1s\n",
      "[CV] C=10, degree=2, gamma=0.01, kernel=poly .........................\n",
      "[CV] .......... C=10, degree=2, gamma=0.01, kernel=poly, total=   0.1s\n",
      "[CV] C=10, degree=2, gamma=0.01, kernel=sigmoid ......................\n",
      "[CV] ....... C=10, degree=2, gamma=0.01, kernel=sigmoid, total=   0.0s\n",
      "[CV] C=10, degree=2, gamma=0.01, kernel=sigmoid ......................\n",
      "[CV] ....... C=10, degree=2, gamma=0.01, kernel=sigmoid, total=   0.0s\n",
      "[CV] C=10, degree=2, gamma=0.01, kernel=sigmoid ......................\n"
     ]
    },
    {
     "name": "stderr",
     "output_type": "stream",
     "text": [
      "C:\\Users\\laure\\Anaconda3\\envs\\myenv\\lib\\site-packages\\sklearn\\utils\\validation.py:760: DataConversionWarning: A column-vector y was passed when a 1d array was expected. Please change the shape of y to (n_samples, ), for example using ravel().\n",
      "  y = column_or_1d(y, warn=True)\n",
      "C:\\Users\\laure\\Anaconda3\\envs\\myenv\\lib\\site-packages\\sklearn\\utils\\validation.py:760: DataConversionWarning: A column-vector y was passed when a 1d array was expected. Please change the shape of y to (n_samples, ), for example using ravel().\n",
      "  y = column_or_1d(y, warn=True)\n",
      "C:\\Users\\laure\\Anaconda3\\envs\\myenv\\lib\\site-packages\\sklearn\\utils\\validation.py:760: DataConversionWarning: A column-vector y was passed when a 1d array was expected. Please change the shape of y to (n_samples, ), for example using ravel().\n",
      "  y = column_or_1d(y, warn=True)\n",
      "C:\\Users\\laure\\Anaconda3\\envs\\myenv\\lib\\site-packages\\sklearn\\utils\\validation.py:760: DataConversionWarning: A column-vector y was passed when a 1d array was expected. Please change the shape of y to (n_samples, ), for example using ravel().\n",
      "  y = column_or_1d(y, warn=True)\n",
      "C:\\Users\\laure\\Anaconda3\\envs\\myenv\\lib\\site-packages\\sklearn\\utils\\validation.py:760: DataConversionWarning: A column-vector y was passed when a 1d array was expected. Please change the shape of y to (n_samples, ), for example using ravel().\n",
      "  y = column_or_1d(y, warn=True)\n",
      "C:\\Users\\laure\\Anaconda3\\envs\\myenv\\lib\\site-packages\\sklearn\\utils\\validation.py:760: DataConversionWarning: A column-vector y was passed when a 1d array was expected. Please change the shape of y to (n_samples, ), for example using ravel().\n",
      "  y = column_or_1d(y, warn=True)\n",
      "C:\\Users\\laure\\Anaconda3\\envs\\myenv\\lib\\site-packages\\sklearn\\utils\\validation.py:760: DataConversionWarning: A column-vector y was passed when a 1d array was expected. Please change the shape of y to (n_samples, ), for example using ravel().\n",
      "  y = column_or_1d(y, warn=True)\n",
      "C:\\Users\\laure\\Anaconda3\\envs\\myenv\\lib\\site-packages\\sklearn\\utils\\validation.py:760: DataConversionWarning: A column-vector y was passed when a 1d array was expected. Please change the shape of y to (n_samples, ), for example using ravel().\n",
      "  y = column_or_1d(y, warn=True)\n",
      "C:\\Users\\laure\\Anaconda3\\envs\\myenv\\lib\\site-packages\\sklearn\\utils\\validation.py:760: DataConversionWarning: A column-vector y was passed when a 1d array was expected. Please change the shape of y to (n_samples, ), for example using ravel().\n",
      "  y = column_or_1d(y, warn=True)\n",
      "C:\\Users\\laure\\Anaconda3\\envs\\myenv\\lib\\site-packages\\sklearn\\utils\\validation.py:760: DataConversionWarning: A column-vector y was passed when a 1d array was expected. Please change the shape of y to (n_samples, ), for example using ravel().\n",
      "  y = column_or_1d(y, warn=True)\n"
     ]
    },
    {
     "name": "stdout",
     "output_type": "stream",
     "text": [
      "[CV] ....... C=10, degree=2, gamma=0.01, kernel=sigmoid, total=   0.0s\n",
      "[CV] C=10, degree=2, gamma=0.01, kernel=sigmoid ......................\n",
      "[CV] ....... C=10, degree=2, gamma=0.01, kernel=sigmoid, total=   0.0s\n",
      "[CV] C=10, degree=2, gamma=0.01, kernel=sigmoid ......................\n",
      "[CV] ....... C=10, degree=2, gamma=0.01, kernel=sigmoid, total=   0.0s\n",
      "[CV] C=10, degree=2, gamma=0.001, kernel=linear ......................\n",
      "[CV] ....... C=10, degree=2, gamma=0.001, kernel=linear, total=   0.0s\n",
      "[CV] C=10, degree=2, gamma=0.001, kernel=linear ......................\n",
      "[CV] ....... C=10, degree=2, gamma=0.001, kernel=linear, total=   0.0s\n",
      "[CV] C=10, degree=2, gamma=0.001, kernel=linear ......................\n",
      "[CV] ....... C=10, degree=2, gamma=0.001, kernel=linear, total=   0.0s\n",
      "[CV] C=10, degree=2, gamma=0.001, kernel=linear ......................\n",
      "[CV] ....... C=10, degree=2, gamma=0.001, kernel=linear, total=   0.0s\n",
      "[CV] C=10, degree=2, gamma=0.001, kernel=linear ......................\n",
      "[CV] ....... C=10, degree=2, gamma=0.001, kernel=linear, total=   0.0s\n",
      "[CV] C=10, degree=2, gamma=0.001, kernel=rbf .........................\n",
      "[CV] .......... C=10, degree=2, gamma=0.001, kernel=rbf, total=   0.1s\n",
      "[CV] C=10, degree=2, gamma=0.001, kernel=rbf .........................\n"
     ]
    },
    {
     "name": "stderr",
     "output_type": "stream",
     "text": [
      "C:\\Users\\laure\\Anaconda3\\envs\\myenv\\lib\\site-packages\\sklearn\\utils\\validation.py:760: DataConversionWarning: A column-vector y was passed when a 1d array was expected. Please change the shape of y to (n_samples, ), for example using ravel().\n",
      "  y = column_or_1d(y, warn=True)\n",
      "C:\\Users\\laure\\Anaconda3\\envs\\myenv\\lib\\site-packages\\sklearn\\utils\\validation.py:760: DataConversionWarning: A column-vector y was passed when a 1d array was expected. Please change the shape of y to (n_samples, ), for example using ravel().\n",
      "  y = column_or_1d(y, warn=True)\n",
      "C:\\Users\\laure\\Anaconda3\\envs\\myenv\\lib\\site-packages\\sklearn\\utils\\validation.py:760: DataConversionWarning: A column-vector y was passed when a 1d array was expected. Please change the shape of y to (n_samples, ), for example using ravel().\n",
      "  y = column_or_1d(y, warn=True)\n"
     ]
    },
    {
     "name": "stdout",
     "output_type": "stream",
     "text": [
      "[CV] .......... C=10, degree=2, gamma=0.001, kernel=rbf, total=   0.1s\n",
      "[CV] C=10, degree=2, gamma=0.001, kernel=rbf .........................\n",
      "[CV] .......... C=10, degree=2, gamma=0.001, kernel=rbf, total=   0.1s\n",
      "[CV] C=10, degree=2, gamma=0.001, kernel=rbf .........................\n",
      "[CV] .......... C=10, degree=2, gamma=0.001, kernel=rbf, total=   0.1s\n",
      "[CV] C=10, degree=2, gamma=0.001, kernel=rbf .........................\n"
     ]
    },
    {
     "name": "stderr",
     "output_type": "stream",
     "text": [
      "C:\\Users\\laure\\Anaconda3\\envs\\myenv\\lib\\site-packages\\sklearn\\utils\\validation.py:760: DataConversionWarning: A column-vector y was passed when a 1d array was expected. Please change the shape of y to (n_samples, ), for example using ravel().\n",
      "  y = column_or_1d(y, warn=True)\n",
      "C:\\Users\\laure\\Anaconda3\\envs\\myenv\\lib\\site-packages\\sklearn\\utils\\validation.py:760: DataConversionWarning: A column-vector y was passed when a 1d array was expected. Please change the shape of y to (n_samples, ), for example using ravel().\n",
      "  y = column_or_1d(y, warn=True)\n",
      "C:\\Users\\laure\\Anaconda3\\envs\\myenv\\lib\\site-packages\\sklearn\\utils\\validation.py:760: DataConversionWarning: A column-vector y was passed when a 1d array was expected. Please change the shape of y to (n_samples, ), for example using ravel().\n",
      "  y = column_or_1d(y, warn=True)\n"
     ]
    },
    {
     "name": "stdout",
     "output_type": "stream",
     "text": [
      "[CV] .......... C=10, degree=2, gamma=0.001, kernel=rbf, total=   0.1s\n",
      "[CV] C=10, degree=2, gamma=0.001, kernel=poly ........................\n",
      "[CV] ......... C=10, degree=2, gamma=0.001, kernel=poly, total=   0.1s\n",
      "[CV] C=10, degree=2, gamma=0.001, kernel=poly ........................\n"
     ]
    },
    {
     "name": "stderr",
     "output_type": "stream",
     "text": [
      "C:\\Users\\laure\\Anaconda3\\envs\\myenv\\lib\\site-packages\\sklearn\\utils\\validation.py:760: DataConversionWarning: A column-vector y was passed when a 1d array was expected. Please change the shape of y to (n_samples, ), for example using ravel().\n",
      "  y = column_or_1d(y, warn=True)\n",
      "C:\\Users\\laure\\Anaconda3\\envs\\myenv\\lib\\site-packages\\sklearn\\utils\\validation.py:760: DataConversionWarning: A column-vector y was passed when a 1d array was expected. Please change the shape of y to (n_samples, ), for example using ravel().\n",
      "  y = column_or_1d(y, warn=True)\n"
     ]
    },
    {
     "name": "stdout",
     "output_type": "stream",
     "text": [
      "[CV] ......... C=10, degree=2, gamma=0.001, kernel=poly, total=   0.2s\n",
      "[CV] C=10, degree=2, gamma=0.001, kernel=poly ........................\n",
      "[CV] ......... C=10, degree=2, gamma=0.001, kernel=poly, total=   0.1s\n",
      "[CV] C=10, degree=2, gamma=0.001, kernel=poly ........................\n"
     ]
    },
    {
     "name": "stderr",
     "output_type": "stream",
     "text": [
      "C:\\Users\\laure\\Anaconda3\\envs\\myenv\\lib\\site-packages\\sklearn\\utils\\validation.py:760: DataConversionWarning: A column-vector y was passed when a 1d array was expected. Please change the shape of y to (n_samples, ), for example using ravel().\n",
      "  y = column_or_1d(y, warn=True)\n",
      "C:\\Users\\laure\\Anaconda3\\envs\\myenv\\lib\\site-packages\\sklearn\\utils\\validation.py:760: DataConversionWarning: A column-vector y was passed when a 1d array was expected. Please change the shape of y to (n_samples, ), for example using ravel().\n",
      "  y = column_or_1d(y, warn=True)\n"
     ]
    },
    {
     "name": "stdout",
     "output_type": "stream",
     "text": [
      "[CV] ......... C=10, degree=2, gamma=0.001, kernel=poly, total=   0.1s\n",
      "[CV] C=10, degree=2, gamma=0.001, kernel=poly ........................\n",
      "[CV] ......... C=10, degree=2, gamma=0.001, kernel=poly, total=   0.2s\n",
      "[CV] C=10, degree=2, gamma=0.001, kernel=sigmoid .....................\n"
     ]
    },
    {
     "name": "stderr",
     "output_type": "stream",
     "text": [
      "C:\\Users\\laure\\Anaconda3\\envs\\myenv\\lib\\site-packages\\sklearn\\utils\\validation.py:760: DataConversionWarning: A column-vector y was passed when a 1d array was expected. Please change the shape of y to (n_samples, ), for example using ravel().\n",
      "  y = column_or_1d(y, warn=True)\n",
      "C:\\Users\\laure\\Anaconda3\\envs\\myenv\\lib\\site-packages\\sklearn\\utils\\validation.py:760: DataConversionWarning: A column-vector y was passed when a 1d array was expected. Please change the shape of y to (n_samples, ), for example using ravel().\n",
      "  y = column_or_1d(y, warn=True)\n"
     ]
    },
    {
     "name": "stdout",
     "output_type": "stream",
     "text": [
      "[CV] ...... C=10, degree=2, gamma=0.001, kernel=sigmoid, total=   0.1s\n",
      "[CV] C=10, degree=2, gamma=0.001, kernel=sigmoid .....................\n",
      "[CV] ...... C=10, degree=2, gamma=0.001, kernel=sigmoid, total=   0.1s\n",
      "[CV] C=10, degree=2, gamma=0.001, kernel=sigmoid .....................\n"
     ]
    },
    {
     "name": "stderr",
     "output_type": "stream",
     "text": [
      "C:\\Users\\laure\\Anaconda3\\envs\\myenv\\lib\\site-packages\\sklearn\\utils\\validation.py:760: DataConversionWarning: A column-vector y was passed when a 1d array was expected. Please change the shape of y to (n_samples, ), for example using ravel().\n",
      "  y = column_or_1d(y, warn=True)\n",
      "C:\\Users\\laure\\Anaconda3\\envs\\myenv\\lib\\site-packages\\sklearn\\utils\\validation.py:760: DataConversionWarning: A column-vector y was passed when a 1d array was expected. Please change the shape of y to (n_samples, ), for example using ravel().\n",
      "  y = column_or_1d(y, warn=True)\n"
     ]
    },
    {
     "name": "stdout",
     "output_type": "stream",
     "text": [
      "[CV] ...... C=10, degree=2, gamma=0.001, kernel=sigmoid, total=   0.1s\n",
      "[CV] C=10, degree=2, gamma=0.001, kernel=sigmoid .....................\n",
      "[CV] ...... C=10, degree=2, gamma=0.001, kernel=sigmoid, total=   0.1s\n",
      "[CV] C=10, degree=2, gamma=0.001, kernel=sigmoid .....................\n"
     ]
    },
    {
     "name": "stderr",
     "output_type": "stream",
     "text": [
      "C:\\Users\\laure\\Anaconda3\\envs\\myenv\\lib\\site-packages\\sklearn\\utils\\validation.py:760: DataConversionWarning: A column-vector y was passed when a 1d array was expected. Please change the shape of y to (n_samples, ), for example using ravel().\n",
      "  y = column_or_1d(y, warn=True)\n",
      "C:\\Users\\laure\\Anaconda3\\envs\\myenv\\lib\\site-packages\\sklearn\\utils\\validation.py:760: DataConversionWarning: A column-vector y was passed when a 1d array was expected. Please change the shape of y to (n_samples, ), for example using ravel().\n",
      "  y = column_or_1d(y, warn=True)\n",
      "C:\\Users\\laure\\Anaconda3\\envs\\myenv\\lib\\site-packages\\sklearn\\utils\\validation.py:760: DataConversionWarning: A column-vector y was passed when a 1d array was expected. Please change the shape of y to (n_samples, ), for example using ravel().\n",
      "  y = column_or_1d(y, warn=True)\n",
      "C:\\Users\\laure\\Anaconda3\\envs\\myenv\\lib\\site-packages\\sklearn\\utils\\validation.py:760: DataConversionWarning: A column-vector y was passed when a 1d array was expected. Please change the shape of y to (n_samples, ), for example using ravel().\n",
      "  y = column_or_1d(y, warn=True)\n",
      "C:\\Users\\laure\\Anaconda3\\envs\\myenv\\lib\\site-packages\\sklearn\\utils\\validation.py:760: DataConversionWarning: A column-vector y was passed when a 1d array was expected. Please change the shape of y to (n_samples, ), for example using ravel().\n",
      "  y = column_or_1d(y, warn=True)\n",
      "C:\\Users\\laure\\Anaconda3\\envs\\myenv\\lib\\site-packages\\sklearn\\utils\\validation.py:760: DataConversionWarning: A column-vector y was passed when a 1d array was expected. Please change the shape of y to (n_samples, ), for example using ravel().\n",
      "  y = column_or_1d(y, warn=True)\n",
      "C:\\Users\\laure\\Anaconda3\\envs\\myenv\\lib\\site-packages\\sklearn\\utils\\validation.py:760: DataConversionWarning: A column-vector y was passed when a 1d array was expected. Please change the shape of y to (n_samples, ), for example using ravel().\n",
      "  y = column_or_1d(y, warn=True)\n",
      "C:\\Users\\laure\\Anaconda3\\envs\\myenv\\lib\\site-packages\\sklearn\\utils\\validation.py:760: DataConversionWarning: A column-vector y was passed when a 1d array was expected. Please change the shape of y to (n_samples, ), for example using ravel().\n",
      "  y = column_or_1d(y, warn=True)\n",
      "C:\\Users\\laure\\Anaconda3\\envs\\myenv\\lib\\site-packages\\sklearn\\utils\\validation.py:760: DataConversionWarning: A column-vector y was passed when a 1d array was expected. Please change the shape of y to (n_samples, ), for example using ravel().\n",
      "  y = column_or_1d(y, warn=True)\n"
     ]
    },
    {
     "name": "stdout",
     "output_type": "stream",
     "text": [
      "[CV] ...... C=10, degree=2, gamma=0.001, kernel=sigmoid, total=   0.1s\n",
      "[CV] C=10, degree=3, gamma=1, kernel=linear ..........................\n",
      "[CV] ........... C=10, degree=3, gamma=1, kernel=linear, total=   0.0s\n",
      "[CV] C=10, degree=3, gamma=1, kernel=linear ..........................\n",
      "[CV] ........... C=10, degree=3, gamma=1, kernel=linear, total=   0.0s\n",
      "[CV] C=10, degree=3, gamma=1, kernel=linear ..........................\n",
      "[CV] ........... C=10, degree=3, gamma=1, kernel=linear, total=   0.0s\n",
      "[CV] C=10, degree=3, gamma=1, kernel=linear ..........................\n",
      "[CV] ........... C=10, degree=3, gamma=1, kernel=linear, total=   0.0s\n",
      "[CV] C=10, degree=3, gamma=1, kernel=linear ..........................\n",
      "[CV] ........... C=10, degree=3, gamma=1, kernel=linear, total=   0.0s\n",
      "[CV] C=10, degree=3, gamma=1, kernel=rbf .............................\n",
      "[CV] .............. C=10, degree=3, gamma=1, kernel=rbf, total=   0.0s\n",
      "[CV] C=10, degree=3, gamma=1, kernel=rbf .............................\n",
      "[CV] .............. C=10, degree=3, gamma=1, kernel=rbf, total=   0.0s\n",
      "[CV] C=10, degree=3, gamma=1, kernel=rbf .............................\n",
      "[CV] .............. C=10, degree=3, gamma=1, kernel=rbf, total=   0.0s\n",
      "[CV] C=10, degree=3, gamma=1, kernel=rbf .............................\n",
      "[CV] .............. C=10, degree=3, gamma=1, kernel=rbf, total=   0.0s\n",
      "[CV] C=10, degree=3, gamma=1, kernel=rbf .............................\n",
      "[CV] .............. C=10, degree=3, gamma=1, kernel=rbf, total=   0.0s\n",
      "[CV] C=10, degree=3, gamma=1, kernel=poly ............................\n",
      "[CV] ............. C=10, degree=3, gamma=1, kernel=poly, total=   0.0s\n",
      "[CV] C=10, degree=3, gamma=1, kernel=poly ............................\n",
      "[CV] ............. C=10, degree=3, gamma=1, kernel=poly, total=   0.0s\n",
      "[CV] C=10, degree=3, gamma=1, kernel=poly ............................\n",
      "[CV] ............. C=10, degree=3, gamma=1, kernel=poly, total=   0.0s\n",
      "[CV] C=10, degree=3, gamma=1, kernel=poly ............................\n",
      "[CV] ............. C=10, degree=3, gamma=1, kernel=poly, total=   0.0s\n",
      "[CV] C=10, degree=3, gamma=1, kernel=poly ............................\n",
      "[CV] ............. C=10, degree=3, gamma=1, kernel=poly, total=   0.0s\n",
      "[CV] C=10, degree=3, gamma=1, kernel=sigmoid .........................\n",
      "[CV] .......... C=10, degree=3, gamma=1, kernel=sigmoid, total=   0.0s\n",
      "[CV] C=10, degree=3, gamma=1, kernel=sigmoid .........................\n",
      "[CV] .......... C=10, degree=3, gamma=1, kernel=sigmoid, total=   0.0s\n"
     ]
    },
    {
     "name": "stderr",
     "output_type": "stream",
     "text": [
      "C:\\Users\\laure\\Anaconda3\\envs\\myenv\\lib\\site-packages\\sklearn\\utils\\validation.py:760: DataConversionWarning: A column-vector y was passed when a 1d array was expected. Please change the shape of y to (n_samples, ), for example using ravel().\n",
      "  y = column_or_1d(y, warn=True)\n",
      "C:\\Users\\laure\\Anaconda3\\envs\\myenv\\lib\\site-packages\\sklearn\\utils\\validation.py:760: DataConversionWarning: A column-vector y was passed when a 1d array was expected. Please change the shape of y to (n_samples, ), for example using ravel().\n",
      "  y = column_or_1d(y, warn=True)\n",
      "C:\\Users\\laure\\Anaconda3\\envs\\myenv\\lib\\site-packages\\sklearn\\utils\\validation.py:760: DataConversionWarning: A column-vector y was passed when a 1d array was expected. Please change the shape of y to (n_samples, ), for example using ravel().\n",
      "  y = column_or_1d(y, warn=True)\n",
      "C:\\Users\\laure\\Anaconda3\\envs\\myenv\\lib\\site-packages\\sklearn\\utils\\validation.py:760: DataConversionWarning: A column-vector y was passed when a 1d array was expected. Please change the shape of y to (n_samples, ), for example using ravel().\n",
      "  y = column_or_1d(y, warn=True)\n",
      "C:\\Users\\laure\\Anaconda3\\envs\\myenv\\lib\\site-packages\\sklearn\\utils\\validation.py:760: DataConversionWarning: A column-vector y was passed when a 1d array was expected. Please change the shape of y to (n_samples, ), for example using ravel().\n",
      "  y = column_or_1d(y, warn=True)\n",
      "C:\\Users\\laure\\Anaconda3\\envs\\myenv\\lib\\site-packages\\sklearn\\utils\\validation.py:760: DataConversionWarning: A column-vector y was passed when a 1d array was expected. Please change the shape of y to (n_samples, ), for example using ravel().\n",
      "  y = column_or_1d(y, warn=True)\n",
      "C:\\Users\\laure\\Anaconda3\\envs\\myenv\\lib\\site-packages\\sklearn\\utils\\validation.py:760: DataConversionWarning: A column-vector y was passed when a 1d array was expected. Please change the shape of y to (n_samples, ), for example using ravel().\n",
      "  y = column_or_1d(y, warn=True)\n",
      "C:\\Users\\laure\\Anaconda3\\envs\\myenv\\lib\\site-packages\\sklearn\\utils\\validation.py:760: DataConversionWarning: A column-vector y was passed when a 1d array was expected. Please change the shape of y to (n_samples, ), for example using ravel().\n",
      "  y = column_or_1d(y, warn=True)\n",
      "C:\\Users\\laure\\Anaconda3\\envs\\myenv\\lib\\site-packages\\sklearn\\utils\\validation.py:760: DataConversionWarning: A column-vector y was passed when a 1d array was expected. Please change the shape of y to (n_samples, ), for example using ravel().\n",
      "  y = column_or_1d(y, warn=True)\n",
      "C:\\Users\\laure\\Anaconda3\\envs\\myenv\\lib\\site-packages\\sklearn\\utils\\validation.py:760: DataConversionWarning: A column-vector y was passed when a 1d array was expected. Please change the shape of y to (n_samples, ), for example using ravel().\n",
      "  y = column_or_1d(y, warn=True)\n",
      "C:\\Users\\laure\\Anaconda3\\envs\\myenv\\lib\\site-packages\\sklearn\\utils\\validation.py:760: DataConversionWarning: A column-vector y was passed when a 1d array was expected. Please change the shape of y to (n_samples, ), for example using ravel().\n",
      "  y = column_or_1d(y, warn=True)\n",
      "C:\\Users\\laure\\Anaconda3\\envs\\myenv\\lib\\site-packages\\sklearn\\utils\\validation.py:760: DataConversionWarning: A column-vector y was passed when a 1d array was expected. Please change the shape of y to (n_samples, ), for example using ravel().\n",
      "  y = column_or_1d(y, warn=True)\n",
      "C:\\Users\\laure\\Anaconda3\\envs\\myenv\\lib\\site-packages\\sklearn\\utils\\validation.py:760: DataConversionWarning: A column-vector y was passed when a 1d array was expected. Please change the shape of y to (n_samples, ), for example using ravel().\n",
      "  y = column_or_1d(y, warn=True)\n",
      "C:\\Users\\laure\\Anaconda3\\envs\\myenv\\lib\\site-packages\\sklearn\\utils\\validation.py:760: DataConversionWarning: A column-vector y was passed when a 1d array was expected. Please change the shape of y to (n_samples, ), for example using ravel().\n",
      "  y = column_or_1d(y, warn=True)\n",
      "C:\\Users\\laure\\Anaconda3\\envs\\myenv\\lib\\site-packages\\sklearn\\utils\\validation.py:760: DataConversionWarning: A column-vector y was passed when a 1d array was expected. Please change the shape of y to (n_samples, ), for example using ravel().\n",
      "  y = column_or_1d(y, warn=True)\n",
      "C:\\Users\\laure\\Anaconda3\\envs\\myenv\\lib\\site-packages\\sklearn\\utils\\validation.py:760: DataConversionWarning: A column-vector y was passed when a 1d array was expected. Please change the shape of y to (n_samples, ), for example using ravel().\n",
      "  y = column_or_1d(y, warn=True)\n",
      "C:\\Users\\laure\\Anaconda3\\envs\\myenv\\lib\\site-packages\\sklearn\\utils\\validation.py:760: DataConversionWarning: A column-vector y was passed when a 1d array was expected. Please change the shape of y to (n_samples, ), for example using ravel().\n",
      "  y = column_or_1d(y, warn=True)\n"
     ]
    },
    {
     "name": "stdout",
     "output_type": "stream",
     "text": [
      "[CV] C=10, degree=3, gamma=1, kernel=sigmoid .........................\n",
      "[CV] .......... C=10, degree=3, gamma=1, kernel=sigmoid, total=   0.0s\n",
      "[CV] C=10, degree=3, gamma=1, kernel=sigmoid .........................\n",
      "[CV] .......... C=10, degree=3, gamma=1, kernel=sigmoid, total=   0.0s\n",
      "[CV] C=10, degree=3, gamma=1, kernel=sigmoid .........................\n",
      "[CV] .......... C=10, degree=3, gamma=1, kernel=sigmoid, total=   0.0s\n",
      "[CV] C=10, degree=3, gamma=0.1, kernel=linear ........................\n",
      "[CV] ......... C=10, degree=3, gamma=0.1, kernel=linear, total=   0.0s\n",
      "[CV] C=10, degree=3, gamma=0.1, kernel=linear ........................\n",
      "[CV] ......... C=10, degree=3, gamma=0.1, kernel=linear, total=   0.0s\n",
      "[CV] C=10, degree=3, gamma=0.1, kernel=linear ........................\n",
      "[CV] ......... C=10, degree=3, gamma=0.1, kernel=linear, total=   0.0s\n",
      "[CV] C=10, degree=3, gamma=0.1, kernel=linear ........................\n",
      "[CV] ......... C=10, degree=3, gamma=0.1, kernel=linear, total=   0.0s\n",
      "[CV] C=10, degree=3, gamma=0.1, kernel=linear ........................\n",
      "[CV] ......... C=10, degree=3, gamma=0.1, kernel=linear, total=   0.0s\n",
      "[CV] C=10, degree=3, gamma=0.1, kernel=rbf ...........................\n",
      "[CV] ............ C=10, degree=3, gamma=0.1, kernel=rbf, total=   0.0s\n",
      "[CV] C=10, degree=3, gamma=0.1, kernel=rbf ...........................\n",
      "[CV] ............ C=10, degree=3, gamma=0.1, kernel=rbf, total=   0.0s\n",
      "[CV] C=10, degree=3, gamma=0.1, kernel=rbf ...........................\n",
      "[CV] ............ C=10, degree=3, gamma=0.1, kernel=rbf, total=   0.0s\n",
      "[CV] C=10, degree=3, gamma=0.1, kernel=rbf ...........................\n",
      "[CV] ............ C=10, degree=3, gamma=0.1, kernel=rbf, total=   0.0s\n",
      "[CV] C=10, degree=3, gamma=0.1, kernel=rbf ...........................\n"
     ]
    },
    {
     "name": "stderr",
     "output_type": "stream",
     "text": [
      "C:\\Users\\laure\\Anaconda3\\envs\\myenv\\lib\\site-packages\\sklearn\\utils\\validation.py:760: DataConversionWarning: A column-vector y was passed when a 1d array was expected. Please change the shape of y to (n_samples, ), for example using ravel().\n",
      "  y = column_or_1d(y, warn=True)\n",
      "C:\\Users\\laure\\Anaconda3\\envs\\myenv\\lib\\site-packages\\sklearn\\utils\\validation.py:760: DataConversionWarning: A column-vector y was passed when a 1d array was expected. Please change the shape of y to (n_samples, ), for example using ravel().\n",
      "  y = column_or_1d(y, warn=True)\n",
      "C:\\Users\\laure\\Anaconda3\\envs\\myenv\\lib\\site-packages\\sklearn\\utils\\validation.py:760: DataConversionWarning: A column-vector y was passed when a 1d array was expected. Please change the shape of y to (n_samples, ), for example using ravel().\n",
      "  y = column_or_1d(y, warn=True)\n",
      "C:\\Users\\laure\\Anaconda3\\envs\\myenv\\lib\\site-packages\\sklearn\\utils\\validation.py:760: DataConversionWarning: A column-vector y was passed when a 1d array was expected. Please change the shape of y to (n_samples, ), for example using ravel().\n",
      "  y = column_or_1d(y, warn=True)\n",
      "C:\\Users\\laure\\Anaconda3\\envs\\myenv\\lib\\site-packages\\sklearn\\utils\\validation.py:760: DataConversionWarning: A column-vector y was passed when a 1d array was expected. Please change the shape of y to (n_samples, ), for example using ravel().\n",
      "  y = column_or_1d(y, warn=True)\n",
      "C:\\Users\\laure\\Anaconda3\\envs\\myenv\\lib\\site-packages\\sklearn\\utils\\validation.py:760: DataConversionWarning: A column-vector y was passed when a 1d array was expected. Please change the shape of y to (n_samples, ), for example using ravel().\n",
      "  y = column_or_1d(y, warn=True)\n",
      "C:\\Users\\laure\\Anaconda3\\envs\\myenv\\lib\\site-packages\\sklearn\\utils\\validation.py:760: DataConversionWarning: A column-vector y was passed when a 1d array was expected. Please change the shape of y to (n_samples, ), for example using ravel().\n",
      "  y = column_or_1d(y, warn=True)\n"
     ]
    },
    {
     "name": "stdout",
     "output_type": "stream",
     "text": [
      "[CV] ............ C=10, degree=3, gamma=0.1, kernel=rbf, total=   0.0s\n",
      "[CV] C=10, degree=3, gamma=0.1, kernel=poly ..........................\n",
      "[CV] ........... C=10, degree=3, gamma=0.1, kernel=poly, total=   0.1s\n",
      "[CV] C=10, degree=3, gamma=0.1, kernel=poly ..........................\n",
      "[CV] ........... C=10, degree=3, gamma=0.1, kernel=poly, total=   0.1s\n",
      "[CV] C=10, degree=3, gamma=0.1, kernel=poly ..........................\n",
      "[CV] ........... C=10, degree=3, gamma=0.1, kernel=poly, total=   0.0s\n",
      "[CV] C=10, degree=3, gamma=0.1, kernel=poly ..........................\n"
     ]
    },
    {
     "name": "stderr",
     "output_type": "stream",
     "text": [
      "C:\\Users\\laure\\Anaconda3\\envs\\myenv\\lib\\site-packages\\sklearn\\utils\\validation.py:760: DataConversionWarning: A column-vector y was passed when a 1d array was expected. Please change the shape of y to (n_samples, ), for example using ravel().\n",
      "  y = column_or_1d(y, warn=True)\n",
      "C:\\Users\\laure\\Anaconda3\\envs\\myenv\\lib\\site-packages\\sklearn\\utils\\validation.py:760: DataConversionWarning: A column-vector y was passed when a 1d array was expected. Please change the shape of y to (n_samples, ), for example using ravel().\n",
      "  y = column_or_1d(y, warn=True)\n",
      "C:\\Users\\laure\\Anaconda3\\envs\\myenv\\lib\\site-packages\\sklearn\\utils\\validation.py:760: DataConversionWarning: A column-vector y was passed when a 1d array was expected. Please change the shape of y to (n_samples, ), for example using ravel().\n",
      "  y = column_or_1d(y, warn=True)\n",
      "C:\\Users\\laure\\Anaconda3\\envs\\myenv\\lib\\site-packages\\sklearn\\utils\\validation.py:760: DataConversionWarning: A column-vector y was passed when a 1d array was expected. Please change the shape of y to (n_samples, ), for example using ravel().\n",
      "  y = column_or_1d(y, warn=True)\n",
      "C:\\Users\\laure\\Anaconda3\\envs\\myenv\\lib\\site-packages\\sklearn\\utils\\validation.py:760: DataConversionWarning: A column-vector y was passed when a 1d array was expected. Please change the shape of y to (n_samples, ), for example using ravel().\n",
      "  y = column_or_1d(y, warn=True)\n"
     ]
    },
    {
     "name": "stdout",
     "output_type": "stream",
     "text": [
      "[CV] ........... C=10, degree=3, gamma=0.1, kernel=poly, total=   0.1s\n",
      "[CV] C=10, degree=3, gamma=0.1, kernel=poly ..........................\n",
      "[CV] ........... C=10, degree=3, gamma=0.1, kernel=poly, total=   0.1s\n",
      "[CV] C=10, degree=3, gamma=0.1, kernel=sigmoid .......................\n",
      "[CV] ........ C=10, degree=3, gamma=0.1, kernel=sigmoid, total=   0.0s\n",
      "[CV] C=10, degree=3, gamma=0.1, kernel=sigmoid .......................\n",
      "[CV] ........ C=10, degree=3, gamma=0.1, kernel=sigmoid, total=   0.0s\n",
      "[CV] C=10, degree=3, gamma=0.1, kernel=sigmoid .......................\n",
      "[CV] ........ C=10, degree=3, gamma=0.1, kernel=sigmoid, total=   0.0s\n",
      "[CV] C=10, degree=3, gamma=0.1, kernel=sigmoid .......................\n",
      "[CV] ........ C=10, degree=3, gamma=0.1, kernel=sigmoid, total=   0.0s\n",
      "[CV] C=10, degree=3, gamma=0.1, kernel=sigmoid .......................\n",
      "[CV] ........ C=10, degree=3, gamma=0.1, kernel=sigmoid, total=   0.0s\n",
      "[CV] C=10, degree=3, gamma=0.01, kernel=linear .......................\n",
      "[CV] ........ C=10, degree=3, gamma=0.01, kernel=linear, total=   0.0s\n",
      "[CV] C=10, degree=3, gamma=0.01, kernel=linear .......................\n",
      "[CV] ........ C=10, degree=3, gamma=0.01, kernel=linear, total=   0.0s\n"
     ]
    },
    {
     "name": "stderr",
     "output_type": "stream",
     "text": [
      "C:\\Users\\laure\\Anaconda3\\envs\\myenv\\lib\\site-packages\\sklearn\\utils\\validation.py:760: DataConversionWarning: A column-vector y was passed when a 1d array was expected. Please change the shape of y to (n_samples, ), for example using ravel().\n",
      "  y = column_or_1d(y, warn=True)\n",
      "C:\\Users\\laure\\Anaconda3\\envs\\myenv\\lib\\site-packages\\sklearn\\utils\\validation.py:760: DataConversionWarning: A column-vector y was passed when a 1d array was expected. Please change the shape of y to (n_samples, ), for example using ravel().\n",
      "  y = column_or_1d(y, warn=True)\n",
      "C:\\Users\\laure\\Anaconda3\\envs\\myenv\\lib\\site-packages\\sklearn\\utils\\validation.py:760: DataConversionWarning: A column-vector y was passed when a 1d array was expected. Please change the shape of y to (n_samples, ), for example using ravel().\n",
      "  y = column_or_1d(y, warn=True)\n",
      "C:\\Users\\laure\\Anaconda3\\envs\\myenv\\lib\\site-packages\\sklearn\\utils\\validation.py:760: DataConversionWarning: A column-vector y was passed when a 1d array was expected. Please change the shape of y to (n_samples, ), for example using ravel().\n",
      "  y = column_or_1d(y, warn=True)\n",
      "C:\\Users\\laure\\Anaconda3\\envs\\myenv\\lib\\site-packages\\sklearn\\utils\\validation.py:760: DataConversionWarning: A column-vector y was passed when a 1d array was expected. Please change the shape of y to (n_samples, ), for example using ravel().\n",
      "  y = column_or_1d(y, warn=True)\n",
      "C:\\Users\\laure\\Anaconda3\\envs\\myenv\\lib\\site-packages\\sklearn\\utils\\validation.py:760: DataConversionWarning: A column-vector y was passed when a 1d array was expected. Please change the shape of y to (n_samples, ), for example using ravel().\n",
      "  y = column_or_1d(y, warn=True)\n",
      "C:\\Users\\laure\\Anaconda3\\envs\\myenv\\lib\\site-packages\\sklearn\\utils\\validation.py:760: DataConversionWarning: A column-vector y was passed when a 1d array was expected. Please change the shape of y to (n_samples, ), for example using ravel().\n",
      "  y = column_or_1d(y, warn=True)\n",
      "C:\\Users\\laure\\Anaconda3\\envs\\myenv\\lib\\site-packages\\sklearn\\utils\\validation.py:760: DataConversionWarning: A column-vector y was passed when a 1d array was expected. Please change the shape of y to (n_samples, ), for example using ravel().\n",
      "  y = column_or_1d(y, warn=True)\n",
      "C:\\Users\\laure\\Anaconda3\\envs\\myenv\\lib\\site-packages\\sklearn\\utils\\validation.py:760: DataConversionWarning: A column-vector y was passed when a 1d array was expected. Please change the shape of y to (n_samples, ), for example using ravel().\n",
      "  y = column_or_1d(y, warn=True)\n",
      "C:\\Users\\laure\\Anaconda3\\envs\\myenv\\lib\\site-packages\\sklearn\\utils\\validation.py:760: DataConversionWarning: A column-vector y was passed when a 1d array was expected. Please change the shape of y to (n_samples, ), for example using ravel().\n",
      "  y = column_or_1d(y, warn=True)\n",
      "C:\\Users\\laure\\Anaconda3\\envs\\myenv\\lib\\site-packages\\sklearn\\utils\\validation.py:760: DataConversionWarning: A column-vector y was passed when a 1d array was expected. Please change the shape of y to (n_samples, ), for example using ravel().\n",
      "  y = column_or_1d(y, warn=True)\n"
     ]
    },
    {
     "name": "stdout",
     "output_type": "stream",
     "text": [
      "[CV] C=10, degree=3, gamma=0.01, kernel=linear .......................\n",
      "[CV] ........ C=10, degree=3, gamma=0.01, kernel=linear, total=   0.0s\n",
      "[CV] C=10, degree=3, gamma=0.01, kernel=linear .......................\n",
      "[CV] ........ C=10, degree=3, gamma=0.01, kernel=linear, total=   0.0s\n",
      "[CV] C=10, degree=3, gamma=0.01, kernel=linear .......................\n",
      "[CV] ........ C=10, degree=3, gamma=0.01, kernel=linear, total=   0.0s\n",
      "[CV] C=10, degree=3, gamma=0.01, kernel=rbf ..........................\n",
      "[CV] ........... C=10, degree=3, gamma=0.01, kernel=rbf, total=   0.0s\n",
      "[CV] C=10, degree=3, gamma=0.01, kernel=rbf ..........................\n",
      "[CV] ........... C=10, degree=3, gamma=0.01, kernel=rbf, total=   0.0s\n",
      "[CV] C=10, degree=3, gamma=0.01, kernel=rbf ..........................\n",
      "[CV] ........... C=10, degree=3, gamma=0.01, kernel=rbf, total=   0.0s\n",
      "[CV] C=10, degree=3, gamma=0.01, kernel=rbf ..........................\n",
      "[CV] ........... C=10, degree=3, gamma=0.01, kernel=rbf, total=   0.0s\n",
      "[CV] C=10, degree=3, gamma=0.01, kernel=rbf ..........................\n",
      "[CV] ........... C=10, degree=3, gamma=0.01, kernel=rbf, total=   0.0s\n",
      "[CV] C=10, degree=3, gamma=0.01, kernel=poly .........................\n"
     ]
    },
    {
     "name": "stderr",
     "output_type": "stream",
     "text": [
      "C:\\Users\\laure\\Anaconda3\\envs\\myenv\\lib\\site-packages\\sklearn\\utils\\validation.py:760: DataConversionWarning: A column-vector y was passed when a 1d array was expected. Please change the shape of y to (n_samples, ), for example using ravel().\n",
      "  y = column_or_1d(y, warn=True)\n",
      "C:\\Users\\laure\\Anaconda3\\envs\\myenv\\lib\\site-packages\\sklearn\\utils\\validation.py:760: DataConversionWarning: A column-vector y was passed when a 1d array was expected. Please change the shape of y to (n_samples, ), for example using ravel().\n",
      "  y = column_or_1d(y, warn=True)\n",
      "C:\\Users\\laure\\Anaconda3\\envs\\myenv\\lib\\site-packages\\sklearn\\utils\\validation.py:760: DataConversionWarning: A column-vector y was passed when a 1d array was expected. Please change the shape of y to (n_samples, ), for example using ravel().\n",
      "  y = column_or_1d(y, warn=True)\n"
     ]
    },
    {
     "name": "stdout",
     "output_type": "stream",
     "text": [
      "[CV] .......... C=10, degree=3, gamma=0.01, kernel=poly, total=   0.1s\n",
      "[CV] C=10, degree=3, gamma=0.01, kernel=poly .........................\n",
      "[CV] .......... C=10, degree=3, gamma=0.01, kernel=poly, total=   0.1s\n",
      "[CV] C=10, degree=3, gamma=0.01, kernel=poly .........................\n"
     ]
    },
    {
     "name": "stderr",
     "output_type": "stream",
     "text": [
      "C:\\Users\\laure\\Anaconda3\\envs\\myenv\\lib\\site-packages\\sklearn\\utils\\validation.py:760: DataConversionWarning: A column-vector y was passed when a 1d array was expected. Please change the shape of y to (n_samples, ), for example using ravel().\n",
      "  y = column_or_1d(y, warn=True)\n",
      "C:\\Users\\laure\\Anaconda3\\envs\\myenv\\lib\\site-packages\\sklearn\\utils\\validation.py:760: DataConversionWarning: A column-vector y was passed when a 1d array was expected. Please change the shape of y to (n_samples, ), for example using ravel().\n",
      "  y = column_or_1d(y, warn=True)\n"
     ]
    },
    {
     "name": "stdout",
     "output_type": "stream",
     "text": [
      "[CV] .......... C=10, degree=3, gamma=0.01, kernel=poly, total=   0.1s\n",
      "[CV] C=10, degree=3, gamma=0.01, kernel=poly .........................\n",
      "[CV] .......... C=10, degree=3, gamma=0.01, kernel=poly, total=   0.1s\n",
      "[CV] C=10, degree=3, gamma=0.01, kernel=poly .........................\n"
     ]
    },
    {
     "name": "stderr",
     "output_type": "stream",
     "text": [
      "C:\\Users\\laure\\Anaconda3\\envs\\myenv\\lib\\site-packages\\sklearn\\utils\\validation.py:760: DataConversionWarning: A column-vector y was passed when a 1d array was expected. Please change the shape of y to (n_samples, ), for example using ravel().\n",
      "  y = column_or_1d(y, warn=True)\n",
      "C:\\Users\\laure\\Anaconda3\\envs\\myenv\\lib\\site-packages\\sklearn\\utils\\validation.py:760: DataConversionWarning: A column-vector y was passed when a 1d array was expected. Please change the shape of y to (n_samples, ), for example using ravel().\n",
      "  y = column_or_1d(y, warn=True)\n"
     ]
    },
    {
     "name": "stdout",
     "output_type": "stream",
     "text": [
      "[CV] .......... C=10, degree=3, gamma=0.01, kernel=poly, total=   0.1s\n",
      "[CV] C=10, degree=3, gamma=0.01, kernel=sigmoid ......................\n",
      "[CV] ....... C=10, degree=3, gamma=0.01, kernel=sigmoid, total=   0.0s\n",
      "[CV] C=10, degree=3, gamma=0.01, kernel=sigmoid ......................\n",
      "[CV] ....... C=10, degree=3, gamma=0.01, kernel=sigmoid, total=   0.0s\n",
      "[CV] C=10, degree=3, gamma=0.01, kernel=sigmoid ......................\n",
      "[CV] ....... C=10, degree=3, gamma=0.01, kernel=sigmoid, total=   0.0s\n",
      "[CV] C=10, degree=3, gamma=0.01, kernel=sigmoid ......................\n",
      "[CV] ....... C=10, degree=3, gamma=0.01, kernel=sigmoid, total=   0.0s\n",
      "[CV] C=10, degree=3, gamma=0.01, kernel=sigmoid ......................\n",
      "[CV] ....... C=10, degree=3, gamma=0.01, kernel=sigmoid, total=   0.0s\n",
      "[CV] C=10, degree=3, gamma=0.001, kernel=linear ......................\n",
      "[CV] ....... C=10, degree=3, gamma=0.001, kernel=linear, total=   0.0s\n",
      "[CV] C=10, degree=3, gamma=0.001, kernel=linear ......................\n",
      "[CV] ....... C=10, degree=3, gamma=0.001, kernel=linear, total=   0.0s\n",
      "[CV] C=10, degree=3, gamma=0.001, kernel=linear ......................\n",
      "[CV] ....... C=10, degree=3, gamma=0.001, kernel=linear, total=   0.0s\n",
      "[CV] C=10, degree=3, gamma=0.001, kernel=linear ......................\n",
      "[CV] ....... C=10, degree=3, gamma=0.001, kernel=linear, total=   0.0s\n",
      "[CV] C=10, degree=3, gamma=0.001, kernel=linear ......................\n",
      "[CV] ....... C=10, degree=3, gamma=0.001, kernel=linear, total=   0.0s\n",
      "[CV] C=10, degree=3, gamma=0.001, kernel=rbf .........................\n"
     ]
    },
    {
     "name": "stderr",
     "output_type": "stream",
     "text": [
      "C:\\Users\\laure\\Anaconda3\\envs\\myenv\\lib\\site-packages\\sklearn\\utils\\validation.py:760: DataConversionWarning: A column-vector y was passed when a 1d array was expected. Please change the shape of y to (n_samples, ), for example using ravel().\n",
      "  y = column_or_1d(y, warn=True)\n",
      "C:\\Users\\laure\\Anaconda3\\envs\\myenv\\lib\\site-packages\\sklearn\\utils\\validation.py:760: DataConversionWarning: A column-vector y was passed when a 1d array was expected. Please change the shape of y to (n_samples, ), for example using ravel().\n",
      "  y = column_or_1d(y, warn=True)\n",
      "C:\\Users\\laure\\Anaconda3\\envs\\myenv\\lib\\site-packages\\sklearn\\utils\\validation.py:760: DataConversionWarning: A column-vector y was passed when a 1d array was expected. Please change the shape of y to (n_samples, ), for example using ravel().\n",
      "  y = column_or_1d(y, warn=True)\n",
      "C:\\Users\\laure\\Anaconda3\\envs\\myenv\\lib\\site-packages\\sklearn\\utils\\validation.py:760: DataConversionWarning: A column-vector y was passed when a 1d array was expected. Please change the shape of y to (n_samples, ), for example using ravel().\n",
      "  y = column_or_1d(y, warn=True)\n",
      "C:\\Users\\laure\\Anaconda3\\envs\\myenv\\lib\\site-packages\\sklearn\\utils\\validation.py:760: DataConversionWarning: A column-vector y was passed when a 1d array was expected. Please change the shape of y to (n_samples, ), for example using ravel().\n",
      "  y = column_or_1d(y, warn=True)\n",
      "C:\\Users\\laure\\Anaconda3\\envs\\myenv\\lib\\site-packages\\sklearn\\utils\\validation.py:760: DataConversionWarning: A column-vector y was passed when a 1d array was expected. Please change the shape of y to (n_samples, ), for example using ravel().\n",
      "  y = column_or_1d(y, warn=True)\n",
      "C:\\Users\\laure\\Anaconda3\\envs\\myenv\\lib\\site-packages\\sklearn\\utils\\validation.py:760: DataConversionWarning: A column-vector y was passed when a 1d array was expected. Please change the shape of y to (n_samples, ), for example using ravel().\n",
      "  y = column_or_1d(y, warn=True)\n",
      "C:\\Users\\laure\\Anaconda3\\envs\\myenv\\lib\\site-packages\\sklearn\\utils\\validation.py:760: DataConversionWarning: A column-vector y was passed when a 1d array was expected. Please change the shape of y to (n_samples, ), for example using ravel().\n",
      "  y = column_or_1d(y, warn=True)\n",
      "C:\\Users\\laure\\Anaconda3\\envs\\myenv\\lib\\site-packages\\sklearn\\utils\\validation.py:760: DataConversionWarning: A column-vector y was passed when a 1d array was expected. Please change the shape of y to (n_samples, ), for example using ravel().\n",
      "  y = column_or_1d(y, warn=True)\n",
      "C:\\Users\\laure\\Anaconda3\\envs\\myenv\\lib\\site-packages\\sklearn\\utils\\validation.py:760: DataConversionWarning: A column-vector y was passed when a 1d array was expected. Please change the shape of y to (n_samples, ), for example using ravel().\n",
      "  y = column_or_1d(y, warn=True)\n",
      "C:\\Users\\laure\\Anaconda3\\envs\\myenv\\lib\\site-packages\\sklearn\\utils\\validation.py:760: DataConversionWarning: A column-vector y was passed when a 1d array was expected. Please change the shape of y to (n_samples, ), for example using ravel().\n",
      "  y = column_or_1d(y, warn=True)\n"
     ]
    },
    {
     "name": "stdout",
     "output_type": "stream",
     "text": [
      "[CV] .......... C=10, degree=3, gamma=0.001, kernel=rbf, total=   0.1s\n",
      "[CV] C=10, degree=3, gamma=0.001, kernel=rbf .........................\n",
      "[CV] .......... C=10, degree=3, gamma=0.001, kernel=rbf, total=   0.1s\n",
      "[CV] C=10, degree=3, gamma=0.001, kernel=rbf .........................\n",
      "[CV] .......... C=10, degree=3, gamma=0.001, kernel=rbf, total=   0.1s\n",
      "[CV] C=10, degree=3, gamma=0.001, kernel=rbf .........................\n"
     ]
    },
    {
     "name": "stderr",
     "output_type": "stream",
     "text": [
      "C:\\Users\\laure\\Anaconda3\\envs\\myenv\\lib\\site-packages\\sklearn\\utils\\validation.py:760: DataConversionWarning: A column-vector y was passed when a 1d array was expected. Please change the shape of y to (n_samples, ), for example using ravel().\n",
      "  y = column_or_1d(y, warn=True)\n",
      "C:\\Users\\laure\\Anaconda3\\envs\\myenv\\lib\\site-packages\\sklearn\\utils\\validation.py:760: DataConversionWarning: A column-vector y was passed when a 1d array was expected. Please change the shape of y to (n_samples, ), for example using ravel().\n",
      "  y = column_or_1d(y, warn=True)\n",
      "C:\\Users\\laure\\Anaconda3\\envs\\myenv\\lib\\site-packages\\sklearn\\utils\\validation.py:760: DataConversionWarning: A column-vector y was passed when a 1d array was expected. Please change the shape of y to (n_samples, ), for example using ravel().\n",
      "  y = column_or_1d(y, warn=True)\n"
     ]
    },
    {
     "name": "stdout",
     "output_type": "stream",
     "text": [
      "[CV] .......... C=10, degree=3, gamma=0.001, kernel=rbf, total=   0.1s\n",
      "[CV] C=10, degree=3, gamma=0.001, kernel=rbf .........................\n",
      "[CV] .......... C=10, degree=3, gamma=0.001, kernel=rbf, total=   0.1s\n",
      "[CV] C=10, degree=3, gamma=0.001, kernel=poly ........................\n"
     ]
    },
    {
     "name": "stderr",
     "output_type": "stream",
     "text": [
      "C:\\Users\\laure\\Anaconda3\\envs\\myenv\\lib\\site-packages\\sklearn\\utils\\validation.py:760: DataConversionWarning: A column-vector y was passed when a 1d array was expected. Please change the shape of y to (n_samples, ), for example using ravel().\n",
      "  y = column_or_1d(y, warn=True)\n",
      "C:\\Users\\laure\\Anaconda3\\envs\\myenv\\lib\\site-packages\\sklearn\\utils\\validation.py:760: DataConversionWarning: A column-vector y was passed when a 1d array was expected. Please change the shape of y to (n_samples, ), for example using ravel().\n",
      "  y = column_or_1d(y, warn=True)\n"
     ]
    },
    {
     "name": "stdout",
     "output_type": "stream",
     "text": [
      "[CV] ......... C=10, degree=3, gamma=0.001, kernel=poly, total=   0.2s\n",
      "[CV] C=10, degree=3, gamma=0.001, kernel=poly ........................\n",
      "[CV] ......... C=10, degree=3, gamma=0.001, kernel=poly, total=   0.2s\n",
      "[CV] C=10, degree=3, gamma=0.001, kernel=poly ........................\n"
     ]
    },
    {
     "name": "stderr",
     "output_type": "stream",
     "text": [
      "C:\\Users\\laure\\Anaconda3\\envs\\myenv\\lib\\site-packages\\sklearn\\utils\\validation.py:760: DataConversionWarning: A column-vector y was passed when a 1d array was expected. Please change the shape of y to (n_samples, ), for example using ravel().\n",
      "  y = column_or_1d(y, warn=True)\n",
      "C:\\Users\\laure\\Anaconda3\\envs\\myenv\\lib\\site-packages\\sklearn\\utils\\validation.py:760: DataConversionWarning: A column-vector y was passed when a 1d array was expected. Please change the shape of y to (n_samples, ), for example using ravel().\n",
      "  y = column_or_1d(y, warn=True)\n"
     ]
    },
    {
     "name": "stdout",
     "output_type": "stream",
     "text": [
      "[CV] ......... C=10, degree=3, gamma=0.001, kernel=poly, total=   0.2s\n",
      "[CV] C=10, degree=3, gamma=0.001, kernel=poly ........................\n",
      "[CV] ......... C=10, degree=3, gamma=0.001, kernel=poly, total=   0.2s\n",
      "[CV] C=10, degree=3, gamma=0.001, kernel=poly ........................\n"
     ]
    },
    {
     "name": "stderr",
     "output_type": "stream",
     "text": [
      "C:\\Users\\laure\\Anaconda3\\envs\\myenv\\lib\\site-packages\\sklearn\\utils\\validation.py:760: DataConversionWarning: A column-vector y was passed when a 1d array was expected. Please change the shape of y to (n_samples, ), for example using ravel().\n",
      "  y = column_or_1d(y, warn=True)\n",
      "C:\\Users\\laure\\Anaconda3\\envs\\myenv\\lib\\site-packages\\sklearn\\utils\\validation.py:760: DataConversionWarning: A column-vector y was passed when a 1d array was expected. Please change the shape of y to (n_samples, ), for example using ravel().\n",
      "  y = column_or_1d(y, warn=True)\n",
      "C:\\Users\\laure\\Anaconda3\\envs\\myenv\\lib\\site-packages\\sklearn\\utils\\validation.py:760: DataConversionWarning: A column-vector y was passed when a 1d array was expected. Please change the shape of y to (n_samples, ), for example using ravel().\n",
      "  y = column_or_1d(y, warn=True)\n"
     ]
    },
    {
     "name": "stdout",
     "output_type": "stream",
     "text": [
      "[CV] ......... C=10, degree=3, gamma=0.001, kernel=poly, total=   0.1s\n",
      "[CV] C=10, degree=3, gamma=0.001, kernel=sigmoid .....................\n",
      "[CV] ...... C=10, degree=3, gamma=0.001, kernel=sigmoid, total=   0.1s\n",
      "[CV] C=10, degree=3, gamma=0.001, kernel=sigmoid .....................\n"
     ]
    },
    {
     "name": "stderr",
     "output_type": "stream",
     "text": [
      "C:\\Users\\laure\\Anaconda3\\envs\\myenv\\lib\\site-packages\\sklearn\\utils\\validation.py:760: DataConversionWarning: A column-vector y was passed when a 1d array was expected. Please change the shape of y to (n_samples, ), for example using ravel().\n",
      "  y = column_or_1d(y, warn=True)\n",
      "C:\\Users\\laure\\Anaconda3\\envs\\myenv\\lib\\site-packages\\sklearn\\utils\\validation.py:760: DataConversionWarning: A column-vector y was passed when a 1d array was expected. Please change the shape of y to (n_samples, ), for example using ravel().\n",
      "  y = column_or_1d(y, warn=True)\n"
     ]
    },
    {
     "name": "stdout",
     "output_type": "stream",
     "text": [
      "[CV] ...... C=10, degree=3, gamma=0.001, kernel=sigmoid, total=   0.1s\n",
      "[CV] C=10, degree=3, gamma=0.001, kernel=sigmoid .....................\n",
      "[CV] ...... C=10, degree=3, gamma=0.001, kernel=sigmoid, total=   0.1s\n",
      "[CV] C=10, degree=3, gamma=0.001, kernel=sigmoid .....................\n"
     ]
    },
    {
     "name": "stderr",
     "output_type": "stream",
     "text": [
      "C:\\Users\\laure\\Anaconda3\\envs\\myenv\\lib\\site-packages\\sklearn\\utils\\validation.py:760: DataConversionWarning: A column-vector y was passed when a 1d array was expected. Please change the shape of y to (n_samples, ), for example using ravel().\n",
      "  y = column_or_1d(y, warn=True)\n",
      "C:\\Users\\laure\\Anaconda3\\envs\\myenv\\lib\\site-packages\\sklearn\\utils\\validation.py:760: DataConversionWarning: A column-vector y was passed when a 1d array was expected. Please change the shape of y to (n_samples, ), for example using ravel().\n",
      "  y = column_or_1d(y, warn=True)\n"
     ]
    },
    {
     "name": "stdout",
     "output_type": "stream",
     "text": [
      "[CV] ...... C=10, degree=3, gamma=0.001, kernel=sigmoid, total=   0.1s\n",
      "[CV] C=10, degree=3, gamma=0.001, kernel=sigmoid .....................\n",
      "[CV] ...... C=10, degree=3, gamma=0.001, kernel=sigmoid, total=   0.1s\n",
      "[CV] C=10, degree=4, gamma=1, kernel=linear ..........................\n",
      "[CV] ........... C=10, degree=4, gamma=1, kernel=linear, total=   0.0s\n",
      "[CV] C=10, degree=4, gamma=1, kernel=linear ..........................\n",
      "[CV] ........... C=10, degree=4, gamma=1, kernel=linear, total=   0.0s\n",
      "[CV] C=10, degree=4, gamma=1, kernel=linear ..........................\n",
      "[CV] ........... C=10, degree=4, gamma=1, kernel=linear, total=   0.0s\n",
      "[CV] C=10, degree=4, gamma=1, kernel=linear ..........................\n",
      "[CV] ........... C=10, degree=4, gamma=1, kernel=linear, total=   0.0s\n",
      "[CV] C=10, degree=4, gamma=1, kernel=linear ..........................\n",
      "[CV] ........... C=10, degree=4, gamma=1, kernel=linear, total=   0.0s\n",
      "[CV] C=10, degree=4, gamma=1, kernel=rbf .............................\n",
      "[CV] .............. C=10, degree=4, gamma=1, kernel=rbf, total=   0.0s\n",
      "[CV] C=10, degree=4, gamma=1, kernel=rbf .............................\n",
      "[CV] .............. C=10, degree=4, gamma=1, kernel=rbf, total=   0.0s\n",
      "[CV] C=10, degree=4, gamma=1, kernel=rbf .............................\n"
     ]
    },
    {
     "name": "stderr",
     "output_type": "stream",
     "text": [
      "C:\\Users\\laure\\Anaconda3\\envs\\myenv\\lib\\site-packages\\sklearn\\utils\\validation.py:760: DataConversionWarning: A column-vector y was passed when a 1d array was expected. Please change the shape of y to (n_samples, ), for example using ravel().\n",
      "  y = column_or_1d(y, warn=True)\n",
      "C:\\Users\\laure\\Anaconda3\\envs\\myenv\\lib\\site-packages\\sklearn\\utils\\validation.py:760: DataConversionWarning: A column-vector y was passed when a 1d array was expected. Please change the shape of y to (n_samples, ), for example using ravel().\n",
      "  y = column_or_1d(y, warn=True)\n",
      "C:\\Users\\laure\\Anaconda3\\envs\\myenv\\lib\\site-packages\\sklearn\\utils\\validation.py:760: DataConversionWarning: A column-vector y was passed when a 1d array was expected. Please change the shape of y to (n_samples, ), for example using ravel().\n",
      "  y = column_or_1d(y, warn=True)\n",
      "C:\\Users\\laure\\Anaconda3\\envs\\myenv\\lib\\site-packages\\sklearn\\utils\\validation.py:760: DataConversionWarning: A column-vector y was passed when a 1d array was expected. Please change the shape of y to (n_samples, ), for example using ravel().\n",
      "  y = column_or_1d(y, warn=True)\n",
      "C:\\Users\\laure\\Anaconda3\\envs\\myenv\\lib\\site-packages\\sklearn\\utils\\validation.py:760: DataConversionWarning: A column-vector y was passed when a 1d array was expected. Please change the shape of y to (n_samples, ), for example using ravel().\n",
      "  y = column_or_1d(y, warn=True)\n",
      "C:\\Users\\laure\\Anaconda3\\envs\\myenv\\lib\\site-packages\\sklearn\\utils\\validation.py:760: DataConversionWarning: A column-vector y was passed when a 1d array was expected. Please change the shape of y to (n_samples, ), for example using ravel().\n",
      "  y = column_or_1d(y, warn=True)\n",
      "C:\\Users\\laure\\Anaconda3\\envs\\myenv\\lib\\site-packages\\sklearn\\utils\\validation.py:760: DataConversionWarning: A column-vector y was passed when a 1d array was expected. Please change the shape of y to (n_samples, ), for example using ravel().\n",
      "  y = column_or_1d(y, warn=True)\n",
      "C:\\Users\\laure\\Anaconda3\\envs\\myenv\\lib\\site-packages\\sklearn\\utils\\validation.py:760: DataConversionWarning: A column-vector y was passed when a 1d array was expected. Please change the shape of y to (n_samples, ), for example using ravel().\n",
      "  y = column_or_1d(y, warn=True)\n",
      "C:\\Users\\laure\\Anaconda3\\envs\\myenv\\lib\\site-packages\\sklearn\\utils\\validation.py:760: DataConversionWarning: A column-vector y was passed when a 1d array was expected. Please change the shape of y to (n_samples, ), for example using ravel().\n",
      "  y = column_or_1d(y, warn=True)\n",
      "C:\\Users\\laure\\Anaconda3\\envs\\myenv\\lib\\site-packages\\sklearn\\utils\\validation.py:760: DataConversionWarning: A column-vector y was passed when a 1d array was expected. Please change the shape of y to (n_samples, ), for example using ravel().\n",
      "  y = column_or_1d(y, warn=True)\n",
      "C:\\Users\\laure\\Anaconda3\\envs\\myenv\\lib\\site-packages\\sklearn\\utils\\validation.py:760: DataConversionWarning: A column-vector y was passed when a 1d array was expected. Please change the shape of y to (n_samples, ), for example using ravel().\n",
      "  y = column_or_1d(y, warn=True)\n",
      "C:\\Users\\laure\\Anaconda3\\envs\\myenv\\lib\\site-packages\\sklearn\\utils\\validation.py:760: DataConversionWarning: A column-vector y was passed when a 1d array was expected. Please change the shape of y to (n_samples, ), for example using ravel().\n",
      "  y = column_or_1d(y, warn=True)\n",
      "C:\\Users\\laure\\Anaconda3\\envs\\myenv\\lib\\site-packages\\sklearn\\utils\\validation.py:760: DataConversionWarning: A column-vector y was passed when a 1d array was expected. Please change the shape of y to (n_samples, ), for example using ravel().\n",
      "  y = column_or_1d(y, warn=True)\n",
      "C:\\Users\\laure\\Anaconda3\\envs\\myenv\\lib\\site-packages\\sklearn\\utils\\validation.py:760: DataConversionWarning: A column-vector y was passed when a 1d array was expected. Please change the shape of y to (n_samples, ), for example using ravel().\n",
      "  y = column_or_1d(y, warn=True)\n",
      "C:\\Users\\laure\\Anaconda3\\envs\\myenv\\lib\\site-packages\\sklearn\\utils\\validation.py:760: DataConversionWarning: A column-vector y was passed when a 1d array was expected. Please change the shape of y to (n_samples, ), for example using ravel().\n",
      "  y = column_or_1d(y, warn=True)\n"
     ]
    },
    {
     "name": "stdout",
     "output_type": "stream",
     "text": [
      "[CV] .............. C=10, degree=4, gamma=1, kernel=rbf, total=   0.0s\n",
      "[CV] C=10, degree=4, gamma=1, kernel=rbf .............................\n",
      "[CV] .............. C=10, degree=4, gamma=1, kernel=rbf, total=   0.0s\n",
      "[CV] C=10, degree=4, gamma=1, kernel=rbf .............................\n",
      "[CV] .............. C=10, degree=4, gamma=1, kernel=rbf, total=   0.0s\n",
      "[CV] C=10, degree=4, gamma=1, kernel=poly ............................\n",
      "[CV] ............. C=10, degree=4, gamma=1, kernel=poly, total=   0.0s\n",
      "[CV] C=10, degree=4, gamma=1, kernel=poly ............................\n",
      "[CV] ............. C=10, degree=4, gamma=1, kernel=poly, total=   0.0s\n",
      "[CV] C=10, degree=4, gamma=1, kernel=poly ............................\n",
      "[CV] ............. C=10, degree=4, gamma=1, kernel=poly, total=   0.0s\n",
      "[CV] C=10, degree=4, gamma=1, kernel=poly ............................\n",
      "[CV] ............. C=10, degree=4, gamma=1, kernel=poly, total=   0.0s\n",
      "[CV] C=10, degree=4, gamma=1, kernel=poly ............................\n",
      "[CV] ............. C=10, degree=4, gamma=1, kernel=poly, total=   0.0s\n",
      "[CV] C=10, degree=4, gamma=1, kernel=sigmoid .........................\n",
      "[CV] .......... C=10, degree=4, gamma=1, kernel=sigmoid, total=   0.0s\n",
      "[CV] C=10, degree=4, gamma=1, kernel=sigmoid .........................\n",
      "[CV] .......... C=10, degree=4, gamma=1, kernel=sigmoid, total=   0.0s\n",
      "[CV] C=10, degree=4, gamma=1, kernel=sigmoid .........................\n",
      "[CV] .......... C=10, degree=4, gamma=1, kernel=sigmoid, total=   0.0s\n",
      "[CV] C=10, degree=4, gamma=1, kernel=sigmoid .........................\n",
      "[CV] .......... C=10, degree=4, gamma=1, kernel=sigmoid, total=   0.0s\n",
      "[CV] C=10, degree=4, gamma=1, kernel=sigmoid .........................\n",
      "[CV] .......... C=10, degree=4, gamma=1, kernel=sigmoid, total=   0.0s\n",
      "[CV] C=10, degree=4, gamma=0.1, kernel=linear ........................\n",
      "[CV] ......... C=10, degree=4, gamma=0.1, kernel=linear, total=   0.0s\n",
      "[CV] C=10, degree=4, gamma=0.1, kernel=linear ........................\n",
      "[CV] ......... C=10, degree=4, gamma=0.1, kernel=linear, total=   0.0s\n",
      "[CV] C=10, degree=4, gamma=0.1, kernel=linear ........................\n",
      "[CV] ......... C=10, degree=4, gamma=0.1, kernel=linear, total=   0.0s\n",
      "[CV] C=10, degree=4, gamma=0.1, kernel=linear ........................\n",
      "[CV] ......... C=10, degree=4, gamma=0.1, kernel=linear, total=   0.0s\n",
      "[CV] C=10, degree=4, gamma=0.1, kernel=linear ........................\n"
     ]
    },
    {
     "name": "stderr",
     "output_type": "stream",
     "text": [
      "C:\\Users\\laure\\Anaconda3\\envs\\myenv\\lib\\site-packages\\sklearn\\utils\\validation.py:760: DataConversionWarning: A column-vector y was passed when a 1d array was expected. Please change the shape of y to (n_samples, ), for example using ravel().\n",
      "  y = column_or_1d(y, warn=True)\n",
      "C:\\Users\\laure\\Anaconda3\\envs\\myenv\\lib\\site-packages\\sklearn\\utils\\validation.py:760: DataConversionWarning: A column-vector y was passed when a 1d array was expected. Please change the shape of y to (n_samples, ), for example using ravel().\n",
      "  y = column_or_1d(y, warn=True)\n",
      "C:\\Users\\laure\\Anaconda3\\envs\\myenv\\lib\\site-packages\\sklearn\\utils\\validation.py:760: DataConversionWarning: A column-vector y was passed when a 1d array was expected. Please change the shape of y to (n_samples, ), for example using ravel().\n",
      "  y = column_or_1d(y, warn=True)\n",
      "C:\\Users\\laure\\Anaconda3\\envs\\myenv\\lib\\site-packages\\sklearn\\utils\\validation.py:760: DataConversionWarning: A column-vector y was passed when a 1d array was expected. Please change the shape of y to (n_samples, ), for example using ravel().\n",
      "  y = column_or_1d(y, warn=True)\n",
      "C:\\Users\\laure\\Anaconda3\\envs\\myenv\\lib\\site-packages\\sklearn\\utils\\validation.py:760: DataConversionWarning: A column-vector y was passed when a 1d array was expected. Please change the shape of y to (n_samples, ), for example using ravel().\n",
      "  y = column_or_1d(y, warn=True)\n",
      "C:\\Users\\laure\\Anaconda3\\envs\\myenv\\lib\\site-packages\\sklearn\\utils\\validation.py:760: DataConversionWarning: A column-vector y was passed when a 1d array was expected. Please change the shape of y to (n_samples, ), for example using ravel().\n",
      "  y = column_or_1d(y, warn=True)\n",
      "C:\\Users\\laure\\Anaconda3\\envs\\myenv\\lib\\site-packages\\sklearn\\utils\\validation.py:760: DataConversionWarning: A column-vector y was passed when a 1d array was expected. Please change the shape of y to (n_samples, ), for example using ravel().\n",
      "  y = column_or_1d(y, warn=True)\n",
      "C:\\Users\\laure\\Anaconda3\\envs\\myenv\\lib\\site-packages\\sklearn\\utils\\validation.py:760: DataConversionWarning: A column-vector y was passed when a 1d array was expected. Please change the shape of y to (n_samples, ), for example using ravel().\n",
      "  y = column_or_1d(y, warn=True)\n",
      "C:\\Users\\laure\\Anaconda3\\envs\\myenv\\lib\\site-packages\\sklearn\\utils\\validation.py:760: DataConversionWarning: A column-vector y was passed when a 1d array was expected. Please change the shape of y to (n_samples, ), for example using ravel().\n",
      "  y = column_or_1d(y, warn=True)\n",
      "C:\\Users\\laure\\Anaconda3\\envs\\myenv\\lib\\site-packages\\sklearn\\utils\\validation.py:760: DataConversionWarning: A column-vector y was passed when a 1d array was expected. Please change the shape of y to (n_samples, ), for example using ravel().\n",
      "  y = column_or_1d(y, warn=True)\n",
      "C:\\Users\\laure\\Anaconda3\\envs\\myenv\\lib\\site-packages\\sklearn\\utils\\validation.py:760: DataConversionWarning: A column-vector y was passed when a 1d array was expected. Please change the shape of y to (n_samples, ), for example using ravel().\n",
      "  y = column_or_1d(y, warn=True)\n",
      "C:\\Users\\laure\\Anaconda3\\envs\\myenv\\lib\\site-packages\\sklearn\\utils\\validation.py:760: DataConversionWarning: A column-vector y was passed when a 1d array was expected. Please change the shape of y to (n_samples, ), for example using ravel().\n",
      "  y = column_or_1d(y, warn=True)\n",
      "C:\\Users\\laure\\Anaconda3\\envs\\myenv\\lib\\site-packages\\sklearn\\utils\\validation.py:760: DataConversionWarning: A column-vector y was passed when a 1d array was expected. Please change the shape of y to (n_samples, ), for example using ravel().\n",
      "  y = column_or_1d(y, warn=True)\n",
      "C:\\Users\\laure\\Anaconda3\\envs\\myenv\\lib\\site-packages\\sklearn\\utils\\validation.py:760: DataConversionWarning: A column-vector y was passed when a 1d array was expected. Please change the shape of y to (n_samples, ), for example using ravel().\n",
      "  y = column_or_1d(y, warn=True)\n",
      "C:\\Users\\laure\\Anaconda3\\envs\\myenv\\lib\\site-packages\\sklearn\\utils\\validation.py:760: DataConversionWarning: A column-vector y was passed when a 1d array was expected. Please change the shape of y to (n_samples, ), for example using ravel().\n",
      "  y = column_or_1d(y, warn=True)\n"
     ]
    },
    {
     "name": "stdout",
     "output_type": "stream",
     "text": [
      "[CV] ......... C=10, degree=4, gamma=0.1, kernel=linear, total=   0.0s\n",
      "[CV] C=10, degree=4, gamma=0.1, kernel=rbf ...........................\n",
      "[CV] ............ C=10, degree=4, gamma=0.1, kernel=rbf, total=   0.0s\n",
      "[CV] C=10, degree=4, gamma=0.1, kernel=rbf ...........................\n",
      "[CV] ............ C=10, degree=4, gamma=0.1, kernel=rbf, total=   0.0s\n",
      "[CV] C=10, degree=4, gamma=0.1, kernel=rbf ...........................\n",
      "[CV] ............ C=10, degree=4, gamma=0.1, kernel=rbf, total=   0.0s\n",
      "[CV] C=10, degree=4, gamma=0.1, kernel=rbf ...........................\n",
      "[CV] ............ C=10, degree=4, gamma=0.1, kernel=rbf, total=   0.0s\n",
      "[CV] C=10, degree=4, gamma=0.1, kernel=rbf ...........................\n",
      "[CV] ............ C=10, degree=4, gamma=0.1, kernel=rbf, total=   0.0s\n",
      "[CV] C=10, degree=4, gamma=0.1, kernel=poly ..........................\n"
     ]
    },
    {
     "name": "stderr",
     "output_type": "stream",
     "text": [
      "C:\\Users\\laure\\Anaconda3\\envs\\myenv\\lib\\site-packages\\sklearn\\utils\\validation.py:760: DataConversionWarning: A column-vector y was passed when a 1d array was expected. Please change the shape of y to (n_samples, ), for example using ravel().\n",
      "  y = column_or_1d(y, warn=True)\n"
     ]
    },
    {
     "name": "stdout",
     "output_type": "stream",
     "text": [
      "[CV] ........... C=10, degree=4, gamma=0.1, kernel=poly, total=   0.2s\n",
      "[CV] C=10, degree=4, gamma=0.1, kernel=poly ..........................\n",
      "[CV] ........... C=10, degree=4, gamma=0.1, kernel=poly, total=   0.2s\n",
      "[CV] C=10, degree=4, gamma=0.1, kernel=poly ..........................\n"
     ]
    },
    {
     "name": "stderr",
     "output_type": "stream",
     "text": [
      "C:\\Users\\laure\\Anaconda3\\envs\\myenv\\lib\\site-packages\\sklearn\\utils\\validation.py:760: DataConversionWarning: A column-vector y was passed when a 1d array was expected. Please change the shape of y to (n_samples, ), for example using ravel().\n",
      "  y = column_or_1d(y, warn=True)\n",
      "C:\\Users\\laure\\Anaconda3\\envs\\myenv\\lib\\site-packages\\sklearn\\utils\\validation.py:760: DataConversionWarning: A column-vector y was passed when a 1d array was expected. Please change the shape of y to (n_samples, ), for example using ravel().\n",
      "  y = column_or_1d(y, warn=True)\n",
      "C:\\Users\\laure\\Anaconda3\\envs\\myenv\\lib\\site-packages\\sklearn\\utils\\validation.py:760: DataConversionWarning: A column-vector y was passed when a 1d array was expected. Please change the shape of y to (n_samples, ), for example using ravel().\n",
      "  y = column_or_1d(y, warn=True)\n"
     ]
    },
    {
     "name": "stdout",
     "output_type": "stream",
     "text": [
      "[CV] ........... C=10, degree=4, gamma=0.1, kernel=poly, total=   0.2s\n",
      "[CV] C=10, degree=4, gamma=0.1, kernel=poly ..........................\n",
      "[CV] ........... C=10, degree=4, gamma=0.1, kernel=poly, total=   0.2s\n",
      "[CV] C=10, degree=4, gamma=0.1, kernel=poly ..........................\n"
     ]
    },
    {
     "name": "stderr",
     "output_type": "stream",
     "text": [
      "C:\\Users\\laure\\Anaconda3\\envs\\myenv\\lib\\site-packages\\sklearn\\utils\\validation.py:760: DataConversionWarning: A column-vector y was passed when a 1d array was expected. Please change the shape of y to (n_samples, ), for example using ravel().\n",
      "  y = column_or_1d(y, warn=True)\n",
      "C:\\Users\\laure\\Anaconda3\\envs\\myenv\\lib\\site-packages\\sklearn\\utils\\validation.py:760: DataConversionWarning: A column-vector y was passed when a 1d array was expected. Please change the shape of y to (n_samples, ), for example using ravel().\n",
      "  y = column_or_1d(y, warn=True)\n",
      "C:\\Users\\laure\\Anaconda3\\envs\\myenv\\lib\\site-packages\\sklearn\\utils\\validation.py:760: DataConversionWarning: A column-vector y was passed when a 1d array was expected. Please change the shape of y to (n_samples, ), for example using ravel().\n",
      "  y = column_or_1d(y, warn=True)\n"
     ]
    },
    {
     "name": "stdout",
     "output_type": "stream",
     "text": [
      "[CV] ........... C=10, degree=4, gamma=0.1, kernel=poly, total=   0.2s\n",
      "[CV] C=10, degree=4, gamma=0.1, kernel=sigmoid .......................\n",
      "[CV] ........ C=10, degree=4, gamma=0.1, kernel=sigmoid, total=   0.0s\n",
      "[CV] C=10, degree=4, gamma=0.1, kernel=sigmoid .......................\n",
      "[CV] ........ C=10, degree=4, gamma=0.1, kernel=sigmoid, total=   0.0s\n",
      "[CV] C=10, degree=4, gamma=0.1, kernel=sigmoid .......................\n",
      "[CV] ........ C=10, degree=4, gamma=0.1, kernel=sigmoid, total=   0.0s\n",
      "[CV] C=10, degree=4, gamma=0.1, kernel=sigmoid .......................\n",
      "[CV] ........ C=10, degree=4, gamma=0.1, kernel=sigmoid, total=   0.0s\n",
      "[CV] C=10, degree=4, gamma=0.1, kernel=sigmoid .......................\n",
      "[CV] ........ C=10, degree=4, gamma=0.1, kernel=sigmoid, total=   0.0s\n",
      "[CV] C=10, degree=4, gamma=0.01, kernel=linear .......................\n",
      "[CV] ........ C=10, degree=4, gamma=0.01, kernel=linear, total=   0.0s\n",
      "[CV] C=10, degree=4, gamma=0.01, kernel=linear .......................\n",
      "[CV] ........ C=10, degree=4, gamma=0.01, kernel=linear, total=   0.0s\n",
      "[CV] C=10, degree=4, gamma=0.01, kernel=linear .......................\n",
      "[CV] ........ C=10, degree=4, gamma=0.01, kernel=linear, total=   0.0s\n",
      "[CV] C=10, degree=4, gamma=0.01, kernel=linear .......................\n",
      "[CV] ........ C=10, degree=4, gamma=0.01, kernel=linear, total=   0.0s\n",
      "[CV] C=10, degree=4, gamma=0.01, kernel=linear .......................\n",
      "[CV] ........ C=10, degree=4, gamma=0.01, kernel=linear, total=   0.0s\n",
      "[CV] C=10, degree=4, gamma=0.01, kernel=rbf ..........................\n",
      "[CV] ........... C=10, degree=4, gamma=0.01, kernel=rbf, total=   0.0s\n",
      "[CV] C=10, degree=4, gamma=0.01, kernel=rbf ..........................\n",
      "[CV] ........... C=10, degree=4, gamma=0.01, kernel=rbf, total=   0.0s\n",
      "[CV] C=10, degree=4, gamma=0.01, kernel=rbf ..........................\n"
     ]
    },
    {
     "name": "stderr",
     "output_type": "stream",
     "text": [
      "C:\\Users\\laure\\Anaconda3\\envs\\myenv\\lib\\site-packages\\sklearn\\utils\\validation.py:760: DataConversionWarning: A column-vector y was passed when a 1d array was expected. Please change the shape of y to (n_samples, ), for example using ravel().\n",
      "  y = column_or_1d(y, warn=True)\n",
      "C:\\Users\\laure\\Anaconda3\\envs\\myenv\\lib\\site-packages\\sklearn\\utils\\validation.py:760: DataConversionWarning: A column-vector y was passed when a 1d array was expected. Please change the shape of y to (n_samples, ), for example using ravel().\n",
      "  y = column_or_1d(y, warn=True)\n",
      "C:\\Users\\laure\\Anaconda3\\envs\\myenv\\lib\\site-packages\\sklearn\\utils\\validation.py:760: DataConversionWarning: A column-vector y was passed when a 1d array was expected. Please change the shape of y to (n_samples, ), for example using ravel().\n",
      "  y = column_or_1d(y, warn=True)\n",
      "C:\\Users\\laure\\Anaconda3\\envs\\myenv\\lib\\site-packages\\sklearn\\utils\\validation.py:760: DataConversionWarning: A column-vector y was passed when a 1d array was expected. Please change the shape of y to (n_samples, ), for example using ravel().\n",
      "  y = column_or_1d(y, warn=True)\n",
      "C:\\Users\\laure\\Anaconda3\\envs\\myenv\\lib\\site-packages\\sklearn\\utils\\validation.py:760: DataConversionWarning: A column-vector y was passed when a 1d array was expected. Please change the shape of y to (n_samples, ), for example using ravel().\n",
      "  y = column_or_1d(y, warn=True)\n",
      "C:\\Users\\laure\\Anaconda3\\envs\\myenv\\lib\\site-packages\\sklearn\\utils\\validation.py:760: DataConversionWarning: A column-vector y was passed when a 1d array was expected. Please change the shape of y to (n_samples, ), for example using ravel().\n",
      "  y = column_or_1d(y, warn=True)\n",
      "C:\\Users\\laure\\Anaconda3\\envs\\myenv\\lib\\site-packages\\sklearn\\utils\\validation.py:760: DataConversionWarning: A column-vector y was passed when a 1d array was expected. Please change the shape of y to (n_samples, ), for example using ravel().\n",
      "  y = column_or_1d(y, warn=True)\n",
      "C:\\Users\\laure\\Anaconda3\\envs\\myenv\\lib\\site-packages\\sklearn\\utils\\validation.py:760: DataConversionWarning: A column-vector y was passed when a 1d array was expected. Please change the shape of y to (n_samples, ), for example using ravel().\n",
      "  y = column_or_1d(y, warn=True)\n",
      "C:\\Users\\laure\\Anaconda3\\envs\\myenv\\lib\\site-packages\\sklearn\\utils\\validation.py:760: DataConversionWarning: A column-vector y was passed when a 1d array was expected. Please change the shape of y to (n_samples, ), for example using ravel().\n",
      "  y = column_or_1d(y, warn=True)\n",
      "C:\\Users\\laure\\Anaconda3\\envs\\myenv\\lib\\site-packages\\sklearn\\utils\\validation.py:760: DataConversionWarning: A column-vector y was passed when a 1d array was expected. Please change the shape of y to (n_samples, ), for example using ravel().\n",
      "  y = column_or_1d(y, warn=True)\n",
      "C:\\Users\\laure\\Anaconda3\\envs\\myenv\\lib\\site-packages\\sklearn\\utils\\validation.py:760: DataConversionWarning: A column-vector y was passed when a 1d array was expected. Please change the shape of y to (n_samples, ), for example using ravel().\n",
      "  y = column_or_1d(y, warn=True)\n"
     ]
    },
    {
     "name": "stdout",
     "output_type": "stream",
     "text": [
      "[CV] ........... C=10, degree=4, gamma=0.01, kernel=rbf, total=   0.0s\n",
      "[CV] C=10, degree=4, gamma=0.01, kernel=rbf ..........................\n",
      "[CV] ........... C=10, degree=4, gamma=0.01, kernel=rbf, total=   0.0s\n",
      "[CV] C=10, degree=4, gamma=0.01, kernel=rbf ..........................\n",
      "[CV] ........... C=10, degree=4, gamma=0.01, kernel=rbf, total=   0.0s\n",
      "[CV] C=10, degree=4, gamma=0.01, kernel=poly .........................\n"
     ]
    },
    {
     "name": "stderr",
     "output_type": "stream",
     "text": [
      "C:\\Users\\laure\\Anaconda3\\envs\\myenv\\lib\\site-packages\\sklearn\\utils\\validation.py:760: DataConversionWarning: A column-vector y was passed when a 1d array was expected. Please change the shape of y to (n_samples, ), for example using ravel().\n",
      "  y = column_or_1d(y, warn=True)\n",
      "C:\\Users\\laure\\Anaconda3\\envs\\myenv\\lib\\site-packages\\sklearn\\utils\\validation.py:760: DataConversionWarning: A column-vector y was passed when a 1d array was expected. Please change the shape of y to (n_samples, ), for example using ravel().\n",
      "  y = column_or_1d(y, warn=True)\n",
      "C:\\Users\\laure\\Anaconda3\\envs\\myenv\\lib\\site-packages\\sklearn\\utils\\validation.py:760: DataConversionWarning: A column-vector y was passed when a 1d array was expected. Please change the shape of y to (n_samples, ), for example using ravel().\n",
      "  y = column_or_1d(y, warn=True)\n"
     ]
    },
    {
     "name": "stdout",
     "output_type": "stream",
     "text": [
      "[CV] .......... C=10, degree=4, gamma=0.01, kernel=poly, total=   0.2s\n",
      "[CV] C=10, degree=4, gamma=0.01, kernel=poly .........................\n",
      "[CV] .......... C=10, degree=4, gamma=0.01, kernel=poly, total=   0.1s\n",
      "[CV] C=10, degree=4, gamma=0.01, kernel=poly .........................\n"
     ]
    },
    {
     "name": "stderr",
     "output_type": "stream",
     "text": [
      "C:\\Users\\laure\\Anaconda3\\envs\\myenv\\lib\\site-packages\\sklearn\\utils\\validation.py:760: DataConversionWarning: A column-vector y was passed when a 1d array was expected. Please change the shape of y to (n_samples, ), for example using ravel().\n",
      "  y = column_or_1d(y, warn=True)\n",
      "C:\\Users\\laure\\Anaconda3\\envs\\myenv\\lib\\site-packages\\sklearn\\utils\\validation.py:760: DataConversionWarning: A column-vector y was passed when a 1d array was expected. Please change the shape of y to (n_samples, ), for example using ravel().\n",
      "  y = column_or_1d(y, warn=True)\n"
     ]
    },
    {
     "name": "stdout",
     "output_type": "stream",
     "text": [
      "[CV] .......... C=10, degree=4, gamma=0.01, kernel=poly, total=   0.1s\n",
      "[CV] C=10, degree=4, gamma=0.01, kernel=poly .........................\n",
      "[CV] .......... C=10, degree=4, gamma=0.01, kernel=poly, total=   0.2s\n",
      "[CV] C=10, degree=4, gamma=0.01, kernel=poly .........................\n"
     ]
    },
    {
     "name": "stderr",
     "output_type": "stream",
     "text": [
      "C:\\Users\\laure\\Anaconda3\\envs\\myenv\\lib\\site-packages\\sklearn\\utils\\validation.py:760: DataConversionWarning: A column-vector y was passed when a 1d array was expected. Please change the shape of y to (n_samples, ), for example using ravel().\n",
      "  y = column_or_1d(y, warn=True)\n",
      "C:\\Users\\laure\\Anaconda3\\envs\\myenv\\lib\\site-packages\\sklearn\\utils\\validation.py:760: DataConversionWarning: A column-vector y was passed when a 1d array was expected. Please change the shape of y to (n_samples, ), for example using ravel().\n",
      "  y = column_or_1d(y, warn=True)\n"
     ]
    },
    {
     "name": "stdout",
     "output_type": "stream",
     "text": [
      "[CV] .......... C=10, degree=4, gamma=0.01, kernel=poly, total=   0.1s\n",
      "[CV] C=10, degree=4, gamma=0.01, kernel=sigmoid ......................\n",
      "[CV] ....... C=10, degree=4, gamma=0.01, kernel=sigmoid, total=   0.0s\n",
      "[CV] C=10, degree=4, gamma=0.01, kernel=sigmoid ......................\n",
      "[CV] ....... C=10, degree=4, gamma=0.01, kernel=sigmoid, total=   0.0s\n",
      "[CV] C=10, degree=4, gamma=0.01, kernel=sigmoid ......................\n",
      "[CV] ....... C=10, degree=4, gamma=0.01, kernel=sigmoid, total=   0.0s\n",
      "[CV] C=10, degree=4, gamma=0.01, kernel=sigmoid ......................\n",
      "[CV] ....... C=10, degree=4, gamma=0.01, kernel=sigmoid, total=   0.0s\n",
      "[CV] C=10, degree=4, gamma=0.01, kernel=sigmoid ......................\n",
      "[CV] ....... C=10, degree=4, gamma=0.01, kernel=sigmoid, total=   0.0s\n",
      "[CV] C=10, degree=4, gamma=0.001, kernel=linear ......................\n",
      "[CV] ....... C=10, degree=4, gamma=0.001, kernel=linear, total=   0.0s\n",
      "[CV] C=10, degree=4, gamma=0.001, kernel=linear ......................\n",
      "[CV] ....... C=10, degree=4, gamma=0.001, kernel=linear, total=   0.0s\n",
      "[CV] C=10, degree=4, gamma=0.001, kernel=linear ......................\n",
      "[CV] ....... C=10, degree=4, gamma=0.001, kernel=linear, total=   0.0s\n",
      "[CV] C=10, degree=4, gamma=0.001, kernel=linear ......................\n"
     ]
    },
    {
     "name": "stderr",
     "output_type": "stream",
     "text": [
      "C:\\Users\\laure\\Anaconda3\\envs\\myenv\\lib\\site-packages\\sklearn\\utils\\validation.py:760: DataConversionWarning: A column-vector y was passed when a 1d array was expected. Please change the shape of y to (n_samples, ), for example using ravel().\n",
      "  y = column_or_1d(y, warn=True)\n",
      "C:\\Users\\laure\\Anaconda3\\envs\\myenv\\lib\\site-packages\\sklearn\\utils\\validation.py:760: DataConversionWarning: A column-vector y was passed when a 1d array was expected. Please change the shape of y to (n_samples, ), for example using ravel().\n",
      "  y = column_or_1d(y, warn=True)\n",
      "C:\\Users\\laure\\Anaconda3\\envs\\myenv\\lib\\site-packages\\sklearn\\utils\\validation.py:760: DataConversionWarning: A column-vector y was passed when a 1d array was expected. Please change the shape of y to (n_samples, ), for example using ravel().\n",
      "  y = column_or_1d(y, warn=True)\n",
      "C:\\Users\\laure\\Anaconda3\\envs\\myenv\\lib\\site-packages\\sklearn\\utils\\validation.py:760: DataConversionWarning: A column-vector y was passed when a 1d array was expected. Please change the shape of y to (n_samples, ), for example using ravel().\n",
      "  y = column_or_1d(y, warn=True)\n",
      "C:\\Users\\laure\\Anaconda3\\envs\\myenv\\lib\\site-packages\\sklearn\\utils\\validation.py:760: DataConversionWarning: A column-vector y was passed when a 1d array was expected. Please change the shape of y to (n_samples, ), for example using ravel().\n",
      "  y = column_or_1d(y, warn=True)\n",
      "C:\\Users\\laure\\Anaconda3\\envs\\myenv\\lib\\site-packages\\sklearn\\utils\\validation.py:760: DataConversionWarning: A column-vector y was passed when a 1d array was expected. Please change the shape of y to (n_samples, ), for example using ravel().\n",
      "  y = column_or_1d(y, warn=True)\n",
      "C:\\Users\\laure\\Anaconda3\\envs\\myenv\\lib\\site-packages\\sklearn\\utils\\validation.py:760: DataConversionWarning: A column-vector y was passed when a 1d array was expected. Please change the shape of y to (n_samples, ), for example using ravel().\n",
      "  y = column_or_1d(y, warn=True)\n",
      "C:\\Users\\laure\\Anaconda3\\envs\\myenv\\lib\\site-packages\\sklearn\\utils\\validation.py:760: DataConversionWarning: A column-vector y was passed when a 1d array was expected. Please change the shape of y to (n_samples, ), for example using ravel().\n",
      "  y = column_or_1d(y, warn=True)\n",
      "C:\\Users\\laure\\Anaconda3\\envs\\myenv\\lib\\site-packages\\sklearn\\utils\\validation.py:760: DataConversionWarning: A column-vector y was passed when a 1d array was expected. Please change the shape of y to (n_samples, ), for example using ravel().\n",
      "  y = column_or_1d(y, warn=True)\n",
      "C:\\Users\\laure\\Anaconda3\\envs\\myenv\\lib\\site-packages\\sklearn\\utils\\validation.py:760: DataConversionWarning: A column-vector y was passed when a 1d array was expected. Please change the shape of y to (n_samples, ), for example using ravel().\n",
      "  y = column_or_1d(y, warn=True)\n",
      "C:\\Users\\laure\\Anaconda3\\envs\\myenv\\lib\\site-packages\\sklearn\\utils\\validation.py:760: DataConversionWarning: A column-vector y was passed when a 1d array was expected. Please change the shape of y to (n_samples, ), for example using ravel().\n",
      "  y = column_or_1d(y, warn=True)\n",
      "C:\\Users\\laure\\Anaconda3\\envs\\myenv\\lib\\site-packages\\sklearn\\utils\\validation.py:760: DataConversionWarning: A column-vector y was passed when a 1d array was expected. Please change the shape of y to (n_samples, ), for example using ravel().\n",
      "  y = column_or_1d(y, warn=True)\n",
      "C:\\Users\\laure\\Anaconda3\\envs\\myenv\\lib\\site-packages\\sklearn\\utils\\validation.py:760: DataConversionWarning: A column-vector y was passed when a 1d array was expected. Please change the shape of y to (n_samples, ), for example using ravel().\n",
      "  y = column_or_1d(y, warn=True)\n"
     ]
    },
    {
     "name": "stdout",
     "output_type": "stream",
     "text": [
      "[CV] ....... C=10, degree=4, gamma=0.001, kernel=linear, total=   0.0s\n",
      "[CV] C=10, degree=4, gamma=0.001, kernel=linear ......................\n",
      "[CV] ....... C=10, degree=4, gamma=0.001, kernel=linear, total=   0.0s\n",
      "[CV] C=10, degree=4, gamma=0.001, kernel=rbf .........................\n",
      "[CV] .......... C=10, degree=4, gamma=0.001, kernel=rbf, total=   0.1s\n",
      "[CV] C=10, degree=4, gamma=0.001, kernel=rbf .........................\n",
      "[CV] .......... C=10, degree=4, gamma=0.001, kernel=rbf, total=   0.1s\n",
      "[CV] C=10, degree=4, gamma=0.001, kernel=rbf .........................\n",
      "[CV] .......... C=10, degree=4, gamma=0.001, kernel=rbf, total=   0.1s\n",
      "[CV] C=10, degree=4, gamma=0.001, kernel=rbf .........................\n",
      "[CV] .......... C=10, degree=4, gamma=0.001, kernel=rbf, total=   0.1s\n",
      "[CV] C=10, degree=4, gamma=0.001, kernel=rbf .........................\n",
      "[CV] .......... C=10, degree=4, gamma=0.001, kernel=rbf, total=   0.1s\n",
      "[CV] C=10, degree=4, gamma=0.001, kernel=poly ........................\n"
     ]
    },
    {
     "name": "stderr",
     "output_type": "stream",
     "text": [
      "C:\\Users\\laure\\Anaconda3\\envs\\myenv\\lib\\site-packages\\sklearn\\utils\\validation.py:760: DataConversionWarning: A column-vector y was passed when a 1d array was expected. Please change the shape of y to (n_samples, ), for example using ravel().\n",
      "  y = column_or_1d(y, warn=True)\n",
      "C:\\Users\\laure\\Anaconda3\\envs\\myenv\\lib\\site-packages\\sklearn\\utils\\validation.py:760: DataConversionWarning: A column-vector y was passed when a 1d array was expected. Please change the shape of y to (n_samples, ), for example using ravel().\n",
      "  y = column_or_1d(y, warn=True)\n",
      "C:\\Users\\laure\\Anaconda3\\envs\\myenv\\lib\\site-packages\\sklearn\\utils\\validation.py:760: DataConversionWarning: A column-vector y was passed when a 1d array was expected. Please change the shape of y to (n_samples, ), for example using ravel().\n",
      "  y = column_or_1d(y, warn=True)\n"
     ]
    },
    {
     "name": "stdout",
     "output_type": "stream",
     "text": [
      "[CV] ......... C=10, degree=4, gamma=0.001, kernel=poly, total=   0.2s\n",
      "[CV] C=10, degree=4, gamma=0.001, kernel=poly ........................\n",
      "[CV] ......... C=10, degree=4, gamma=0.001, kernel=poly, total=   0.2s\n",
      "[CV] C=10, degree=4, gamma=0.001, kernel=poly ........................\n"
     ]
    },
    {
     "name": "stderr",
     "output_type": "stream",
     "text": [
      "C:\\Users\\laure\\Anaconda3\\envs\\myenv\\lib\\site-packages\\sklearn\\utils\\validation.py:760: DataConversionWarning: A column-vector y was passed when a 1d array was expected. Please change the shape of y to (n_samples, ), for example using ravel().\n",
      "  y = column_or_1d(y, warn=True)\n",
      "C:\\Users\\laure\\Anaconda3\\envs\\myenv\\lib\\site-packages\\sklearn\\utils\\validation.py:760: DataConversionWarning: A column-vector y was passed when a 1d array was expected. Please change the shape of y to (n_samples, ), for example using ravel().\n",
      "  y = column_or_1d(y, warn=True)\n"
     ]
    },
    {
     "name": "stdout",
     "output_type": "stream",
     "text": [
      "[CV] ......... C=10, degree=4, gamma=0.001, kernel=poly, total=   0.2s\n",
      "[CV] C=10, degree=4, gamma=0.001, kernel=poly ........................\n",
      "[CV] ......... C=10, degree=4, gamma=0.001, kernel=poly, total=   0.2s\n",
      "[CV] C=10, degree=4, gamma=0.001, kernel=poly ........................\n"
     ]
    },
    {
     "name": "stderr",
     "output_type": "stream",
     "text": [
      "C:\\Users\\laure\\Anaconda3\\envs\\myenv\\lib\\site-packages\\sklearn\\utils\\validation.py:760: DataConversionWarning: A column-vector y was passed when a 1d array was expected. Please change the shape of y to (n_samples, ), for example using ravel().\n",
      "  y = column_or_1d(y, warn=True)\n",
      "C:\\Users\\laure\\Anaconda3\\envs\\myenv\\lib\\site-packages\\sklearn\\utils\\validation.py:760: DataConversionWarning: A column-vector y was passed when a 1d array was expected. Please change the shape of y to (n_samples, ), for example using ravel().\n",
      "  y = column_or_1d(y, warn=True)\n",
      "C:\\Users\\laure\\Anaconda3\\envs\\myenv\\lib\\site-packages\\sklearn\\utils\\validation.py:760: DataConversionWarning: A column-vector y was passed when a 1d array was expected. Please change the shape of y to (n_samples, ), for example using ravel().\n",
      "  y = column_or_1d(y, warn=True)\n"
     ]
    },
    {
     "name": "stdout",
     "output_type": "stream",
     "text": [
      "[CV] ......... C=10, degree=4, gamma=0.001, kernel=poly, total=   0.1s\n",
      "[CV] C=10, degree=4, gamma=0.001, kernel=sigmoid .....................\n",
      "[CV] ...... C=10, degree=4, gamma=0.001, kernel=sigmoid, total=   0.1s\n",
      "[CV] C=10, degree=4, gamma=0.001, kernel=sigmoid .....................\n"
     ]
    },
    {
     "name": "stderr",
     "output_type": "stream",
     "text": [
      "C:\\Users\\laure\\Anaconda3\\envs\\myenv\\lib\\site-packages\\sklearn\\utils\\validation.py:760: DataConversionWarning: A column-vector y was passed when a 1d array was expected. Please change the shape of y to (n_samples, ), for example using ravel().\n",
      "  y = column_or_1d(y, warn=True)\n",
      "C:\\Users\\laure\\Anaconda3\\envs\\myenv\\lib\\site-packages\\sklearn\\utils\\validation.py:760: DataConversionWarning: A column-vector y was passed when a 1d array was expected. Please change the shape of y to (n_samples, ), for example using ravel().\n",
      "  y = column_or_1d(y, warn=True)\n"
     ]
    },
    {
     "name": "stdout",
     "output_type": "stream",
     "text": [
      "[CV] ...... C=10, degree=4, gamma=0.001, kernel=sigmoid, total=   0.1s\n",
      "[CV] C=10, degree=4, gamma=0.001, kernel=sigmoid .....................\n",
      "[CV] ...... C=10, degree=4, gamma=0.001, kernel=sigmoid, total=   0.1s\n",
      "[CV] C=10, degree=4, gamma=0.001, kernel=sigmoid .....................\n"
     ]
    },
    {
     "name": "stderr",
     "output_type": "stream",
     "text": [
      "C:\\Users\\laure\\Anaconda3\\envs\\myenv\\lib\\site-packages\\sklearn\\utils\\validation.py:760: DataConversionWarning: A column-vector y was passed when a 1d array was expected. Please change the shape of y to (n_samples, ), for example using ravel().\n",
      "  y = column_or_1d(y, warn=True)\n",
      "C:\\Users\\laure\\Anaconda3\\envs\\myenv\\lib\\site-packages\\sklearn\\utils\\validation.py:760: DataConversionWarning: A column-vector y was passed when a 1d array was expected. Please change the shape of y to (n_samples, ), for example using ravel().\n",
      "  y = column_or_1d(y, warn=True)\n"
     ]
    },
    {
     "name": "stdout",
     "output_type": "stream",
     "text": [
      "[CV] ...... C=10, degree=4, gamma=0.001, kernel=sigmoid, total=   0.1s\n",
      "[CV] C=10, degree=4, gamma=0.001, kernel=sigmoid .....................\n",
      "[CV] ...... C=10, degree=4, gamma=0.001, kernel=sigmoid, total=   0.1s\n",
      "[CV] C=10, degree=5, gamma=1, kernel=linear ..........................\n",
      "[CV] ........... C=10, degree=5, gamma=1, kernel=linear, total=   0.0s\n",
      "[CV] C=10, degree=5, gamma=1, kernel=linear ..........................\n",
      "[CV] ........... C=10, degree=5, gamma=1, kernel=linear, total=   0.0s\n",
      "[CV] C=10, degree=5, gamma=1, kernel=linear ..........................\n",
      "[CV] ........... C=10, degree=5, gamma=1, kernel=linear, total=   0.0s\n",
      "[CV] C=10, degree=5, gamma=1, kernel=linear ..........................\n",
      "[CV] ........... C=10, degree=5, gamma=1, kernel=linear, total=   0.0s\n",
      "[CV] C=10, degree=5, gamma=1, kernel=linear ..........................\n",
      "[CV] ........... C=10, degree=5, gamma=1, kernel=linear, total=   0.0s\n",
      "[CV] C=10, degree=5, gamma=1, kernel=rbf .............................\n",
      "[CV] .............. C=10, degree=5, gamma=1, kernel=rbf, total=   0.0s\n",
      "[CV] C=10, degree=5, gamma=1, kernel=rbf .............................\n",
      "[CV] .............. C=10, degree=5, gamma=1, kernel=rbf, total=   0.0s\n",
      "[CV] C=10, degree=5, gamma=1, kernel=rbf .............................\n"
     ]
    },
    {
     "name": "stderr",
     "output_type": "stream",
     "text": [
      "C:\\Users\\laure\\Anaconda3\\envs\\myenv\\lib\\site-packages\\sklearn\\utils\\validation.py:760: DataConversionWarning: A column-vector y was passed when a 1d array was expected. Please change the shape of y to (n_samples, ), for example using ravel().\n",
      "  y = column_or_1d(y, warn=True)\n",
      "C:\\Users\\laure\\Anaconda3\\envs\\myenv\\lib\\site-packages\\sklearn\\utils\\validation.py:760: DataConversionWarning: A column-vector y was passed when a 1d array was expected. Please change the shape of y to (n_samples, ), for example using ravel().\n",
      "  y = column_or_1d(y, warn=True)\n",
      "C:\\Users\\laure\\Anaconda3\\envs\\myenv\\lib\\site-packages\\sklearn\\utils\\validation.py:760: DataConversionWarning: A column-vector y was passed when a 1d array was expected. Please change the shape of y to (n_samples, ), for example using ravel().\n",
      "  y = column_or_1d(y, warn=True)\n",
      "C:\\Users\\laure\\Anaconda3\\envs\\myenv\\lib\\site-packages\\sklearn\\utils\\validation.py:760: DataConversionWarning: A column-vector y was passed when a 1d array was expected. Please change the shape of y to (n_samples, ), for example using ravel().\n",
      "  y = column_or_1d(y, warn=True)\n",
      "C:\\Users\\laure\\Anaconda3\\envs\\myenv\\lib\\site-packages\\sklearn\\utils\\validation.py:760: DataConversionWarning: A column-vector y was passed when a 1d array was expected. Please change the shape of y to (n_samples, ), for example using ravel().\n",
      "  y = column_or_1d(y, warn=True)\n",
      "C:\\Users\\laure\\Anaconda3\\envs\\myenv\\lib\\site-packages\\sklearn\\utils\\validation.py:760: DataConversionWarning: A column-vector y was passed when a 1d array was expected. Please change the shape of y to (n_samples, ), for example using ravel().\n",
      "  y = column_or_1d(y, warn=True)\n",
      "C:\\Users\\laure\\Anaconda3\\envs\\myenv\\lib\\site-packages\\sklearn\\utils\\validation.py:760: DataConversionWarning: A column-vector y was passed when a 1d array was expected. Please change the shape of y to (n_samples, ), for example using ravel().\n",
      "  y = column_or_1d(y, warn=True)\n",
      "C:\\Users\\laure\\Anaconda3\\envs\\myenv\\lib\\site-packages\\sklearn\\utils\\validation.py:760: DataConversionWarning: A column-vector y was passed when a 1d array was expected. Please change the shape of y to (n_samples, ), for example using ravel().\n",
      "  y = column_or_1d(y, warn=True)\n",
      "C:\\Users\\laure\\Anaconda3\\envs\\myenv\\lib\\site-packages\\sklearn\\utils\\validation.py:760: DataConversionWarning: A column-vector y was passed when a 1d array was expected. Please change the shape of y to (n_samples, ), for example using ravel().\n",
      "  y = column_or_1d(y, warn=True)\n",
      "C:\\Users\\laure\\Anaconda3\\envs\\myenv\\lib\\site-packages\\sklearn\\utils\\validation.py:760: DataConversionWarning: A column-vector y was passed when a 1d array was expected. Please change the shape of y to (n_samples, ), for example using ravel().\n",
      "  y = column_or_1d(y, warn=True)\n",
      "C:\\Users\\laure\\Anaconda3\\envs\\myenv\\lib\\site-packages\\sklearn\\utils\\validation.py:760: DataConversionWarning: A column-vector y was passed when a 1d array was expected. Please change the shape of y to (n_samples, ), for example using ravel().\n",
      "  y = column_or_1d(y, warn=True)\n",
      "C:\\Users\\laure\\Anaconda3\\envs\\myenv\\lib\\site-packages\\sklearn\\utils\\validation.py:760: DataConversionWarning: A column-vector y was passed when a 1d array was expected. Please change the shape of y to (n_samples, ), for example using ravel().\n",
      "  y = column_or_1d(y, warn=True)\n",
      "C:\\Users\\laure\\Anaconda3\\envs\\myenv\\lib\\site-packages\\sklearn\\utils\\validation.py:760: DataConversionWarning: A column-vector y was passed when a 1d array was expected. Please change the shape of y to (n_samples, ), for example using ravel().\n",
      "  y = column_or_1d(y, warn=True)\n",
      "C:\\Users\\laure\\Anaconda3\\envs\\myenv\\lib\\site-packages\\sklearn\\utils\\validation.py:760: DataConversionWarning: A column-vector y was passed when a 1d array was expected. Please change the shape of y to (n_samples, ), for example using ravel().\n",
      "  y = column_or_1d(y, warn=True)\n"
     ]
    },
    {
     "name": "stdout",
     "output_type": "stream",
     "text": [
      "[CV] .............. C=10, degree=5, gamma=1, kernel=rbf, total=   0.0s\n",
      "[CV] C=10, degree=5, gamma=1, kernel=rbf .............................\n",
      "[CV] .............. C=10, degree=5, gamma=1, kernel=rbf, total=   0.0s\n",
      "[CV] C=10, degree=5, gamma=1, kernel=rbf .............................\n",
      "[CV] .............. C=10, degree=5, gamma=1, kernel=rbf, total=   0.0s\n",
      "[CV] C=10, degree=5, gamma=1, kernel=poly ............................\n",
      "[CV] ............. C=10, degree=5, gamma=1, kernel=poly, total=   0.0s\n",
      "[CV] C=10, degree=5, gamma=1, kernel=poly ............................\n",
      "[CV] ............. C=10, degree=5, gamma=1, kernel=poly, total=   0.0s\n",
      "[CV] C=10, degree=5, gamma=1, kernel=poly ............................\n",
      "[CV] ............. C=10, degree=5, gamma=1, kernel=poly, total=   0.0s\n",
      "[CV] C=10, degree=5, gamma=1, kernel=poly ............................\n",
      "[CV] ............. C=10, degree=5, gamma=1, kernel=poly, total=   0.0s\n",
      "[CV] C=10, degree=5, gamma=1, kernel=poly ............................\n",
      "[CV] ............. C=10, degree=5, gamma=1, kernel=poly, total=   0.0s\n",
      "[CV] C=10, degree=5, gamma=1, kernel=sigmoid .........................\n",
      "[CV] .......... C=10, degree=5, gamma=1, kernel=sigmoid, total=   0.0s\n",
      "[CV] C=10, degree=5, gamma=1, kernel=sigmoid .........................\n",
      "[CV] .......... C=10, degree=5, gamma=1, kernel=sigmoid, total=   0.0s\n",
      "[CV] C=10, degree=5, gamma=1, kernel=sigmoid .........................\n",
      "[CV] .......... C=10, degree=5, gamma=1, kernel=sigmoid, total=   0.0s\n",
      "[CV] C=10, degree=5, gamma=1, kernel=sigmoid .........................\n",
      "[CV] .......... C=10, degree=5, gamma=1, kernel=sigmoid, total=   0.0s\n",
      "[CV] C=10, degree=5, gamma=1, kernel=sigmoid .........................\n",
      "[CV] .......... C=10, degree=5, gamma=1, kernel=sigmoid, total=   0.0s\n",
      "[CV] C=10, degree=5, gamma=0.1, kernel=linear ........................\n",
      "[CV] ......... C=10, degree=5, gamma=0.1, kernel=linear, total=   0.0s\n",
      "[CV] C=10, degree=5, gamma=0.1, kernel=linear ........................\n",
      "[CV] ......... C=10, degree=5, gamma=0.1, kernel=linear, total=   0.0s\n",
      "[CV] C=10, degree=5, gamma=0.1, kernel=linear ........................\n",
      "[CV] ......... C=10, degree=5, gamma=0.1, kernel=linear, total=   0.0s\n",
      "[CV] C=10, degree=5, gamma=0.1, kernel=linear ........................\n",
      "[CV] ......... C=10, degree=5, gamma=0.1, kernel=linear, total=   0.0s\n",
      "[CV] C=10, degree=5, gamma=0.1, kernel=linear ........................\n",
      "[CV] ......... C=10, degree=5, gamma=0.1, kernel=linear, total=   0.0s\n",
      "[CV] C=10, degree=5, gamma=0.1, kernel=rbf ...........................\n"
     ]
    },
    {
     "name": "stderr",
     "output_type": "stream",
     "text": [
      "C:\\Users\\laure\\Anaconda3\\envs\\myenv\\lib\\site-packages\\sklearn\\utils\\validation.py:760: DataConversionWarning: A column-vector y was passed when a 1d array was expected. Please change the shape of y to (n_samples, ), for example using ravel().\n",
      "  y = column_or_1d(y, warn=True)\n",
      "C:\\Users\\laure\\Anaconda3\\envs\\myenv\\lib\\site-packages\\sklearn\\utils\\validation.py:760: DataConversionWarning: A column-vector y was passed when a 1d array was expected. Please change the shape of y to (n_samples, ), for example using ravel().\n",
      "  y = column_or_1d(y, warn=True)\n",
      "C:\\Users\\laure\\Anaconda3\\envs\\myenv\\lib\\site-packages\\sklearn\\utils\\validation.py:760: DataConversionWarning: A column-vector y was passed when a 1d array was expected. Please change the shape of y to (n_samples, ), for example using ravel().\n",
      "  y = column_or_1d(y, warn=True)\n",
      "C:\\Users\\laure\\Anaconda3\\envs\\myenv\\lib\\site-packages\\sklearn\\utils\\validation.py:760: DataConversionWarning: A column-vector y was passed when a 1d array was expected. Please change the shape of y to (n_samples, ), for example using ravel().\n",
      "  y = column_or_1d(y, warn=True)\n",
      "C:\\Users\\laure\\Anaconda3\\envs\\myenv\\lib\\site-packages\\sklearn\\utils\\validation.py:760: DataConversionWarning: A column-vector y was passed when a 1d array was expected. Please change the shape of y to (n_samples, ), for example using ravel().\n",
      "  y = column_or_1d(y, warn=True)\n",
      "C:\\Users\\laure\\Anaconda3\\envs\\myenv\\lib\\site-packages\\sklearn\\utils\\validation.py:760: DataConversionWarning: A column-vector y was passed when a 1d array was expected. Please change the shape of y to (n_samples, ), for example using ravel().\n",
      "  y = column_or_1d(y, warn=True)\n",
      "C:\\Users\\laure\\Anaconda3\\envs\\myenv\\lib\\site-packages\\sklearn\\utils\\validation.py:760: DataConversionWarning: A column-vector y was passed when a 1d array was expected. Please change the shape of y to (n_samples, ), for example using ravel().\n",
      "  y = column_or_1d(y, warn=True)\n",
      "C:\\Users\\laure\\Anaconda3\\envs\\myenv\\lib\\site-packages\\sklearn\\utils\\validation.py:760: DataConversionWarning: A column-vector y was passed when a 1d array was expected. Please change the shape of y to (n_samples, ), for example using ravel().\n",
      "  y = column_or_1d(y, warn=True)\n",
      "C:\\Users\\laure\\Anaconda3\\envs\\myenv\\lib\\site-packages\\sklearn\\utils\\validation.py:760: DataConversionWarning: A column-vector y was passed when a 1d array was expected. Please change the shape of y to (n_samples, ), for example using ravel().\n",
      "  y = column_or_1d(y, warn=True)\n",
      "C:\\Users\\laure\\Anaconda3\\envs\\myenv\\lib\\site-packages\\sklearn\\utils\\validation.py:760: DataConversionWarning: A column-vector y was passed when a 1d array was expected. Please change the shape of y to (n_samples, ), for example using ravel().\n",
      "  y = column_or_1d(y, warn=True)\n",
      "C:\\Users\\laure\\Anaconda3\\envs\\myenv\\lib\\site-packages\\sklearn\\utils\\validation.py:760: DataConversionWarning: A column-vector y was passed when a 1d array was expected. Please change the shape of y to (n_samples, ), for example using ravel().\n",
      "  y = column_or_1d(y, warn=True)\n",
      "C:\\Users\\laure\\Anaconda3\\envs\\myenv\\lib\\site-packages\\sklearn\\utils\\validation.py:760: DataConversionWarning: A column-vector y was passed when a 1d array was expected. Please change the shape of y to (n_samples, ), for example using ravel().\n",
      "  y = column_or_1d(y, warn=True)\n",
      "C:\\Users\\laure\\Anaconda3\\envs\\myenv\\lib\\site-packages\\sklearn\\utils\\validation.py:760: DataConversionWarning: A column-vector y was passed when a 1d array was expected. Please change the shape of y to (n_samples, ), for example using ravel().\n",
      "  y = column_or_1d(y, warn=True)\n",
      "C:\\Users\\laure\\Anaconda3\\envs\\myenv\\lib\\site-packages\\sklearn\\utils\\validation.py:760: DataConversionWarning: A column-vector y was passed when a 1d array was expected. Please change the shape of y to (n_samples, ), for example using ravel().\n",
      "  y = column_or_1d(y, warn=True)\n",
      "C:\\Users\\laure\\Anaconda3\\envs\\myenv\\lib\\site-packages\\sklearn\\utils\\validation.py:760: DataConversionWarning: A column-vector y was passed when a 1d array was expected. Please change the shape of y to (n_samples, ), for example using ravel().\n",
      "  y = column_or_1d(y, warn=True)\n"
     ]
    },
    {
     "name": "stdout",
     "output_type": "stream",
     "text": [
      "[CV] ............ C=10, degree=5, gamma=0.1, kernel=rbf, total=   0.0s\n",
      "[CV] C=10, degree=5, gamma=0.1, kernel=rbf ...........................\n",
      "[CV] ............ C=10, degree=5, gamma=0.1, kernel=rbf, total=   0.0s\n",
      "[CV] C=10, degree=5, gamma=0.1, kernel=rbf ...........................\n",
      "[CV] ............ C=10, degree=5, gamma=0.1, kernel=rbf, total=   0.0s\n",
      "[CV] C=10, degree=5, gamma=0.1, kernel=rbf ...........................\n",
      "[CV] ............ C=10, degree=5, gamma=0.1, kernel=rbf, total=   0.0s\n",
      "[CV] C=10, degree=5, gamma=0.1, kernel=rbf ...........................\n",
      "[CV] ............ C=10, degree=5, gamma=0.1, kernel=rbf, total=   0.0s\n",
      "[CV] C=10, degree=5, gamma=0.1, kernel=poly ..........................\n"
     ]
    },
    {
     "name": "stderr",
     "output_type": "stream",
     "text": [
      "C:\\Users\\laure\\Anaconda3\\envs\\myenv\\lib\\site-packages\\sklearn\\utils\\validation.py:760: DataConversionWarning: A column-vector y was passed when a 1d array was expected. Please change the shape of y to (n_samples, ), for example using ravel().\n",
      "  y = column_or_1d(y, warn=True)\n",
      "C:\\Users\\laure\\Anaconda3\\envs\\myenv\\lib\\site-packages\\sklearn\\utils\\validation.py:760: DataConversionWarning: A column-vector y was passed when a 1d array was expected. Please change the shape of y to (n_samples, ), for example using ravel().\n",
      "  y = column_or_1d(y, warn=True)\n"
     ]
    },
    {
     "name": "stdout",
     "output_type": "stream",
     "text": [
      "[CV] ........... C=10, degree=5, gamma=0.1, kernel=poly, total=   0.2s\n",
      "[CV] C=10, degree=5, gamma=0.1, kernel=poly ..........................\n",
      "[CV] ........... C=10, degree=5, gamma=0.1, kernel=poly, total=   0.1s\n",
      "[CV] C=10, degree=5, gamma=0.1, kernel=poly ..........................\n"
     ]
    },
    {
     "name": "stderr",
     "output_type": "stream",
     "text": [
      "C:\\Users\\laure\\Anaconda3\\envs\\myenv\\lib\\site-packages\\sklearn\\utils\\validation.py:760: DataConversionWarning: A column-vector y was passed when a 1d array was expected. Please change the shape of y to (n_samples, ), for example using ravel().\n",
      "  y = column_or_1d(y, warn=True)\n",
      "C:\\Users\\laure\\Anaconda3\\envs\\myenv\\lib\\site-packages\\sklearn\\utils\\validation.py:760: DataConversionWarning: A column-vector y was passed when a 1d array was expected. Please change the shape of y to (n_samples, ), for example using ravel().\n",
      "  y = column_or_1d(y, warn=True)\n"
     ]
    },
    {
     "name": "stdout",
     "output_type": "stream",
     "text": [
      "[CV] ........... C=10, degree=5, gamma=0.1, kernel=poly, total=   0.2s\n",
      "[CV] C=10, degree=5, gamma=0.1, kernel=poly ..........................\n",
      "[CV] ........... C=10, degree=5, gamma=0.1, kernel=poly, total=   0.2s\n",
      "[CV] C=10, degree=5, gamma=0.1, kernel=poly ..........................\n"
     ]
    },
    {
     "name": "stderr",
     "output_type": "stream",
     "text": [
      "C:\\Users\\laure\\Anaconda3\\envs\\myenv\\lib\\site-packages\\sklearn\\utils\\validation.py:760: DataConversionWarning: A column-vector y was passed when a 1d array was expected. Please change the shape of y to (n_samples, ), for example using ravel().\n",
      "  y = column_or_1d(y, warn=True)\n",
      "C:\\Users\\laure\\Anaconda3\\envs\\myenv\\lib\\site-packages\\sklearn\\utils\\validation.py:760: DataConversionWarning: A column-vector y was passed when a 1d array was expected. Please change the shape of y to (n_samples, ), for example using ravel().\n",
      "  y = column_or_1d(y, warn=True)\n",
      "C:\\Users\\laure\\Anaconda3\\envs\\myenv\\lib\\site-packages\\sklearn\\utils\\validation.py:760: DataConversionWarning: A column-vector y was passed when a 1d array was expected. Please change the shape of y to (n_samples, ), for example using ravel().\n",
      "  y = column_or_1d(y, warn=True)\n"
     ]
    },
    {
     "name": "stdout",
     "output_type": "stream",
     "text": [
      "[CV] ........... C=10, degree=5, gamma=0.1, kernel=poly, total=   0.2s\n",
      "[CV] C=10, degree=5, gamma=0.1, kernel=sigmoid .......................\n",
      "[CV] ........ C=10, degree=5, gamma=0.1, kernel=sigmoid, total=   0.0s\n",
      "[CV] C=10, degree=5, gamma=0.1, kernel=sigmoid .......................\n",
      "[CV] ........ C=10, degree=5, gamma=0.1, kernel=sigmoid, total=   0.0s\n",
      "[CV] C=10, degree=5, gamma=0.1, kernel=sigmoid .......................\n",
      "[CV] ........ C=10, degree=5, gamma=0.1, kernel=sigmoid, total=   0.0s\n",
      "[CV] C=10, degree=5, gamma=0.1, kernel=sigmoid .......................\n",
      "[CV] ........ C=10, degree=5, gamma=0.1, kernel=sigmoid, total=   0.0s\n",
      "[CV] C=10, degree=5, gamma=0.1, kernel=sigmoid .......................\n",
      "[CV] ........ C=10, degree=5, gamma=0.1, kernel=sigmoid, total=   0.0s\n",
      "[CV] C=10, degree=5, gamma=0.01, kernel=linear .......................\n",
      "[CV] ........ C=10, degree=5, gamma=0.01, kernel=linear, total=   0.0s\n",
      "[CV] C=10, degree=5, gamma=0.01, kernel=linear .......................\n",
      "[CV] ........ C=10, degree=5, gamma=0.01, kernel=linear, total=   0.0s\n",
      "[CV] C=10, degree=5, gamma=0.01, kernel=linear .......................\n",
      "[CV] ........ C=10, degree=5, gamma=0.01, kernel=linear, total=   0.0s\n",
      "[CV] C=10, degree=5, gamma=0.01, kernel=linear .......................\n",
      "[CV] ........ C=10, degree=5, gamma=0.01, kernel=linear, total=   0.0s\n",
      "[CV] C=10, degree=5, gamma=0.01, kernel=linear .......................\n",
      "[CV] ........ C=10, degree=5, gamma=0.01, kernel=linear, total=   0.0s\n",
      "[CV] C=10, degree=5, gamma=0.01, kernel=rbf ..........................\n",
      "[CV] ........... C=10, degree=5, gamma=0.01, kernel=rbf, total=   0.0s\n",
      "[CV] C=10, degree=5, gamma=0.01, kernel=rbf ..........................\n",
      "[CV] ........... C=10, degree=5, gamma=0.01, kernel=rbf, total=   0.0s\n",
      "[CV] C=10, degree=5, gamma=0.01, kernel=rbf ..........................\n",
      "[CV] ........... C=10, degree=5, gamma=0.01, kernel=rbf, total=   0.0s\n",
      "[CV] C=10, degree=5, gamma=0.01, kernel=rbf ..........................\n"
     ]
    },
    {
     "name": "stderr",
     "output_type": "stream",
     "text": [
      "C:\\Users\\laure\\Anaconda3\\envs\\myenv\\lib\\site-packages\\sklearn\\utils\\validation.py:760: DataConversionWarning: A column-vector y was passed when a 1d array was expected. Please change the shape of y to (n_samples, ), for example using ravel().\n",
      "  y = column_or_1d(y, warn=True)\n",
      "C:\\Users\\laure\\Anaconda3\\envs\\myenv\\lib\\site-packages\\sklearn\\utils\\validation.py:760: DataConversionWarning: A column-vector y was passed when a 1d array was expected. Please change the shape of y to (n_samples, ), for example using ravel().\n",
      "  y = column_or_1d(y, warn=True)\n",
      "C:\\Users\\laure\\Anaconda3\\envs\\myenv\\lib\\site-packages\\sklearn\\utils\\validation.py:760: DataConversionWarning: A column-vector y was passed when a 1d array was expected. Please change the shape of y to (n_samples, ), for example using ravel().\n",
      "  y = column_or_1d(y, warn=True)\n",
      "C:\\Users\\laure\\Anaconda3\\envs\\myenv\\lib\\site-packages\\sklearn\\utils\\validation.py:760: DataConversionWarning: A column-vector y was passed when a 1d array was expected. Please change the shape of y to (n_samples, ), for example using ravel().\n",
      "  y = column_or_1d(y, warn=True)\n",
      "C:\\Users\\laure\\Anaconda3\\envs\\myenv\\lib\\site-packages\\sklearn\\utils\\validation.py:760: DataConversionWarning: A column-vector y was passed when a 1d array was expected. Please change the shape of y to (n_samples, ), for example using ravel().\n",
      "  y = column_or_1d(y, warn=True)\n",
      "C:\\Users\\laure\\Anaconda3\\envs\\myenv\\lib\\site-packages\\sklearn\\utils\\validation.py:760: DataConversionWarning: A column-vector y was passed when a 1d array was expected. Please change the shape of y to (n_samples, ), for example using ravel().\n",
      "  y = column_or_1d(y, warn=True)\n",
      "C:\\Users\\laure\\Anaconda3\\envs\\myenv\\lib\\site-packages\\sklearn\\utils\\validation.py:760: DataConversionWarning: A column-vector y was passed when a 1d array was expected. Please change the shape of y to (n_samples, ), for example using ravel().\n",
      "  y = column_or_1d(y, warn=True)\n",
      "C:\\Users\\laure\\Anaconda3\\envs\\myenv\\lib\\site-packages\\sklearn\\utils\\validation.py:760: DataConversionWarning: A column-vector y was passed when a 1d array was expected. Please change the shape of y to (n_samples, ), for example using ravel().\n",
      "  y = column_or_1d(y, warn=True)\n",
      "C:\\Users\\laure\\Anaconda3\\envs\\myenv\\lib\\site-packages\\sklearn\\utils\\validation.py:760: DataConversionWarning: A column-vector y was passed when a 1d array was expected. Please change the shape of y to (n_samples, ), for example using ravel().\n",
      "  y = column_or_1d(y, warn=True)\n",
      "C:\\Users\\laure\\Anaconda3\\envs\\myenv\\lib\\site-packages\\sklearn\\utils\\validation.py:760: DataConversionWarning: A column-vector y was passed when a 1d array was expected. Please change the shape of y to (n_samples, ), for example using ravel().\n",
      "  y = column_or_1d(y, warn=True)\n",
      "C:\\Users\\laure\\Anaconda3\\envs\\myenv\\lib\\site-packages\\sklearn\\utils\\validation.py:760: DataConversionWarning: A column-vector y was passed when a 1d array was expected. Please change the shape of y to (n_samples, ), for example using ravel().\n",
      "  y = column_or_1d(y, warn=True)\n",
      "C:\\Users\\laure\\Anaconda3\\envs\\myenv\\lib\\site-packages\\sklearn\\utils\\validation.py:760: DataConversionWarning: A column-vector y was passed when a 1d array was expected. Please change the shape of y to (n_samples, ), for example using ravel().\n",
      "  y = column_or_1d(y, warn=True)\n",
      "C:\\Users\\laure\\Anaconda3\\envs\\myenv\\lib\\site-packages\\sklearn\\utils\\validation.py:760: DataConversionWarning: A column-vector y was passed when a 1d array was expected. Please change the shape of y to (n_samples, ), for example using ravel().\n",
      "  y = column_or_1d(y, warn=True)\n"
     ]
    },
    {
     "name": "stdout",
     "output_type": "stream",
     "text": [
      "[CV] ........... C=10, degree=5, gamma=0.01, kernel=rbf, total=   0.0s\n",
      "[CV] C=10, degree=5, gamma=0.01, kernel=rbf ..........................\n",
      "[CV] ........... C=10, degree=5, gamma=0.01, kernel=rbf, total=   0.0s\n",
      "[CV] C=10, degree=5, gamma=0.01, kernel=poly .........................\n",
      "[CV] .......... C=10, degree=5, gamma=0.01, kernel=poly, total=   0.2s\n",
      "[CV] C=10, degree=5, gamma=0.01, kernel=poly .........................\n"
     ]
    },
    {
     "name": "stderr",
     "output_type": "stream",
     "text": [
      "C:\\Users\\laure\\Anaconda3\\envs\\myenv\\lib\\site-packages\\sklearn\\utils\\validation.py:760: DataConversionWarning: A column-vector y was passed when a 1d array was expected. Please change the shape of y to (n_samples, ), for example using ravel().\n",
      "  y = column_or_1d(y, warn=True)\n",
      "C:\\Users\\laure\\Anaconda3\\envs\\myenv\\lib\\site-packages\\sklearn\\utils\\validation.py:760: DataConversionWarning: A column-vector y was passed when a 1d array was expected. Please change the shape of y to (n_samples, ), for example using ravel().\n",
      "  y = column_or_1d(y, warn=True)\n"
     ]
    },
    {
     "name": "stdout",
     "output_type": "stream",
     "text": [
      "[CV] .......... C=10, degree=5, gamma=0.01, kernel=poly, total=   0.2s\n",
      "[CV] C=10, degree=5, gamma=0.01, kernel=poly .........................\n",
      "[CV] .......... C=10, degree=5, gamma=0.01, kernel=poly, total=   0.2s\n",
      "[CV] C=10, degree=5, gamma=0.01, kernel=poly .........................\n"
     ]
    },
    {
     "name": "stderr",
     "output_type": "stream",
     "text": [
      "C:\\Users\\laure\\Anaconda3\\envs\\myenv\\lib\\site-packages\\sklearn\\utils\\validation.py:760: DataConversionWarning: A column-vector y was passed when a 1d array was expected. Please change the shape of y to (n_samples, ), for example using ravel().\n",
      "  y = column_or_1d(y, warn=True)\n",
      "C:\\Users\\laure\\Anaconda3\\envs\\myenv\\lib\\site-packages\\sklearn\\utils\\validation.py:760: DataConversionWarning: A column-vector y was passed when a 1d array was expected. Please change the shape of y to (n_samples, ), for example using ravel().\n",
      "  y = column_or_1d(y, warn=True)\n",
      "C:\\Users\\laure\\Anaconda3\\envs\\myenv\\lib\\site-packages\\sklearn\\utils\\validation.py:760: DataConversionWarning: A column-vector y was passed when a 1d array was expected. Please change the shape of y to (n_samples, ), for example using ravel().\n",
      "  y = column_or_1d(y, warn=True)\n"
     ]
    },
    {
     "name": "stdout",
     "output_type": "stream",
     "text": [
      "[CV] .......... C=10, degree=5, gamma=0.01, kernel=poly, total=   0.2s\n",
      "[CV] C=10, degree=5, gamma=0.01, kernel=poly .........................\n",
      "[CV] .......... C=10, degree=5, gamma=0.01, kernel=poly, total=   0.2s\n",
      "[CV] C=10, degree=5, gamma=0.01, kernel=sigmoid ......................\n"
     ]
    },
    {
     "name": "stderr",
     "output_type": "stream",
     "text": [
      "C:\\Users\\laure\\Anaconda3\\envs\\myenv\\lib\\site-packages\\sklearn\\utils\\validation.py:760: DataConversionWarning: A column-vector y was passed when a 1d array was expected. Please change the shape of y to (n_samples, ), for example using ravel().\n",
      "  y = column_or_1d(y, warn=True)\n",
      "C:\\Users\\laure\\Anaconda3\\envs\\myenv\\lib\\site-packages\\sklearn\\utils\\validation.py:760: DataConversionWarning: A column-vector y was passed when a 1d array was expected. Please change the shape of y to (n_samples, ), for example using ravel().\n",
      "  y = column_or_1d(y, warn=True)\n",
      "C:\\Users\\laure\\Anaconda3\\envs\\myenv\\lib\\site-packages\\sklearn\\utils\\validation.py:760: DataConversionWarning: A column-vector y was passed when a 1d array was expected. Please change the shape of y to (n_samples, ), for example using ravel().\n",
      "  y = column_or_1d(y, warn=True)\n",
      "C:\\Users\\laure\\Anaconda3\\envs\\myenv\\lib\\site-packages\\sklearn\\utils\\validation.py:760: DataConversionWarning: A column-vector y was passed when a 1d array was expected. Please change the shape of y to (n_samples, ), for example using ravel().\n",
      "  y = column_or_1d(y, warn=True)\n",
      "C:\\Users\\laure\\Anaconda3\\envs\\myenv\\lib\\site-packages\\sklearn\\utils\\validation.py:760: DataConversionWarning: A column-vector y was passed when a 1d array was expected. Please change the shape of y to (n_samples, ), for example using ravel().\n",
      "  y = column_or_1d(y, warn=True)\n",
      "C:\\Users\\laure\\Anaconda3\\envs\\myenv\\lib\\site-packages\\sklearn\\utils\\validation.py:760: DataConversionWarning: A column-vector y was passed when a 1d array was expected. Please change the shape of y to (n_samples, ), for example using ravel().\n",
      "  y = column_or_1d(y, warn=True)\n",
      "C:\\Users\\laure\\Anaconda3\\envs\\myenv\\lib\\site-packages\\sklearn\\utils\\validation.py:760: DataConversionWarning: A column-vector y was passed when a 1d array was expected. Please change the shape of y to (n_samples, ), for example using ravel().\n",
      "  y = column_or_1d(y, warn=True)\n",
      "C:\\Users\\laure\\Anaconda3\\envs\\myenv\\lib\\site-packages\\sklearn\\utils\\validation.py:760: DataConversionWarning: A column-vector y was passed when a 1d array was expected. Please change the shape of y to (n_samples, ), for example using ravel().\n",
      "  y = column_or_1d(y, warn=True)\n",
      "C:\\Users\\laure\\Anaconda3\\envs\\myenv\\lib\\site-packages\\sklearn\\utils\\validation.py:760: DataConversionWarning: A column-vector y was passed when a 1d array was expected. Please change the shape of y to (n_samples, ), for example using ravel().\n",
      "  y = column_or_1d(y, warn=True)\n"
     ]
    },
    {
     "name": "stdout",
     "output_type": "stream",
     "text": [
      "[CV] ....... C=10, degree=5, gamma=0.01, kernel=sigmoid, total=   0.0s\n",
      "[CV] C=10, degree=5, gamma=0.01, kernel=sigmoid ......................\n",
      "[CV] ....... C=10, degree=5, gamma=0.01, kernel=sigmoid, total=   0.0s\n",
      "[CV] C=10, degree=5, gamma=0.01, kernel=sigmoid ......................\n",
      "[CV] ....... C=10, degree=5, gamma=0.01, kernel=sigmoid, total=   0.0s\n",
      "[CV] C=10, degree=5, gamma=0.01, kernel=sigmoid ......................\n",
      "[CV] ....... C=10, degree=5, gamma=0.01, kernel=sigmoid, total=   0.0s\n",
      "[CV] C=10, degree=5, gamma=0.01, kernel=sigmoid ......................\n",
      "[CV] ....... C=10, degree=5, gamma=0.01, kernel=sigmoid, total=   0.0s\n",
      "[CV] C=10, degree=5, gamma=0.001, kernel=linear ......................\n",
      "[CV] ....... C=10, degree=5, gamma=0.001, kernel=linear, total=   0.0s\n",
      "[CV] C=10, degree=5, gamma=0.001, kernel=linear ......................\n",
      "[CV] ....... C=10, degree=5, gamma=0.001, kernel=linear, total=   0.0s\n",
      "[CV] C=10, degree=5, gamma=0.001, kernel=linear ......................\n",
      "[CV] ....... C=10, degree=5, gamma=0.001, kernel=linear, total=   0.0s\n",
      "[CV] C=10, degree=5, gamma=0.001, kernel=linear ......................\n",
      "[CV] ....... C=10, degree=5, gamma=0.001, kernel=linear, total=   0.0s\n",
      "[CV] C=10, degree=5, gamma=0.001, kernel=linear ......................\n",
      "[CV] ....... C=10, degree=5, gamma=0.001, kernel=linear, total=   0.0s\n",
      "[CV] C=10, degree=5, gamma=0.001, kernel=rbf .........................\n"
     ]
    },
    {
     "name": "stderr",
     "output_type": "stream",
     "text": [
      "C:\\Users\\laure\\Anaconda3\\envs\\myenv\\lib\\site-packages\\sklearn\\utils\\validation.py:760: DataConversionWarning: A column-vector y was passed when a 1d array was expected. Please change the shape of y to (n_samples, ), for example using ravel().\n",
      "  y = column_or_1d(y, warn=True)\n",
      "C:\\Users\\laure\\Anaconda3\\envs\\myenv\\lib\\site-packages\\sklearn\\utils\\validation.py:760: DataConversionWarning: A column-vector y was passed when a 1d array was expected. Please change the shape of y to (n_samples, ), for example using ravel().\n",
      "  y = column_or_1d(y, warn=True)\n",
      "C:\\Users\\laure\\Anaconda3\\envs\\myenv\\lib\\site-packages\\sklearn\\utils\\validation.py:760: DataConversionWarning: A column-vector y was passed when a 1d array was expected. Please change the shape of y to (n_samples, ), for example using ravel().\n",
      "  y = column_or_1d(y, warn=True)\n",
      "C:\\Users\\laure\\Anaconda3\\envs\\myenv\\lib\\site-packages\\sklearn\\utils\\validation.py:760: DataConversionWarning: A column-vector y was passed when a 1d array was expected. Please change the shape of y to (n_samples, ), for example using ravel().\n",
      "  y = column_or_1d(y, warn=True)\n",
      "C:\\Users\\laure\\Anaconda3\\envs\\myenv\\lib\\site-packages\\sklearn\\utils\\validation.py:760: DataConversionWarning: A column-vector y was passed when a 1d array was expected. Please change the shape of y to (n_samples, ), for example using ravel().\n",
      "  y = column_or_1d(y, warn=True)\n"
     ]
    },
    {
     "name": "stdout",
     "output_type": "stream",
     "text": [
      "[CV] .......... C=10, degree=5, gamma=0.001, kernel=rbf, total=   0.1s\n",
      "[CV] C=10, degree=5, gamma=0.001, kernel=rbf .........................\n",
      "[CV] .......... C=10, degree=5, gamma=0.001, kernel=rbf, total=   0.1s\n",
      "[CV] C=10, degree=5, gamma=0.001, kernel=rbf .........................\n",
      "[CV] .......... C=10, degree=5, gamma=0.001, kernel=rbf, total=   0.1s\n",
      "[CV] C=10, degree=5, gamma=0.001, kernel=rbf .........................\n"
     ]
    },
    {
     "name": "stderr",
     "output_type": "stream",
     "text": [
      "C:\\Users\\laure\\Anaconda3\\envs\\myenv\\lib\\site-packages\\sklearn\\utils\\validation.py:760: DataConversionWarning: A column-vector y was passed when a 1d array was expected. Please change the shape of y to (n_samples, ), for example using ravel().\n",
      "  y = column_or_1d(y, warn=True)\n",
      "C:\\Users\\laure\\Anaconda3\\envs\\myenv\\lib\\site-packages\\sklearn\\utils\\validation.py:760: DataConversionWarning: A column-vector y was passed when a 1d array was expected. Please change the shape of y to (n_samples, ), for example using ravel().\n",
      "  y = column_or_1d(y, warn=True)\n",
      "C:\\Users\\laure\\Anaconda3\\envs\\myenv\\lib\\site-packages\\sklearn\\utils\\validation.py:760: DataConversionWarning: A column-vector y was passed when a 1d array was expected. Please change the shape of y to (n_samples, ), for example using ravel().\n",
      "  y = column_or_1d(y, warn=True)\n"
     ]
    },
    {
     "name": "stdout",
     "output_type": "stream",
     "text": [
      "[CV] .......... C=10, degree=5, gamma=0.001, kernel=rbf, total=   0.1s\n",
      "[CV] C=10, degree=5, gamma=0.001, kernel=rbf .........................\n",
      "[CV] .......... C=10, degree=5, gamma=0.001, kernel=rbf, total=   0.1s\n",
      "[CV] C=10, degree=5, gamma=0.001, kernel=poly ........................\n",
      "[CV] ......... C=10, degree=5, gamma=0.001, kernel=poly, total=   0.2s\n",
      "[CV] C=10, degree=5, gamma=0.001, kernel=poly ........................\n",
      "[CV] ......... C=10, degree=5, gamma=0.001, kernel=poly, total=   0.2s\n",
      "[CV] C=10, degree=5, gamma=0.001, kernel=poly ........................\n"
     ]
    },
    {
     "name": "stderr",
     "output_type": "stream",
     "text": [
      "C:\\Users\\laure\\Anaconda3\\envs\\myenv\\lib\\site-packages\\sklearn\\utils\\validation.py:760: DataConversionWarning: A column-vector y was passed when a 1d array was expected. Please change the shape of y to (n_samples, ), for example using ravel().\n",
      "  y = column_or_1d(y, warn=True)\n",
      "C:\\Users\\laure\\Anaconda3\\envs\\myenv\\lib\\site-packages\\sklearn\\utils\\validation.py:760: DataConversionWarning: A column-vector y was passed when a 1d array was expected. Please change the shape of y to (n_samples, ), for example using ravel().\n",
      "  y = column_or_1d(y, warn=True)\n"
     ]
    },
    {
     "name": "stdout",
     "output_type": "stream",
     "text": [
      "[CV] ......... C=10, degree=5, gamma=0.001, kernel=poly, total=   0.2s\n",
      "[CV] C=10, degree=5, gamma=0.001, kernel=poly ........................\n",
      "[CV] ......... C=10, degree=5, gamma=0.001, kernel=poly, total=   0.2s\n",
      "[CV] C=10, degree=5, gamma=0.001, kernel=poly ........................\n"
     ]
    },
    {
     "name": "stderr",
     "output_type": "stream",
     "text": [
      "C:\\Users\\laure\\Anaconda3\\envs\\myenv\\lib\\site-packages\\sklearn\\utils\\validation.py:760: DataConversionWarning: A column-vector y was passed when a 1d array was expected. Please change the shape of y to (n_samples, ), for example using ravel().\n",
      "  y = column_or_1d(y, warn=True)\n",
      "C:\\Users\\laure\\Anaconda3\\envs\\myenv\\lib\\site-packages\\sklearn\\utils\\validation.py:760: DataConversionWarning: A column-vector y was passed when a 1d array was expected. Please change the shape of y to (n_samples, ), for example using ravel().\n",
      "  y = column_or_1d(y, warn=True)\n",
      "C:\\Users\\laure\\Anaconda3\\envs\\myenv\\lib\\site-packages\\sklearn\\utils\\validation.py:760: DataConversionWarning: A column-vector y was passed when a 1d array was expected. Please change the shape of y to (n_samples, ), for example using ravel().\n",
      "  y = column_or_1d(y, warn=True)\n"
     ]
    },
    {
     "name": "stdout",
     "output_type": "stream",
     "text": [
      "[CV] ......... C=10, degree=5, gamma=0.001, kernel=poly, total=   0.1s\n",
      "[CV] C=10, degree=5, gamma=0.001, kernel=sigmoid .....................\n",
      "[CV] ...... C=10, degree=5, gamma=0.001, kernel=sigmoid, total=   0.1s\n",
      "[CV] C=10, degree=5, gamma=0.001, kernel=sigmoid .....................\n"
     ]
    },
    {
     "name": "stderr",
     "output_type": "stream",
     "text": [
      "C:\\Users\\laure\\Anaconda3\\envs\\myenv\\lib\\site-packages\\sklearn\\utils\\validation.py:760: DataConversionWarning: A column-vector y was passed when a 1d array was expected. Please change the shape of y to (n_samples, ), for example using ravel().\n",
      "  y = column_or_1d(y, warn=True)\n",
      "C:\\Users\\laure\\Anaconda3\\envs\\myenv\\lib\\site-packages\\sklearn\\utils\\validation.py:760: DataConversionWarning: A column-vector y was passed when a 1d array was expected. Please change the shape of y to (n_samples, ), for example using ravel().\n",
      "  y = column_or_1d(y, warn=True)\n"
     ]
    },
    {
     "name": "stdout",
     "output_type": "stream",
     "text": [
      "[CV] ...... C=10, degree=5, gamma=0.001, kernel=sigmoid, total=   0.1s\n",
      "[CV] C=10, degree=5, gamma=0.001, kernel=sigmoid .....................\n",
      "[CV] ...... C=10, degree=5, gamma=0.001, kernel=sigmoid, total=   0.1s\n",
      "[CV] C=10, degree=5, gamma=0.001, kernel=sigmoid .....................\n",
      "[CV] ...... C=10, degree=5, gamma=0.001, kernel=sigmoid, total=   0.1s\n",
      "[CV] C=10, degree=5, gamma=0.001, kernel=sigmoid .....................\n"
     ]
    },
    {
     "name": "stderr",
     "output_type": "stream",
     "text": [
      "C:\\Users\\laure\\Anaconda3\\envs\\myenv\\lib\\site-packages\\sklearn\\utils\\validation.py:760: DataConversionWarning: A column-vector y was passed when a 1d array was expected. Please change the shape of y to (n_samples, ), for example using ravel().\n",
      "  y = column_or_1d(y, warn=True)\n",
      "C:\\Users\\laure\\Anaconda3\\envs\\myenv\\lib\\site-packages\\sklearn\\utils\\validation.py:760: DataConversionWarning: A column-vector y was passed when a 1d array was expected. Please change the shape of y to (n_samples, ), for example using ravel().\n",
      "  y = column_or_1d(y, warn=True)\n"
     ]
    },
    {
     "name": "stdout",
     "output_type": "stream",
     "text": [
      "[CV] ...... C=10, degree=5, gamma=0.001, kernel=sigmoid, total=   0.1s\n",
      "[CV] C=10, degree=6, gamma=1, kernel=linear ..........................\n",
      "[CV] ........... C=10, degree=6, gamma=1, kernel=linear, total=   0.0s\n",
      "[CV] C=10, degree=6, gamma=1, kernel=linear ..........................\n",
      "[CV] ........... C=10, degree=6, gamma=1, kernel=linear, total=   0.0s\n",
      "[CV] C=10, degree=6, gamma=1, kernel=linear ..........................\n",
      "[CV] ........... C=10, degree=6, gamma=1, kernel=linear, total=   0.0s\n",
      "[CV] C=10, degree=6, gamma=1, kernel=linear ..........................\n",
      "[CV] ........... C=10, degree=6, gamma=1, kernel=linear, total=   0.0s\n",
      "[CV] C=10, degree=6, gamma=1, kernel=linear ..........................\n",
      "[CV] ........... C=10, degree=6, gamma=1, kernel=linear, total=   0.0s\n",
      "[CV] C=10, degree=6, gamma=1, kernel=rbf .............................\n",
      "[CV] .............. C=10, degree=6, gamma=1, kernel=rbf, total=   0.0s\n",
      "[CV] C=10, degree=6, gamma=1, kernel=rbf .............................\n",
      "[CV] .............. C=10, degree=6, gamma=1, kernel=rbf, total=   0.0s\n",
      "[CV] C=10, degree=6, gamma=1, kernel=rbf .............................\n",
      "[CV] .............. C=10, degree=6, gamma=1, kernel=rbf, total=   0.0s\n",
      "[CV] C=10, degree=6, gamma=1, kernel=rbf .............................\n",
      "[CV] .............. C=10, degree=6, gamma=1, kernel=rbf, total=   0.0s\n",
      "[CV] C=10, degree=6, gamma=1, kernel=rbf .............................\n",
      "[CV] .............. C=10, degree=6, gamma=1, kernel=rbf, total=   0.0s\n",
      "[CV] C=10, degree=6, gamma=1, kernel=poly ............................\n",
      "[CV] ............. C=10, degree=6, gamma=1, kernel=poly, total=   0.0s\n",
      "[CV] C=10, degree=6, gamma=1, kernel=poly ............................\n",
      "[CV] ............. C=10, degree=6, gamma=1, kernel=poly, total=   0.0s\n",
      "[CV] C=10, degree=6, gamma=1, kernel=poly ............................\n",
      "[CV] ............. C=10, degree=6, gamma=1, kernel=poly, total=   0.0s\n",
      "[CV] C=10, degree=6, gamma=1, kernel=poly ............................\n",
      "[CV] ............. C=10, degree=6, gamma=1, kernel=poly, total=   0.0s\n",
      "[CV] C=10, degree=6, gamma=1, kernel=poly ............................\n"
     ]
    },
    {
     "name": "stderr",
     "output_type": "stream",
     "text": [
      "C:\\Users\\laure\\Anaconda3\\envs\\myenv\\lib\\site-packages\\sklearn\\utils\\validation.py:760: DataConversionWarning: A column-vector y was passed when a 1d array was expected. Please change the shape of y to (n_samples, ), for example using ravel().\n",
      "  y = column_or_1d(y, warn=True)\n",
      "C:\\Users\\laure\\Anaconda3\\envs\\myenv\\lib\\site-packages\\sklearn\\utils\\validation.py:760: DataConversionWarning: A column-vector y was passed when a 1d array was expected. Please change the shape of y to (n_samples, ), for example using ravel().\n",
      "  y = column_or_1d(y, warn=True)\n",
      "C:\\Users\\laure\\Anaconda3\\envs\\myenv\\lib\\site-packages\\sklearn\\utils\\validation.py:760: DataConversionWarning: A column-vector y was passed when a 1d array was expected. Please change the shape of y to (n_samples, ), for example using ravel().\n",
      "  y = column_or_1d(y, warn=True)\n",
      "C:\\Users\\laure\\Anaconda3\\envs\\myenv\\lib\\site-packages\\sklearn\\utils\\validation.py:760: DataConversionWarning: A column-vector y was passed when a 1d array was expected. Please change the shape of y to (n_samples, ), for example using ravel().\n",
      "  y = column_or_1d(y, warn=True)\n",
      "C:\\Users\\laure\\Anaconda3\\envs\\myenv\\lib\\site-packages\\sklearn\\utils\\validation.py:760: DataConversionWarning: A column-vector y was passed when a 1d array was expected. Please change the shape of y to (n_samples, ), for example using ravel().\n",
      "  y = column_or_1d(y, warn=True)\n",
      "C:\\Users\\laure\\Anaconda3\\envs\\myenv\\lib\\site-packages\\sklearn\\utils\\validation.py:760: DataConversionWarning: A column-vector y was passed when a 1d array was expected. Please change the shape of y to (n_samples, ), for example using ravel().\n",
      "  y = column_or_1d(y, warn=True)\n",
      "C:\\Users\\laure\\Anaconda3\\envs\\myenv\\lib\\site-packages\\sklearn\\utils\\validation.py:760: DataConversionWarning: A column-vector y was passed when a 1d array was expected. Please change the shape of y to (n_samples, ), for example using ravel().\n",
      "  y = column_or_1d(y, warn=True)\n",
      "C:\\Users\\laure\\Anaconda3\\envs\\myenv\\lib\\site-packages\\sklearn\\utils\\validation.py:760: DataConversionWarning: A column-vector y was passed when a 1d array was expected. Please change the shape of y to (n_samples, ), for example using ravel().\n",
      "  y = column_or_1d(y, warn=True)\n",
      "C:\\Users\\laure\\Anaconda3\\envs\\myenv\\lib\\site-packages\\sklearn\\utils\\validation.py:760: DataConversionWarning: A column-vector y was passed when a 1d array was expected. Please change the shape of y to (n_samples, ), for example using ravel().\n",
      "  y = column_or_1d(y, warn=True)\n",
      "C:\\Users\\laure\\Anaconda3\\envs\\myenv\\lib\\site-packages\\sklearn\\utils\\validation.py:760: DataConversionWarning: A column-vector y was passed when a 1d array was expected. Please change the shape of y to (n_samples, ), for example using ravel().\n",
      "  y = column_or_1d(y, warn=True)\n",
      "C:\\Users\\laure\\Anaconda3\\envs\\myenv\\lib\\site-packages\\sklearn\\utils\\validation.py:760: DataConversionWarning: A column-vector y was passed when a 1d array was expected. Please change the shape of y to (n_samples, ), for example using ravel().\n",
      "  y = column_or_1d(y, warn=True)\n",
      "C:\\Users\\laure\\Anaconda3\\envs\\myenv\\lib\\site-packages\\sklearn\\utils\\validation.py:760: DataConversionWarning: A column-vector y was passed when a 1d array was expected. Please change the shape of y to (n_samples, ), for example using ravel().\n",
      "  y = column_or_1d(y, warn=True)\n",
      "C:\\Users\\laure\\Anaconda3\\envs\\myenv\\lib\\site-packages\\sklearn\\utils\\validation.py:760: DataConversionWarning: A column-vector y was passed when a 1d array was expected. Please change the shape of y to (n_samples, ), for example using ravel().\n",
      "  y = column_or_1d(y, warn=True)\n",
      "C:\\Users\\laure\\Anaconda3\\envs\\myenv\\lib\\site-packages\\sklearn\\utils\\validation.py:760: DataConversionWarning: A column-vector y was passed when a 1d array was expected. Please change the shape of y to (n_samples, ), for example using ravel().\n",
      "  y = column_or_1d(y, warn=True)\n"
     ]
    },
    {
     "name": "stdout",
     "output_type": "stream",
     "text": [
      "[CV] ............. C=10, degree=6, gamma=1, kernel=poly, total=   0.0s\n",
      "[CV] C=10, degree=6, gamma=1, kernel=sigmoid .........................\n",
      "[CV] .......... C=10, degree=6, gamma=1, kernel=sigmoid, total=   0.0s\n",
      "[CV] C=10, degree=6, gamma=1, kernel=sigmoid .........................\n",
      "[CV] .......... C=10, degree=6, gamma=1, kernel=sigmoid, total=   0.0s\n",
      "[CV] C=10, degree=6, gamma=1, kernel=sigmoid .........................\n",
      "[CV] .......... C=10, degree=6, gamma=1, kernel=sigmoid, total=   0.0s\n",
      "[CV] C=10, degree=6, gamma=1, kernel=sigmoid .........................\n",
      "[CV] .......... C=10, degree=6, gamma=1, kernel=sigmoid, total=   0.0s\n",
      "[CV] C=10, degree=6, gamma=1, kernel=sigmoid .........................\n",
      "[CV] .......... C=10, degree=6, gamma=1, kernel=sigmoid, total=   0.0s\n",
      "[CV] C=10, degree=6, gamma=0.1, kernel=linear ........................\n",
      "[CV] ......... C=10, degree=6, gamma=0.1, kernel=linear, total=   0.0s\n",
      "[CV] C=10, degree=6, gamma=0.1, kernel=linear ........................\n",
      "[CV] ......... C=10, degree=6, gamma=0.1, kernel=linear, total=   0.0s\n",
      "[CV] C=10, degree=6, gamma=0.1, kernel=linear ........................\n",
      "[CV] ......... C=10, degree=6, gamma=0.1, kernel=linear, total=   0.0s\n",
      "[CV] C=10, degree=6, gamma=0.1, kernel=linear ........................\n",
      "[CV] ......... C=10, degree=6, gamma=0.1, kernel=linear, total=   0.0s\n",
      "[CV] C=10, degree=6, gamma=0.1, kernel=linear ........................\n",
      "[CV] ......... C=10, degree=6, gamma=0.1, kernel=linear, total=   0.0s\n",
      "[CV] C=10, degree=6, gamma=0.1, kernel=rbf ...........................\n",
      "[CV] ............ C=10, degree=6, gamma=0.1, kernel=rbf, total=   0.0s\n",
      "[CV] C=10, degree=6, gamma=0.1, kernel=rbf ...........................\n",
      "[CV] ............ C=10, degree=6, gamma=0.1, kernel=rbf, total=   0.0s\n",
      "[CV] C=10, degree=6, gamma=0.1, kernel=rbf ...........................\n",
      "[CV] ............ C=10, degree=6, gamma=0.1, kernel=rbf, total=   0.0s\n",
      "[CV] C=10, degree=6, gamma=0.1, kernel=rbf ...........................\n"
     ]
    },
    {
     "name": "stderr",
     "output_type": "stream",
     "text": [
      "C:\\Users\\laure\\Anaconda3\\envs\\myenv\\lib\\site-packages\\sklearn\\utils\\validation.py:760: DataConversionWarning: A column-vector y was passed when a 1d array was expected. Please change the shape of y to (n_samples, ), for example using ravel().\n",
      "  y = column_or_1d(y, warn=True)\n",
      "C:\\Users\\laure\\Anaconda3\\envs\\myenv\\lib\\site-packages\\sklearn\\utils\\validation.py:760: DataConversionWarning: A column-vector y was passed when a 1d array was expected. Please change the shape of y to (n_samples, ), for example using ravel().\n",
      "  y = column_or_1d(y, warn=True)\n",
      "C:\\Users\\laure\\Anaconda3\\envs\\myenv\\lib\\site-packages\\sklearn\\utils\\validation.py:760: DataConversionWarning: A column-vector y was passed when a 1d array was expected. Please change the shape of y to (n_samples, ), for example using ravel().\n",
      "  y = column_or_1d(y, warn=True)\n",
      "C:\\Users\\laure\\Anaconda3\\envs\\myenv\\lib\\site-packages\\sklearn\\utils\\validation.py:760: DataConversionWarning: A column-vector y was passed when a 1d array was expected. Please change the shape of y to (n_samples, ), for example using ravel().\n",
      "  y = column_or_1d(y, warn=True)\n",
      "C:\\Users\\laure\\Anaconda3\\envs\\myenv\\lib\\site-packages\\sklearn\\utils\\validation.py:760: DataConversionWarning: A column-vector y was passed when a 1d array was expected. Please change the shape of y to (n_samples, ), for example using ravel().\n",
      "  y = column_or_1d(y, warn=True)\n",
      "C:\\Users\\laure\\Anaconda3\\envs\\myenv\\lib\\site-packages\\sklearn\\utils\\validation.py:760: DataConversionWarning: A column-vector y was passed when a 1d array was expected. Please change the shape of y to (n_samples, ), for example using ravel().\n",
      "  y = column_or_1d(y, warn=True)\n",
      "C:\\Users\\laure\\Anaconda3\\envs\\myenv\\lib\\site-packages\\sklearn\\utils\\validation.py:760: DataConversionWarning: A column-vector y was passed when a 1d array was expected. Please change the shape of y to (n_samples, ), for example using ravel().\n",
      "  y = column_or_1d(y, warn=True)\n",
      "C:\\Users\\laure\\Anaconda3\\envs\\myenv\\lib\\site-packages\\sklearn\\utils\\validation.py:760: DataConversionWarning: A column-vector y was passed when a 1d array was expected. Please change the shape of y to (n_samples, ), for example using ravel().\n",
      "  y = column_or_1d(y, warn=True)\n",
      "C:\\Users\\laure\\Anaconda3\\envs\\myenv\\lib\\site-packages\\sklearn\\utils\\validation.py:760: DataConversionWarning: A column-vector y was passed when a 1d array was expected. Please change the shape of y to (n_samples, ), for example using ravel().\n",
      "  y = column_or_1d(y, warn=True)\n",
      "C:\\Users\\laure\\Anaconda3\\envs\\myenv\\lib\\site-packages\\sklearn\\utils\\validation.py:760: DataConversionWarning: A column-vector y was passed when a 1d array was expected. Please change the shape of y to (n_samples, ), for example using ravel().\n",
      "  y = column_or_1d(y, warn=True)\n",
      "C:\\Users\\laure\\Anaconda3\\envs\\myenv\\lib\\site-packages\\sklearn\\utils\\validation.py:760: DataConversionWarning: A column-vector y was passed when a 1d array was expected. Please change the shape of y to (n_samples, ), for example using ravel().\n",
      "  y = column_or_1d(y, warn=True)\n",
      "C:\\Users\\laure\\Anaconda3\\envs\\myenv\\lib\\site-packages\\sklearn\\utils\\validation.py:760: DataConversionWarning: A column-vector y was passed when a 1d array was expected. Please change the shape of y to (n_samples, ), for example using ravel().\n",
      "  y = column_or_1d(y, warn=True)\n",
      "C:\\Users\\laure\\Anaconda3\\envs\\myenv\\lib\\site-packages\\sklearn\\utils\\validation.py:760: DataConversionWarning: A column-vector y was passed when a 1d array was expected. Please change the shape of y to (n_samples, ), for example using ravel().\n",
      "  y = column_or_1d(y, warn=True)\n",
      "C:\\Users\\laure\\Anaconda3\\envs\\myenv\\lib\\site-packages\\sklearn\\utils\\validation.py:760: DataConversionWarning: A column-vector y was passed when a 1d array was expected. Please change the shape of y to (n_samples, ), for example using ravel().\n",
      "  y = column_or_1d(y, warn=True)\n",
      "C:\\Users\\laure\\Anaconda3\\envs\\myenv\\lib\\site-packages\\sklearn\\utils\\validation.py:760: DataConversionWarning: A column-vector y was passed when a 1d array was expected. Please change the shape of y to (n_samples, ), for example using ravel().\n",
      "  y = column_or_1d(y, warn=True)\n"
     ]
    },
    {
     "name": "stdout",
     "output_type": "stream",
     "text": [
      "[CV] ............ C=10, degree=6, gamma=0.1, kernel=rbf, total=   0.0s\n",
      "[CV] C=10, degree=6, gamma=0.1, kernel=rbf ...........................\n",
      "[CV] ............ C=10, degree=6, gamma=0.1, kernel=rbf, total=   0.0s\n",
      "[CV] C=10, degree=6, gamma=0.1, kernel=poly ..........................\n",
      "[CV] ........... C=10, degree=6, gamma=0.1, kernel=poly, total=   0.2s\n",
      "[CV] C=10, degree=6, gamma=0.1, kernel=poly ..........................\n"
     ]
    },
    {
     "name": "stderr",
     "output_type": "stream",
     "text": [
      "C:\\Users\\laure\\Anaconda3\\envs\\myenv\\lib\\site-packages\\sklearn\\utils\\validation.py:760: DataConversionWarning: A column-vector y was passed when a 1d array was expected. Please change the shape of y to (n_samples, ), for example using ravel().\n",
      "  y = column_or_1d(y, warn=True)\n",
      "C:\\Users\\laure\\Anaconda3\\envs\\myenv\\lib\\site-packages\\sklearn\\utils\\validation.py:760: DataConversionWarning: A column-vector y was passed when a 1d array was expected. Please change the shape of y to (n_samples, ), for example using ravel().\n",
      "  y = column_or_1d(y, warn=True)\n",
      "C:\\Users\\laure\\Anaconda3\\envs\\myenv\\lib\\site-packages\\sklearn\\utils\\validation.py:760: DataConversionWarning: A column-vector y was passed when a 1d array was expected. Please change the shape of y to (n_samples, ), for example using ravel().\n",
      "  y = column_or_1d(y, warn=True)\n"
     ]
    },
    {
     "name": "stdout",
     "output_type": "stream",
     "text": [
      "[CV] ........... C=10, degree=6, gamma=0.1, kernel=poly, total=   0.2s\n",
      "[CV] C=10, degree=6, gamma=0.1, kernel=poly ..........................\n",
      "[CV] ........... C=10, degree=6, gamma=0.1, kernel=poly, total=   0.2s\n",
      "[CV] C=10, degree=6, gamma=0.1, kernel=poly ..........................\n"
     ]
    },
    {
     "name": "stderr",
     "output_type": "stream",
     "text": [
      "C:\\Users\\laure\\Anaconda3\\envs\\myenv\\lib\\site-packages\\sklearn\\utils\\validation.py:760: DataConversionWarning: A column-vector y was passed when a 1d array was expected. Please change the shape of y to (n_samples, ), for example using ravel().\n",
      "  y = column_or_1d(y, warn=True)\n",
      "C:\\Users\\laure\\Anaconda3\\envs\\myenv\\lib\\site-packages\\sklearn\\utils\\validation.py:760: DataConversionWarning: A column-vector y was passed when a 1d array was expected. Please change the shape of y to (n_samples, ), for example using ravel().\n",
      "  y = column_or_1d(y, warn=True)\n"
     ]
    },
    {
     "name": "stdout",
     "output_type": "stream",
     "text": [
      "[CV] ........... C=10, degree=6, gamma=0.1, kernel=poly, total=   0.1s\n",
      "[CV] C=10, degree=6, gamma=0.1, kernel=poly ..........................\n",
      "[CV] ........... C=10, degree=6, gamma=0.1, kernel=poly, total=   0.2s\n",
      "[CV] C=10, degree=6, gamma=0.1, kernel=sigmoid .......................\n"
     ]
    },
    {
     "name": "stderr",
     "output_type": "stream",
     "text": [
      "C:\\Users\\laure\\Anaconda3\\envs\\myenv\\lib\\site-packages\\sklearn\\utils\\validation.py:760: DataConversionWarning: A column-vector y was passed when a 1d array was expected. Please change the shape of y to (n_samples, ), for example using ravel().\n",
      "  y = column_or_1d(y, warn=True)\n",
      "C:\\Users\\laure\\Anaconda3\\envs\\myenv\\lib\\site-packages\\sklearn\\utils\\validation.py:760: DataConversionWarning: A column-vector y was passed when a 1d array was expected. Please change the shape of y to (n_samples, ), for example using ravel().\n",
      "  y = column_or_1d(y, warn=True)\n"
     ]
    },
    {
     "name": "stdout",
     "output_type": "stream",
     "text": [
      "[CV] ........ C=10, degree=6, gamma=0.1, kernel=sigmoid, total=   0.0s\n",
      "[CV] C=10, degree=6, gamma=0.1, kernel=sigmoid .......................\n",
      "[CV] ........ C=10, degree=6, gamma=0.1, kernel=sigmoid, total=   0.0s\n",
      "[CV] C=10, degree=6, gamma=0.1, kernel=sigmoid .......................\n",
      "[CV] ........ C=10, degree=6, gamma=0.1, kernel=sigmoid, total=   0.0s\n",
      "[CV] C=10, degree=6, gamma=0.1, kernel=sigmoid .......................\n",
      "[CV] ........ C=10, degree=6, gamma=0.1, kernel=sigmoid, total=   0.0s\n",
      "[CV] C=10, degree=6, gamma=0.1, kernel=sigmoid .......................\n",
      "[CV] ........ C=10, degree=6, gamma=0.1, kernel=sigmoid, total=   0.0s\n",
      "[CV] C=10, degree=6, gamma=0.01, kernel=linear .......................\n",
      "[CV] ........ C=10, degree=6, gamma=0.01, kernel=linear, total=   0.0s\n",
      "[CV] C=10, degree=6, gamma=0.01, kernel=linear .......................\n",
      "[CV] ........ C=10, degree=6, gamma=0.01, kernel=linear, total=   0.0s\n",
      "[CV] C=10, degree=6, gamma=0.01, kernel=linear .......................\n",
      "[CV] ........ C=10, degree=6, gamma=0.01, kernel=linear, total=   0.0s\n",
      "[CV] C=10, degree=6, gamma=0.01, kernel=linear .......................\n",
      "[CV] ........ C=10, degree=6, gamma=0.01, kernel=linear, total=   0.0s\n",
      "[CV] C=10, degree=6, gamma=0.01, kernel=linear .......................\n",
      "[CV] ........ C=10, degree=6, gamma=0.01, kernel=linear, total=   0.0s\n",
      "[CV] C=10, degree=6, gamma=0.01, kernel=rbf ..........................\n",
      "[CV] ........... C=10, degree=6, gamma=0.01, kernel=rbf, total=   0.0s\n",
      "[CV] C=10, degree=6, gamma=0.01, kernel=rbf ..........................\n",
      "[CV] ........... C=10, degree=6, gamma=0.01, kernel=rbf, total=   0.0s\n",
      "[CV] C=10, degree=6, gamma=0.01, kernel=rbf ..........................\n",
      "[CV] ........... C=10, degree=6, gamma=0.01, kernel=rbf, total=   0.0s"
     ]
    },
    {
     "name": "stderr",
     "output_type": "stream",
     "text": [
      "C:\\Users\\laure\\Anaconda3\\envs\\myenv\\lib\\site-packages\\sklearn\\utils\\validation.py:760: DataConversionWarning: A column-vector y was passed when a 1d array was expected. Please change the shape of y to (n_samples, ), for example using ravel().\n",
      "  y = column_or_1d(y, warn=True)\n",
      "C:\\Users\\laure\\Anaconda3\\envs\\myenv\\lib\\site-packages\\sklearn\\utils\\validation.py:760: DataConversionWarning: A column-vector y was passed when a 1d array was expected. Please change the shape of y to (n_samples, ), for example using ravel().\n",
      "  y = column_or_1d(y, warn=True)\n",
      "C:\\Users\\laure\\Anaconda3\\envs\\myenv\\lib\\site-packages\\sklearn\\utils\\validation.py:760: DataConversionWarning: A column-vector y was passed when a 1d array was expected. Please change the shape of y to (n_samples, ), for example using ravel().\n",
      "  y = column_or_1d(y, warn=True)\n",
      "C:\\Users\\laure\\Anaconda3\\envs\\myenv\\lib\\site-packages\\sklearn\\utils\\validation.py:760: DataConversionWarning: A column-vector y was passed when a 1d array was expected. Please change the shape of y to (n_samples, ), for example using ravel().\n",
      "  y = column_or_1d(y, warn=True)\n",
      "C:\\Users\\laure\\Anaconda3\\envs\\myenv\\lib\\site-packages\\sklearn\\utils\\validation.py:760: DataConversionWarning: A column-vector y was passed when a 1d array was expected. Please change the shape of y to (n_samples, ), for example using ravel().\n",
      "  y = column_or_1d(y, warn=True)\n",
      "C:\\Users\\laure\\Anaconda3\\envs\\myenv\\lib\\site-packages\\sklearn\\utils\\validation.py:760: DataConversionWarning: A column-vector y was passed when a 1d array was expected. Please change the shape of y to (n_samples, ), for example using ravel().\n",
      "  y = column_or_1d(y, warn=True)\n",
      "C:\\Users\\laure\\Anaconda3\\envs\\myenv\\lib\\site-packages\\sklearn\\utils\\validation.py:760: DataConversionWarning: A column-vector y was passed when a 1d array was expected. Please change the shape of y to (n_samples, ), for example using ravel().\n",
      "  y = column_or_1d(y, warn=True)\n",
      "C:\\Users\\laure\\Anaconda3\\envs\\myenv\\lib\\site-packages\\sklearn\\utils\\validation.py:760: DataConversionWarning: A column-vector y was passed when a 1d array was expected. Please change the shape of y to (n_samples, ), for example using ravel().\n",
      "  y = column_or_1d(y, warn=True)\n",
      "C:\\Users\\laure\\Anaconda3\\envs\\myenv\\lib\\site-packages\\sklearn\\utils\\validation.py:760: DataConversionWarning: A column-vector y was passed when a 1d array was expected. Please change the shape of y to (n_samples, ), for example using ravel().\n",
      "  y = column_or_1d(y, warn=True)\n",
      "C:\\Users\\laure\\Anaconda3\\envs\\myenv\\lib\\site-packages\\sklearn\\utils\\validation.py:760: DataConversionWarning: A column-vector y was passed when a 1d array was expected. Please change the shape of y to (n_samples, ), for example using ravel().\n",
      "  y = column_or_1d(y, warn=True)\n",
      "C:\\Users\\laure\\Anaconda3\\envs\\myenv\\lib\\site-packages\\sklearn\\utils\\validation.py:760: DataConversionWarning: A column-vector y was passed when a 1d array was expected. Please change the shape of y to (n_samples, ), for example using ravel().\n",
      "  y = column_or_1d(y, warn=True)\n",
      "C:\\Users\\laure\\Anaconda3\\envs\\myenv\\lib\\site-packages\\sklearn\\utils\\validation.py:760: DataConversionWarning: A column-vector y was passed when a 1d array was expected. Please change the shape of y to (n_samples, ), for example using ravel().\n",
      "  y = column_or_1d(y, warn=True)\n"
     ]
    },
    {
     "name": "stdout",
     "output_type": "stream",
     "text": [
      "\n",
      "[CV] C=10, degree=6, gamma=0.01, kernel=rbf ..........................\n",
      "[CV] ........... C=10, degree=6, gamma=0.01, kernel=rbf, total=   0.0s\n",
      "[CV] C=10, degree=6, gamma=0.01, kernel=rbf ..........................\n",
      "[CV] ........... C=10, degree=6, gamma=0.01, kernel=rbf, total=   0.0s\n",
      "[CV] C=10, degree=6, gamma=0.01, kernel=poly .........................\n"
     ]
    },
    {
     "name": "stderr",
     "output_type": "stream",
     "text": [
      "C:\\Users\\laure\\Anaconda3\\envs\\myenv\\lib\\site-packages\\sklearn\\utils\\validation.py:760: DataConversionWarning: A column-vector y was passed when a 1d array was expected. Please change the shape of y to (n_samples, ), for example using ravel().\n",
      "  y = column_or_1d(y, warn=True)\n",
      "C:\\Users\\laure\\Anaconda3\\envs\\myenv\\lib\\site-packages\\sklearn\\utils\\validation.py:760: DataConversionWarning: A column-vector y was passed when a 1d array was expected. Please change the shape of y to (n_samples, ), for example using ravel().\n",
      "  y = column_or_1d(y, warn=True)\n",
      "C:\\Users\\laure\\Anaconda3\\envs\\myenv\\lib\\site-packages\\sklearn\\utils\\validation.py:760: DataConversionWarning: A column-vector y was passed when a 1d array was expected. Please change the shape of y to (n_samples, ), for example using ravel().\n",
      "  y = column_or_1d(y, warn=True)\n"
     ]
    },
    {
     "name": "stdout",
     "output_type": "stream",
     "text": [
      "[CV] .......... C=10, degree=6, gamma=0.01, kernel=poly, total=   0.2s\n",
      "[CV] C=10, degree=6, gamma=0.01, kernel=poly .........................\n",
      "[CV] .......... C=10, degree=6, gamma=0.01, kernel=poly, total=   0.2s\n",
      "[CV] C=10, degree=6, gamma=0.01, kernel=poly .........................\n"
     ]
    },
    {
     "name": "stderr",
     "output_type": "stream",
     "text": [
      "C:\\Users\\laure\\Anaconda3\\envs\\myenv\\lib\\site-packages\\sklearn\\utils\\validation.py:760: DataConversionWarning: A column-vector y was passed when a 1d array was expected. Please change the shape of y to (n_samples, ), for example using ravel().\n",
      "  y = column_or_1d(y, warn=True)\n",
      "C:\\Users\\laure\\Anaconda3\\envs\\myenv\\lib\\site-packages\\sklearn\\utils\\validation.py:760: DataConversionWarning: A column-vector y was passed when a 1d array was expected. Please change the shape of y to (n_samples, ), for example using ravel().\n",
      "  y = column_or_1d(y, warn=True)\n"
     ]
    },
    {
     "name": "stdout",
     "output_type": "stream",
     "text": [
      "[CV] .......... C=10, degree=6, gamma=0.01, kernel=poly, total=   0.2s\n",
      "[CV] C=10, degree=6, gamma=0.01, kernel=poly .........................\n",
      "[CV] .......... C=10, degree=6, gamma=0.01, kernel=poly, total=   0.2s\n",
      "[CV] C=10, degree=6, gamma=0.01, kernel=poly .........................\n"
     ]
    },
    {
     "name": "stderr",
     "output_type": "stream",
     "text": [
      "C:\\Users\\laure\\Anaconda3\\envs\\myenv\\lib\\site-packages\\sklearn\\utils\\validation.py:760: DataConversionWarning: A column-vector y was passed when a 1d array was expected. Please change the shape of y to (n_samples, ), for example using ravel().\n",
      "  y = column_or_1d(y, warn=True)\n",
      "C:\\Users\\laure\\Anaconda3\\envs\\myenv\\lib\\site-packages\\sklearn\\utils\\validation.py:760: DataConversionWarning: A column-vector y was passed when a 1d array was expected. Please change the shape of y to (n_samples, ), for example using ravel().\n",
      "  y = column_or_1d(y, warn=True)\n"
     ]
    },
    {
     "name": "stdout",
     "output_type": "stream",
     "text": [
      "[CV] .......... C=10, degree=6, gamma=0.01, kernel=poly, total=   0.2s\n",
      "[CV] C=10, degree=6, gamma=0.01, kernel=sigmoid ......................\n",
      "[CV] ....... C=10, degree=6, gamma=0.01, kernel=sigmoid, total=   0.0s\n",
      "[CV] C=10, degree=6, gamma=0.01, kernel=sigmoid ......................\n",
      "[CV] ....... C=10, degree=6, gamma=0.01, kernel=sigmoid, total=   0.0s\n",
      "[CV] C=10, degree=6, gamma=0.01, kernel=sigmoid ......................\n",
      "[CV] ....... C=10, degree=6, gamma=0.01, kernel=sigmoid, total=   0.0s\n",
      "[CV] C=10, degree=6, gamma=0.01, kernel=sigmoid ......................\n",
      "[CV] ....... C=10, degree=6, gamma=0.01, kernel=sigmoid, total=   0.0s\n",
      "[CV] C=10, degree=6, gamma=0.01, kernel=sigmoid ......................\n",
      "[CV] ....... C=10, degree=6, gamma=0.01, kernel=sigmoid, total=   0.0s\n",
      "[CV] C=10, degree=6, gamma=0.001, kernel=linear ......................\n",
      "[CV] ....... C=10, degree=6, gamma=0.001, kernel=linear, total=   0.0s\n",
      "[CV] C=10, degree=6, gamma=0.001, kernel=linear ......................\n",
      "[CV] ....... C=10, degree=6, gamma=0.001, kernel=linear, total=   0.0s\n",
      "[CV] C=10, degree=6, gamma=0.001, kernel=linear ......................\n",
      "[CV] ....... C=10, degree=6, gamma=0.001, kernel=linear, total=   0.0s\n",
      "[CV] C=10, degree=6, gamma=0.001, kernel=linear ......................\n"
     ]
    },
    {
     "name": "stderr",
     "output_type": "stream",
     "text": [
      "C:\\Users\\laure\\Anaconda3\\envs\\myenv\\lib\\site-packages\\sklearn\\utils\\validation.py:760: DataConversionWarning: A column-vector y was passed when a 1d array was expected. Please change the shape of y to (n_samples, ), for example using ravel().\n",
      "  y = column_or_1d(y, warn=True)\n",
      "C:\\Users\\laure\\Anaconda3\\envs\\myenv\\lib\\site-packages\\sklearn\\utils\\validation.py:760: DataConversionWarning: A column-vector y was passed when a 1d array was expected. Please change the shape of y to (n_samples, ), for example using ravel().\n",
      "  y = column_or_1d(y, warn=True)\n",
      "C:\\Users\\laure\\Anaconda3\\envs\\myenv\\lib\\site-packages\\sklearn\\utils\\validation.py:760: DataConversionWarning: A column-vector y was passed when a 1d array was expected. Please change the shape of y to (n_samples, ), for example using ravel().\n",
      "  y = column_or_1d(y, warn=True)\n",
      "C:\\Users\\laure\\Anaconda3\\envs\\myenv\\lib\\site-packages\\sklearn\\utils\\validation.py:760: DataConversionWarning: A column-vector y was passed when a 1d array was expected. Please change the shape of y to (n_samples, ), for example using ravel().\n",
      "  y = column_or_1d(y, warn=True)\n",
      "C:\\Users\\laure\\Anaconda3\\envs\\myenv\\lib\\site-packages\\sklearn\\utils\\validation.py:760: DataConversionWarning: A column-vector y was passed when a 1d array was expected. Please change the shape of y to (n_samples, ), for example using ravel().\n",
      "  y = column_or_1d(y, warn=True)\n",
      "C:\\Users\\laure\\Anaconda3\\envs\\myenv\\lib\\site-packages\\sklearn\\utils\\validation.py:760: DataConversionWarning: A column-vector y was passed when a 1d array was expected. Please change the shape of y to (n_samples, ), for example using ravel().\n",
      "  y = column_or_1d(y, warn=True)\n",
      "C:\\Users\\laure\\Anaconda3\\envs\\myenv\\lib\\site-packages\\sklearn\\utils\\validation.py:760: DataConversionWarning: A column-vector y was passed when a 1d array was expected. Please change the shape of y to (n_samples, ), for example using ravel().\n",
      "  y = column_or_1d(y, warn=True)\n",
      "C:\\Users\\laure\\Anaconda3\\envs\\myenv\\lib\\site-packages\\sklearn\\utils\\validation.py:760: DataConversionWarning: A column-vector y was passed when a 1d array was expected. Please change the shape of y to (n_samples, ), for example using ravel().\n",
      "  y = column_or_1d(y, warn=True)\n",
      "C:\\Users\\laure\\Anaconda3\\envs\\myenv\\lib\\site-packages\\sklearn\\utils\\validation.py:760: DataConversionWarning: A column-vector y was passed when a 1d array was expected. Please change the shape of y to (n_samples, ), for example using ravel().\n",
      "  y = column_or_1d(y, warn=True)\n"
     ]
    },
    {
     "name": "stdout",
     "output_type": "stream",
     "text": [
      "[CV] ....... C=10, degree=6, gamma=0.001, kernel=linear, total=   0.0s\n",
      "[CV] C=10, degree=6, gamma=0.001, kernel=linear ......................\n",
      "[CV] ....... C=10, degree=6, gamma=0.001, kernel=linear, total=   0.0s\n",
      "[CV] C=10, degree=6, gamma=0.001, kernel=rbf .........................\n",
      "[CV] .......... C=10, degree=6, gamma=0.001, kernel=rbf, total=   0.1s\n",
      "[CV] C=10, degree=6, gamma=0.001, kernel=rbf .........................\n",
      "[CV] .......... C=10, degree=6, gamma=0.001, kernel=rbf, total=   0.1s\n",
      "[CV] C=10, degree=6, gamma=0.001, kernel=rbf .........................\n"
     ]
    },
    {
     "name": "stderr",
     "output_type": "stream",
     "text": [
      "C:\\Users\\laure\\Anaconda3\\envs\\myenv\\lib\\site-packages\\sklearn\\utils\\validation.py:760: DataConversionWarning: A column-vector y was passed when a 1d array was expected. Please change the shape of y to (n_samples, ), for example using ravel().\n",
      "  y = column_or_1d(y, warn=True)\n",
      "C:\\Users\\laure\\Anaconda3\\envs\\myenv\\lib\\site-packages\\sklearn\\utils\\validation.py:760: DataConversionWarning: A column-vector y was passed when a 1d array was expected. Please change the shape of y to (n_samples, ), for example using ravel().\n",
      "  y = column_or_1d(y, warn=True)\n",
      "C:\\Users\\laure\\Anaconda3\\envs\\myenv\\lib\\site-packages\\sklearn\\utils\\validation.py:760: DataConversionWarning: A column-vector y was passed when a 1d array was expected. Please change the shape of y to (n_samples, ), for example using ravel().\n",
      "  y = column_or_1d(y, warn=True)\n",
      "C:\\Users\\laure\\Anaconda3\\envs\\myenv\\lib\\site-packages\\sklearn\\utils\\validation.py:760: DataConversionWarning: A column-vector y was passed when a 1d array was expected. Please change the shape of y to (n_samples, ), for example using ravel().\n",
      "  y = column_or_1d(y, warn=True)\n"
     ]
    },
    {
     "name": "stdout",
     "output_type": "stream",
     "text": [
      "[CV] .......... C=10, degree=6, gamma=0.001, kernel=rbf, total=   0.1s\n",
      "[CV] C=10, degree=6, gamma=0.001, kernel=rbf .........................\n",
      "[CV] .......... C=10, degree=6, gamma=0.001, kernel=rbf, total=   0.1s\n",
      "[CV] C=10, degree=6, gamma=0.001, kernel=rbf .........................\n",
      "[CV] .......... C=10, degree=6, gamma=0.001, kernel=rbf, total=   0.1s\n",
      "[CV] C=10, degree=6, gamma=0.001, kernel=poly ........................\n"
     ]
    },
    {
     "name": "stderr",
     "output_type": "stream",
     "text": [
      "C:\\Users\\laure\\Anaconda3\\envs\\myenv\\lib\\site-packages\\sklearn\\utils\\validation.py:760: DataConversionWarning: A column-vector y was passed when a 1d array was expected. Please change the shape of y to (n_samples, ), for example using ravel().\n",
      "  y = column_or_1d(y, warn=True)\n",
      "C:\\Users\\laure\\Anaconda3\\envs\\myenv\\lib\\site-packages\\sklearn\\utils\\validation.py:760: DataConversionWarning: A column-vector y was passed when a 1d array was expected. Please change the shape of y to (n_samples, ), for example using ravel().\n",
      "  y = column_or_1d(y, warn=True)\n",
      "C:\\Users\\laure\\Anaconda3\\envs\\myenv\\lib\\site-packages\\sklearn\\utils\\validation.py:760: DataConversionWarning: A column-vector y was passed when a 1d array was expected. Please change the shape of y to (n_samples, ), for example using ravel().\n",
      "  y = column_or_1d(y, warn=True)\n"
     ]
    },
    {
     "name": "stdout",
     "output_type": "stream",
     "text": [
      "[CV] ......... C=10, degree=6, gamma=0.001, kernel=poly, total=   0.1s\n",
      "[CV] C=10, degree=6, gamma=0.001, kernel=poly ........................\n",
      "[CV] ......... C=10, degree=6, gamma=0.001, kernel=poly, total=   0.2s\n",
      "[CV] C=10, degree=6, gamma=0.001, kernel=poly ........................\n"
     ]
    },
    {
     "name": "stderr",
     "output_type": "stream",
     "text": [
      "C:\\Users\\laure\\Anaconda3\\envs\\myenv\\lib\\site-packages\\sklearn\\utils\\validation.py:760: DataConversionWarning: A column-vector y was passed when a 1d array was expected. Please change the shape of y to (n_samples, ), for example using ravel().\n",
      "  y = column_or_1d(y, warn=True)\n",
      "C:\\Users\\laure\\Anaconda3\\envs\\myenv\\lib\\site-packages\\sklearn\\utils\\validation.py:760: DataConversionWarning: A column-vector y was passed when a 1d array was expected. Please change the shape of y to (n_samples, ), for example using ravel().\n",
      "  y = column_or_1d(y, warn=True)\n",
      "C:\\Users\\laure\\Anaconda3\\envs\\myenv\\lib\\site-packages\\sklearn\\utils\\validation.py:760: DataConversionWarning: A column-vector y was passed when a 1d array was expected. Please change the shape of y to (n_samples, ), for example using ravel().\n",
      "  y = column_or_1d(y, warn=True)\n"
     ]
    },
    {
     "name": "stdout",
     "output_type": "stream",
     "text": [
      "[CV] ......... C=10, degree=6, gamma=0.001, kernel=poly, total=   0.2s\n",
      "[CV] C=10, degree=6, gamma=0.001, kernel=poly ........................\n",
      "[CV] ......... C=10, degree=6, gamma=0.001, kernel=poly, total=   0.1s\n",
      "[CV] C=10, degree=6, gamma=0.001, kernel=poly ........................\n"
     ]
    },
    {
     "name": "stderr",
     "output_type": "stream",
     "text": [
      "C:\\Users\\laure\\Anaconda3\\envs\\myenv\\lib\\site-packages\\sklearn\\utils\\validation.py:760: DataConversionWarning: A column-vector y was passed when a 1d array was expected. Please change the shape of y to (n_samples, ), for example using ravel().\n",
      "  y = column_or_1d(y, warn=True)\n",
      "C:\\Users\\laure\\Anaconda3\\envs\\myenv\\lib\\site-packages\\sklearn\\utils\\validation.py:760: DataConversionWarning: A column-vector y was passed when a 1d array was expected. Please change the shape of y to (n_samples, ), for example using ravel().\n",
      "  y = column_or_1d(y, warn=True)\n"
     ]
    },
    {
     "name": "stdout",
     "output_type": "stream",
     "text": [
      "[CV] ......... C=10, degree=6, gamma=0.001, kernel=poly, total=   0.2s\n",
      "[CV] C=10, degree=6, gamma=0.001, kernel=sigmoid .....................\n",
      "[CV] ...... C=10, degree=6, gamma=0.001, kernel=sigmoid, total=   0.1s\n",
      "[CV] C=10, degree=6, gamma=0.001, kernel=sigmoid .....................\n",
      "[CV] ...... C=10, degree=6, gamma=0.001, kernel=sigmoid, total=   0.1s\n",
      "[CV] C=10, degree=6, gamma=0.001, kernel=sigmoid .....................\n"
     ]
    },
    {
     "name": "stderr",
     "output_type": "stream",
     "text": [
      "C:\\Users\\laure\\Anaconda3\\envs\\myenv\\lib\\site-packages\\sklearn\\utils\\validation.py:760: DataConversionWarning: A column-vector y was passed when a 1d array was expected. Please change the shape of y to (n_samples, ), for example using ravel().\n",
      "  y = column_or_1d(y, warn=True)\n",
      "C:\\Users\\laure\\Anaconda3\\envs\\myenv\\lib\\site-packages\\sklearn\\utils\\validation.py:760: DataConversionWarning: A column-vector y was passed when a 1d array was expected. Please change the shape of y to (n_samples, ), for example using ravel().\n",
      "  y = column_or_1d(y, warn=True)\n"
     ]
    },
    {
     "name": "stdout",
     "output_type": "stream",
     "text": [
      "[CV] ...... C=10, degree=6, gamma=0.001, kernel=sigmoid, total=   0.1s\n",
      "[CV] C=10, degree=6, gamma=0.001, kernel=sigmoid .....................\n",
      "[CV] ...... C=10, degree=6, gamma=0.001, kernel=sigmoid, total=   0.1s\n",
      "[CV] C=10, degree=6, gamma=0.001, kernel=sigmoid .....................\n"
     ]
    },
    {
     "name": "stderr",
     "output_type": "stream",
     "text": [
      "C:\\Users\\laure\\Anaconda3\\envs\\myenv\\lib\\site-packages\\sklearn\\utils\\validation.py:760: DataConversionWarning: A column-vector y was passed when a 1d array was expected. Please change the shape of y to (n_samples, ), for example using ravel().\n",
      "  y = column_or_1d(y, warn=True)\n",
      "C:\\Users\\laure\\Anaconda3\\envs\\myenv\\lib\\site-packages\\sklearn\\utils\\validation.py:760: DataConversionWarning: A column-vector y was passed when a 1d array was expected. Please change the shape of y to (n_samples, ), for example using ravel().\n",
      "  y = column_or_1d(y, warn=True)\n"
     ]
    },
    {
     "name": "stdout",
     "output_type": "stream",
     "text": [
      "[CV] ...... C=10, degree=6, gamma=0.001, kernel=sigmoid, total=   0.1s\n",
      "[CV] C=100, degree=2, gamma=1, kernel=linear .........................\n",
      "[CV] .......... C=100, degree=2, gamma=1, kernel=linear, total=   0.0s\n",
      "[CV] C=100, degree=2, gamma=1, kernel=linear .........................\n",
      "[CV] .......... C=100, degree=2, gamma=1, kernel=linear, total=   0.0s\n",
      "[CV] C=100, degree=2, gamma=1, kernel=linear .........................\n",
      "[CV] .......... C=100, degree=2, gamma=1, kernel=linear, total=   0.0s\n",
      "[CV] C=100, degree=2, gamma=1, kernel=linear .........................\n",
      "[CV] .......... C=100, degree=2, gamma=1, kernel=linear, total=   0.0s\n",
      "[CV] C=100, degree=2, gamma=1, kernel=linear .........................\n",
      "[CV] .......... C=100, degree=2, gamma=1, kernel=linear, total=   0.0s\n",
      "[CV] C=100, degree=2, gamma=1, kernel=rbf ............................\n",
      "[CV] ............. C=100, degree=2, gamma=1, kernel=rbf, total=   0.0s\n",
      "[CV] C=100, degree=2, gamma=1, kernel=rbf ............................\n",
      "[CV] ............. C=100, degree=2, gamma=1, kernel=rbf, total=   0.0s\n",
      "[CV] C=100, degree=2, gamma=1, kernel=rbf ............................\n",
      "[CV] ............. C=100, degree=2, gamma=1, kernel=rbf, total=   0.0s\n",
      "[CV] C=100, degree=2, gamma=1, kernel=rbf ............................\n",
      "[CV] ............. C=100, degree=2, gamma=1, kernel=rbf, total=   0.0s\n",
      "[CV] C=100, degree=2, gamma=1, kernel=rbf ............................\n",
      "[CV] ............. C=100, degree=2, gamma=1, kernel=rbf, total=   0.0s\n",
      "[CV] C=100, degree=2, gamma=1, kernel=poly ...........................\n",
      "[CV] ............ C=100, degree=2, gamma=1, kernel=poly, total=   0.0s\n",
      "[CV] C=100, degree=2, gamma=1, kernel=poly ...........................\n",
      "[CV] ............ C=100, degree=2, gamma=1, kernel=poly, total=   0.0s\n",
      "[CV] C=100, degree=2, gamma=1, kernel=poly ...........................\n",
      "[CV] ............ C=100, degree=2, gamma=1, kernel=poly, total=   0.0s\n",
      "[CV] C=100, degree=2, gamma=1, kernel=poly ...........................\n",
      "[CV] ............ C=100, degree=2, gamma=1, kernel=poly, total=   0.0s\n",
      "[CV] C=100, degree=2, gamma=1, kernel=poly ...........................\n",
      "[CV] ............ C=100, degree=2, gamma=1, kernel=poly, total=   0.0s\n",
      "[CV] C=100, degree=2, gamma=1, kernel=sigmoid ........................\n"
     ]
    },
    {
     "name": "stderr",
     "output_type": "stream",
     "text": [
      "C:\\Users\\laure\\Anaconda3\\envs\\myenv\\lib\\site-packages\\sklearn\\utils\\validation.py:760: DataConversionWarning: A column-vector y was passed when a 1d array was expected. Please change the shape of y to (n_samples, ), for example using ravel().\n",
      "  y = column_or_1d(y, warn=True)\n",
      "C:\\Users\\laure\\Anaconda3\\envs\\myenv\\lib\\site-packages\\sklearn\\utils\\validation.py:760: DataConversionWarning: A column-vector y was passed when a 1d array was expected. Please change the shape of y to (n_samples, ), for example using ravel().\n",
      "  y = column_or_1d(y, warn=True)\n",
      "C:\\Users\\laure\\Anaconda3\\envs\\myenv\\lib\\site-packages\\sklearn\\utils\\validation.py:760: DataConversionWarning: A column-vector y was passed when a 1d array was expected. Please change the shape of y to (n_samples, ), for example using ravel().\n",
      "  y = column_or_1d(y, warn=True)\n",
      "C:\\Users\\laure\\Anaconda3\\envs\\myenv\\lib\\site-packages\\sklearn\\utils\\validation.py:760: DataConversionWarning: A column-vector y was passed when a 1d array was expected. Please change the shape of y to (n_samples, ), for example using ravel().\n",
      "  y = column_or_1d(y, warn=True)\n",
      "C:\\Users\\laure\\Anaconda3\\envs\\myenv\\lib\\site-packages\\sklearn\\utils\\validation.py:760: DataConversionWarning: A column-vector y was passed when a 1d array was expected. Please change the shape of y to (n_samples, ), for example using ravel().\n",
      "  y = column_or_1d(y, warn=True)\n",
      "C:\\Users\\laure\\Anaconda3\\envs\\myenv\\lib\\site-packages\\sklearn\\utils\\validation.py:760: DataConversionWarning: A column-vector y was passed when a 1d array was expected. Please change the shape of y to (n_samples, ), for example using ravel().\n",
      "  y = column_or_1d(y, warn=True)\n",
      "C:\\Users\\laure\\Anaconda3\\envs\\myenv\\lib\\site-packages\\sklearn\\utils\\validation.py:760: DataConversionWarning: A column-vector y was passed when a 1d array was expected. Please change the shape of y to (n_samples, ), for example using ravel().\n",
      "  y = column_or_1d(y, warn=True)\n",
      "C:\\Users\\laure\\Anaconda3\\envs\\myenv\\lib\\site-packages\\sklearn\\utils\\validation.py:760: DataConversionWarning: A column-vector y was passed when a 1d array was expected. Please change the shape of y to (n_samples, ), for example using ravel().\n",
      "  y = column_or_1d(y, warn=True)\n",
      "C:\\Users\\laure\\Anaconda3\\envs\\myenv\\lib\\site-packages\\sklearn\\utils\\validation.py:760: DataConversionWarning: A column-vector y was passed when a 1d array was expected. Please change the shape of y to (n_samples, ), for example using ravel().\n",
      "  y = column_or_1d(y, warn=True)\n",
      "C:\\Users\\laure\\Anaconda3\\envs\\myenv\\lib\\site-packages\\sklearn\\utils\\validation.py:760: DataConversionWarning: A column-vector y was passed when a 1d array was expected. Please change the shape of y to (n_samples, ), for example using ravel().\n",
      "  y = column_or_1d(y, warn=True)\n",
      "C:\\Users\\laure\\Anaconda3\\envs\\myenv\\lib\\site-packages\\sklearn\\utils\\validation.py:760: DataConversionWarning: A column-vector y was passed when a 1d array was expected. Please change the shape of y to (n_samples, ), for example using ravel().\n",
      "  y = column_or_1d(y, warn=True)\n",
      "C:\\Users\\laure\\Anaconda3\\envs\\myenv\\lib\\site-packages\\sklearn\\utils\\validation.py:760: DataConversionWarning: A column-vector y was passed when a 1d array was expected. Please change the shape of y to (n_samples, ), for example using ravel().\n",
      "  y = column_or_1d(y, warn=True)\n",
      "C:\\Users\\laure\\Anaconda3\\envs\\myenv\\lib\\site-packages\\sklearn\\utils\\validation.py:760: DataConversionWarning: A column-vector y was passed when a 1d array was expected. Please change the shape of y to (n_samples, ), for example using ravel().\n",
      "  y = column_or_1d(y, warn=True)\n",
      "C:\\Users\\laure\\Anaconda3\\envs\\myenv\\lib\\site-packages\\sklearn\\utils\\validation.py:760: DataConversionWarning: A column-vector y was passed when a 1d array was expected. Please change the shape of y to (n_samples, ), for example using ravel().\n",
      "  y = column_or_1d(y, warn=True)\n",
      "C:\\Users\\laure\\Anaconda3\\envs\\myenv\\lib\\site-packages\\sklearn\\utils\\validation.py:760: DataConversionWarning: A column-vector y was passed when a 1d array was expected. Please change the shape of y to (n_samples, ), for example using ravel().\n",
      "  y = column_or_1d(y, warn=True)\n",
      "C:\\Users\\laure\\Anaconda3\\envs\\myenv\\lib\\site-packages\\sklearn\\utils\\validation.py:760: DataConversionWarning: A column-vector y was passed when a 1d array was expected. Please change the shape of y to (n_samples, ), for example using ravel().\n",
      "  y = column_or_1d(y, warn=True)\n",
      "C:\\Users\\laure\\Anaconda3\\envs\\myenv\\lib\\site-packages\\sklearn\\utils\\validation.py:760: DataConversionWarning: A column-vector y was passed when a 1d array was expected. Please change the shape of y to (n_samples, ), for example using ravel().\n",
      "  y = column_or_1d(y, warn=True)\n",
      "C:\\Users\\laure\\Anaconda3\\envs\\myenv\\lib\\site-packages\\sklearn\\utils\\validation.py:760: DataConversionWarning: A column-vector y was passed when a 1d array was expected. Please change the shape of y to (n_samples, ), for example using ravel().\n",
      "  y = column_or_1d(y, warn=True)\n",
      "C:\\Users\\laure\\Anaconda3\\envs\\myenv\\lib\\site-packages\\sklearn\\utils\\validation.py:760: DataConversionWarning: A column-vector y was passed when a 1d array was expected. Please change the shape of y to (n_samples, ), for example using ravel().\n",
      "  y = column_or_1d(y, warn=True)\n",
      "C:\\Users\\laure\\Anaconda3\\envs\\myenv\\lib\\site-packages\\sklearn\\utils\\validation.py:760: DataConversionWarning: A column-vector y was passed when a 1d array was expected. Please change the shape of y to (n_samples, ), for example using ravel().\n",
      "  y = column_or_1d(y, warn=True)\n",
      "C:\\Users\\laure\\Anaconda3\\envs\\myenv\\lib\\site-packages\\sklearn\\utils\\validation.py:760: DataConversionWarning: A column-vector y was passed when a 1d array was expected. Please change the shape of y to (n_samples, ), for example using ravel().\n",
      "  y = column_or_1d(y, warn=True)\n",
      "C:\\Users\\laure\\Anaconda3\\envs\\myenv\\lib\\site-packages\\sklearn\\utils\\validation.py:760: DataConversionWarning: A column-vector y was passed when a 1d array was expected. Please change the shape of y to (n_samples, ), for example using ravel().\n",
      "  y = column_or_1d(y, warn=True)\n",
      "C:\\Users\\laure\\Anaconda3\\envs\\myenv\\lib\\site-packages\\sklearn\\utils\\validation.py:760: DataConversionWarning: A column-vector y was passed when a 1d array was expected. Please change the shape of y to (n_samples, ), for example using ravel().\n",
      "  y = column_or_1d(y, warn=True)\n",
      "C:\\Users\\laure\\Anaconda3\\envs\\myenv\\lib\\site-packages\\sklearn\\utils\\validation.py:760: DataConversionWarning: A column-vector y was passed when a 1d array was expected. Please change the shape of y to (n_samples, ), for example using ravel().\n",
      "  y = column_or_1d(y, warn=True)\n",
      "C:\\Users\\laure\\Anaconda3\\envs\\myenv\\lib\\site-packages\\sklearn\\utils\\validation.py:760: DataConversionWarning: A column-vector y was passed when a 1d array was expected. Please change the shape of y to (n_samples, ), for example using ravel().\n",
      "  y = column_or_1d(y, warn=True)\n",
      "C:\\Users\\laure\\Anaconda3\\envs\\myenv\\lib\\site-packages\\sklearn\\utils\\validation.py:760: DataConversionWarning: A column-vector y was passed when a 1d array was expected. Please change the shape of y to (n_samples, ), for example using ravel().\n",
      "  y = column_or_1d(y, warn=True)\n",
      "C:\\Users\\laure\\Anaconda3\\envs\\myenv\\lib\\site-packages\\sklearn\\utils\\validation.py:760: DataConversionWarning: A column-vector y was passed when a 1d array was expected. Please change the shape of y to (n_samples, ), for example using ravel().\n",
      "  y = column_or_1d(y, warn=True)\n",
      "C:\\Users\\laure\\Anaconda3\\envs\\myenv\\lib\\site-packages\\sklearn\\utils\\validation.py:760: DataConversionWarning: A column-vector y was passed when a 1d array was expected. Please change the shape of y to (n_samples, ), for example using ravel().\n",
      "  y = column_or_1d(y, warn=True)\n",
      "C:\\Users\\laure\\Anaconda3\\envs\\myenv\\lib\\site-packages\\sklearn\\utils\\validation.py:760: DataConversionWarning: A column-vector y was passed when a 1d array was expected. Please change the shape of y to (n_samples, ), for example using ravel().\n",
      "  y = column_or_1d(y, warn=True)\n"
     ]
    },
    {
     "name": "stdout",
     "output_type": "stream",
     "text": [
      "[CV] ......... C=100, degree=2, gamma=1, kernel=sigmoid, total=   0.0s\n",
      "[CV] C=100, degree=2, gamma=1, kernel=sigmoid ........................\n",
      "[CV] ......... C=100, degree=2, gamma=1, kernel=sigmoid, total=   0.0s\n",
      "[CV] C=100, degree=2, gamma=1, kernel=sigmoid ........................\n",
      "[CV] ......... C=100, degree=2, gamma=1, kernel=sigmoid, total=   0.0s\n",
      "[CV] C=100, degree=2, gamma=1, kernel=sigmoid ........................\n",
      "[CV] ......... C=100, degree=2, gamma=1, kernel=sigmoid, total=   0.0s\n",
      "[CV] C=100, degree=2, gamma=1, kernel=sigmoid ........................\n",
      "[CV] ......... C=100, degree=2, gamma=1, kernel=sigmoid, total=   0.0s\n",
      "[CV] C=100, degree=2, gamma=0.1, kernel=linear .......................\n",
      "[CV] ........ C=100, degree=2, gamma=0.1, kernel=linear, total=   0.0s\n",
      "[CV] C=100, degree=2, gamma=0.1, kernel=linear .......................\n",
      "[CV] ........ C=100, degree=2, gamma=0.1, kernel=linear, total=   0.0s\n",
      "[CV] C=100, degree=2, gamma=0.1, kernel=linear .......................\n",
      "[CV] ........ C=100, degree=2, gamma=0.1, kernel=linear, total=   0.0s\n",
      "[CV] C=100, degree=2, gamma=0.1, kernel=linear .......................\n",
      "[CV] ........ C=100, degree=2, gamma=0.1, kernel=linear, total=   0.0s\n",
      "[CV] C=100, degree=2, gamma=0.1, kernel=linear .......................\n",
      "[CV] ........ C=100, degree=2, gamma=0.1, kernel=linear, total=   0.0s\n",
      "[CV] C=100, degree=2, gamma=0.1, kernel=rbf ..........................\n",
      "[CV] ........... C=100, degree=2, gamma=0.1, kernel=rbf, total=   0.0s\n",
      "[CV] C=100, degree=2, gamma=0.1, kernel=rbf ..........................\n",
      "[CV] ........... C=100, degree=2, gamma=0.1, kernel=rbf, total=   0.0s\n",
      "[CV] C=100, degree=2, gamma=0.1, kernel=rbf ..........................\n",
      "[CV] ........... C=100, degree=2, gamma=0.1, kernel=rbf, total=   0.0s\n",
      "[CV] C=100, degree=2, gamma=0.1, kernel=rbf ..........................\n",
      "[CV] ........... C=100, degree=2, gamma=0.1, kernel=rbf, total=   0.0s\n",
      "[CV] C=100, degree=2, gamma=0.1, kernel=rbf ..........................\n"
     ]
    },
    {
     "name": "stderr",
     "output_type": "stream",
     "text": [
      "C:\\Users\\laure\\Anaconda3\\envs\\myenv\\lib\\site-packages\\sklearn\\utils\\validation.py:760: DataConversionWarning: A column-vector y was passed when a 1d array was expected. Please change the shape of y to (n_samples, ), for example using ravel().\n",
      "  y = column_or_1d(y, warn=True)\n",
      "C:\\Users\\laure\\Anaconda3\\envs\\myenv\\lib\\site-packages\\sklearn\\utils\\validation.py:760: DataConversionWarning: A column-vector y was passed when a 1d array was expected. Please change the shape of y to (n_samples, ), for example using ravel().\n",
      "  y = column_or_1d(y, warn=True)\n",
      "C:\\Users\\laure\\Anaconda3\\envs\\myenv\\lib\\site-packages\\sklearn\\utils\\validation.py:760: DataConversionWarning: A column-vector y was passed when a 1d array was expected. Please change the shape of y to (n_samples, ), for example using ravel().\n",
      "  y = column_or_1d(y, warn=True)\n",
      "C:\\Users\\laure\\Anaconda3\\envs\\myenv\\lib\\site-packages\\sklearn\\utils\\validation.py:760: DataConversionWarning: A column-vector y was passed when a 1d array was expected. Please change the shape of y to (n_samples, ), for example using ravel().\n",
      "  y = column_or_1d(y, warn=True)\n",
      "C:\\Users\\laure\\Anaconda3\\envs\\myenv\\lib\\site-packages\\sklearn\\utils\\validation.py:760: DataConversionWarning: A column-vector y was passed when a 1d array was expected. Please change the shape of y to (n_samples, ), for example using ravel().\n",
      "  y = column_or_1d(y, warn=True)\n",
      "C:\\Users\\laure\\Anaconda3\\envs\\myenv\\lib\\site-packages\\sklearn\\utils\\validation.py:760: DataConversionWarning: A column-vector y was passed when a 1d array was expected. Please change the shape of y to (n_samples, ), for example using ravel().\n",
      "  y = column_or_1d(y, warn=True)\n",
      "C:\\Users\\laure\\Anaconda3\\envs\\myenv\\lib\\site-packages\\sklearn\\utils\\validation.py:760: DataConversionWarning: A column-vector y was passed when a 1d array was expected. Please change the shape of y to (n_samples, ), for example using ravel().\n",
      "  y = column_or_1d(y, warn=True)\n",
      "C:\\Users\\laure\\Anaconda3\\envs\\myenv\\lib\\site-packages\\sklearn\\utils\\validation.py:760: DataConversionWarning: A column-vector y was passed when a 1d array was expected. Please change the shape of y to (n_samples, ), for example using ravel().\n",
      "  y = column_or_1d(y, warn=True)\n",
      "C:\\Users\\laure\\Anaconda3\\envs\\myenv\\lib\\site-packages\\sklearn\\utils\\validation.py:760: DataConversionWarning: A column-vector y was passed when a 1d array was expected. Please change the shape of y to (n_samples, ), for example using ravel().\n",
      "  y = column_or_1d(y, warn=True)\n",
      "C:\\Users\\laure\\Anaconda3\\envs\\myenv\\lib\\site-packages\\sklearn\\utils\\validation.py:760: DataConversionWarning: A column-vector y was passed when a 1d array was expected. Please change the shape of y to (n_samples, ), for example using ravel().\n",
      "  y = column_or_1d(y, warn=True)\n"
     ]
    },
    {
     "name": "stdout",
     "output_type": "stream",
     "text": [
      "[CV] ........... C=100, degree=2, gamma=0.1, kernel=rbf, total=   0.0s\n",
      "[CV] C=100, degree=2, gamma=0.1, kernel=poly .........................\n",
      "[CV] .......... C=100, degree=2, gamma=0.1, kernel=poly, total=   0.0s\n",
      "[CV] C=100, degree=2, gamma=0.1, kernel=poly .........................\n",
      "[CV] .......... C=100, degree=2, gamma=0.1, kernel=poly, total=   0.0s\n",
      "[CV] C=100, degree=2, gamma=0.1, kernel=poly .........................\n",
      "[CV] .......... C=100, degree=2, gamma=0.1, kernel=poly, total=   0.0s\n",
      "[CV] C=100, degree=2, gamma=0.1, kernel=poly .........................\n",
      "[CV] .......... C=100, degree=2, gamma=0.1, kernel=poly, total=   0.0s\n",
      "[CV] C=100, degree=2, gamma=0.1, kernel=poly .........................\n",
      "[CV] .......... C=100, degree=2, gamma=0.1, kernel=poly, total=   0.0s\n",
      "[CV] C=100, degree=2, gamma=0.1, kernel=sigmoid ......................\n",
      "[CV] ....... C=100, degree=2, gamma=0.1, kernel=sigmoid, total=   0.0s\n",
      "[CV] C=100, degree=2, gamma=0.1, kernel=sigmoid ......................\n",
      "[CV] ....... C=100, degree=2, gamma=0.1, kernel=sigmoid, total=   0.0s\n",
      "[CV] C=100, degree=2, gamma=0.1, kernel=sigmoid ......................\n",
      "[CV] ....... C=100, degree=2, gamma=0.1, kernel=sigmoid, total=   0.0s\n",
      "[CV] C=100, degree=2, gamma=0.1, kernel=sigmoid ......................\n",
      "[CV] ....... C=100, degree=2, gamma=0.1, kernel=sigmoid, total=   0.0s\n",
      "[CV] C=100, degree=2, gamma=0.1, kernel=sigmoid ......................\n"
     ]
    },
    {
     "name": "stderr",
     "output_type": "stream",
     "text": [
      "C:\\Users\\laure\\Anaconda3\\envs\\myenv\\lib\\site-packages\\sklearn\\utils\\validation.py:760: DataConversionWarning: A column-vector y was passed when a 1d array was expected. Please change the shape of y to (n_samples, ), for example using ravel().\n",
      "  y = column_or_1d(y, warn=True)\n",
      "C:\\Users\\laure\\Anaconda3\\envs\\myenv\\lib\\site-packages\\sklearn\\utils\\validation.py:760: DataConversionWarning: A column-vector y was passed when a 1d array was expected. Please change the shape of y to (n_samples, ), for example using ravel().\n",
      "  y = column_or_1d(y, warn=True)\n",
      "C:\\Users\\laure\\Anaconda3\\envs\\myenv\\lib\\site-packages\\sklearn\\utils\\validation.py:760: DataConversionWarning: A column-vector y was passed when a 1d array was expected. Please change the shape of y to (n_samples, ), for example using ravel().\n",
      "  y = column_or_1d(y, warn=True)\n",
      "C:\\Users\\laure\\Anaconda3\\envs\\myenv\\lib\\site-packages\\sklearn\\utils\\validation.py:760: DataConversionWarning: A column-vector y was passed when a 1d array was expected. Please change the shape of y to (n_samples, ), for example using ravel().\n",
      "  y = column_or_1d(y, warn=True)\n",
      "C:\\Users\\laure\\Anaconda3\\envs\\myenv\\lib\\site-packages\\sklearn\\utils\\validation.py:760: DataConversionWarning: A column-vector y was passed when a 1d array was expected. Please change the shape of y to (n_samples, ), for example using ravel().\n",
      "  y = column_or_1d(y, warn=True)\n",
      "C:\\Users\\laure\\Anaconda3\\envs\\myenv\\lib\\site-packages\\sklearn\\utils\\validation.py:760: DataConversionWarning: A column-vector y was passed when a 1d array was expected. Please change the shape of y to (n_samples, ), for example using ravel().\n",
      "  y = column_or_1d(y, warn=True)\n",
      "C:\\Users\\laure\\Anaconda3\\envs\\myenv\\lib\\site-packages\\sklearn\\utils\\validation.py:760: DataConversionWarning: A column-vector y was passed when a 1d array was expected. Please change the shape of y to (n_samples, ), for example using ravel().\n",
      "  y = column_or_1d(y, warn=True)\n",
      "C:\\Users\\laure\\Anaconda3\\envs\\myenv\\lib\\site-packages\\sklearn\\utils\\validation.py:760: DataConversionWarning: A column-vector y was passed when a 1d array was expected. Please change the shape of y to (n_samples, ), for example using ravel().\n",
      "  y = column_or_1d(y, warn=True)\n",
      "C:\\Users\\laure\\Anaconda3\\envs\\myenv\\lib\\site-packages\\sklearn\\utils\\validation.py:760: DataConversionWarning: A column-vector y was passed when a 1d array was expected. Please change the shape of y to (n_samples, ), for example using ravel().\n",
      "  y = column_or_1d(y, warn=True)\n",
      "C:\\Users\\laure\\Anaconda3\\envs\\myenv\\lib\\site-packages\\sklearn\\utils\\validation.py:760: DataConversionWarning: A column-vector y was passed when a 1d array was expected. Please change the shape of y to (n_samples, ), for example using ravel().\n",
      "  y = column_or_1d(y, warn=True)\n",
      "C:\\Users\\laure\\Anaconda3\\envs\\myenv\\lib\\site-packages\\sklearn\\utils\\validation.py:760: DataConversionWarning: A column-vector y was passed when a 1d array was expected. Please change the shape of y to (n_samples, ), for example using ravel().\n",
      "  y = column_or_1d(y, warn=True)\n"
     ]
    },
    {
     "name": "stdout",
     "output_type": "stream",
     "text": [
      "[CV] ....... C=100, degree=2, gamma=0.1, kernel=sigmoid, total=   0.0s\n",
      "[CV] C=100, degree=2, gamma=0.01, kernel=linear ......................\n",
      "[CV] ....... C=100, degree=2, gamma=0.01, kernel=linear, total=   0.0s\n",
      "[CV] C=100, degree=2, gamma=0.01, kernel=linear ......................\n",
      "[CV] ....... C=100, degree=2, gamma=0.01, kernel=linear, total=   0.0s\n",
      "[CV] C=100, degree=2, gamma=0.01, kernel=linear ......................\n",
      "[CV] ....... C=100, degree=2, gamma=0.01, kernel=linear, total=   0.0s\n",
      "[CV] C=100, degree=2, gamma=0.01, kernel=linear ......................\n",
      "[CV] ....... C=100, degree=2, gamma=0.01, kernel=linear, total=   0.0s\n",
      "[CV] C=100, degree=2, gamma=0.01, kernel=linear ......................\n",
      "[CV] ....... C=100, degree=2, gamma=0.01, kernel=linear, total=   0.0s\n",
      "[CV] C=100, degree=2, gamma=0.01, kernel=rbf .........................\n",
      "[CV] .......... C=100, degree=2, gamma=0.01, kernel=rbf, total=   0.0s\n",
      "[CV] C=100, degree=2, gamma=0.01, kernel=rbf .........................\n",
      "[CV] .......... C=100, degree=2, gamma=0.01, kernel=rbf, total=   0.0s\n",
      "[CV] C=100, degree=2, gamma=0.01, kernel=rbf .........................\n",
      "[CV] .......... C=100, degree=2, gamma=0.01, kernel=rbf, total=   0.0s\n",
      "[CV] C=100, degree=2, gamma=0.01, kernel=rbf .........................\n",
      "[CV] .......... C=100, degree=2, gamma=0.01, kernel=rbf, total=   0.0s\n",
      "[CV] C=100, degree=2, gamma=0.01, kernel=rbf .........................\n",
      "[CV] .......... C=100, degree=2, gamma=0.01, kernel=rbf, total=   0.0s\n",
      "[CV] C=100, degree=2, gamma=0.01, kernel=poly ........................\n"
     ]
    },
    {
     "name": "stderr",
     "output_type": "stream",
     "text": [
      "C:\\Users\\laure\\Anaconda3\\envs\\myenv\\lib\\site-packages\\sklearn\\utils\\validation.py:760: DataConversionWarning: A column-vector y was passed when a 1d array was expected. Please change the shape of y to (n_samples, ), for example using ravel().\n",
      "  y = column_or_1d(y, warn=True)\n",
      "C:\\Users\\laure\\Anaconda3\\envs\\myenv\\lib\\site-packages\\sklearn\\utils\\validation.py:760: DataConversionWarning: A column-vector y was passed when a 1d array was expected. Please change the shape of y to (n_samples, ), for example using ravel().\n",
      "  y = column_or_1d(y, warn=True)\n"
     ]
    },
    {
     "name": "stdout",
     "output_type": "stream",
     "text": [
      "[CV] ......... C=100, degree=2, gamma=0.01, kernel=poly, total=   0.1s\n",
      "[CV] C=100, degree=2, gamma=0.01, kernel=poly ........................\n",
      "[CV] ......... C=100, degree=2, gamma=0.01, kernel=poly, total=   0.1s\n",
      "[CV] C=100, degree=2, gamma=0.01, kernel=poly ........................\n"
     ]
    },
    {
     "name": "stderr",
     "output_type": "stream",
     "text": [
      "C:\\Users\\laure\\Anaconda3\\envs\\myenv\\lib\\site-packages\\sklearn\\utils\\validation.py:760: DataConversionWarning: A column-vector y was passed when a 1d array was expected. Please change the shape of y to (n_samples, ), for example using ravel().\n",
      "  y = column_or_1d(y, warn=True)\n",
      "C:\\Users\\laure\\Anaconda3\\envs\\myenv\\lib\\site-packages\\sklearn\\utils\\validation.py:760: DataConversionWarning: A column-vector y was passed when a 1d array was expected. Please change the shape of y to (n_samples, ), for example using ravel().\n",
      "  y = column_or_1d(y, warn=True)\n"
     ]
    },
    {
     "name": "stdout",
     "output_type": "stream",
     "text": [
      "[CV] ......... C=100, degree=2, gamma=0.01, kernel=poly, total=   0.1s\n",
      "[CV] C=100, degree=2, gamma=0.01, kernel=poly ........................\n",
      "[CV] ......... C=100, degree=2, gamma=0.01, kernel=poly, total=   0.1s\n",
      "[CV] C=100, degree=2, gamma=0.01, kernel=poly ........................\n"
     ]
    },
    {
     "name": "stderr",
     "output_type": "stream",
     "text": [
      "C:\\Users\\laure\\Anaconda3\\envs\\myenv\\lib\\site-packages\\sklearn\\utils\\validation.py:760: DataConversionWarning: A column-vector y was passed when a 1d array was expected. Please change the shape of y to (n_samples, ), for example using ravel().\n",
      "  y = column_or_1d(y, warn=True)\n",
      "C:\\Users\\laure\\Anaconda3\\envs\\myenv\\lib\\site-packages\\sklearn\\utils\\validation.py:760: DataConversionWarning: A column-vector y was passed when a 1d array was expected. Please change the shape of y to (n_samples, ), for example using ravel().\n",
      "  y = column_or_1d(y, warn=True)\n",
      "C:\\Users\\laure\\Anaconda3\\envs\\myenv\\lib\\site-packages\\sklearn\\utils\\validation.py:760: DataConversionWarning: A column-vector y was passed when a 1d array was expected. Please change the shape of y to (n_samples, ), for example using ravel().\n",
      "  y = column_or_1d(y, warn=True)\n"
     ]
    },
    {
     "name": "stdout",
     "output_type": "stream",
     "text": [
      "[CV] ......... C=100, degree=2, gamma=0.01, kernel=poly, total=   0.2s\n",
      "[CV] C=100, degree=2, gamma=0.01, kernel=sigmoid .....................\n",
      "[CV] ...... C=100, degree=2, gamma=0.01, kernel=sigmoid, total=   0.0s\n",
      "[CV] C=100, degree=2, gamma=0.01, kernel=sigmoid .....................\n",
      "[CV] ...... C=100, degree=2, gamma=0.01, kernel=sigmoid, total=   0.0s\n",
      "[CV] C=100, degree=2, gamma=0.01, kernel=sigmoid .....................\n",
      "[CV] ...... C=100, degree=2, gamma=0.01, kernel=sigmoid, total=   0.0s\n",
      "[CV] C=100, degree=2, gamma=0.01, kernel=sigmoid .....................\n",
      "[CV] ...... C=100, degree=2, gamma=0.01, kernel=sigmoid, total=   0.0s\n",
      "[CV] C=100, degree=2, gamma=0.01, kernel=sigmoid .....................\n",
      "[CV] ...... C=100, degree=2, gamma=0.01, kernel=sigmoid, total=   0.0s\n",
      "[CV] C=100, degree=2, gamma=0.001, kernel=linear .....................\n",
      "[CV] ...... C=100, degree=2, gamma=0.001, kernel=linear, total=   0.0s\n",
      "[CV] C=100, degree=2, gamma=0.001, kernel=linear .....................\n",
      "[CV] ...... C=100, degree=2, gamma=0.001, kernel=linear, total=   0.0s\n",
      "[CV] C=100, degree=2, gamma=0.001, kernel=linear .....................\n",
      "[CV] ...... C=100, degree=2, gamma=0.001, kernel=linear, total=   0.0s\n",
      "[CV] C=100, degree=2, gamma=0.001, kernel=linear .....................\n",
      "[CV] ...... C=100, degree=2, gamma=0.001, kernel=linear, total=   0.0s\n",
      "[CV] C=100, degree=2, gamma=0.001, kernel=linear .....................\n",
      "[CV] ...... C=100, degree=2, gamma=0.001, kernel=linear, total=   0.0s\n",
      "[CV] C=100, degree=2, gamma=0.001, kernel=rbf ........................\n",
      "[CV] ......... C=100, degree=2, gamma=0.001, kernel=rbf, total=   0.0s\n",
      "[CV] C=100, degree=2, gamma=0.001, kernel=rbf ........................\n",
      "[CV] ......... C=100, degree=2, gamma=0.001, kernel=rbf, total=   0.0s\n",
      "[CV] C=100, degree=2, gamma=0.001, kernel=rbf ........................\n",
      "[CV] ......... C=100, degree=2, gamma=0.001, kernel=rbf, total=   0.0s\n",
      "[CV] C=100, degree=2, gamma=0.001, kernel=rbf ........................\n"
     ]
    },
    {
     "name": "stderr",
     "output_type": "stream",
     "text": [
      "C:\\Users\\laure\\Anaconda3\\envs\\myenv\\lib\\site-packages\\sklearn\\utils\\validation.py:760: DataConversionWarning: A column-vector y was passed when a 1d array was expected. Please change the shape of y to (n_samples, ), for example using ravel().\n",
      "  y = column_or_1d(y, warn=True)\n",
      "C:\\Users\\laure\\Anaconda3\\envs\\myenv\\lib\\site-packages\\sklearn\\utils\\validation.py:760: DataConversionWarning: A column-vector y was passed when a 1d array was expected. Please change the shape of y to (n_samples, ), for example using ravel().\n",
      "  y = column_or_1d(y, warn=True)\n",
      "C:\\Users\\laure\\Anaconda3\\envs\\myenv\\lib\\site-packages\\sklearn\\utils\\validation.py:760: DataConversionWarning: A column-vector y was passed when a 1d array was expected. Please change the shape of y to (n_samples, ), for example using ravel().\n",
      "  y = column_or_1d(y, warn=True)\n",
      "C:\\Users\\laure\\Anaconda3\\envs\\myenv\\lib\\site-packages\\sklearn\\utils\\validation.py:760: DataConversionWarning: A column-vector y was passed when a 1d array was expected. Please change the shape of y to (n_samples, ), for example using ravel().\n",
      "  y = column_or_1d(y, warn=True)\n",
      "C:\\Users\\laure\\Anaconda3\\envs\\myenv\\lib\\site-packages\\sklearn\\utils\\validation.py:760: DataConversionWarning: A column-vector y was passed when a 1d array was expected. Please change the shape of y to (n_samples, ), for example using ravel().\n",
      "  y = column_or_1d(y, warn=True)\n",
      "C:\\Users\\laure\\Anaconda3\\envs\\myenv\\lib\\site-packages\\sklearn\\utils\\validation.py:760: DataConversionWarning: A column-vector y was passed when a 1d array was expected. Please change the shape of y to (n_samples, ), for example using ravel().\n",
      "  y = column_or_1d(y, warn=True)\n",
      "C:\\Users\\laure\\Anaconda3\\envs\\myenv\\lib\\site-packages\\sklearn\\utils\\validation.py:760: DataConversionWarning: A column-vector y was passed when a 1d array was expected. Please change the shape of y to (n_samples, ), for example using ravel().\n",
      "  y = column_or_1d(y, warn=True)\n",
      "C:\\Users\\laure\\Anaconda3\\envs\\myenv\\lib\\site-packages\\sklearn\\utils\\validation.py:760: DataConversionWarning: A column-vector y was passed when a 1d array was expected. Please change the shape of y to (n_samples, ), for example using ravel().\n",
      "  y = column_or_1d(y, warn=True)\n",
      "C:\\Users\\laure\\Anaconda3\\envs\\myenv\\lib\\site-packages\\sklearn\\utils\\validation.py:760: DataConversionWarning: A column-vector y was passed when a 1d array was expected. Please change the shape of y to (n_samples, ), for example using ravel().\n",
      "  y = column_or_1d(y, warn=True)\n",
      "C:\\Users\\laure\\Anaconda3\\envs\\myenv\\lib\\site-packages\\sklearn\\utils\\validation.py:760: DataConversionWarning: A column-vector y was passed when a 1d array was expected. Please change the shape of y to (n_samples, ), for example using ravel().\n",
      "  y = column_or_1d(y, warn=True)\n",
      "C:\\Users\\laure\\Anaconda3\\envs\\myenv\\lib\\site-packages\\sklearn\\utils\\validation.py:760: DataConversionWarning: A column-vector y was passed when a 1d array was expected. Please change the shape of y to (n_samples, ), for example using ravel().\n",
      "  y = column_or_1d(y, warn=True)\n",
      "C:\\Users\\laure\\Anaconda3\\envs\\myenv\\lib\\site-packages\\sklearn\\utils\\validation.py:760: DataConversionWarning: A column-vector y was passed when a 1d array was expected. Please change the shape of y to (n_samples, ), for example using ravel().\n",
      "  y = column_or_1d(y, warn=True)\n",
      "C:\\Users\\laure\\Anaconda3\\envs\\myenv\\lib\\site-packages\\sklearn\\utils\\validation.py:760: DataConversionWarning: A column-vector y was passed when a 1d array was expected. Please change the shape of y to (n_samples, ), for example using ravel().\n",
      "  y = column_or_1d(y, warn=True)\n",
      "C:\\Users\\laure\\Anaconda3\\envs\\myenv\\lib\\site-packages\\sklearn\\utils\\validation.py:760: DataConversionWarning: A column-vector y was passed when a 1d array was expected. Please change the shape of y to (n_samples, ), for example using ravel().\n",
      "  y = column_or_1d(y, warn=True)\n"
     ]
    },
    {
     "name": "stdout",
     "output_type": "stream",
     "text": [
      "[CV] ......... C=100, degree=2, gamma=0.001, kernel=rbf, total=   0.0s\n",
      "[CV] C=100, degree=2, gamma=0.001, kernel=rbf ........................\n",
      "[CV] ......... C=100, degree=2, gamma=0.001, kernel=rbf, total=   0.0s\n",
      "[CV] C=100, degree=2, gamma=0.001, kernel=poly .......................\n",
      "[CV] ........ C=100, degree=2, gamma=0.001, kernel=poly, total=   0.1s\n",
      "[CV] C=100, degree=2, gamma=0.001, kernel=poly .......................\n"
     ]
    },
    {
     "name": "stderr",
     "output_type": "stream",
     "text": [
      "C:\\Users\\laure\\Anaconda3\\envs\\myenv\\lib\\site-packages\\sklearn\\utils\\validation.py:760: DataConversionWarning: A column-vector y was passed when a 1d array was expected. Please change the shape of y to (n_samples, ), for example using ravel().\n",
      "  y = column_or_1d(y, warn=True)\n",
      "C:\\Users\\laure\\Anaconda3\\envs\\myenv\\lib\\site-packages\\sklearn\\utils\\validation.py:760: DataConversionWarning: A column-vector y was passed when a 1d array was expected. Please change the shape of y to (n_samples, ), for example using ravel().\n",
      "  y = column_or_1d(y, warn=True)\n"
     ]
    },
    {
     "name": "stdout",
     "output_type": "stream",
     "text": [
      "[CV] ........ C=100, degree=2, gamma=0.001, kernel=poly, total=   0.1s\n",
      "[CV] C=100, degree=2, gamma=0.001, kernel=poly .......................\n",
      "[CV] ........ C=100, degree=2, gamma=0.001, kernel=poly, total=   0.1s\n",
      "[CV] C=100, degree=2, gamma=0.001, kernel=poly .......................\n"
     ]
    },
    {
     "name": "stderr",
     "output_type": "stream",
     "text": [
      "C:\\Users\\laure\\Anaconda3\\envs\\myenv\\lib\\site-packages\\sklearn\\utils\\validation.py:760: DataConversionWarning: A column-vector y was passed when a 1d array was expected. Please change the shape of y to (n_samples, ), for example using ravel().\n",
      "  y = column_or_1d(y, warn=True)\n",
      "C:\\Users\\laure\\Anaconda3\\envs\\myenv\\lib\\site-packages\\sklearn\\utils\\validation.py:760: DataConversionWarning: A column-vector y was passed when a 1d array was expected. Please change the shape of y to (n_samples, ), for example using ravel().\n",
      "  y = column_or_1d(y, warn=True)\n"
     ]
    },
    {
     "name": "stdout",
     "output_type": "stream",
     "text": [
      "[CV] ........ C=100, degree=2, gamma=0.001, kernel=poly, total=   0.2s\n",
      "[CV] C=100, degree=2, gamma=0.001, kernel=poly .......................\n",
      "[CV] ........ C=100, degree=2, gamma=0.001, kernel=poly, total=   0.2s\n",
      "[CV] C=100, degree=2, gamma=0.001, kernel=sigmoid ....................\n"
     ]
    },
    {
     "name": "stderr",
     "output_type": "stream",
     "text": [
      "C:\\Users\\laure\\Anaconda3\\envs\\myenv\\lib\\site-packages\\sklearn\\utils\\validation.py:760: DataConversionWarning: A column-vector y was passed when a 1d array was expected. Please change the shape of y to (n_samples, ), for example using ravel().\n",
      "  y = column_or_1d(y, warn=True)\n",
      "C:\\Users\\laure\\Anaconda3\\envs\\myenv\\lib\\site-packages\\sklearn\\utils\\validation.py:760: DataConversionWarning: A column-vector y was passed when a 1d array was expected. Please change the shape of y to (n_samples, ), for example using ravel().\n",
      "  y = column_or_1d(y, warn=True)\n",
      "C:\\Users\\laure\\Anaconda3\\envs\\myenv\\lib\\site-packages\\sklearn\\utils\\validation.py:760: DataConversionWarning: A column-vector y was passed when a 1d array was expected. Please change the shape of y to (n_samples, ), for example using ravel().\n",
      "  y = column_or_1d(y, warn=True)\n",
      "C:\\Users\\laure\\Anaconda3\\envs\\myenv\\lib\\site-packages\\sklearn\\utils\\validation.py:760: DataConversionWarning: A column-vector y was passed when a 1d array was expected. Please change the shape of y to (n_samples, ), for example using ravel().\n",
      "  y = column_or_1d(y, warn=True)\n",
      "C:\\Users\\laure\\Anaconda3\\envs\\myenv\\lib\\site-packages\\sklearn\\utils\\validation.py:760: DataConversionWarning: A column-vector y was passed when a 1d array was expected. Please change the shape of y to (n_samples, ), for example using ravel().\n",
      "  y = column_or_1d(y, warn=True)\n",
      "C:\\Users\\laure\\Anaconda3\\envs\\myenv\\lib\\site-packages\\sklearn\\utils\\validation.py:760: DataConversionWarning: A column-vector y was passed when a 1d array was expected. Please change the shape of y to (n_samples, ), for example using ravel().\n",
      "  y = column_or_1d(y, warn=True)\n",
      "C:\\Users\\laure\\Anaconda3\\envs\\myenv\\lib\\site-packages\\sklearn\\utils\\validation.py:760: DataConversionWarning: A column-vector y was passed when a 1d array was expected. Please change the shape of y to (n_samples, ), for example using ravel().\n",
      "  y = column_or_1d(y, warn=True)\n",
      "C:\\Users\\laure\\Anaconda3\\envs\\myenv\\lib\\site-packages\\sklearn\\utils\\validation.py:760: DataConversionWarning: A column-vector y was passed when a 1d array was expected. Please change the shape of y to (n_samples, ), for example using ravel().\n",
      "  y = column_or_1d(y, warn=True)\n"
     ]
    },
    {
     "name": "stdout",
     "output_type": "stream",
     "text": [
      "[CV] ..... C=100, degree=2, gamma=0.001, kernel=sigmoid, total=   0.0s\n",
      "[CV] C=100, degree=2, gamma=0.001, kernel=sigmoid ....................\n",
      "[CV] ..... C=100, degree=2, gamma=0.001, kernel=sigmoid, total=   0.0s\n",
      "[CV] C=100, degree=2, gamma=0.001, kernel=sigmoid ....................\n",
      "[CV] ..... C=100, degree=2, gamma=0.001, kernel=sigmoid, total=   0.0s\n",
      "[CV] C=100, degree=2, gamma=0.001, kernel=sigmoid ....................\n",
      "[CV] ..... C=100, degree=2, gamma=0.001, kernel=sigmoid, total=   0.0s\n",
      "[CV] C=100, degree=2, gamma=0.001, kernel=sigmoid ....................\n",
      "[CV] ..... C=100, degree=2, gamma=0.001, kernel=sigmoid, total=   0.0s\n",
      "[CV] C=100, degree=3, gamma=1, kernel=linear .........................\n",
      "[CV] .......... C=100, degree=3, gamma=1, kernel=linear, total=   0.0s\n",
      "[CV] C=100, degree=3, gamma=1, kernel=linear .........................\n",
      "[CV] .......... C=100, degree=3, gamma=1, kernel=linear, total=   0.0s\n",
      "[CV] C=100, degree=3, gamma=1, kernel=linear .........................\n",
      "[CV] .......... C=100, degree=3, gamma=1, kernel=linear, total=   0.0s\n",
      "[CV] C=100, degree=3, gamma=1, kernel=linear .........................\n",
      "[CV] .......... C=100, degree=3, gamma=1, kernel=linear, total=   0.0s\n",
      "[CV] C=100, degree=3, gamma=1, kernel=linear .........................\n",
      "[CV] .......... C=100, degree=3, gamma=1, kernel=linear, total=   0.0s\n",
      "[CV] C=100, degree=3, gamma=1, kernel=rbf ............................\n"
     ]
    },
    {
     "name": "stderr",
     "output_type": "stream",
     "text": [
      "C:\\Users\\laure\\Anaconda3\\envs\\myenv\\lib\\site-packages\\sklearn\\utils\\validation.py:760: DataConversionWarning: A column-vector y was passed when a 1d array was expected. Please change the shape of y to (n_samples, ), for example using ravel().\n",
      "  y = column_or_1d(y, warn=True)\n",
      "C:\\Users\\laure\\Anaconda3\\envs\\myenv\\lib\\site-packages\\sklearn\\utils\\validation.py:760: DataConversionWarning: A column-vector y was passed when a 1d array was expected. Please change the shape of y to (n_samples, ), for example using ravel().\n",
      "  y = column_or_1d(y, warn=True)\n",
      "C:\\Users\\laure\\Anaconda3\\envs\\myenv\\lib\\site-packages\\sklearn\\utils\\validation.py:760: DataConversionWarning: A column-vector y was passed when a 1d array was expected. Please change the shape of y to (n_samples, ), for example using ravel().\n",
      "  y = column_or_1d(y, warn=True)\n",
      "C:\\Users\\laure\\Anaconda3\\envs\\myenv\\lib\\site-packages\\sklearn\\utils\\validation.py:760: DataConversionWarning: A column-vector y was passed when a 1d array was expected. Please change the shape of y to (n_samples, ), for example using ravel().\n",
      "  y = column_or_1d(y, warn=True)\n",
      "C:\\Users\\laure\\Anaconda3\\envs\\myenv\\lib\\site-packages\\sklearn\\utils\\validation.py:760: DataConversionWarning: A column-vector y was passed when a 1d array was expected. Please change the shape of y to (n_samples, ), for example using ravel().\n",
      "  y = column_or_1d(y, warn=True)\n",
      "C:\\Users\\laure\\Anaconda3\\envs\\myenv\\lib\\site-packages\\sklearn\\utils\\validation.py:760: DataConversionWarning: A column-vector y was passed when a 1d array was expected. Please change the shape of y to (n_samples, ), for example using ravel().\n",
      "  y = column_or_1d(y, warn=True)\n",
      "C:\\Users\\laure\\Anaconda3\\envs\\myenv\\lib\\site-packages\\sklearn\\utils\\validation.py:760: DataConversionWarning: A column-vector y was passed when a 1d array was expected. Please change the shape of y to (n_samples, ), for example using ravel().\n",
      "  y = column_or_1d(y, warn=True)\n",
      "C:\\Users\\laure\\Anaconda3\\envs\\myenv\\lib\\site-packages\\sklearn\\utils\\validation.py:760: DataConversionWarning: A column-vector y was passed when a 1d array was expected. Please change the shape of y to (n_samples, ), for example using ravel().\n",
      "  y = column_or_1d(y, warn=True)\n",
      "C:\\Users\\laure\\Anaconda3\\envs\\myenv\\lib\\site-packages\\sklearn\\utils\\validation.py:760: DataConversionWarning: A column-vector y was passed when a 1d array was expected. Please change the shape of y to (n_samples, ), for example using ravel().\n",
      "  y = column_or_1d(y, warn=True)\n",
      "C:\\Users\\laure\\Anaconda3\\envs\\myenv\\lib\\site-packages\\sklearn\\utils\\validation.py:760: DataConversionWarning: A column-vector y was passed when a 1d array was expected. Please change the shape of y to (n_samples, ), for example using ravel().\n",
      "  y = column_or_1d(y, warn=True)\n",
      "C:\\Users\\laure\\Anaconda3\\envs\\myenv\\lib\\site-packages\\sklearn\\utils\\validation.py:760: DataConversionWarning: A column-vector y was passed when a 1d array was expected. Please change the shape of y to (n_samples, ), for example using ravel().\n",
      "  y = column_or_1d(y, warn=True)\n",
      "C:\\Users\\laure\\Anaconda3\\envs\\myenv\\lib\\site-packages\\sklearn\\utils\\validation.py:760: DataConversionWarning: A column-vector y was passed when a 1d array was expected. Please change the shape of y to (n_samples, ), for example using ravel().\n",
      "  y = column_or_1d(y, warn=True)\n",
      "C:\\Users\\laure\\Anaconda3\\envs\\myenv\\lib\\site-packages\\sklearn\\utils\\validation.py:760: DataConversionWarning: A column-vector y was passed when a 1d array was expected. Please change the shape of y to (n_samples, ), for example using ravel().\n",
      "  y = column_or_1d(y, warn=True)\n",
      "C:\\Users\\laure\\Anaconda3\\envs\\myenv\\lib\\site-packages\\sklearn\\utils\\validation.py:760: DataConversionWarning: A column-vector y was passed when a 1d array was expected. Please change the shape of y to (n_samples, ), for example using ravel().\n",
      "  y = column_or_1d(y, warn=True)\n",
      "C:\\Users\\laure\\Anaconda3\\envs\\myenv\\lib\\site-packages\\sklearn\\utils\\validation.py:760: DataConversionWarning: A column-vector y was passed when a 1d array was expected. Please change the shape of y to (n_samples, ), for example using ravel().\n",
      "  y = column_or_1d(y, warn=True)\n",
      "C:\\Users\\laure\\Anaconda3\\envs\\myenv\\lib\\site-packages\\sklearn\\utils\\validation.py:760: DataConversionWarning: A column-vector y was passed when a 1d array was expected. Please change the shape of y to (n_samples, ), for example using ravel().\n",
      "  y = column_or_1d(y, warn=True)\n"
     ]
    },
    {
     "name": "stdout",
     "output_type": "stream",
     "text": [
      "[CV] ............. C=100, degree=3, gamma=1, kernel=rbf, total=   0.0s\n",
      "[CV] C=100, degree=3, gamma=1, kernel=rbf ............................\n",
      "[CV] ............. C=100, degree=3, gamma=1, kernel=rbf, total=   0.0s\n",
      "[CV] C=100, degree=3, gamma=1, kernel=rbf ............................\n",
      "[CV] ............. C=100, degree=3, gamma=1, kernel=rbf, total=   0.0s\n",
      "[CV] C=100, degree=3, gamma=1, kernel=rbf ............................\n",
      "[CV] ............. C=100, degree=3, gamma=1, kernel=rbf, total=   0.0s\n",
      "[CV] C=100, degree=3, gamma=1, kernel=rbf ............................\n",
      "[CV] ............. C=100, degree=3, gamma=1, kernel=rbf, total=   0.0s\n",
      "[CV] C=100, degree=3, gamma=1, kernel=poly ...........................\n",
      "[CV] ............ C=100, degree=3, gamma=1, kernel=poly, total=   0.0s\n",
      "[CV] C=100, degree=3, gamma=1, kernel=poly ...........................\n",
      "[CV] ............ C=100, degree=3, gamma=1, kernel=poly, total=   0.0s\n",
      "[CV] C=100, degree=3, gamma=1, kernel=poly ...........................\n",
      "[CV] ............ C=100, degree=3, gamma=1, kernel=poly, total=   0.0s\n",
      "[CV] C=100, degree=3, gamma=1, kernel=poly ...........................\n",
      "[CV] ............ C=100, degree=3, gamma=1, kernel=poly, total=   0.0s\n",
      "[CV] C=100, degree=3, gamma=1, kernel=poly ...........................\n",
      "[CV] ............ C=100, degree=3, gamma=1, kernel=poly, total=   0.0s\n",
      "[CV] C=100, degree=3, gamma=1, kernel=sigmoid ........................\n",
      "[CV] ......... C=100, degree=3, gamma=1, kernel=sigmoid, total=   0.0s\n",
      "[CV] C=100, degree=3, gamma=1, kernel=sigmoid ........................\n",
      "[CV] ......... C=100, degree=3, gamma=1, kernel=sigmoid, total=   0.0s\n",
      "[CV] C=100, degree=3, gamma=1, kernel=sigmoid ........................\n",
      "[CV] ......... C=100, degree=3, gamma=1, kernel=sigmoid, total=   0.0s\n",
      "[CV] C=100, degree=3, gamma=1, kernel=sigmoid ........................\n",
      "[CV] ......... C=100, degree=3, gamma=1, kernel=sigmoid, total=   0.0s\n",
      "[CV] C=100, degree=3, gamma=1, kernel=sigmoid ........................\n",
      "[CV] ......... C=100, degree=3, gamma=1, kernel=sigmoid, total=   0.0s\n",
      "[CV] C=100, degree=3, gamma=0.1, kernel=linear .......................\n",
      "[CV] ........ C=100, degree=3, gamma=0.1, kernel=linear, total=   0.0s\n",
      "[CV] C=100, degree=3, gamma=0.1, kernel=linear .......................\n",
      "[CV] ........ C=100, degree=3, gamma=0.1, kernel=linear, total=   0.0s"
     ]
    },
    {
     "name": "stderr",
     "output_type": "stream",
     "text": [
      "C:\\Users\\laure\\Anaconda3\\envs\\myenv\\lib\\site-packages\\sklearn\\utils\\validation.py:760: DataConversionWarning: A column-vector y was passed when a 1d array was expected. Please change the shape of y to (n_samples, ), for example using ravel().\n",
      "  y = column_or_1d(y, warn=True)\n",
      "C:\\Users\\laure\\Anaconda3\\envs\\myenv\\lib\\site-packages\\sklearn\\utils\\validation.py:760: DataConversionWarning: A column-vector y was passed when a 1d array was expected. Please change the shape of y to (n_samples, ), for example using ravel().\n",
      "  y = column_or_1d(y, warn=True)\n",
      "C:\\Users\\laure\\Anaconda3\\envs\\myenv\\lib\\site-packages\\sklearn\\utils\\validation.py:760: DataConversionWarning: A column-vector y was passed when a 1d array was expected. Please change the shape of y to (n_samples, ), for example using ravel().\n",
      "  y = column_or_1d(y, warn=True)\n",
      "C:\\Users\\laure\\Anaconda3\\envs\\myenv\\lib\\site-packages\\sklearn\\utils\\validation.py:760: DataConversionWarning: A column-vector y was passed when a 1d array was expected. Please change the shape of y to (n_samples, ), for example using ravel().\n",
      "  y = column_or_1d(y, warn=True)\n",
      "C:\\Users\\laure\\Anaconda3\\envs\\myenv\\lib\\site-packages\\sklearn\\utils\\validation.py:760: DataConversionWarning: A column-vector y was passed when a 1d array was expected. Please change the shape of y to (n_samples, ), for example using ravel().\n",
      "  y = column_or_1d(y, warn=True)\n",
      "C:\\Users\\laure\\Anaconda3\\envs\\myenv\\lib\\site-packages\\sklearn\\utils\\validation.py:760: DataConversionWarning: A column-vector y was passed when a 1d array was expected. Please change the shape of y to (n_samples, ), for example using ravel().\n",
      "  y = column_or_1d(y, warn=True)\n",
      "C:\\Users\\laure\\Anaconda3\\envs\\myenv\\lib\\site-packages\\sklearn\\utils\\validation.py:760: DataConversionWarning: A column-vector y was passed when a 1d array was expected. Please change the shape of y to (n_samples, ), for example using ravel().\n",
      "  y = column_or_1d(y, warn=True)\n",
      "C:\\Users\\laure\\Anaconda3\\envs\\myenv\\lib\\site-packages\\sklearn\\utils\\validation.py:760: DataConversionWarning: A column-vector y was passed when a 1d array was expected. Please change the shape of y to (n_samples, ), for example using ravel().\n",
      "  y = column_or_1d(y, warn=True)\n",
      "C:\\Users\\laure\\Anaconda3\\envs\\myenv\\lib\\site-packages\\sklearn\\utils\\validation.py:760: DataConversionWarning: A column-vector y was passed when a 1d array was expected. Please change the shape of y to (n_samples, ), for example using ravel().\n",
      "  y = column_or_1d(y, warn=True)\n",
      "C:\\Users\\laure\\Anaconda3\\envs\\myenv\\lib\\site-packages\\sklearn\\utils\\validation.py:760: DataConversionWarning: A column-vector y was passed when a 1d array was expected. Please change the shape of y to (n_samples, ), for example using ravel().\n",
      "  y = column_or_1d(y, warn=True)\n",
      "C:\\Users\\laure\\Anaconda3\\envs\\myenv\\lib\\site-packages\\sklearn\\utils\\validation.py:760: DataConversionWarning: A column-vector y was passed when a 1d array was expected. Please change the shape of y to (n_samples, ), for example using ravel().\n",
      "  y = column_or_1d(y, warn=True)\n"
     ]
    },
    {
     "name": "stdout",
     "output_type": "stream",
     "text": [
      "\n",
      "[CV] C=100, degree=3, gamma=0.1, kernel=linear .......................\n",
      "[CV] ........ C=100, degree=3, gamma=0.1, kernel=linear, total=   0.0s\n",
      "[CV] C=100, degree=3, gamma=0.1, kernel=linear .......................\n",
      "[CV] ........ C=100, degree=3, gamma=0.1, kernel=linear, total=   0.0s\n",
      "[CV] C=100, degree=3, gamma=0.1, kernel=linear .......................\n",
      "[CV] ........ C=100, degree=3, gamma=0.1, kernel=linear, total=   0.0s\n",
      "[CV] C=100, degree=3, gamma=0.1, kernel=rbf ..........................\n",
      "[CV] ........... C=100, degree=3, gamma=0.1, kernel=rbf, total=   0.0s\n",
      "[CV] C=100, degree=3, gamma=0.1, kernel=rbf ..........................\n",
      "[CV] ........... C=100, degree=3, gamma=0.1, kernel=rbf, total=   0.0s\n",
      "[CV] C=100, degree=3, gamma=0.1, kernel=rbf ..........................\n",
      "[CV] ........... C=100, degree=3, gamma=0.1, kernel=rbf, total=   0.0s\n",
      "[CV] C=100, degree=3, gamma=0.1, kernel=rbf ..........................\n",
      "[CV] ........... C=100, degree=3, gamma=0.1, kernel=rbf, total=   0.0s\n",
      "[CV] C=100, degree=3, gamma=0.1, kernel=rbf ..........................\n",
      "[CV] ........... C=100, degree=3, gamma=0.1, kernel=rbf, total=   0.0s\n",
      "[CV] C=100, degree=3, gamma=0.1, kernel=poly .........................\n",
      "[CV] .......... C=100, degree=3, gamma=0.1, kernel=poly, total=   0.0s\n",
      "[CV] C=100, degree=3, gamma=0.1, kernel=poly .........................\n"
     ]
    },
    {
     "name": "stderr",
     "output_type": "stream",
     "text": [
      "C:\\Users\\laure\\Anaconda3\\envs\\myenv\\lib\\site-packages\\sklearn\\utils\\validation.py:760: DataConversionWarning: A column-vector y was passed when a 1d array was expected. Please change the shape of y to (n_samples, ), for example using ravel().\n",
      "  y = column_or_1d(y, warn=True)\n",
      "C:\\Users\\laure\\Anaconda3\\envs\\myenv\\lib\\site-packages\\sklearn\\utils\\validation.py:760: DataConversionWarning: A column-vector y was passed when a 1d array was expected. Please change the shape of y to (n_samples, ), for example using ravel().\n",
      "  y = column_or_1d(y, warn=True)\n",
      "C:\\Users\\laure\\Anaconda3\\envs\\myenv\\lib\\site-packages\\sklearn\\utils\\validation.py:760: DataConversionWarning: A column-vector y was passed when a 1d array was expected. Please change the shape of y to (n_samples, ), for example using ravel().\n",
      "  y = column_or_1d(y, warn=True)\n",
      "C:\\Users\\laure\\Anaconda3\\envs\\myenv\\lib\\site-packages\\sklearn\\utils\\validation.py:760: DataConversionWarning: A column-vector y was passed when a 1d array was expected. Please change the shape of y to (n_samples, ), for example using ravel().\n",
      "  y = column_or_1d(y, warn=True)\n",
      "C:\\Users\\laure\\Anaconda3\\envs\\myenv\\lib\\site-packages\\sklearn\\utils\\validation.py:760: DataConversionWarning: A column-vector y was passed when a 1d array was expected. Please change the shape of y to (n_samples, ), for example using ravel().\n",
      "  y = column_or_1d(y, warn=True)\n",
      "C:\\Users\\laure\\Anaconda3\\envs\\myenv\\lib\\site-packages\\sklearn\\utils\\validation.py:760: DataConversionWarning: A column-vector y was passed when a 1d array was expected. Please change the shape of y to (n_samples, ), for example using ravel().\n",
      "  y = column_or_1d(y, warn=True)\n",
      "C:\\Users\\laure\\Anaconda3\\envs\\myenv\\lib\\site-packages\\sklearn\\utils\\validation.py:760: DataConversionWarning: A column-vector y was passed when a 1d array was expected. Please change the shape of y to (n_samples, ), for example using ravel().\n",
      "  y = column_or_1d(y, warn=True)\n",
      "C:\\Users\\laure\\Anaconda3\\envs\\myenv\\lib\\site-packages\\sklearn\\utils\\validation.py:760: DataConversionWarning: A column-vector y was passed when a 1d array was expected. Please change the shape of y to (n_samples, ), for example using ravel().\n",
      "  y = column_or_1d(y, warn=True)\n",
      "C:\\Users\\laure\\Anaconda3\\envs\\myenv\\lib\\site-packages\\sklearn\\utils\\validation.py:760: DataConversionWarning: A column-vector y was passed when a 1d array was expected. Please change the shape of y to (n_samples, ), for example using ravel().\n",
      "  y = column_or_1d(y, warn=True)\n",
      "C:\\Users\\laure\\Anaconda3\\envs\\myenv\\lib\\site-packages\\sklearn\\utils\\validation.py:760: DataConversionWarning: A column-vector y was passed when a 1d array was expected. Please change the shape of y to (n_samples, ), for example using ravel().\n",
      "  y = column_or_1d(y, warn=True)\n"
     ]
    },
    {
     "name": "stdout",
     "output_type": "stream",
     "text": [
      "[CV] .......... C=100, degree=3, gamma=0.1, kernel=poly, total=   0.0s\n",
      "[CV] C=100, degree=3, gamma=0.1, kernel=poly .........................\n",
      "[CV] .......... C=100, degree=3, gamma=0.1, kernel=poly, total=   0.0s\n",
      "[CV] C=100, degree=3, gamma=0.1, kernel=poly .........................\n",
      "[CV] .......... C=100, degree=3, gamma=0.1, kernel=poly, total=   0.0s\n",
      "[CV] C=100, degree=3, gamma=0.1, kernel=poly .........................\n",
      "[CV] .......... C=100, degree=3, gamma=0.1, kernel=poly, total=   0.0s\n",
      "[CV] C=100, degree=3, gamma=0.1, kernel=sigmoid ......................\n",
      "[CV] ....... C=100, degree=3, gamma=0.1, kernel=sigmoid, total=   0.0s\n",
      "[CV] C=100, degree=3, gamma=0.1, kernel=sigmoid ......................\n",
      "[CV] ....... C=100, degree=3, gamma=0.1, kernel=sigmoid, total=   0.0s\n",
      "[CV] C=100, degree=3, gamma=0.1, kernel=sigmoid ......................\n",
      "[CV] ....... C=100, degree=3, gamma=0.1, kernel=sigmoid, total=   0.0s\n",
      "[CV] C=100, degree=3, gamma=0.1, kernel=sigmoid ......................\n",
      "[CV] ....... C=100, degree=3, gamma=0.1, kernel=sigmoid, total=   0.0s\n",
      "[CV] C=100, degree=3, gamma=0.1, kernel=sigmoid ......................\n",
      "[CV] ....... C=100, degree=3, gamma=0.1, kernel=sigmoid, total=   0.0s\n",
      "[CV] C=100, degree=3, gamma=0.01, kernel=linear ......................\n",
      "[CV] ....... C=100, degree=3, gamma=0.01, kernel=linear, total=   0.0s\n",
      "[CV] C=100, degree=3, gamma=0.01, kernel=linear ......................\n"
     ]
    },
    {
     "name": "stderr",
     "output_type": "stream",
     "text": [
      "C:\\Users\\laure\\Anaconda3\\envs\\myenv\\lib\\site-packages\\sklearn\\utils\\validation.py:760: DataConversionWarning: A column-vector y was passed when a 1d array was expected. Please change the shape of y to (n_samples, ), for example using ravel().\n",
      "  y = column_or_1d(y, warn=True)\n",
      "C:\\Users\\laure\\Anaconda3\\envs\\myenv\\lib\\site-packages\\sklearn\\utils\\validation.py:760: DataConversionWarning: A column-vector y was passed when a 1d array was expected. Please change the shape of y to (n_samples, ), for example using ravel().\n",
      "  y = column_or_1d(y, warn=True)\n",
      "C:\\Users\\laure\\Anaconda3\\envs\\myenv\\lib\\site-packages\\sklearn\\utils\\validation.py:760: DataConversionWarning: A column-vector y was passed when a 1d array was expected. Please change the shape of y to (n_samples, ), for example using ravel().\n",
      "  y = column_or_1d(y, warn=True)\n",
      "C:\\Users\\laure\\Anaconda3\\envs\\myenv\\lib\\site-packages\\sklearn\\utils\\validation.py:760: DataConversionWarning: A column-vector y was passed when a 1d array was expected. Please change the shape of y to (n_samples, ), for example using ravel().\n",
      "  y = column_or_1d(y, warn=True)\n",
      "C:\\Users\\laure\\Anaconda3\\envs\\myenv\\lib\\site-packages\\sklearn\\utils\\validation.py:760: DataConversionWarning: A column-vector y was passed when a 1d array was expected. Please change the shape of y to (n_samples, ), for example using ravel().\n",
      "  y = column_or_1d(y, warn=True)\n",
      "C:\\Users\\laure\\Anaconda3\\envs\\myenv\\lib\\site-packages\\sklearn\\utils\\validation.py:760: DataConversionWarning: A column-vector y was passed when a 1d array was expected. Please change the shape of y to (n_samples, ), for example using ravel().\n",
      "  y = column_or_1d(y, warn=True)\n",
      "C:\\Users\\laure\\Anaconda3\\envs\\myenv\\lib\\site-packages\\sklearn\\utils\\validation.py:760: DataConversionWarning: A column-vector y was passed when a 1d array was expected. Please change the shape of y to (n_samples, ), for example using ravel().\n",
      "  y = column_or_1d(y, warn=True)\n",
      "C:\\Users\\laure\\Anaconda3\\envs\\myenv\\lib\\site-packages\\sklearn\\utils\\validation.py:760: DataConversionWarning: A column-vector y was passed when a 1d array was expected. Please change the shape of y to (n_samples, ), for example using ravel().\n",
      "  y = column_or_1d(y, warn=True)\n",
      "C:\\Users\\laure\\Anaconda3\\envs\\myenv\\lib\\site-packages\\sklearn\\utils\\validation.py:760: DataConversionWarning: A column-vector y was passed when a 1d array was expected. Please change the shape of y to (n_samples, ), for example using ravel().\n",
      "  y = column_or_1d(y, warn=True)\n",
      "C:\\Users\\laure\\Anaconda3\\envs\\myenv\\lib\\site-packages\\sklearn\\utils\\validation.py:760: DataConversionWarning: A column-vector y was passed when a 1d array was expected. Please change the shape of y to (n_samples, ), for example using ravel().\n",
      "  y = column_or_1d(y, warn=True)\n"
     ]
    },
    {
     "name": "stdout",
     "output_type": "stream",
     "text": [
      "[CV] ....... C=100, degree=3, gamma=0.01, kernel=linear, total=   0.0s\n",
      "[CV] C=100, degree=3, gamma=0.01, kernel=linear ......................\n",
      "[CV] ....... C=100, degree=3, gamma=0.01, kernel=linear, total=   0.0s\n",
      "[CV] C=100, degree=3, gamma=0.01, kernel=linear ......................\n",
      "[CV] ....... C=100, degree=3, gamma=0.01, kernel=linear, total=   0.0s\n",
      "[CV] C=100, degree=3, gamma=0.01, kernel=linear ......................\n",
      "[CV] ....... C=100, degree=3, gamma=0.01, kernel=linear, total=   0.0s\n",
      "[CV] C=100, degree=3, gamma=0.01, kernel=rbf .........................\n",
      "[CV] .......... C=100, degree=3, gamma=0.01, kernel=rbf, total=   0.0s\n",
      "[CV] C=100, degree=3, gamma=0.01, kernel=rbf .........................\n",
      "[CV] .......... C=100, degree=3, gamma=0.01, kernel=rbf, total=   0.0s\n",
      "[CV] C=100, degree=3, gamma=0.01, kernel=rbf .........................\n",
      "[CV] .......... C=100, degree=3, gamma=0.01, kernel=rbf, total=   0.0s\n",
      "[CV] C=100, degree=3, gamma=0.01, kernel=rbf .........................\n",
      "[CV] .......... C=100, degree=3, gamma=0.01, kernel=rbf, total=   0.0s\n",
      "[CV] C=100, degree=3, gamma=0.01, kernel=rbf .........................\n",
      "[CV] .......... C=100, degree=3, gamma=0.01, kernel=rbf, total=   0.0s\n",
      "[CV] C=100, degree=3, gamma=0.01, kernel=poly ........................\n"
     ]
    },
    {
     "name": "stderr",
     "output_type": "stream",
     "text": [
      "C:\\Users\\laure\\Anaconda3\\envs\\myenv\\lib\\site-packages\\sklearn\\utils\\validation.py:760: DataConversionWarning: A column-vector y was passed when a 1d array was expected. Please change the shape of y to (n_samples, ), for example using ravel().\n",
      "  y = column_or_1d(y, warn=True)\n",
      "C:\\Users\\laure\\Anaconda3\\envs\\myenv\\lib\\site-packages\\sklearn\\utils\\validation.py:760: DataConversionWarning: A column-vector y was passed when a 1d array was expected. Please change the shape of y to (n_samples, ), for example using ravel().\n",
      "  y = column_or_1d(y, warn=True)\n"
     ]
    },
    {
     "name": "stdout",
     "output_type": "stream",
     "text": [
      "[CV] ......... C=100, degree=3, gamma=0.01, kernel=poly, total=   0.1s\n",
      "[CV] C=100, degree=3, gamma=0.01, kernel=poly ........................\n",
      "[CV] ......... C=100, degree=3, gamma=0.01, kernel=poly, total=   0.1s\n",
      "[CV] C=100, degree=3, gamma=0.01, kernel=poly ........................\n"
     ]
    },
    {
     "name": "stderr",
     "output_type": "stream",
     "text": [
      "C:\\Users\\laure\\Anaconda3\\envs\\myenv\\lib\\site-packages\\sklearn\\utils\\validation.py:760: DataConversionWarning: A column-vector y was passed when a 1d array was expected. Please change the shape of y to (n_samples, ), for example using ravel().\n",
      "  y = column_or_1d(y, warn=True)\n",
      "C:\\Users\\laure\\Anaconda3\\envs\\myenv\\lib\\site-packages\\sklearn\\utils\\validation.py:760: DataConversionWarning: A column-vector y was passed when a 1d array was expected. Please change the shape of y to (n_samples, ), for example using ravel().\n",
      "  y = column_or_1d(y, warn=True)\n"
     ]
    },
    {
     "name": "stdout",
     "output_type": "stream",
     "text": [
      "[CV] ......... C=100, degree=3, gamma=0.01, kernel=poly, total=   0.2s\n",
      "[CV] C=100, degree=3, gamma=0.01, kernel=poly ........................\n",
      "[CV] ......... C=100, degree=3, gamma=0.01, kernel=poly, total=   0.2s\n",
      "[CV] C=100, degree=3, gamma=0.01, kernel=poly ........................\n"
     ]
    },
    {
     "name": "stderr",
     "output_type": "stream",
     "text": [
      "C:\\Users\\laure\\Anaconda3\\envs\\myenv\\lib\\site-packages\\sklearn\\utils\\validation.py:760: DataConversionWarning: A column-vector y was passed when a 1d array was expected. Please change the shape of y to (n_samples, ), for example using ravel().\n",
      "  y = column_or_1d(y, warn=True)\n",
      "C:\\Users\\laure\\Anaconda3\\envs\\myenv\\lib\\site-packages\\sklearn\\utils\\validation.py:760: DataConversionWarning: A column-vector y was passed when a 1d array was expected. Please change the shape of y to (n_samples, ), for example using ravel().\n",
      "  y = column_or_1d(y, warn=True)\n"
     ]
    },
    {
     "name": "stdout",
     "output_type": "stream",
     "text": [
      "[CV] ......... C=100, degree=3, gamma=0.01, kernel=poly, total=   0.2s\n",
      "[CV] C=100, degree=3, gamma=0.01, kernel=sigmoid .....................\n",
      "[CV] ...... C=100, degree=3, gamma=0.01, kernel=sigmoid, total=   0.0s\n",
      "[CV] C=100, degree=3, gamma=0.01, kernel=sigmoid .....................\n",
      "[CV] ...... C=100, degree=3, gamma=0.01, kernel=sigmoid, total=   0.0s\n",
      "[CV] C=100, degree=3, gamma=0.01, kernel=sigmoid .....................\n",
      "[CV] ...... C=100, degree=3, gamma=0.01, kernel=sigmoid, total=   0.0s\n",
      "[CV] C=100, degree=3, gamma=0.01, kernel=sigmoid .....................\n",
      "[CV] ...... C=100, degree=3, gamma=0.01, kernel=sigmoid, total=   0.0s\n",
      "[CV] C=100, degree=3, gamma=0.01, kernel=sigmoid .....................\n",
      "[CV] ...... C=100, degree=3, gamma=0.01, kernel=sigmoid, total=   0.0s\n",
      "[CV] C=100, degree=3, gamma=0.001, kernel=linear .....................\n",
      "[CV] ...... C=100, degree=3, gamma=0.001, kernel=linear, total=   0.0s\n",
      "[CV] C=100, degree=3, gamma=0.001, kernel=linear .....................\n",
      "[CV] ...... C=100, degree=3, gamma=0.001, kernel=linear, total=   0.0s\n",
      "[CV] C=100, degree=3, gamma=0.001, kernel=linear .....................\n",
      "[CV] ...... C=100, degree=3, gamma=0.001, kernel=linear, total=   0.0s\n",
      "[CV] C=100, degree=3, gamma=0.001, kernel=linear .....................\n",
      "[CV] ...... C=100, degree=3, gamma=0.001, kernel=linear, total=   0.0s\n",
      "[CV] C=100, degree=3, gamma=0.001, kernel=linear .....................\n",
      "[CV] ...... C=100, degree=3, gamma=0.001, kernel=linear, total=   0.0s\n",
      "[CV] C=100, degree=3, gamma=0.001, kernel=rbf ........................\n",
      "[CV] ......... C=100, degree=3, gamma=0.001, kernel=rbf, total=   0.0s\n",
      "[CV] C=100, degree=3, gamma=0.001, kernel=rbf ........................\n",
      "[CV] ......... C=100, degree=3, gamma=0.001, kernel=rbf, total=   0.0s\n",
      "[CV] C=100, degree=3, gamma=0.001, kernel=rbf ........................\n"
     ]
    },
    {
     "name": "stderr",
     "output_type": "stream",
     "text": [
      "C:\\Users\\laure\\Anaconda3\\envs\\myenv\\lib\\site-packages\\sklearn\\utils\\validation.py:760: DataConversionWarning: A column-vector y was passed when a 1d array was expected. Please change the shape of y to (n_samples, ), for example using ravel().\n",
      "  y = column_or_1d(y, warn=True)\n",
      "C:\\Users\\laure\\Anaconda3\\envs\\myenv\\lib\\site-packages\\sklearn\\utils\\validation.py:760: DataConversionWarning: A column-vector y was passed when a 1d array was expected. Please change the shape of y to (n_samples, ), for example using ravel().\n",
      "  y = column_or_1d(y, warn=True)\n",
      "C:\\Users\\laure\\Anaconda3\\envs\\myenv\\lib\\site-packages\\sklearn\\utils\\validation.py:760: DataConversionWarning: A column-vector y was passed when a 1d array was expected. Please change the shape of y to (n_samples, ), for example using ravel().\n",
      "  y = column_or_1d(y, warn=True)\n",
      "C:\\Users\\laure\\Anaconda3\\envs\\myenv\\lib\\site-packages\\sklearn\\utils\\validation.py:760: DataConversionWarning: A column-vector y was passed when a 1d array was expected. Please change the shape of y to (n_samples, ), for example using ravel().\n",
      "  y = column_or_1d(y, warn=True)\n",
      "C:\\Users\\laure\\Anaconda3\\envs\\myenv\\lib\\site-packages\\sklearn\\utils\\validation.py:760: DataConversionWarning: A column-vector y was passed when a 1d array was expected. Please change the shape of y to (n_samples, ), for example using ravel().\n",
      "  y = column_or_1d(y, warn=True)\n",
      "C:\\Users\\laure\\Anaconda3\\envs\\myenv\\lib\\site-packages\\sklearn\\utils\\validation.py:760: DataConversionWarning: A column-vector y was passed when a 1d array was expected. Please change the shape of y to (n_samples, ), for example using ravel().\n",
      "  y = column_or_1d(y, warn=True)\n",
      "C:\\Users\\laure\\Anaconda3\\envs\\myenv\\lib\\site-packages\\sklearn\\utils\\validation.py:760: DataConversionWarning: A column-vector y was passed when a 1d array was expected. Please change the shape of y to (n_samples, ), for example using ravel().\n",
      "  y = column_or_1d(y, warn=True)\n",
      "C:\\Users\\laure\\Anaconda3\\envs\\myenv\\lib\\site-packages\\sklearn\\utils\\validation.py:760: DataConversionWarning: A column-vector y was passed when a 1d array was expected. Please change the shape of y to (n_samples, ), for example using ravel().\n",
      "  y = column_or_1d(y, warn=True)\n",
      "C:\\Users\\laure\\Anaconda3\\envs\\myenv\\lib\\site-packages\\sklearn\\utils\\validation.py:760: DataConversionWarning: A column-vector y was passed when a 1d array was expected. Please change the shape of y to (n_samples, ), for example using ravel().\n",
      "  y = column_or_1d(y, warn=True)\n",
      "C:\\Users\\laure\\Anaconda3\\envs\\myenv\\lib\\site-packages\\sklearn\\utils\\validation.py:760: DataConversionWarning: A column-vector y was passed when a 1d array was expected. Please change the shape of y to (n_samples, ), for example using ravel().\n",
      "  y = column_or_1d(y, warn=True)\n",
      "C:\\Users\\laure\\Anaconda3\\envs\\myenv\\lib\\site-packages\\sklearn\\utils\\validation.py:760: DataConversionWarning: A column-vector y was passed when a 1d array was expected. Please change the shape of y to (n_samples, ), for example using ravel().\n",
      "  y = column_or_1d(y, warn=True)\n",
      "C:\\Users\\laure\\Anaconda3\\envs\\myenv\\lib\\site-packages\\sklearn\\utils\\validation.py:760: DataConversionWarning: A column-vector y was passed when a 1d array was expected. Please change the shape of y to (n_samples, ), for example using ravel().\n",
      "  y = column_or_1d(y, warn=True)\n"
     ]
    },
    {
     "name": "stdout",
     "output_type": "stream",
     "text": [
      "[CV] ......... C=100, degree=3, gamma=0.001, kernel=rbf, total=   0.0s\n",
      "[CV] C=100, degree=3, gamma=0.001, kernel=rbf ........................\n",
      "[CV] ......... C=100, degree=3, gamma=0.001, kernel=rbf, total=   0.0s\n",
      "[CV] C=100, degree=3, gamma=0.001, kernel=rbf ........................\n",
      "[CV] ......... C=100, degree=3, gamma=0.001, kernel=rbf, total=   0.0s\n",
      "[CV] C=100, degree=3, gamma=0.001, kernel=poly .......................\n",
      "[CV] ........ C=100, degree=3, gamma=0.001, kernel=poly, total=   0.2s\n"
     ]
    },
    {
     "name": "stderr",
     "output_type": "stream",
     "text": [
      "C:\\Users\\laure\\Anaconda3\\envs\\myenv\\lib\\site-packages\\sklearn\\utils\\validation.py:760: DataConversionWarning: A column-vector y was passed when a 1d array was expected. Please change the shape of y to (n_samples, ), for example using ravel().\n",
      "  y = column_or_1d(y, warn=True)\n",
      "C:\\Users\\laure\\Anaconda3\\envs\\myenv\\lib\\site-packages\\sklearn\\utils\\validation.py:760: DataConversionWarning: A column-vector y was passed when a 1d array was expected. Please change the shape of y to (n_samples, ), for example using ravel().\n",
      "  y = column_or_1d(y, warn=True)\n",
      "C:\\Users\\laure\\Anaconda3\\envs\\myenv\\lib\\site-packages\\sklearn\\utils\\validation.py:760: DataConversionWarning: A column-vector y was passed when a 1d array was expected. Please change the shape of y to (n_samples, ), for example using ravel().\n",
      "  y = column_or_1d(y, warn=True)\n"
     ]
    },
    {
     "name": "stdout",
     "output_type": "stream",
     "text": [
      "[CV] C=100, degree=3, gamma=0.001, kernel=poly .......................\n",
      "[CV] ........ C=100, degree=3, gamma=0.001, kernel=poly, total=   0.2s\n",
      "[CV] C=100, degree=3, gamma=0.001, kernel=poly .......................\n"
     ]
    },
    {
     "name": "stderr",
     "output_type": "stream",
     "text": [
      "C:\\Users\\laure\\Anaconda3\\envs\\myenv\\lib\\site-packages\\sklearn\\utils\\validation.py:760: DataConversionWarning: A column-vector y was passed when a 1d array was expected. Please change the shape of y to (n_samples, ), for example using ravel().\n",
      "  y = column_or_1d(y, warn=True)\n",
      "C:\\Users\\laure\\Anaconda3\\envs\\myenv\\lib\\site-packages\\sklearn\\utils\\validation.py:760: DataConversionWarning: A column-vector y was passed when a 1d array was expected. Please change the shape of y to (n_samples, ), for example using ravel().\n",
      "  y = column_or_1d(y, warn=True)\n"
     ]
    },
    {
     "name": "stdout",
     "output_type": "stream",
     "text": [
      "[CV] ........ C=100, degree=3, gamma=0.001, kernel=poly, total=   0.1s\n",
      "[CV] C=100, degree=3, gamma=0.001, kernel=poly .......................\n",
      "[CV] ........ C=100, degree=3, gamma=0.001, kernel=poly, total=   0.2s\n",
      "[CV] C=100, degree=3, gamma=0.001, kernel=poly .......................\n"
     ]
    },
    {
     "name": "stderr",
     "output_type": "stream",
     "text": [
      "C:\\Users\\laure\\Anaconda3\\envs\\myenv\\lib\\site-packages\\sklearn\\utils\\validation.py:760: DataConversionWarning: A column-vector y was passed when a 1d array was expected. Please change the shape of y to (n_samples, ), for example using ravel().\n",
      "  y = column_or_1d(y, warn=True)\n",
      "C:\\Users\\laure\\Anaconda3\\envs\\myenv\\lib\\site-packages\\sklearn\\utils\\validation.py:760: DataConversionWarning: A column-vector y was passed when a 1d array was expected. Please change the shape of y to (n_samples, ), for example using ravel().\n",
      "  y = column_or_1d(y, warn=True)\n"
     ]
    },
    {
     "name": "stdout",
     "output_type": "stream",
     "text": [
      "[CV] ........ C=100, degree=3, gamma=0.001, kernel=poly, total=   0.1s\n",
      "[CV] C=100, degree=3, gamma=0.001, kernel=sigmoid ....................\n",
      "[CV] ..... C=100, degree=3, gamma=0.001, kernel=sigmoid, total=   0.0s\n",
      "[CV] C=100, degree=3, gamma=0.001, kernel=sigmoid ....................\n",
      "[CV] ..... C=100, degree=3, gamma=0.001, kernel=sigmoid, total=   0.0s\n",
      "[CV] C=100, degree=3, gamma=0.001, kernel=sigmoid ....................\n",
      "[CV] ..... C=100, degree=3, gamma=0.001, kernel=sigmoid, total=   0.0s\n",
      "[CV] C=100, degree=3, gamma=0.001, kernel=sigmoid ....................\n",
      "[CV] ..... C=100, degree=3, gamma=0.001, kernel=sigmoid, total=   0.0s\n",
      "[CV] C=100, degree=3, gamma=0.001, kernel=sigmoid ....................\n",
      "[CV] ..... C=100, degree=3, gamma=0.001, kernel=sigmoid, total=   0.0s\n",
      "[CV] C=100, degree=4, gamma=1, kernel=linear .........................\n",
      "[CV] .......... C=100, degree=4, gamma=1, kernel=linear, total=   0.0s\n",
      "[CV] C=100, degree=4, gamma=1, kernel=linear .........................\n",
      "[CV] .......... C=100, degree=4, gamma=1, kernel=linear, total=   0.0s\n",
      "[CV] C=100, degree=4, gamma=1, kernel=linear .........................\n",
      "[CV] .......... C=100, degree=4, gamma=1, kernel=linear, total=   0.0s\n",
      "[CV] C=100, degree=4, gamma=1, kernel=linear .........................\n"
     ]
    },
    {
     "name": "stderr",
     "output_type": "stream",
     "text": [
      "C:\\Users\\laure\\Anaconda3\\envs\\myenv\\lib\\site-packages\\sklearn\\utils\\validation.py:760: DataConversionWarning: A column-vector y was passed when a 1d array was expected. Please change the shape of y to (n_samples, ), for example using ravel().\n",
      "  y = column_or_1d(y, warn=True)\n",
      "C:\\Users\\laure\\Anaconda3\\envs\\myenv\\lib\\site-packages\\sklearn\\utils\\validation.py:760: DataConversionWarning: A column-vector y was passed when a 1d array was expected. Please change the shape of y to (n_samples, ), for example using ravel().\n",
      "  y = column_or_1d(y, warn=True)\n",
      "C:\\Users\\laure\\Anaconda3\\envs\\myenv\\lib\\site-packages\\sklearn\\utils\\validation.py:760: DataConversionWarning: A column-vector y was passed when a 1d array was expected. Please change the shape of y to (n_samples, ), for example using ravel().\n",
      "  y = column_or_1d(y, warn=True)\n",
      "C:\\Users\\laure\\Anaconda3\\envs\\myenv\\lib\\site-packages\\sklearn\\utils\\validation.py:760: DataConversionWarning: A column-vector y was passed when a 1d array was expected. Please change the shape of y to (n_samples, ), for example using ravel().\n",
      "  y = column_or_1d(y, warn=True)\n",
      "C:\\Users\\laure\\Anaconda3\\envs\\myenv\\lib\\site-packages\\sklearn\\utils\\validation.py:760: DataConversionWarning: A column-vector y was passed when a 1d array was expected. Please change the shape of y to (n_samples, ), for example using ravel().\n",
      "  y = column_or_1d(y, warn=True)\n",
      "C:\\Users\\laure\\Anaconda3\\envs\\myenv\\lib\\site-packages\\sklearn\\utils\\validation.py:760: DataConversionWarning: A column-vector y was passed when a 1d array was expected. Please change the shape of y to (n_samples, ), for example using ravel().\n",
      "  y = column_or_1d(y, warn=True)\n",
      "C:\\Users\\laure\\Anaconda3\\envs\\myenv\\lib\\site-packages\\sklearn\\utils\\validation.py:760: DataConversionWarning: A column-vector y was passed when a 1d array was expected. Please change the shape of y to (n_samples, ), for example using ravel().\n",
      "  y = column_or_1d(y, warn=True)\n",
      "C:\\Users\\laure\\Anaconda3\\envs\\myenv\\lib\\site-packages\\sklearn\\utils\\validation.py:760: DataConversionWarning: A column-vector y was passed when a 1d array was expected. Please change the shape of y to (n_samples, ), for example using ravel().\n",
      "  y = column_or_1d(y, warn=True)\n",
      "C:\\Users\\laure\\Anaconda3\\envs\\myenv\\lib\\site-packages\\sklearn\\utils\\validation.py:760: DataConversionWarning: A column-vector y was passed when a 1d array was expected. Please change the shape of y to (n_samples, ), for example using ravel().\n",
      "  y = column_or_1d(y, warn=True)\n",
      "C:\\Users\\laure\\Anaconda3\\envs\\myenv\\lib\\site-packages\\sklearn\\utils\\validation.py:760: DataConversionWarning: A column-vector y was passed when a 1d array was expected. Please change the shape of y to (n_samples, ), for example using ravel().\n",
      "  y = column_or_1d(y, warn=True)\n",
      "C:\\Users\\laure\\Anaconda3\\envs\\myenv\\lib\\site-packages\\sklearn\\utils\\validation.py:760: DataConversionWarning: A column-vector y was passed when a 1d array was expected. Please change the shape of y to (n_samples, ), for example using ravel().\n",
      "  y = column_or_1d(y, warn=True)\n",
      "C:\\Users\\laure\\Anaconda3\\envs\\myenv\\lib\\site-packages\\sklearn\\utils\\validation.py:760: DataConversionWarning: A column-vector y was passed when a 1d array was expected. Please change the shape of y to (n_samples, ), for example using ravel().\n",
      "  y = column_or_1d(y, warn=True)\n",
      "C:\\Users\\laure\\Anaconda3\\envs\\myenv\\lib\\site-packages\\sklearn\\utils\\validation.py:760: DataConversionWarning: A column-vector y was passed when a 1d array was expected. Please change the shape of y to (n_samples, ), for example using ravel().\n",
      "  y = column_or_1d(y, warn=True)\n",
      "C:\\Users\\laure\\Anaconda3\\envs\\myenv\\lib\\site-packages\\sklearn\\utils\\validation.py:760: DataConversionWarning: A column-vector y was passed when a 1d array was expected. Please change the shape of y to (n_samples, ), for example using ravel().\n",
      "  y = column_or_1d(y, warn=True)\n",
      "C:\\Users\\laure\\Anaconda3\\envs\\myenv\\lib\\site-packages\\sklearn\\utils\\validation.py:760: DataConversionWarning: A column-vector y was passed when a 1d array was expected. Please change the shape of y to (n_samples, ), for example using ravel().\n",
      "  y = column_or_1d(y, warn=True)\n",
      "C:\\Users\\laure\\Anaconda3\\envs\\myenv\\lib\\site-packages\\sklearn\\utils\\validation.py:760: DataConversionWarning: A column-vector y was passed when a 1d array was expected. Please change the shape of y to (n_samples, ), for example using ravel().\n",
      "  y = column_or_1d(y, warn=True)\n",
      "C:\\Users\\laure\\Anaconda3\\envs\\myenv\\lib\\site-packages\\sklearn\\utils\\validation.py:760: DataConversionWarning: A column-vector y was passed when a 1d array was expected. Please change the shape of y to (n_samples, ), for example using ravel().\n",
      "  y = column_or_1d(y, warn=True)\n",
      "C:\\Users\\laure\\Anaconda3\\envs\\myenv\\lib\\site-packages\\sklearn\\utils\\validation.py:760: DataConversionWarning: A column-vector y was passed when a 1d array was expected. Please change the shape of y to (n_samples, ), for example using ravel().\n",
      "  y = column_or_1d(y, warn=True)\n",
      "C:\\Users\\laure\\Anaconda3\\envs\\myenv\\lib\\site-packages\\sklearn\\utils\\validation.py:760: DataConversionWarning: A column-vector y was passed when a 1d array was expected. Please change the shape of y to (n_samples, ), for example using ravel().\n",
      "  y = column_or_1d(y, warn=True)\n",
      "C:\\Users\\laure\\Anaconda3\\envs\\myenv\\lib\\site-packages\\sklearn\\utils\\validation.py:760: DataConversionWarning: A column-vector y was passed when a 1d array was expected. Please change the shape of y to (n_samples, ), for example using ravel().\n",
      "  y = column_or_1d(y, warn=True)\n",
      "C:\\Users\\laure\\Anaconda3\\envs\\myenv\\lib\\site-packages\\sklearn\\utils\\validation.py:760: DataConversionWarning: A column-vector y was passed when a 1d array was expected. Please change the shape of y to (n_samples, ), for example using ravel().\n",
      "  y = column_or_1d(y, warn=True)\n",
      "C:\\Users\\laure\\Anaconda3\\envs\\myenv\\lib\\site-packages\\sklearn\\utils\\validation.py:760: DataConversionWarning: A column-vector y was passed when a 1d array was expected. Please change the shape of y to (n_samples, ), for example using ravel().\n",
      "  y = column_or_1d(y, warn=True)\n",
      "C:\\Users\\laure\\Anaconda3\\envs\\myenv\\lib\\site-packages\\sklearn\\utils\\validation.py:760: DataConversionWarning: A column-vector y was passed when a 1d array was expected. Please change the shape of y to (n_samples, ), for example using ravel().\n",
      "  y = column_or_1d(y, warn=True)\n",
      "C:\\Users\\laure\\Anaconda3\\envs\\myenv\\lib\\site-packages\\sklearn\\utils\\validation.py:760: DataConversionWarning: A column-vector y was passed when a 1d array was expected. Please change the shape of y to (n_samples, ), for example using ravel().\n",
      "  y = column_or_1d(y, warn=True)\n"
     ]
    },
    {
     "name": "stdout",
     "output_type": "stream",
     "text": [
      "[CV] .......... C=100, degree=4, gamma=1, kernel=linear, total=   0.0s\n",
      "[CV] C=100, degree=4, gamma=1, kernel=linear .........................\n",
      "[CV] .......... C=100, degree=4, gamma=1, kernel=linear, total=   0.0s\n",
      "[CV] C=100, degree=4, gamma=1, kernel=rbf ............................\n",
      "[CV] ............. C=100, degree=4, gamma=1, kernel=rbf, total=   0.0s\n",
      "[CV] C=100, degree=4, gamma=1, kernel=rbf ............................\n",
      "[CV] ............. C=100, degree=4, gamma=1, kernel=rbf, total=   0.0s\n",
      "[CV] C=100, degree=4, gamma=1, kernel=rbf ............................\n",
      "[CV] ............. C=100, degree=4, gamma=1, kernel=rbf, total=   0.0s\n",
      "[CV] C=100, degree=4, gamma=1, kernel=rbf ............................\n",
      "[CV] ............. C=100, degree=4, gamma=1, kernel=rbf, total=   0.0s\n",
      "[CV] C=100, degree=4, gamma=1, kernel=rbf ............................\n",
      "[CV] ............. C=100, degree=4, gamma=1, kernel=rbf, total=   0.0s\n",
      "[CV] C=100, degree=4, gamma=1, kernel=poly ...........................\n",
      "[CV] ............ C=100, degree=4, gamma=1, kernel=poly, total=   0.0s\n",
      "[CV] C=100, degree=4, gamma=1, kernel=poly ...........................\n",
      "[CV] ............ C=100, degree=4, gamma=1, kernel=poly, total=   0.0s\n",
      "[CV] C=100, degree=4, gamma=1, kernel=poly ...........................\n",
      "[CV] ............ C=100, degree=4, gamma=1, kernel=poly, total=   0.0s\n",
      "[CV] C=100, degree=4, gamma=1, kernel=poly ...........................\n",
      "[CV] ............ C=100, degree=4, gamma=1, kernel=poly, total=   0.0s\n",
      "[CV] C=100, degree=4, gamma=1, kernel=poly ...........................\n",
      "[CV] ............ C=100, degree=4, gamma=1, kernel=poly, total=   0.0s\n",
      "[CV] C=100, degree=4, gamma=1, kernel=sigmoid ........................\n",
      "[CV] ......... C=100, degree=4, gamma=1, kernel=sigmoid, total=   0.0s\n",
      "[CV] C=100, degree=4, gamma=1, kernel=sigmoid ........................\n",
      "[CV] ......... C=100, degree=4, gamma=1, kernel=sigmoid, total=   0.0s\n",
      "[CV] C=100, degree=4, gamma=1, kernel=sigmoid ........................\n",
      "[CV] ......... C=100, degree=4, gamma=1, kernel=sigmoid, total=   0.0s\n",
      "[CV] C=100, degree=4, gamma=1, kernel=sigmoid ........................\n",
      "[CV] ......... C=100, degree=4, gamma=1, kernel=sigmoid, total=   0.0s\n",
      "[CV] C=100, degree=4, gamma=1, kernel=sigmoid ........................\n",
      "[CV] ......... C=100, degree=4, gamma=1, kernel=sigmoid, total=   0.0s\n",
      "[CV] C=100, degree=4, gamma=0.1, kernel=linear .......................\n"
     ]
    },
    {
     "name": "stderr",
     "output_type": "stream",
     "text": [
      "C:\\Users\\laure\\Anaconda3\\envs\\myenv\\lib\\site-packages\\sklearn\\utils\\validation.py:760: DataConversionWarning: A column-vector y was passed when a 1d array was expected. Please change the shape of y to (n_samples, ), for example using ravel().\n",
      "  y = column_or_1d(y, warn=True)\n",
      "C:\\Users\\laure\\Anaconda3\\envs\\myenv\\lib\\site-packages\\sklearn\\utils\\validation.py:760: DataConversionWarning: A column-vector y was passed when a 1d array was expected. Please change the shape of y to (n_samples, ), for example using ravel().\n",
      "  y = column_or_1d(y, warn=True)\n",
      "C:\\Users\\laure\\Anaconda3\\envs\\myenv\\lib\\site-packages\\sklearn\\utils\\validation.py:760: DataConversionWarning: A column-vector y was passed when a 1d array was expected. Please change the shape of y to (n_samples, ), for example using ravel().\n",
      "  y = column_or_1d(y, warn=True)\n",
      "C:\\Users\\laure\\Anaconda3\\envs\\myenv\\lib\\site-packages\\sklearn\\utils\\validation.py:760: DataConversionWarning: A column-vector y was passed when a 1d array was expected. Please change the shape of y to (n_samples, ), for example using ravel().\n",
      "  y = column_or_1d(y, warn=True)\n",
      "C:\\Users\\laure\\Anaconda3\\envs\\myenv\\lib\\site-packages\\sklearn\\utils\\validation.py:760: DataConversionWarning: A column-vector y was passed when a 1d array was expected. Please change the shape of y to (n_samples, ), for example using ravel().\n",
      "  y = column_or_1d(y, warn=True)\n",
      "C:\\Users\\laure\\Anaconda3\\envs\\myenv\\lib\\site-packages\\sklearn\\utils\\validation.py:760: DataConversionWarning: A column-vector y was passed when a 1d array was expected. Please change the shape of y to (n_samples, ), for example using ravel().\n",
      "  y = column_or_1d(y, warn=True)\n",
      "C:\\Users\\laure\\Anaconda3\\envs\\myenv\\lib\\site-packages\\sklearn\\utils\\validation.py:760: DataConversionWarning: A column-vector y was passed when a 1d array was expected. Please change the shape of y to (n_samples, ), for example using ravel().\n",
      "  y = column_or_1d(y, warn=True)\n",
      "C:\\Users\\laure\\Anaconda3\\envs\\myenv\\lib\\site-packages\\sklearn\\utils\\validation.py:760: DataConversionWarning: A column-vector y was passed when a 1d array was expected. Please change the shape of y to (n_samples, ), for example using ravel().\n",
      "  y = column_or_1d(y, warn=True)\n",
      "C:\\Users\\laure\\Anaconda3\\envs\\myenv\\lib\\site-packages\\sklearn\\utils\\validation.py:760: DataConversionWarning: A column-vector y was passed when a 1d array was expected. Please change the shape of y to (n_samples, ), for example using ravel().\n",
      "  y = column_or_1d(y, warn=True)\n",
      "C:\\Users\\laure\\Anaconda3\\envs\\myenv\\lib\\site-packages\\sklearn\\utils\\validation.py:760: DataConversionWarning: A column-vector y was passed when a 1d array was expected. Please change the shape of y to (n_samples, ), for example using ravel().\n",
      "  y = column_or_1d(y, warn=True)\n",
      "C:\\Users\\laure\\Anaconda3\\envs\\myenv\\lib\\site-packages\\sklearn\\utils\\validation.py:760: DataConversionWarning: A column-vector y was passed when a 1d array was expected. Please change the shape of y to (n_samples, ), for example using ravel().\n",
      "  y = column_or_1d(y, warn=True)\n"
     ]
    },
    {
     "name": "stdout",
     "output_type": "stream",
     "text": [
      "[CV] ........ C=100, degree=4, gamma=0.1, kernel=linear, total=   0.0s\n",
      "[CV] C=100, degree=4, gamma=0.1, kernel=linear .......................\n",
      "[CV] ........ C=100, degree=4, gamma=0.1, kernel=linear, total=   0.0s\n",
      "[CV] C=100, degree=4, gamma=0.1, kernel=linear .......................\n",
      "[CV] ........ C=100, degree=4, gamma=0.1, kernel=linear, total=   0.0s\n",
      "[CV] C=100, degree=4, gamma=0.1, kernel=linear .......................\n",
      "[CV] ........ C=100, degree=4, gamma=0.1, kernel=linear, total=   0.0s\n",
      "[CV] C=100, degree=4, gamma=0.1, kernel=linear .......................\n",
      "[CV] ........ C=100, degree=4, gamma=0.1, kernel=linear, total=   0.0s\n",
      "[CV] C=100, degree=4, gamma=0.1, kernel=rbf ..........................\n",
      "[CV] ........... C=100, degree=4, gamma=0.1, kernel=rbf, total=   0.0s\n",
      "[CV] C=100, degree=4, gamma=0.1, kernel=rbf ..........................\n",
      "[CV] ........... C=100, degree=4, gamma=0.1, kernel=rbf, total=   0.0s\n",
      "[CV] C=100, degree=4, gamma=0.1, kernel=rbf ..........................\n",
      "[CV] ........... C=100, degree=4, gamma=0.1, kernel=rbf, total=   0.0s\n",
      "[CV] C=100, degree=4, gamma=0.1, kernel=rbf ..........................\n",
      "[CV] ........... C=100, degree=4, gamma=0.1, kernel=rbf, total=   0.0s\n",
      "[CV] C=100, degree=4, gamma=0.1, kernel=rbf ..........................\n",
      "[CV] ........... C=100, degree=4, gamma=0.1, kernel=rbf, total=   0.0s\n",
      "[CV] C=100, degree=4, gamma=0.1, kernel=poly .........................\n"
     ]
    },
    {
     "name": "stderr",
     "output_type": "stream",
     "text": [
      "C:\\Users\\laure\\Anaconda3\\envs\\myenv\\lib\\site-packages\\sklearn\\utils\\validation.py:760: DataConversionWarning: A column-vector y was passed when a 1d array was expected. Please change the shape of y to (n_samples, ), for example using ravel().\n",
      "  y = column_or_1d(y, warn=True)\n",
      "C:\\Users\\laure\\Anaconda3\\envs\\myenv\\lib\\site-packages\\sklearn\\utils\\validation.py:760: DataConversionWarning: A column-vector y was passed when a 1d array was expected. Please change the shape of y to (n_samples, ), for example using ravel().\n",
      "  y = column_or_1d(y, warn=True)\n",
      "C:\\Users\\laure\\Anaconda3\\envs\\myenv\\lib\\site-packages\\sklearn\\utils\\validation.py:760: DataConversionWarning: A column-vector y was passed when a 1d array was expected. Please change the shape of y to (n_samples, ), for example using ravel().\n",
      "  y = column_or_1d(y, warn=True)\n"
     ]
    },
    {
     "name": "stdout",
     "output_type": "stream",
     "text": [
      "[CV] .......... C=100, degree=4, gamma=0.1, kernel=poly, total=   0.1s\n",
      "[CV] C=100, degree=4, gamma=0.1, kernel=poly .........................\n",
      "[CV] .......... C=100, degree=4, gamma=0.1, kernel=poly, total=   0.1s\n",
      "[CV] C=100, degree=4, gamma=0.1, kernel=poly .........................\n",
      "[CV] .......... C=100, degree=4, gamma=0.1, kernel=poly, total=   0.1s\n",
      "[CV] C=100, degree=4, gamma=0.1, kernel=poly .........................\n",
      "[CV] .......... C=100, degree=4, gamma=0.1, kernel=poly, total=   0.1s\n",
      "[CV] C=100, degree=4, gamma=0.1, kernel=poly .........................\n"
     ]
    },
    {
     "name": "stderr",
     "output_type": "stream",
     "text": [
      "C:\\Users\\laure\\Anaconda3\\envs\\myenv\\lib\\site-packages\\sklearn\\utils\\validation.py:760: DataConversionWarning: A column-vector y was passed when a 1d array was expected. Please change the shape of y to (n_samples, ), for example using ravel().\n",
      "  y = column_or_1d(y, warn=True)\n",
      "C:\\Users\\laure\\Anaconda3\\envs\\myenv\\lib\\site-packages\\sklearn\\utils\\validation.py:760: DataConversionWarning: A column-vector y was passed when a 1d array was expected. Please change the shape of y to (n_samples, ), for example using ravel().\n",
      "  y = column_or_1d(y, warn=True)\n",
      "C:\\Users\\laure\\Anaconda3\\envs\\myenv\\lib\\site-packages\\sklearn\\utils\\validation.py:760: DataConversionWarning: A column-vector y was passed when a 1d array was expected. Please change the shape of y to (n_samples, ), for example using ravel().\n",
      "  y = column_or_1d(y, warn=True)\n",
      "C:\\Users\\laure\\Anaconda3\\envs\\myenv\\lib\\site-packages\\sklearn\\utils\\validation.py:760: DataConversionWarning: A column-vector y was passed when a 1d array was expected. Please change the shape of y to (n_samples, ), for example using ravel().\n",
      "  y = column_or_1d(y, warn=True)\n",
      "C:\\Users\\laure\\Anaconda3\\envs\\myenv\\lib\\site-packages\\sklearn\\utils\\validation.py:760: DataConversionWarning: A column-vector y was passed when a 1d array was expected. Please change the shape of y to (n_samples, ), for example using ravel().\n",
      "  y = column_or_1d(y, warn=True)\n"
     ]
    },
    {
     "name": "stdout",
     "output_type": "stream",
     "text": [
      "[CV] .......... C=100, degree=4, gamma=0.1, kernel=poly, total=   0.1s\n",
      "[CV] C=100, degree=4, gamma=0.1, kernel=sigmoid ......................\n",
      "[CV] ....... C=100, degree=4, gamma=0.1, kernel=sigmoid, total=   0.0s\n",
      "[CV] C=100, degree=4, gamma=0.1, kernel=sigmoid ......................\n",
      "[CV] ....... C=100, degree=4, gamma=0.1, kernel=sigmoid, total=   0.0s\n",
      "[CV] C=100, degree=4, gamma=0.1, kernel=sigmoid ......................\n",
      "[CV] ....... C=100, degree=4, gamma=0.1, kernel=sigmoid, total=   0.0s\n",
      "[CV] C=100, degree=4, gamma=0.1, kernel=sigmoid ......................\n",
      "[CV] ....... C=100, degree=4, gamma=0.1, kernel=sigmoid, total=   0.0s\n",
      "[CV] C=100, degree=4, gamma=0.1, kernel=sigmoid ......................\n",
      "[CV] ....... C=100, degree=4, gamma=0.1, kernel=sigmoid, total=   0.0s\n",
      "[CV] C=100, degree=4, gamma=0.01, kernel=linear ......................\n",
      "[CV] ....... C=100, degree=4, gamma=0.01, kernel=linear, total=   0.0s\n",
      "[CV] C=100, degree=4, gamma=0.01, kernel=linear ......................\n",
      "[CV] ....... C=100, degree=4, gamma=0.01, kernel=linear, total=   0.0s\n",
      "[CV] C=100, degree=4, gamma=0.01, kernel=linear ......................\n",
      "[CV] ....... C=100, degree=4, gamma=0.01, kernel=linear, total=   0.0s\n",
      "[CV] C=100, degree=4, gamma=0.01, kernel=linear ......................\n",
      "[CV] ....... C=100, degree=4, gamma=0.01, kernel=linear, total=   0.0s\n",
      "[CV] C=100, degree=4, gamma=0.01, kernel=linear ......................\n",
      "[CV] ....... C=100, degree=4, gamma=0.01, kernel=linear, total=   0.0s\n",
      "[CV] C=100, degree=4, gamma=0.01, kernel=rbf .........................\n"
     ]
    },
    {
     "name": "stderr",
     "output_type": "stream",
     "text": [
      "C:\\Users\\laure\\Anaconda3\\envs\\myenv\\lib\\site-packages\\sklearn\\utils\\validation.py:760: DataConversionWarning: A column-vector y was passed when a 1d array was expected. Please change the shape of y to (n_samples, ), for example using ravel().\n",
      "  y = column_or_1d(y, warn=True)\n",
      "C:\\Users\\laure\\Anaconda3\\envs\\myenv\\lib\\site-packages\\sklearn\\utils\\validation.py:760: DataConversionWarning: A column-vector y was passed when a 1d array was expected. Please change the shape of y to (n_samples, ), for example using ravel().\n",
      "  y = column_or_1d(y, warn=True)\n",
      "C:\\Users\\laure\\Anaconda3\\envs\\myenv\\lib\\site-packages\\sklearn\\utils\\validation.py:760: DataConversionWarning: A column-vector y was passed when a 1d array was expected. Please change the shape of y to (n_samples, ), for example using ravel().\n",
      "  y = column_or_1d(y, warn=True)\n",
      "C:\\Users\\laure\\Anaconda3\\envs\\myenv\\lib\\site-packages\\sklearn\\utils\\validation.py:760: DataConversionWarning: A column-vector y was passed when a 1d array was expected. Please change the shape of y to (n_samples, ), for example using ravel().\n",
      "  y = column_or_1d(y, warn=True)\n",
      "C:\\Users\\laure\\Anaconda3\\envs\\myenv\\lib\\site-packages\\sklearn\\utils\\validation.py:760: DataConversionWarning: A column-vector y was passed when a 1d array was expected. Please change the shape of y to (n_samples, ), for example using ravel().\n",
      "  y = column_or_1d(y, warn=True)\n",
      "C:\\Users\\laure\\Anaconda3\\envs\\myenv\\lib\\site-packages\\sklearn\\utils\\validation.py:760: DataConversionWarning: A column-vector y was passed when a 1d array was expected. Please change the shape of y to (n_samples, ), for example using ravel().\n",
      "  y = column_or_1d(y, warn=True)\n",
      "C:\\Users\\laure\\Anaconda3\\envs\\myenv\\lib\\site-packages\\sklearn\\utils\\validation.py:760: DataConversionWarning: A column-vector y was passed when a 1d array was expected. Please change the shape of y to (n_samples, ), for example using ravel().\n",
      "  y = column_or_1d(y, warn=True)\n",
      "C:\\Users\\laure\\Anaconda3\\envs\\myenv\\lib\\site-packages\\sklearn\\utils\\validation.py:760: DataConversionWarning: A column-vector y was passed when a 1d array was expected. Please change the shape of y to (n_samples, ), for example using ravel().\n",
      "  y = column_or_1d(y, warn=True)\n",
      "C:\\Users\\laure\\Anaconda3\\envs\\myenv\\lib\\site-packages\\sklearn\\utils\\validation.py:760: DataConversionWarning: A column-vector y was passed when a 1d array was expected. Please change the shape of y to (n_samples, ), for example using ravel().\n",
      "  y = column_or_1d(y, warn=True)\n",
      "C:\\Users\\laure\\Anaconda3\\envs\\myenv\\lib\\site-packages\\sklearn\\utils\\validation.py:760: DataConversionWarning: A column-vector y was passed when a 1d array was expected. Please change the shape of y to (n_samples, ), for example using ravel().\n",
      "  y = column_or_1d(y, warn=True)\n",
      "C:\\Users\\laure\\Anaconda3\\envs\\myenv\\lib\\site-packages\\sklearn\\utils\\validation.py:760: DataConversionWarning: A column-vector y was passed when a 1d array was expected. Please change the shape of y to (n_samples, ), for example using ravel().\n",
      "  y = column_or_1d(y, warn=True)\n"
     ]
    },
    {
     "name": "stdout",
     "output_type": "stream",
     "text": [
      "[CV] .......... C=100, degree=4, gamma=0.01, kernel=rbf, total=   0.0s\n",
      "[CV] C=100, degree=4, gamma=0.01, kernel=rbf .........................\n",
      "[CV] .......... C=100, degree=4, gamma=0.01, kernel=rbf, total=   0.0s\n",
      "[CV] C=100, degree=4, gamma=0.01, kernel=rbf .........................\n",
      "[CV] .......... C=100, degree=4, gamma=0.01, kernel=rbf, total=   0.0s\n",
      "[CV] C=100, degree=4, gamma=0.01, kernel=rbf .........................\n",
      "[CV] .......... C=100, degree=4, gamma=0.01, kernel=rbf, total=   0.0s\n",
      "[CV] C=100, degree=4, gamma=0.01, kernel=rbf .........................\n",
      "[CV] .......... C=100, degree=4, gamma=0.01, kernel=rbf, total=   0.0s\n",
      "[CV] C=100, degree=4, gamma=0.01, kernel=poly ........................\n"
     ]
    },
    {
     "name": "stderr",
     "output_type": "stream",
     "text": [
      "C:\\Users\\laure\\Anaconda3\\envs\\myenv\\lib\\site-packages\\sklearn\\utils\\validation.py:760: DataConversionWarning: A column-vector y was passed when a 1d array was expected. Please change the shape of y to (n_samples, ), for example using ravel().\n",
      "  y = column_or_1d(y, warn=True)\n",
      "C:\\Users\\laure\\Anaconda3\\envs\\myenv\\lib\\site-packages\\sklearn\\utils\\validation.py:760: DataConversionWarning: A column-vector y was passed when a 1d array was expected. Please change the shape of y to (n_samples, ), for example using ravel().\n",
      "  y = column_or_1d(y, warn=True)\n"
     ]
    },
    {
     "name": "stdout",
     "output_type": "stream",
     "text": [
      "[CV] ......... C=100, degree=4, gamma=0.01, kernel=poly, total=   0.2s\n",
      "[CV] C=100, degree=4, gamma=0.01, kernel=poly ........................\n",
      "[CV] ......... C=100, degree=4, gamma=0.01, kernel=poly, total=   0.1s\n",
      "[CV] C=100, degree=4, gamma=0.01, kernel=poly ........................\n"
     ]
    },
    {
     "name": "stderr",
     "output_type": "stream",
     "text": [
      "C:\\Users\\laure\\Anaconda3\\envs\\myenv\\lib\\site-packages\\sklearn\\utils\\validation.py:760: DataConversionWarning: A column-vector y was passed when a 1d array was expected. Please change the shape of y to (n_samples, ), for example using ravel().\n",
      "  y = column_or_1d(y, warn=True)\n",
      "C:\\Users\\laure\\Anaconda3\\envs\\myenv\\lib\\site-packages\\sklearn\\utils\\validation.py:760: DataConversionWarning: A column-vector y was passed when a 1d array was expected. Please change the shape of y to (n_samples, ), for example using ravel().\n",
      "  y = column_or_1d(y, warn=True)\n"
     ]
    },
    {
     "name": "stdout",
     "output_type": "stream",
     "text": [
      "[CV] ......... C=100, degree=4, gamma=0.01, kernel=poly, total=   0.1s\n",
      "[CV] C=100, degree=4, gamma=0.01, kernel=poly ........................\n",
      "[CV] ......... C=100, degree=4, gamma=0.01, kernel=poly, total=   0.1s\n",
      "[CV] C=100, degree=4, gamma=0.01, kernel=poly ........................\n"
     ]
    },
    {
     "name": "stderr",
     "output_type": "stream",
     "text": [
      "C:\\Users\\laure\\Anaconda3\\envs\\myenv\\lib\\site-packages\\sklearn\\utils\\validation.py:760: DataConversionWarning: A column-vector y was passed when a 1d array was expected. Please change the shape of y to (n_samples, ), for example using ravel().\n",
      "  y = column_or_1d(y, warn=True)\n",
      "C:\\Users\\laure\\Anaconda3\\envs\\myenv\\lib\\site-packages\\sklearn\\utils\\validation.py:760: DataConversionWarning: A column-vector y was passed when a 1d array was expected. Please change the shape of y to (n_samples, ), for example using ravel().\n",
      "  y = column_or_1d(y, warn=True)\n"
     ]
    },
    {
     "name": "stdout",
     "output_type": "stream",
     "text": [
      "[CV] ......... C=100, degree=4, gamma=0.01, kernel=poly, total=   0.1s\n",
      "[CV] C=100, degree=4, gamma=0.01, kernel=sigmoid .....................\n",
      "[CV] ...... C=100, degree=4, gamma=0.01, kernel=sigmoid, total=   0.0s\n",
      "[CV] C=100, degree=4, gamma=0.01, kernel=sigmoid .....................\n",
      "[CV] ...... C=100, degree=4, gamma=0.01, kernel=sigmoid, total=   0.0s\n",
      "[CV] C=100, degree=4, gamma=0.01, kernel=sigmoid .....................\n",
      "[CV] ...... C=100, degree=4, gamma=0.01, kernel=sigmoid, total=   0.0s\n",
      "[CV] C=100, degree=4, gamma=0.01, kernel=sigmoid .....................\n",
      "[CV] ...... C=100, degree=4, gamma=0.01, kernel=sigmoid, total=   0.0s\n",
      "[CV] C=100, degree=4, gamma=0.01, kernel=sigmoid .....................\n",
      "[CV] ...... C=100, degree=4, gamma=0.01, kernel=sigmoid, total=   0.0s\n",
      "[CV] C=100, degree=4, gamma=0.001, kernel=linear .....................\n",
      "[CV] ...... C=100, degree=4, gamma=0.001, kernel=linear, total=   0.0s\n",
      "[CV] C=100, degree=4, gamma=0.001, kernel=linear .....................\n",
      "[CV] ...... C=100, degree=4, gamma=0.001, kernel=linear, total=   0.0s\n",
      "[CV] C=100, degree=4, gamma=0.001, kernel=linear .....................\n",
      "[CV] ...... C=100, degree=4, gamma=0.001, kernel=linear, total=   0.0s\n",
      "[CV] C=100, degree=4, gamma=0.001, kernel=linear .....................\n",
      "[CV] ...... C=100, degree=4, gamma=0.001, kernel=linear, total=   0.0s\n",
      "[CV] C=100, degree=4, gamma=0.001, kernel=linear .....................\n",
      "[CV] ...... C=100, degree=4, gamma=0.001, kernel=linear, total=   0.0s\n",
      "[CV] C=100, degree=4, gamma=0.001, kernel=rbf ........................\n",
      "[CV] ......... C=100, degree=4, gamma=0.001, kernel=rbf, total=   0.0s\n",
      "[CV] C=100, degree=4, gamma=0.001, kernel=rbf ........................\n",
      "[CV] ......... C=100, degree=4, gamma=0.001, kernel=rbf, total=   0.0s\n",
      "[CV] C=100, degree=4, gamma=0.001, kernel=rbf ........................\n",
      "[CV] ......... C=100, degree=4, gamma=0.001, kernel=rbf, total=   0.0s\n",
      "[CV] C=100, degree=4, gamma=0.001, kernel=rbf ........................\n"
     ]
    },
    {
     "name": "stderr",
     "output_type": "stream",
     "text": [
      "C:\\Users\\laure\\Anaconda3\\envs\\myenv\\lib\\site-packages\\sklearn\\utils\\validation.py:760: DataConversionWarning: A column-vector y was passed when a 1d array was expected. Please change the shape of y to (n_samples, ), for example using ravel().\n",
      "  y = column_or_1d(y, warn=True)\n",
      "C:\\Users\\laure\\Anaconda3\\envs\\myenv\\lib\\site-packages\\sklearn\\utils\\validation.py:760: DataConversionWarning: A column-vector y was passed when a 1d array was expected. Please change the shape of y to (n_samples, ), for example using ravel().\n",
      "  y = column_or_1d(y, warn=True)\n",
      "C:\\Users\\laure\\Anaconda3\\envs\\myenv\\lib\\site-packages\\sklearn\\utils\\validation.py:760: DataConversionWarning: A column-vector y was passed when a 1d array was expected. Please change the shape of y to (n_samples, ), for example using ravel().\n",
      "  y = column_or_1d(y, warn=True)\n",
      "C:\\Users\\laure\\Anaconda3\\envs\\myenv\\lib\\site-packages\\sklearn\\utils\\validation.py:760: DataConversionWarning: A column-vector y was passed when a 1d array was expected. Please change the shape of y to (n_samples, ), for example using ravel().\n",
      "  y = column_or_1d(y, warn=True)\n",
      "C:\\Users\\laure\\Anaconda3\\envs\\myenv\\lib\\site-packages\\sklearn\\utils\\validation.py:760: DataConversionWarning: A column-vector y was passed when a 1d array was expected. Please change the shape of y to (n_samples, ), for example using ravel().\n",
      "  y = column_or_1d(y, warn=True)\n",
      "C:\\Users\\laure\\Anaconda3\\envs\\myenv\\lib\\site-packages\\sklearn\\utils\\validation.py:760: DataConversionWarning: A column-vector y was passed when a 1d array was expected. Please change the shape of y to (n_samples, ), for example using ravel().\n",
      "  y = column_or_1d(y, warn=True)\n",
      "C:\\Users\\laure\\Anaconda3\\envs\\myenv\\lib\\site-packages\\sklearn\\utils\\validation.py:760: DataConversionWarning: A column-vector y was passed when a 1d array was expected. Please change the shape of y to (n_samples, ), for example using ravel().\n",
      "  y = column_or_1d(y, warn=True)\n",
      "C:\\Users\\laure\\Anaconda3\\envs\\myenv\\lib\\site-packages\\sklearn\\utils\\validation.py:760: DataConversionWarning: A column-vector y was passed when a 1d array was expected. Please change the shape of y to (n_samples, ), for example using ravel().\n",
      "  y = column_or_1d(y, warn=True)\n",
      "C:\\Users\\laure\\Anaconda3\\envs\\myenv\\lib\\site-packages\\sklearn\\utils\\validation.py:760: DataConversionWarning: A column-vector y was passed when a 1d array was expected. Please change the shape of y to (n_samples, ), for example using ravel().\n",
      "  y = column_or_1d(y, warn=True)\n",
      "C:\\Users\\laure\\Anaconda3\\envs\\myenv\\lib\\site-packages\\sklearn\\utils\\validation.py:760: DataConversionWarning: A column-vector y was passed when a 1d array was expected. Please change the shape of y to (n_samples, ), for example using ravel().\n",
      "  y = column_or_1d(y, warn=True)\n",
      "C:\\Users\\laure\\Anaconda3\\envs\\myenv\\lib\\site-packages\\sklearn\\utils\\validation.py:760: DataConversionWarning: A column-vector y was passed when a 1d array was expected. Please change the shape of y to (n_samples, ), for example using ravel().\n",
      "  y = column_or_1d(y, warn=True)\n",
      "C:\\Users\\laure\\Anaconda3\\envs\\myenv\\lib\\site-packages\\sklearn\\utils\\validation.py:760: DataConversionWarning: A column-vector y was passed when a 1d array was expected. Please change the shape of y to (n_samples, ), for example using ravel().\n",
      "  y = column_or_1d(y, warn=True)\n",
      "C:\\Users\\laure\\Anaconda3\\envs\\myenv\\lib\\site-packages\\sklearn\\utils\\validation.py:760: DataConversionWarning: A column-vector y was passed when a 1d array was expected. Please change the shape of y to (n_samples, ), for example using ravel().\n",
      "  y = column_or_1d(y, warn=True)\n",
      "C:\\Users\\laure\\Anaconda3\\envs\\myenv\\lib\\site-packages\\sklearn\\utils\\validation.py:760: DataConversionWarning: A column-vector y was passed when a 1d array was expected. Please change the shape of y to (n_samples, ), for example using ravel().\n",
      "  y = column_or_1d(y, warn=True)\n",
      "C:\\Users\\laure\\Anaconda3\\envs\\myenv\\lib\\site-packages\\sklearn\\utils\\validation.py:760: DataConversionWarning: A column-vector y was passed when a 1d array was expected. Please change the shape of y to (n_samples, ), for example using ravel().\n",
      "  y = column_or_1d(y, warn=True)\n",
      "C:\\Users\\laure\\Anaconda3\\envs\\myenv\\lib\\site-packages\\sklearn\\utils\\validation.py:760: DataConversionWarning: A column-vector y was passed when a 1d array was expected. Please change the shape of y to (n_samples, ), for example using ravel().\n",
      "  y = column_or_1d(y, warn=True)\n"
     ]
    },
    {
     "name": "stdout",
     "output_type": "stream",
     "text": [
      "[CV] ......... C=100, degree=4, gamma=0.001, kernel=rbf, total=   0.0s\n",
      "[CV] C=100, degree=4, gamma=0.001, kernel=rbf ........................\n",
      "[CV] ......... C=100, degree=4, gamma=0.001, kernel=rbf, total=   0.0s\n",
      "[CV] C=100, degree=4, gamma=0.001, kernel=poly .......................\n",
      "[CV] ........ C=100, degree=4, gamma=0.001, kernel=poly, total=   0.2s\n",
      "[CV] C=100, degree=4, gamma=0.001, kernel=poly .......................\n"
     ]
    },
    {
     "name": "stderr",
     "output_type": "stream",
     "text": [
      "C:\\Users\\laure\\Anaconda3\\envs\\myenv\\lib\\site-packages\\sklearn\\utils\\validation.py:760: DataConversionWarning: A column-vector y was passed when a 1d array was expected. Please change the shape of y to (n_samples, ), for example using ravel().\n",
      "  y = column_or_1d(y, warn=True)\n",
      "C:\\Users\\laure\\Anaconda3\\envs\\myenv\\lib\\site-packages\\sklearn\\utils\\validation.py:760: DataConversionWarning: A column-vector y was passed when a 1d array was expected. Please change the shape of y to (n_samples, ), for example using ravel().\n",
      "  y = column_or_1d(y, warn=True)\n"
     ]
    },
    {
     "name": "stdout",
     "output_type": "stream",
     "text": [
      "[CV] ........ C=100, degree=4, gamma=0.001, kernel=poly, total=   0.2s\n",
      "[CV] C=100, degree=4, gamma=0.001, kernel=poly .......................\n",
      "[CV] ........ C=100, degree=4, gamma=0.001, kernel=poly, total=   0.2s\n",
      "[CV] C=100, degree=4, gamma=0.001, kernel=poly .......................\n"
     ]
    },
    {
     "name": "stderr",
     "output_type": "stream",
     "text": [
      "C:\\Users\\laure\\Anaconda3\\envs\\myenv\\lib\\site-packages\\sklearn\\utils\\validation.py:760: DataConversionWarning: A column-vector y was passed when a 1d array was expected. Please change the shape of y to (n_samples, ), for example using ravel().\n",
      "  y = column_or_1d(y, warn=True)\n",
      "C:\\Users\\laure\\Anaconda3\\envs\\myenv\\lib\\site-packages\\sklearn\\utils\\validation.py:760: DataConversionWarning: A column-vector y was passed when a 1d array was expected. Please change the shape of y to (n_samples, ), for example using ravel().\n",
      "  y = column_or_1d(y, warn=True)\n"
     ]
    },
    {
     "name": "stdout",
     "output_type": "stream",
     "text": [
      "[CV] ........ C=100, degree=4, gamma=0.001, kernel=poly, total=   0.1s\n",
      "[CV] C=100, degree=4, gamma=0.001, kernel=poly .......................\n",
      "[CV] ........ C=100, degree=4, gamma=0.001, kernel=poly, total=   0.2s\n",
      "[CV] C=100, degree=4, gamma=0.001, kernel=sigmoid ....................\n",
      "[CV] ..... C=100, degree=4, gamma=0.001, kernel=sigmoid, total=   0.0s\n",
      "[CV] C=100, degree=4, gamma=0.001, kernel=sigmoid ....................\n"
     ]
    },
    {
     "name": "stderr",
     "output_type": "stream",
     "text": [
      "C:\\Users\\laure\\Anaconda3\\envs\\myenv\\lib\\site-packages\\sklearn\\utils\\validation.py:760: DataConversionWarning: A column-vector y was passed when a 1d array was expected. Please change the shape of y to (n_samples, ), for example using ravel().\n",
      "  y = column_or_1d(y, warn=True)\n",
      "C:\\Users\\laure\\Anaconda3\\envs\\myenv\\lib\\site-packages\\sklearn\\utils\\validation.py:760: DataConversionWarning: A column-vector y was passed when a 1d array was expected. Please change the shape of y to (n_samples, ), for example using ravel().\n",
      "  y = column_or_1d(y, warn=True)\n",
      "C:\\Users\\laure\\Anaconda3\\envs\\myenv\\lib\\site-packages\\sklearn\\utils\\validation.py:760: DataConversionWarning: A column-vector y was passed when a 1d array was expected. Please change the shape of y to (n_samples, ), for example using ravel().\n",
      "  y = column_or_1d(y, warn=True)\n",
      "C:\\Users\\laure\\Anaconda3\\envs\\myenv\\lib\\site-packages\\sklearn\\utils\\validation.py:760: DataConversionWarning: A column-vector y was passed when a 1d array was expected. Please change the shape of y to (n_samples, ), for example using ravel().\n",
      "  y = column_or_1d(y, warn=True)\n",
      "C:\\Users\\laure\\Anaconda3\\envs\\myenv\\lib\\site-packages\\sklearn\\utils\\validation.py:760: DataConversionWarning: A column-vector y was passed when a 1d array was expected. Please change the shape of y to (n_samples, ), for example using ravel().\n",
      "  y = column_or_1d(y, warn=True)\n",
      "C:\\Users\\laure\\Anaconda3\\envs\\myenv\\lib\\site-packages\\sklearn\\utils\\validation.py:760: DataConversionWarning: A column-vector y was passed when a 1d array was expected. Please change the shape of y to (n_samples, ), for example using ravel().\n",
      "  y = column_or_1d(y, warn=True)\n",
      "C:\\Users\\laure\\Anaconda3\\envs\\myenv\\lib\\site-packages\\sklearn\\utils\\validation.py:760: DataConversionWarning: A column-vector y was passed when a 1d array was expected. Please change the shape of y to (n_samples, ), for example using ravel().\n",
      "  y = column_or_1d(y, warn=True)\n",
      "C:\\Users\\laure\\Anaconda3\\envs\\myenv\\lib\\site-packages\\sklearn\\utils\\validation.py:760: DataConversionWarning: A column-vector y was passed when a 1d array was expected. Please change the shape of y to (n_samples, ), for example using ravel().\n",
      "  y = column_or_1d(y, warn=True)\n",
      "C:\\Users\\laure\\Anaconda3\\envs\\myenv\\lib\\site-packages\\sklearn\\utils\\validation.py:760: DataConversionWarning: A column-vector y was passed when a 1d array was expected. Please change the shape of y to (n_samples, ), for example using ravel().\n",
      "  y = column_or_1d(y, warn=True)\n"
     ]
    },
    {
     "name": "stdout",
     "output_type": "stream",
     "text": [
      "[CV] ..... C=100, degree=4, gamma=0.001, kernel=sigmoid, total=   0.0s\n",
      "[CV] C=100, degree=4, gamma=0.001, kernel=sigmoid ....................\n",
      "[CV] ..... C=100, degree=4, gamma=0.001, kernel=sigmoid, total=   0.0s\n",
      "[CV] C=100, degree=4, gamma=0.001, kernel=sigmoid ....................\n",
      "[CV] ..... C=100, degree=4, gamma=0.001, kernel=sigmoid, total=   0.0s\n",
      "[CV] C=100, degree=4, gamma=0.001, kernel=sigmoid ....................\n",
      "[CV] ..... C=100, degree=4, gamma=0.001, kernel=sigmoid, total=   0.0s\n",
      "[CV] C=100, degree=5, gamma=1, kernel=linear .........................\n",
      "[CV] .......... C=100, degree=5, gamma=1, kernel=linear, total=   0.0s\n",
      "[CV] C=100, degree=5, gamma=1, kernel=linear .........................\n",
      "[CV] .......... C=100, degree=5, gamma=1, kernel=linear, total=   0.0s\n",
      "[CV] C=100, degree=5, gamma=1, kernel=linear .........................\n",
      "[CV] .......... C=100, degree=5, gamma=1, kernel=linear, total=   0.0s\n",
      "[CV] C=100, degree=5, gamma=1, kernel=linear .........................\n",
      "[CV] .......... C=100, degree=5, gamma=1, kernel=linear, total=   0.0s\n",
      "[CV] C=100, degree=5, gamma=1, kernel=linear .........................\n",
      "[CV] .......... C=100, degree=5, gamma=1, kernel=linear, total=   0.0s\n",
      "[CV] C=100, degree=5, gamma=1, kernel=rbf ............................\n",
      "[CV] ............. C=100, degree=5, gamma=1, kernel=rbf, total=   0.0s\n",
      "[CV] C=100, degree=5, gamma=1, kernel=rbf ............................\n",
      "[CV] ............. C=100, degree=5, gamma=1, kernel=rbf, total=   0.0s\n",
      "[CV] C=100, degree=5, gamma=1, kernel=rbf ............................\n",
      "[CV] ............. C=100, degree=5, gamma=1, kernel=rbf, total=   0.0s\n",
      "[CV] C=100, degree=5, gamma=1, kernel=rbf ............................\n",
      "[CV] ............. C=100, degree=5, gamma=1, kernel=rbf, total=   0.0s\n",
      "[CV] C=100, degree=5, gamma=1, kernel=rbf ............................\n"
     ]
    },
    {
     "name": "stderr",
     "output_type": "stream",
     "text": [
      "C:\\Users\\laure\\Anaconda3\\envs\\myenv\\lib\\site-packages\\sklearn\\utils\\validation.py:760: DataConversionWarning: A column-vector y was passed when a 1d array was expected. Please change the shape of y to (n_samples, ), for example using ravel().\n",
      "  y = column_or_1d(y, warn=True)\n",
      "C:\\Users\\laure\\Anaconda3\\envs\\myenv\\lib\\site-packages\\sklearn\\utils\\validation.py:760: DataConversionWarning: A column-vector y was passed when a 1d array was expected. Please change the shape of y to (n_samples, ), for example using ravel().\n",
      "  y = column_or_1d(y, warn=True)\n",
      "C:\\Users\\laure\\Anaconda3\\envs\\myenv\\lib\\site-packages\\sklearn\\utils\\validation.py:760: DataConversionWarning: A column-vector y was passed when a 1d array was expected. Please change the shape of y to (n_samples, ), for example using ravel().\n",
      "  y = column_or_1d(y, warn=True)\n",
      "C:\\Users\\laure\\Anaconda3\\envs\\myenv\\lib\\site-packages\\sklearn\\utils\\validation.py:760: DataConversionWarning: A column-vector y was passed when a 1d array was expected. Please change the shape of y to (n_samples, ), for example using ravel().\n",
      "  y = column_or_1d(y, warn=True)\n",
      "C:\\Users\\laure\\Anaconda3\\envs\\myenv\\lib\\site-packages\\sklearn\\utils\\validation.py:760: DataConversionWarning: A column-vector y was passed when a 1d array was expected. Please change the shape of y to (n_samples, ), for example using ravel().\n",
      "  y = column_or_1d(y, warn=True)\n",
      "C:\\Users\\laure\\Anaconda3\\envs\\myenv\\lib\\site-packages\\sklearn\\utils\\validation.py:760: DataConversionWarning: A column-vector y was passed when a 1d array was expected. Please change the shape of y to (n_samples, ), for example using ravel().\n",
      "  y = column_or_1d(y, warn=True)\n",
      "C:\\Users\\laure\\Anaconda3\\envs\\myenv\\lib\\site-packages\\sklearn\\utils\\validation.py:760: DataConversionWarning: A column-vector y was passed when a 1d array was expected. Please change the shape of y to (n_samples, ), for example using ravel().\n",
      "  y = column_or_1d(y, warn=True)\n",
      "C:\\Users\\laure\\Anaconda3\\envs\\myenv\\lib\\site-packages\\sklearn\\utils\\validation.py:760: DataConversionWarning: A column-vector y was passed when a 1d array was expected. Please change the shape of y to (n_samples, ), for example using ravel().\n",
      "  y = column_or_1d(y, warn=True)\n",
      "C:\\Users\\laure\\Anaconda3\\envs\\myenv\\lib\\site-packages\\sklearn\\utils\\validation.py:760: DataConversionWarning: A column-vector y was passed when a 1d array was expected. Please change the shape of y to (n_samples, ), for example using ravel().\n",
      "  y = column_or_1d(y, warn=True)\n",
      "C:\\Users\\laure\\Anaconda3\\envs\\myenv\\lib\\site-packages\\sklearn\\utils\\validation.py:760: DataConversionWarning: A column-vector y was passed when a 1d array was expected. Please change the shape of y to (n_samples, ), for example using ravel().\n",
      "  y = column_or_1d(y, warn=True)\n",
      "C:\\Users\\laure\\Anaconda3\\envs\\myenv\\lib\\site-packages\\sklearn\\utils\\validation.py:760: DataConversionWarning: A column-vector y was passed when a 1d array was expected. Please change the shape of y to (n_samples, ), for example using ravel().\n",
      "  y = column_or_1d(y, warn=True)\n",
      "C:\\Users\\laure\\Anaconda3\\envs\\myenv\\lib\\site-packages\\sklearn\\utils\\validation.py:760: DataConversionWarning: A column-vector y was passed when a 1d array was expected. Please change the shape of y to (n_samples, ), for example using ravel().\n",
      "  y = column_or_1d(y, warn=True)\n",
      "C:\\Users\\laure\\Anaconda3\\envs\\myenv\\lib\\site-packages\\sklearn\\utils\\validation.py:760: DataConversionWarning: A column-vector y was passed when a 1d array was expected. Please change the shape of y to (n_samples, ), for example using ravel().\n",
      "  y = column_or_1d(y, warn=True)\n",
      "C:\\Users\\laure\\Anaconda3\\envs\\myenv\\lib\\site-packages\\sklearn\\utils\\validation.py:760: DataConversionWarning: A column-vector y was passed when a 1d array was expected. Please change the shape of y to (n_samples, ), for example using ravel().\n",
      "  y = column_or_1d(y, warn=True)\n",
      "C:\\Users\\laure\\Anaconda3\\envs\\myenv\\lib\\site-packages\\sklearn\\utils\\validation.py:760: DataConversionWarning: A column-vector y was passed when a 1d array was expected. Please change the shape of y to (n_samples, ), for example using ravel().\n",
      "  y = column_or_1d(y, warn=True)\n",
      "C:\\Users\\laure\\Anaconda3\\envs\\myenv\\lib\\site-packages\\sklearn\\utils\\validation.py:760: DataConversionWarning: A column-vector y was passed when a 1d array was expected. Please change the shape of y to (n_samples, ), for example using ravel().\n",
      "  y = column_or_1d(y, warn=True)\n",
      "C:\\Users\\laure\\Anaconda3\\envs\\myenv\\lib\\site-packages\\sklearn\\utils\\validation.py:760: DataConversionWarning: A column-vector y was passed when a 1d array was expected. Please change the shape of y to (n_samples, ), for example using ravel().\n",
      "  y = column_or_1d(y, warn=True)\n",
      "C:\\Users\\laure\\Anaconda3\\envs\\myenv\\lib\\site-packages\\sklearn\\utils\\validation.py:760: DataConversionWarning: A column-vector y was passed when a 1d array was expected. Please change the shape of y to (n_samples, ), for example using ravel().\n",
      "  y = column_or_1d(y, warn=True)\n"
     ]
    },
    {
     "name": "stdout",
     "output_type": "stream",
     "text": [
      "[CV] ............. C=100, degree=5, gamma=1, kernel=rbf, total=   0.0s\n",
      "[CV] C=100, degree=5, gamma=1, kernel=poly ...........................\n",
      "[CV] ............ C=100, degree=5, gamma=1, kernel=poly, total=   0.0s\n",
      "[CV] C=100, degree=5, gamma=1, kernel=poly ...........................\n",
      "[CV] ............ C=100, degree=5, gamma=1, kernel=poly, total=   0.0s\n",
      "[CV] C=100, degree=5, gamma=1, kernel=poly ...........................\n",
      "[CV] ............ C=100, degree=5, gamma=1, kernel=poly, total=   0.0s\n",
      "[CV] C=100, degree=5, gamma=1, kernel=poly ...........................\n",
      "[CV] ............ C=100, degree=5, gamma=1, kernel=poly, total=   0.0s\n",
      "[CV] C=100, degree=5, gamma=1, kernel=poly ...........................\n",
      "[CV] ............ C=100, degree=5, gamma=1, kernel=poly, total=   0.0s\n",
      "[CV] C=100, degree=5, gamma=1, kernel=sigmoid ........................\n",
      "[CV] ......... C=100, degree=5, gamma=1, kernel=sigmoid, total=   0.0s\n",
      "[CV] C=100, degree=5, gamma=1, kernel=sigmoid ........................\n",
      "[CV] ......... C=100, degree=5, gamma=1, kernel=sigmoid, total=   0.0s\n",
      "[CV] C=100, degree=5, gamma=1, kernel=sigmoid ........................\n",
      "[CV] ......... C=100, degree=5, gamma=1, kernel=sigmoid, total=   0.0s\n",
      "[CV] C=100, degree=5, gamma=1, kernel=sigmoid ........................\n",
      "[CV] ......... C=100, degree=5, gamma=1, kernel=sigmoid, total=   0.0s\n",
      "[CV] C=100, degree=5, gamma=1, kernel=sigmoid ........................\n",
      "[CV] ......... C=100, degree=5, gamma=1, kernel=sigmoid, total=   0.0s\n",
      "[CV] C=100, degree=5, gamma=0.1, kernel=linear .......................\n",
      "[CV] ........ C=100, degree=5, gamma=0.1, kernel=linear, total=   0.0s\n",
      "[CV] C=100, degree=5, gamma=0.1, kernel=linear .......................\n",
      "[CV] ........ C=100, degree=5, gamma=0.1, kernel=linear, total=   0.0s\n",
      "[CV] C=100, degree=5, gamma=0.1, kernel=linear .......................\n",
      "[CV] ........ C=100, degree=5, gamma=0.1, kernel=linear, total=   0.0s\n",
      "[CV] C=100, degree=5, gamma=0.1, kernel=linear .......................\n",
      "[CV] ........ C=100, degree=5, gamma=0.1, kernel=linear, total=   0.0s\n",
      "[CV] C=100, degree=5, gamma=0.1, kernel=linear .......................\n",
      "[CV] ........ C=100, degree=5, gamma=0.1, kernel=linear, total=   0.0s\n",
      "[CV] C=100, degree=5, gamma=0.1, kernel=rbf ..........................\n",
      "[CV] ........... C=100, degree=5, gamma=0.1, kernel=rbf, total=   0.0s\n",
      "[CV] C=100, degree=5, gamma=0.1, kernel=rbf ..........................\n",
      "[CV] ........... C=100, degree=5, gamma=0.1, kernel=rbf, total=   0.0s\n",
      "[CV] C=100, degree=5, gamma=0.1, kernel=rbf ..........................\n"
     ]
    },
    {
     "name": "stderr",
     "output_type": "stream",
     "text": [
      "C:\\Users\\laure\\Anaconda3\\envs\\myenv\\lib\\site-packages\\sklearn\\utils\\validation.py:760: DataConversionWarning: A column-vector y was passed when a 1d array was expected. Please change the shape of y to (n_samples, ), for example using ravel().\n",
      "  y = column_or_1d(y, warn=True)\n",
      "C:\\Users\\laure\\Anaconda3\\envs\\myenv\\lib\\site-packages\\sklearn\\utils\\validation.py:760: DataConversionWarning: A column-vector y was passed when a 1d array was expected. Please change the shape of y to (n_samples, ), for example using ravel().\n",
      "  y = column_or_1d(y, warn=True)\n",
      "C:\\Users\\laure\\Anaconda3\\envs\\myenv\\lib\\site-packages\\sklearn\\utils\\validation.py:760: DataConversionWarning: A column-vector y was passed when a 1d array was expected. Please change the shape of y to (n_samples, ), for example using ravel().\n",
      "  y = column_or_1d(y, warn=True)\n",
      "C:\\Users\\laure\\Anaconda3\\envs\\myenv\\lib\\site-packages\\sklearn\\utils\\validation.py:760: DataConversionWarning: A column-vector y was passed when a 1d array was expected. Please change the shape of y to (n_samples, ), for example using ravel().\n",
      "  y = column_or_1d(y, warn=True)\n",
      "C:\\Users\\laure\\Anaconda3\\envs\\myenv\\lib\\site-packages\\sklearn\\utils\\validation.py:760: DataConversionWarning: A column-vector y was passed when a 1d array was expected. Please change the shape of y to (n_samples, ), for example using ravel().\n",
      "  y = column_or_1d(y, warn=True)\n",
      "C:\\Users\\laure\\Anaconda3\\envs\\myenv\\lib\\site-packages\\sklearn\\utils\\validation.py:760: DataConversionWarning: A column-vector y was passed when a 1d array was expected. Please change the shape of y to (n_samples, ), for example using ravel().\n",
      "  y = column_or_1d(y, warn=True)\n",
      "C:\\Users\\laure\\Anaconda3\\envs\\myenv\\lib\\site-packages\\sklearn\\utils\\validation.py:760: DataConversionWarning: A column-vector y was passed when a 1d array was expected. Please change the shape of y to (n_samples, ), for example using ravel().\n",
      "  y = column_or_1d(y, warn=True)\n",
      "C:\\Users\\laure\\Anaconda3\\envs\\myenv\\lib\\site-packages\\sklearn\\utils\\validation.py:760: DataConversionWarning: A column-vector y was passed when a 1d array was expected. Please change the shape of y to (n_samples, ), for example using ravel().\n",
      "  y = column_or_1d(y, warn=True)\n",
      "C:\\Users\\laure\\Anaconda3\\envs\\myenv\\lib\\site-packages\\sklearn\\utils\\validation.py:760: DataConversionWarning: A column-vector y was passed when a 1d array was expected. Please change the shape of y to (n_samples, ), for example using ravel().\n",
      "  y = column_or_1d(y, warn=True)\n"
     ]
    },
    {
     "name": "stdout",
     "output_type": "stream",
     "text": [
      "[CV] ........... C=100, degree=5, gamma=0.1, kernel=rbf, total=   0.0s\n",
      "[CV] C=100, degree=5, gamma=0.1, kernel=rbf ..........................\n",
      "[CV] ........... C=100, degree=5, gamma=0.1, kernel=rbf, total=   0.0s\n",
      "[CV] C=100, degree=5, gamma=0.1, kernel=rbf ..........................\n",
      "[CV] ........... C=100, degree=5, gamma=0.1, kernel=rbf, total=   0.0s\n",
      "[CV] C=100, degree=5, gamma=0.1, kernel=poly .........................\n",
      "[CV] .......... C=100, degree=5, gamma=0.1, kernel=poly, total=   0.1s\n",
      "[CV] C=100, degree=5, gamma=0.1, kernel=poly .........................\n"
     ]
    },
    {
     "name": "stderr",
     "output_type": "stream",
     "text": [
      "C:\\Users\\laure\\Anaconda3\\envs\\myenv\\lib\\site-packages\\sklearn\\utils\\validation.py:760: DataConversionWarning: A column-vector y was passed when a 1d array was expected. Please change the shape of y to (n_samples, ), for example using ravel().\n",
      "  y = column_or_1d(y, warn=True)\n",
      "C:\\Users\\laure\\Anaconda3\\envs\\myenv\\lib\\site-packages\\sklearn\\utils\\validation.py:760: DataConversionWarning: A column-vector y was passed when a 1d array was expected. Please change the shape of y to (n_samples, ), for example using ravel().\n",
      "  y = column_or_1d(y, warn=True)\n"
     ]
    },
    {
     "name": "stdout",
     "output_type": "stream",
     "text": [
      "[CV] .......... C=100, degree=5, gamma=0.1, kernel=poly, total=   0.1s\n",
      "[CV] C=100, degree=5, gamma=0.1, kernel=poly .........................\n",
      "[CV] .......... C=100, degree=5, gamma=0.1, kernel=poly, total=   0.2s\n",
      "[CV] C=100, degree=5, gamma=0.1, kernel=poly .........................\n"
     ]
    },
    {
     "name": "stderr",
     "output_type": "stream",
     "text": [
      "C:\\Users\\laure\\Anaconda3\\envs\\myenv\\lib\\site-packages\\sklearn\\utils\\validation.py:760: DataConversionWarning: A column-vector y was passed when a 1d array was expected. Please change the shape of y to (n_samples, ), for example using ravel().\n",
      "  y = column_or_1d(y, warn=True)\n",
      "C:\\Users\\laure\\Anaconda3\\envs\\myenv\\lib\\site-packages\\sklearn\\utils\\validation.py:760: DataConversionWarning: A column-vector y was passed when a 1d array was expected. Please change the shape of y to (n_samples, ), for example using ravel().\n",
      "  y = column_or_1d(y, warn=True)\n"
     ]
    },
    {
     "name": "stdout",
     "output_type": "stream",
     "text": [
      "[CV] .......... C=100, degree=5, gamma=0.1, kernel=poly, total=   0.1s\n",
      "[CV] C=100, degree=5, gamma=0.1, kernel=poly .........................\n",
      "[CV] .......... C=100, degree=5, gamma=0.1, kernel=poly, total=   0.1s\n",
      "[CV] C=100, degree=5, gamma=0.1, kernel=sigmoid ......................\n",
      "[CV] ....... C=100, degree=5, gamma=0.1, kernel=sigmoid, total=   0.0s\n",
      "[CV] C=100, degree=5, gamma=0.1, kernel=sigmoid ......................\n",
      "[CV] ....... C=100, degree=5, gamma=0.1, kernel=sigmoid, total=   0.0s\n",
      "[CV] C=100, degree=5, gamma=0.1, kernel=sigmoid ......................\n"
     ]
    },
    {
     "name": "stderr",
     "output_type": "stream",
     "text": [
      "C:\\Users\\laure\\Anaconda3\\envs\\myenv\\lib\\site-packages\\sklearn\\utils\\validation.py:760: DataConversionWarning: A column-vector y was passed when a 1d array was expected. Please change the shape of y to (n_samples, ), for example using ravel().\n",
      "  y = column_or_1d(y, warn=True)\n",
      "C:\\Users\\laure\\Anaconda3\\envs\\myenv\\lib\\site-packages\\sklearn\\utils\\validation.py:760: DataConversionWarning: A column-vector y was passed when a 1d array was expected. Please change the shape of y to (n_samples, ), for example using ravel().\n",
      "  y = column_or_1d(y, warn=True)\n",
      "C:\\Users\\laure\\Anaconda3\\envs\\myenv\\lib\\site-packages\\sklearn\\utils\\validation.py:760: DataConversionWarning: A column-vector y was passed when a 1d array was expected. Please change the shape of y to (n_samples, ), for example using ravel().\n",
      "  y = column_or_1d(y, warn=True)\n",
      "C:\\Users\\laure\\Anaconda3\\envs\\myenv\\lib\\site-packages\\sklearn\\utils\\validation.py:760: DataConversionWarning: A column-vector y was passed when a 1d array was expected. Please change the shape of y to (n_samples, ), for example using ravel().\n",
      "  y = column_or_1d(y, warn=True)\n",
      "C:\\Users\\laure\\Anaconda3\\envs\\myenv\\lib\\site-packages\\sklearn\\utils\\validation.py:760: DataConversionWarning: A column-vector y was passed when a 1d array was expected. Please change the shape of y to (n_samples, ), for example using ravel().\n",
      "  y = column_or_1d(y, warn=True)\n",
      "C:\\Users\\laure\\Anaconda3\\envs\\myenv\\lib\\site-packages\\sklearn\\utils\\validation.py:760: DataConversionWarning: A column-vector y was passed when a 1d array was expected. Please change the shape of y to (n_samples, ), for example using ravel().\n",
      "  y = column_or_1d(y, warn=True)\n",
      "C:\\Users\\laure\\Anaconda3\\envs\\myenv\\lib\\site-packages\\sklearn\\utils\\validation.py:760: DataConversionWarning: A column-vector y was passed when a 1d array was expected. Please change the shape of y to (n_samples, ), for example using ravel().\n",
      "  y = column_or_1d(y, warn=True)\n",
      "C:\\Users\\laure\\Anaconda3\\envs\\myenv\\lib\\site-packages\\sklearn\\utils\\validation.py:760: DataConversionWarning: A column-vector y was passed when a 1d array was expected. Please change the shape of y to (n_samples, ), for example using ravel().\n",
      "  y = column_or_1d(y, warn=True)\n",
      "C:\\Users\\laure\\Anaconda3\\envs\\myenv\\lib\\site-packages\\sklearn\\utils\\validation.py:760: DataConversionWarning: A column-vector y was passed when a 1d array was expected. Please change the shape of y to (n_samples, ), for example using ravel().\n",
      "  y = column_or_1d(y, warn=True)\n",
      "C:\\Users\\laure\\Anaconda3\\envs\\myenv\\lib\\site-packages\\sklearn\\utils\\validation.py:760: DataConversionWarning: A column-vector y was passed when a 1d array was expected. Please change the shape of y to (n_samples, ), for example using ravel().\n",
      "  y = column_or_1d(y, warn=True)\n",
      "C:\\Users\\laure\\Anaconda3\\envs\\myenv\\lib\\site-packages\\sklearn\\utils\\validation.py:760: DataConversionWarning: A column-vector y was passed when a 1d array was expected. Please change the shape of y to (n_samples, ), for example using ravel().\n",
      "  y = column_or_1d(y, warn=True)\n"
     ]
    },
    {
     "name": "stdout",
     "output_type": "stream",
     "text": [
      "[CV] ....... C=100, degree=5, gamma=0.1, kernel=sigmoid, total=   0.0s\n",
      "[CV] C=100, degree=5, gamma=0.1, kernel=sigmoid ......................\n",
      "[CV] ....... C=100, degree=5, gamma=0.1, kernel=sigmoid, total=   0.0s\n",
      "[CV] C=100, degree=5, gamma=0.1, kernel=sigmoid ......................\n",
      "[CV] ....... C=100, degree=5, gamma=0.1, kernel=sigmoid, total=   0.0s\n",
      "[CV] C=100, degree=5, gamma=0.01, kernel=linear ......................\n",
      "[CV] ....... C=100, degree=5, gamma=0.01, kernel=linear, total=   0.0s\n",
      "[CV] C=100, degree=5, gamma=0.01, kernel=linear ......................\n",
      "[CV] ....... C=100, degree=5, gamma=0.01, kernel=linear, total=   0.0s\n",
      "[CV] C=100, degree=5, gamma=0.01, kernel=linear ......................\n",
      "[CV] ....... C=100, degree=5, gamma=0.01, kernel=linear, total=   0.0s\n",
      "[CV] C=100, degree=5, gamma=0.01, kernel=linear ......................\n",
      "[CV] ....... C=100, degree=5, gamma=0.01, kernel=linear, total=   0.0s\n",
      "[CV] C=100, degree=5, gamma=0.01, kernel=linear ......................\n",
      "[CV] ....... C=100, degree=5, gamma=0.01, kernel=linear, total=   0.0s\n",
      "[CV] C=100, degree=5, gamma=0.01, kernel=rbf .........................\n",
      "[CV] .......... C=100, degree=5, gamma=0.01, kernel=rbf, total=   0.0s\n",
      "[CV] C=100, degree=5, gamma=0.01, kernel=rbf .........................\n",
      "[CV] .......... C=100, degree=5, gamma=0.01, kernel=rbf, total=   0.0s\n",
      "[CV] C=100, degree=5, gamma=0.01, kernel=rbf .........................\n",
      "[CV] .......... C=100, degree=5, gamma=0.01, kernel=rbf, total=   0.0s\n",
      "[CV] C=100, degree=5, gamma=0.01, kernel=rbf .........................\n",
      "[CV] .......... C=100, degree=5, gamma=0.01, kernel=rbf, total=   0.0s\n",
      "[CV] C=100, degree=5, gamma=0.01, kernel=rbf .........................\n"
     ]
    },
    {
     "name": "stderr",
     "output_type": "stream",
     "text": [
      "C:\\Users\\laure\\Anaconda3\\envs\\myenv\\lib\\site-packages\\sklearn\\utils\\validation.py:760: DataConversionWarning: A column-vector y was passed when a 1d array was expected. Please change the shape of y to (n_samples, ), for example using ravel().\n",
      "  y = column_or_1d(y, warn=True)\n",
      "C:\\Users\\laure\\Anaconda3\\envs\\myenv\\lib\\site-packages\\sklearn\\utils\\validation.py:760: DataConversionWarning: A column-vector y was passed when a 1d array was expected. Please change the shape of y to (n_samples, ), for example using ravel().\n",
      "  y = column_or_1d(y, warn=True)\n",
      "C:\\Users\\laure\\Anaconda3\\envs\\myenv\\lib\\site-packages\\sklearn\\utils\\validation.py:760: DataConversionWarning: A column-vector y was passed when a 1d array was expected. Please change the shape of y to (n_samples, ), for example using ravel().\n",
      "  y = column_or_1d(y, warn=True)\n",
      "C:\\Users\\laure\\Anaconda3\\envs\\myenv\\lib\\site-packages\\sklearn\\utils\\validation.py:760: DataConversionWarning: A column-vector y was passed when a 1d array was expected. Please change the shape of y to (n_samples, ), for example using ravel().\n",
      "  y = column_or_1d(y, warn=True)\n",
      "C:\\Users\\laure\\Anaconda3\\envs\\myenv\\lib\\site-packages\\sklearn\\utils\\validation.py:760: DataConversionWarning: A column-vector y was passed when a 1d array was expected. Please change the shape of y to (n_samples, ), for example using ravel().\n",
      "  y = column_or_1d(y, warn=True)\n"
     ]
    },
    {
     "name": "stdout",
     "output_type": "stream",
     "text": [
      "[CV] .......... C=100, degree=5, gamma=0.01, kernel=rbf, total=   0.0s\n",
      "[CV] C=100, degree=5, gamma=0.01, kernel=poly ........................\n",
      "[CV] ......... C=100, degree=5, gamma=0.01, kernel=poly, total=   0.2s\n",
      "[CV] C=100, degree=5, gamma=0.01, kernel=poly ........................\n"
     ]
    },
    {
     "name": "stderr",
     "output_type": "stream",
     "text": [
      "C:\\Users\\laure\\Anaconda3\\envs\\myenv\\lib\\site-packages\\sklearn\\utils\\validation.py:760: DataConversionWarning: A column-vector y was passed when a 1d array was expected. Please change the shape of y to (n_samples, ), for example using ravel().\n",
      "  y = column_or_1d(y, warn=True)\n",
      "C:\\Users\\laure\\Anaconda3\\envs\\myenv\\lib\\site-packages\\sklearn\\utils\\validation.py:760: DataConversionWarning: A column-vector y was passed when a 1d array was expected. Please change the shape of y to (n_samples, ), for example using ravel().\n",
      "  y = column_or_1d(y, warn=True)\n"
     ]
    },
    {
     "name": "stdout",
     "output_type": "stream",
     "text": [
      "[CV] ......... C=100, degree=5, gamma=0.01, kernel=poly, total=   0.2s\n",
      "[CV] C=100, degree=5, gamma=0.01, kernel=poly ........................\n",
      "[CV] ......... C=100, degree=5, gamma=0.01, kernel=poly, total=   0.2s\n",
      "[CV] C=100, degree=5, gamma=0.01, kernel=poly ........................\n"
     ]
    },
    {
     "name": "stderr",
     "output_type": "stream",
     "text": [
      "C:\\Users\\laure\\Anaconda3\\envs\\myenv\\lib\\site-packages\\sklearn\\utils\\validation.py:760: DataConversionWarning: A column-vector y was passed when a 1d array was expected. Please change the shape of y to (n_samples, ), for example using ravel().\n",
      "  y = column_or_1d(y, warn=True)\n",
      "C:\\Users\\laure\\Anaconda3\\envs\\myenv\\lib\\site-packages\\sklearn\\utils\\validation.py:760: DataConversionWarning: A column-vector y was passed when a 1d array was expected. Please change the shape of y to (n_samples, ), for example using ravel().\n",
      "  y = column_or_1d(y, warn=True)\n"
     ]
    },
    {
     "name": "stdout",
     "output_type": "stream",
     "text": [
      "[CV] ......... C=100, degree=5, gamma=0.01, kernel=poly, total=   0.2s\n",
      "[CV] C=100, degree=5, gamma=0.01, kernel=poly ........................\n",
      "[CV] ......... C=100, degree=5, gamma=0.01, kernel=poly, total=   0.1s\n",
      "[CV] C=100, degree=5, gamma=0.01, kernel=sigmoid .....................\n",
      "[CV] ...... C=100, degree=5, gamma=0.01, kernel=sigmoid, total=   0.0s\n",
      "[CV] C=100, degree=5, gamma=0.01, kernel=sigmoid .....................\n",
      "[CV] ...... C=100, degree=5, gamma=0.01, kernel=sigmoid, total=   0.0s\n",
      "[CV] C=100, degree=5, gamma=0.01, kernel=sigmoid .....................\n"
     ]
    },
    {
     "name": "stderr",
     "output_type": "stream",
     "text": [
      "C:\\Users\\laure\\Anaconda3\\envs\\myenv\\lib\\site-packages\\sklearn\\utils\\validation.py:760: DataConversionWarning: A column-vector y was passed when a 1d array was expected. Please change the shape of y to (n_samples, ), for example using ravel().\n",
      "  y = column_or_1d(y, warn=True)\n",
      "C:\\Users\\laure\\Anaconda3\\envs\\myenv\\lib\\site-packages\\sklearn\\utils\\validation.py:760: DataConversionWarning: A column-vector y was passed when a 1d array was expected. Please change the shape of y to (n_samples, ), for example using ravel().\n",
      "  y = column_or_1d(y, warn=True)\n",
      "C:\\Users\\laure\\Anaconda3\\envs\\myenv\\lib\\site-packages\\sklearn\\utils\\validation.py:760: DataConversionWarning: A column-vector y was passed when a 1d array was expected. Please change the shape of y to (n_samples, ), for example using ravel().\n",
      "  y = column_or_1d(y, warn=True)\n",
      "C:\\Users\\laure\\Anaconda3\\envs\\myenv\\lib\\site-packages\\sklearn\\utils\\validation.py:760: DataConversionWarning: A column-vector y was passed when a 1d array was expected. Please change the shape of y to (n_samples, ), for example using ravel().\n",
      "  y = column_or_1d(y, warn=True)\n",
      "C:\\Users\\laure\\Anaconda3\\envs\\myenv\\lib\\site-packages\\sklearn\\utils\\validation.py:760: DataConversionWarning: A column-vector y was passed when a 1d array was expected. Please change the shape of y to (n_samples, ), for example using ravel().\n",
      "  y = column_or_1d(y, warn=True)\n",
      "C:\\Users\\laure\\Anaconda3\\envs\\myenv\\lib\\site-packages\\sklearn\\utils\\validation.py:760: DataConversionWarning: A column-vector y was passed when a 1d array was expected. Please change the shape of y to (n_samples, ), for example using ravel().\n",
      "  y = column_or_1d(y, warn=True)\n",
      "C:\\Users\\laure\\Anaconda3\\envs\\myenv\\lib\\site-packages\\sklearn\\utils\\validation.py:760: DataConversionWarning: A column-vector y was passed when a 1d array was expected. Please change the shape of y to (n_samples, ), for example using ravel().\n",
      "  y = column_or_1d(y, warn=True)\n",
      "C:\\Users\\laure\\Anaconda3\\envs\\myenv\\lib\\site-packages\\sklearn\\utils\\validation.py:760: DataConversionWarning: A column-vector y was passed when a 1d array was expected. Please change the shape of y to (n_samples, ), for example using ravel().\n",
      "  y = column_or_1d(y, warn=True)\n",
      "C:\\Users\\laure\\Anaconda3\\envs\\myenv\\lib\\site-packages\\sklearn\\utils\\validation.py:760: DataConversionWarning: A column-vector y was passed when a 1d array was expected. Please change the shape of y to (n_samples, ), for example using ravel().\n",
      "  y = column_or_1d(y, warn=True)\n",
      "C:\\Users\\laure\\Anaconda3\\envs\\myenv\\lib\\site-packages\\sklearn\\utils\\validation.py:760: DataConversionWarning: A column-vector y was passed when a 1d array was expected. Please change the shape of y to (n_samples, ), for example using ravel().\n",
      "  y = column_or_1d(y, warn=True)\n",
      "C:\\Users\\laure\\Anaconda3\\envs\\myenv\\lib\\site-packages\\sklearn\\utils\\validation.py:760: DataConversionWarning: A column-vector y was passed when a 1d array was expected. Please change the shape of y to (n_samples, ), for example using ravel().\n",
      "  y = column_or_1d(y, warn=True)\n",
      "C:\\Users\\laure\\Anaconda3\\envs\\myenv\\lib\\site-packages\\sklearn\\utils\\validation.py:760: DataConversionWarning: A column-vector y was passed when a 1d array was expected. Please change the shape of y to (n_samples, ), for example using ravel().\n",
      "  y = column_or_1d(y, warn=True)\n",
      "C:\\Users\\laure\\Anaconda3\\envs\\myenv\\lib\\site-packages\\sklearn\\utils\\validation.py:760: DataConversionWarning: A column-vector y was passed when a 1d array was expected. Please change the shape of y to (n_samples, ), for example using ravel().\n",
      "  y = column_or_1d(y, warn=True)\n"
     ]
    },
    {
     "name": "stdout",
     "output_type": "stream",
     "text": [
      "[CV] ...... C=100, degree=5, gamma=0.01, kernel=sigmoid, total=   0.0s\n",
      "[CV] C=100, degree=5, gamma=0.01, kernel=sigmoid .....................\n",
      "[CV] ...... C=100, degree=5, gamma=0.01, kernel=sigmoid, total=   0.0s\n",
      "[CV] C=100, degree=5, gamma=0.01, kernel=sigmoid .....................\n",
      "[CV] ...... C=100, degree=5, gamma=0.01, kernel=sigmoid, total=   0.0s\n",
      "[CV] C=100, degree=5, gamma=0.001, kernel=linear .....................\n",
      "[CV] ...... C=100, degree=5, gamma=0.001, kernel=linear, total=   0.0s\n",
      "[CV] C=100, degree=5, gamma=0.001, kernel=linear .....................\n",
      "[CV] ...... C=100, degree=5, gamma=0.001, kernel=linear, total=   0.0s\n",
      "[CV] C=100, degree=5, gamma=0.001, kernel=linear .....................\n",
      "[CV] ...... C=100, degree=5, gamma=0.001, kernel=linear, total=   0.0s\n",
      "[CV] C=100, degree=5, gamma=0.001, kernel=linear .....................\n",
      "[CV] ...... C=100, degree=5, gamma=0.001, kernel=linear, total=   0.0s\n",
      "[CV] C=100, degree=5, gamma=0.001, kernel=linear .....................\n",
      "[CV] ...... C=100, degree=5, gamma=0.001, kernel=linear, total=   0.0s\n",
      "[CV] C=100, degree=5, gamma=0.001, kernel=rbf ........................\n",
      "[CV] ......... C=100, degree=5, gamma=0.001, kernel=rbf, total=   0.0s\n",
      "[CV] C=100, degree=5, gamma=0.001, kernel=rbf ........................\n",
      "[CV] ......... C=100, degree=5, gamma=0.001, kernel=rbf, total=   0.0s\n",
      "[CV] C=100, degree=5, gamma=0.001, kernel=rbf ........................\n",
      "[CV] ......... C=100, degree=5, gamma=0.001, kernel=rbf, total=   0.0s\n",
      "[CV] C=100, degree=5, gamma=0.001, kernel=rbf ........................\n",
      "[CV] ......... C=100, degree=5, gamma=0.001, kernel=rbf, total=   0.0s\n",
      "[CV] C=100, degree=5, gamma=0.001, kernel=rbf ........................\n",
      "[CV] ......... C=100, degree=5, gamma=0.001, kernel=rbf, total=   0.0s"
     ]
    },
    {
     "name": "stderr",
     "output_type": "stream",
     "text": [
      "C:\\Users\\laure\\Anaconda3\\envs\\myenv\\lib\\site-packages\\sklearn\\utils\\validation.py:760: DataConversionWarning: A column-vector y was passed when a 1d array was expected. Please change the shape of y to (n_samples, ), for example using ravel().\n",
      "  y = column_or_1d(y, warn=True)\n",
      "C:\\Users\\laure\\Anaconda3\\envs\\myenv\\lib\\site-packages\\sklearn\\utils\\validation.py:760: DataConversionWarning: A column-vector y was passed when a 1d array was expected. Please change the shape of y to (n_samples, ), for example using ravel().\n",
      "  y = column_or_1d(y, warn=True)\n",
      "C:\\Users\\laure\\Anaconda3\\envs\\myenv\\lib\\site-packages\\sklearn\\utils\\validation.py:760: DataConversionWarning: A column-vector y was passed when a 1d array was expected. Please change the shape of y to (n_samples, ), for example using ravel().\n",
      "  y = column_or_1d(y, warn=True)\n"
     ]
    },
    {
     "name": "stdout",
     "output_type": "stream",
     "text": [
      "\n",
      "[CV] C=100, degree=5, gamma=0.001, kernel=poly .......................\n",
      "[CV] ........ C=100, degree=5, gamma=0.001, kernel=poly, total=   0.1s\n",
      "[CV] C=100, degree=5, gamma=0.001, kernel=poly .......................\n"
     ]
    },
    {
     "name": "stderr",
     "output_type": "stream",
     "text": [
      "C:\\Users\\laure\\Anaconda3\\envs\\myenv\\lib\\site-packages\\sklearn\\utils\\validation.py:760: DataConversionWarning: A column-vector y was passed when a 1d array was expected. Please change the shape of y to (n_samples, ), for example using ravel().\n",
      "  y = column_or_1d(y, warn=True)\n"
     ]
    },
    {
     "name": "stdout",
     "output_type": "stream",
     "text": [
      "[CV] ........ C=100, degree=5, gamma=0.001, kernel=poly, total=   0.2s\n",
      "[CV] C=100, degree=5, gamma=0.001, kernel=poly .......................\n",
      "[CV] ........ C=100, degree=5, gamma=0.001, kernel=poly, total=   0.2s\n",
      "[CV] C=100, degree=5, gamma=0.001, kernel=poly .......................\n"
     ]
    },
    {
     "name": "stderr",
     "output_type": "stream",
     "text": [
      "C:\\Users\\laure\\Anaconda3\\envs\\myenv\\lib\\site-packages\\sklearn\\utils\\validation.py:760: DataConversionWarning: A column-vector y was passed when a 1d array was expected. Please change the shape of y to (n_samples, ), for example using ravel().\n",
      "  y = column_or_1d(y, warn=True)\n",
      "C:\\Users\\laure\\Anaconda3\\envs\\myenv\\lib\\site-packages\\sklearn\\utils\\validation.py:760: DataConversionWarning: A column-vector y was passed when a 1d array was expected. Please change the shape of y to (n_samples, ), for example using ravel().\n",
      "  y = column_or_1d(y, warn=True)\n"
     ]
    },
    {
     "name": "stdout",
     "output_type": "stream",
     "text": [
      "[CV] ........ C=100, degree=5, gamma=0.001, kernel=poly, total=   0.2s\n",
      "[CV] C=100, degree=5, gamma=0.001, kernel=poly .......................\n",
      "[CV] ........ C=100, degree=5, gamma=0.001, kernel=poly, total=   0.2s\n",
      "[CV] C=100, degree=5, gamma=0.001, kernel=sigmoid ....................\n"
     ]
    },
    {
     "name": "stderr",
     "output_type": "stream",
     "text": [
      "C:\\Users\\laure\\Anaconda3\\envs\\myenv\\lib\\site-packages\\sklearn\\utils\\validation.py:760: DataConversionWarning: A column-vector y was passed when a 1d array was expected. Please change the shape of y to (n_samples, ), for example using ravel().\n",
      "  y = column_or_1d(y, warn=True)\n",
      "C:\\Users\\laure\\Anaconda3\\envs\\myenv\\lib\\site-packages\\sklearn\\utils\\validation.py:760: DataConversionWarning: A column-vector y was passed when a 1d array was expected. Please change the shape of y to (n_samples, ), for example using ravel().\n",
      "  y = column_or_1d(y, warn=True)\n",
      "C:\\Users\\laure\\Anaconda3\\envs\\myenv\\lib\\site-packages\\sklearn\\utils\\validation.py:760: DataConversionWarning: A column-vector y was passed when a 1d array was expected. Please change the shape of y to (n_samples, ), for example using ravel().\n",
      "  y = column_or_1d(y, warn=True)\n",
      "C:\\Users\\laure\\Anaconda3\\envs\\myenv\\lib\\site-packages\\sklearn\\utils\\validation.py:760: DataConversionWarning: A column-vector y was passed when a 1d array was expected. Please change the shape of y to (n_samples, ), for example using ravel().\n",
      "  y = column_or_1d(y, warn=True)\n",
      "C:\\Users\\laure\\Anaconda3\\envs\\myenv\\lib\\site-packages\\sklearn\\utils\\validation.py:760: DataConversionWarning: A column-vector y was passed when a 1d array was expected. Please change the shape of y to (n_samples, ), for example using ravel().\n",
      "  y = column_or_1d(y, warn=True)\n",
      "C:\\Users\\laure\\Anaconda3\\envs\\myenv\\lib\\site-packages\\sklearn\\utils\\validation.py:760: DataConversionWarning: A column-vector y was passed when a 1d array was expected. Please change the shape of y to (n_samples, ), for example using ravel().\n",
      "  y = column_or_1d(y, warn=True)\n",
      "C:\\Users\\laure\\Anaconda3\\envs\\myenv\\lib\\site-packages\\sklearn\\utils\\validation.py:760: DataConversionWarning: A column-vector y was passed when a 1d array was expected. Please change the shape of y to (n_samples, ), for example using ravel().\n",
      "  y = column_or_1d(y, warn=True)\n",
      "C:\\Users\\laure\\Anaconda3\\envs\\myenv\\lib\\site-packages\\sklearn\\utils\\validation.py:760: DataConversionWarning: A column-vector y was passed when a 1d array was expected. Please change the shape of y to (n_samples, ), for example using ravel().\n",
      "  y = column_or_1d(y, warn=True)\n",
      "C:\\Users\\laure\\Anaconda3\\envs\\myenv\\lib\\site-packages\\sklearn\\utils\\validation.py:760: DataConversionWarning: A column-vector y was passed when a 1d array was expected. Please change the shape of y to (n_samples, ), for example using ravel().\n",
      "  y = column_or_1d(y, warn=True)\n",
      "C:\\Users\\laure\\Anaconda3\\envs\\myenv\\lib\\site-packages\\sklearn\\utils\\validation.py:760: DataConversionWarning: A column-vector y was passed when a 1d array was expected. Please change the shape of y to (n_samples, ), for example using ravel().\n",
      "  y = column_or_1d(y, warn=True)\n",
      "C:\\Users\\laure\\Anaconda3\\envs\\myenv\\lib\\site-packages\\sklearn\\utils\\validation.py:760: DataConversionWarning: A column-vector y was passed when a 1d array was expected. Please change the shape of y to (n_samples, ), for example using ravel().\n",
      "  y = column_or_1d(y, warn=True)\n"
     ]
    },
    {
     "name": "stdout",
     "output_type": "stream",
     "text": [
      "[CV] ..... C=100, degree=5, gamma=0.001, kernel=sigmoid, total=   0.0s\n",
      "[CV] C=100, degree=5, gamma=0.001, kernel=sigmoid ....................\n",
      "[CV] ..... C=100, degree=5, gamma=0.001, kernel=sigmoid, total=   0.0s\n",
      "[CV] C=100, degree=5, gamma=0.001, kernel=sigmoid ....................\n",
      "[CV] ..... C=100, degree=5, gamma=0.001, kernel=sigmoid, total=   0.0s\n",
      "[CV] C=100, degree=5, gamma=0.001, kernel=sigmoid ....................\n",
      "[CV] ..... C=100, degree=5, gamma=0.001, kernel=sigmoid, total=   0.0s\n",
      "[CV] C=100, degree=5, gamma=0.001, kernel=sigmoid ....................\n",
      "[CV] ..... C=100, degree=5, gamma=0.001, kernel=sigmoid, total=   0.0s\n",
      "[CV] C=100, degree=6, gamma=1, kernel=linear .........................\n",
      "[CV] .......... C=100, degree=6, gamma=1, kernel=linear, total=   0.0s\n",
      "[CV] C=100, degree=6, gamma=1, kernel=linear .........................\n",
      "[CV] .......... C=100, degree=6, gamma=1, kernel=linear, total=   0.0s\n",
      "[CV] C=100, degree=6, gamma=1, kernel=linear .........................\n",
      "[CV] .......... C=100, degree=6, gamma=1, kernel=linear, total=   0.0s\n",
      "[CV] C=100, degree=6, gamma=1, kernel=linear .........................\n",
      "[CV] .......... C=100, degree=6, gamma=1, kernel=linear, total=   0.0s\n",
      "[CV] C=100, degree=6, gamma=1, kernel=linear .........................\n",
      "[CV] .......... C=100, degree=6, gamma=1, kernel=linear, total=   0.0s\n",
      "[CV] C=100, degree=6, gamma=1, kernel=rbf ............................\n",
      "[CV] ............. C=100, degree=6, gamma=1, kernel=rbf, total=   0.0s\n"
     ]
    },
    {
     "name": "stderr",
     "output_type": "stream",
     "text": [
      "C:\\Users\\laure\\Anaconda3\\envs\\myenv\\lib\\site-packages\\sklearn\\utils\\validation.py:760: DataConversionWarning: A column-vector y was passed when a 1d array was expected. Please change the shape of y to (n_samples, ), for example using ravel().\n",
      "  y = column_or_1d(y, warn=True)\n",
      "C:\\Users\\laure\\Anaconda3\\envs\\myenv\\lib\\site-packages\\sklearn\\utils\\validation.py:760: DataConversionWarning: A column-vector y was passed when a 1d array was expected. Please change the shape of y to (n_samples, ), for example using ravel().\n",
      "  y = column_or_1d(y, warn=True)\n",
      "C:\\Users\\laure\\Anaconda3\\envs\\myenv\\lib\\site-packages\\sklearn\\utils\\validation.py:760: DataConversionWarning: A column-vector y was passed when a 1d array was expected. Please change the shape of y to (n_samples, ), for example using ravel().\n",
      "  y = column_or_1d(y, warn=True)\n",
      "C:\\Users\\laure\\Anaconda3\\envs\\myenv\\lib\\site-packages\\sklearn\\utils\\validation.py:760: DataConversionWarning: A column-vector y was passed when a 1d array was expected. Please change the shape of y to (n_samples, ), for example using ravel().\n",
      "  y = column_or_1d(y, warn=True)\n",
      "C:\\Users\\laure\\Anaconda3\\envs\\myenv\\lib\\site-packages\\sklearn\\utils\\validation.py:760: DataConversionWarning: A column-vector y was passed when a 1d array was expected. Please change the shape of y to (n_samples, ), for example using ravel().\n",
      "  y = column_or_1d(y, warn=True)\n",
      "C:\\Users\\laure\\Anaconda3\\envs\\myenv\\lib\\site-packages\\sklearn\\utils\\validation.py:760: DataConversionWarning: A column-vector y was passed when a 1d array was expected. Please change the shape of y to (n_samples, ), for example using ravel().\n",
      "  y = column_or_1d(y, warn=True)\n",
      "C:\\Users\\laure\\Anaconda3\\envs\\myenv\\lib\\site-packages\\sklearn\\utils\\validation.py:760: DataConversionWarning: A column-vector y was passed when a 1d array was expected. Please change the shape of y to (n_samples, ), for example using ravel().\n",
      "  y = column_or_1d(y, warn=True)\n",
      "C:\\Users\\laure\\Anaconda3\\envs\\myenv\\lib\\site-packages\\sklearn\\utils\\validation.py:760: DataConversionWarning: A column-vector y was passed when a 1d array was expected. Please change the shape of y to (n_samples, ), for example using ravel().\n",
      "  y = column_or_1d(y, warn=True)\n",
      "C:\\Users\\laure\\Anaconda3\\envs\\myenv\\lib\\site-packages\\sklearn\\utils\\validation.py:760: DataConversionWarning: A column-vector y was passed when a 1d array was expected. Please change the shape of y to (n_samples, ), for example using ravel().\n",
      "  y = column_or_1d(y, warn=True)\n",
      "C:\\Users\\laure\\Anaconda3\\envs\\myenv\\lib\\site-packages\\sklearn\\utils\\validation.py:760: DataConversionWarning: A column-vector y was passed when a 1d array was expected. Please change the shape of y to (n_samples, ), for example using ravel().\n",
      "  y = column_or_1d(y, warn=True)\n",
      "C:\\Users\\laure\\Anaconda3\\envs\\myenv\\lib\\site-packages\\sklearn\\utils\\validation.py:760: DataConversionWarning: A column-vector y was passed when a 1d array was expected. Please change the shape of y to (n_samples, ), for example using ravel().\n",
      "  y = column_or_1d(y, warn=True)\n",
      "C:\\Users\\laure\\Anaconda3\\envs\\myenv\\lib\\site-packages\\sklearn\\utils\\validation.py:760: DataConversionWarning: A column-vector y was passed when a 1d array was expected. Please change the shape of y to (n_samples, ), for example using ravel().\n",
      "  y = column_or_1d(y, warn=True)\n",
      "C:\\Users\\laure\\Anaconda3\\envs\\myenv\\lib\\site-packages\\sklearn\\utils\\validation.py:760: DataConversionWarning: A column-vector y was passed when a 1d array was expected. Please change the shape of y to (n_samples, ), for example using ravel().\n",
      "  y = column_or_1d(y, warn=True)\n",
      "C:\\Users\\laure\\Anaconda3\\envs\\myenv\\lib\\site-packages\\sklearn\\utils\\validation.py:760: DataConversionWarning: A column-vector y was passed when a 1d array was expected. Please change the shape of y to (n_samples, ), for example using ravel().\n",
      "  y = column_or_1d(y, warn=True)\n",
      "C:\\Users\\laure\\Anaconda3\\envs\\myenv\\lib\\site-packages\\sklearn\\utils\\validation.py:760: DataConversionWarning: A column-vector y was passed when a 1d array was expected. Please change the shape of y to (n_samples, ), for example using ravel().\n",
      "  y = column_or_1d(y, warn=True)\n"
     ]
    },
    {
     "name": "stdout",
     "output_type": "stream",
     "text": [
      "[CV] C=100, degree=6, gamma=1, kernel=rbf ............................\n",
      "[CV] ............. C=100, degree=6, gamma=1, kernel=rbf, total=   0.0s\n",
      "[CV] C=100, degree=6, gamma=1, kernel=rbf ............................\n",
      "[CV] ............. C=100, degree=6, gamma=1, kernel=rbf, total=   0.0s\n",
      "[CV] C=100, degree=6, gamma=1, kernel=rbf ............................\n",
      "[CV] ............. C=100, degree=6, gamma=1, kernel=rbf, total=   0.0s\n",
      "[CV] C=100, degree=6, gamma=1, kernel=rbf ............................\n",
      "[CV] ............. C=100, degree=6, gamma=1, kernel=rbf, total=   0.0s\n",
      "[CV] C=100, degree=6, gamma=1, kernel=poly ...........................\n",
      "[CV] ............ C=100, degree=6, gamma=1, kernel=poly, total=   0.0s\n",
      "[CV] C=100, degree=6, gamma=1, kernel=poly ...........................\n",
      "[CV] ............ C=100, degree=6, gamma=1, kernel=poly, total=   0.0s\n",
      "[CV] C=100, degree=6, gamma=1, kernel=poly ...........................\n",
      "[CV] ............ C=100, degree=6, gamma=1, kernel=poly, total=   0.0s\n",
      "[CV] C=100, degree=6, gamma=1, kernel=poly ...........................\n",
      "[CV] ............ C=100, degree=6, gamma=1, kernel=poly, total=   0.0s\n",
      "[CV] C=100, degree=6, gamma=1, kernel=poly ...........................\n",
      "[CV] ............ C=100, degree=6, gamma=1, kernel=poly, total=   0.0s\n",
      "[CV] C=100, degree=6, gamma=1, kernel=sigmoid ........................\n",
      "[CV] ......... C=100, degree=6, gamma=1, kernel=sigmoid, total=   0.0s\n",
      "[CV] C=100, degree=6, gamma=1, kernel=sigmoid ........................\n",
      "[CV] ......... C=100, degree=6, gamma=1, kernel=sigmoid, total=   0.0s\n",
      "[CV] C=100, degree=6, gamma=1, kernel=sigmoid ........................\n",
      "[CV] ......... C=100, degree=6, gamma=1, kernel=sigmoid, total=   0.0s\n",
      "[CV] C=100, degree=6, gamma=1, kernel=sigmoid ........................\n",
      "[CV] ......... C=100, degree=6, gamma=1, kernel=sigmoid, total=   0.0s\n",
      "[CV] C=100, degree=6, gamma=1, kernel=sigmoid ........................\n",
      "[CV] ......... C=100, degree=6, gamma=1, kernel=sigmoid, total=   0.0s\n",
      "[CV] C=100, degree=6, gamma=0.1, kernel=linear .......................\n",
      "[CV] ........ C=100, degree=6, gamma=0.1, kernel=linear, total=   0.0s\n",
      "[CV] C=100, degree=6, gamma=0.1, kernel=linear .......................\n"
     ]
    },
    {
     "name": "stderr",
     "output_type": "stream",
     "text": [
      "C:\\Users\\laure\\Anaconda3\\envs\\myenv\\lib\\site-packages\\sklearn\\utils\\validation.py:760: DataConversionWarning: A column-vector y was passed when a 1d array was expected. Please change the shape of y to (n_samples, ), for example using ravel().\n",
      "  y = column_or_1d(y, warn=True)\n",
      "C:\\Users\\laure\\Anaconda3\\envs\\myenv\\lib\\site-packages\\sklearn\\utils\\validation.py:760: DataConversionWarning: A column-vector y was passed when a 1d array was expected. Please change the shape of y to (n_samples, ), for example using ravel().\n",
      "  y = column_or_1d(y, warn=True)\n",
      "C:\\Users\\laure\\Anaconda3\\envs\\myenv\\lib\\site-packages\\sklearn\\utils\\validation.py:760: DataConversionWarning: A column-vector y was passed when a 1d array was expected. Please change the shape of y to (n_samples, ), for example using ravel().\n",
      "  y = column_or_1d(y, warn=True)\n",
      "C:\\Users\\laure\\Anaconda3\\envs\\myenv\\lib\\site-packages\\sklearn\\utils\\validation.py:760: DataConversionWarning: A column-vector y was passed when a 1d array was expected. Please change the shape of y to (n_samples, ), for example using ravel().\n",
      "  y = column_or_1d(y, warn=True)\n",
      "C:\\Users\\laure\\Anaconda3\\envs\\myenv\\lib\\site-packages\\sklearn\\utils\\validation.py:760: DataConversionWarning: A column-vector y was passed when a 1d array was expected. Please change the shape of y to (n_samples, ), for example using ravel().\n",
      "  y = column_or_1d(y, warn=True)\n",
      "C:\\Users\\laure\\Anaconda3\\envs\\myenv\\lib\\site-packages\\sklearn\\utils\\validation.py:760: DataConversionWarning: A column-vector y was passed when a 1d array was expected. Please change the shape of y to (n_samples, ), for example using ravel().\n",
      "  y = column_or_1d(y, warn=True)\n",
      "C:\\Users\\laure\\Anaconda3\\envs\\myenv\\lib\\site-packages\\sklearn\\utils\\validation.py:760: DataConversionWarning: A column-vector y was passed when a 1d array was expected. Please change the shape of y to (n_samples, ), for example using ravel().\n",
      "  y = column_or_1d(y, warn=True)\n",
      "C:\\Users\\laure\\Anaconda3\\envs\\myenv\\lib\\site-packages\\sklearn\\utils\\validation.py:760: DataConversionWarning: A column-vector y was passed when a 1d array was expected. Please change the shape of y to (n_samples, ), for example using ravel().\n",
      "  y = column_or_1d(y, warn=True)\n",
      "C:\\Users\\laure\\Anaconda3\\envs\\myenv\\lib\\site-packages\\sklearn\\utils\\validation.py:760: DataConversionWarning: A column-vector y was passed when a 1d array was expected. Please change the shape of y to (n_samples, ), for example using ravel().\n",
      "  y = column_or_1d(y, warn=True)\n",
      "C:\\Users\\laure\\Anaconda3\\envs\\myenv\\lib\\site-packages\\sklearn\\utils\\validation.py:760: DataConversionWarning: A column-vector y was passed when a 1d array was expected. Please change the shape of y to (n_samples, ), for example using ravel().\n",
      "  y = column_or_1d(y, warn=True)\n",
      "C:\\Users\\laure\\Anaconda3\\envs\\myenv\\lib\\site-packages\\sklearn\\utils\\validation.py:760: DataConversionWarning: A column-vector y was passed when a 1d array was expected. Please change the shape of y to (n_samples, ), for example using ravel().\n",
      "  y = column_or_1d(y, warn=True)\n"
     ]
    },
    {
     "name": "stdout",
     "output_type": "stream",
     "text": [
      "[CV] ........ C=100, degree=6, gamma=0.1, kernel=linear, total=   0.0s\n",
      "[CV] C=100, degree=6, gamma=0.1, kernel=linear .......................\n",
      "[CV] ........ C=100, degree=6, gamma=0.1, kernel=linear, total=   0.0s\n",
      "[CV] C=100, degree=6, gamma=0.1, kernel=linear .......................\n",
      "[CV] ........ C=100, degree=6, gamma=0.1, kernel=linear, total=   0.0s\n",
      "[CV] C=100, degree=6, gamma=0.1, kernel=linear .......................\n",
      "[CV] ........ C=100, degree=6, gamma=0.1, kernel=linear, total=   0.0s\n",
      "[CV] C=100, degree=6, gamma=0.1, kernel=rbf ..........................\n",
      "[CV] ........... C=100, degree=6, gamma=0.1, kernel=rbf, total=   0.0s\n",
      "[CV] C=100, degree=6, gamma=0.1, kernel=rbf ..........................\n",
      "[CV] ........... C=100, degree=6, gamma=0.1, kernel=rbf, total=   0.0s\n",
      "[CV] C=100, degree=6, gamma=0.1, kernel=rbf ..........................\n",
      "[CV] ........... C=100, degree=6, gamma=0.1, kernel=rbf, total=   0.0s\n",
      "[CV] C=100, degree=6, gamma=0.1, kernel=rbf ..........................\n",
      "[CV] ........... C=100, degree=6, gamma=0.1, kernel=rbf, total=   0.0s\n",
      "[CV] C=100, degree=6, gamma=0.1, kernel=rbf ..........................\n",
      "[CV] ........... C=100, degree=6, gamma=0.1, kernel=rbf, total=   0.0s\n",
      "[CV] C=100, degree=6, gamma=0.1, kernel=poly .........................\n",
      "[CV] .......... C=100, degree=6, gamma=0.1, kernel=poly, total=   0.2s\n",
      "[CV] C=100, degree=6, gamma=0.1, kernel=poly .........................\n",
      "[CV] .......... C=100, degree=6, gamma=0.1, kernel=poly, total=   0.2s"
     ]
    },
    {
     "name": "stderr",
     "output_type": "stream",
     "text": [
      "C:\\Users\\laure\\Anaconda3\\envs\\myenv\\lib\\site-packages\\sklearn\\utils\\validation.py:760: DataConversionWarning: A column-vector y was passed when a 1d array was expected. Please change the shape of y to (n_samples, ), for example using ravel().\n",
      "  y = column_or_1d(y, warn=True)\n"
     ]
    },
    {
     "name": "stdout",
     "output_type": "stream",
     "text": [
      "\n",
      "[CV] C=100, degree=6, gamma=0.1, kernel=poly .........................\n",
      "[CV] .......... C=100, degree=6, gamma=0.1, kernel=poly, total=   0.2s\n",
      "[CV] C=100, degree=6, gamma=0.1, kernel=poly .........................\n"
     ]
    },
    {
     "name": "stderr",
     "output_type": "stream",
     "text": [
      "C:\\Users\\laure\\Anaconda3\\envs\\myenv\\lib\\site-packages\\sklearn\\utils\\validation.py:760: DataConversionWarning: A column-vector y was passed when a 1d array was expected. Please change the shape of y to (n_samples, ), for example using ravel().\n",
      "  y = column_or_1d(y, warn=True)\n",
      "C:\\Users\\laure\\Anaconda3\\envs\\myenv\\lib\\site-packages\\sklearn\\utils\\validation.py:760: DataConversionWarning: A column-vector y was passed when a 1d array was expected. Please change the shape of y to (n_samples, ), for example using ravel().\n",
      "  y = column_or_1d(y, warn=True)\n"
     ]
    },
    {
     "name": "stdout",
     "output_type": "stream",
     "text": [
      "[CV] .......... C=100, degree=6, gamma=0.1, kernel=poly, total=   0.2s\n",
      "[CV] C=100, degree=6, gamma=0.1, kernel=poly .........................\n",
      "[CV] .......... C=100, degree=6, gamma=0.1, kernel=poly, total=   0.2s\n",
      "[CV] C=100, degree=6, gamma=0.1, kernel=sigmoid ......................\n"
     ]
    },
    {
     "name": "stderr",
     "output_type": "stream",
     "text": [
      "C:\\Users\\laure\\Anaconda3\\envs\\myenv\\lib\\site-packages\\sklearn\\utils\\validation.py:760: DataConversionWarning: A column-vector y was passed when a 1d array was expected. Please change the shape of y to (n_samples, ), for example using ravel().\n",
      "  y = column_or_1d(y, warn=True)\n",
      "C:\\Users\\laure\\Anaconda3\\envs\\myenv\\lib\\site-packages\\sklearn\\utils\\validation.py:760: DataConversionWarning: A column-vector y was passed when a 1d array was expected. Please change the shape of y to (n_samples, ), for example using ravel().\n",
      "  y = column_or_1d(y, warn=True)\n",
      "C:\\Users\\laure\\Anaconda3\\envs\\myenv\\lib\\site-packages\\sklearn\\utils\\validation.py:760: DataConversionWarning: A column-vector y was passed when a 1d array was expected. Please change the shape of y to (n_samples, ), for example using ravel().\n",
      "  y = column_or_1d(y, warn=True)\n",
      "C:\\Users\\laure\\Anaconda3\\envs\\myenv\\lib\\site-packages\\sklearn\\utils\\validation.py:760: DataConversionWarning: A column-vector y was passed when a 1d array was expected. Please change the shape of y to (n_samples, ), for example using ravel().\n",
      "  y = column_or_1d(y, warn=True)\n",
      "C:\\Users\\laure\\Anaconda3\\envs\\myenv\\lib\\site-packages\\sklearn\\utils\\validation.py:760: DataConversionWarning: A column-vector y was passed when a 1d array was expected. Please change the shape of y to (n_samples, ), for example using ravel().\n",
      "  y = column_or_1d(y, warn=True)\n",
      "C:\\Users\\laure\\Anaconda3\\envs\\myenv\\lib\\site-packages\\sklearn\\utils\\validation.py:760: DataConversionWarning: A column-vector y was passed when a 1d array was expected. Please change the shape of y to (n_samples, ), for example using ravel().\n",
      "  y = column_or_1d(y, warn=True)\n",
      "C:\\Users\\laure\\Anaconda3\\envs\\myenv\\lib\\site-packages\\sklearn\\utils\\validation.py:760: DataConversionWarning: A column-vector y was passed when a 1d array was expected. Please change the shape of y to (n_samples, ), for example using ravel().\n",
      "  y = column_or_1d(y, warn=True)\n",
      "C:\\Users\\laure\\Anaconda3\\envs\\myenv\\lib\\site-packages\\sklearn\\utils\\validation.py:760: DataConversionWarning: A column-vector y was passed when a 1d array was expected. Please change the shape of y to (n_samples, ), for example using ravel().\n",
      "  y = column_or_1d(y, warn=True)\n",
      "C:\\Users\\laure\\Anaconda3\\envs\\myenv\\lib\\site-packages\\sklearn\\utils\\validation.py:760: DataConversionWarning: A column-vector y was passed when a 1d array was expected. Please change the shape of y to (n_samples, ), for example using ravel().\n",
      "  y = column_or_1d(y, warn=True)\n",
      "C:\\Users\\laure\\Anaconda3\\envs\\myenv\\lib\\site-packages\\sklearn\\utils\\validation.py:760: DataConversionWarning: A column-vector y was passed when a 1d array was expected. Please change the shape of y to (n_samples, ), for example using ravel().\n",
      "  y = column_or_1d(y, warn=True)\n",
      "C:\\Users\\laure\\Anaconda3\\envs\\myenv\\lib\\site-packages\\sklearn\\utils\\validation.py:760: DataConversionWarning: A column-vector y was passed when a 1d array was expected. Please change the shape of y to (n_samples, ), for example using ravel().\n",
      "  y = column_or_1d(y, warn=True)\n",
      "C:\\Users\\laure\\Anaconda3\\envs\\myenv\\lib\\site-packages\\sklearn\\utils\\validation.py:760: DataConversionWarning: A column-vector y was passed when a 1d array was expected. Please change the shape of y to (n_samples, ), for example using ravel().\n",
      "  y = column_or_1d(y, warn=True)\n"
     ]
    },
    {
     "name": "stdout",
     "output_type": "stream",
     "text": [
      "[CV] ....... C=100, degree=6, gamma=0.1, kernel=sigmoid, total=   0.0s\n",
      "[CV] C=100, degree=6, gamma=0.1, kernel=sigmoid ......................\n",
      "[CV] ....... C=100, degree=6, gamma=0.1, kernel=sigmoid, total=   0.0s\n",
      "[CV] C=100, degree=6, gamma=0.1, kernel=sigmoid ......................\n",
      "[CV] ....... C=100, degree=6, gamma=0.1, kernel=sigmoid, total=   0.0s\n",
      "[CV] C=100, degree=6, gamma=0.1, kernel=sigmoid ......................\n",
      "[CV] ....... C=100, degree=6, gamma=0.1, kernel=sigmoid, total=   0.0s\n",
      "[CV] C=100, degree=6, gamma=0.1, kernel=sigmoid ......................\n",
      "[CV] ....... C=100, degree=6, gamma=0.1, kernel=sigmoid, total=   0.0s\n",
      "[CV] C=100, degree=6, gamma=0.01, kernel=linear ......................\n",
      "[CV] ....... C=100, degree=6, gamma=0.01, kernel=linear, total=   0.0s\n",
      "[CV] C=100, degree=6, gamma=0.01, kernel=linear ......................\n",
      "[CV] ....... C=100, degree=6, gamma=0.01, kernel=linear, total=   0.0s\n",
      "[CV] C=100, degree=6, gamma=0.01, kernel=linear ......................\n",
      "[CV] ....... C=100, degree=6, gamma=0.01, kernel=linear, total=   0.0s\n",
      "[CV] C=100, degree=6, gamma=0.01, kernel=linear ......................\n",
      "[CV] ....... C=100, degree=6, gamma=0.01, kernel=linear, total=   0.0s\n",
      "[CV] C=100, degree=6, gamma=0.01, kernel=linear ......................\n",
      "[CV] ....... C=100, degree=6, gamma=0.01, kernel=linear, total=   0.0s\n",
      "[CV] C=100, degree=6, gamma=0.01, kernel=rbf .........................\n",
      "[CV] .......... C=100, degree=6, gamma=0.01, kernel=rbf, total=   0.0s\n",
      "[CV] C=100, degree=6, gamma=0.01, kernel=rbf .........................\n",
      "[CV] .......... C=100, degree=6, gamma=0.01, kernel=rbf, total=   0.0s\n",
      "[CV] C=100, degree=6, gamma=0.01, kernel=rbf .........................\n",
      "[CV] .......... C=100, degree=6, gamma=0.01, kernel=rbf, total=   0.0s\n",
      "[CV] C=100, degree=6, gamma=0.01, kernel=rbf .........................\n",
      "[CV] .......... C=100, degree=6, gamma=0.01, kernel=rbf, total=   0.0s\n",
      "[CV] C=100, degree=6, gamma=0.01, kernel=rbf .........................\n",
      "[CV] .......... C=100, degree=6, gamma=0.01, kernel=rbf, total=   0.0s\n",
      "[CV] C=100, degree=6, gamma=0.01, kernel=poly ........................\n"
     ]
    },
    {
     "name": "stderr",
     "output_type": "stream",
     "text": [
      "C:\\Users\\laure\\Anaconda3\\envs\\myenv\\lib\\site-packages\\sklearn\\utils\\validation.py:760: DataConversionWarning: A column-vector y was passed when a 1d array was expected. Please change the shape of y to (n_samples, ), for example using ravel().\n",
      "  y = column_or_1d(y, warn=True)\n",
      "C:\\Users\\laure\\Anaconda3\\envs\\myenv\\lib\\site-packages\\sklearn\\utils\\validation.py:760: DataConversionWarning: A column-vector y was passed when a 1d array was expected. Please change the shape of y to (n_samples, ), for example using ravel().\n",
      "  y = column_or_1d(y, warn=True)\n",
      "C:\\Users\\laure\\Anaconda3\\envs\\myenv\\lib\\site-packages\\sklearn\\utils\\validation.py:760: DataConversionWarning: A column-vector y was passed when a 1d array was expected. Please change the shape of y to (n_samples, ), for example using ravel().\n",
      "  y = column_or_1d(y, warn=True)\n",
      "C:\\Users\\laure\\Anaconda3\\envs\\myenv\\lib\\site-packages\\sklearn\\utils\\validation.py:760: DataConversionWarning: A column-vector y was passed when a 1d array was expected. Please change the shape of y to (n_samples, ), for example using ravel().\n",
      "  y = column_or_1d(y, warn=True)\n",
      "C:\\Users\\laure\\Anaconda3\\envs\\myenv\\lib\\site-packages\\sklearn\\utils\\validation.py:760: DataConversionWarning: A column-vector y was passed when a 1d array was expected. Please change the shape of y to (n_samples, ), for example using ravel().\n",
      "  y = column_or_1d(y, warn=True)\n"
     ]
    },
    {
     "name": "stdout",
     "output_type": "stream",
     "text": [
      "[CV] ......... C=100, degree=6, gamma=0.01, kernel=poly, total=   0.2s\n",
      "[CV] C=100, degree=6, gamma=0.01, kernel=poly ........................\n",
      "[CV] ......... C=100, degree=6, gamma=0.01, kernel=poly, total=   0.1s\n",
      "[CV] C=100, degree=6, gamma=0.01, kernel=poly ........................\n"
     ]
    },
    {
     "name": "stderr",
     "output_type": "stream",
     "text": [
      "C:\\Users\\laure\\Anaconda3\\envs\\myenv\\lib\\site-packages\\sklearn\\utils\\validation.py:760: DataConversionWarning: A column-vector y was passed when a 1d array was expected. Please change the shape of y to (n_samples, ), for example using ravel().\n",
      "  y = column_or_1d(y, warn=True)\n",
      "C:\\Users\\laure\\Anaconda3\\envs\\myenv\\lib\\site-packages\\sklearn\\utils\\validation.py:760: DataConversionWarning: A column-vector y was passed when a 1d array was expected. Please change the shape of y to (n_samples, ), for example using ravel().\n",
      "  y = column_or_1d(y, warn=True)\n"
     ]
    },
    {
     "name": "stdout",
     "output_type": "stream",
     "text": [
      "[CV] ......... C=100, degree=6, gamma=0.01, kernel=poly, total=   0.1s\n",
      "[CV] C=100, degree=6, gamma=0.01, kernel=poly ........................\n",
      "[CV] ......... C=100, degree=6, gamma=0.01, kernel=poly, total=   0.2s\n",
      "[CV] C=100, degree=6, gamma=0.01, kernel=poly ........................\n"
     ]
    },
    {
     "name": "stderr",
     "output_type": "stream",
     "text": [
      "C:\\Users\\laure\\Anaconda3\\envs\\myenv\\lib\\site-packages\\sklearn\\utils\\validation.py:760: DataConversionWarning: A column-vector y was passed when a 1d array was expected. Please change the shape of y to (n_samples, ), for example using ravel().\n",
      "  y = column_or_1d(y, warn=True)\n",
      "C:\\Users\\laure\\Anaconda3\\envs\\myenv\\lib\\site-packages\\sklearn\\utils\\validation.py:760: DataConversionWarning: A column-vector y was passed when a 1d array was expected. Please change the shape of y to (n_samples, ), for example using ravel().\n",
      "  y = column_or_1d(y, warn=True)\n"
     ]
    },
    {
     "name": "stdout",
     "output_type": "stream",
     "text": [
      "[CV] ......... C=100, degree=6, gamma=0.01, kernel=poly, total=   0.1s\n",
      "[CV] C=100, degree=6, gamma=0.01, kernel=sigmoid .....................\n",
      "[CV] ...... C=100, degree=6, gamma=0.01, kernel=sigmoid, total=   0.0s\n",
      "[CV] C=100, degree=6, gamma=0.01, kernel=sigmoid .....................\n",
      "[CV] ...... C=100, degree=6, gamma=0.01, kernel=sigmoid, total=   0.0s\n",
      "[CV] C=100, degree=6, gamma=0.01, kernel=sigmoid .....................\n",
      "[CV] ...... C=100, degree=6, gamma=0.01, kernel=sigmoid, total=   0.0s\n",
      "[CV] C=100, degree=6, gamma=0.01, kernel=sigmoid .....................\n",
      "[CV] ...... C=100, degree=6, gamma=0.01, kernel=sigmoid, total=   0.0s\n",
      "[CV] C=100, degree=6, gamma=0.01, kernel=sigmoid .....................\n",
      "[CV] ...... C=100, degree=6, gamma=0.01, kernel=sigmoid, total=   0.0s\n",
      "[CV] C=100, degree=6, gamma=0.001, kernel=linear .....................\n",
      "[CV] ...... C=100, degree=6, gamma=0.001, kernel=linear, total=   0.0s\n",
      "[CV] C=100, degree=6, gamma=0.001, kernel=linear .....................\n",
      "[CV] ...... C=100, degree=6, gamma=0.001, kernel=linear, total=   0.0s\n",
      "[CV] C=100, degree=6, gamma=0.001, kernel=linear .....................\n",
      "[CV] ...... C=100, degree=6, gamma=0.001, kernel=linear, total=   0.0s\n",
      "[CV] C=100, degree=6, gamma=0.001, kernel=linear .....................\n",
      "[CV] ...... C=100, degree=6, gamma=0.001, kernel=linear, total=   0.0s\n",
      "[CV] C=100, degree=6, gamma=0.001, kernel=linear .....................\n",
      "[CV] ...... C=100, degree=6, gamma=0.001, kernel=linear, total=   0.0s\n",
      "[CV] C=100, degree=6, gamma=0.001, kernel=rbf ........................\n",
      "[CV] ......... C=100, degree=6, gamma=0.001, kernel=rbf, total=   0.0s\n",
      "[CV] C=100, degree=6, gamma=0.001, kernel=rbf ........................\n",
      "[CV] ......... C=100, degree=6, gamma=0.001, kernel=rbf, total=   0.0s\n",
      "[CV] C=100, degree=6, gamma=0.001, kernel=rbf ........................\n",
      "[CV] ......... C=100, degree=6, gamma=0.001, kernel=rbf, total=   0.0s\n",
      "[CV] C=100, degree=6, gamma=0.001, kernel=rbf ........................\n"
     ]
    },
    {
     "name": "stderr",
     "output_type": "stream",
     "text": [
      "C:\\Users\\laure\\Anaconda3\\envs\\myenv\\lib\\site-packages\\sklearn\\utils\\validation.py:760: DataConversionWarning: A column-vector y was passed when a 1d array was expected. Please change the shape of y to (n_samples, ), for example using ravel().\n",
      "  y = column_or_1d(y, warn=True)\n",
      "C:\\Users\\laure\\Anaconda3\\envs\\myenv\\lib\\site-packages\\sklearn\\utils\\validation.py:760: DataConversionWarning: A column-vector y was passed when a 1d array was expected. Please change the shape of y to (n_samples, ), for example using ravel().\n",
      "  y = column_or_1d(y, warn=True)\n",
      "C:\\Users\\laure\\Anaconda3\\envs\\myenv\\lib\\site-packages\\sklearn\\utils\\validation.py:760: DataConversionWarning: A column-vector y was passed when a 1d array was expected. Please change the shape of y to (n_samples, ), for example using ravel().\n",
      "  y = column_or_1d(y, warn=True)\n",
      "C:\\Users\\laure\\Anaconda3\\envs\\myenv\\lib\\site-packages\\sklearn\\utils\\validation.py:760: DataConversionWarning: A column-vector y was passed when a 1d array was expected. Please change the shape of y to (n_samples, ), for example using ravel().\n",
      "  y = column_or_1d(y, warn=True)\n",
      "C:\\Users\\laure\\Anaconda3\\envs\\myenv\\lib\\site-packages\\sklearn\\utils\\validation.py:760: DataConversionWarning: A column-vector y was passed when a 1d array was expected. Please change the shape of y to (n_samples, ), for example using ravel().\n",
      "  y = column_or_1d(y, warn=True)\n",
      "C:\\Users\\laure\\Anaconda3\\envs\\myenv\\lib\\site-packages\\sklearn\\utils\\validation.py:760: DataConversionWarning: A column-vector y was passed when a 1d array was expected. Please change the shape of y to (n_samples, ), for example using ravel().\n",
      "  y = column_or_1d(y, warn=True)\n",
      "C:\\Users\\laure\\Anaconda3\\envs\\myenv\\lib\\site-packages\\sklearn\\utils\\validation.py:760: DataConversionWarning: A column-vector y was passed when a 1d array was expected. Please change the shape of y to (n_samples, ), for example using ravel().\n",
      "  y = column_or_1d(y, warn=True)\n",
      "C:\\Users\\laure\\Anaconda3\\envs\\myenv\\lib\\site-packages\\sklearn\\utils\\validation.py:760: DataConversionWarning: A column-vector y was passed when a 1d array was expected. Please change the shape of y to (n_samples, ), for example using ravel().\n",
      "  y = column_or_1d(y, warn=True)\n",
      "C:\\Users\\laure\\Anaconda3\\envs\\myenv\\lib\\site-packages\\sklearn\\utils\\validation.py:760: DataConversionWarning: A column-vector y was passed when a 1d array was expected. Please change the shape of y to (n_samples, ), for example using ravel().\n",
      "  y = column_or_1d(y, warn=True)\n",
      "C:\\Users\\laure\\Anaconda3\\envs\\myenv\\lib\\site-packages\\sklearn\\utils\\validation.py:760: DataConversionWarning: A column-vector y was passed when a 1d array was expected. Please change the shape of y to (n_samples, ), for example using ravel().\n",
      "  y = column_or_1d(y, warn=True)\n",
      "C:\\Users\\laure\\Anaconda3\\envs\\myenv\\lib\\site-packages\\sklearn\\utils\\validation.py:760: DataConversionWarning: A column-vector y was passed when a 1d array was expected. Please change the shape of y to (n_samples, ), for example using ravel().\n",
      "  y = column_or_1d(y, warn=True)\n",
      "C:\\Users\\laure\\Anaconda3\\envs\\myenv\\lib\\site-packages\\sklearn\\utils\\validation.py:760: DataConversionWarning: A column-vector y was passed when a 1d array was expected. Please change the shape of y to (n_samples, ), for example using ravel().\n",
      "  y = column_or_1d(y, warn=True)\n",
      "C:\\Users\\laure\\Anaconda3\\envs\\myenv\\lib\\site-packages\\sklearn\\utils\\validation.py:760: DataConversionWarning: A column-vector y was passed when a 1d array was expected. Please change the shape of y to (n_samples, ), for example using ravel().\n",
      "  y = column_or_1d(y, warn=True)\n",
      "C:\\Users\\laure\\Anaconda3\\envs\\myenv\\lib\\site-packages\\sklearn\\utils\\validation.py:760: DataConversionWarning: A column-vector y was passed when a 1d array was expected. Please change the shape of y to (n_samples, ), for example using ravel().\n",
      "  y = column_or_1d(y, warn=True)\n",
      "C:\\Users\\laure\\Anaconda3\\envs\\myenv\\lib\\site-packages\\sklearn\\utils\\validation.py:760: DataConversionWarning: A column-vector y was passed when a 1d array was expected. Please change the shape of y to (n_samples, ), for example using ravel().\n",
      "  y = column_or_1d(y, warn=True)\n",
      "C:\\Users\\laure\\Anaconda3\\envs\\myenv\\lib\\site-packages\\sklearn\\utils\\validation.py:760: DataConversionWarning: A column-vector y was passed when a 1d array was expected. Please change the shape of y to (n_samples, ), for example using ravel().\n",
      "  y = column_or_1d(y, warn=True)\n",
      "C:\\Users\\laure\\Anaconda3\\envs\\myenv\\lib\\site-packages\\sklearn\\utils\\validation.py:760: DataConversionWarning: A column-vector y was passed when a 1d array was expected. Please change the shape of y to (n_samples, ), for example using ravel().\n",
      "  y = column_or_1d(y, warn=True)\n"
     ]
    },
    {
     "name": "stdout",
     "output_type": "stream",
     "text": [
      "[CV] ......... C=100, degree=6, gamma=0.001, kernel=rbf, total=   0.0s\n",
      "[CV] C=100, degree=6, gamma=0.001, kernel=rbf ........................\n",
      "[CV] ......... C=100, degree=6, gamma=0.001, kernel=rbf, total=   0.0s\n",
      "[CV] C=100, degree=6, gamma=0.001, kernel=poly .......................\n",
      "[CV] ........ C=100, degree=6, gamma=0.001, kernel=poly, total=   0.1s\n",
      "[CV] C=100, degree=6, gamma=0.001, kernel=poly .......................\n",
      "[CV] ........ C=100, degree=6, gamma=0.001, kernel=poly, total=   0.1s\n",
      "[CV] C=100, degree=6, gamma=0.001, kernel=poly .......................\n",
      "[CV] ........ C=100, degree=6, gamma=0.001, kernel=poly, total=   0.2s\n",
      "[CV] C=100, degree=6, gamma=0.001, kernel=poly .......................\n"
     ]
    },
    {
     "name": "stderr",
     "output_type": "stream",
     "text": [
      "C:\\Users\\laure\\Anaconda3\\envs\\myenv\\lib\\site-packages\\sklearn\\utils\\validation.py:760: DataConversionWarning: A column-vector y was passed when a 1d array was expected. Please change the shape of y to (n_samples, ), for example using ravel().\n",
      "  y = column_or_1d(y, warn=True)\n",
      "C:\\Users\\laure\\Anaconda3\\envs\\myenv\\lib\\site-packages\\sklearn\\utils\\validation.py:760: DataConversionWarning: A column-vector y was passed when a 1d array was expected. Please change the shape of y to (n_samples, ), for example using ravel().\n",
      "  y = column_or_1d(y, warn=True)\n"
     ]
    },
    {
     "name": "stdout",
     "output_type": "stream",
     "text": [
      "[CV] ........ C=100, degree=6, gamma=0.001, kernel=poly, total=   0.2s\n",
      "[CV] C=100, degree=6, gamma=0.001, kernel=poly .......................\n",
      "[CV] ........ C=100, degree=6, gamma=0.001, kernel=poly, total=   0.2s\n",
      "[CV] C=100, degree=6, gamma=0.001, kernel=sigmoid ....................\n"
     ]
    },
    {
     "name": "stderr",
     "output_type": "stream",
     "text": [
      "C:\\Users\\laure\\Anaconda3\\envs\\myenv\\lib\\site-packages\\sklearn\\utils\\validation.py:760: DataConversionWarning: A column-vector y was passed when a 1d array was expected. Please change the shape of y to (n_samples, ), for example using ravel().\n",
      "  y = column_or_1d(y, warn=True)\n",
      "C:\\Users\\laure\\Anaconda3\\envs\\myenv\\lib\\site-packages\\sklearn\\utils\\validation.py:760: DataConversionWarning: A column-vector y was passed when a 1d array was expected. Please change the shape of y to (n_samples, ), for example using ravel().\n",
      "  y = column_or_1d(y, warn=True)\n"
     ]
    },
    {
     "name": "stdout",
     "output_type": "stream",
     "text": [
      "[CV] ..... C=100, degree=6, gamma=0.001, kernel=sigmoid, total=   0.0s\n",
      "[CV] C=100, degree=6, gamma=0.001, kernel=sigmoid ....................\n",
      "[CV] ..... C=100, degree=6, gamma=0.001, kernel=sigmoid, total=   0.0s\n",
      "[CV] C=100, degree=6, gamma=0.001, kernel=sigmoid ....................\n",
      "[CV] ..... C=100, degree=6, gamma=0.001, kernel=sigmoid, total=   0.0s\n",
      "[CV] C=100, degree=6, gamma=0.001, kernel=sigmoid ....................\n",
      "[CV] ..... C=100, degree=6, gamma=0.001, kernel=sigmoid, total=   0.0s\n",
      "[CV] C=100, degree=6, gamma=0.001, kernel=sigmoid ....................\n",
      "[CV] ..... C=100, degree=6, gamma=0.001, kernel=sigmoid, total=   0.0s\n"
     ]
    },
    {
     "name": "stderr",
     "output_type": "stream",
     "text": [
      "C:\\Users\\laure\\Anaconda3\\envs\\myenv\\lib\\site-packages\\sklearn\\utils\\validation.py:760: DataConversionWarning: A column-vector y was passed when a 1d array was expected. Please change the shape of y to (n_samples, ), for example using ravel().\n",
      "  y = column_or_1d(y, warn=True)\n",
      "C:\\Users\\laure\\Anaconda3\\envs\\myenv\\lib\\site-packages\\sklearn\\utils\\validation.py:760: DataConversionWarning: A column-vector y was passed when a 1d array was expected. Please change the shape of y to (n_samples, ), for example using ravel().\n",
      "  y = column_or_1d(y, warn=True)\n",
      "C:\\Users\\laure\\Anaconda3\\envs\\myenv\\lib\\site-packages\\sklearn\\utils\\validation.py:760: DataConversionWarning: A column-vector y was passed when a 1d array was expected. Please change the shape of y to (n_samples, ), for example using ravel().\n",
      "  y = column_or_1d(y, warn=True)\n",
      "C:\\Users\\laure\\Anaconda3\\envs\\myenv\\lib\\site-packages\\sklearn\\utils\\validation.py:760: DataConversionWarning: A column-vector y was passed when a 1d array was expected. Please change the shape of y to (n_samples, ), for example using ravel().\n",
      "  y = column_or_1d(y, warn=True)\n",
      "[Parallel(n_jobs=1)]: Done 1600 out of 1600 | elapsed:  1.8min finished\n",
      "C:\\Users\\laure\\Anaconda3\\envs\\myenv\\lib\\site-packages\\sklearn\\utils\\validation.py:760: DataConversionWarning: A column-vector y was passed when a 1d array was expected. Please change the shape of y to (n_samples, ), for example using ravel().\n",
      "  y = column_or_1d(y, warn=True)\n"
     ]
    },
    {
     "data": {
      "text/plain": [
       "GridSearchCV(cv=None, error_score=nan,\n",
       "             estimator=SVC(C=1.0, break_ties=False, cache_size=200,\n",
       "                           class_weight=None, coef0=0.0,\n",
       "                           decision_function_shape='ovr', degree=3,\n",
       "                           gamma='scale', kernel='rbf', max_iter=-1,\n",
       "                           probability=False, random_state=None, shrinking=True,\n",
       "                           tol=0.001, verbose=False),\n",
       "             iid='deprecated', n_jobs=None,\n",
       "             param_grid={'C': [0.5, 1, 10, 100], 'degree': [2, 3, 4, 5, 6],\n",
       "                         'gamma': [1, 0.1, 0.01, 0.001],\n",
       "                         'kernel': ['linear', 'rbf', 'poly', 'sigmoid']},\n",
       "             pre_dispatch='2*n_jobs', refit=True, return_train_score=False,\n",
       "             scoring=None, verbose=2)"
      ]
     },
     "execution_count": 3,
     "metadata": {},
     "output_type": "execute_result"
    }
   ],
   "source": [
    "#SVM tune parameters\n",
    "param_grid = {'C': [0.5,1, 10, 100], 'gamma': [1,0.1,0.01,0.001],'degree': [2,3,4,5,6],'kernel': ['linear','rbf', 'poly', 'sigmoid']}\n",
    "\n",
    "\n",
    "#train SVM to training data\n",
    "mod = GridSearchCV(SVC(),param_grid,refit=True,verbose=2)\n",
    "mod.fit(train_pca,train_y)\n"
   ]
  },
  {
   "cell_type": "code",
   "execution_count": 4,
   "metadata": {},
   "outputs": [
    {
     "name": "stdout",
     "output_type": "stream",
     "text": [
      "SVC(C=0.5, break_ties=False, cache_size=200, class_weight=None, coef0=0.0,\n",
      "    decision_function_shape='ovr', degree=2, gamma=1, kernel='linear',\n",
      "    max_iter=-1, probability=False, random_state=None, shrinking=True,\n",
      "    tol=0.001, verbose=False)\n"
     ]
    }
   ],
   "source": [
    "print(mod.best_estimator_)"
   ]
  },
  {
   "cell_type": "code",
   "execution_count": 5,
   "metadata": {},
   "outputs": [
    {
     "name": "stdout",
     "output_type": "stream",
     "text": [
      "TEST\n",
      "[[677   0]\n",
      " [  0 165]]\n",
      "              precision    recall  f1-score   support\n",
      "\n",
      "           0       1.00      1.00      1.00       677\n",
      "           1       1.00      1.00      1.00       165\n",
      "\n",
      "    accuracy                           1.00       842\n",
      "   macro avg       1.00      1.00      1.00       842\n",
      "weighted avg       1.00      1.00      1.00       842\n",
      "\n",
      "VALIDATION\n",
      "[[564  93]\n",
      " [ 84 102]]\n",
      "              precision    recall  f1-score   support\n",
      "\n",
      "           0       0.87      0.86      0.86       657\n",
      "           1       0.52      0.55      0.54       186\n",
      "\n",
      "    accuracy                           0.79       843\n",
      "   macro avg       0.70      0.70      0.70       843\n",
      "weighted avg       0.79      0.79      0.79       843\n",
      "\n"
     ]
    }
   ],
   "source": [
    "test_pred = mod.predict(test_pca)\n",
    "val_pred = mod.predict(val_pca)\n",
    "print(\"TEST\")\n",
    "print(confusion_matrix(test_y,test_pred))\n",
    "print(classification_report(test_y,test_pred))\n",
    "print('VALIDATION')\n",
    "print(confusion_matrix(validation_y,val_pred))\n",
    "print(classification_report(validation_y,val_pred))"
   ]
  },
  {
   "cell_type": "code",
   "execution_count": null,
   "metadata": {},
   "outputs": [],
   "source": []
  },
  {
   "cell_type": "code",
   "execution_count": null,
   "metadata": {},
   "outputs": [],
   "source": []
  }
 ],
 "metadata": {
  "kernelspec": {
   "display_name": "myenv",
   "language": "python",
   "name": "myenv"
  },
  "language_info": {
   "codemirror_mode": {
    "name": "ipython",
    "version": 3
   },
   "file_extension": ".py",
   "mimetype": "text/x-python",
   "name": "python",
   "nbconvert_exporter": "python",
   "pygments_lexer": "ipython3",
   "version": "3.6.10"
  }
 },
 "nbformat": 4,
 "nbformat_minor": 2
}
