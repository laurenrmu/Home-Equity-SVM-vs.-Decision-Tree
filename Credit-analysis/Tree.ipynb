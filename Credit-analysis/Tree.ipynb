{
 "cells": [
  {
   "cell_type": "code",
   "execution_count": 13,
   "metadata": {},
   "outputs": [],
   "source": [
    "import numpy as np\n",
    "import pandas as pd\n",
    "from sklearn import tree\n"
   ]
  },
  {
   "cell_type": "code",
   "execution_count": 14,
   "metadata": {},
   "outputs": [],
   "source": [
    "#import cleaned data\n",
    "train = pd.read_csv('C:/Users/laure/Credit-analysis/train_x.csv')\n",
    "test=  pd.read_csv('C:/Users/laure/Credit-analysis/test_x.csv')\n",
    "validation=  pd.read_csv('C:/Users/laure/Credit-analysis/validation_x.csv')\n",
    "\n",
    "train_y =  pd.read_csv('C:/Users/laure/Credit-analysis/train_y.csv')\n",
    "test_y = pd.read_csv('C:/Users/laure/Credit-analysis/test_y.csv')\n",
    "validation_y =  pd.read_csv('C:/Users/laure/Credit-analysis/validation_y.csv')\n",
    "col_names = train.columns.values.tolist()\n",
    "\n",
    "\n"
   ]
  },
  {
   "cell_type": "code",
   "execution_count": 21,
   "metadata": {},
   "outputs": [
    {
     "name": "stdout",
     "output_type": "stream",
     "text": [
      "The training score:  1.0\n"
     ]
    }
   ],
   "source": [
    "#train tree and plot\n",
    "clas= tree.DecisionTreeClassifier()\n",
    "clas = clas.fit(train, train_y)\n",
    "print(\"The training score: \",clas.score(train,train_y))\n"
   ]
  },
  {
   "cell_type": "code",
   "execution_count": 19,
   "metadata": {},
   "outputs": [
    {
     "name": "stdout",
     "output_type": "stream",
     "text": [
      "Test percent:  1.0 and Validation percent:  1.0\n"
     ]
    }
   ],
   "source": [
    "print(\"Test percent: \",clas.score(test,test_y), \"and Validation percent: \",\n",
    "clas.score(validation,validation_y))\n"
   ]
  },
  {
   "cell_type": "code",
   "execution_count": 11,
   "metadata": {},
   "outputs": [
    {
     "data": {
      "text/plain": [
       "True"
      ]
     },
     "execution_count": 11,
     "metadata": {},
     "output_type": "execute_result"
    }
   ],
   "source": []
  },
  {
   "cell_type": "code",
   "execution_count": null,
   "metadata": {},
   "outputs": [],
   "source": []
  }
 ],
 "metadata": {
  "kernelspec": {
   "display_name": "myenv",
   "language": "python",
   "name": "myenv"
  },
  "language_info": {
   "codemirror_mode": {
    "name": "ipython",
    "version": 3
   },
   "file_extension": ".py",
   "mimetype": "text/x-python",
   "name": "python",
   "nbconvert_exporter": "python",
   "pygments_lexer": "ipython3",
   "version": "3.6.10"
  }
 },
 "nbformat": 4,
 "nbformat_minor": 2
}
